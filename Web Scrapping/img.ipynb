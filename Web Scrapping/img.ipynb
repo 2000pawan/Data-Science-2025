{
 "cells": [
  {
   "cell_type": "code",
   "execution_count": 75,
   "id": "d03e6705-3008-40b3-894e-8ca94b85ce40",
   "metadata": {
    "tags": []
   },
   "outputs": [],
   "source": [
    "import requests as re\n",
    "import bs4 as b"
   ]
  },
  {
   "cell_type": "code",
   "execution_count": 154,
   "id": "238afc89-73ef-4715-9d0c-4eec649330c6",
   "metadata": {
    "tags": []
   },
   "outputs": [],
   "source": [
    "con=re.get('https://www.google.co.in/search?sca_esv=4b3e726407594cc1&sxsrf=ACQVn083YpPAR93KmeN4o56H0guvW_H_NQ:1710240739002&q=space+images&tbm=isch&source=univ&fir=j5HfKaV996sDbM%252C6_X7mFNebacvlM%252C_%253Bxt-Qi63YZwydgM%252CuUsw3zSxFAqoLM%252C_%253BUpRoCM5t_0cKtM%252CYz-4WNYbr76jwM%252C_%253B7GmT3gVR4CebwM%252C6_X7mFNebacvlM%252C_%253BtHPW49gI58VcXM%252C0cnnzJr72ut3FM%252C_%253BrBghNYJj3AfSSM%252CybXxuw4EOUEOSM%252C_%253BfzIh7mWZSphw3M%252Cc1Tjo1JWxhEFsM%252C_%253BOxmNToM0oG6UDM%252CmvaiJbEcSefBKM%252C_%253BaE1YUHgaChZDEM%252CfRsISDFwfTs4GM%252C_%253BBVrOF7jCh3f1-M%252COj3CgY7tJL9T7M%252C_%253BllGoxgDU-4LEwM%252C_8d-jfYnv1HJPM%252C_%253B8VK1Kh11EItIhM%252CuUsw3zSxFAqoLM%252C_%253B7kDSJkAaxca4uM%252CI4-VVXZuCFLJ5M%252C_%253B62qr0x-pEjtMKM%252C-njKxwvnqSWTfM%252C_%253BonINjeGjq9HkjM%252CAT8JVRsuG90JmM%252C_%253BZR8CuqtywqgPfM%252C0cnnzJr72ut3FM%252C_%253BPzZF3gh6inT55M%252CGVY76LmiQ_HZ7M%252C_%253BeLCbr077M2WfgM%252Cc1Tjo1JWxhEFsM%252C_%253BfpB1Ib9JbJzZZM%252C6_X7mFNebacvlM%252C_%253BNLfjhOvUjpqzfM%252C09NYshGJwepaAM%252C_%253Bp_IJh5fzL-IXZM%252CXPHV8eEPbNAF3M%252C_%253Bqh8UuaCU3G7DXM%252C_8d-jfYnv1HJPM%252C_%253Bs-R5hxP9QCqYtM%252CuUsw3zSxFAqoLM%252C_%253BaqPmaZZS4-34dM%252CfRsISDFwfTs4GM%252C_%253BYJS0FbWASDsoOM%252CddAL53BtKt4lhM%252C_&usg=AI4_-kQBqBFR_EIt5NubQtj6xSk_JcDWCw&sa=X&ved=2ahUKEwif4Omdx-6EAxVaZ2wGHc-dBTsQsAR6BAgOEAM&biw=1698&bih=832&dpr=1.1')"
   ]
  },
  {
   "cell_type": "code",
   "execution_count": 155,
   "id": "0a080449-a174-42da-9169-0206daa118b2",
   "metadata": {
    "tags": []
   },
   "outputs": [],
   "source": [
    "data=con.text"
   ]
  },
  {
   "cell_type": "code",
   "execution_count": 156,
   "id": "55a040c6-309b-4b33-9c87-68af55733761",
   "metadata": {
    "tags": []
   },
   "outputs": [],
   "source": [
    "soup=b.BeautifulSoup(data)"
   ]
  },
  {
   "cell_type": "code",
   "execution_count": 157,
   "id": "cd99d9f0-8c86-454d-995e-bb1a712d7653",
   "metadata": {
    "tags": []
   },
   "outputs": [
    {
     "name": "stdout",
     "output_type": "stream",
     "text": [
      "<img alt=\"Google\" class=\"kgJEQe\" src=\"/images/branding/searchlogo/1x/googlelogo_desk_heirloom_color_150x55dp.gif\"/>\n",
      "<img alt=\"\" class=\"DS1iW\" src=\"https://encrypted-tbn0.gstatic.com/images?q=tbn:ANd9GcRtDGx4hqvvG0CNrbLgoJsTurwbhaL4LorWzjIOq8gndhAKEVjV2Ep9PU_j3qw&amp;s\"/>\n",
      "<img alt=\"\" class=\"DS1iW\" src=\"https://encrypted-tbn0.gstatic.com/images?q=tbn:ANd9GcTvt4PjbPEgWBXWmzfQUIm-Nax_z6N9jkgiG4EJJJuelUNWlVH7Qli6WQQY7cY&amp;s\"/>\n",
      "<img alt=\"\" class=\"DS1iW\" src=\"https://encrypted-tbn0.gstatic.com/images?q=tbn:ANd9GcRPNMK95mZfMvaHuevh1CrKMoPcwlHhnx2J2bfINjmCB0lax89Z3NU3bJMFuzU&amp;s\"/>\n",
      "<img alt=\"\" class=\"DS1iW\" src=\"https://encrypted-tbn0.gstatic.com/images?q=tbn:ANd9GcQ1B-pTOYGfEyqKywEnbCFEXC4UQ3RzcLJe-89SEaTUwl2nj18lDsssSadUc1k&amp;s\"/>\n",
      "<img alt=\"\" class=\"DS1iW\" src=\"https://encrypted-tbn0.gstatic.com/images?q=tbn:ANd9GcQP0OPPMcb_o2yh7TuvC4UomUd8Ot2byIFshQMTv7jlWqXMMNQUoYaCYDcrvA&amp;s\"/>\n",
      "<img alt=\"\" class=\"DS1iW\" src=\"https://encrypted-tbn0.gstatic.com/images?q=tbn:ANd9GcRrPjSYQrtD_nxFBSpansChNM0vPZ-K3KxoH0jqTY3Loj36qLBPCLpXF9OYcg&amp;s\"/>\n",
      "<img alt=\"\" class=\"DS1iW\" src=\"https://encrypted-tbn0.gstatic.com/images?q=tbn:ANd9GcQdgkxfEvMngleqDapOYtjWXGl5Uhdk1PGPl5QbLoJAo1Fm1eHCr5QKXMoGtjc&amp;s\"/>\n",
      "<img alt=\"\" class=\"DS1iW\" src=\"https://encrypted-tbn0.gstatic.com/images?q=tbn:ANd9GcTZjjIxC645lZMOppPPgh0rtE-fIYXfEDP4TS8HaAduYFF4_S27oLRREQkWdQ&amp;s\"/>\n",
      "<img alt=\"\" class=\"DS1iW\" src=\"https://encrypted-tbn0.gstatic.com/images?q=tbn:ANd9GcTD7E_Hq4ujQGxpv8KAxStiRBZ5K4TwVp4VAHKO20LvDo8dhHA3EGiyX3KHyVo&amp;s\"/>\n",
      "<img alt=\"\" class=\"DS1iW\" src=\"https://encrypted-tbn0.gstatic.com/images?q=tbn:ANd9GcSnQ3GLmCQ61zJ5DRLCLf88XOAB8NYH88BiyW5zp_hOzQm4rAMu3OPWFhkSiw&amp;s\"/>\n",
      "<img alt=\"\" class=\"DS1iW\" src=\"https://encrypted-tbn0.gstatic.com/images?q=tbn:ANd9GcReJFby2n4GMOB9S71n-vqgestRVp1C541Hnwzz8PJLnAN2_WWuCVvxEko0uxo&amp;s\"/>\n",
      "<img alt=\"\" class=\"DS1iW\" src=\"https://encrypted-tbn0.gstatic.com/images?q=tbn:ANd9GcR00e6TRhgCu67VDToptHbWVT0iIDItOH_sOOjsykjoyhNSHLIMNujOtIvelA&amp;s\"/>\n",
      "<img alt=\"\" class=\"DS1iW\" src=\"https://encrypted-tbn0.gstatic.com/images?q=tbn:ANd9GcSTTJhF4dneRSdqdwFjz4GUgDbVNiXhOBEeWB3HnRJdCvR-sbAA1BHAJwDw9XY&amp;s\"/>\n",
      "<img alt=\"\" class=\"DS1iW\" src=\"https://encrypted-tbn0.gstatic.com/images?q=tbn:ANd9GcRKEoIChXuMna-qWO_1h-2Immb8J36Pk4HzHUbqHKriD0kT6VA0HI83cPCjKg&amp;s\"/>\n",
      "<img alt=\"\" class=\"DS1iW\" src=\"https://encrypted-tbn0.gstatic.com/images?q=tbn:ANd9GcS5ZupFsbDCdazqGBClRa98AZF35XqnEaYzODjzdg8Of_4Nr4i71_5hPC1Xwdk&amp;s\"/>\n",
      "<img alt=\"\" class=\"DS1iW\" src=\"https://encrypted-tbn0.gstatic.com/images?q=tbn:ANd9GcR2RxRCHbc6nn72cR6Apo2JNH1DmvIeKx_P7p13yILtCgcfp0Lb7DHuTLYNqg&amp;s\"/>\n",
      "<img alt=\"\" class=\"DS1iW\" src=\"https://encrypted-tbn0.gstatic.com/images?q=tbn:ANd9GcS_x0pupe8hF01u4af6I3OIv4jmEngS8Lw_mf1jufvkySqtEaS5EWt3CHv6uQ&amp;s\"/>\n",
      "<img alt=\"\" class=\"DS1iW\" src=\"https://encrypted-tbn0.gstatic.com/images?q=tbn:ANd9GcTpPndxRt0nsQ8zPU8YPRx8aazNouu_ZH2GlcH_ek3HHXhJcoBvR72n58vy0g&amp;s\"/>\n",
      "<img alt=\"\" class=\"DS1iW\" src=\"https://encrypted-tbn0.gstatic.com/images?q=tbn:ANd9GcRN3H77eXSXzGjdYyorMTyHenbpJBDkKdwBAStUW849DilorXHwgV6ROc3wPQ&amp;s\"/>\n",
      "<img alt=\"\" class=\"DS1iW\" src=\"https://encrypted-tbn0.gstatic.com/images?q=tbn:ANd9GcRQGJg_acTBCyAcfkrow0o6HnmNF1yzwQxGev6JqkaTnEgCNKW64nHeF8CVM1E&amp;s\"/>\n"
     ]
    }
   ],
   "source": [
    "tags=soup.findAll('img')\n",
    "for tag in tags:\n",
    "    print(tag)"
   ]
  },
  {
   "cell_type": "code",
   "execution_count": 158,
   "id": "41597758-6c8a-435b-bb27-8efc21f7e4a0",
   "metadata": {
    "tags": []
   },
   "outputs": [
    {
     "name": "stdout",
     "output_type": "stream",
     "text": [
      "/images/branding/searchlogo/1x/googlelogo_desk_heirloom_color_150x55dp.gif\n",
      "https://encrypted-tbn0.gstatic.com/images?q=tbn:ANd9GcRtDGx4hqvvG0CNrbLgoJsTurwbhaL4LorWzjIOq8gndhAKEVjV2Ep9PU_j3qw&s\n",
      "https://encrypted-tbn0.gstatic.com/images?q=tbn:ANd9GcTvt4PjbPEgWBXWmzfQUIm-Nax_z6N9jkgiG4EJJJuelUNWlVH7Qli6WQQY7cY&s\n",
      "https://encrypted-tbn0.gstatic.com/images?q=tbn:ANd9GcRPNMK95mZfMvaHuevh1CrKMoPcwlHhnx2J2bfINjmCB0lax89Z3NU3bJMFuzU&s\n",
      "https://encrypted-tbn0.gstatic.com/images?q=tbn:ANd9GcQ1B-pTOYGfEyqKywEnbCFEXC4UQ3RzcLJe-89SEaTUwl2nj18lDsssSadUc1k&s\n",
      "https://encrypted-tbn0.gstatic.com/images?q=tbn:ANd9GcQP0OPPMcb_o2yh7TuvC4UomUd8Ot2byIFshQMTv7jlWqXMMNQUoYaCYDcrvA&s\n",
      "https://encrypted-tbn0.gstatic.com/images?q=tbn:ANd9GcRrPjSYQrtD_nxFBSpansChNM0vPZ-K3KxoH0jqTY3Loj36qLBPCLpXF9OYcg&s\n",
      "https://encrypted-tbn0.gstatic.com/images?q=tbn:ANd9GcQdgkxfEvMngleqDapOYtjWXGl5Uhdk1PGPl5QbLoJAo1Fm1eHCr5QKXMoGtjc&s\n",
      "https://encrypted-tbn0.gstatic.com/images?q=tbn:ANd9GcTZjjIxC645lZMOppPPgh0rtE-fIYXfEDP4TS8HaAduYFF4_S27oLRREQkWdQ&s\n",
      "https://encrypted-tbn0.gstatic.com/images?q=tbn:ANd9GcTD7E_Hq4ujQGxpv8KAxStiRBZ5K4TwVp4VAHKO20LvDo8dhHA3EGiyX3KHyVo&s\n",
      "https://encrypted-tbn0.gstatic.com/images?q=tbn:ANd9GcSnQ3GLmCQ61zJ5DRLCLf88XOAB8NYH88BiyW5zp_hOzQm4rAMu3OPWFhkSiw&s\n",
      "https://encrypted-tbn0.gstatic.com/images?q=tbn:ANd9GcReJFby2n4GMOB9S71n-vqgestRVp1C541Hnwzz8PJLnAN2_WWuCVvxEko0uxo&s\n",
      "https://encrypted-tbn0.gstatic.com/images?q=tbn:ANd9GcR00e6TRhgCu67VDToptHbWVT0iIDItOH_sOOjsykjoyhNSHLIMNujOtIvelA&s\n",
      "https://encrypted-tbn0.gstatic.com/images?q=tbn:ANd9GcSTTJhF4dneRSdqdwFjz4GUgDbVNiXhOBEeWB3HnRJdCvR-sbAA1BHAJwDw9XY&s\n",
      "https://encrypted-tbn0.gstatic.com/images?q=tbn:ANd9GcRKEoIChXuMna-qWO_1h-2Immb8J36Pk4HzHUbqHKriD0kT6VA0HI83cPCjKg&s\n",
      "https://encrypted-tbn0.gstatic.com/images?q=tbn:ANd9GcS5ZupFsbDCdazqGBClRa98AZF35XqnEaYzODjzdg8Of_4Nr4i71_5hPC1Xwdk&s\n",
      "https://encrypted-tbn0.gstatic.com/images?q=tbn:ANd9GcR2RxRCHbc6nn72cR6Apo2JNH1DmvIeKx_P7p13yILtCgcfp0Lb7DHuTLYNqg&s\n",
      "https://encrypted-tbn0.gstatic.com/images?q=tbn:ANd9GcS_x0pupe8hF01u4af6I3OIv4jmEngS8Lw_mf1jufvkySqtEaS5EWt3CHv6uQ&s\n",
      "https://encrypted-tbn0.gstatic.com/images?q=tbn:ANd9GcTpPndxRt0nsQ8zPU8YPRx8aazNouu_ZH2GlcH_ek3HHXhJcoBvR72n58vy0g&s\n",
      "https://encrypted-tbn0.gstatic.com/images?q=tbn:ANd9GcRN3H77eXSXzGjdYyorMTyHenbpJBDkKdwBAStUW849DilorXHwgV6ROc3wPQ&s\n",
      "https://encrypted-tbn0.gstatic.com/images?q=tbn:ANd9GcRQGJg_acTBCyAcfkrow0o6HnmNF1yzwQxGev6JqkaTnEgCNKW64nHeF8CVM1E&s\n"
     ]
    }
   ],
   "source": [
    "tags=soup.findAll('img')\n",
    "for tag in tags:\n",
    "    print(tag.get('src'))"
   ]
  },
  {
   "cell_type": "code",
   "execution_count": 150,
   "id": "a07ed1ee-84fe-4dbe-bc03-1ebf21a8bb7c",
   "metadata": {
    "tags": []
   },
   "outputs": [
    {
     "ename": "OSError",
     "evalue": "[Errno 22] Invalid argument: 'Photo/Hanuman/galaxiescollide.jpg?v=20ef31957aa1eda7a0d36f36b8c0b1fc#'",
     "output_type": "error",
     "traceback": [
      "\u001b[1;31m---------------------------------------------------------------------------\u001b[0m",
      "\u001b[1;31mOSError\u001b[0m                                   Traceback (most recent call last)",
      "Cell \u001b[1;32mIn[150], line 9\u001b[0m\n\u001b[0;32m      7\u001b[0m index\u001b[38;5;241m=\u001b[39msrc\u001b[38;5;241m.\u001b[39mrindex(\u001b[38;5;124m'\u001b[39m\u001b[38;5;124m/\u001b[39m\u001b[38;5;124m'\u001b[39m)\n\u001b[0;32m      8\u001b[0m img_name\u001b[38;5;241m=\u001b[39msrc[index\u001b[38;5;241m+\u001b[39m\u001b[38;5;241m1\u001b[39m:]\n\u001b[1;32m----> 9\u001b[0m file\u001b[38;5;241m=\u001b[39m\u001b[38;5;28;43mopen\u001b[39;49m\u001b[43m(\u001b[49m\u001b[38;5;124;43mf\u001b[39;49m\u001b[38;5;124;43m'\u001b[39;49m\u001b[38;5;124;43mPhoto/Hanuman/\u001b[39;49m\u001b[38;5;132;43;01m{\u001b[39;49;00m\u001b[43mimg_name\u001b[49m\u001b[38;5;132;43;01m}\u001b[39;49;00m\u001b[38;5;124;43m'\u001b[39;49m\u001b[43m,\u001b[49m\u001b[38;5;124;43m'\u001b[39;49m\u001b[38;5;124;43mwb\u001b[39;49m\u001b[38;5;124;43m'\u001b[39;49m\u001b[43m)\u001b[49m\n\u001b[0;32m     10\u001b[0m file\u001b[38;5;241m.\u001b[39mwrite(data)\n\u001b[0;32m     11\u001b[0m file\u001b[38;5;241m.\u001b[39mclose()\n",
      "File \u001b[1;32m~\\AppData\\Roaming\\Python\\Python311\\site-packages\\IPython\\core\\interactiveshell.py:310\u001b[0m, in \u001b[0;36m_modified_open\u001b[1;34m(file, *args, **kwargs)\u001b[0m\n\u001b[0;32m    303\u001b[0m \u001b[38;5;28;01mif\u001b[39;00m file \u001b[38;5;129;01min\u001b[39;00m {\u001b[38;5;241m0\u001b[39m, \u001b[38;5;241m1\u001b[39m, \u001b[38;5;241m2\u001b[39m}:\n\u001b[0;32m    304\u001b[0m     \u001b[38;5;28;01mraise\u001b[39;00m \u001b[38;5;167;01mValueError\u001b[39;00m(\n\u001b[0;32m    305\u001b[0m         \u001b[38;5;124mf\u001b[39m\u001b[38;5;124m\"\u001b[39m\u001b[38;5;124mIPython won\u001b[39m\u001b[38;5;124m'\u001b[39m\u001b[38;5;124mt let you open fd=\u001b[39m\u001b[38;5;132;01m{\u001b[39;00mfile\u001b[38;5;132;01m}\u001b[39;00m\u001b[38;5;124m by default \u001b[39m\u001b[38;5;124m\"\u001b[39m\n\u001b[0;32m    306\u001b[0m         \u001b[38;5;124m\"\u001b[39m\u001b[38;5;124mas it is likely to crash IPython. If you know what you are doing, \u001b[39m\u001b[38;5;124m\"\u001b[39m\n\u001b[0;32m    307\u001b[0m         \u001b[38;5;124m\"\u001b[39m\u001b[38;5;124myou can use builtins\u001b[39m\u001b[38;5;124m'\u001b[39m\u001b[38;5;124m open.\u001b[39m\u001b[38;5;124m\"\u001b[39m\n\u001b[0;32m    308\u001b[0m     )\n\u001b[1;32m--> 310\u001b[0m \u001b[38;5;28;01mreturn\u001b[39;00m \u001b[43mio_open\u001b[49m\u001b[43m(\u001b[49m\u001b[43mfile\u001b[49m\u001b[43m,\u001b[49m\u001b[43m \u001b[49m\u001b[38;5;241;43m*\u001b[39;49m\u001b[43margs\u001b[49m\u001b[43m,\u001b[49m\u001b[43m \u001b[49m\u001b[38;5;241;43m*\u001b[39;49m\u001b[38;5;241;43m*\u001b[39;49m\u001b[43mkwargs\u001b[49m\u001b[43m)\u001b[49m\n",
      "\u001b[1;31mOSError\u001b[0m: [Errno 22] Invalid argument: 'Photo/Hanuman/galaxiescollide.jpg?v=20ef31957aa1eda7a0d36f36b8c0b1fc#'"
     ]
    }
   ],
   "source": [
    "tags=soup.findAll('img')\n",
    "for tag in tags:\n",
    "    url='https://www.hindugallery.com/lord-vishnu-images/'\n",
    "    src=tag.get('src')\n",
    "    con=re.get(src)\n",
    "    data=con.content\n",
    "    index=src.rindex('/')\n",
    "    img_name=src[index+1:]\n",
    "    file=open(f'Photo/{img_name}','wb')\n",
    "    file.write(data)\n",
    "    file.close()\n",
    "print('img downladed')"
   ]
  },
  {
   "cell_type": "code",
   "execution_count": 151,
   "id": "f6ac6689-3b9b-4c0b-b9db-be04dda7a2b6",
   "metadata": {},
   "outputs": [
    {
     "ename": "OSError",
     "evalue": "[Errno 22] Invalid argument: 'Photo/space/galaxiescollide.jpg?v=20ef31957aa1eda7a0d36f36b8c0b1fc#'",
     "output_type": "error",
     "traceback": [
      "\u001b[1;31m---------------------------------------------------------------------------\u001b[0m",
      "\u001b[1;31mOSError\u001b[0m                                   Traceback (most recent call last)",
      "Cell \u001b[1;32mIn[151], line 13\u001b[0m\n\u001b[0;32m     11\u001b[0m index\u001b[38;5;241m=\u001b[39mtag\u001b[38;5;241m.\u001b[39mrindex(\u001b[38;5;124m'\u001b[39m\u001b[38;5;124m/\u001b[39m\u001b[38;5;124m'\u001b[39m)\n\u001b[0;32m     12\u001b[0m img_name\u001b[38;5;241m=\u001b[39mtag[index\u001b[38;5;241m+\u001b[39m\u001b[38;5;241m1\u001b[39m:]\n\u001b[1;32m---> 13\u001b[0m file\u001b[38;5;241m=\u001b[39m\u001b[38;5;28;43mopen\u001b[39;49m\u001b[43m(\u001b[49m\u001b[38;5;124;43mf\u001b[39;49m\u001b[38;5;124;43m'\u001b[39;49m\u001b[38;5;124;43mPhoto/space/\u001b[39;49m\u001b[38;5;132;43;01m{\u001b[39;49;00m\u001b[43mimg_name\u001b[49m\u001b[38;5;132;43;01m}\u001b[39;49;00m\u001b[38;5;124;43m'\u001b[39;49m\u001b[43m,\u001b[49m\u001b[38;5;124;43m'\u001b[39;49m\u001b[38;5;124;43mwb\u001b[39;49m\u001b[38;5;124;43m'\u001b[39;49m\u001b[43m)\u001b[49m\n\u001b[0;32m     14\u001b[0m file\u001b[38;5;241m.\u001b[39mwrite(data)\n\u001b[0;32m     15\u001b[0m file\u001b[38;5;241m.\u001b[39mclose()\n",
      "File \u001b[1;32m~\\AppData\\Roaming\\Python\\Python311\\site-packages\\IPython\\core\\interactiveshell.py:310\u001b[0m, in \u001b[0;36m_modified_open\u001b[1;34m(file, *args, **kwargs)\u001b[0m\n\u001b[0;32m    303\u001b[0m \u001b[38;5;28;01mif\u001b[39;00m file \u001b[38;5;129;01min\u001b[39;00m {\u001b[38;5;241m0\u001b[39m, \u001b[38;5;241m1\u001b[39m, \u001b[38;5;241m2\u001b[39m}:\n\u001b[0;32m    304\u001b[0m     \u001b[38;5;28;01mraise\u001b[39;00m \u001b[38;5;167;01mValueError\u001b[39;00m(\n\u001b[0;32m    305\u001b[0m         \u001b[38;5;124mf\u001b[39m\u001b[38;5;124m\"\u001b[39m\u001b[38;5;124mIPython won\u001b[39m\u001b[38;5;124m'\u001b[39m\u001b[38;5;124mt let you open fd=\u001b[39m\u001b[38;5;132;01m{\u001b[39;00mfile\u001b[38;5;132;01m}\u001b[39;00m\u001b[38;5;124m by default \u001b[39m\u001b[38;5;124m\"\u001b[39m\n\u001b[0;32m    306\u001b[0m         \u001b[38;5;124m\"\u001b[39m\u001b[38;5;124mas it is likely to crash IPython. If you know what you are doing, \u001b[39m\u001b[38;5;124m\"\u001b[39m\n\u001b[0;32m    307\u001b[0m         \u001b[38;5;124m\"\u001b[39m\u001b[38;5;124myou can use builtins\u001b[39m\u001b[38;5;124m'\u001b[39m\u001b[38;5;124m open.\u001b[39m\u001b[38;5;124m\"\u001b[39m\n\u001b[0;32m    308\u001b[0m     )\n\u001b[1;32m--> 310\u001b[0m \u001b[38;5;28;01mreturn\u001b[39;00m \u001b[43mio_open\u001b[49m\u001b[43m(\u001b[49m\u001b[43mfile\u001b[49m\u001b[43m,\u001b[49m\u001b[43m \u001b[49m\u001b[38;5;241;43m*\u001b[39;49m\u001b[43margs\u001b[49m\u001b[43m,\u001b[49m\u001b[43m \u001b[49m\u001b[38;5;241;43m*\u001b[39;49m\u001b[38;5;241;43m*\u001b[39;49m\u001b[43mkwargs\u001b[49m\u001b[43m)\u001b[49m\n",
      "\u001b[1;31mOSError\u001b[0m: [Errno 22] Invalid argument: 'Photo/space/galaxiescollide.jpg?v=20ef31957aa1eda7a0d36f36b8c0b1fc#'"
     ]
    }
   ],
   "source": [
    "import requests as re\n",
    "import bs4 as b\n",
    "con=re.get('https://www.cbsnews.com/pictures/space-pitures-planets-photos/')\n",
    "data=con.text\n",
    "soup=b.BeautifulSoup(data)\n",
    "tags=soup.findAll('img')\n",
    "x=[tag.get('src') for tag in tags if '.jpg' in tag.get('src')]\n",
    "for tag in x:\n",
    "    con=re.get(tag)\n",
    "    data=con.content\n",
    "    index=tag.rindex('/')\n",
    "    img_name=tag[index+1:]\n",
    "    file=open(f'Photo/space/{img_name}','wb')\n",
    "    file.write(data)\n",
    "    file.close()\n",
    "print('img downladed')"
   ]
  },
  {
   "cell_type": "code",
   "execution_count": null,
   "id": "870490e0-5003-48d5-8e06-f2c66936cf94",
   "metadata": {},
   "outputs": [],
   "source": []
  }
 ],
 "metadata": {
  "kernelspec": {
   "display_name": "Python 3 (ipykernel)",
   "language": "python",
   "name": "python3"
  },
  "language_info": {
   "codemirror_mode": {
    "name": "ipython",
    "version": 3
   },
   "file_extension": ".py",
   "mimetype": "text/x-python",
   "name": "python",
   "nbconvert_exporter": "python",
   "pygments_lexer": "ipython3",
   "version": "3.11.3"
  }
 },
 "nbformat": 4,
 "nbformat_minor": 5
}
