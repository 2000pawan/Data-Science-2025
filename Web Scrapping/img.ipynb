{
 "cells": [
  {
   "cell_type": "code",
   "execution_count": 3,
   "id": "d03e6705-3008-40b3-894e-8ca94b85ce40",
   "metadata": {
    "tags": []
   },
   "outputs": [],
   "source": [
    "import requests as re\n",
    "import bs4 as b"
   ]
  },
  {
   "cell_type": "code",
   "execution_count": 5,
   "id": "238afc89-73ef-4715-9d0c-4eec649330c6",
   "metadata": {
    "tags": []
   },
   "outputs": [],
   "source": [
    "con=re.get('https://www.google.co.in/search?sca_esv=4b3e726407594cc1&sxsrf=ACQVn083YpPAR93KmeN4o56H0guvW_H_NQ:1710240739002&q=space+images&tbm=isch&source=univ&fir=j5HfKaV996sDbM%252C6_X7mFNebacvlM%252C_%253Bxt-Qi63YZwydgM%252CuUsw3zSxFAqoLM%252C_%253BUpRoCM5t_0cKtM%252CYz-4WNYbr76jwM%252C_%253B7GmT3gVR4CebwM%252C6_X7mFNebacvlM%252C_%253BtHPW49gI58VcXM%252C0cnnzJr72ut3FM%252C_%253BrBghNYJj3AfSSM%252CybXxuw4EOUEOSM%252C_%253BfzIh7mWZSphw3M%252Cc1Tjo1JWxhEFsM%252C_%253BOxmNToM0oG6UDM%252CmvaiJbEcSefBKM%252C_%253BaE1YUHgaChZDEM%252CfRsISDFwfTs4GM%252C_%253BBVrOF7jCh3f1-M%252COj3CgY7tJL9T7M%252C_%253BllGoxgDU-4LEwM%252C_8d-jfYnv1HJPM%252C_%253B8VK1Kh11EItIhM%252CuUsw3zSxFAqoLM%252C_%253B7kDSJkAaxca4uM%252CI4-VVXZuCFLJ5M%252C_%253B62qr0x-pEjtMKM%252C-njKxwvnqSWTfM%252C_%253BonINjeGjq9HkjM%252CAT8JVRsuG90JmM%252C_%253BZR8CuqtywqgPfM%252C0cnnzJr72ut3FM%252C_%253BPzZF3gh6inT55M%252CGVY76LmiQ_HZ7M%252C_%253BeLCbr077M2WfgM%252Cc1Tjo1JWxhEFsM%252C_%253BfpB1Ib9JbJzZZM%252C6_X7mFNebacvlM%252C_%253BNLfjhOvUjpqzfM%252C09NYshGJwepaAM%252C_%253Bp_IJh5fzL-IXZM%252CXPHV8eEPbNAF3M%252C_%253Bqh8UuaCU3G7DXM%252C_8d-jfYnv1HJPM%252C_%253Bs-R5hxP9QCqYtM%252CuUsw3zSxFAqoLM%252C_%253BaqPmaZZS4-34dM%252CfRsISDFwfTs4GM%252C_%253BYJS0FbWASDsoOM%252CddAL53BtKt4lhM%252C_&usg=AI4_-kQBqBFR_EIt5NubQtj6xSk_JcDWCw&sa=X&ved=2ahUKEwif4Omdx-6EAxVaZ2wGHc-dBTsQsAR6BAgOEAM&biw=1698&bih=832&dpr=1.1')"
   ]
  },
  {
   "cell_type": "code",
   "execution_count": 7,
   "id": "0a080449-a174-42da-9169-0206daa118b2",
   "metadata": {
    "tags": []
   },
   "outputs": [],
   "source": [
    "data=con.text"
   ]
  },
  {
   "cell_type": "code",
   "execution_count": 9,
   "id": "55a040c6-309b-4b33-9c87-68af55733761",
   "metadata": {
    "tags": []
   },
   "outputs": [],
   "source": [
    "soup=b.BeautifulSoup(data)"
   ]
  },
  {
   "cell_type": "code",
   "execution_count": 11,
   "id": "cd99d9f0-8c86-454d-995e-bb1a712d7653",
   "metadata": {
    "tags": []
   },
   "outputs": [
    {
     "name": "stdout",
     "output_type": "stream",
     "text": [
      "<img alt=\"Google\" class=\"kgJEQe\" src=\"/images/branding/searchlogo/1x/googlelogo_desk_heirloom_color_150x55dp.gif\"/>\n",
      "<img alt=\"\" class=\"DS1iW\" src=\"https://encrypted-tbn0.gstatic.com/images?q=tbn:ANd9GcTGQosxvdUEw3dHDCMtnvydjOLlLoRkPh4LvAw8bqZdkllZnGT_7ZW7A-MSPg&amp;s\"/>\n",
      "<img alt=\"\" class=\"DS1iW\" src=\"https://encrypted-tbn0.gstatic.com/images?q=tbn:ANd9GcRvVT518yKo9szw45vgdjVqf7xihXVSlc3LqH0z9XceluCseLWeI5Lh9p6Ip30&amp;s\"/>\n",
      "<img alt=\"\" class=\"DS1iW\" src=\"https://encrypted-tbn0.gstatic.com/images?q=tbn:ANd9GcSFl98nEltUHPBu1a7aBlB2QFezZw7Lmv0w4gBgLAnEk3XrPYdugVJLC0QxLQ&amp;s\"/>\n",
      "<img alt=\"\" class=\"DS1iW\" src=\"https://encrypted-tbn0.gstatic.com/images?q=tbn:ANd9GcRu8qcN5olbSAqYy2-YcIluC3lP0dK15-cK7_t3lS5DcsvbGrmIC8QWA-VtGA&amp;s\"/>\n",
      "<img alt=\"\" class=\"DS1iW\" src=\"https://encrypted-tbn0.gstatic.com/images?q=tbn:ANd9GcRtDGx4hqvvG0CNrbLgoJsTurwbhaL4LorWzjIOq8gndhAKEVjV2Ep9PU_j3qw&amp;s\"/>\n",
      "<img alt=\"\" class=\"DS1iW\" src=\"https://encrypted-tbn0.gstatic.com/images?q=tbn:ANd9GcSIC74DeGCpYhWLexzt3l09q5P6hzA5xr1CrAEhgxNxzOBqsVkPlxcU5IzSKg&amp;s\"/>\n",
      "<img alt=\"\" class=\"DS1iW\" src=\"https://encrypted-tbn0.gstatic.com/images?q=tbn:ANd9GcSrhiBlG1Npcmg6_fXbWhnngetta0vwgaPFZQS_lLgj73nUT1CJHAQDKHAh1fc&amp;s\"/>\n",
      "<img alt=\"\" class=\"DS1iW\" src=\"https://encrypted-tbn0.gstatic.com/images?q=tbn:ANd9GcT6VVYWeZeWw0eS6fAoBxZG9q2PgYDgOgiefhwycv8bZskqNexpaGP64iWzh2s&amp;s\"/>\n",
      "<img alt=\"\" class=\"DS1iW\" src=\"https://encrypted-tbn0.gstatic.com/images?q=tbn:ANd9GcTdpKErLhPcCYEQZmQ9rt5FcMqjgSNOoUYUBZFksAHMJcxBI5mAginpW9edJds&amp;s\"/>\n",
      "<img alt=\"\" class=\"DS1iW\" src=\"https://encrypted-tbn0.gstatic.com/images?q=tbn:ANd9GcSzSfzqMppEX8XFA9kYCsuvNbAU1s_O-ZD1gq_NJcPvQEwheXq8D3illr9g4rU&amp;s\"/>\n",
      "<img alt=\"\" class=\"DS1iW\" src=\"https://encrypted-tbn0.gstatic.com/images?q=tbn:ANd9GcTMSKzEby9EzjSM74RDuVu_Y9ivdQ57Rpnx__l14ahpnTXgPeZTxLGUiO9NVw&amp;s\"/>\n",
      "<img alt=\"\" class=\"DS1iW\" src=\"https://encrypted-tbn0.gstatic.com/images?q=tbn:ANd9GcSRjyxZzsCVlgjhvQENabIrUqDwudgNoHYEy5s3dPgHhmaeTwGo8x4We0SDq5g&amp;s\"/>\n",
      "<img alt=\"\" class=\"DS1iW\" src=\"https://encrypted-tbn0.gstatic.com/images?q=tbn:ANd9GcRrPjSYQrtD_nxFBSpansChNM0vPZ-K3KxoH0jqTY3Loj36qLBPCLpXF9OYcg&amp;s\"/>\n",
      "<img alt=\"\" class=\"DS1iW\" src=\"https://encrypted-tbn0.gstatic.com/images?q=tbn:ANd9GcSycE7J6rFW18khKhBWJ6nSwYqYVccmMuzih8O-sCGrIC7kxt4NosmRE68Fgw&amp;s\"/>\n",
      "<img alt=\"\" class=\"DS1iW\" src=\"https://encrypted-tbn0.gstatic.com/images?q=tbn:ANd9GcSo359Qhk9sMoiNki8ZnY13r8SP0AnTxQ6qK0GFfgq5elslZRq9AFxE6yP7104&amp;s\"/>\n",
      "<img alt=\"\" class=\"DS1iW\" src=\"https://encrypted-tbn0.gstatic.com/images?q=tbn:ANd9GcQMS33GV0Otp1HfP85DIrPSd10Ys_Px3bLi9KsQ3KUn-P2_MIPLnNXm094bcw&amp;s\"/>\n",
      "<img alt=\"\" class=\"DS1iW\" src=\"https://encrypted-tbn0.gstatic.com/images?q=tbn:ANd9GcTa-qfyfstQGogVFPVl7dE633ychpq2XinxSQfICyBGKULXPjTY-U7ESmBgTi8&amp;s\"/>\n",
      "<img alt=\"\" class=\"DS1iW\" src=\"https://encrypted-tbn0.gstatic.com/images?q=tbn:ANd9GcSTOZlxR05ERTiWNJfx4aY3p6hmTgTsEz8iLmct2W2hf0vGmxnLxsyE_tQoq8E&amp;s\"/>\n",
      "<img alt=\"\" class=\"DS1iW\" src=\"https://encrypted-tbn0.gstatic.com/images?q=tbn:ANd9GcRRNQ7U8EkJhDP9Ejwwj6GSTGzBwO2L586c3iG-Q_tpWiLREodJtuE3T7hNGw&amp;s\"/>\n",
      "<img alt=\"\" class=\"DS1iW\" src=\"https://encrypted-tbn0.gstatic.com/images?q=tbn:ANd9GcTrxMLL5TQs4IkZcnofOE4kZPenzH9dxaoxhF0qi5iZtmtXywDPD_awgs9FK_0&amp;s\"/>\n"
     ]
    }
   ],
   "source": [
    "tags=soup.findAll('img')\n",
    "for tag in tags:\n",
    "    print(tag)"
   ]
  },
  {
   "cell_type": "code",
   "execution_count": 19,
   "id": "41597758-6c8a-435b-bb27-8efc21f7e4a0",
   "metadata": {
    "tags": []
   },
   "outputs": [
    {
     "name": "stdout",
     "output_type": "stream",
     "text": [
      "https://assets1.cbsnewsstatic.com/hub/i/r/2021/08/02/caba2633-9c02-4df7-8375-525bb9186afa/thumbnail/620x412/3e69fa4dfc239e107999e02ac37ef172/atlantisinspace.jpg?v=8de240724d7f6d8b5f54f62bb158c012#\n",
      "https://assets3.cbsnewsstatic.com/hub/i/r/2021/08/02/170e414f-dcd6-4f57-b7bd-9f8082b49046/thumbnail/620x349/34fcbaf7845cecb6d5213359c77718db/jupiterjetstreams.jpg?v=8de240724d7f6d8b5f54f62bb158c012#\n",
      "https://assets2.cbsnewsstatic.com/hub/i/r/2021/08/02/51d2a1ec-0110-4631-86e2-01f4ccdb4906/thumbnail/620x388/b170af8ae239e9a879baac43d24b8462/horsehead.jpg?v=8de240724d7f6d8b5f54f62bb158c012#\n",
      "https://assets1.cbsnewsstatic.com/hub/i/r/2021/08/02/e873b72f-158c-47dc-b0a1-f9c76313f510/thumbnail/620x306/341a2361e65a5bb8d3270a876d82d4bd/saturnpanorama.jpg?v=8de240724d7f6d8b5f54f62bb158c012#\n",
      "https://assets1.cbsnewsstatic.com/hub/i/r/2021/08/02/b119c152-96b2-4538-8328-07ef76f8ec52/thumbnail/620x383/a432d4659afb87262518e29239c85781/kaboom.jpg?v=8de240724d7f6d8b5f54f62bb158c012#\n",
      "https://assets1.cbsnewsstatic.com/hub/i/r/2021/08/02/033bcb95-a721-46e7-b90d-df6f994c2594/thumbnail/620x620/8ebd4993ff6a3d544ec0b47a7248e747/chandraxraysupernova.jpg?v=8de240724d7f6d8b5f54f62bb158c012#\n",
      "https://assets3.cbsnewsstatic.com/hub/i/r/2021/08/02/83e6a22f-1ded-46eb-8c23-3089efa5109a/thumbnail/620x579/ff7961853ddacb7765dc9e90afe256cd/biggalaxieshubble.jpg?v=8de240724d7f6d8b5f54f62bb158c012#\n",
      "https://assets3.cbsnewsstatic.com/hub/i/r/2021/08/02/cea89814-bbde-4828-81f3-abfa9dab1ee8/thumbnail/620x447/432dc2441089f0c5259544d60843fc7e/galacticcore.jpg?v=8de240724d7f6d8b5f54f62bb158c012#\n",
      "https://assets2.cbsnewsstatic.com/hub/i/r/2021/08/02/ec6a6d48-c745-4af8-81bb-edb86277cb12/thumbnail/620x623/d61d672e22b77d7b237e5ccfc351db2e/hubblemedusamerger.jpg?v=8de240724d7f6d8b5f54f62bb158c012#\n",
      "https://assets2.cbsnewsstatic.com/hub/i/r/2021/08/02/ad96efb4-2405-4b26-a093-41993790fc6c/thumbnail/620x617/7fe932d545714b28e328ad9fe7634b0f/eaglenebula.jpg?v=8de240724d7f6d8b5f54f62bb158c012#\n",
      "https://assets2.cbsnewsstatic.com/hub/i/r/2021/08/02/df492e96-e05f-4de6-a8da-2476f4a3f00f/thumbnail/620x481/1fbd4c4a12a16f3a4a304cdbab279837/hubblestarcluster.jpg?v=8de240724d7f6d8b5f54f62bb158c012#\n",
      "https://assets1.cbsnewsstatic.com/hub/i/r/2021/08/02/d35c75df-4277-48d1-864e-9a710a38250e/thumbnail/620x413/ca510e31a76953fbc733fb0de08c8e77/aurorafromspace.jpg?v=8de240724d7f6d8b5f54f62bb158c012#\n",
      "https://assets2.cbsnewsstatic.com/hub/i/r/2021/08/02/15a58e36-4d30-47fd-b9e9-85986215456f/thumbnail/620x485/2106cd8a5a67c97101ed90b524ab6e55/jupiterflyby.jpg?v=8de240724d7f6d8b5f54f62bb158c012#\n",
      "https://assets1.cbsnewsstatic.com/hub/i/r/2021/08/02/22239e13-7216-46fd-a1f2-489e44a1a0fe/thumbnail/620x694/c2699d143e62ecdc446b01cc3232f139/jupitersouthernhemisphere.jpg?v=8de240724d7f6d8b5f54f62bb158c012#\n",
      "https://assets2.cbsnewsstatic.com/hub/i/r/2021/08/02/dec9a5ae-d0a9-405b-abea-d22bf024c41c/thumbnail/620x413/cd47f6e729d53db2510e796e906721ad/fixingthingsinspace.jpg?v=8de240724d7f6d8b5f54f62bb158c012#\n",
      "https://assets1.cbsnewsstatic.com/hub/i/r/2021/08/02/7d2f248b-9e1f-4948-af5e-8b2e7e809a7a/thumbnail/620x348/11964afe4af66d653d53d3a80cc8f7db/earthindianocean.jpg?v=8de240724d7f6d8b5f54f62bb158c012#\n",
      "https://assets2.cbsnewsstatic.com/hub/i/r/2021/08/02/b738c619-28b0-4f1b-bd10-5ba7ac9363d2/thumbnail/620x348/11d147446139f79c9164598fb48f0d59/spacefreighter.jpg?v=8de240724d7f6d8b5f54f62bb158c012#\n",
      "https://assets3.cbsnewsstatic.com/hub/i/r/2021/08/02/b1c4df2e-684e-49f6-9447-dda3b54c3465/thumbnail/620x464/52a5a74846d18bb130bda874737d486f/nebulaandplanets.jpg?v=8de240724d7f6d8b5f54f62bb158c012#\n",
      "https://assets3.cbsnewsstatic.com/hub/i/r/2021/08/02/435a5f2d-e402-485d-b84e-cf9933715924/thumbnail/620x349/db36a472ec2bf78458f105057519332b/opportunityrover.jpg?v=8de240724d7f6d8b5f54f62bb158c012#\n",
      "https://assets1.cbsnewsstatic.com/hub/i/r/2021/08/02/599c9412-5cd1-47ad-b997-b812ce6fe8ed/thumbnail/620x349/716a9e03b268dd866e6208528bf1bc5d/insightselfie.jpg?v=8de240724d7f6d8b5f54f62bb158c012#\n",
      "https://assets3.cbsnewsstatic.com/hub/i/r/2021/08/02/76b1f91e-a97d-4df7-9618-aa2f2ad59dac/thumbnail/620x388/a7bd62b0120f274fdf2a6594aae5fb54/marsreconripples.jpg?v=8de240724d7f6d8b5f54f62bb158c012#\n",
      "https://assets1.cbsnewsstatic.com/hub/i/r/2021/08/02/ffc561f0-d1cb-4bbd-a3d6-fe00b52d227b/thumbnail/620x303/be71fbd099ef85fb9b165de3ed881956/venusfrommariner10.jpg?v=8de240724d7f6d8b5f54f62bb158c012#\n",
      "https://assets2.cbsnewsstatic.com/hub/i/r/2021/08/02/30fed272-fff2-4e42-b3f5-368a9ff25f59/thumbnail/620x440/a7f8ed8e6f2f4b77f6797181d85c1f5a/blackhole.jpg?v=8de240724d7f6d8b5f54f62bb158c012#\n",
      "https://assets2.cbsnewsstatic.com/hub/i/r/2021/08/02/205fabda-3f91-4299-886b-b7c39a684437/thumbnail/620x413/76a04b6148dd51315ad45aee2b374a2d/spacewalk.jpg?v=8de240724d7f6d8b5f54f62bb158c012#\n",
      "https://assets3.cbsnewsstatic.com/hub/i/r/2021/08/02/890bbf99-be48-43aa-97db-29b23dbf60dd/thumbnail/620x413/c0afb1fd495e513f7837b8c29adc1d65/orbitalsunrise.jpg?v=8de240724d7f6d8b5f54f62bb158c012#\n",
      "https://assets3.cbsnewsstatic.com/hub/i/r/2021/08/02/3cdb366a-9c25-4d56-bf64-9133e571ac0a/thumbnail/620x406/e0ac0c4e9187cf69c711088aac42eebf/moreearthfromspace.jpg?v=8de240724d7f6d8b5f54f62bb158c012#\n",
      "https://assets2.cbsnewsstatic.com/hub/i/r/2021/08/02/202d033e-d539-4053-a079-2cf1a0dc9ed7/thumbnail/620x413/9311aac7328fd3e08a9304a52a3fb366/earthfromspaceiss.jpg?v=8de240724d7f6d8b5f54f62bb158c012#\n",
      "https://assets2.cbsnewsstatic.com/hub/i/r/2021/08/02/1026ba0e-61dc-4446-b281-4d7d6facf8c3/thumbnail/620x413/9aa05b6b5211ee73bc8fc117ea44dbe5/issocean.jpg?v=8de240724d7f6d8b5f54f62bb158c012#\n",
      "https://assets3.cbsnewsstatic.com/hub/i/r/2021/08/02/61509fe8-ca0f-476e-8ab6-593173c8061d/thumbnail/620x318/a699875c356a1c4eda7a639a7b36221e/marscuriosityrover.jpg?v=8de240724d7f6d8b5f54f62bb158c012#\n",
      "https://assets1.cbsnewsstatic.com/hub/i/r/2021/08/02/63e1063d-31eb-4c35-9436-5167d983c1f0/thumbnail/620x284/06086b032f967b223bfb1378f8906fa8/marsrover.jpg?v=8de240724d7f6d8b5f54f62bb158c012#\n",
      "https://assets3.cbsnewsstatic.com/hub/i/r/2021/08/02/5fca4430-826b-4704-8290-ed76b463e04a/thumbnail/620x620/7caa361603653e8069cd6bd866df75f6/2jupiter.jpg?v=8de240724d7f6d8b5f54f62bb158c012#\n",
      "https://assets2.cbsnewsstatic.com/hub/i/r/2021/08/02/e65c6236-5b2c-4530-aa2e-63140717b8d0/thumbnail/620x517/3cc04e4a012840fa01d8c996599efc93/messier33.jpg?v=8de240724d7f6d8b5f54f62bb158c012#\n",
      "https://assets1.cbsnewsstatic.com/hub/i/r/2021/08/02/4cbf2c7f-d866-40e2-9fe3-c9653d7c965f/thumbnail/620x583/d8ae32a9284b50e4b2f854f1159eb5bb/nebulaandstars.jpg?v=8de240724d7f6d8b5f54f62bb158c012#\n",
      "https://assets3.cbsnewsstatic.com/hub/i/r/2021/08/02/5caa8abd-7114-4373-b92b-7c456a7f8426/thumbnail/620x619/91da70d262a943da0daafab3c359be01/neptune.jpg?v=8de240724d7f6d8b5f54f62bb158c012#\n",
      "https://assets3.cbsnewsstatic.com/hub/i/r/2021/08/02/cdb79ec7-e2f3-4553-898e-b7014a50856b/thumbnail/620x580/13292469e0065a346f58c6f2b122c249/saturnandtitan.jpg?v=8de240724d7f6d8b5f54f62bb158c012#\n",
      "https://assets2.cbsnewsstatic.com/hub/i/r/2021/08/02/b0ebfb1e-ff34-4a97-a07b-6005dde0ff59/thumbnail/620x420/60910136041404a997dd41fb591b10bb/infraredtitan.jpg?v=8de240724d7f6d8b5f54f62bb158c012#\n",
      "https://assets1.cbsnewsstatic.com/hub/i/r/2021/08/02/a3296d8a-cadf-4e7f-b653-940ec94a2eb5/thumbnail/620x349/ef52ffab51747b00996754cbd5bd1f3a/saturnandmoons.jpg?v=8de240724d7f6d8b5f54f62bb158c012#\n",
      "https://assets1.cbsnewsstatic.com/hub/i/r/2021/08/02/42195978-3553-4022-a377-6fc371718a7c/thumbnail/620x620/3109f3fbddffdf60dc66723e56fcf157/cassinimoonshot.jpg?v=8de240724d7f6d8b5f54f62bb158c012#\n",
      "https://assets3.cbsnewsstatic.com/hub/i/r/2021/08/02/e4430a35-ba98-4a85-842b-8847baad5ed0/thumbnail/620x457/affcdfd3d613ce4698c5764526709a8a/saturnmoondione.jpg?v=8de240724d7f6d8b5f54f62bb158c012#\n",
      "https://assets2.cbsnewsstatic.com/hub/i/r/2021/08/02/f307152b-c175-410b-88e2-35f4178bc7be/thumbnail/620x410/530923665c4abe447fc8926665cfda96/moonfromorbit.jpg?v=8de240724d7f6d8b5f54f62bb158c012#\n",
      "https://assets3.cbsnewsstatic.com/hub/i/r/2021/08/02/1f408c0d-bb5e-4b00-98db-4a88aae2a50a/thumbnail/620x413/7af499b05d9e087bdad1bb93a27ce649/europeandafrica.jpg?v=8de240724d7f6d8b5f54f62bb158c012#\n",
      "https://assets2.cbsnewsstatic.com/hub/i/r/2021/08/02/908d7536-e25b-4375-b47d-d762fe362d88/thumbnail/620x413/dc2e279d94130019b2c1fb84ed91a57e/galvestontxfromspace.jpg?v=8de240724d7f6d8b5f54f62bb158c012#\n",
      "https://assets1.cbsnewsstatic.com/hub/i/r/2021/08/02/d83b7f3b-b85f-4a74-af92-32cb04b7680e/thumbnail/620x261/faa7020f0bfe9a67b0e6b5452970dfa7/hubbleviewjupiter.jpg?v=8de240724d7f6d8b5f54f62bb158c012#\n",
      "https://assets2.cbsnewsstatic.com/hub/i/r/2021/08/03/846a122a-c46e-4469-a8ad-fc7651641195/thumbnail/620x620/4f8e0fc6380018cbf0c92d7cd384d09c/pia19821-nustar-xrt-sun.jpg?v=8de240724d7f6d8b5f54f62bb158c012#\n",
      "https://assets2.cbsnewsstatic.com/hub/i/r/2021/08/02/9ac1e8f2-870b-4e02-b437-d27e3024034c/thumbnail/620x269/c799937232db15530c9f8380fcae042b/saturnwow.jpg?v=8de240724d7f6d8b5f54f62bb158c012#\n",
      "https://assets2.cbsnewsstatic.com/hub/i/r/2021/08/02/fc6ce5b5-e25b-4ea8-a967-24961deac4d8/thumbnail/620x402/d6b516b4c8b0535a41b360c0fa9d54ac/infraredpluto.jpg?v=8de240724d7f6d8b5f54f62bb158c012#\n",
      "https://assets1.cbsnewsstatic.com/hub/i/r/2021/08/02/edaafc11-0da4-4ec8-bd53-f8a530cb6068/thumbnail/620x620/3bdeea35c84c0c087e6dfaf5b8388da3/plutomooncharon.jpg?v=8de240724d7f6d8b5f54f62bb158c012#\n",
      "https://assets2.cbsnewsstatic.com/hub/i/r/2021/08/02/ed815531-565f-4eba-9c9f-c273f10edac7/thumbnail/620x561/05e50f9d9fe34a1dfca9a0b73f17d5fe/lagoonnebula.jpg?v=8de240724d7f6d8b5f54f62bb158c012#\n",
      "https://assets1.cbsnewsstatic.com/hub/i/r/2021/08/02/428081ad-8dbc-47da-9f37-ebf6152932ef/thumbnail/620x622/05e372b2c234706ebfb103bf98c3eab4/mickeymercury.jpg?v=8de240724d7f6d8b5f54f62bb158c012#\n"
     ]
    }
   ],
   "source": [
    "tags=soup.findAll('img')\n",
    "for tag in tags[1::]:\n",
    "    print(tag.get('src'))"
   ]
  },
  {
   "cell_type": "code",
   "execution_count": 21,
   "id": "a07ed1ee-84fe-4dbe-bc03-1ebf21a8bb7c",
   "metadata": {
    "tags": []
   },
   "outputs": [
    {
     "ename": "OSError",
     "evalue": "[Errno 22] Invalid argument: 'Photo/atlantisinspace.jpg?v=8de240724d7f6d8b5f54f62bb158c012#'",
     "output_type": "error",
     "traceback": [
      "\u001b[1;31m---------------------------------------------------------------------------\u001b[0m",
      "\u001b[1;31mOSError\u001b[0m                                   Traceback (most recent call last)",
      "Cell \u001b[1;32mIn[21], line 9\u001b[0m\n\u001b[0;32m      7\u001b[0m index\u001b[38;5;241m=\u001b[39msrc\u001b[38;5;241m.\u001b[39mrindex(\u001b[38;5;124m'\u001b[39m\u001b[38;5;124m/\u001b[39m\u001b[38;5;124m'\u001b[39m)\n\u001b[0;32m      8\u001b[0m img_name\u001b[38;5;241m=\u001b[39msrc[index\u001b[38;5;241m+\u001b[39m\u001b[38;5;241m1\u001b[39m:]\n\u001b[1;32m----> 9\u001b[0m file\u001b[38;5;241m=\u001b[39m\u001b[38;5;28mopen\u001b[39m(\u001b[38;5;124mf\u001b[39m\u001b[38;5;124m'\u001b[39m\u001b[38;5;124mPhoto/\u001b[39m\u001b[38;5;132;01m{\u001b[39;00mimg_name\u001b[38;5;132;01m}\u001b[39;00m\u001b[38;5;124m'\u001b[39m,\u001b[38;5;124m'\u001b[39m\u001b[38;5;124mwb\u001b[39m\u001b[38;5;124m'\u001b[39m)\n\u001b[0;32m     10\u001b[0m file\u001b[38;5;241m.\u001b[39mwrite(data)\n\u001b[0;32m     11\u001b[0m file\u001b[38;5;241m.\u001b[39mclose()\n",
      "File \u001b[1;32m~\\anaconda3\\Lib\\site-packages\\IPython\\core\\interactiveshell.py:324\u001b[0m, in \u001b[0;36m_modified_open\u001b[1;34m(file, *args, **kwargs)\u001b[0m\n\u001b[0;32m    317\u001b[0m \u001b[38;5;28;01mif\u001b[39;00m file \u001b[38;5;129;01min\u001b[39;00m {\u001b[38;5;241m0\u001b[39m, \u001b[38;5;241m1\u001b[39m, \u001b[38;5;241m2\u001b[39m}:\n\u001b[0;32m    318\u001b[0m     \u001b[38;5;28;01mraise\u001b[39;00m \u001b[38;5;167;01mValueError\u001b[39;00m(\n\u001b[0;32m    319\u001b[0m         \u001b[38;5;124mf\u001b[39m\u001b[38;5;124m\"\u001b[39m\u001b[38;5;124mIPython won\u001b[39m\u001b[38;5;124m'\u001b[39m\u001b[38;5;124mt let you open fd=\u001b[39m\u001b[38;5;132;01m{\u001b[39;00mfile\u001b[38;5;132;01m}\u001b[39;00m\u001b[38;5;124m by default \u001b[39m\u001b[38;5;124m\"\u001b[39m\n\u001b[0;32m    320\u001b[0m         \u001b[38;5;124m\"\u001b[39m\u001b[38;5;124mas it is likely to crash IPython. If you know what you are doing, \u001b[39m\u001b[38;5;124m\"\u001b[39m\n\u001b[0;32m    321\u001b[0m         \u001b[38;5;124m\"\u001b[39m\u001b[38;5;124myou can use builtins\u001b[39m\u001b[38;5;124m'\u001b[39m\u001b[38;5;124m open.\u001b[39m\u001b[38;5;124m\"\u001b[39m\n\u001b[0;32m    322\u001b[0m     )\n\u001b[1;32m--> 324\u001b[0m \u001b[38;5;28;01mreturn\u001b[39;00m io_open(file, \u001b[38;5;241m*\u001b[39margs, \u001b[38;5;241m*\u001b[39m\u001b[38;5;241m*\u001b[39mkwargs)\n",
      "\u001b[1;31mOSError\u001b[0m: [Errno 22] Invalid argument: 'Photo/atlantisinspace.jpg?v=8de240724d7f6d8b5f54f62bb158c012#'"
     ]
    }
   ],
   "source": [
    "tags=soup.findAll('img')\n",
    "for tag in tags[1::]:\n",
    "    url='https://www.hindugallery.com/lord-vishnu-images/'\n",
    "    src=tag.get('src')\n",
    "    con=re.get(src)\n",
    "    data=con.content\n",
    "    index=src.rindex('/')\n",
    "    img_name=src[index+1:]\n",
    "    file=open(f'Photo/{img_name}','wb')\n",
    "    file.write(data)\n",
    "    file.close()\n",
    "print('img downladed')"
   ]
  },
  {
   "cell_type": "code",
   "execution_count": 29,
   "id": "f6ac6689-3b9b-4c0b-b9db-be04dda7a2b6",
   "metadata": {},
   "outputs": [
    {
     "ename": "OSError",
     "evalue": "[Errno 22] Invalid argument: 'Photo/space/galaxiescollide.jpg?v=8de240724d7f6d8b5f54f62bb158c012#'",
     "output_type": "error",
     "traceback": [
      "\u001b[1;31m---------------------------------------------------------------------------\u001b[0m",
      "\u001b[1;31mOSError\u001b[0m                                   Traceback (most recent call last)",
      "Cell \u001b[1;32mIn[29], line 13\u001b[0m\n\u001b[0;32m     11\u001b[0m index\u001b[38;5;241m=\u001b[39mtag\u001b[38;5;241m.\u001b[39mrindex(\u001b[38;5;124m'\u001b[39m\u001b[38;5;124m/\u001b[39m\u001b[38;5;124m'\u001b[39m)\n\u001b[0;32m     12\u001b[0m img_name\u001b[38;5;241m=\u001b[39mtag[index\u001b[38;5;241m+\u001b[39m\u001b[38;5;241m1\u001b[39m:]\n\u001b[1;32m---> 13\u001b[0m file\u001b[38;5;241m=\u001b[39m\u001b[38;5;28mopen\u001b[39m(\u001b[38;5;124mf\u001b[39m\u001b[38;5;124m'\u001b[39m\u001b[38;5;124mPhoto/space/\u001b[39m\u001b[38;5;132;01m{\u001b[39;00mimg_name\u001b[38;5;132;01m}\u001b[39;00m\u001b[38;5;124m'\u001b[39m,\u001b[38;5;124m'\u001b[39m\u001b[38;5;124mwb\u001b[39m\u001b[38;5;124m'\u001b[39m)\n\u001b[0;32m     14\u001b[0m file\u001b[38;5;241m.\u001b[39mwrite(data)\n\u001b[0;32m     15\u001b[0m file\u001b[38;5;241m.\u001b[39mclose()\n",
      "File \u001b[1;32m~\\anaconda3\\Lib\\site-packages\\IPython\\core\\interactiveshell.py:324\u001b[0m, in \u001b[0;36m_modified_open\u001b[1;34m(file, *args, **kwargs)\u001b[0m\n\u001b[0;32m    317\u001b[0m \u001b[38;5;28;01mif\u001b[39;00m file \u001b[38;5;129;01min\u001b[39;00m {\u001b[38;5;241m0\u001b[39m, \u001b[38;5;241m1\u001b[39m, \u001b[38;5;241m2\u001b[39m}:\n\u001b[0;32m    318\u001b[0m     \u001b[38;5;28;01mraise\u001b[39;00m \u001b[38;5;167;01mValueError\u001b[39;00m(\n\u001b[0;32m    319\u001b[0m         \u001b[38;5;124mf\u001b[39m\u001b[38;5;124m\"\u001b[39m\u001b[38;5;124mIPython won\u001b[39m\u001b[38;5;124m'\u001b[39m\u001b[38;5;124mt let you open fd=\u001b[39m\u001b[38;5;132;01m{\u001b[39;00mfile\u001b[38;5;132;01m}\u001b[39;00m\u001b[38;5;124m by default \u001b[39m\u001b[38;5;124m\"\u001b[39m\n\u001b[0;32m    320\u001b[0m         \u001b[38;5;124m\"\u001b[39m\u001b[38;5;124mas it is likely to crash IPython. If you know what you are doing, \u001b[39m\u001b[38;5;124m\"\u001b[39m\n\u001b[0;32m    321\u001b[0m         \u001b[38;5;124m\"\u001b[39m\u001b[38;5;124myou can use builtins\u001b[39m\u001b[38;5;124m'\u001b[39m\u001b[38;5;124m open.\u001b[39m\u001b[38;5;124m\"\u001b[39m\n\u001b[0;32m    322\u001b[0m     )\n\u001b[1;32m--> 324\u001b[0m \u001b[38;5;28;01mreturn\u001b[39;00m io_open(file, \u001b[38;5;241m*\u001b[39margs, \u001b[38;5;241m*\u001b[39m\u001b[38;5;241m*\u001b[39mkwargs)\n",
      "\u001b[1;31mOSError\u001b[0m: [Errno 22] Invalid argument: 'Photo/space/galaxiescollide.jpg?v=8de240724d7f6d8b5f54f62bb158c012#'"
     ]
    }
   ],
   "source": [
    "import requests as re\n",
    "import bs4 as b\n",
    "con=re.get('https://www.cbsnews.com/pictures/space-pitures-planets-photos/')\n",
    "data=con.text\n",
    "soup=b.BeautifulSoup(data)\n",
    "tags=soup.findAll('img')\n",
    "x=[tag.get('src') for tag in tags if '.jpg' in tag.get('src')]\n",
    "for tag in x:\n",
    "    con=re.get(tag)\n",
    "    data=con.content\n",
    "    index=tag.rindex('/')\n",
    "    img_name=tag[index+1:]\n",
    "    file=open(f'Photo/space/{img_name}','wb')\n",
    "    file.write(data)\n",
    "    file.close()\n",
    "print('img downladed')"
   ]
  },
  {
   "cell_type": "code",
   "execution_count": null,
   "id": "870490e0-5003-48d5-8e06-f2c66936cf94",
   "metadata": {},
   "outputs": [],
   "source": []
  }
 ],
 "metadata": {
  "kernelspec": {
   "display_name": "Python 3 (ipykernel)",
   "language": "python",
   "name": "python3"
  },
  "language_info": {
   "codemirror_mode": {
    "name": "ipython",
    "version": 3
   },
   "file_extension": ".py",
   "mimetype": "text/x-python",
   "name": "python",
   "nbconvert_exporter": "python",
   "pygments_lexer": "ipython3",
   "version": "3.12.7"
  }
 },
 "nbformat": 4,
 "nbformat_minor": 5
}
