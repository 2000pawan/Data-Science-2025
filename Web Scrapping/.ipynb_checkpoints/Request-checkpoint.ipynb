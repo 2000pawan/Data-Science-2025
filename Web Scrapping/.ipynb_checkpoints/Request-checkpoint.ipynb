{
 "cells": [
  {
   "cell_type": "code",
   "execution_count": 39,
   "id": "525676b3-faca-4cc6-88c9-b91639990995",
   "metadata": {},
   "outputs": [
    {
     "name": "stdout",
     "output_type": "stream",
     "text": [
      "Python Request Modeule - Version: 2.31.0\n",
      "Licence: Apache 2.0\n",
      "Copyright: Copyright Kenneth Reitz\n",
      "Author: Kenneth Reitz\n",
      "Author Email: me@kennethreitz.org\n",
      "Document url, title, description:\n",
      "https://requests.readthedocs.io\n",
      "requests\n",
      "Python HTTP for Humans.\n"
     ]
    }
   ],
   "source": [
    "import requests\n",
    "print('Python Request Modeule - Version:',requests.__version__)\n",
    "print('Licence:',requests.__license__)\n",
    "print('Copyright:',requests.__copyright__)\n",
    "print('Author:',requests.__author__)\n",
    "print('Author Email:',requests.__author_email__)\n",
    "print('Document url, title, description:')\n",
    "print(requests.__url__)\n",
    "print(requests.__title__)\n",
    "print(requests.__description__)"
   ]
  },
  {
   "cell_type": "code",
   "execution_count": 40,
   "id": "69ffbefb-7af4-4f69-89d2-2ed3b3fbd47e",
   "metadata": {},
   "outputs": [
    {
     "name": "stdout",
     "output_type": "stream",
     "text": [
      "Response of https://google.com/:\n",
      "200\n",
      "Response of https://linktr.ee/2000yadav22:\n",
      "200\n",
      "Response of https://w3resource.com/:\n",
      "200\n",
      "\n",
      "Methods and attributes available to objects on successful \n",
      "request of https://w3resource.com:\n",
      "\n",
      "['__attrs__', '__bool__', '__class__', '__delattr__', '__dict__', '__dir__', '__doc__', '__enter__', '__eq__', '__exit__', '__format__', '__ge__', '__getattribute__', '__getstate__', '__gt__', '__hash__', '__init__', '__init_subclass__', '__iter__', '__le__', '__lt__', '__module__', '__ne__', '__new__', '__nonzero__', '__reduce__', '__reduce_ex__', '__repr__', '__setattr__', '__setstate__', '__sizeof__', '__str__', '__subclasshook__', '__weakref__', '_content', '_content_consumed', '_next', 'apparent_encoding', 'close', 'connection', 'content', 'cookies', 'elapsed', 'encoding', 'headers', 'history', 'is_permanent_redirect', 'is_redirect', 'iter_content', 'iter_lines', 'json', 'links', 'next', 'ok', 'raise_for_status', 'raw', 'reason', 'request', 'status_code', 'text', 'url']\n"
     ]
    }
   ],
   "source": [
    "import requests\n",
    "res=requests.get('https://google.com/')\n",
    "print('Response of https://google.com/:')\n",
    "print(res.status_code)\n",
    "res=requests.get('https://linktr.ee/2000yadav22')\n",
    "print('Response of https://linktr.ee/2000yadav22:')\n",
    "print(res.status_code)\n",
    "res=requests.get('https://w3resource.com/')\n",
    "print('Response of https://w3resource.com/:')\n",
    "print(res.status_code)\n",
    "print('\\nMethods and attributes available to objects on successful \\nrequest of https://w3resource.com:\\n')\n",
    "print(dir(res))"
   ]
  },
  {
   "cell_type": "code",
   "execution_count": 41,
   "id": "53c4d1d5-ad1e-446f-8c39-c4e8f793df5c",
   "metadata": {},
   "outputs": [
    {
     "name": "stdout",
     "output_type": "stream",
     "text": [
      "Response text of https://google.com/:\n",
      "<!doctype html><html itemscope=\"\" itemtype=\"http://schema.org/WebPage\" lang=\"en-IN\"><head><meta content=\"text/html; charset=UTF-8\" http-equiv=\"Content-Type\"><meta content=\"/images/branding/googleg/1x/googleg_standard_color_128dp.png\" itemprop=\"image\"><title>Google</title><script nonce=\"X7JS0ufUFa7md1vmy4221g\">(function(){var _g={kEI:'pkL9Ze__OPjRkPIP8-Oh2AY',kEXPI:'0,1365467,207,4804,2329862,970,379729,44798,24076,12033,2817,14765,4998,55519,2872,2891,11754,77401,230,1014,1,16916,2652,4,86667,6624,7596,1,11942,30212,2,16737,23024,6700,31121,4569,6258,24670,33064,2,2,1,10957,12868,801,10161,8860,14490,15545,6891,9779,42459,20199,6049,27515,39614,3030,15816,356,1448,7734,13278,14256,13449,8840,4652,26890,10674,5303,5210139,2,1391,252,568,13,2,57,88,5991384,1210,2839137,27982998,16673,43886,3,318,4,1281,3,2121778,2585,16815,2,2,22619618,392914,8163,10336,2709,8027,8059,2,578,13021,4427,10577,5874,2,2,25105,1,5886,1923,7287,1301,2370,6407,2765,7037,3994,49,10052,2901,2212,149,2071,5961,390,7745,3,558,4549,672,3829,5,2964,2138,4,106,3847,306,4680,6455,4269,3682,1435,1793,2636,578,3128,1,15,3727,3888,132,148,9,382,4278,2153,598,1261,3,539,72,419,2503,1212,27,361,354,123,32,2,2482,5,2198,746,3,255,13,558,1,1209,50,3234,674,3475,264,2,817,429,1980,1511,1286,901,46,9,122,322,781,349,8,311,14,3956,901,1320,87,2,1036,390,55,2,611,672,453,4,67,218,538,801,413,770,1,182,926,19,6,182,121,430,138,1640,1007,2,4,126,83,112,82,300,3,2,3,129,191,1,311,6,18,1637,372,1,332,326,420,1,3,29,189,284,734,218,442,1231,5,9,483,102,1112,1107,720,4,53,182,212,206,1158,232,283,4,89,410,649,138,17,40,263,393,681,1,149,859,910,110,1,41,117,269,401,2354,38,110,282,10,135,21,263,101,625,27,128,1432,572,2,6,2,119,139,21662948,3,6062,1114,644,1153,1347,3299186',kBL:'2Y3k',kOPI:89978449};(function(){var a;(null==(a=window.google)?0:a.stvsc)?google.kEI=_g.kEI:window.google=_g;}).call(this);})();(function(){google.sn='webhp';google.kHL='en-IN';})();(function(){\n",
      "var h=this||self;function l(){return void 0!==window.google&&void 0!==window.google.kOPI&&0!==window.google.kOPI?window.google.kOPI:null};var m,n=[];function p(a){for(var b;a&&(!a.getAttribute||!(b=a.getAttribute(\"eid\")));)a=a.parentNode;return b||m}function q(a){for(var b=null;a&&(!a.getAttribute||!(b=a.getAttribute(\"leid\")));)a=a.parentNode;return b}function r(a){/^http:/i.test(a)&&\"https:\"===window.location.protocol&&(google.ml&&google.ml(Error(\"a\"),!1,{src:a,glmm:1}),a=\"\");return a}\n",
      "function t(a,b,c,d,k){var e=\"\";-1===b.search(\"&ei=\")&&(e=\"&ei=\"+p(d),-1===b.search(\"&lei=\")&&(d=q(d))&&(e+=\"&lei=\"+d));d=\"\";var g=-1===b.search(\"&cshid=\")&&\"slh\"!==a,f=[];f.push([\"zx\",Date.now().toString()]);h._cshid&&g&&f.push([\"cshid\",h._cshid]);c=c();null!=c&&f.push([\"opi\",c.toString()]);for(c=0;c<f.length;c++){if(0===c||0<c)d+=\"&\";d+=f[c][0]+\"=\"+f[c][1]}return\"/\"+(k||\"gen_204\")+\"?atyp=i&ct=\"+String(a)+\"&cad=\"+(b+e+d)};m=google.kEI;google.getEI=p;google.getLEI=q;google.ml=function(){return null};google.log=function(a,b,c,d,k,e){e=void 0===e?l:e;c||(c=t(a,b,e,d,k));if(c=r(c)){a=new Image;var g=n.length;n[g]=a;a.onerror=a.onload=a.onabort=function(){delete n[g]};a.src=c}};google.logUrl=function(a,b){b=void 0===b?l:b;return t(\"\",a,b)};}).call(this);(function(){google.y={};google.sy=[];google.x=function(a,b){if(a)var c=a.id;else{do c=Math.random();while(google.y[c])}google.y[c]=[a,b];return!1};google.sx=function(a){google.sy.push(a)};google.lm=[];google.plm=function(a){google.lm.push.apply(google.lm,a)};google.lq=[];google.load=function(a,b,c){google.lq.push([[a],b,c])};google.loadAll=function(a,b){google.lq.push([a,b])};google.bx=!1;google.lx=function(){};var d=[];google.fce=function(a,b,c,e){d.push([a,b,c,e])};google.qce=d;}).call(this);google.f={};(function(){\n",
      "document.documentElement.addEventListener(\"submit\",function(b){var a;if(a=b.target){var c=a.getAttribute(\"data-submitfalse\");a=\"1\"===c||\"q\"===c&&!a.elements.q.value?!0:!1}else a=!1;a&&(b.preventDefault(),b.stopPropagation())},!0);document.documentElement.addEventListener(\"click\",function(b){var a;a:{for(a=b.target;a&&a!==document.documentElement;a=a.parentElement)if(\"A\"===a.tagName){a=\"1\"===a.getAttribute(\"data-nohref\");break a}a=!1}a&&b.preventDefault()},!0);}).call(this);</script><style>#gbar,#guser{font-size:13px;padding-top:1px !important;}#gbar{height:22px}#guser{padding-bottom:7px !important;text-align:right}.gbh,.gbd{border-top:1px solid #c9d7f1;font-size:1px}.gbh{height:0;position:absolute;top:24px;width:100%}@media all{.gb1{height:22px;margin-right:.5em;vertical-align:top}#gbar{float:left}}a.gb1,a.gb4{text-decoration:underline !important}a.gb1,a.gb4{color:#00c !important}.gbi .gb4{color:#dd8e27 !important}.gbf .gb4{color:#900 !important}\n",
      "</style><style>body,td,a,p,.h{font-family:arial,sans-serif}body{margin:0;overflow-y:scroll}#gog{padding:3px 8px 0}td{line-height:.8em}.gac_m td{line-height:17px}form{margin-bottom:20px}.h{color:#1967d2}em{font-weight:bold;font-style:normal}.lst{height:25px;width:496px}.gsfi,.lst{font:18px arial,sans-serif}.gsfs{font:17px arial,sans-serif}.ds{display:inline-box;display:inline-block;margin:3px 0 4px;margin-left:4px}input{font-family:inherit}body{background:#fff;color:#000}a{color:#681da8;text-decoration:none}a:hover,a:active{text-decoration:underline}.fl a{color:#1967d2}a:visited{color:#681da8}.sblc{padding-top:5px}.sblc a{display:block;margin:2px 0;margin-left:13px;font-size:11px}.lsbb{background:#f8f9fa;border:solid 1px;border-color:#dadce0 #70757a #70757a #dadce0;height:30px}.lsbb{display:block}#WqQANb a{display:inline-block;margin:0 12px}.lsb{background:url(/images/nav_logo229.png) 0 -261px repeat-x;color:#000;border:none;cursor:pointer;height:30px;margin:0;outline:0;font:15px arial,sans-serif;vertical-align:top}.lsb:active{background:#dadce0}.lst:focus{outline:none}</style><script nonce=\"X7JS0ufUFa7md1vmy4221g\">(function(){window.google.erd={jsr:1,bv:1975,de:true};\n",
      "var h=this||self;var k,l=null!=(k=h.mei)?k:1,n,p=null!=(n=h.sdo)?n:!0,q=0,r,t=google.erd,v=t.jsr;google.ml=function(a,b,d,m,e){e=void 0===e?2:e;b&&(r=a&&a.message);void 0===d&&(d={});d.cad=\"ple_\"+google.ple+\".aple_\"+google.aple;if(google.dl)return google.dl(a,e,d),null;b=d;if(0>v){window.console&&console.error(a,b);if(-2===v)throw a;b=!1}else b=!a||!a.message||\"Error loading script\"===a.message||q>=l&&!m?!1:!0;if(!b)return null;q++;d=d||{};b=encodeURIComponent;var c=\"/gen_204?atyp=i&ei=\"+b(google.kEI);google.kEXPI&&(c+=\"&jexpid=\"+b(google.kEXPI));c+=\"&srcpg=\"+b(google.sn)+\"&jsr=\"+b(t.jsr)+\"&bver=\"+\n",
      "b(t.bv);var f=a.lineNumber;void 0!==f&&(c+=\"&line=\"+f);var g=a.fileName;g&&(0<g.indexOf(\"-extension:/\")&&(e=3),c+=\"&script=\"+b(g),f&&g===window.location.href&&(f=document.documentElement.outerHTML.split(\"\\n\")[f],c+=\"&cad=\"+b(f?f.substring(0,300):\"No script found.\")));google.ple&&1===google.ple&&(e=2);c+=\"&jsel=\"+e;for(var u in d)c+=\"&\",c+=b(u),c+=\"=\",c+=b(d[u]);c=c+\"&emsg=\"+b(a.name+\": \"+a.message);c=c+\"&jsst=\"+b(a.stack||\"N/A\");12288<=c.length&&(c=c.substr(0,12288));a=c;m||google.log(0,\"\",a);return a};window.onerror=function(a,b,d,m,e){r!==a&&(a=e instanceof Error?e:Error(a),void 0===d||\"lineNumber\"in a||(a.lineNumber=d),void 0===b||\"fileName\"in a||(a.fileName=b),google.ml(a,!1,void 0,!1,\"SyntaxError\"===a.name||\"SyntaxError\"===a.message.substring(0,11)||-1!==a.message.indexOf(\"Script error\")?3:0));r=null;p&&q>=l&&(window.onerror=null)};})();</script></head><body bgcolor=\"#fff\"><script nonce=\"X7JS0ufUFa7md1vmy4221g\">(function(){var src='/images/nav_logo229.png';var iesg=false;document.body.onload = function(){window.n && window.n();if (document.images){new Image().src=src;}\n",
      "if (!iesg){document.f&&document.f.q.focus();document.gbqf&&document.gbqf.q.focus();}\n",
      "}\n",
      "})();</script><div id=\"mngb\"><div id=gbar><nobr><b class=gb1>Search</b> <a class=gb1 href=\"https://www.google.com/imghp?hl=en&tab=wi\">Images</a> <a class=gb1 href=\"https://maps.google.co.in/maps?hl=en&tab=wl\">Maps</a> <a class=gb1 href=\"https://play.google.com/?hl=en&tab=w8\">Play</a> <a class=gb1 href=\"https://www.youtube.com/?tab=w1\">YouTube</a> <a class=gb1 href=\"https://news.google.com/?tab=wn\">News</a> <a class=gb1 href=\"https://mail.google.com/mail/?tab=wm\">Gmail</a> <a class=gb1 href=\"https://drive.google.com/?tab=wo\">Drive</a> <a class=gb1 style=\"text-decoration:none\" href=\"https://www.google.co.in/intl/en/about/products?tab=wh\"><u>More</u> &raquo;</a></nobr></div><div id=guser width=100%><nobr><span id=gbn class=gbi></span><span id=gbf class=gbf></span><span id=gbe></span><a href=\"http://www.google.co.in/history/optout?hl=en\" class=gb4>Web History</a> | <a  href=\"/preferences?hl=en\" class=gb4>Settings</a> | <a target=_top id=gb_70 href=\"https://accounts.google.com/ServiceLogin?hl=en&passive=true&continue=https://www.google.com/&ec=GAZAAQ\" class=gb4>Sign in</a></nobr></div><div class=gbh style=left:0></div><div class=gbh style=right:0></div></div><center><br clear=\"all\" id=\"lgpd\"><div id=\"lga\"><img alt=\"Google\" height=\"92\" src=\"/images/branding/googlelogo/1x/googlelogo_white_background_color_272x92dp.png\" style=\"padding:28px 0 14px\" width=\"272\" id=\"hplogo\"><br><br></div><form action=\"/search\" name=\"f\"><table cellpadding=\"0\" cellspacing=\"0\"><tr valign=\"top\"><td width=\"25%\">&nbsp;</td><td align=\"center\" nowrap=\"\"><input name=\"ie\" value=\"ISO-8859-1\" type=\"hidden\"><input value=\"en-IN\" name=\"hl\" type=\"hidden\"><input name=\"source\" type=\"hidden\" value=\"hp\"><input name=\"biw\" type=\"hidden\"><input name=\"bih\" type=\"hidden\"><div class=\"ds\" style=\"height:32px;margin:4px 0\"><input class=\"lst\" style=\"margin:0;padding:5px 8px 0 6px;vertical-align:top;color:#000\" autocomplete=\"off\" value=\"\" title=\"Google Search\" maxlength=\"2048\" name=\"q\" size=\"57\"></div><br style=\"line-height:0\"><span class=\"ds\"><span class=\"lsbb\"><input class=\"lsb\" value=\"Google Search\" name=\"btnG\" type=\"submit\"></span></span><span class=\"ds\"><span class=\"lsbb\"><input class=\"lsb\" id=\"tsuid_1\" value=\"I'm Feeling Lucky\" name=\"btnI\" type=\"submit\"><script nonce=\"X7JS0ufUFa7md1vmy4221g\">(function(){var id='tsuid_1';document.getElementById(id).onclick = function(){if (this.form.q.value){this.checked = 1;if (this.form.iflsig)this.form.iflsig.disabled = false;}\n",
      "else top.location='/doodles/';};})();</script><input value=\"ANes7DEAAAAAZf1QtuCRCoNdPWs1sGH_e4SvaFyZvkpl\" name=\"iflsig\" type=\"hidden\"></span></span></td><td class=\"fl sblc\" align=\"left\" nowrap=\"\" width=\"25%\"><a href=\"/advanced_search?hl=en-IN&amp;authuser=0\">Advanced search</a></td></tr></table><input id=\"gbv\" name=\"gbv\" type=\"hidden\" value=\"1\"><script nonce=\"X7JS0ufUFa7md1vmy4221g\">(function(){var a,b=\"1\";if(document&&document.getElementById)if(\"undefined\"!=typeof XMLHttpRequest)b=\"2\";else if(\"undefined\"!=typeof ActiveXObject){var c,d,e=[\"MSXML2.XMLHTTP.6.0\",\"MSXML2.XMLHTTP.3.0\",\"MSXML2.XMLHTTP\",\"Microsoft.XMLHTTP\"];for(c=0;d=e[c++];)try{new ActiveXObject(d),b=\"2\"}catch(h){}}a=b;if(\"2\"==a&&-1==location.search.indexOf(\"&gbv=2\")){var f=google.gbvu,g=document.getElementById(\"gbv\");g&&(g.value=a);f&&window.setTimeout(function(){location.href=f},0)};}).call(this);</script></form><div id=\"gac_scont\"></div><div style=\"font-size:83%;min-height:3.5em\"><br><div id=\"gws-output-pages-elements-homepage_additional_languages__als\"><style>#gws-output-pages-elements-homepage_additional_languages__als{font-size:small;margin-bottom:24px}#SIvCob{color:#474747;display:inline-block;line-height:28px;}#SIvCob a{padding:0 3px;}.H6sW5{display:inline-block;margin:0 2px;white-space:nowrap}.z4hgWe{display:inline-block;margin:0 2px}</style><div id=\"SIvCob\">Google offered in:  <a href=\"https://www.google.com/setprefs?sig=0_8lAjyOg9ELA11RXAv5rzCj_0VOM%3D&amp;hl=hi&amp;source=homepage&amp;sa=X&amp;ved=0ahUKEwjv6p6Su4eFAxX4KEQIHfNxCGsQ2ZgBCAU\">&#2361;&#2367;&#2344;&#2381;&#2342;&#2368;</a>    <a href=\"https://www.google.com/setprefs?sig=0_8lAjyOg9ELA11RXAv5rzCj_0VOM%3D&amp;hl=bn&amp;source=homepage&amp;sa=X&amp;ved=0ahUKEwjv6p6Su4eFAxX4KEQIHfNxCGsQ2ZgBCAY\">&#2476;&#2494;&#2434;&#2482;&#2494;</a>    <a href=\"https://www.google.com/setprefs?sig=0_8lAjyOg9ELA11RXAv5rzCj_0VOM%3D&amp;hl=te&amp;source=homepage&amp;sa=X&amp;ved=0ahUKEwjv6p6Su4eFAxX4KEQIHfNxCGsQ2ZgBCAc\">&#3108;&#3142;&#3122;&#3137;&#3095;&#3137;</a>    <a href=\"https://www.google.com/setprefs?sig=0_8lAjyOg9ELA11RXAv5rzCj_0VOM%3D&amp;hl=mr&amp;source=homepage&amp;sa=X&amp;ved=0ahUKEwjv6p6Su4eFAxX4KEQIHfNxCGsQ2ZgBCAg\">&#2350;&#2352;&#2366;&#2336;&#2368;</a>    <a href=\"https://www.google.com/setprefs?sig=0_8lAjyOg9ELA11RXAv5rzCj_0VOM%3D&amp;hl=ta&amp;source=homepage&amp;sa=X&amp;ved=0ahUKEwjv6p6Su4eFAxX4KEQIHfNxCGsQ2ZgBCAk\">&#2980;&#2990;&#3007;&#2996;&#3021;</a>    <a href=\"https://www.google.com/setprefs?sig=0_8lAjyOg9ELA11RXAv5rzCj_0VOM%3D&amp;hl=gu&amp;source=homepage&amp;sa=X&amp;ved=0ahUKEwjv6p6Su4eFAxX4KEQIHfNxCGsQ2ZgBCAo\">&#2711;&#2753;&#2716;&#2736;&#2750;&#2724;&#2752;</a>    <a href=\"https://www.google.com/setprefs?sig=0_8lAjyOg9ELA11RXAv5rzCj_0VOM%3D&amp;hl=kn&amp;source=homepage&amp;sa=X&amp;ved=0ahUKEwjv6p6Su4eFAxX4KEQIHfNxCGsQ2ZgBCAs\">&#3221;&#3240;&#3277;&#3240;&#3233;</a>    <a href=\"https://www.google.com/setprefs?sig=0_8lAjyOg9ELA11RXAv5rzCj_0VOM%3D&amp;hl=ml&amp;source=homepage&amp;sa=X&amp;ved=0ahUKEwjv6p6Su4eFAxX4KEQIHfNxCGsQ2ZgBCAw\">&#3374;&#3378;&#3375;&#3390;&#3379;&#3330;</a>    <a href=\"https://www.google.com/setprefs?sig=0_8lAjyOg9ELA11RXAv5rzCj_0VOM%3D&amp;hl=pa&amp;source=homepage&amp;sa=X&amp;ved=0ahUKEwjv6p6Su4eFAxX4KEQIHfNxCGsQ2ZgBCA0\">&#2602;&#2672;&#2588;&#2622;&#2604;&#2624;</a>  </div></div></div><span id=\"footer\"><div style=\"font-size:10pt\"><div style=\"margin:19px auto;text-align:center\" id=\"WqQANb\"><a href=\"/intl/en/ads/\">Advertising</a><a href=\"http://www.google.co.in/services/\">Business Solutions</a><a href=\"/intl/en/about.html\">About Google</a><a href=\"https://www.google.com/setprefdomain?prefdom=IN&amp;prev=https://www.google.co.in/&amp;sig=K_3em2U8VqILhHNJbVwGaG5Pd-y0I%3D\">Google.co.in</a></div></div><p style=\"font-size:8pt;color:#70757a\">&copy; 2024 - <a href=\"/intl/en/policies/privacy/\">Privacy</a> - <a href=\"/intl/en/policies/terms/\">Terms</a></p></span></center><script nonce=\"X7JS0ufUFa7md1vmy4221g\">(function(){window.google.cdo={height:757,width:1440};(function(){var a=window.innerWidth,b=window.innerHeight;if(!a||!b){var c=window.document,d=\"CSS1Compat\"==c.compatMode?c.documentElement:c.body;a=d.clientWidth;b=d.clientHeight}\n",
      "if(a&&b&&(a!=google.cdo.width||b!=google.cdo.height)){var e=google,f=e.log,g=\"/client_204?&atyp=i&biw=\"+a+\"&bih=\"+b+\"&ei=\"+google.kEI,h=\"\",k=[],l=void 0!==window.google&&void 0!==window.google.kOPI&&0!==window.google.kOPI?window.google.kOPI:null;null!=l&&k.push([\"opi\",l.toString()]);for(var m=0;m<k.length;m++){if(0===m||0<m)h+=\"&\";h+=k[m][0]+\"=\"+k[m][1]}f.call(e,\"\",\"\",g+h)};}).call(this);})();</script>  <script nonce=\"X7JS0ufUFa7md1vmy4221g\">(function(){google.xjs={basecomb:'',basecss:'',basejs:'',ck:'xjs.hp.nxfdb3Lv2pg.L.X.O',combam:'AAAAAAAAAAAAAAAAAAAAAAAAAEAAAAAAAADGAQAAgAAgAAAAgAMAAAAAAAAAAAKAg-gIAAbgCAAAvA',cs:'ACT90oEwRUUod-JPAP3cpe9VTDR3NHqW_w',cssam:'AAAAAAAAAAAAAAAAAAAAAAAAAAAAAAAAAAAAAAAAgAAgAAAAAAAAAAAAAAAAAAI',csss:'ACT90oE2T0yZarnp773-f4ozRbRvH1egYQ',excm:[],jsam:'AAAAAAAAAAAAAAAAAAAAAAAAAEAAAAAAAADGAQAAAAAAAAAAgAMAAAAAAAAAAACAg-gIAAbgCAAAvA',jss:'ACT90oHfGWDtv415Dlm_YryMrJfsbarBMg'};})();</script>    <script nonce=\"X7JS0ufUFa7md1vmy4221g\">(function(){var u='/xjs/_/js/k\\x3dxjs.hp.en.ut62Ot_0kTc.O/am\\x3dAAAAAAAAAAAAAAAAAAAAAAAAAEAAAAAAAADGAQAAAAAAAAAAgAMAAAAAAAAAAACAg-gIAAbgCAAAvA/d\\x3d1/ed\\x3d1/rs\\x3dACT90oHfGWDtv415Dlm_YryMrJfsbarBMg/m\\x3dsb_he,d';var amd=0;\n",
      "var e=this||self,f=function(a){return a};var g;var h=function(a){this.g=a};h.prototype.toString=function(){return this.g+\"\"};var k={};\n",
      "function l(a,b){a.src=b instanceof h&&b.constructor===h?b.g:\"type_error:TrustedResourceUrl\";var c,d;(c=(b=null==(d=(c=(a.ownerDocument&&a.ownerDocument.defaultView||window).document).querySelector)?void 0:d.call(c,\"script[nonce]\"))?b.nonce||b.getAttribute(\"nonce\")||\"\":\"\")&&a.setAttribute(\"nonce\",c)};var m=function(){var a=document;var b=\"SCRIPT\";\"application/xhtml+xml\"===a.contentType&&(b=b.toLowerCase());return a.createElement(b)};function n(a){a=null===a?\"null\":void 0===a?\"undefined\":a;if(void 0===g){var b=null;var c=e.trustedTypes;if(c&&c.createPolicy){try{b=c.createPolicy(\"goog#html\",{createHTML:f,createScript:f,createScriptURL:f})}catch(d){e.console&&e.console.error(d.message)}g=b}else g=b}a=(b=g)?b.createScriptURL(a):a;return new h(a,k)};void 0===google.ps&&(google.ps=[]);function p(){var a=u,b=function(){};google.lx=google.stvsc?b:function(){q(a);google.lx=b};google.bx||google.lx()}function r(a,b){b&&l(a,n(b));var c=a.onload;a.onload=function(d){c&&c(d);google.ps=google.ps.filter(function(t){return a!==t})};google.ps.push(a);document.body.appendChild(a)}google.as=r;function q(a){google.timers&&google.timers.load&&google.tick&&google.tick(\"load\",\"xjsls\");var b=m();b.onerror=function(){google.ple=1};b.onload=function(){google.ple=0};google.xjsus=void 0;r(b,a);google.aple=-1;google.psa=!0};google.xjsu=u;e._F_jsUrl=u;var v=function(){p()};setTimeout(function(){0<amd?google.caft(v,amd):p()},0);})();window._ = window._ || {};window._DumpException = _._DumpException = function(e){throw e;};window._s = window._s || {};_s._DumpException = _._DumpException;window._qs = window._qs || {};_qs._DumpException = _._DumpException;(function(){var t=[1,2,0,0,0,320,536870912,770161,270532736,234881024,1024,4096,58720816,402662306,36384,12032];window._F_toggles = window._xjs_toggles = t;})();function _F_installCss(c){}\n",
      "(function(){google.jl={bfl:0,dw:false,ine:false,ubm:false,uwp:true,vs:false};})();(function(){var pmc='{\\x22d\\x22:{},\\x22sb_he\\x22:{\\x22agen\\x22:false,\\x22cgen\\x22:false,\\x22client\\x22:\\x22heirloom-hp\\x22,\\x22dh\\x22:true,\\x22ds\\x22:\\x22\\x22,\\x22fl\\x22:true,\\x22host\\x22:\\x22google.com\\x22,\\x22jsonp\\x22:true,\\x22msgs\\x22:{\\x22cibl\\x22:\\x22Clear Search\\x22,\\x22dym\\x22:\\x22Did you mean:\\x22,\\x22lcky\\x22:\\x22I\\\\u0026#39;m Feeling Lucky\\x22,\\x22lml\\x22:\\x22Learn more\\x22,\\x22psrc\\x22:\\x22This search was removed from your \\\\u003Ca href\\x3d\\\\\\x22/history\\\\\\x22\\\\u003EWeb History\\\\u003C/a\\\\u003E\\x22,\\x22psrl\\x22:\\x22Remove\\x22,\\x22sbit\\x22:\\x22Search by image\\x22,\\x22srch\\x22:\\x22Google Search\\x22},\\x22ovr\\x22:{},\\x22pq\\x22:\\x22\\x22,\\x22rfs\\x22:[],\\x22sbas\\x22:\\x220 3px 8px 0 rgba(0,0,0,0.2),0 0 0 1px rgba(0,0,0,0.08)\\x22,\\x22stok\\x22:\\x22zBCEzel1IvKsfKjLjezxIJC8tAM\\x22}}';google.pmc=JSON.parse(pmc);})();(function(){var b=function(a){var c=0;return function(){return c<a.length?{done:!1,value:a[c++]}:{done:!0}}};\n",
      "var e=this||self;var g,h;a:{for(var k=[\"CLOSURE_FLAGS\"],l=e,n=0;n<k.length;n++)if(l=l[k[n]],null==l){h=null;break a}h=l}var p=h&&h[610401301];g=null!=p?p:!1;var q,r=e.navigator;q=r?r.userAgentData||null:null;function t(a){return g?q?q.brands.some(function(c){return(c=c.brand)&&-1!=c.indexOf(a)}):!1:!1}function u(a){var c;a:{if(c=e.navigator)if(c=c.userAgent)break a;c=\"\"}return-1!=c.indexOf(a)};function v(){return g?!!q&&0<q.brands.length:!1}function w(){return u(\"Safari\")&&!(x()||(v()?0:u(\"Coast\"))||(v()?0:u(\"Opera\"))||(v()?0:u(\"Edge\"))||(v()?t(\"Microsoft Edge\"):u(\"Edg/\"))||(v()?t(\"Opera\"):u(\"OPR\"))||u(\"Firefox\")||u(\"FxiOS\")||u(\"Silk\")||u(\"Android\"))}function x(){return v()?t(\"Chromium\"):(u(\"Chrome\")||u(\"CriOS\"))&&!(v()?0:u(\"Edge\"))||u(\"Silk\")}function y(){return u(\"Android\")&&!(x()||u(\"Firefox\")||u(\"FxiOS\")||(v()?0:u(\"Opera\"))||u(\"Silk\"))};var z=v()?!1:u(\"Trident\")||u(\"MSIE\");y();x();w();Object.freeze(new function(){});Object.freeze(new function(){});var A=!z&&!w(),D=function(a){if(/-[a-z]/.test(\"ved\"))return null;if(A&&a.dataset){if(y()&&!(\"ved\"in a.dataset))return null;a=a.dataset.ved;return void 0===a?null:a}return a.getAttribute(\"data-\"+\"ved\".replace(/([A-Z])/g,\"-$1\").toLowerCase())};var E=[],F=null;function G(a){a=a.target;var c=performance.now(),f=[],H=f.concat,d=E;if(!(d instanceof Array)){var m=\"undefined\"!=typeof Symbol&&Symbol.iterator&&d[Symbol.iterator];if(m)d=m.call(d);else if(\"number\"==typeof d.length)d={next:b(d)};else throw Error(\"a`\"+String(d));for(var B=[];!(m=d.next()).done;)B.push(m.value);d=B}E=H.call(f,d,[c]);if(a&&a instanceof HTMLElement)if(a===F){if(c=4<=E.length)c=5>(E[E.length-1]-E[E.length-4])/1E3;if(c){c=google.getEI(a);a.hasAttribute(\"data-ved\")?f=a?D(a)||\"\":\"\":f=(f=\n",
      "a.closest(\"[data-ved]\"))?D(f)||\"\":\"\";f=f||\"\";if(a.hasAttribute(\"jsname\"))a=a.getAttribute(\"jsname\");else{var C;a=null==(C=a.closest(\"[jsname]\"))?void 0:C.getAttribute(\"jsname\")}google.log(\"rcm\",\"&ei=\"+c+\"&ved=\"+f+\"&jsname=\"+(a||\"\"))}}else F=a,E=[c]}window.document.addEventListener(\"DOMContentLoaded\",function(){document.body.addEventListener(\"click\",G)});}).call(this);</script></body></html>\n",
      "\n",
      "===========================================================================\n",
      "\n",
      "Content of the said url:\n",
      "b'<!doctype html><html itemscope=\"\" itemtype=\"http://schema.org/WebPage\" lang=\"en-IN\"><head><meta content=\"text/html; charset=UTF-8\" http-equiv=\"Content-Type\"><meta content=\"/images/branding/googleg/1x/googleg_standard_color_128dp.png\" itemprop=\"image\"><title>Google</title><script nonce=\"X7JS0ufUFa7md1vmy4221g\">(function(){var _g={kEI:\\'pkL9Ze__OPjRkPIP8-Oh2AY\\',kEXPI:\\'0,1365467,207,4804,2329862,970,379729,44798,24076,12033,2817,14765,4998,55519,2872,2891,11754,77401,230,1014,1,16916,2652,4,86667,6624,7596,1,11942,30212,2,16737,23024,6700,31121,4569,6258,24670,33064,2,2,1,10957,12868,801,10161,8860,14490,15545,6891,9779,42459,20199,6049,27515,39614,3030,15816,356,1448,7734,13278,14256,13449,8840,4652,26890,10674,5303,5210139,2,1391,252,568,13,2,57,88,5991384,1210,2839137,27982998,16673,43886,3,318,4,1281,3,2121778,2585,16815,2,2,22619618,392914,8163,10336,2709,8027,8059,2,578,13021,4427,10577,5874,2,2,25105,1,5886,1923,7287,1301,2370,6407,2765,7037,3994,49,10052,2901,2212,149,2071,5961,390,7745,3,558,4549,672,3829,5,2964,2138,4,106,3847,306,4680,6455,4269,3682,1435,1793,2636,578,3128,1,15,3727,3888,132,148,9,382,4278,2153,598,1261,3,539,72,419,2503,1212,27,361,354,123,32,2,2482,5,2198,746,3,255,13,558,1,1209,50,3234,674,3475,264,2,817,429,1980,1511,1286,901,46,9,122,322,781,349,8,311,14,3956,901,1320,87,2,1036,390,55,2,611,672,453,4,67,218,538,801,413,770,1,182,926,19,6,182,121,430,138,1640,1007,2,4,126,83,112,82,300,3,2,3,129,191,1,311,6,18,1637,372,1,332,326,420,1,3,29,189,284,734,218,442,1231,5,9,483,102,1112,1107,720,4,53,182,212,206,1158,232,283,4,89,410,649,138,17,40,263,393,681,1,149,859,910,110,1,41,117,269,401,2354,38,110,282,10,135,21,263,101,625,27,128,1432,572,2,6,2,119,139,21662948,3,6062,1114,644,1153,1347,3299186\\',kBL:\\'2Y3k\\',kOPI:89978449};(function(){var a;(null==(a=window.google)?0:a.stvsc)?google.kEI=_g.kEI:window.google=_g;}).call(this);})();(function(){google.sn=\\'webhp\\';google.kHL=\\'en-IN\\';})();(function(){\\nvar h=this||self;function l(){return void 0!==window.google&&void 0!==window.google.kOPI&&0!==window.google.kOPI?window.google.kOPI:null};var m,n=[];function p(a){for(var b;a&&(!a.getAttribute||!(b=a.getAttribute(\"eid\")));)a=a.parentNode;return b||m}function q(a){for(var b=null;a&&(!a.getAttribute||!(b=a.getAttribute(\"leid\")));)a=a.parentNode;return b}function r(a){/^http:/i.test(a)&&\"https:\"===window.location.protocol&&(google.ml&&google.ml(Error(\"a\"),!1,{src:a,glmm:1}),a=\"\");return a}\\nfunction t(a,b,c,d,k){var e=\"\";-1===b.search(\"&ei=\")&&(e=\"&ei=\"+p(d),-1===b.search(\"&lei=\")&&(d=q(d))&&(e+=\"&lei=\"+d));d=\"\";var g=-1===b.search(\"&cshid=\")&&\"slh\"!==a,f=[];f.push([\"zx\",Date.now().toString()]);h._cshid&&g&&f.push([\"cshid\",h._cshid]);c=c();null!=c&&f.push([\"opi\",c.toString()]);for(c=0;c<f.length;c++){if(0===c||0<c)d+=\"&\";d+=f[c][0]+\"=\"+f[c][1]}return\"/\"+(k||\"gen_204\")+\"?atyp=i&ct=\"+String(a)+\"&cad=\"+(b+e+d)};m=google.kEI;google.getEI=p;google.getLEI=q;google.ml=function(){return null};google.log=function(a,b,c,d,k,e){e=void 0===e?l:e;c||(c=t(a,b,e,d,k));if(c=r(c)){a=new Image;var g=n.length;n[g]=a;a.onerror=a.onload=a.onabort=function(){delete n[g]};a.src=c}};google.logUrl=function(a,b){b=void 0===b?l:b;return t(\"\",a,b)};}).call(this);(function(){google.y={};google.sy=[];google.x=function(a,b){if(a)var c=a.id;else{do c=Math.random();while(google.y[c])}google.y[c]=[a,b];return!1};google.sx=function(a){google.sy.push(a)};google.lm=[];google.plm=function(a){google.lm.push.apply(google.lm,a)};google.lq=[];google.load=function(a,b,c){google.lq.push([[a],b,c])};google.loadAll=function(a,b){google.lq.push([a,b])};google.bx=!1;google.lx=function(){};var d=[];google.fce=function(a,b,c,e){d.push([a,b,c,e])};google.qce=d;}).call(this);google.f={};(function(){\\ndocument.documentElement.addEventListener(\"submit\",function(b){var a;if(a=b.target){var c=a.getAttribute(\"data-submitfalse\");a=\"1\"===c||\"q\"===c&&!a.elements.q.value?!0:!1}else a=!1;a&&(b.preventDefault(),b.stopPropagation())},!0);document.documentElement.addEventListener(\"click\",function(b){var a;a:{for(a=b.target;a&&a!==document.documentElement;a=a.parentElement)if(\"A\"===a.tagName){a=\"1\"===a.getAttribute(\"data-nohref\");break a}a=!1}a&&b.preventDefault()},!0);}).call(this);</script><style>#gbar,#guser{font-size:13px;padding-top:1px !important;}#gbar{height:22px}#guser{padding-bottom:7px !important;text-align:right}.gbh,.gbd{border-top:1px solid #c9d7f1;font-size:1px}.gbh{height:0;position:absolute;top:24px;width:100%}@media all{.gb1{height:22px;margin-right:.5em;vertical-align:top}#gbar{float:left}}a.gb1,a.gb4{text-decoration:underline !important}a.gb1,a.gb4{color:#00c !important}.gbi .gb4{color:#dd8e27 !important}.gbf .gb4{color:#900 !important}\\n</style><style>body,td,a,p,.h{font-family:arial,sans-serif}body{margin:0;overflow-y:scroll}#gog{padding:3px 8px 0}td{line-height:.8em}.gac_m td{line-height:17px}form{margin-bottom:20px}.h{color:#1967d2}em{font-weight:bold;font-style:normal}.lst{height:25px;width:496px}.gsfi,.lst{font:18px arial,sans-serif}.gsfs{font:17px arial,sans-serif}.ds{display:inline-box;display:inline-block;margin:3px 0 4px;margin-left:4px}input{font-family:inherit}body{background:#fff;color:#000}a{color:#681da8;text-decoration:none}a:hover,a:active{text-decoration:underline}.fl a{color:#1967d2}a:visited{color:#681da8}.sblc{padding-top:5px}.sblc a{display:block;margin:2px 0;margin-left:13px;font-size:11px}.lsbb{background:#f8f9fa;border:solid 1px;border-color:#dadce0 #70757a #70757a #dadce0;height:30px}.lsbb{display:block}#WqQANb a{display:inline-block;margin:0 12px}.lsb{background:url(/images/nav_logo229.png) 0 -261px repeat-x;color:#000;border:none;cursor:pointer;height:30px;margin:0;outline:0;font:15px arial,sans-serif;vertical-align:top}.lsb:active{background:#dadce0}.lst:focus{outline:none}</style><script nonce=\"X7JS0ufUFa7md1vmy4221g\">(function(){window.google.erd={jsr:1,bv:1975,de:true};\\nvar h=this||self;var k,l=null!=(k=h.mei)?k:1,n,p=null!=(n=h.sdo)?n:!0,q=0,r,t=google.erd,v=t.jsr;google.ml=function(a,b,d,m,e){e=void 0===e?2:e;b&&(r=a&&a.message);void 0===d&&(d={});d.cad=\"ple_\"+google.ple+\".aple_\"+google.aple;if(google.dl)return google.dl(a,e,d),null;b=d;if(0>v){window.console&&console.error(a,b);if(-2===v)throw a;b=!1}else b=!a||!a.message||\"Error loading script\"===a.message||q>=l&&!m?!1:!0;if(!b)return null;q++;d=d||{};b=encodeURIComponent;var c=\"/gen_204?atyp=i&ei=\"+b(google.kEI);google.kEXPI&&(c+=\"&jexpid=\"+b(google.kEXPI));c+=\"&srcpg=\"+b(google.sn)+\"&jsr=\"+b(t.jsr)+\"&bver=\"+\\nb(t.bv);var f=a.lineNumber;void 0!==f&&(c+=\"&line=\"+f);var g=a.fileName;g&&(0<g.indexOf(\"-extension:/\")&&(e=3),c+=\"&script=\"+b(g),f&&g===window.location.href&&(f=document.documentElement.outerHTML.split(\"\\\\n\")[f],c+=\"&cad=\"+b(f?f.substring(0,300):\"No script found.\")));google.ple&&1===google.ple&&(e=2);c+=\"&jsel=\"+e;for(var u in d)c+=\"&\",c+=b(u),c+=\"=\",c+=b(d[u]);c=c+\"&emsg=\"+b(a.name+\": \"+a.message);c=c+\"&jsst=\"+b(a.stack||\"N/A\");12288<=c.length&&(c=c.substr(0,12288));a=c;m||google.log(0,\"\",a);return a};window.onerror=function(a,b,d,m,e){r!==a&&(a=e instanceof Error?e:Error(a),void 0===d||\"lineNumber\"in a||(a.lineNumber=d),void 0===b||\"fileName\"in a||(a.fileName=b),google.ml(a,!1,void 0,!1,\"SyntaxError\"===a.name||\"SyntaxError\"===a.message.substring(0,11)||-1!==a.message.indexOf(\"Script error\")?3:0));r=null;p&&q>=l&&(window.onerror=null)};})();</script></head><body bgcolor=\"#fff\"><script nonce=\"X7JS0ufUFa7md1vmy4221g\">(function(){var src=\\'/images/nav_logo229.png\\';var iesg=false;document.body.onload = function(){window.n && window.n();if (document.images){new Image().src=src;}\\nif (!iesg){document.f&&document.f.q.focus();document.gbqf&&document.gbqf.q.focus();}\\n}\\n})();</script><div id=\"mngb\"><div id=gbar><nobr><b class=gb1>Search</b> <a class=gb1 href=\"https://www.google.com/imghp?hl=en&tab=wi\">Images</a> <a class=gb1 href=\"https://maps.google.co.in/maps?hl=en&tab=wl\">Maps</a> <a class=gb1 href=\"https://play.google.com/?hl=en&tab=w8\">Play</a> <a class=gb1 href=\"https://www.youtube.com/?tab=w1\">YouTube</a> <a class=gb1 href=\"https://news.google.com/?tab=wn\">News</a> <a class=gb1 href=\"https://mail.google.com/mail/?tab=wm\">Gmail</a> <a class=gb1 href=\"https://drive.google.com/?tab=wo\">Drive</a> <a class=gb1 style=\"text-decoration:none\" href=\"https://www.google.co.in/intl/en/about/products?tab=wh\"><u>More</u> &raquo;</a></nobr></div><div id=guser width=100%><nobr><span id=gbn class=gbi></span><span id=gbf class=gbf></span><span id=gbe></span><a href=\"http://www.google.co.in/history/optout?hl=en\" class=gb4>Web History</a> | <a  href=\"/preferences?hl=en\" class=gb4>Settings</a> | <a target=_top id=gb_70 href=\"https://accounts.google.com/ServiceLogin?hl=en&passive=true&continue=https://www.google.com/&ec=GAZAAQ\" class=gb4>Sign in</a></nobr></div><div class=gbh style=left:0></div><div class=gbh style=right:0></div></div><center><br clear=\"all\" id=\"lgpd\"><div id=\"lga\"><img alt=\"Google\" height=\"92\" src=\"/images/branding/googlelogo/1x/googlelogo_white_background_color_272x92dp.png\" style=\"padding:28px 0 14px\" width=\"272\" id=\"hplogo\"><br><br></div><form action=\"/search\" name=\"f\"><table cellpadding=\"0\" cellspacing=\"0\"><tr valign=\"top\"><td width=\"25%\">&nbsp;</td><td align=\"center\" nowrap=\"\"><input name=\"ie\" value=\"ISO-8859-1\" type=\"hidden\"><input value=\"en-IN\" name=\"hl\" type=\"hidden\"><input name=\"source\" type=\"hidden\" value=\"hp\"><input name=\"biw\" type=\"hidden\"><input name=\"bih\" type=\"hidden\"><div class=\"ds\" style=\"height:32px;margin:4px 0\"><input class=\"lst\" style=\"margin:0;padding:5px 8px 0 6px;vertical-align:top;color:#000\" autocomplete=\"off\" value=\"\" title=\"Google Search\" maxlength=\"2048\" name=\"q\" size=\"57\"></div><br style=\"line-height:0\"><span class=\"ds\"><span class=\"lsbb\"><input class=\"lsb\" value=\"Google Search\" name=\"btnG\" type=\"submit\"></span></span><span class=\"ds\"><span class=\"lsbb\"><input class=\"lsb\" id=\"tsuid_1\" value=\"I\\'m Feeling Lucky\" name=\"btnI\" type=\"submit\"><script nonce=\"X7JS0ufUFa7md1vmy4221g\">(function(){var id=\\'tsuid_1\\';document.getElementById(id).onclick = function(){if (this.form.q.value){this.checked = 1;if (this.form.iflsig)this.form.iflsig.disabled = false;}\\nelse top.location=\\'/doodles/\\';};})();</script><input value=\"ANes7DEAAAAAZf1QtuCRCoNdPWs1sGH_e4SvaFyZvkpl\" name=\"iflsig\" type=\"hidden\"></span></span></td><td class=\"fl sblc\" align=\"left\" nowrap=\"\" width=\"25%\"><a href=\"/advanced_search?hl=en-IN&amp;authuser=0\">Advanced search</a></td></tr></table><input id=\"gbv\" name=\"gbv\" type=\"hidden\" value=\"1\"><script nonce=\"X7JS0ufUFa7md1vmy4221g\">(function(){var a,b=\"1\";if(document&&document.getElementById)if(\"undefined\"!=typeof XMLHttpRequest)b=\"2\";else if(\"undefined\"!=typeof ActiveXObject){var c,d,e=[\"MSXML2.XMLHTTP.6.0\",\"MSXML2.XMLHTTP.3.0\",\"MSXML2.XMLHTTP\",\"Microsoft.XMLHTTP\"];for(c=0;d=e[c++];)try{new ActiveXObject(d),b=\"2\"}catch(h){}}a=b;if(\"2\"==a&&-1==location.search.indexOf(\"&gbv=2\")){var f=google.gbvu,g=document.getElementById(\"gbv\");g&&(g.value=a);f&&window.setTimeout(function(){location.href=f},0)};}).call(this);</script></form><div id=\"gac_scont\"></div><div style=\"font-size:83%;min-height:3.5em\"><br><div id=\"gws-output-pages-elements-homepage_additional_languages__als\"><style>#gws-output-pages-elements-homepage_additional_languages__als{font-size:small;margin-bottom:24px}#SIvCob{color:#474747;display:inline-block;line-height:28px;}#SIvCob a{padding:0 3px;}.H6sW5{display:inline-block;margin:0 2px;white-space:nowrap}.z4hgWe{display:inline-block;margin:0 2px}</style><div id=\"SIvCob\">Google offered in:  <a href=\"https://www.google.com/setprefs?sig=0_8lAjyOg9ELA11RXAv5rzCj_0VOM%3D&amp;hl=hi&amp;source=homepage&amp;sa=X&amp;ved=0ahUKEwjv6p6Su4eFAxX4KEQIHfNxCGsQ2ZgBCAU\">&#2361;&#2367;&#2344;&#2381;&#2342;&#2368;</a>    <a href=\"https://www.google.com/setprefs?sig=0_8lAjyOg9ELA11RXAv5rzCj_0VOM%3D&amp;hl=bn&amp;source=homepage&amp;sa=X&amp;ved=0ahUKEwjv6p6Su4eFAxX4KEQIHfNxCGsQ2ZgBCAY\">&#2476;&#2494;&#2434;&#2482;&#2494;</a>    <a href=\"https://www.google.com/setprefs?sig=0_8lAjyOg9ELA11RXAv5rzCj_0VOM%3D&amp;hl=te&amp;source=homepage&amp;sa=X&amp;ved=0ahUKEwjv6p6Su4eFAxX4KEQIHfNxCGsQ2ZgBCAc\">&#3108;&#3142;&#3122;&#3137;&#3095;&#3137;</a>    <a href=\"https://www.google.com/setprefs?sig=0_8lAjyOg9ELA11RXAv5rzCj_0VOM%3D&amp;hl=mr&amp;source=homepage&amp;sa=X&amp;ved=0ahUKEwjv6p6Su4eFAxX4KEQIHfNxCGsQ2ZgBCAg\">&#2350;&#2352;&#2366;&#2336;&#2368;</a>    <a href=\"https://www.google.com/setprefs?sig=0_8lAjyOg9ELA11RXAv5rzCj_0VOM%3D&amp;hl=ta&amp;source=homepage&amp;sa=X&amp;ved=0ahUKEwjv6p6Su4eFAxX4KEQIHfNxCGsQ2ZgBCAk\">&#2980;&#2990;&#3007;&#2996;&#3021;</a>    <a href=\"https://www.google.com/setprefs?sig=0_8lAjyOg9ELA11RXAv5rzCj_0VOM%3D&amp;hl=gu&amp;source=homepage&amp;sa=X&amp;ved=0ahUKEwjv6p6Su4eFAxX4KEQIHfNxCGsQ2ZgBCAo\">&#2711;&#2753;&#2716;&#2736;&#2750;&#2724;&#2752;</a>    <a href=\"https://www.google.com/setprefs?sig=0_8lAjyOg9ELA11RXAv5rzCj_0VOM%3D&amp;hl=kn&amp;source=homepage&amp;sa=X&amp;ved=0ahUKEwjv6p6Su4eFAxX4KEQIHfNxCGsQ2ZgBCAs\">&#3221;&#3240;&#3277;&#3240;&#3233;</a>    <a href=\"https://www.google.com/setprefs?sig=0_8lAjyOg9ELA11RXAv5rzCj_0VOM%3D&amp;hl=ml&amp;source=homepage&amp;sa=X&amp;ved=0ahUKEwjv6p6Su4eFAxX4KEQIHfNxCGsQ2ZgBCAw\">&#3374;&#3378;&#3375;&#3390;&#3379;&#3330;</a>    <a href=\"https://www.google.com/setprefs?sig=0_8lAjyOg9ELA11RXAv5rzCj_0VOM%3D&amp;hl=pa&amp;source=homepage&amp;sa=X&amp;ved=0ahUKEwjv6p6Su4eFAxX4KEQIHfNxCGsQ2ZgBCA0\">&#2602;&#2672;&#2588;&#2622;&#2604;&#2624;</a>  </div></div></div><span id=\"footer\"><div style=\"font-size:10pt\"><div style=\"margin:19px auto;text-align:center\" id=\"WqQANb\"><a href=\"/intl/en/ads/\">Advertising</a><a href=\"http://www.google.co.in/services/\">Business Solutions</a><a href=\"/intl/en/about.html\">About Google</a><a href=\"https://www.google.com/setprefdomain?prefdom=IN&amp;prev=https://www.google.co.in/&amp;sig=K_3em2U8VqILhHNJbVwGaG5Pd-y0I%3D\">Google.co.in</a></div></div><p style=\"font-size:8pt;color:#70757a\">&copy; 2024 - <a href=\"/intl/en/policies/privacy/\">Privacy</a> - <a href=\"/intl/en/policies/terms/\">Terms</a></p></span></center><script nonce=\"X7JS0ufUFa7md1vmy4221g\">(function(){window.google.cdo={height:757,width:1440};(function(){var a=window.innerWidth,b=window.innerHeight;if(!a||!b){var c=window.document,d=\"CSS1Compat\"==c.compatMode?c.documentElement:c.body;a=d.clientWidth;b=d.clientHeight}\\nif(a&&b&&(a!=google.cdo.width||b!=google.cdo.height)){var e=google,f=e.log,g=\"/client_204?&atyp=i&biw=\"+a+\"&bih=\"+b+\"&ei=\"+google.kEI,h=\"\",k=[],l=void 0!==window.google&&void 0!==window.google.kOPI&&0!==window.google.kOPI?window.google.kOPI:null;null!=l&&k.push([\"opi\",l.toString()]);for(var m=0;m<k.length;m++){if(0===m||0<m)h+=\"&\";h+=k[m][0]+\"=\"+k[m][1]}f.call(e,\"\",\"\",g+h)};}).call(this);})();</script>  <script nonce=\"X7JS0ufUFa7md1vmy4221g\">(function(){google.xjs={basecomb:\\'\\',basecss:\\'\\',basejs:\\'\\',ck:\\'xjs.hp.nxfdb3Lv2pg.L.X.O\\',combam:\\'AAAAAAAAAAAAAAAAAAAAAAAAAEAAAAAAAADGAQAAgAAgAAAAgAMAAAAAAAAAAAKAg-gIAAbgCAAAvA\\',cs:\\'ACT90oEwRUUod-JPAP3cpe9VTDR3NHqW_w\\',cssam:\\'AAAAAAAAAAAAAAAAAAAAAAAAAAAAAAAAAAAAAAAAgAAgAAAAAAAAAAAAAAAAAAI\\',csss:\\'ACT90oE2T0yZarnp773-f4ozRbRvH1egYQ\\',excm:[],jsam:\\'AAAAAAAAAAAAAAAAAAAAAAAAAEAAAAAAAADGAQAAAAAAAAAAgAMAAAAAAAAAAACAg-gIAAbgCAAAvA\\',jss:\\'ACT90oHfGWDtv415Dlm_YryMrJfsbarBMg\\'};})();</script>    <script nonce=\"X7JS0ufUFa7md1vmy4221g\">(function(){var u=\\'/xjs/_/js/k\\\\x3dxjs.hp.en.ut62Ot_0kTc.O/am\\\\x3dAAAAAAAAAAAAAAAAAAAAAAAAAEAAAAAAAADGAQAAAAAAAAAAgAMAAAAAAAAAAACAg-gIAAbgCAAAvA/d\\\\x3d1/ed\\\\x3d1/rs\\\\x3dACT90oHfGWDtv415Dlm_YryMrJfsbarBMg/m\\\\x3dsb_he,d\\';var amd=0;\\nvar e=this||self,f=function(a){return a};var g;var h=function(a){this.g=a};h.prototype.toString=function(){return this.g+\"\"};var k={};\\nfunction l(a,b){a.src=b instanceof h&&b.constructor===h?b.g:\"type_error:TrustedResourceUrl\";var c,d;(c=(b=null==(d=(c=(a.ownerDocument&&a.ownerDocument.defaultView||window).document).querySelector)?void 0:d.call(c,\"script[nonce]\"))?b.nonce||b.getAttribute(\"nonce\")||\"\":\"\")&&a.setAttribute(\"nonce\",c)};var m=function(){var a=document;var b=\"SCRIPT\";\"application/xhtml+xml\"===a.contentType&&(b=b.toLowerCase());return a.createElement(b)};function n(a){a=null===a?\"null\":void 0===a?\"undefined\":a;if(void 0===g){var b=null;var c=e.trustedTypes;if(c&&c.createPolicy){try{b=c.createPolicy(\"goog#html\",{createHTML:f,createScript:f,createScriptURL:f})}catch(d){e.console&&e.console.error(d.message)}g=b}else g=b}a=(b=g)?b.createScriptURL(a):a;return new h(a,k)};void 0===google.ps&&(google.ps=[]);function p(){var a=u,b=function(){};google.lx=google.stvsc?b:function(){q(a);google.lx=b};google.bx||google.lx()}function r(a,b){b&&l(a,n(b));var c=a.onload;a.onload=function(d){c&&c(d);google.ps=google.ps.filter(function(t){return a!==t})};google.ps.push(a);document.body.appendChild(a)}google.as=r;function q(a){google.timers&&google.timers.load&&google.tick&&google.tick(\"load\",\"xjsls\");var b=m();b.onerror=function(){google.ple=1};b.onload=function(){google.ple=0};google.xjsus=void 0;r(b,a);google.aple=-1;google.psa=!0};google.xjsu=u;e._F_jsUrl=u;var v=function(){p()};setTimeout(function(){0<amd?google.caft(v,amd):p()},0);})();window._ = window._ || {};window._DumpException = _._DumpException = function(e){throw e;};window._s = window._s || {};_s._DumpException = _._DumpException;window._qs = window._qs || {};_qs._DumpException = _._DumpException;(function(){var t=[1,2,0,0,0,320,536870912,770161,270532736,234881024,1024,4096,58720816,402662306,36384,12032];window._F_toggles = window._xjs_toggles = t;})();function _F_installCss(c){}\\n(function(){google.jl={bfl:0,dw:false,ine:false,ubm:false,uwp:true,vs:false};})();(function(){var pmc=\\'{\\\\x22d\\\\x22:{},\\\\x22sb_he\\\\x22:{\\\\x22agen\\\\x22:false,\\\\x22cgen\\\\x22:false,\\\\x22client\\\\x22:\\\\x22heirloom-hp\\\\x22,\\\\x22dh\\\\x22:true,\\\\x22ds\\\\x22:\\\\x22\\\\x22,\\\\x22fl\\\\x22:true,\\\\x22host\\\\x22:\\\\x22google.com\\\\x22,\\\\x22jsonp\\\\x22:true,\\\\x22msgs\\\\x22:{\\\\x22cibl\\\\x22:\\\\x22Clear Search\\\\x22,\\\\x22dym\\\\x22:\\\\x22Did you mean:\\\\x22,\\\\x22lcky\\\\x22:\\\\x22I\\\\\\\\u0026#39;m Feeling Lucky\\\\x22,\\\\x22lml\\\\x22:\\\\x22Learn more\\\\x22,\\\\x22psrc\\\\x22:\\\\x22This search was removed from your \\\\\\\\u003Ca href\\\\x3d\\\\\\\\\\\\x22/history\\\\\\\\\\\\x22\\\\\\\\u003EWeb History\\\\\\\\u003C/a\\\\\\\\u003E\\\\x22,\\\\x22psrl\\\\x22:\\\\x22Remove\\\\x22,\\\\x22sbit\\\\x22:\\\\x22Search by image\\\\x22,\\\\x22srch\\\\x22:\\\\x22Google Search\\\\x22},\\\\x22ovr\\\\x22:{},\\\\x22pq\\\\x22:\\\\x22\\\\x22,\\\\x22rfs\\\\x22:[],\\\\x22sbas\\\\x22:\\\\x220 3px 8px 0 rgba(0,0,0,0.2),0 0 0 1px rgba(0,0,0,0.08)\\\\x22,\\\\x22stok\\\\x22:\\\\x22zBCEzel1IvKsfKjLjezxIJC8tAM\\\\x22}}\\';google.pmc=JSON.parse(pmc);})();(function(){var b=function(a){var c=0;return function(){return c<a.length?{done:!1,value:a[c++]}:{done:!0}}};\\nvar e=this||self;var g,h;a:{for(var k=[\"CLOSURE_FLAGS\"],l=e,n=0;n<k.length;n++)if(l=l[k[n]],null==l){h=null;break a}h=l}var p=h&&h[610401301];g=null!=p?p:!1;var q,r=e.navigator;q=r?r.userAgentData||null:null;function t(a){return g?q?q.brands.some(function(c){return(c=c.brand)&&-1!=c.indexOf(a)}):!1:!1}function u(a){var c;a:{if(c=e.navigator)if(c=c.userAgent)break a;c=\"\"}return-1!=c.indexOf(a)};function v(){return g?!!q&&0<q.brands.length:!1}function w(){return u(\"Safari\")&&!(x()||(v()?0:u(\"Coast\"))||(v()?0:u(\"Opera\"))||(v()?0:u(\"Edge\"))||(v()?t(\"Microsoft Edge\"):u(\"Edg/\"))||(v()?t(\"Opera\"):u(\"OPR\"))||u(\"Firefox\")||u(\"FxiOS\")||u(\"Silk\")||u(\"Android\"))}function x(){return v()?t(\"Chromium\"):(u(\"Chrome\")||u(\"CriOS\"))&&!(v()?0:u(\"Edge\"))||u(\"Silk\")}function y(){return u(\"Android\")&&!(x()||u(\"Firefox\")||u(\"FxiOS\")||(v()?0:u(\"Opera\"))||u(\"Silk\"))};var z=v()?!1:u(\"Trident\")||u(\"MSIE\");y();x();w();Object.freeze(new function(){});Object.freeze(new function(){});var A=!z&&!w(),D=function(a){if(/-[a-z]/.test(\"ved\"))return null;if(A&&a.dataset){if(y()&&!(\"ved\"in a.dataset))return null;a=a.dataset.ved;return void 0===a?null:a}return a.getAttribute(\"data-\"+\"ved\".replace(/([A-Z])/g,\"-$1\").toLowerCase())};var E=[],F=null;function G(a){a=a.target;var c=performance.now(),f=[],H=f.concat,d=E;if(!(d instanceof Array)){var m=\"undefined\"!=typeof Symbol&&Symbol.iterator&&d[Symbol.iterator];if(m)d=m.call(d);else if(\"number\"==typeof d.length)d={next:b(d)};else throw Error(\"a`\"+String(d));for(var B=[];!(m=d.next()).done;)B.push(m.value);d=B}E=H.call(f,d,[c]);if(a&&a instanceof HTMLElement)if(a===F){if(c=4<=E.length)c=5>(E[E.length-1]-E[E.length-4])/1E3;if(c){c=google.getEI(a);a.hasAttribute(\"data-ved\")?f=a?D(a)||\"\":\"\":f=(f=\\na.closest(\"[data-ved]\"))?D(f)||\"\":\"\";f=f||\"\";if(a.hasAttribute(\"jsname\"))a=a.getAttribute(\"jsname\");else{var C;a=null==(C=a.closest(\"[jsname]\"))?void 0:C.getAttribute(\"jsname\")}google.log(\"rcm\",\"&ei=\"+c+\"&ved=\"+f+\"&jsname=\"+(a||\"\"))}}else F=a,E=[c]}window.document.addEventListener(\"DOMContentLoaded\",function(){document.body.addEventListener(\"click\",G)});}).call(this);</script></body></html>'\n",
      "\n",
      "===========================================================================\n",
      "\n",
      "Raw data of the said url:\n",
      "<urllib3.response.HTTPResponse object at 0x00000283D77E9930>\n",
      "b'\\x1f\\x8b\\x08\\x00\\x00\\x00\\x00\\x00\\x00\\x03\\xed\\xbd{s$'\n"
     ]
    }
   ],
   "source": [
    "import requests\n",
    "res=requests.get('https://www.google.com/')\n",
    "print('Response text of https://google.com/:')\n",
    "print(res.text)\n",
    "print('\\n===========================================================================')\n",
    "print('\\nContent of the said url:')\n",
    "print(res.content)\n",
    "print('\\n===========================================================================')\n",
    "print('\\nRaw data of the said url:')\n",
    "r=requests.get('https://api.github.com/events',stream=True)\n",
    "print(r.raw)\n",
    "print(r.raw.read(15))"
   ]
  },
  {
   "cell_type": "code",
   "execution_count": 42,
   "id": "664d2ced-64ab-4b49-8010-dc6a9cf800e7",
   "metadata": {},
   "outputs": [
    {
     "name": "stdout",
     "output_type": "stream",
     "text": [
      "Headers information of the said response:\n",
      "{'Server': 'GitHub.com', 'Date': 'Fri, 22 Mar 2024 08:34:34 GMT', 'Cache-Control': 'public, max-age=60, s-maxage=60', 'Vary': 'Accept, Accept-Encoding, Accept, X-Requested-With', 'ETag': '\"4f825cc84e1c733059d46e76e6df9db557ae5254f9625dfe8e1b09499c449438\"', 'x-github-api-version-selected': '2022-11-28', 'Access-Control-Expose-Headers': 'ETag, Link, Location, Retry-After, X-GitHub-OTP, X-RateLimit-Limit, X-RateLimit-Remaining, X-RateLimit-Used, X-RateLimit-Resource, X-RateLimit-Reset, X-OAuth-Scopes, X-Accepted-OAuth-Scopes, X-Poll-Interval, X-GitHub-Media-Type, X-GitHub-SSO, X-GitHub-Request-Id, Deprecation, Sunset', 'Access-Control-Allow-Origin': '*', 'Strict-Transport-Security': 'max-age=31536000; includeSubdomains; preload', 'X-Frame-Options': 'deny', 'X-Content-Type-Options': 'nosniff', 'X-XSS-Protection': '0', 'Referrer-Policy': 'origin-when-cross-origin, strict-origin-when-cross-origin', 'Content-Security-Policy': \"default-src 'none'\", 'Content-Type': 'application/json; charset=utf-8', 'X-GitHub-Media-Type': 'github.v3; format=json', 'Content-Encoding': 'gzip', 'X-RateLimit-Limit': '60', 'X-RateLimit-Remaining': '47', 'X-RateLimit-Reset': '1711097849', 'X-RateLimit-Resource': 'core', 'X-RateLimit-Used': '13', 'Accept-Ranges': 'bytes', 'Content-Length': '510', 'X-GitHub-Request-Id': 'C23C:68242:6C2DFA:71C33C:65FD42AE'}\n",
      "\n",
      "Various key-value pairs information of the said resource and request :\n",
      "Date: Fri, 22 Mar 2024 08:34:34 GMT\n",
      "Server: GitHub.com\n",
      "cache-control:  public, max-age=60, s-maxage=60\n",
      "vary:  Accept, Accept-Encoding, Accept, X-Requested-With\n",
      "x-github-media-type:  github.v3; format=json\n",
      "access-control-expose-headers:  ETag, Link, Location, Retry-After, X-GitHub-OTP, X-RateLimit-Limit, X-RateLimit-Remaining, X-RateLimit-Used, X-RateLimit-Resource, X-RateLimit-Reset, X-OAuth-Scopes, X-Accepted-OAuth-Scopes, X-Poll-Interval, X-GitHub-Media-Type, X-GitHub-SSO, X-GitHub-Request-Id, Deprecation, Sunset\n",
      "strict-transport-security:  max-age=31536000; includeSubdomains; preload\n",
      "x-content-type-options:  nosniff\n",
      "x-xss-protection:  0\n",
      "referrer-policy:  origin-when-cross-origin, strict-origin-when-cross-origin\n",
      "content-security-policy:  default-src 'none'\n",
      "content-encoding:  gzip\n",
      "X-Ratelimit-Remaining:  47\n",
      "X-Ratelimit-Reset:  1711097849\n",
      "X-Ratelimit-Used:  13\n",
      "Accept-Ranges: bytes\n",
      "X-GitHub-Request-Id: C23C:68242:6C2DFA:71C33C:65FD42AE\n",
      "status:  200\n"
     ]
    }
   ],
   "source": [
    "import requests\n",
    "r=requests.get('https://api.github.com/')\n",
    "response=r.headers\n",
    "print('Headers information of the said response:')\n",
    "print(response)\n",
    "print('\\nVarious key-value pairs information of the said resource and request :')\n",
    "print('Date:',r.headers['date'])\n",
    "print('Server:',r.headers['server'])\n",
    "print(\"cache-control: \",r.headers['cache-control'])\n",
    "print(\"vary: \",r.headers['vary'])\n",
    "print(\"x-github-media-type: \",r.headers['x-github-media-type'])\n",
    "print(\"access-control-expose-headers: \",r.headers['access-control-expose-headers'])\n",
    "print(\"strict-transport-security: \",r.headers['strict-transport-security'])\n",
    "print(\"x-content-type-options: \",r.headers['x-content-type-options'])\n",
    "print(\"x-xss-protection: \",r.headers['x-xss-protection'])\n",
    "print(\"referrer-policy: \",r.headers['referrer-policy'])\n",
    "print(\"content-security-policy: \",r.headers['content-security-policy'])\n",
    "print(\"content-encoding: \",r.headers['content-encoding'])\n",
    "print(\"X-Ratelimit-Remaining: \",r.headers['X-Ratelimit-Remaining'])\n",
    "print(\"X-Ratelimit-Reset: \",r.headers['X-Ratelimit-Reset'])\n",
    "print(\"X-Ratelimit-Used: \",r.headers['X-Ratelimit-Used'])\n",
    "print(\"Accept-Ranges:\",r.headers['Accept-Ranges'])\n",
    "print(\"X-GitHub-Request-Id:\",r.headers['X-GitHub-Request-Id'])\n",
    "print(\"status: \",r.status_code)"
   ]
  },
  {
   "cell_type": "code",
   "execution_count": 43,
   "id": "9ff64683-e1e3-4df9-9cc3-7e4c3fec2763",
   "metadata": {},
   "outputs": [
    {
     "name": "stdout",
     "output_type": "stream",
     "text": [
      "{'current_user_url': 'https://api.github.com/user', 'current_user_authorizations_html_url': 'https://github.com/settings/connections/applications{/client_id}', 'authorizations_url': 'https://api.github.com/authorizations', 'code_search_url': 'https://api.github.com/search/code?q={query}{&page,per_page,sort,order}', 'commit_search_url': 'https://api.github.com/search/commits?q={query}{&page,per_page,sort,order}', 'emails_url': 'https://api.github.com/user/emails', 'emojis_url': 'https://api.github.com/emojis', 'events_url': 'https://api.github.com/events', 'feeds_url': 'https://api.github.com/feeds', 'followers_url': 'https://api.github.com/user/followers', 'following_url': 'https://api.github.com/user/following{/target}', 'gists_url': 'https://api.github.com/gists{/gist_id}', 'hub_url': 'https://api.github.com/hub', 'issue_search_url': 'https://api.github.com/search/issues?q={query}{&page,per_page,sort,order}', 'issues_url': 'https://api.github.com/issues', 'keys_url': 'https://api.github.com/user/keys', 'label_search_url': 'https://api.github.com/search/labels?q={query}&repository_id={repository_id}{&page,per_page}', 'notifications_url': 'https://api.github.com/notifications', 'organization_url': 'https://api.github.com/orgs/{org}', 'organization_repositories_url': 'https://api.github.com/orgs/{org}/repos{?type,page,per_page,sort}', 'organization_teams_url': 'https://api.github.com/orgs/{org}/teams', 'public_gists_url': 'https://api.github.com/gists/public', 'rate_limit_url': 'https://api.github.com/rate_limit', 'repository_url': 'https://api.github.com/repos/{owner}/{repo}', 'repository_search_url': 'https://api.github.com/search/repositories?q={query}{&page,per_page,sort,order}', 'current_user_repositories_url': 'https://api.github.com/user/repos{?type,page,per_page,sort}', 'starred_url': 'https://api.github.com/user/starred{/owner}{/repo}', 'starred_gists_url': 'https://api.github.com/gists/starred', 'topic_search_url': 'https://api.github.com/search/topics?q={query}{&page,per_page}', 'user_url': 'https://api.github.com/users/{user}', 'user_organizations_url': 'https://api.github.com/user/orgs', 'user_repositories_url': 'https://api.github.com/users/{user}/repos{?type,page,per_page,sort}', 'user_search_url': 'https://api.github.com/search/users?q={query}{&page,per_page,sort,order}'}\n",
      "\n",
      "Each key of the response:\n",
      "Current user url: https://api.github.com/user\n",
      "Current user authorizations html url: https://github.com/settings/connections/applications{/client_id}\n",
      "Authorizations url: https://api.github.com/authorizations\n",
      "code_search_url: https://api.github.com/search/code?q={query}{&page,per_page,sort,order}\n",
      "commit_search_url: https://api.github.com/search/commits?q={query}{&page,per_page,sort,order}\n",
      "Emails url: https://api.github.com/user/emails\n",
      "Emojis url: https://api.github.com/emojis\n",
      "Events url: https://api.github.com/events\n",
      "Feeds url: https://api.github.com/feeds\n",
      "Followers url: https://api.github.com/user/followers\n",
      "Following url: https://api.github.com/user/following{/target}\n",
      "Gists url: https://api.github.com/gists{/gist_id}\n",
      "Issue search url: https://api.github.com/search/issues?q={query}{&page,per_page,sort,order}\n",
      "Issues url: https://api.github.com/issues\n",
      "Keys url: https://api.github.com/user/keys\n",
      "label search url: https://api.github.com/search/labels?q={query}&repository_id={repository_id}{&page,per_page}\n",
      "Notifications url: https://api.github.com/notifications\n",
      "Organization url: https://api.github.com/orgs/{org}\n",
      "Organization repositories url: https://api.github.com/orgs/{org}/repos{?type,page,per_page,sort}\n",
      "Organization teams url: https://api.github.com/orgs/{org}/teams\n",
      "Public gists url: https://api.github.com/gists/public\n",
      "Rate limit url: https://api.github.com/rate_limit\n",
      "Repository url: https://api.github.com/repos/{owner}/{repo}\n",
      "Repository search url: https://api.github.com/search/repositories?q={query}{&page,per_page,sort,order}\n",
      "Current user repositories url: https://api.github.com/user/repos{?type,page,per_page,sort}\n",
      "Starred url: https://api.github.com/user/starred{/owner}{/repo}\n",
      "Starred gists url: https://api.github.com/gists/starred\n",
      "User url: https://api.github.com/users/{user}\n",
      "User organizations url: https://api.github.com/user/orgs\n",
      "User repositories url: https://api.github.com/users/{user}/repos{?type,page,per_page,sort}\n",
      "User search url: https://api.github.com/search/users?q={query}{&page,per_page,sort,order}\n"
     ]
    }
   ],
   "source": [
    "import requests\n",
    "r=requests.get('https://api.github.com/')\n",
    "response=r.json()\n",
    "print(r.json())\n",
    "print(\"\\nEach key of the response:\")\n",
    "print(\"Current user url:\",response['current_user_url'])\n",
    "print(\"Current user authorizations html url:\",response['current_user_authorizations_html_url'])\n",
    "print(\"Authorizations url:\",response['authorizations_url'])\n",
    "print(\"code_search_url:\",response['code_search_url'])\n",
    "print(\"commit_search_url:\",response['commit_search_url'])\n",
    "print(\"Emails url:\",response['emails_url'])\n",
    "print(\"Emojis url:\",response['emojis_url'])\n",
    "print(\"Events url:\",response['events_url'])\n",
    "print(\"Feeds url:\",response['feeds_url'])\n",
    "print(\"Followers url:\",response['followers_url'])\n",
    "print(\"Following url:\",response['following_url'])\n",
    "print(\"Gists url:\",response['gists_url'])\n",
    "print(\"Issue search url:\",response['issue_search_url'])\n",
    "print(\"Issues url:\",response['issues_url'])\n",
    "print(\"Keys url:\",response['keys_url'])\n",
    "print(\"label search url:\",response['label_search_url'])\n",
    "print(\"Notifications url:\",response['notifications_url'])\n",
    "print(\"Organization url:\",response['organization_url'])\n",
    "print(\"Organization repositories url:\",response['organization_repositories_url'])\n",
    "print(\"Organization teams url:\",response['organization_teams_url'])\n",
    "print(\"Public gists url:\",response['public_gists_url'])\n",
    "print(\"Rate limit url:\",response['rate_limit_url'])\n",
    "print(\"Repository url:\",response['repository_url'])\n",
    "print(\"Repository search url:\",response['repository_search_url'])\n",
    "print(\"Current user repositories url:\",response['current_user_repositories_url'])\n",
    "print(\"Starred url:\",response['starred_url'])\n",
    "print(\"Starred gists url:\",response['starred_gists_url'])\n",
    "print(\"User url:\",response['user_url'])\n",
    "print(\"User organizations url:\",response['user_organizations_url'])\n",
    "print(\"User repositories url:\",response['user_repositories_url'])\n",
    "print(\"User search url:\",response['user_search_url'])"
   ]
  },
  {
   "cell_type": "code",
   "execution_count": 44,
   "id": "ad0fcac0-efd6-491f-80a7-d6cbb10ef6df",
   "metadata": {},
   "outputs": [
    {
     "name": "stdout",
     "output_type": "stream",
     "text": [
      "{'current_user_url': 'https://api.github.com/user', 'current_user_authorizations_html_url': 'https://github.com/settings/connections/applications{/client_id}', 'authorizations_url': 'https://api.github.com/authorizations', 'code_search_url': 'https://api.github.com/search/code?q={query}{&page,per_page,sort,order}', 'commit_search_url': 'https://api.github.com/search/commits?q={query}{&page,per_page,sort,order}', 'emails_url': 'https://api.github.com/user/emails', 'emojis_url': 'https://api.github.com/emojis', 'events_url': 'https://api.github.com/events', 'feeds_url': 'https://api.github.com/feeds', 'followers_url': 'https://api.github.com/user/followers', 'following_url': 'https://api.github.com/user/following{/target}', 'gists_url': 'https://api.github.com/gists{/gist_id}', 'hub_url': 'https://api.github.com/hub', 'issue_search_url': 'https://api.github.com/search/issues?q={query}{&page,per_page,sort,order}', 'issues_url': 'https://api.github.com/issues', 'keys_url': 'https://api.github.com/user/keys', 'label_search_url': 'https://api.github.com/search/labels?q={query}&repository_id={repository_id}{&page,per_page}', 'notifications_url': 'https://api.github.com/notifications', 'organization_url': 'https://api.github.com/orgs/{org}', 'organization_repositories_url': 'https://api.github.com/orgs/{org}/repos{?type,page,per_page,sort}', 'organization_teams_url': 'https://api.github.com/orgs/{org}/teams', 'public_gists_url': 'https://api.github.com/gists/public', 'rate_limit_url': 'https://api.github.com/rate_limit', 'repository_url': 'https://api.github.com/repos/{owner}/{repo}', 'repository_search_url': 'https://api.github.com/search/repositories?q={query}{&page,per_page,sort,order}', 'current_user_repositories_url': 'https://api.github.com/user/repos{?type,page,per_page,sort}', 'starred_url': 'https://api.github.com/user/starred{/owner}{/repo}', 'starred_gists_url': 'https://api.github.com/gists/starred', 'topic_search_url': 'https://api.github.com/search/topics?q={query}{&page,per_page}', 'user_url': 'https://api.github.com/users/{user}', 'user_organizations_url': 'https://api.github.com/user/orgs', 'user_repositories_url': 'https://api.github.com/users/{user}/repos{?type,page,per_page,sort}', 'user_search_url': 'https://api.github.com/search/users?q={query}{&page,per_page,sort,order}'}\n",
      "\n",
      "Each key of the response:\n",
      "Current user url: https://api.github.com/user\n",
      "Current user authorizations html url: https://github.com/settings/connections/applications{/client_id}\n",
      "Authorizations url: https://api.github.com/authorizations\n",
      "code_search_url: https://api.github.com/search/code?q={query}{&page,per_page,sort,order}\n",
      "commit_search_url: https://api.github.com/search/commits?q={query}{&page,per_page,sort,order}\n",
      "Emails url: https://api.github.com/user/emails\n",
      "Emojis url: https://api.github.com/emojis\n",
      "Events url: https://api.github.com/events\n",
      "Feeds url: https://api.github.com/feeds\n",
      "Followers url: https://api.github.com/user/followers\n",
      "Following url: https://api.github.com/user/following{/target}\n",
      "Gists url: https://api.github.com/gists{/gist_id}\n",
      "Issue search url: https://api.github.com/search/issues?q={query}{&page,per_page,sort,order}\n",
      "Issues url: https://api.github.com/issues\n",
      "Keys url: https://api.github.com/user/keys\n",
      "label search url: https://api.github.com/search/labels?q={query}&repository_id={repository_id}{&page,per_page}\n",
      "Notifications url: https://api.github.com/notifications\n",
      "Organization url: https://api.github.com/orgs/{org}\n",
      "Organization repositories url: https://api.github.com/orgs/{org}/repos{?type,page,per_page,sort}\n",
      "Organization teams url: https://api.github.com/orgs/{org}/teams\n",
      "Public gists url: https://api.github.com/gists/public\n",
      "Rate limit url: https://api.github.com/rate_limit\n",
      "Repository url: https://api.github.com/repos/{owner}/{repo}\n",
      "Repository search url: https://api.github.com/search/repositories?q={query}{&page,per_page,sort,order}\n",
      "Current user repositories url: https://api.github.com/user/repos{?type,page,per_page,sort}\n",
      "Starred url: https://api.github.com/user/starred{/owner}{/repo}\n",
      "Starred gists url: https://api.github.com/gists/starred\n",
      "User url: https://api.github.com/users/{user}\n",
      "User organizations url: https://api.github.com/user/orgs\n",
      "User repositories url: https://api.github.com/users/{user}/repos{?type,page,per_page,sort}\n",
      "User search url: https://api.github.com/search/users?q={query}{&page,per_page,sort,order}\n"
     ]
    }
   ],
   "source": [
    "import requests\n",
    "r=requests.get('https://api.github.com/')\n",
    "response=r.json()\n",
    "print(r.json())\n",
    "print(\"\\nEach key of the response:\")\n",
    "print(\"Current user url:\",response['current_user_url'])\n",
    "print(\"Current user authorizations html url:\",response['current_user_authorizations_html_url'])\n",
    "print(\"Authorizations url:\",response['authorizations_url'])\n",
    "print(\"code_search_url:\",response['code_search_url'])\n",
    "print(\"commit_search_url:\",response['commit_search_url'])\n",
    "print(\"Emails url:\",response['emails_url'])\n",
    "print(\"Emojis url:\",response['emojis_url'])\n",
    "print(\"Events url:\",response['events_url'])\n",
    "print(\"Feeds url:\",response['feeds_url'])\n",
    "print(\"Followers url:\",response['followers_url'])\n",
    "print(\"Following url:\",response['following_url'])\n",
    "print(\"Gists url:\",response['gists_url'])\n",
    "print(\"Issue search url:\",response['issue_search_url'])\n",
    "print(\"Issues url:\",response['issues_url'])\n",
    "print(\"Keys url:\",response['keys_url'])\n",
    "print(\"label search url:\",response['label_search_url'])\n",
    "print(\"Notifications url:\",response['notifications_url'])\n",
    "print(\"Organization url:\",response['organization_url'])\n",
    "print(\"Organization repositories url:\",response['organization_repositories_url'])\n",
    "print(\"Organization teams url:\",response['organization_teams_url'])\n",
    "print(\"Public gists url:\",response['public_gists_url'])\n",
    "print(\"Rate limit url:\",response['rate_limit_url'])\n",
    "print(\"Repository url:\",response['repository_url'])\n",
    "print(\"Repository search url:\",response['repository_search_url'])\n",
    "print(\"Current user repositories url:\",response['current_user_repositories_url'])\n",
    "print(\"Starred url:\",response['starred_url'])\n",
    "print(\"Starred gists url:\",response['starred_gists_url'])\n",
    "print(\"User url:\",response['user_url'])\n",
    "print(\"User organizations url:\",response['user_organizations_url'])\n",
    "print(\"User repositories url:\",response['user_repositories_url'])\n",
    "print(\"User search url:\",response['user_search_url'])"
   ]
  },
  {
   "cell_type": "code",
   "execution_count": 45,
   "id": "857b4079-64c1-4975-93d4-5c787aba4adb",
   "metadata": {},
   "outputs": [
    {
     "name": "stdout",
     "output_type": "stream",
     "text": [
      "timeout=0.001\n",
      "HTTPSConnectionPool(host='github.com', port=443): Max retries exceeded with url: / (Caused by ConnectTimeoutError(<urllib3.connection.HTTPSConnection object at 0x00000283D6FFAF10>, 'Connection to github.com timed out. (connect timeout=0.001)'))\n",
      "\n",
      "timeout =1.0\n",
      "Connected....!\n"
     ]
    }
   ],
   "source": [
    "import requests\n",
    "print('timeout=0.001')\n",
    "try:\n",
    "    r=requests.get('https://github.com/',timeout=0.001)\n",
    "    print(r.text)\n",
    "except requests.exceptions.RequestException as e:\n",
    "    print(e)\n",
    "print('\\ntimeout =1.0')\n",
    "try:\n",
    "    r=requests.get('https://github.com/',timeout=1.0)\n",
    "    print('Connected....!')\n",
    "except requests.exceptions.RequestException as e:\n",
    "    print(e)"
   ]
  },
  {
   "cell_type": "code",
   "execution_count": 46,
   "id": "d11512c9-a45f-46e7-8034-9392f9408a74",
   "metadata": {},
   "outputs": [
    {
     "name": "stdout",
     "output_type": "stream",
     "text": [
      "Parameters: {'key1': 'value1', 'key2': 'value2'}\n",
      "Print the url to check the URL has been correctly encoded or not!\n",
      "https://httpbin.org/get?key1=value1&key2=value2\n",
      "\n",
      "Pass a list of items as a value:\n",
      "Parameters:  {'key1': 'value1', 'key2': ['value2', 'value3']}\n",
      "Print the url to check the URL has been correctly encoded or not!\n",
      "https://httpbin.org/get?key1=value1&key2=value2&key2=value3\n"
     ]
    }
   ],
   "source": [
    "import requests\n",
    "payload={'key1':'value1','key2':'value2'}\n",
    "print('Parameters:',payload)\n",
    "r=requests.get('https://httpbin.org/get',params=payload)\n",
    "print(\"Print the url to check the URL has been correctly encoded or not!\")\n",
    "print(r.url)\n",
    "print(\"\\nPass a list of items as a value:\")\n",
    "payload = {'key1': 'value1', 'key2': ['value2', 'value3']}\n",
    "print(\"Parameters: \",payload)\n",
    "r = requests.get('https://httpbin.org/get', params=payload)\n",
    "print(\"Print the url to check the URL has been correctly encoded or not!\")\n",
    "print(r.url)"
   ]
  },
  {
   "cell_type": "code",
   "execution_count": 47,
   "id": "7cfe745f-2172-48d0-818a-c24f94ef02fc",
   "metadata": {},
   "outputs": [
    {
     "name": "stdout",
     "output_type": "stream",
     "text": [
      "{\n",
      "  \"cookies\": {\n",
      "    \"cookies_are\": \"Cookies parameter use to send cookies to the server\"\n",
      "  }\n",
      "}\n",
      "\n"
     ]
    }
   ],
   "source": [
    "import requests\n",
    "url='http://httpbin.org/cookies'\n",
    "my_cookies=dict(cookies_are='Cookies parameter use to send cookies to the server')\n",
    "r=requests.get(url,cookies=my_cookies)\n",
    "print(r.text)\n",
    "# Accessing cookies with Requests\n",
    "# url = 'http://WebsiteName/cookie/setting/url'\n",
    "# res = requests.get(url)\n",
    "# Value of cookies\n",
    "# print(res.cookies['cookie_name'])"
   ]
  },
  {
   "cell_type": "code",
   "execution_count": 48,
   "id": "badf2c21-d198-4bbe-bade-96139518d3ff",
   "metadata": {},
   "outputs": [
    {
     "name": "stderr",
     "output_type": "stream",
     "text": [
      "C:\\Users\\panka\\anaconda3\\Lib\\site-packages\\urllib3\\connectionpool.py:1100: InsecureRequestWarning: Unverified HTTPS request is being made to host 'rigaux.org'. Adding certificate verification is strongly advised. See: https://urllib3.readthedocs.io/en/latest/advanced-usage.html#tls-warnings\n",
      "  warnings.warn(\n"
     ]
    },
    {
     "name": "stdout",
     "output_type": "stream",
     "text": [
      "<Response [200]>\n",
      "\n",
      "=======================================================\n",
      "\n",
      "<Response [200]>\n",
      "\n",
      "=======================================================\n",
      "\n",
      "<Response [200]>\n"
     ]
    }
   ],
   "source": [
    "import requests\n",
    "response=requests.get('https://rigaux.org/',verify=False)\n",
    "print(response)\n",
    "print(\"\\n=======================================================\\n\")\n",
    "response1 = requests.get('https://google.com/')\n",
    "print(response1)\n",
    "print(\"\\n=======================================================\\n\")\n",
    "response1 = requests.get('https://rigaux.org/', verify=True)\n",
    "print(response1) "
   ]
  },
  {
   "cell_type": "code",
   "execution_count": null,
   "id": "6b447ba7-1ae0-4a69-8306-7857226158a3",
   "metadata": {},
   "outputs": [],
   "source": []
  }
 ],
 "metadata": {
  "kernelspec": {
   "display_name": "Python 3 (ipykernel)",
   "language": "python",
   "name": "python3"
  },
  "language_info": {
   "codemirror_mode": {
    "name": "ipython",
    "version": 3
   },
   "file_extension": ".py",
   "mimetype": "text/x-python",
   "name": "python",
   "nbconvert_exporter": "python",
   "pygments_lexer": "ipython3",
   "version": "3.11.7"
  },
  "widgets": {
   "application/vnd.jupyter.widget-state+json": {
    "state": {},
    "version_major": 2,
    "version_minor": 0
   }
  }
 },
 "nbformat": 4,
 "nbformat_minor": 5
}
