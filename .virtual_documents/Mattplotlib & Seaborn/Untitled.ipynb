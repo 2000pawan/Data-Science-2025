import pandas as pd
import matplotlib.pyplot as plt
import seaborn as sn
from sklearn.neighbors import KNeighborsClassifier
from sklearn.metrics import accuracy_score


## Without Removing Outliers.
df=pd.read_csv("G:/dataset/classification/fruits.csv")
X=df.iloc[:,:-1].values
y=df.iloc[:,-1].values
model=KNeighborsClassifier()
model.fit(X,y)
y_pred=model.predict(X)
print("Accuracy Score Of Model without removinig outliers:= ",accuracy_score(y,y_pred))


# Showing outlier using scatter plot.
sn.scatterplot(x=df.diameter,y=df.weight,hue=df.FruitName)
plt.show()





# After removing outliers.
df=pd.read_csv("G:/dataset/classification/fruits.csv")
df.drop(5,inplace=True)
X=df.iloc[:,:-1].values
y=df.iloc[:,-1].values






