import numpy as np
z=np.__version__
print(z)
print(np.show_config())


import numpy as np
print(np.info(np.add))


import numpy as np
x=np.array([1,2,3,4,5,6])
print('Original array:\n',x,sep='')
print("Test if none of the elements of the said array is zero:")
print(np.all(x))
x=np.array([0,1,2,3])
print('Original array:\n',x,sep='')
print("Test if none of the elements of the said array is zero:")
print(np.all(x))


import numpy as np
x=np.array([1,0,0,0])
print('Original array:\n',x,sep='')
print("Test if none of the elements of the said array is non-zero:")
print(np.any(x))
x=np.array([0,0,0,0])
print('Original array:\n',x,sep='')
print("Test if none of the elements of the said array is non-zero:")
print(np.any(x))


import numpy as np
x=np.array([1,0,np.nan,np.inf])
print('Original array:\n',x,sep='')
print("Test a given array element-wise for finiteness :")
print(np.isfinite(x))


import numpy as np
x=np.array([1,0,np.nan,np.inf])
print('Original array:\n',x,sep='')
print("Test element-wise for positive or negative infinity:")
print(np.isinf(x))


import numpy as np
x=np.array([1,0,np.nan,np.inf])
print('Original array:\n',x,sep='')
print("Test element-wise for NaN:")
print(np.isnan(x))


import numpy as np
x=np.array([1+1j, 1+0j, 4.5, 3, 2, 2j])
print('Original array:\n',x,sep='')
print("Checking for complex number:")
print(np.iscomplex(x))
print('Checking for real number:')
print(np.isreal(x))
print("Checking for scalar type:")
print(np.isscalar(3.1))
print(np.isscalar([3.1])) 


import numpy as np
print("Test if two arrays are element-wise equal within a tolerance:")
print(np.allclose([1e10,1e-7], [1.00001e10,1e-8]))
print(np.allclose([1e10,1e-8], [1.00001e10,1e-9]))
print(np.allclose([1e10,1e-8], [1.0001e10,1e-9]))
print(np.allclose([1.0, np.nan], [1.0, np.nan]))
print(np.allclose([1.0, np.nan], [1.0, np.nan], equal_nan=True)) 


import numpy as np
x=np.array([3,5])
y=np.array([2,5])
print('Original numbers:')
print(x)
print(y)
print('Comparison -greater')
print(np.greater(x,y))
print("Comparison - greater_equal")
print(np.greater_equal(x, y))
print("Comparison - less")
print(np.less(x, y))
print("Comparison - less_equal")
print(np.less_equal(x, y))


import numpy as np
x=np.array([3,5])
y=np.array([2,5])
z=np.array([3,5])
print('Original numbers:')
print(x)
print(y)
print(np.equal(x,y))
print(np.allclose(x,y))
print(np.allclose(x,z))


import numpy as np
x=np.array([1, 7, 13, 105])
print(x)
print('%d bytes'%(x.size * x.itemsize))


import numpy as np
x=np.zeros(10)
print(x)
y=np.ones(10)
print(y)
z=np.full(10,5,dtype=float)
print(z)
p=np.ones(10)*5
print(p)


import numpy as np
x=np.arange(30,70)
print(x)


import numpy as np
x=np.arange(30,71,2)
print("Array of all the even integers from 30 to 70")
print(x)
#############################################################################
print('.....................................................................')
x=np.arange(31,71,2)
print("Array of all the odd integers from 30 to 70")
print(x)


import numpy as np
x=np.identity(3)
print('3X3 Matrix:')
print(x)


import numpy as np
x=np.random.normal(0,1,1)
print(x)


import numpy as np
x=np.random.normal(0,1,15)
print(x)


import numpy as np
x=np.arange(15,55)
print("Original vector:")
print(x)
print("All values except the first and last of the said vector:")
print(x[1:-1])


import numpy as np
x=np.arange(10,22).reshape((3,4))
print(x)
for i in np.nditer(x):
    print(i,end=' ')


import numpy as np
x=np.linspace(5,50,10)
print(x)


import numpy as np
x= np.arange(21)
print(x)
x[(x>=9) & (x<=15)]*=-1
print(x)


import numpy as np
x=np.random.randint(0,10,5)
print(x)


import numpy as np
x=np.array([5,11,4,6,5])
y=np.array([10,7,9,4,8])
z=x * y
print(z)


import numpy as np
x=np.arange(10,22).reshape((3,4))
print(x)


import numpy as np
x=np.array([[10, 11, 12, 13],
 [14, 15, 16, 17]])
print(x.shape)


import numpy as np
x=np.identity(3)
print(x)
#########################################################################
print('..................................................................')
x=np.eye(3,3)
print(x)


import numpy as np
x=np.ones((10,10))
x[1:-1,1:-1]=0
print(x)


import numpy as np
x=np.diag([1,2,3,4,5])
print(x)


import numpy as np
x=np.zeros((4,4))
x[::2,1::2]=1
x[1::2,::2]=1
print(x)
#############################################################################
print('.....................................................................')
x=np.zeros((4,4))
x[::2,1::2]=1
x[1::2,::2]=1
x[0][2]=1
x[1][3]=1
x[2][0]=1
x[3][1]=1
print(x)


import numpy as np
x=np.random.random((3,3,3))
print(x)


import numpy as np
x=np.array([[0,1],[2,3]])
print(np.sum(x))
print(np.sum(x,axis=0))
print(np.sum(x,axis=1))


import numpy as np
x = np.array([4, 5])
y = np.array([7, 10])
print(np.dot(x,y))


import numpy as np
m = np.array([[1, 2, 3], [4, 5, 6], [7, 8, 9], [10, 11, 12]])
v = np.array([1, 1, 0])
r=np.empty_like(m)
for i in range(4):
    r[i,:]=m[i,:]+v
print(r)


import numpy as np
import os
a=np.arange(20)
np.save('G:/Coding/temp_arra.npy',a)
if os.path.exists('G:/Coding/temp_arra.npy'):
    x2=np.load('G:/Coding/temp_arra.npy')
    print(np.array_equal(a,x2))


import numpy as np
import os
a=np.arange(10)
b=np.arange(11,20)
np.savez('G:/Coding/temp_array.npz',a=a,b=b)
with np.load('G:/Coding/temp_array.npz')as data:
    x2=data['a']
    y2=data['b']
    print(x2)
    print(y2)


import numpy as np
import os
a=np.arange(12).reshape(4,3)
header = 'col1 col2 col3'
np.savetxt('G:/Coding/temp.txt', a, fmt="%d", header=header)
result = np.loadtxt('G:/Coding/temp.txt')
print(result) 


import numpy as np
import os
a=np.array([1,2,3,4,5,6])
a_bytes=a.tobytes()
a2=np.frombuffer(a_bytes,dtype=a.dtype)
print(a2)
print(np.array_equal(a,a2))


import numpy as np
a=[1,2,3,4,5,6]
b=np.array(a)
c=b.tolist()
print(a==c)


import numpy as np
import matplotlib.pyplot as plt
x = np.arange(0, 3 * np.pi, 0.2)
y = np.sin(x)
plt.plot(x,y)
plt.show()


import numpy as np
x=np.float32(0)
print(type(x))
p=x.item()
print(type(p))


import numpy as np
def test(x):
    a=np.array(x)
    e=0
    for p in range(len(a)):
        for q in range(len(a[p])):
            if a[p][q]==0 and p< len(a)-1:
                a[p+1][q]=0
            e+=a[p][q]
    return e
x= [[1, 1, 0, 2],
     [0, 3, 0, 3],
     [1, 0, 4, 4]]
print(x,'\n',test(x))


import numpy as np
n= np.array([[3, 2, np.nan, 1],
                 [10, 12, 10, 9],
                 [5, np.nan, 1, np.nan]])
print(np.isnan(n))


import numpy as np
n1 = np.array([0.5, 1.5, 0.2])
n2 = np.array([0.4999999999, 1.500000000, 0.2])
np.set_printoptions(precision=15)
print(n1==n2)
n1 = np.array([0.5, 1.5, 0.2])
n2 = np.array([0.4999999999, 1.500000000, 0.2])
np.set_printoptions(precision=15)
print(np.equal(n1,n2))


import numpy as np
a=np.arange(1,22)
print(a)
a=np.arange(10,22)
print(a)
a=np.arange(100,202)
print(a)


import numpy as np
x=np.arange(1,151).reshape(15,10)
print(x)


import numpy as np
np.random.seed(10)
print(np.random.rand(40))


import numpy as np
np.random.seed(20)
cbrt=np.cbrt(7)
x=200
print(cbrt*np.random.randn(10,4)+x)


import numpy as np
print(np.random.choice(7,5))
print(np.random.choice(7,5,replace=False))
print(np.random.choice(7, 5, p=[0.1, 0.2, 0, 0.2, 0.4, 0, 0.1]))
print(np.random.choice(7, 5, replace=False, p=[0.1, 0.2, 0, 0.2, 0.4, 0, 0.1]))


import numpy as np
x=np.arange(16,dtype='int').reshape(-1,4)
print(x)
x[[0,-1],:]=x[[-1,0],:]
print("\nNew array after swapping first and last rows of the said array:")
print(x)


import numpy as np
x=np.zeros(shape=(5,6),dtype='int')
print(x)
x[::2,::2]=3
x[1::2,::2]=7
print(x)


import numpy as np
x=np.array([[12, 13, 14, 15],
 [ 4,  5,  6,  7],
 [ 8,  9, 10, 11],
 [ 0,  1,  2,  3]])
print(x)
print(np.sort(x))
print(np.sort(x,axis=0))


import numpy as np
x=np.array([[12, 13, 14, 15],
 [ 4,  5,  6,  7],
 [ 8,  9, 10, 11],
 [ 0,  1,  2,  3]])
print(x)
n=5
print(x[x>n])
n=6
print(x[x<n])


import numpy as np
x=np.array([[12, 13, 14, 15],
 [ 4,  5,  6,  7],
 [ 8,  9, 10, 11],
 [ 0,  1,  2,  3]])
print(x)
n=8.32
r=18.32
print(np.where(x==n,r,x))
print(np.where(x>n,r,x))
print(np.where(x<n,r,x))


import numpy as np
x=np.array([[12, 13, 14, 15],
 [ 4,  5,  6,  7],
 [ 8,  9, 10, 11],
 [ 0,  1,  2,  3]])
print(x)
print(np.ones_like(x))


import numpy as np
x=np.array([[[1, 5, 2, 1],
               [4, 3, 5, 6],
               [6, 3, 0, 6],
               [7, 3, 5, 0],
               [2, 3, 3, 5]],
              
              [[2, 2, 3, 1],
               [4, 0, 0, 5],
               [6, 3, 2, 1],
               [5, 1, 0, 0],               
               [0, 1, 9, 1]],
              
              [[3, 1, 4, 2],
               [4, 1, 6, 0],
               [1, 2, 0, 6],
               [8, 3, 4, 0],               
               [2, 0, 2, 8]]]) 
print(x)


import numpy as np
x=np.arange(16,dtype='int').reshape(4,4)
print(x)
x[[0,-1],:]=x[[-1,0],:]
print("\nNew array after swapping first and last rows of the said array:")
print(x)
x[[1,-2],:]=x[[-2,1],:]
print("\nNew array after swapping Second and third rows of the said array:")
print(x)


import numpy as np
x= np.array([[[1, 2, 3, 4],
               [0, 1, 3, 4],
               [90, 91, 93, 94],
               [5, 0, 3, 2]]])
print(x)
x1=x[::-1,::-1]
print(x1)


import numpy as np
x=np.array([[1, 2, 3, 4],
               [0, 1, 3, 4],
               [90, 91, 93, 94],
               [5, 0, 3, 2]])
y=np.array([[12, 13, 14, 15],
 [ 8,  9, 10, 11],
 [ 4,  5,  6,  7],
 [ 0,  1,  2,  3]])
print(np.multiply(x,y))



