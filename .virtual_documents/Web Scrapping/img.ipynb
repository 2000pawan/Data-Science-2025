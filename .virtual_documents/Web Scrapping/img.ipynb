import requests as re
import bs4 as b


con=re.get('https://www.google.co.in/search?sca_esv=4b3e726407594cc1&sxsrf=ACQVn083YpPAR93KmeN4o56H0guvW_H_NQ:1710240739002&q=space+images&tbm=isch&source=univ&fir=j5HfKaV996sDbM%252C6_X7mFNebacvlM%252C_%253Bxt-Qi63YZwydgM%252CuUsw3zSxFAqoLM%252C_%253BUpRoCM5t_0cKtM%252CYz-4WNYbr76jwM%252C_%253B7GmT3gVR4CebwM%252C6_X7mFNebacvlM%252C_%253BtHPW49gI58VcXM%252C0cnnzJr72ut3FM%252C_%253BrBghNYJj3AfSSM%252CybXxuw4EOUEOSM%252C_%253BfzIh7mWZSphw3M%252Cc1Tjo1JWxhEFsM%252C_%253BOxmNToM0oG6UDM%252CmvaiJbEcSefBKM%252C_%253BaE1YUHgaChZDEM%252CfRsISDFwfTs4GM%252C_%253BBVrOF7jCh3f1-M%252COj3CgY7tJL9T7M%252C_%253BllGoxgDU-4LEwM%252C_8d-jfYnv1HJPM%252C_%253B8VK1Kh11EItIhM%252CuUsw3zSxFAqoLM%252C_%253B7kDSJkAaxca4uM%252CI4-VVXZuCFLJ5M%252C_%253B62qr0x-pEjtMKM%252C-njKxwvnqSWTfM%252C_%253BonINjeGjq9HkjM%252CAT8JVRsuG90JmM%252C_%253BZR8CuqtywqgPfM%252C0cnnzJr72ut3FM%252C_%253BPzZF3gh6inT55M%252CGVY76LmiQ_HZ7M%252C_%253BeLCbr077M2WfgM%252Cc1Tjo1JWxhEFsM%252C_%253BfpB1Ib9JbJzZZM%252C6_X7mFNebacvlM%252C_%253BNLfjhOvUjpqzfM%252C09NYshGJwepaAM%252C_%253Bp_IJh5fzL-IXZM%252CXPHV8eEPbNAF3M%252C_%253Bqh8UuaCU3G7DXM%252C_8d-jfYnv1HJPM%252C_%253Bs-R5hxP9QCqYtM%252CuUsw3zSxFAqoLM%252C_%253BaqPmaZZS4-34dM%252CfRsISDFwfTs4GM%252C_%253BYJS0FbWASDsoOM%252CddAL53BtKt4lhM%252C_&usg=AI4_-kQBqBFR_EIt5NubQtj6xSk_JcDWCw&sa=X&ved=2ahUKEwif4Omdx-6EAxVaZ2wGHc-dBTsQsAR6BAgOEAM&biw=1698&bih=832&dpr=1.1')


data=con.text


soup=b.BeautifulSoup(data)


tags=soup.findAll('img')
for tag in tags:
    print(tag)


tags=soup.findAll('img')
for tag in tags[1::]:
    print(tag.get('src'))


tags=soup.findAll('img')
for tag in tags[1::]:
    url='https://www.hindugallery.com/lord-vishnu-images/'
    src=tag.get('src')
    con=re.get(src)
    data=con.content
    index=src.rindex('/')
    img_name=src[index+1:]
    file=open(f'Photo/{img_name}','wb')
    file.write(data)
    file.close()
print('img downladed')


import requests as re
import bs4 as b
con=re.get('https://www.cbsnews.com/pictures/space-pitures-planets-photos/')
data=con.text
soup=b.BeautifulSoup(data)
tags=soup.findAll('img')
x=[tag.get('src') for tag in tags if '.jpg' in tag.get('src')]
for tag in x:
    con=re.get(tag)
    data=con.content
    index=tag.rindex('/')
    img_name=tag[index+1:]
    file=open(f'Photo/space/{img_name}','wb')
    file.write(data)
    file.close()
print('img downladed')



