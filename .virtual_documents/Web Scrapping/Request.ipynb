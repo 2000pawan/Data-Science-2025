import requests
print('Python Request Modeule - Version:',requests.__version__)
print('Licence:',requests.__license__)
print('Copyright:',requests.__copyright__)
print('Author:',requests.__author__)
print('Author Email:',requests.__author_email__)
print('Document url, title, description:')
print(requests.__url__)
print(requests.__title__)
print(requests.__description__)


import requests
res=requests.get('https://google.com/')
print('Response of https://google.com/:')
print(res.status_code)
res=requests.get('https://linktr.ee/2000yadav22')
print('Response of https://linktr.ee/2000yadav22:')
print(res.status_code)
res=requests.get('https://w3resource.com/')
print('Response of https://w3resource.com/:')
print(res.status_code)
print('\nMethods and attributes available to objects on successful \nrequest of https://w3resource.com:\n')
print(dir(res))


import requests
res=requests.get('https://www.google.com/')
print('Response text of https://google.com/:')
print(res.text)
print('\n===========================================================================')
print('\nContent of the said url:')
print(res.content)
print('\n===========================================================================')
print('\nRaw data of the said url:')
r=requests.get('https://api.github.com/events',stream=True)
print(r.raw)
print(r.raw.read(15))


import requests
r=requests.get('https://api.github.com/')
response=r.headers
print('Headers information of the said response:')
print(response)
print('\nVarious key-value pairs information of the said resource and request :')
print('Date:',r.headers['date'])
print('Server:',r.headers['server'])
print("cache-control: ",r.headers['cache-control'])
print("vary: ",r.headers['vary'])
print("x-github-media-type: ",r.headers['x-github-media-type'])
print("access-control-expose-headers: ",r.headers['access-control-expose-headers'])
print("strict-transport-security: ",r.headers['strict-transport-security'])
print("x-content-type-options: ",r.headers['x-content-type-options'])
print("x-xss-protection: ",r.headers['x-xss-protection'])
print("referrer-policy: ",r.headers['referrer-policy'])
print("content-security-policy: ",r.headers['content-security-policy'])
print("content-encoding: ",r.headers['content-encoding'])
print("X-Ratelimit-Remaining: ",r.headers['X-Ratelimit-Remaining'])
print("X-Ratelimit-Reset: ",r.headers['X-Ratelimit-Reset'])
print("X-Ratelimit-Used: ",r.headers['X-Ratelimit-Used'])
print("Accept-Ranges:",r.headers['Accept-Ranges'])
print("X-GitHub-Request-Id:",r.headers['X-GitHub-Request-Id'])
print("status: ",r.status_code)


import requests
r=requests.get('https://api.github.com/')
response=r.json()
print(r.json())
print("\nEach key of the response:")
print("Current user url:",response['current_user_url'])
print("Current user authorizations html url:",response['current_user_authorizations_html_url'])
print("Authorizations url:",response['authorizations_url'])
print("code_search_url:",response['code_search_url'])
print("commit_search_url:",response['commit_search_url'])
print("Emails url:",response['emails_url'])
print("Emojis url:",response['emojis_url'])
print("Events url:",response['events_url'])
print("Feeds url:",response['feeds_url'])
print("Followers url:",response['followers_url'])
print("Following url:",response['following_url'])
print("Gists url:",response['gists_url'])
print("Issue search url:",response['issue_search_url'])
print("Issues url:",response['issues_url'])
print("Keys url:",response['keys_url'])
print("label search url:",response['label_search_url'])
print("Notifications url:",response['notifications_url'])
print("Organization url:",response['organization_url'])
print("Organization repositories url:",response['organization_repositories_url'])
print("Organization teams url:",response['organization_teams_url'])
print("Public gists url:",response['public_gists_url'])
print("Rate limit url:",response['rate_limit_url'])
print("Repository url:",response['repository_url'])
print("Repository search url:",response['repository_search_url'])
print("Current user repositories url:",response['current_user_repositories_url'])
print("Starred url:",response['starred_url'])
print("Starred gists url:",response['starred_gists_url'])
print("User url:",response['user_url'])
print("User organizations url:",response['user_organizations_url'])
print("User repositories url:",response['user_repositories_url'])
print("User search url:",response['user_search_url'])


import requests
r=requests.get('https://api.github.com/')
response=r.json()
print(r.json())
print("\nEach key of the response:")
print("Current user url:",response['current_user_url'])
print("Current user authorizations html url:",response['current_user_authorizations_html_url'])
print("Authorizations url:",response['authorizations_url'])
print("code_search_url:",response['code_search_url'])
print("commit_search_url:",response['commit_search_url'])
print("Emails url:",response['emails_url'])
print("Emojis url:",response['emojis_url'])
print("Events url:",response['events_url'])
print("Feeds url:",response['feeds_url'])
print("Followers url:",response['followers_url'])
print("Following url:",response['following_url'])
print("Gists url:",response['gists_url'])
print("Issue search url:",response['issue_search_url'])
print("Issues url:",response['issues_url'])
print("Keys url:",response['keys_url'])
print("label search url:",response['label_search_url'])
print("Notifications url:",response['notifications_url'])
print("Organization url:",response['organization_url'])
print("Organization repositories url:",response['organization_repositories_url'])
print("Organization teams url:",response['organization_teams_url'])
print("Public gists url:",response['public_gists_url'])
print("Rate limit url:",response['rate_limit_url'])
print("Repository url:",response['repository_url'])
print("Repository search url:",response['repository_search_url'])
print("Current user repositories url:",response['current_user_repositories_url'])
print("Starred url:",response['starred_url'])
print("Starred gists url:",response['starred_gists_url'])
print("User url:",response['user_url'])
print("User organizations url:",response['user_organizations_url'])
print("User repositories url:",response['user_repositories_url'])
print("User search url:",response['user_search_url'])


import requests
print('timeout=0.001')
try:
    r=requests.get('https://github.com/',timeout=0.001)
    print(r.text)
except requests.exceptions.RequestException as e:
    print(e)
print('\ntimeout =1.0')
try:
    r=requests.get('https://github.com/',timeout=1.0)
    print('Connected....!')
except requests.exceptions.RequestException as e:
    print(e)


import requests
payload={'key1':'value1','key2':'value2'}
print('Parameters:',payload)
r=requests.get('https://httpbin.org/get',params=payload)
print("Print the url to check the URL has been correctly encoded or not!")
print(r.url)
print("\nPass a list of items as a value:")
payload = {'key1': 'value1', 'key2': ['value2', 'value3']}
print("Parameters: ",payload)
r = requests.get('https://httpbin.org/get', params=payload)
print("Print the url to check the URL has been correctly encoded or not!")
print(r.url)


import requests
url='http://httpbin.org/cookies'
my_cookies=dict(cookies_are='Cookies parameter use to send cookies to the server')
r=requests.get(url,cookies=my_cookies)
print(r.text)
# Accessing cookies with Requests
# url = 'http://WebsiteName/cookie/setting/url'
# res = requests.get(url)
# Value of cookies
# print(res.cookies['cookie_name'])


import requests
response=requests.get('https://rigaux.org/',verify=False)
print(response)
print("\n=======================================================\n")
response1 = requests.get('https://google.com/')
print(response1)
print("\n=======================================================\n")
response1 = requests.get('https://rigaux.org/', verify=True)
print(response1) 



