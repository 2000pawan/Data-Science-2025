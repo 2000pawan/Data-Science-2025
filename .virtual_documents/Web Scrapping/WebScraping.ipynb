import requests as re
import bs4 as b


con=re.get('https://www.mygov.in/corona-data/covid19-statewise-status/')


data=con.text


soup=b.BeautifulSoup(data)


tag=soup.find('title')
# print(tag)
# print(tag.getText())


tag=soup.find('div')
# print(tag)


tags=soup.findAll('div',{'class':'field-item even'})
# for tag in tags:
#     print(tag)


tag=tags[5]
# print(tag)


print('Total Deaths:',tag.getText)


tag_date=tags[0]
print(tag_date.getText())
tag_deaths=tags[5]
print('Total Deaths:',tag_deaths.getText())


tag_date=tags[0]
print(tag_date.getText())
tag_active=tags[2]
print("Active Case: ",tag_active.getText())
tag_deaths=tags[5]
print('Total Deaths:',tag_deaths.getText())


tags=soup.findAll('div',{'class':'field field-name-field-select-state field-type-list-text field-label-above'})


# print(tags)


for tag in tags:
    print(tag.find('div',{'class':'field-item even'}).getText())


state_names=[]
for tag in tags:
    state_names.append(tag.find('div',{'class':'field-item even'}).getText())


state_names


tags=soup.findAll("div",{'class':'field field-name-field-total-confirmed-indians field-type-number-integer field-label-above'})
for tag in tags:
    print(tag.find('div',{'class':'field-item even'}))


tags=soup.findAll("div",{'class':'field field-name-field-total-confirmed-indians field-type-number-integer field-label-above'})
for tag in tags:
    print(tag.find('div',{'class':'field-item even'}).getText())


total_case=[]
tags=soup.findAll("div",{'class':'field field-name-field-total-confirmed-indians field-type-number-integer field-label-above'})
for tag in tags:
    total_case.append(tag.find('div',{'class':'field-item even'}).getText())


total_case


tags=soup.findAll("div",{'class':'field field-name-field-deaths field-type-number-integer field-label-above'})
for tag in tags:
    print(tag.find('div',{'class':'field-item even'}).getText())


total_deaths=[]
tags=soup.findAll("div",{'class':'field field-name-field-deaths field-type-number-integer field-label-above'})
for tag in tags:
    total_deaths.append(tag.find('div',{'class':'field-item even'}).getText())


total_deaths


tags=soup.findAll("div",{'class':'field field-name-field-cured field-type-number-integer field-label-above'})
for tag in tags:
    print(tag.find('div',{'class':'field-item even'}).getText())


total_discharged=[]
tags=soup.findAll("div",{'class':'field field-name-field-cured field-type-number-integer field-label-above'})
for tag in tags:
    total_discharged.append(tag.find('div',{'class':'field-item even'}).getText())


total_discharged


import pandas as pd


df=pd.DataFrame()


df


df['State']=state_names
df['total_case']=total_case
df['total_discharged']=total_discharged
df['total_deaths']=total_deaths


df


df.index=df.State


df


df.drop('State',axis=1,inplace=True)


df


df.loc[['Bihar']]


df.loc[['Uttar Pradesh']]


df.sort_values(by='total_case',ascending=False)


df.dtypes


df['total_case']=pd.to_numeric(df.total_case)
df['total_discharged']=pd.to_numeric(df.total_discharged)
df['total_deaths']=pd.to_numeric(df.total_deaths)


df


df.sort_values(by='total_case',ascending=False)


df.describe()


df.sort_values(by='total_case',ascending=False).head(10)


df.sort_values(by='total_deaths',ascending=False).head(10)


df.sort_values(by='total_discharged',ascending=False).head(10)


df.sort_values(by='total_case',ascending=False).tail(10)


df.sort_values(by='total_deaths').head(10)


tags=soup.findAll('img')
# for tag in tags:
#     # print(tag)


tags=soup.findAll('img')
# for tag in tags:
#     print(tag.get('src'))


con=re.get('https://www.mygov.in/sites/all/themes/mygov/front_assets/images/g20-logo.png')


data=con.content


# print(data)


file=open('g:/a.png','wb')
file.write(data)
file.close()


con=re.get('https://www.mygov.in/sites/all/themes/mygov/front_assets/images/logo.svg')
data=con.content
file=open('g:/b.svg','wb')
file.write(data)
file.close()


tags=soup.findAll('img')
for tag in tags:
    src=tag.get('src')
    url='https://www.mygov.in'+src
    con=re.get(url)
    data=con.content
    index=url.rindex('/')
    img_name=url[index+1:]
    print(img_name)
    file=open(f'g:/DS & ML/Data Analysis/Web Scrapping/myimgs/{img_name}','wb')
    file.write(data)
    file.close()
print('img downladed')







