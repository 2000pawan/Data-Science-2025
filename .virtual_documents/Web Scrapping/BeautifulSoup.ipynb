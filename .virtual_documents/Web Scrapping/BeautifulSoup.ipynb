from bs4 import BeautifulSoup


html_doc = """
<html>
<head>
<meta http-equiv="Content-Type" content="text/html;
charset=iso-8859-1">
<title>An example of HTML page</title>
</head>
<body>
<h2>This is an example HTML page</h2>
<p>
Lorem ipsum dolor sit amet, consectetur adipiscing elit. Nunc at nisi velit,
aliquet iaculis est. Curabitur porttitor nisi vel lacus euismod egestas. In hac
habitasse platea dictumst. In sagittis magna eu odio interdum mollis. Phasellus
sagittis pulvinar facilisis. Donec vel odio volutpat tortor volutpat commodo.
Donec vehicula vulputate sem, vel iaculis urna molestie eget. Sed pellentesque
adipiscing tortor, at condimentum elit elementum sed. Mauris dignissim
elementum nunc, non elementum felis condimentum eu. In in turpis quis erat
imperdiet vulputate. Pellentesque mauris turpis, dignissim sed iaculis eu,
euismod eget ipsum. Vivamus mollis adipiscing viverra. Morbi at sem eget nisl
euismod porta.</p>
<p><a href="https://www.w3resource.com/html/HTML-tutorials.php">Learn HTML from
w3resource.com</a></p>
<p><a href="https://www.w3resource.com/css/CSS-tutorials.php">Learn CSS from 
w3resource.com</a></p>
</body>
</html>
"""
soup=BeautifulSoup(html_doc,'html.parser')
print('Title of the document:')
print(soup.find('title'))


soup=BeautifulSoup(html_doc,'html.parser')
print('All Paragraph tags:')
print(soup.find_all('p'))


soup=BeautifulSoup(html_doc,'html.parser')
print('Len Paragraph tags:')
print(len(soup.find_all('p')))


soup=BeautifulSoup(html_doc,'html.parser')
print("The text in the first paragraph tag:")
print(soup.find_all('p')[0].text)


soup=BeautifulSoup(html_doc,'html.parser')
print("Length of the text of the first <h2> tag:")
print(len(soup.find('h2').text))


soup = BeautifulSoup(html_doc, 'html.parser')
print("Text of the first <a> tag:")
print(soup.find('a').text)


soup = BeautifulSoup(html_doc, 'html.parser')
print("herf of the first <a> tag:")
print(soup.find('a').attrs['href'])


import requests
from bs4 import BeautifulSoup
url= 'https://www.python.org/'
reqs=requests.get(url)
soup=BeautifulSoup(reqs.text,'lxml')
urls=[]
for h in soup.find_all('li'):
    a=h.find('a')
    urls.append(a.attrs['href'])
print(urls)


import requests
from bs4 import BeautifulSoup
url= 'https://www.python.org/'
reqs=requests.get(url)
print(soup.find_all('h2')[0:4])


import requests
from bs4 import BeautifulSoup
url= 'https://www.python.org/'
reqs=requests.get(url)
soup=BeautifulSoup(reqs.text,'lxml')
print(soup.find_all('a')[0:10])


import requests
from bs4 import BeautifulSoup
url= 'https://www.python.org/'
reqs=requests.get(url)
soup=BeautifulSoup(reqs.text,'lxml')
for i in soup.find_all(['h1','h2','h3']):
    print(i.name + ' '+ i.text.strip())


import requests
from bs4 import BeautifulSoup
url= 'https://www.python.org/'
reqs=requests.get(url)
soup=BeautifulSoup(reqs.text,'lxml')
print(soup.get_text())


import requests
from bs4 import BeautifulSoup
url= 'https://www.python.org/'
reqs=requests.get(url)
soup=BeautifulSoup(reqs.text,'lxml')
for i in soup.recursiveChildGenerator():
    if i.name:
        print(i.name)


# import requests
# from bs4 import BeautifulSoup
# url= 'https://www.python.org/'
# reqs=requests.get(url)
# soup=BeautifulSoup(reqs.text,'lxml')
# root=soup.html
# root_childs=[e.name for e in root.children if e.name is not None]
# print(root_childs)


import requests 
from bs4 import BeautifulSoup
url='https://www.python.org/'
soup=BeautifulSoup(reqs.text,'lxml')
print(soup.title)
print(soup.title.text)
print(soup.title.parent)


for i in soup.find_all('li'):
    print('{0}:{1}'.format(i.name,i.text))


import re
str1=soup.find_all(string=re.compile('Python'))
for i in str1:
    print(' '.join(i.split()))


print(soup.select_one('#python-network'))


from bs4 import BeautifulSoup
str1 = "<p>Some<b>bad<i>HTML Code</i></b></p>"
print("Original string:")
print(str1)
soup = BeautifulSoup("<p>Some<b>bad<i>HTML Code</i></b></p>", "xml")
print("\nFormatted Unicode string:")
print(soup.prettify())


from bs4 import BeautifulSoup
html_doc = """
<html>
<head>
<meta http-equiv="Content-Type" content="text/html;
charset=iso-8859-1">
<title>An example of HTML page</title>
</head>
<body>
<h2>This is an example HTML page</h2>
<p>
Lorem ipsum dolor sit amet, consectetur adipiscing elit. Nunc at nisi velit,
aliquet iaculis est. Curabitur porttitor nisi vel lacus euismod egestas. In hac
habitasse platea dictumst. In sagittis magna eu odio interdum mollis. Phasellus
sagittis pulvinar facilisis. Donec vel odio volutpat tortor volutpat commodo.
Donec vehicula vulputate sem, vel iaculis urna molestie eget. Sed pellentesque
adipiscing tortor, at condimentum elit elementum sed. Mauris dignissim
elementum nunc, non elementum felis condimentum eu. In in turpis quis erat
imperdiet vulputate. Pellentesque mauris turpis, dignissim sed iaculis eu,
euismod eget ipsum. Vivamus mollis adipiscing viverra. Morbi at sem eget nisl
euismod porta.</p>
<p><a href="https://www.w3resource.com/html/HTML-tutorials.php">Learn HTML from
w3resource.com</a></p>
<p><a href="https://www.w3resource.com/css/CSS-tutorials.php">Learn CSS from 
w3resource.com</a></p>
</body>
</html>
"""
soup = BeautifulSoup(html_doc, "lxml")
print(soup.find( href="https://www.w3resource.com/css/CSS-tutorials.php"))


soup = BeautifulSoup(html_doc,"lxml")
print("\na tag(s) Beneath body tag:")
print(soup.select("body a"))
print("\nBeneath html head:")
print(soup.select("html head title"))


soup = BeautifulSoup(html_doc,"lxml")
print("\nBeneath directly head tag:")
print(soup.select("head > title"))
print()
print("\nBeneath directly p tag:")
print(soup.select("p > a")) 


from bs4 import BeautifulSoup
html_doc = """
<html>
<head>
<meta http-equiv="Content-Type" content="text/html;
charset=iso-8859-1">
<title>An example of HTML page</title>
</head>
<body>
<h2>This is an example HTML page</h2>
<p>
Lorem ipsum dolor sit amet, consectetur adipiscing elit. Nunc at nisi velit,
aliquet iaculis est. Curabitur porttitor nisi vel lacus euismod egestas. In hac
habitasse platea dictumst. In sagittis magna eu odio interdum mollis. Phasellus
sagittis pulvinar facilisis. Donec vel odio volutpat tortor volutpat commodo.
Donec vehicula vulputate sem, vel iaculis urna molestie eget. Sed pellentesque
adipiscing tortor, at condimentum elit elementum sed. Mauris dignissim
elementum nunc, non elementum felis condimentum eu. In in turpis quis erat
imperdiet vulputate. Pellentesque mauris turpis, dignissim sed iaculis eu,
euismod eget ipsum. Vivamus mollis adipiscing viverra. Morbi at sem eget nisl
euismod porta.</p>
<p><a href="https://www.w3resource.com/html/HTML-tutorials.php">Learn HTML from
w3resource.com</a></p>
<p><a href="https://www.w3resource.com/css/CSS-tutorials.php">Learn CSS from 
w3resource.com</a></p>
<a class="sister" href="http://example.com/lacie" id="link1">Lacie</a>
<a class="sister" href="http://example.com/tillie"  id="link2">Tillie</a>
</body>
</html>
"""
soup = BeautifulSoup(html_doc,"lxml")
print("\nSiblings of tags:")
print(soup.select("#link1 ~ .sister"))
print(soup.select("#link1 + .sister"))


soup = BeautifulSoup(html_doc,"lxml")
print("\nTags by CSS class:")
print(soup.select(".sister"))


from bs4 import BeautifulSoup
html_doc = '<a href="http://example.com/">HTML<i>example.com</i></a>'
soup = BeautifulSoup(html_doc, "lxml")
tag = soup.a
print("\nOriginal Markup:")
print(tag)
print("\nOriginal Markup with new text:")
tag.string = "CSS"
print(tag)


from bs4 import BeautifulSoup
html_doc = '<a href="http://example.com/">HTML<i>w3resource.com</i></a>'
soup = BeautifulSoup(html_doc, "lxml")
print("\nOriginal Markup:")
print(soup.a)
soup.a.append("CSS")
print("\nAfter append a text in the new link:")
print(soup.a)


from bs4 import BeautifulSoup
html_doc = '<a href="http://example.com/">HTML<i>w3resource.com</i></a>'
soup = BeautifulSoup(html_doc, "lxml")
tag = soup.a
print("Original Markup:")
print(tag.contents)
tag.insert(2, "CSS") #2-> Position of the text (1, 2, 3…)
print("\nNew url after inserting the text:")
print(tag.contents)


from bs4 import BeautifulSoup
soup = BeautifulSoup("<b>w3resource.com</b>", "lxml")
print("Original Markup:")
print(soup.b)
tag = soup.new_tag("i")
tag.string = "Python"
print("\nNew Markup, before inserting the text:")
soup.b.string.insert_before(tag)
print(soup.b)


from bs4 import BeautifulSoup
soup = BeautifulSoup("<b>w3resource.com</b>", "lxml")
print("Original Markup:")
print(soup.b)
tag = soup.new_tag("i")
tag.string = "Python"
print("\nNew Markup, after inserting the text:")
soup.b.string.insert_after(tag)
print(soup.b)



from bs4 import BeautifulSoup
html_content = '<a href="https://w3resource.com/">Python exercises<i>w3resource</i></a>'
soup = BeautifulSoup(html_content, "lxml")
print("Original Markup:")
print(soup.a)
tag = soup.a
tag = tag.clear()
print("\nAfter clearing the contents in the tag:")
print(soup.a)



from bs4 import BeautifulSoup
html_content = '<a href="https://w3resource.com/">Python exercises<i>w3resource</i></a>'
soup = BeautifulSoup(html_content, "lxml")
print("Original Markup:")
print(soup.a)
i_tag = soup.i.extract()
print("\nExtract i tag from said html Markup:")
print(i_tag)



from bs4 import BeautifulSoup
html_content = '<a href="https://w3resource.com/">Python exercises<i>w3resource</i></a>'
soup = BeautifulSoup(html_content, "lxml")
print("Original Markup:")
a_tag = soup.a
print(a_tag)
new_tag = soup.a.decompose()
print("After decomposing:")
print(new_tag)



from bs4 import BeautifulSoup
html_markup= '<a href="https://w3resource.com/">Python exercises<i>w3resource</i></a>'
soup = BeautifulSoup(html_markup, "lxml")
print("Original markup:")
a_tag = soup.a
print(a_tag)
new_tag = soup.new_tag("b")
new_tag.string = "PHP"
b_tag = a_tag.i.replace_with(new_tag)
print("New Markup:")
print(a_tag)



from bs4 import BeautifulSoup
soup = BeautifulSoup("<p>Python exercises.</p>", "lxml")
print("Original Markup:")
print(soup.p.string.wrap(soup.new_tag("i")))
print("\nNew Markup:")
print(soup.p.wrap(soup.new_tag("div")))



from bs4 import BeautifulSoup
markup = '<a href="https://w3resource.com/">Python exercises.<i>w3resource.com</i></a>'
soup = BeautifulSoup(markup, "lxml")
a_tag = soup.a
print("Original markup:")
print(a_tag)
a_tag.i.unwrap()
print("\nAfter unwrapping:")
print(a_tag)




