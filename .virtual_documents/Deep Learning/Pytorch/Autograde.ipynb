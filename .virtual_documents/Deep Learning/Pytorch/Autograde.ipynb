


# pip install torch torchvision torchaudio


import torch
import math


# Manually find the derivative of x^2
def dy_dx(x):
    return 2*x
dy_dx(3)


# find the derivative using autograd.
x=torch.tensor(3.0, requires_grad=True) # without requires_grad=True pytorch not start backpropagation.
y=x**2 # find the derivative of x^2
print(x)
print(y)
y.backward() # it's start backpropagation using .backward.
x.grad


# manually find the derivative of y w.r.t x where y=x^2 and z w.r.t x where z=sin(y).
def dz_dx(x):
    return 2*x*math.cos(x**2)
dz_dx(4)


x=torch.tensor(4.0,requires_grad=True)
y=x**2
z=torch.sin(y)
z.backward()
x.grad





# Inputs
x=torch.tensor(6.7) # Inputs Feature
y=torch.tensor(0.0) # Target (True label) Binary classification.

w=torch.tensor(1.0) # Weight
b=torch.tensor(0.0) # Bais


# Binary Cross-Entropy Loss for scalar.
def binary_cross_entropy(prediction,target):
    epsilon = 1e-8 # to prevent log(0)
    prediction = torch.clamp(prediction,epsilon,1-epsilon)
    return -(target * torch.log(prediction) + (1 - target) * torch.log(1 - prediction))


# Forward  Pass
z= w * x + b # Weighted Sum (linear Part)
y_pred=torch.sigmoid(z) # Predicted Probability (non-linear part)

# Compute binary_cross_entropy loss
loss= binary_cross_entropy(y_pred,y)



