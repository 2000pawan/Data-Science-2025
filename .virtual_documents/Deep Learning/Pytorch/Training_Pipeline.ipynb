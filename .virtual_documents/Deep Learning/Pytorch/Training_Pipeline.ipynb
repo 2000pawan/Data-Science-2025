





import pandas as pd
import numpy as np
import torch
from sklearn.model_selection import train_test_split
from sklearn.preprocessing import StandardScaler,LabelEncoder
from sklearn.datasets import load_breast_cancer





df = load_breast_cancer()
X = df.data
y = df.target

# Train Test Split
X_train, X_test, y_train, y_test = train_test_split(X, y, random_state=1, test_size=0.2)

# Scaling
sc = StandardScaler()
X_train_new = sc.fit_transform(X_train)
X_test_new = sc.transform(X_test)

# Encoding target
lenc = LabelEncoder()
y_train_new = lenc.fit_transform(y_train)
y_test_new = lenc.transform(y_test)





# Numpy array to tensor 
X_train = torch.from_numpy(X_train_new)
X_test = torch.from_numpy(X_test_new)
y_train = torch.from_numpy(y_train_new)
y_test = torch.from_numpy(y_test_new)





class MySimpleNN():
    def __init__(self, X):
        self.weights = torch.rand(X.shape[1], 1, dtype = torch.float64, requires_grad=True)
        self.bias = torch.zeros(1, dtype = torch.float64, requires_grad = True)
    
    def forward(self, X):
        z = torch.matmul(X, self.weights) + self.bias
        y_pred = torch.sigmoid(z)
        return y_pred
    
    def loss_function(self, y_pred, y):
        # Clamp predictions to avooid log(0)
        epsilon = 1e-7
        y_pred = torch.clamp(y_pred, epsilon, 1 - epsilon)
        
        # Calculate Loss
        loss = -(y * torch.log(y_pred) + (1 - y) * torch.log(1 - y_pred)).mean()
        return loss





learning_rate = 0.1
epochs = 20





# Create Model
model = MySimpleNN(X_train)

# define loop for epochs
for epoch in range(epochs):
    # forward pass
    y_pred = model.forward(X_train)
    
    # Loss calculate
    loss = model.loss_function(y_pred, y_train)
    
    # backward pass
    loss.backward()
    
    # parameters update (w, b)
    with torch.no_grad():
        model.weights -= learning_rate * model.weights.grad
        model.bias -= learning_rate * model.bias.grad

    # zero gradients
    model.weights.grad.zero_()
    model.bias.grad.zero_()
    
    # print loss in each epoch
    print(f"Epoch:- {epoch + 1}, Loss:- {loss.item()}")  # loss.item() used to return number from the tensor





with torch.no_grad():
    y_pred = model.forward(X_train)
    y_pred = (y_pred > 0.5).float()
    accuracy = (y_pred == y_test).float().mean()
    print(f"Accuracy score:- {accuracy}")



