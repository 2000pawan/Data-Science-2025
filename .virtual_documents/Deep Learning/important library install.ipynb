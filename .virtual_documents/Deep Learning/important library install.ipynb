pip install TensorFlow


pip install keras


pip install torch
