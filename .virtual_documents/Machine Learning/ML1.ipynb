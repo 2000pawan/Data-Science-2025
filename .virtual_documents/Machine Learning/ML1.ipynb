import pandas as pd
from sklearn.neighbors import KNeighborsClassifier
from sklearn.metrics import accuracy_score


df=pd.read_csv('G:/dataset/classification/fruits.csv')


X=df.iloc[:,:-1].values
y=df.iloc[:,-1].values
model=KNeighborsClassifier()
model.fit(X,y)


model.predict([[2,80]])



