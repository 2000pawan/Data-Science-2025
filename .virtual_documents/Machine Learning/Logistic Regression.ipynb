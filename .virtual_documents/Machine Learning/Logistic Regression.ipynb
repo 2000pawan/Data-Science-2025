


import pandas as pd
import numpy as np
from sklearn.linear_model import LogisticRegression
from sklearn.datasets import load_iris


df=pd.read_csv("G:/dataset/classification/fruits.csv")
X=df.iloc[:,:-1].values
y=df.iloc[:,-1].values



model=LogisticRegression()
model.fit(X,y)


sample=[3.5,40]
print(model.predict([sample]))
print(model.predict_proba([sample]))


df=load_iris()
X=df.data
y=df.target

model=LogisticRegression(max_iter=200)
model.fit(X,y)


print(model.predict_proba([[.7,.1,2.5,1.1]]))
print(model.predict([[.7,.1,2.5,1.1]]))








df=pd.read_csv("G:/dataset/classification/fruits.csv")
X=df.iloc[:,:-1].values
y=df.iloc[:,-1].values
model=LogisticRegression()
model.fit(X,y)



model.coef_


model.intercept_





sample=[3.5,40]
z=-0.98517568*3.5+-0.02200477*40+5.91844611
print(z)


print(model.decision_function([sample]))





# Probability of class 1
result=1/(1+np.exp(-z))
print(result)
if result<=.5:
    print("Apple")
else:
    print("Banana")


print(model.predict([sample]))
print(model.predict_proba([sample]))


# probability of class 0 
result=1/(1+np.exp(z))
print(result)


# also you try 1-probabilitty of class 1
p_0=1-1/(1+np.exp(-z))
p_0








from sklearn.datasets import load_iris





df=load_iris()
X=df.data
y=df.target

model=LogisticRegression(multi_class='ovr',max_iter=200)
model.fit(X,y)


sample=[1.5,.8,3.5,.9]
print(model.predict([sample]))
print(model.predict_proba([sample]))


model.coef_


model.intercept_


z0=-0.44565052*1.5+  0.90054581*.8+ -2.32023343*3.5+ -0.98112874*.9+6.68931554
z1=-0.17917535*1.5+ -2.12878487*.8 + 0.69671839*3.5+ -1.27500517*.9+ 5.58592907
z2=-0.39270716*1.5+ -0.51442952*.8+  2.93064063*3.5+  2.41608802*.9+-14.43598319
print([z0,z1,z2])


model.decision_function([sample])


p0=1/(1+np.exp(-z0))
p1=1/(1+np.exp(-z1))
p2=1/(1+np.exp(-z2))

print([p0,p1,p2])


# Normalized probability
pn0=p0/(p0+p1+p2)
pn1=p1/(p0+p1+p2)
pn2=p2/(p0+p1+p2)

print([pn0,pn1,pn2])


print(model.predict_proba([sample]))





df=load_iris()
X=df.data
y=df.target

model=LogisticRegression(multi_class='multinomial',max_iter=200)
model.fit(X,y)


sample=[1.5,.8,3.5,.9]
print(model.predict([sample]))
print(model.predict_proba([sample]))


model.coef_


model.intercept_


z0=-0.41962017*1.5+  0.96690033*.8+ -2.51934621*3.5+ -1.08448699*.9+  9.83859123
z1=0.53107361*1.5+ -0.31498782*.8+ -0.20238066*3.5+ -0.94412374*.9+2.22306076
z2=-0.11145345*1.5+ -0.65191251*.8+  2.72172688*3.5+  2.02861073*.9+-12.061652 

print([z0,z1,z2])


model.decision_function([sample])


p0=np.exp(z0)/(np.exp(z0)+np.exp(z1)+np.exp(z2))
p1=np.exp(z1)/(np.exp(z0)+np.exp(z1)+np.exp(z2))
p2=np.exp(z2)/(np.exp(z0)+np.exp(z1)+np.exp(z2))

print([p0,p1,p2])


model.predict_proba([sample])


print(model.predict([sample]))


import sklearn
sklearn.__version__


pd.__version__


np.__version__









