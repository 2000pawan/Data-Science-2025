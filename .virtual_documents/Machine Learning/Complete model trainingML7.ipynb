


import pandas as pd
from sklearn.neighbors import KNeighborsClassifier
from sklearn.preprocessing import StandardScaler,MinMaxScaler,MaxAbsScaler,LabelEncoder
from sklearn.model_selection import train_test_split
from sklearn.metrics import accuracy_score
import matplotlib.pyplot as plt
import seaborn as sb


# Using Standard Scaler
df=pd.read_csv('G:/dataset/classification/online_shop.csv')
en=LabelEncoder()
df.Gender=en.fit_transform(df.Gender)
X=df.iloc[:,:-1].values
y=df.iloc[:,-1].values
X_train,X_test,y_train,y_test=train_test_split(X,y,test_size=0.35,random_state=22)
sc=StandardScaler()
X_train_new=sc.fit_transform(X_train)
X_test_new=sc.transform(X_test)
model=KNeighborsClassifier()
model.fit(X_train_new,y_train)
pred_train=model.predict(X_train_new)
pred_test=model.predict(X_test_new)
print("Accuracy Score Training:- ",accuracy_score(y_train,pred_train))
print("Accuracy Score Testing:- ",accuracy_score(y_test,pred_test))


sb.scatterplot(x=df.Age,y=df.EstimatedSalary,hue=df.Purchased)
plt.show()


# Using MaxAbs Scaler
df=pd.read_csv('G:/dataset/classification/online_shop.csv')
en=LabelEncoder()
df.Gender=en.fit_transform(df.Gender)
X=df.iloc[:,:-1].values
y=df.iloc[:,-1].values
X_train,X_test,y_train,y_test=train_test_split(X,y,test_size=0.35,random_state=22)
sc=MaxAbsScaler()
X_train_new=sc.fit_transform(X_train)
X_test_new=sc.transform(X_test)
model=KNeighborsClassifier()
model.fit(X_train_new,y_train)
pred_train=model.predict(X_train_new)
pred_test=model.predict(X_test_new)
print("Accuracy Score Training:- ",accuracy_score(y_train,pred_train))
print("Accuracy Score Testing:- ",accuracy_score(y_test,pred_test))


# Using MinMax Scaler
df=pd.read_csv('G:/dataset/classification/online_shop.csv')
en=LabelEncoder()
df.Gender=en.fit_transform(df.Gender)
X=df.iloc[:,:-1].values
y=df.iloc[:,-1].values
X_train,X_test,y_train,y_test=train_test_split(X,y,test_size=0.35,random_state=22)
sc=MinMaxScaler(feature_range=(0,1))
X_train_new=sc.fit_transform(X_train)
X_test_new=sc.transform(X_test)
model=KNeighborsClassifier()
model.fit(X_train_new,y_train)
pred_train=model.predict(X_train_new)
pred_test=model.predict(X_test_new)
print("Accuracy Score Training:- ",accuracy_score(y_train,pred_train))
print("Accuracy Score Testing:- ",accuracy_score(y_test,pred_test))


Age=eval(input('Enter Your Age:- '))
Gender=eval(input('Enter Your Gender (0 for Female and 1 for Male):- '))
Salary=eval(input('Enter Your Salary:- '))
input_data=[Gender,Age,Salary]
inp=sc.transform([input_data])
result=model.predict(inp)
if result==1:
    print('User intrested in Online Shopping')
else:
    print('User not Intrested in Online Shopping')






