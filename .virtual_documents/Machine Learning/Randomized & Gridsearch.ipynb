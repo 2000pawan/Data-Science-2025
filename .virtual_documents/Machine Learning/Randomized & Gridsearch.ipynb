import pandas as pd
from sklearn.model_selection import RandomizedSearchCV,GridSearchCV
from sklearn.neighbors import KNeighborsClassifier


df=pd.read_csv("G:/dataset/classification/fruits.csv")
df.FruitName=df.FruitName.map({"Apple":0,'Banana':1})
X=df.iloc[:,:-1].values
y=df.iloc[:,-1].values
model=KNeighborsClassifier()


gs=GridSearchCV(estimator=model,param_grid={'n_neighbors':[3,4,5,6,7,8,9,10,11],'metric':['manhattan','euclidean']})
gs.fit(X,y)


gs.best_estimator_
gs.best_params_
gs.best_index_
gs.best_score_


rs=RandomizedSearchCV(model,param_distributions={'n_neighbors':[3,4,5,6,7,8,9,10,11],'metric':['manhattan','euclidean']},n_iter=5)
rs.fit(X,y)


from sklearn.linear_model import SGDRegressor,Lasso,Ridge
from sklearn.preprocessing import OneHotEncoder


df=pd.read_csv("G:/dataset/regression/salary_2_variable.csv")
df.Gender=df.Gender.map({'Male':0,'Female':1})
X=df.iloc[:,:-1].values
y=df.iloc[:,-1].values
model=SGDRegressor()
model1=Lasso()


gs=GridSearchCV(model,param_grid={'max_iter':[10,20,50,80,100]})
gs.fit(X,y)


gs.best_params_


rs=RandomizedSearchCV(model1,param_distributions={'alpha':[100,200,300,400,500,600,700,800,900]},n_iter=30)
rs.fit(X,y)


rs.best_params_s



