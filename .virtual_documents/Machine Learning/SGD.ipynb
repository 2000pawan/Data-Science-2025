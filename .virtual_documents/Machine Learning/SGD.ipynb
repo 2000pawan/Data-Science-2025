from sklearn.datasets import load_diabetes
from sklearn.linear_model import SGDRegressor


df=load_diabetes()
X=df.data
y=df.target


model=SGDRegressor()
model.fit(X,y)


model=SGDRegressor(max_iter=6000)
model.fit(X,y)


model.score(X,y)





import pandas as pd
from sklearn.preprocessing import StandardScaler,PolynomialFeatures
from sklearn.model_selection import train_test_split
from sklearn.linear_model import LinearRegression,SGDRegressor
from sklearn.feature_selection import SelectKBest,f_regression


df=pd.read_csv("G:/dataset/regression/california_house_price.csv")
df.drop(columns='Unnamed: 6',axis=1,inplace=True)


X=df.iloc[:,:-1].values
y=df.iloc[:,-1].values
X_train,X_test,y_train,y_test=train_test_split(X,y,random_state=10)


sc=StandardScaler()
X_train_new=sc.fit_transform(X_train)
X_test_new=sc.transform(X_test)

model=LinearRegression()
model.fit(X_train_new,y_train)
print("Training Score of Linear Regression:- ",model.score(X_train_new,y_train))
print("Testing Score of Linear Regression:- ",model.score(X_test_new,y_test))

print('============================================================================================================')

model1=SGDRegressor()
model1.fit(X_train_new,y_train)
print("Training Score of SGD Regression:- ",model1.score(X_train_new,y_train))
print("Testing Score of SGD Regression:- ",model1.score(X_test_new,y_test))



X=df.iloc[:,:-1].values
y=df.iloc[:,-1].values
X_train,X_test,y_train,y_test=train_test_split(X,y,random_state=10)

pf=PolynomialFeatures(degree=7)
X_train=pf.fit_transform(X_train)
X_test=pf.transform(X_test)

sc=StandardScaler()
X_train_new=sc.fit_transform(X_train)
X_test_new=sc.transform(X_test)

model=LinearRegression()
model.fit(X_train_new,y_train)
print("Training Score of Linear Regression:- ",model.score(X_train_new,y_train))
print("Testing Score of Linear Regression:- ",model.score(X_test_new,y_test))

print('============================================================================================================')

model1=SGDRegressor()
model1.fit(X_train_new,y_train)
print("Training Score of SGD Regression:- ",model1.score(X_train_new,y_train))
print("Testing Score of SGD Regression:- ",model1.score(X_test_new,y_test))



df.corr()


df.drop('Avg. Area Number of Bedrooms',axis=1,inplace=True)


X=df.iloc[:,:-1].values
y=df.iloc[:,-1].values
X_train,X_test,y_train,y_test=train_test_split(X,y,random_state=10)

pf=PolynomialFeatures(degree=7)
X_train=pf.fit_transform(X_train)
X_test=pf.transform(X_test)

sc=StandardScaler()
X_train_new=sc.fit_transform(X_train)
X_test_new=sc.transform(X_test)

model=LinearRegression()
model.fit(X_train_new,y_train)
print("Training Score of Linear Regression:- ",model.score(X_train_new,y_train))
print("Testing Score of Linear Regression:- ",model.score(X_test_new,y_test))

print('============================================================================================================')



X=df.iloc[:,:-1].values
y=df.iloc[:,-1].values
X_train,X_test,y_train,y_test=train_test_split(X,y,random_state=10)

pf=PolynomialFeatures(degree=5)
X_train=pf.fit_transform(X_train)
X_test=pf.transform(X_test)
print(X_train.shape)
skb=SelectKBest(score_func=f_regression,k=int(X_train.shape[1]*.97))
X_train=skb.fit_transform(X_train,y_train)
X_test=skb.transform(X_test)
print(X_train.shape)
sc=StandardScaler()
X_train_new=sc.fit_transform(X_train)
X_test_new=sc.transform(X_test)

model=LinearRegression()
model.fit(X_train_new,y_train)
print("Training Score of Linear Regression:- ",model.score(X_train_new,y_train))
print("Testing Score of Linear Regression:- ",model.score(X_test_new,y_test))

print('============================================================================================================')



from sklearn.linear_model import Lasso,Ridge


df=pd.read_csv("G:/dataset/regression/california_house_price.csv")
df.drop(columns='Unnamed: 6',axis=1,inplace=True)
X=df.iloc[:,:-1].values
y=df.iloc[:,-1].values
X_train,X_test,y_train,y_test=train_test_split(X,y,random_state=10)
sc=StandardScaler()
X_train_new=sc.fit_transform(X_train)
X_test_new=sc.transform(X_test)


model=LinearRegression()
model.fit(X_train_new,y_train)
print(model.coef_)


model=Lasso(alpha=900)
model.fit(X_train_new,y_train)
print(model.coef_)

model=Ridge(alpha=0.99999999999999999)
model.fit(X_train_new,y_train)
print(model.coef_)



