














import pandas as pd
from sklearn.metrics.pairwise import cosine_similarity,cosine_distances
from sklearn.neighbors import NearestNeighbors
from sklearn.feature_extraction.text import TfidfVectorizer,ENGLISH_STOP_WORDS
import warnings
warnings.filterwarnings('ignore')


s1="python is a Programming language"
s2="india lost world cup 2023"
s3="java was trending programming Language"


tf=TfidfVectorizer(stop_words=sw)
X=tf.fit_transform([s1,s2,s3]).toarray()
sim=cosine_similarity(X)
dis=cosine_distances(X)
print("Similarity Socre:- ",sim)
print(">>>>>>>>>>>>>>>>>>>>>>>>>>>>>>>>>>>>>>>>>>>>>>>>>>>>>>>>>>>>>>>>>>>>>>>>>>>>>>>>>>>>>>>>>>>>>>>>>>>>>>>>>>>>>")
print("Similarity Distance:- ",dis)


df=pd.read_csv("G:/dataset/recommend/movies_content.csv")
# df=df[['name','description']] # Alternative of iloc
df=df.iloc[:,[-1,1]]
df.drop_duplicates(inplace=True)
df.dropna(inplace=True)
df.reset_index(drop=True,inplace=True)
sw=list(ENGLISH_STOP_WORDS)
tf=TfidfVectorizer(lowercase=True,stop_words=sw)
X=tf.fit_transform(df['description']).toarray()
# len(tf.get_feature_names_out())  # length = 7702
model=NearestNeighbors(metric='cosine')
model.fit(X)


name='Neerja'
print(model.kneighbors([X[0]],n_neighbors=6))
print(df.iloc[309][1])
df.iloc[309]


try:
    movie_name=input("Enter Movie Name:- ")
    idx=df[df.name==movie_name].index[0]
    score,index=model.kneighbors([X[idx]],n_neighbors=6)
    movie=[]
    for i in index[0][1:]:
        movie.append(df.iloc[i][0])
    df_1=pd.DataFrame(data=movie,columns=['name'])
    print("---------Top 5 Recommended Movies----------")
    print("--------------------------------------------")
    print(df_1)
except:
    print("Movie Not Found!")








df=pd.read_csv("G:/dataset/recommend/movies_collaborative.csv")
user_movie=df.pivot_table(index='userId',columns='movieId',values='rating')
user_movie.fillna(0,inplace=True)
model=NearestNeighbors(metric='cosine')
X=user_movie.values
model.fit(X)


model.kneighbors([X[0]],n_neighbors=5)
sim_movie=df[df['userId']==266].movieId.values
target_movie=df[df['userId']==1].movieId.values
recommend_movie=set(sim_movie)-set(target_movie)
df_recomnd_movie=df[(df.userId==266) & df.movieId.isin(recommend_movie)]
df_recomnd_movie=df_recomnd_movie.sort_values('rating',ascending=False)
df_recomnd_movie.head()


df=pd.read_csv("G:/dataset/recommend/movies_collaborative.csv")
user_movie=df.pivot_table(index='userId',columns='movieId',values='rating')
user_movie.fillna(0,inplace=True)
model=NearestNeighbors(metric='cosine')
X=user_movie.values
model.fit(X)
try:
    user_id=int(input("Please Enter Your User Id:-"))
    movies=[]
    rating=[]
    score,idx=model.kneighbors([X[user_id]],n_neighbors=2)
    target_userid=idx[0][1]+1
    user_id=idx[0][0]+1
    sim_movie=df[df['userId']==target_userid].movieId.values
    target_movie=df[df['userId']==user_id].movieId.values
    recommend_movie_set=set(sim_movie)-set(target_movie)
    df_recomnd_movie=df[(df.userId==target_userid) & df.movieId.isin(recommend_movie)]
    df_recomnd_movie=df_recomnd_movie.sort_values('rating',ascending=False).head()
    for i,j in zip(df_recomnd_movie.title,df_recomnd_movie.rating):
        movies.append(i)
        rating.append(j)
    d={"Title":movies,"Rating":rating}
    final_df=pd.DataFrame(data=d)
    print("Similar User:",target_userid)
    print("---------Top 5 Recommended Movies----------")
    print(final_df)
except:
    print("User Not Found!")



