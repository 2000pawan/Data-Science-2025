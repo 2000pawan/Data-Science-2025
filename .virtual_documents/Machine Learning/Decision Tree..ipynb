from sklearn.datasets import load_iris
from sklearn.tree import DecisionTreeClassifier,plot_tree
import matplotlib.pyplot as plt








df=load_iris()
X=df.data
y=df.target


# importance hyperparameter using in decision tree
model=DecisionTreeClassifier(criterion='gini',random_state=10,max_depth=None,max_leaf_nodes=None,max_features=None,min_samples_split=2)
model.fit(X,y)


plt.figure(figsize=(10,10))
plot_tree(model,feature_names=['SL','SW','PL','PW'],fontsize=8,filled=True)
plt.show()


model.feature_importances_


model.predict([[.6,1.0,4.5,.9]])



