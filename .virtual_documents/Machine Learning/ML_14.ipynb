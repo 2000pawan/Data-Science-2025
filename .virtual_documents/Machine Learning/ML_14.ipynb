import pandas as pd
from sklearn.linear_model import LinearRegression
from sklearn.metrics import r2_score,confusion_matrix


df=pd.read_csv('G:/dataset/regression/salary_poly.csv')
X=df.iloc[:,:-1].values
y=df.iloc[:,-1].values
model=LinearRegression()
model.fit(X,y)


r2_score(y,model.predict(X))


import pyshark
import pandas as pd
import numpy as np
import nest_asyncio


# Apply nest_asyncio to allow multiple event loops
nest_asyncio.apply()

def extract_network_features(interface="Wi-Fi", packet_count=100):
    """
    Extracts 78 network traffic features from real-world network packets and stores them in a CSV file.
    
    Parameters:
    - interface (str): The network interface to capture packets from.
    - packet_count (int): The number of packets to capture.

    Returns:
    - DataFrame containing extracted features.
    """
    
    # Start capturing packets
    capture = pyshark.LiveCapture(interface=interface, tshark_path="C:\\Program Files\\Wireshark\\tshark.exe")

    # Initialize lists to store feature values
    data = []

    for packet in capture.sniff_continuously(packet_count=packet_count):
        try:
            # Extract common features
            features = {
                "Destination Port": int(packet[packet.transport_layer].dstport) if hasattr(packet, 'transport_layer') else 0,
                "Flow Duration": float(packet.sniff_time.timestamp()),  # Packet arrival time
                "Total Fwd Packets": 1 if hasattr(packet, "ip") else 0,
                "Total Backward Packets": 0,  # Placeholder
                "Total Length of Fwd Packets": int(packet.length),
                "Total Length of Bwd Packets": 0,  # Placeholder
                "Fwd Packet Length Max": int(packet.length),
                "Fwd Packet Length Min": int(packet.length),
                "Fwd Packet Length Mean": int(packet.length),
                "Fwd Packet Length Std": 0,  # Placeholder
                "Flow Bytes/s": 0,  # Placeholder, needs more packets
                "Flow Packets/s": 1,
                "Flow IAT Mean": 0,  # Inter-Arrival Time Placeholder
                "Flow IAT Max": 0,
                "Flow IAT Min": 0,
                "Flow IAT Std": 0,
                "Fwd IAT Total": 0,
                "Fwd IAT Mean": 0,
                "Fwd IAT Max": 0,
                "Fwd IAT Min": 0,
                "Fwd IAT Std": 0,
                "Bwd IAT Total": 0,
                "Bwd IAT Mean": 0,
                "Bwd IAT Max": 0,
                "Bwd IAT Min": 0,
                "Bwd IAT Std": 0,
                "Fwd PSH Flags": 1 if hasattr(packet, 'tcp') and 'P' in packet.tcp.flags else 0,
                "Bwd PSH Flags": 0,
                "Fwd URG Flags": 1 if hasattr(packet, 'tcp') and 'U' in packet.tcp.flags else 0,
                "Bwd URG Flags": 0,
                "SYN Flag": 1 if hasattr(packet, 'tcp') and 'S' in packet.tcp.flags else 0,
                "FIN Flag": 1 if hasattr(packet, 'tcp') and 'F' in packet.tcp.flags else 0,
                "ACK Flag": 1 if hasattr(packet, 'tcp') and 'A' in packet.tcp.flags else 0,
                "RST Flag": 1 if hasattr(packet, 'tcp') and 'R' in packet.tcp.flags else 0,
                "Init_Win_bytes_forward": int(packet.tcp.window_size) if hasattr(packet, 'tcp') else 0,
                "Init_Win_bytes_backward": 0,
                "Active Mean": 0,
                "Active Max": 0,
                "Active Min": 0,
                "Active Std": 0,
                "Idle Mean": 0,
                "Idle Max": 0,
                "Idle Min": 0,
                "Idle Std": 0
            }
            
            data.append(features)
        
        except Exception as e:
            print(f"Error processing packet: {e}")
            continue

    # Convert to Pandas DataFrame
    df = pd.DataFrame(data)

    # Save to CSV
    df.to_csv("network_features.csv", index=False)

    return df

# Run the function
df = extract_network_features(packet_count=100)
print(df.head())



from sklearn.svm import SVC


model=SVC()


li=[5874.2851967033785, 52361.16651040425, 13.030151344312666, 6.145128861189042, 3382.452364446999, 8.126074190723585, 1727.5495846099425, 3299.0895331910133, 1663.6000180324918, 1436.0209004857759, 227096.50538489496, 13652.745430519397, 237250.24376587823, 238331.9050924106, 89.35974774589316, 1484.5140553440415, 27667.678284380596, 109969.12183636351, 179270.0384312321, 10763.290624052142, 53049.21195971833, 21470.17866561241, 244436.54567977463, 178271.23456089295, 4478.071809658606, 5592.420683091612, 7773.116711629925, 28315.735504757675, 20164.20405659966, 4826.444049320772, 2913.7520653286383, 1.1612496165273, 0.06330213305163894, 0.11241499660844241, 1197.264030727566, 4679.708758482237, 15222.385859527722, 175612.20925694756, 151901.4068558346, 194438.0226933118, 142491.64057185143, 52614.32417699292, 2913.7520653286383, 9.960596696980202, 25250.491781305973, 10317.068946587835, 4111.073151087723, 1.1612496165273, 10.004170487837744, 3371.053172931693, 153832.80477765098, 1663.6000180324918, 237250.2437658341, 0.06330213305163894,  13.030151344312666, 3391.7955181000866, 6.145128861189042, 8.126240168367174, 6358.590170664902, 2768.4279703376565, 5.324807626158452, 0.2674049248066603, 15977.0687096026, 6932.629266751313, 8003.113920067206, 17052.63472492029, 199892.61004559352, 8283.288055159717, 185697.74119337596, 201148.4438478987]
# li.sort()


print(li)


c=0
z=[]
for i,j in enumerate(li):
    if j>=1000.00:
        c+=1
        z.append((i,j))
c


z



