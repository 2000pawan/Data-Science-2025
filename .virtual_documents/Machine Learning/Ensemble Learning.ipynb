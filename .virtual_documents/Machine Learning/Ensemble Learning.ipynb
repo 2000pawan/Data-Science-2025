


from sklearn.ensemble import RandomForestClassifier
from sklearn.datasets import load_iris


df=load_iris()
X=df.data
y=df.target


model=RandomForestClassifier(n_estimators=200,random_state=10,bootstrap=True,oob_score=True,max_features='sqrt')
model.fit(X,y)


sample=[[0.3,3.0,2.6,0.4]]
model.predict(sample)


model.predict_proba(sample)


model.predict_log_proba(sample)


model.estimator_


model.classes_


model.estimator_params


model.feature_importances_


model.oob_score_


model.score(X,y)


from sklearn.ensemble import BaggingClassifier,VotingClassifier,AdaBoostClassifier
from sklearn.datasets import load_iris
from sklearn.linear_model import LogisticRegression
from sklearn.svm import SVC





df=load_iris()
X=df.data
y=df.target


'''all hyperparameter are same as random forest'''

weak_model=LogisticRegression(max_iter=200)
model=BaggingClassifier(estimator=weak_model,n_estimators=100)
model.fit(X,y)





df=load_iris()
X=df.data
y=df.target


wk_model=[('lr',LogisticRegression(max_iter=200)),('svc',SVC())]
model=VotingClassifier(estimators=wk_model)
model.fit(X,y)





df=load_iris()
X=df.data
y=df.target


wk_model=LogisticRegression(max_iter=200)
model=AdaBoostClassifier(estimator=wk_model,n_estimators=100,algorithm='SAMME')
model.fit(X,y)


from sklearn.neighbors import KNeighborsClassifier
wk1_model=KNeighborsClassifier()
model=AdaBoostClassifier(estimator=wk1_model,n_estimators=100,algorithm='SAMME')
model.fit(X,y)


weak_model=SVC()
model=AdaBoostClassifier(estimator=wk_model,n_estimators=100,algorithm='SAMME')
model.fit(X,y)


weak_model=SVC()
model=AdaBoostClassifier(estimator=wk_model,n_estimators=100,algorithm='SAMME.R')
model.fit(X,y)



