import pandas as pd
import numpy as np
import matplotlib.pyplot as plt
import seaborn as sb
from sklearn.linear_model import LinearRegression
from sklearn.model_selection import train_test_split
from sklearn.metrics import r2_score
from sklearn.preprocessing import PolynomialFeatures


df=pd.read_csv("G:/dataset/regression/salary_poly.csv")
X=df.iloc[:,:-1].values
y=df.iloc[:,-1].values
X_train,X_test,y_train,y_test=train_test_split(X,y,random_state=10)

model=LinearRegression()
model.fit(X_train,y_train)
print("Training Score:- ",model.score(X_train,y_train))
print("Testing SCore:- ",model.score(X_test,y_test))


df=pd.read_csv("G:/dataset/regression/salary_poly.csv")
X=df.iloc[:,:-1].values
y=df.iloc[:,-1].values
X_train,X_test,y_train,y_test=train_test_split(X,y,random_state=10)
for i in range(1,13):
    print(i)
    pf=PolynomialFeatures(degree=i)
    X_train_new=pf.fit_transform(X_train)
    X_test_new=pf.transform(X_test)
    model=LinearRegression()
    model.fit(X_train_new,y_train)
    print("Training Score:- ",model.score(X_train_new,y_train))
    print("Testing SCore:- ",model.score(X_test_new,y_test))
    print("======================================================================================")


from sklearn.datasets import load_diabetes


df=load_diabetes()
X=df.data
y=df.target


print(df.DESCR)


X.shape


X_train,X_test,y_train,y_test=train_test_split(X,y,random_state=10)
model=LinearRegression()
model.fit(X_train,y_train)
print("Training Score:- ",model.score(X_train,y_train))
print("Testing SCore:- ",model.score(X_test,y_test))


for i in range(1,13):
    print(i)
    pf=PolynomialFeatures(degree=i)
    X_train_new=pf.fit_transform(X_train)
    X_test_new=pf.transform(X_test)
    model=LinearRegression()
    model.fit(X_train_new,y_train)
    print("Training Score:- ",model.score(X_train_new,y_train))
    print("Testing SCore:- ",model.score(X_test_new,y_test))
    print("======================================================================================")








print(model.predict(X_test_new)[:10])


print(y_test[:10])


diff=y_test[:10]-model.predict(X_test_new)[:10]
diff





df1=pd.DataFrame(X_train,columns=df.feature_names)
df1


df1.corr()


sb.heatmap(df1.corr())
plt.show()





x=df.feature_names
for i in x:
    print(i)
    plt.hist(df1[i],edgecolor='k')
    plt.show()
    print('=======================================================================')





x=df.feature_names
for i in x:
    print(i)
    plt.scatter(df1[i],y_train)
    plt.show()
    print('=======================================================================')



