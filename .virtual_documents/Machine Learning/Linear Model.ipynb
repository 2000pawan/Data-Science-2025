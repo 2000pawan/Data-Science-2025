import pandas as pd
from sklearn.linear_model import LinearRegression
from sklearn.metrics import r2_score,confusion_matrix


df=pd.read_csv('G:/dataset/regression/salary_poly.csv')
X=df.iloc[:,:-1].values
y=df.iloc[:,-1].values
model=LinearRegression()
model.fit(X,y)


print(model.coef_)
print(model.intercept_)


model.predict([[25]])


pred=25*10488.31531233+15667.617973807734
pred


df=pd.read_csv('G:/dataset/regression/salary_2_variable.csv')
df.Gender=df.Gender.map({'Male':1,"Female":0})
X=df.iloc[:,:-1].values
y=df.iloc[:,-1].values


model=LinearRegression()
model.fit(X,y)


model.predict([[25,1]])


df=pd.read_csv("G:/dataset/regression/salary_1_variable.csv")
X=df.iloc[:,:-1].values
y=df.iloc[:,-1].values
model=LinearRegression()
model.fit(X,y)


print(model.coef_)
print(model.intercept_)


df=pd.read_csv("G:/dataset/regression/salary_1_variable.csv")
X=df.iloc[:,:-1].values
y=df.iloc[:,-1].values
model=LinearRegression(fit_intercept=False)
model.fit(X,y)


print(model.coef_)
print(model.intercept_)


df=pd.read_csv("G:/dataset/regression/salary_1_variable.csv")
X=df.iloc[:,:-1].values
y=df.iloc[:,-1].values
model=LinearRegression()
model.fit(X,y)


pred=model.predict(X)
pred


y


print(y-pred)


print((y-pred)**2)


sum((y-pred)**2)


sum((y-pred)**2)/len(y)


from sklearn.metrics import mean_squared_error
import math


mean_squared_error(y,pred)





residuals=y-pred
print(residuals)
OLS=sum(residuals**2)
print(OLS)
MSE=OLS/len(y)
print(MSE)
RMSE=math.sqrt(MSE)
print(RMSE)
MAE=sum(abs(residuals))/len(y)
print(MAE)


MAE=abs(residuals).mean()
print(MAE)


from sklearn.metrics import mean_absolute_error,mean_squared_error,root_mean_squared_error


print(mean_absolute_error(y,pred))
print(mean_squared_error(y,pred))
print(root_mean_squared_error(y,pred))



