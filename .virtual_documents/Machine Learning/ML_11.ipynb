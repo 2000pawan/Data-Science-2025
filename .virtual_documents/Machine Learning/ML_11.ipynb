





import pandas as pd
from sklearn.neighbors import KNeighborsClassifier
from sklearn.preprocessing import StandardScaler
from sklearn.feature_selection import f_classif,SelectKBest
from sklearn.model_selection import train_test_split,cross_val_score
from sklearn.metrics import accuracy_score,f1_score


df=pd.read_excel("G:/dataset/classification/creditcard_copy.xlsx")
df.Class.value_counts()


X=df.iloc[:,1:-2].values
y=df.iloc[:,-1].values


X_train,X_test,y_train,y_test=train_test_split(X,y,random_state=1)
model=KNeighborsClassifier()
model.fit(X_train,y_train)
print('Accuracy Score of Training:- ',model.score(X_train,y_train))
print('Accuracy Score of Testing:- ',model.score(X_test,y_test))


model=KNeighborsClassifier()
cross_val_score(model,X,y,cv=5).mean()





X_train,X_test,y_train,y_test=train_test_split(X,y,random_state=1)
sc=StandardScaler()
X_train_new=sc.fit_transform(X_train)
X_test_new=sc.transform(X_test)
model=KNeighborsClassifier()
model.fit(X_train_new,y_train)
pred_train=model.predict(X_train_new)
pred_test=model.predict(X_test_new)
print('F-1 Score on Training Data:- ',f1_score(y_train,pred_train))
print('F-1 Score on Testing Data:- ',f1_score(y_test,pred_test))


model=KNeighborsClassifier()
model.fit(X_train,y_train)
pred_train=model.predict(X_train)
pred_test=model.predict(X_test)
print('F-1 Score on Training Data:- ',f1_score(y_train,pred_train))
print('F-1 Score on Testing Data:- ',f1_score(y_test,pred_test))


model=KNeighborsClassifier()
model.fit(X_train,y_train)
pred_train=model.predict(X_train)
pred_test=model.predict(X_test)
print('F-1 Score on Training Data:- ',f1_score(y_train,pred_train,average=None))
print('F-1 Score on Testing Data:- ',f1_score(y_test,pred_test,average=None))





from imblearn.over_sampling import SMOTE


X=df.iloc[:,1:-2].values
y=df.iloc[:,-1].values
sm=SMOTE()
x1,y1=sm.fit_resample(X,y)


X_train,X_test,y_train,y_test=train_test_split(x1,y1,random_state=1)
sc=StandardScaler()
X_train_new=sc.fit_transform(X_train)
X_test_new=sc.transform(X_test)
model=KNeighborsClassifier()
model.fit(X_train_new,y_train)
pred_train=model.predict(X_train_new)
pred_test=model.predict(X_test_new)
print('F-1 Score on Training Data:- ',f1_score(y_train,pred_train))
print('F-1 Score on Testing Data:- ',f1_score(y_test,pred_test))
print('F-1 Score on Training Data:- ',f1_score(y_train,pred_train,average=None))
print('F-1 Score on Testing Data:- ',f1_score(y_test,pred_test,average=None))



