








import warnings
warnings.filterwarnings('ignore')
import pandas as pd
import matplotlib.pyplot as plt
from sklearn.cluster import KMeans
from sklearn.metrics import silhouette_samples,silhouette_score
from sklearn.preprocessing import StandardScaler


df=pd.read_csv("G:/dataset/fruits_cluster.csv")
X=df.iloc[:,:].values
sc=StandardScaler()
X_new=sc.fit_transform(X)
model=KMeans(n_clusters=4,n_init=10,max_iter=50)
model.fit(X_new)
model.labels_ # gives samples goes which cluster


model.inertia_ # gives WSSE score





wsse=[]
for i in range(1,10):
    model=KMeans(n_clusters=i,n_init=10,max_iter=50)
    model.fit(X_new)
    wsse.append(model.inertia_)
print(wsse)


plt.plot(range(1,10),wsse,color='red')
plt.show()


model=KMeans(n_clusters=2,n_init=10,max_iter=50)
model.fit(X_new)
print("Silhouette Score:- ",silhouette_score(X_new,model.labels_))


model=KMeans(n_clusters=3,n_init=10,max_iter=50)
model.fit(X_new)
print("Silhouette Score:- ",silhouette_score(X_new,model.labels_))


model=KMeans(n_clusters=4,n_init=10,max_iter=50)
model.fit(X_new)
print("Silhouette Score:- ",silhouette_score(X_new,model.labels_))


model=KMeans(n_clusters=3,n_init=10,max_iter=50)
model.fit(X_new)
print("Silhouette Score:- ",silhouette_samples(X_new,model.labels_))


model=KMeans(n_clusters=2,n_init=10,max_iter=50)
model.fit(X_new)
print("Silhouette Score:- \n",silhouette_samples(X_new,model.labels_)) 
print("--------->>>>>>>>>>>>>>>>>>>>>>>>>>>>>>>>>>>>>>>>>>>>>>>>>>>>>>>>>>>>>>>>>>>>>>>>>>>>>>>>>>>>>>>>>>>>>>>>>>>>>>>>>>")
print("Model Labels:- \n",model.labels_)



