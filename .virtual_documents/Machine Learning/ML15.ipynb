import pandas as pd
import numpy as np
import matplotlib.pyplot as plt
import seaborn as sb
from sklearn.linear_model import LinearRegression
from sklearn.model_selection import train_test_split
from sklearn.preprocessing import PolynomialFeatures
from sklearn.metrics import r2_score


df=pd.read_csv("G:/dataset/regression/salary_1_variable.csv")
X=df.iloc[:,:-1].values
y=df.iloc[:,-1].values
model=LinearRegression()
model.fit(X,y)


print(model.coef_)
print(model.intercept_)


xmean=np.mean(X)
ymean=np.mean(y)
xymean=np.mean(X[:,0]*y)
xmeansqr=xmean**2
xsqrmean=np.mean(X**2)


m=((xmean*ymean)-xymean)/(xmeansqr-xsqrmean)
print(m)


c=ymean-m*xmean
print(c)


model.predict([[20]])


predict=m*20+c
print(predict)


pred=model.predict(X)


r2_score(y,pred)


plt.scatter(X[:,0],y)
plt.scatter(X[:,0],pred)
plt.show()


df['pred']=pred


plt.scatter(X[:,0],y)
plt.plot(X[:,0],pred,c='r')
plt.show()


df1=pd.read_csv("G:/dataset/regression/salary_poly.csv")
X=df1.iloc[:,:-1].values
y=df1.iloc[:,-1].values
model=LinearRegression()
model.fit(X,y)
print(model.score(X,y))
plt.scatter(X[:,0],y)
plt.plot(X[:,0],model.predict(X),c='r')
plt.show()


df1=pd.read_csv("G:/dataset/regression/salary_poly.csv")
X=df1.iloc[:,:-1].values
y=df1.iloc[:,-1].values

for i in range(1,15):
    print(i)
    pf=PolynomialFeatures(degree=i)
    X_new=pf.fit_transform(X)
    model=LinearRegression()
    model.fit(X_new,y)
    print(model.score(X_new,y))
    plt.scatter(X[:,0],y)
    plt.plot(X[:,0],model.predict(X_new),c='r')
    plt.show()
    print('===========================================================================================================')



