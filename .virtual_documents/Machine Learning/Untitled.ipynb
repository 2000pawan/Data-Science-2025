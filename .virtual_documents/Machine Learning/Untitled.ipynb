














import pandas as pd
from sklearn.metrics.pairwise import cosine_similarity,cosine_distances
from sklearn.neighbors import NearestNeighbors
from sklearn.feature_extraction.text import TfidfVectorizer,ENGLISH_STOP_WORDS
import warnings
warnings.filterwarnings('ignore')


s1="python is a Programming language"
s2="india lost world cup 2023"
s3="java was trending programming Language"


tf=TfidfVectorizer(stop_words=sw)
X=tf.fit_transform([s1,s2,s3]).toarray()
sim=cosine_similarity(X)
dis=cosine_distances(X)
print("Similarity Socre:- ",sim)
print(">>>>>>>>>>>>>>>>>>>>>>>>>>>>>>>>>>>>>>>>>>>>>>>>>>>>>>>>>>>>>>>>>>>>>>>>>>>>>>>>>>>>>>>>>>>>>>>>>>>>>>>>>>>>>")
print("Similarity Distance:- ",dis)


df=pd.read_csv("G:/dataset/recommend/movies_content.csv")
# df=df[['name','description']] # Alternative of iloc
df=df.iloc[:,[-1,1]]
df.drop_duplicates(inplace=True)
df.dropna(inplace=True)
df.reset_index(drop=True,inplace=True)
sw=list(ENGLISH_STOP_WORDS)
tf=TfidfVectorizer(lowercase=True,stop_words=sw)
X=tf.fit_transform(df['description']).toarray()
# len(tf.get_feature_names_out())  # length = 7702
model=NearestNeighbors(metric='cosine')
model.fit(X)


name='Neerja'
print(model.kneighbors([X[0]],n_neighbors=6))
print(df.iloc[309][1])
df.iloc[309]


try:
    movie_name=input("Enter Movie Name:- ")
    idx=df[df.name==movie_name].index[0]
    score,index=model.kneighbors([X[idx]],n_neighbors=6)
    movie=[]
    for i in index[0][1:]:
        movie.append(df.iloc[i][0])
    df_1=pd.DataFrame(data=movie,columns=['name'])
    print("Recommend Movies:-\n")
    print(df_1)
except:
    print("Movie Not Found!")



