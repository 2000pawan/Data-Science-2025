import pandas as pd
from sklearn.model_selection import RandomizedSearchCV,GridSearchCV
from sklearn.neighbors import KNeighborsClassifier


df=pd.read_csv("G:/dataset/classification/fruits.csv")
df



