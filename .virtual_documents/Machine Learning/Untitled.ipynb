


from sklearn.datasets import load_wine
from sklearn.preprocessing import StandardScaler
from sklearn.model_selection import train_test_split
from sklearn.metrics import accuracy_score
from sklearn.neighbors import KNeighborsClassifier


df=load_wine()


df



