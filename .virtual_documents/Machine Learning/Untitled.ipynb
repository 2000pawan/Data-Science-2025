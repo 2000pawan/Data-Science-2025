


from sklearn.svm import SVC
import numpy as np
import pandas as pd
import matplotlib.pyplot as plt
from sklearn.datasets import load_iris
from sklearn.model_selection import cross_val_score
import seaborn as sb
from sklearn.preprocessing import StandardScaler
from sklearn.datasets import make_circles
from mpl_toolkits.mplot3d import Axes3D


df= pd.read_csv('G:/dataset/classification/fruits.csv')
X=df.iloc[:,:-1].values
y=df.iloc[:,-1].values

model=SVC(kernel='linear')
cross_val_score(model,X,y,cv=5).mean()


sb.scatterplot(x=df.diameter,y=df.weight, hue=df.FruitName)
plt.show()


df= pd.read_csv('G:/dataset/classification/fruits_svc.csv')
X=df.iloc[:,:-1].values
y=df.iloc[:,-1].values

model=SVC(kernel='linear')
cross_val_score(model,X,y,cv=5).mean()


sb.scatterplot(x=df.diameter,y=df.weight, hue=df.FruitName)
plt.show()


df= pd.read_csv('G:/dataset/classification/fruits_svc.csv')
X=df.iloc[:,:-1].values
y=df.iloc[:,-1].values

for i in range(2,11):
    print('Degree:- ',i)
    model=SVC(kernel='poly',degree=i)
    print(cross_val_score(model,X,y,cv=5).mean())
    print('====================================================================')


df= pd.read_csv('G:/dataset/classification/fruits_svc.csv')
X=df.iloc[:,:-1].values
y=df.iloc[:,-1].values

model=SVC(kernel='rbf',gamma=0.6)
cross_val_score(model,X,y,cv=5).mean()


df= pd.read_csv('G:/dataset/classification/fruits_svc.csv')
X=df.iloc[:,:-1].values
y=df.iloc[:,-1].values

model=SVC(kernel='linear')
cross_val_score(model,X,y,cv=5).mean()


df= pd.read_csv('G:/dataset/classification/fruits_svc.csv')
X=df.iloc[:,:-1].values
y=df.iloc[:,-1].values
sc= StandardScaler()
X1=sc.fit_transform(X)

model=SVC(kernel='linear')
cross_val_score(model,X1,y,cv=5).mean()


df= pd.read_csv('G:/dataset/classification/fruits_svc.csv')
X=df.iloc[:,:-1].values
y=df.iloc[:,-1].values
sc= StandardScaler()
X1=sc.fit_transform(X)

model=SVC(kernel='rbf',gamma=0.3)
cross_val_score(model,X1,y,cv=5).mean()


df= pd.read_csv('G:/dataset/classification/fruits_svc.csv')
X=df.iloc[:,:-1].values
y=df.iloc[:,-1].values
sc= StandardScaler()
X1=sc.fit_transform(X)

for i in range(2,11):
    print('Degree:- ',i)
    model=SVC(kernel='poly',degree=i)
    print(cross_val_score(model,X1,y,cv=5).mean())
    print('====================================================================')


X,y = make_circles(n_samples = 500,noise=.02)
plt.scatter(X[:, 0], X[:, 1],c=y,marker='.') 
plt.show()


X1 = X[:, 0]
X2 = X[:, 1]
X3 = (X1**2 + X2**2)

fig = plt.figure() 
axes=fig.add_subplot(projection = '3d') 
axes.scatter(X1,X2,X3,c=y) 
plt.show()


model=SVC(kernel='rbf',probability=True)
model.fit(X,y)
cross_val_score(model,X,y,cv=5).mean()


samples=[2.5,70]
sample=sc.transform([samples])
model.predict_proba(sample)


model.predict(sample)


df=pd.read_csv('G:/dataset/classification/fruits.csv')
df.FruitName=df.FruitName.map({'Apple':-1,'Banana':1})
print(df.head(2))
X=df.iloc[:,:-1].values
y= df.iloc[:,-1].values

model=SVC(kernel='linear')
model.fit(X,y)


model.coef_


model.intercept_


sample=[[3,70],[5,90]]
model.decision_function(sample)


model.predict(sample)


d=-0.87956593*3 + 70*-0.01319065 + 4.40849056
print(d)

d=-0.87956593*5 + 90*-0.01319065 + 4.40849056
print(d)


gm=0.6
model=SVC(kernel='rbf',gamma=gm)
model.fit(X,y)


model.coef_


model.intercept_


model.dual_coef_


model.n_support_


# d= sum( dual_coef_i * k(x_i' ,X_i) + intercept) # K(X' ,X)= exp(-gamma * ||X' - X||^2)


sample=[3,70]
dc=model.dual_coef_
sqr_equi_dist=np.square(model.support_vectors_ - sample).sum(axis=1)
kernel=np.exp(-gm * sqr_equi_dist)
d=(dc*kernel).sum()+model.intercept_
print(d)


gm=0.6
deg=3
model=SVC(kernel='poly',degree=deg,gamma=gm)
model.fit(X,y)






