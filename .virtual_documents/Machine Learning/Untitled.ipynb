


from sklearn.datasets import load_iris
from sklearn.decomposition import PCA


df=load_iris()
X=df.data
y=df.target
X.shape


pca=PCA(.99)
X_new=pca.fit_transform(X)
X_new.shape


pca=PCA(n_components=2)
X_new=pca.fit_transform(X)
X_new.shape


X_new



