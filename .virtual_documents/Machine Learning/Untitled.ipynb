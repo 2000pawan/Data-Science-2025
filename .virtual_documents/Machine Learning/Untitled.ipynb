


from sklearn.ensemble import RandomForestClassifier
from sklearn.datasets import load_iris


df=load_iris()
X=df.data
y=df.target


model=RandomForestClassifier(n_estimators=200,random_state=10,bootstrap=True,oob_score=True,max_features='sqrt')
model.fit(X,y)


sample=[[0.3,3.0,2.6,0.4]]
model.predict(sample)


model.predict_proba(sample)


model.predict_log_proba(sample)


model.estimator_


model.classes_


model.estimator_params


model.feature_importances_


model.oob_score_


model.score(X,y)



