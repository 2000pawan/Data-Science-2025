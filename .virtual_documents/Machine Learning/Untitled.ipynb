import pandas as pd
from sklearn.linear_model import SGDClassifier
from sklearn.preprocessing import StandardScaler


df=pd.read_csv('G:/dataset/classification/online_shop.csv')
df.Gender=df.Gender.map({'Female':0,'Male':1})
df.head(5)


X=df.iloc[:,:-1].values
y=df.iloc[:,-1].values
sc=StandardScaler()
X1=sc.fit_transform(X)

model=SGDClassifier()
model.fit(X1,y)





X1=df.iloc[:200,:-1].values
y=df.iloc[:200,-1].values

sc=StandardScaler()
X=sc.fit_transform(X1)

model=SGDClassifier()
model.partial_fit(X,y,classes=[0,1])



model.score(X,y)


X2=df.iloc[200:,:-1].values
y1=df.iloc[200:,-1].values

X3=sc.transform(X2)

model=SGDClassifier()
model.partial_fit(X3,y1,classes=[0,1])



model.score(X3,y1)



