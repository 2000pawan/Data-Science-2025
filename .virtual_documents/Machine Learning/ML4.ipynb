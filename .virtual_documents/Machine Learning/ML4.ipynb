import pandas as pd
from sklearn.model_selection import train_test_split
from sklearn.neighbors import KNeighborsClassifier
from sklearn.metrics import accuracy_score
from sklearn.preprocessing import MinMaxScaler





df=pd.read_csv("G:/dataset/classification/fruits.csv")
X=df.iloc[:,:-1].values
y=df.iloc[:,-1].values
X_train,X_test,y_train,y_test=train_test_split(X,y,test_size=0.30,random_state=22)
model=KNeighborsClassifier()
model.fit(X_train,y_train)
pred_train=model.predict(X_train)
pred_test=model.predict(X_test)
print("Accuracy Score of Training:- ",accuracy_score(y_train,pred_train))
print("Accuracy Score of Testing:- ",accuracy_score(y_test,pred_test))





df=pd.read_csv("G:/dataset/classification/fruits.csv")
X=df.iloc[:,:-1].values
y=df.iloc[:,-1].values
X_train,X_test,y_train,y_test=train_test_split(X,y,test_size=.40,random_state=22)
sc=MinMaxScaler()
X_train_new=sc.fit_transform(X_train)
model=KNeighborsClassifier()
model.fit(X_train_new,y_train)
X_test_new=sc.transform(X_test)
pred_train=model.predict(X_train_new)
pred_test=model.predict(X_test_new)
print("Accuracy Score of Training:- ",accuracy_score(y_train,pred_train))
print("Accuracy Score of Testing:- ",accuracy_score(y_test,pred_test))


d=eval(input("Enter diameter:- "))
w=eval(input("Enter Weight:- "))
input=sc.transform([[d,w]])
result=model.predict(input)
print("Result:- ",result)



