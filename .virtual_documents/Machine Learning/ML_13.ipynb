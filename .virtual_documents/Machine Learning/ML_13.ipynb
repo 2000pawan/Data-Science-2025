


import joblib as jb


model=jb.load('model.pkl')
sc=jb.load('standard_scale.pkl')


ip=sc.transform([[168,82,35,0,28,0.67,49]])
model.predict(ip)


inp=sc.transform([[111.   ,  72.   ,  28.   ,   0.   ,  23.9  ,   0.407,  27.   ]])
model.predict(inp)


import pandas as pd
from sklearn.neighbors import KNeighborsClassifier
from sklearn.preprocessing import StandardScaler
from sklearn.preprocessing import LabelEncoder
from sklearn.pipeline import Pipeline
import joblib
from sklearn.metrics import accuracy_score


df=pd.read_csv('G:/dataset/classification/online_shop.csv')
lb_enc=LabelEncoder()
df.Gender=lb_enc.fit_transform(df.Gender)
X=df.iloc[:,:-1].values
y=df.iloc[:,-1].values
sc=StandardScaler()
model=KNeighborsClassifier()
pip=Pipeline([('scaler',sc),('model',model)])
pip.fit(X,y)


print('Accuracy score :- ',accuracy_score(y,pip.predict(X)))


joblib.dump(lb_enc,'lb.pkl')
joblib.dump(pip,'pip.pkl')


lc=joblib.load('lb.pkl')
model=joblib.load('pip.pkl')


ge=input('Enter your Gender:- ').capitalize()
age=int(input('Enter your age:- '))
salary=float(input('Enter your salary:- '))
ge_n=lc.transform([ge])
inpu=[[ge_n[0],age,salary]]
model.predict(inpu)



