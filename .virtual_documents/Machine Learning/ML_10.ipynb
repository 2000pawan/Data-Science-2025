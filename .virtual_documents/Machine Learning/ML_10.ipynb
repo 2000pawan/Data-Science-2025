





from sklearn.neighbors import KNeighborsClassifier
from sklearn.metrics import f1_score,accuracy_score,precision_score,recall_score,classification_report,confusion_matrix
from sklearn.preprocessing import StandardScaler
from sklearn.model_selection import train_test_split
from sklearn.datasets import load_iris
from sklearn.feature_selection import SelectKBest,f_classif


df=load_iris()
X=df.data
y=df.target
X_train,X_test,y_train,y_test=train_test_split(X,y,random_state=1)
model=KNeighborsClassifier()
model.fit(X_train,y_train)
print('Accuracy Score of Training:- ',model.score(X_train,y_train))
print('Accuracy Score of Testing:- ',model.score(X_test,y_test))


model.predict([[4.6,1.3,3.9,.5]])


df=load_iris()
X=df.data
y=df.target
X_train,X_test,y_train,y_test=train_test_split(X,y,random_state=1)
sc=StandardScaler()
X_train_new=sc.fit_transform(X_train)
X_test_new=sc.transform(X_test)
model=KNeighborsClassifier()
model.fit(X_train_new,y_train)
pred_train=model.predict(X_train)
print('Accuracy Score of Training:- ',model.score(X_train_new,y_train))
print('Accuracy Score of Testing:- ',model.score(X_test_new,y_test))


model.predict_proba(sc.transform([[6.5,2.8,4.6,1.5]]))


x=X_train[0]
Y=y_train[0]
x


Y


model.predict(sc.transform([[6.5,2.8,4.6,1.5]]))


model.predict(sc.transform([[4.6,1.3,3.9,.5]]))


df=load_iris()
X=df.data
y=df.target
X_train,X_test,y_train,y_test=train_test_split(X,y,random_state=1)
model=KNeighborsClassifier()
model.fit(X_train,y_train)
pred_train=model.predict(X_train)
pred_test=model.predict(X_test)


confusion_matrix(y_train,pred_train)


p1=37/37
p2=31/33
p3=39/42
print(p1,'\n',p2,'\n',p3)
print(precision_score(y_train,pred_train,average=None))
r1=37/37
r2=31/34
r3=39/41
print(r1,'\n',r2,'\n',r3)
print(recall_score(y_train,pred_train,average=None))
f1_1=(2*p1*r1)/(p1+r1)
f1_2=(2*p2*r2)/(p2+r2)
f1_3=(2*p3*r3)/(p3+r3)
print(f1_1,'\n',f1_2,'\n',f1_3)
print(f1_score(y_train,pred_train,average=None))
acc_score=(37+31+39)/(37+34+41)
print(accuracy_score(y_train,pred_train))


print(classification_report(y_train,pred_train))


confusion_matrix(y_test,pred_test)


p1=13/13
p2=16/16
p3=9/9
print(p1,'\n',p2,'\n',p3)
print(precision_score(y_test,pred_test,average=None))
r1=13/13
r2=16/16
r3=9/9
print(r1,'\n',r2,'\n',r3)
print(recall_score(y_test,pred_test,average=None))
f1_1=(2*p1*r1)/(p1+r1)
f1_2=(2*p2*r2)/(p2+r2)
f1_3=(2*p3*r3)/(p3+r3)
print(f1_1,'\n',f1_2,'\n',f1_3)
print(f1_score(y_test,pred_test,average=None))
acc_score=(13+16+9)/(13+16+9)
print(accuracy_score(y_test,pred_test))


print(classification_report(y_test,pred_test))



