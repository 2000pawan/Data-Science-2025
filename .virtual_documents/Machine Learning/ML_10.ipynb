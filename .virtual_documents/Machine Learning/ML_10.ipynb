





from sklearn.neighbors import KNeighborsClassifier
from sklearn.metrics import f1_score,accuracy_score
from sklearn.preprocessing import StandardScaler
from sklearn.model_selection import train_test_split
from sklearn.datasets import load_iris
from sklearn.feature_selection import SelectKBest,f_classif


df=load_iris()
X=df.data
y=df.target
X_train,X_test,y_train,y_test=train_test_split(X,y,random_state=1)
model=KNeighborsClassifier()
model.fit(X_train,y_train)
print('Accuracy Score of Training:- ',model.score(X_train,y_train))
print('Accuracy Score of Testing:- ',model.score(X_test,y_test))


model.predict([[4.6,1.3,3.9,.5]])


df=load_iris()
X=df.data
y=df.target
X_train,X_test,y_train,y_test=train_test_split(X,y,random_state=1)
sc=StandardScaler()
X_train_new=sc.fit_transform(X_train)
X_test_new=sc.transform(X_test)
model=KNeighborsClassifier()
model.fit(X_train_new,y_train)
print('Accuracy Score of Training:- ',model.score(X_train_new,y_train))
print('Accuracy Score of Testing:- ',model.score(X_test_new,y_test))


model.predict_proba(sc.transform([[6.5,2.8,4.6,1.5]]))


x=X_train[0]
Y=y_train[0]
x


Y


model.predict(sc.transform([[6.5,2.8,4.6,1.5]]))


model.predict(sc.transform([[4.6,1.3,3.9,.5]]))






