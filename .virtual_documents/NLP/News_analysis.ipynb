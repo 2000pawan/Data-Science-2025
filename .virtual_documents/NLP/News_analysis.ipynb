


import pandas as pd
from textblob import classifiers
import re
from sklearn.feature_extraction.text import ENGLISH_STOP_WORDS,CountVectorizer
from sklearn.model_selection import train_test_split
from sklearn.preprocessing import StandardScaler
from sklearn.ensemble import RandomForestClassifier,AdaBoostClassifier
from sklearn.linear_model import LogisticRegression


df=pd.read_json('G:/dataset/sentiment/news.json',lines=True)
news=df[['headline','category']]
def cleaning(doc):
    doc=doc.lower()
    doc=re.sub('[^a-z ]','',doc)
    newdoc=''
    for i in doc.split():
        newdoc=newdoc+i+' '
    return newdoc.strip()
x=news.headline
x=list(map(cleaning,x))
y=news.category
X=[]
for i, j in zip(x,y):
    if j=='POLITICS' or j=='ENTERTAINMENT' or j=='COMEDY' or j=='CRIME' or j=='SPORTS' or j=='WORLD NEWS':
        X.append((i,j))
model=classifiers.NaiveBayesClassifier(X)


st='today a lady shoot own husband. with the help of boyfriend'
text=list(map(cleaning,st))
print(model.classify(text))


df=pd.read_json('G:/dataset/sentiment/news.json',lines=True)
corpus=df.headline
print(corpus.shape)
target=df.category
def cleaning(doc):
    doc=doc.lower()
    doc=re.sub('[^a-z ]','',doc)
    newdoc=''
    for i in doc.split():
        newdoc=newdoc+i+' '
    return newdoc.strip()
corpus_new=list(map(cleaning,corpus))
X=[i for i in zip(corpus_new,target)]
model=classifiers.NaiveBayesClassifier(X)


st='football'
text=list(map(cleaning,st))
print(model.classify(text))


sp=ENGLISH_STOP_WORDS
df=pd.read_json('G:/dataset/sentiment/news.json',lines=True)
news=df[['headline','category']]
def cleaning(doc):
    doc=doc.lower()
    doc=re.sub('[^a-z ]','',doc)
    newdoc=''
    for i in doc.split():
        if i not in sp:
            newdoc=newdoc+i+' '
    return newdoc.strip()
x=news.headline
x=list(map(cleaning,x))
y=news.category
cv=CountVectorizer()
X=cv.fit_transform(x).toarray()
# sc=StandardScaler()
# X_new=sc.fit_transform(X)
model=RandomForestClassifier(n_estimators=200,oob_score=True,random_state=1)
model1=AdaBoostClassifier(n_estimators=200,random_state=1)
model2=LogisticRegression(max_iter=200,random_state=1)
model.fit(X,y)
model1.fit(X,y)
model2.fit(X,y)
print(model.score(X,y))
print(model1.score(X,y))
print(model2.score(X,y))


st='ms dhon2233i is playing cricket'
text=list(map(cleaning,st))
text=cv.transform(text).toarray()
# text=sc.transform(text)
print(model.predict(text))
print(model1.predict(text))
print(model2.predict(text))


text



