


import pandas as pd
from textblob import classifiers
import re


df=pd.read_json('G:/dataset/sentiment/news.json',lines=True)
news=df[['headline','category']]
x=news.headline
x=list(map(cleaning,x))
y=news.category
X=[]
for i, j in zip(x,y):
    if j=='POLITICS' or j=='ENTERTAINMENT' or j=='COMEDY' or j=='CRIME' or j=='SPORTS' or j=='WORLD NEWS':
        X.append((i,j))
model=classifiers.NaiveBayesClassifier(X)


st='today a lady muder own husband. with the helf of boyfriend'
text=list(map(cleaning,st))
print(model.classify(text))


df=pd.read_json('G:/dataset/sentiment/news.json',lines=True)
corpus=df.headline
target=df.category
def cleaning(doc):
    doc=doc.lower()
    doc=re.sub('[^a-z ]','',doc)
    newdoc=''
    for i in doc.split():
        newdoc=newdoc+i+' '
    return newdoc.strip()
corpus_new=list(map(cleaning,corpus))
X=[i for i in zip(corpus_new,target)]
model=classifiers.NaiveBayesClassifier(X)


st='today a lady muder own husband. with the helf of boyfriend'
text=list(map(cleaning,st))
print(model.classify(text))


 
