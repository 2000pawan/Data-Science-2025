import cv2

# Open the video file
video_path = '1.mp4'  # Replace with your video file path
cap = cv2.VideoCapture(video_path)

if not cap.isOpened():
    print("Error: Could not open video.")
    exit()

# Read and save frames from the video
frame_count = 0
while True:
    ret, frame = cap.read()
    
    if not ret:
        break
    
    # Save frame as an image (you can change the format and path as needed)
    frame_path = f'p/frame_{frame_count}.jpg'  # Adjust file format or path as needed
    cv2.imwrite(frame_path, frame)
    
    frame_count += 1

    # Display the frame (optional)
    cv2.imshow('Frame', frame)
    if cv2.waitKey(25) & 0xFF == ord('q'):
        break

# Release the VideoCapture object and close all windows
cap.release()
cv2.destroyAllWindows()

print(f"Saved {frame_count} frames.")




