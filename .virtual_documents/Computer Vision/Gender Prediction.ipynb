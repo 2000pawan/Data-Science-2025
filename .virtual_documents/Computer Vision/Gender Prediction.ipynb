





import cv2
import os
import numpy as np
from sklearn.ensemble import AdaBoostClassifier


x=[]
y=[]
# Male image feature extracrtion.
names=os.listdir('gender_training/train/male/')
for name in names:
    img=cv2.imread(f'gender_training/train/male/{name}')
    gray=cv2.cvtColor(img,cv2.COLOR_BGR2GRAY)
    gray=cv2.resize(gray,(90,90))
    gray_1d=gray.flatten()
    gray_1d=gray_1d/255
    x.append(gray_1d)
    y.append('male')
    
# feMale image feature extracrtion.
names=os.listdir('gender_training/train/female/')
for name in names:
    img=cv2.imread(f'gender_training/train/female/{name}')
    gray=cv2.cvtColor(img,cv2.COLOR_BGR2GRAY)
    gray=cv2.resize(gray,(90,90))
    gray_1d=gray.flatten()
    gray_1d=gray_1d/255
    x.append(gray_1d)
    y.append('female')


model=AdaBoostClassifier(n_estimators=200)
model.fit(x,y)


X_test=[]
y_test=[]
# Male image feature extracrtion.
names=os.listdir('gender_training/test/male/')
for name in names:
    img=cv2.imread(f'gender_training/test/male/{name}')
    gray=cv2.cvtColor(img,cv2.COLOR_BGR2GRAY)
    gray=cv2.resize(gray,(90,90))
    gray_1d=gray.flatten()
    gray_1d=gray_1d/255
    X_test.append(gray_1d)
    y_test.append('male')
    
# feMale image feature extracrtion.
names=os.listdir('gender_training/test/female/')
for name in names:
    img=cv2.imread(f'gender_training/train/female/{name}')
    gray=cv2.cvtColor(img,cv2.COLOR_BGR2GRAY)
    gray=cv2.resize(gray,(90,90))
    gray_1d=gray.flatten()
    gray_1d=gray_1d/255
    X_test.append(gray_1d)
    y_test.append('female')


print(model.score(X_test,y_test))





img=cv2.imread('img.jpg')
gray=cv2.cvtColor(img,cv2.COLOR_BGR2GRAY)
gray=cv2.resize(gray,(90,90))
gray_1d=gray.flatten()
gray_1d=gray_1d/255
cv2.imshow('gray',gray)
cv2.waitKey(5000)
cv2.destroyAllWindows()
print(model.predict([gray_1d]))


p=[]
faces_model=cv2.CascadeClassifier('haarcascade_frontalface_default.xml')
img=cv2.imread('img.jpg')
img=cv2.resize(img,(400,400))
gray=cv2.cvtColor(img,cv2.COLOR_BGR2GRAY)
faces=faces_model.detectMultiScale(gray)
for x,y,w,h in faces:
    rect=cv2.rectangle(img,(x,y),(x+w,y+h),(0,0,255),2)
    cv2.imshow('img',rect)
    cv2.waitKey(5000)
    face=gray[y:y+h,x:x+h]
    face=cv2.resize(face,(90,90))
    cv2.imshow('img',face)
    cv2.waitKey(5000)
    flatten=face.flatten()
    flatten=flatten/255
    p.append(flatten)
cv2.destroyAllWindows()
print(model.predict(p))





vdo=cv2.VideoCapture(0)
faces_model=cv2.CascadeClassifier('haarcascade_frontalface_default.xml')
while True:
    isimg,img=vdo.read()
    if isimg==False:
        break
    faces=faces_model.detectMultiScale(img,minNeighbors=6,scaleFactor=1.2)
    for x,y,w,h in faces:
        cv2.rectangle(img,(x,y),(x+w,y+h),(0,0,255),2)
        gray=cv2.cvtColor(img,cv2.COLOR_BGR2GRAY)
        face=gray[y:y+h,x:x+w]
        if len(face)>0:
            face=cv2.resize(face,(90,90))
            flatten=face.flatten()
            flatten=flatten/255
            pred=model.predict([flatten])
            cv2.putText(img,pred[0],(x,y),cv2.FONT_HERSHEY_SIMPLEX,2,(0,0,255),2)
    cv2.imshow('img',img)
    key=cv2.waitKey(50)
    if key==ord('c'):
        break
cv2.destroyAllWindows()
vdo.release()






