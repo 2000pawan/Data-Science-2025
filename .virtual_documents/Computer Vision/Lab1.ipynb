import cv2
img=cv2.imread('00019.jpg')
cv2.imshow('clr',img)
cv2.waitKey()
cv2.destroyAllWindows()



