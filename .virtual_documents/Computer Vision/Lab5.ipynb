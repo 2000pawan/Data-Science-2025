import cv2 as cv
import numpy as np
img=cv.imread('00019.jpg')
rows,cols=img.shape[:2]
M=cv.getRotationMatrix2D((cols/2,rows/2),45,1)
dst=cv.warpAffine(img,M,(cols,rows))
cv.imshow('Rotated_img',dst)
cv.waitKey(0)
cv.destroyAllWindows()



