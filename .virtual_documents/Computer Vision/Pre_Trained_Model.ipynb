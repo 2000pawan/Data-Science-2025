


import cv2
model=cv2.CascadeClassifier('haarcascade_frontalface_default.xml')
img=cv2.imread('img.jpg')
img=cv2.resize(img,(600,600))
gray=cv2.cvtColor(img,cv2.COLOR_BGR2GRAY)
faces=model.detectMultiScale(gray)
for x,y,w,h in faces:
    cv2.rectangle(img,(x,y),(x+w,y+h),(0,0,255),2)
cv2.imshow('img',img)
cv2.waitKey(5000)
cv2.destroyAllWindows()


import cv2
model=cv2.CascadeClassifier('haarcascade_frontalface_default.xml')
img=cv2.imread('img.jpg')
img=cv2.resize(img,(600,600))
gray=cv2.cvtColor(img,cv2.COLOR_BGR2GRAY)
faces=model.detectMultiScale(gray,minSize=(80,80),maxSize=(150,150),minNeighbors=5,scaleFactor=1.05)
for x,y,w,h in faces:
    cv2.rectangle(img,(x,y),(x+w,y+h),(0,0,255),2)
cv2.imshow('img',img)
cv2.waitKey(5000)
cv2.destroyAllWindows()


import cv2
vdo=cv2.VideoCapture(0)
model=cv2.CascadeClassifier('haarcascade_frontalface_default.xml')
while True:
    isimg,img=vdo.read()
    if isimg==False:
        break
    img=cv2.resize(img,(600,600))
    gray=cv2.cvtColor(img,cv2.COLOR_BGR2GRAY)
    faces=model.detectMultiScale(gray)
    for x,y,w,h in faces:
        cv2.rectangle(img,(x,y),(x+w,y+h),(0,0,255),2)
    cv2.imshow('img',img)
    key=cv2.waitKey(50)
    if key==ord('c'):
        break
cv2.destroyAllWindows()
vdo.release()


import cv2
model_eye=cv2.CascadeClassifier('haarcascade_eye.xml')
model_faces=cv2.CascadeClassifier('haarcascade_frontalface_default.xml')
img=cv2.imread('img.jpg')
img=cv2.resize(img,(800,800))
gray=cv2.cvtColor(img,cv2.COLOR_BGR2GRAY)
eye=model_eye.detectMultiScale(gray)
faces=model_faces.detectMultiScale(gray)
for x,y,w,h in eye:
    cv2.rectangle(img,(x,y),(x+w,y+h),(0,0,255),2)
for x,y,w,h in faces:
    cv2.rectangle(img,(x,y),(x+w,y+h),(255,0,255),2)
cv2.imshow('img',img)
cv2.waitKey(5000)
cv2.destroyAllWindows()


import cv2
vdo=cv2.VideoCapture(0)
model_eye=cv2.CascadeClassifier('haarcascade_eye.xml')
model_faces=cv2.CascadeClassifier('haarcascade_frontalface_default.xml')
while True:
    isimg,img=vdo.read()
    if isimg==False:
        break
    img=cv2.resize(img,(800,800))
    img=cv2.convertScaleAbs(img,beta=-15)
    gray=cv2.cvtColor(img,cv2.COLOR_BGR2GRAY)
    eye=model_eye.detectMultiScale(gray)
    faces=model_faces.detectMultiScale(gray)
    for x,y,w,h in eye:
        cv2.rectangle(img,(x,y),(x+w,y+h),(0,0,255),2)
    for x,y,w,h in faces:
        cv2.rectangle(img,(x,y),(x+w,y+h),(0,0,255),2)
    img1=cv2.putText(img,'Pawan Yadav',(350,45),cv2.FONT_HERSHEY_PLAIN,2,(0,0,255),2)
    cv2.imshow('img',img1)
    key=cv2.waitKey(50)
    if key==ord('c'):
        break
cv2.destroyAllWindows()
vdo.release()



