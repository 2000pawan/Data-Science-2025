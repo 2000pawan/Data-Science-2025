


import cv2
import os
from sklearn.linear_model import LogisticRegression
import numpy as np


vdo=cv2.VideoCapture(0)
faces_model=cv2.CascadeClassifier('haarcascade_frontalface_default.xml')
eyes_model=cv2.CascadeClassifier('haarcascade_eye.xml')
i=0
while True:
    isimg,img=vdo.read()
    if isimg==False:
        break
    gray=cv2.cvtColor(img,cv2.COLOR_BGR2GRAY)
    faces=faces_model.detectMultiScale(gray,1.2,6)
    eyes=eyes_model.detectMultiScale(gray,1.5,7)
    for x,y,w,h in faces:
        face=gray[y:y+h,x:x+w]
        cv2.rectangle(img,(x,y),(x+w,y+h),(0,0,255),2)
    # cv2.imwrite(f'Man Surat Yadav/man{i}.png',face)
    for x,y,w,h in eyes:
        eye=gray[y:y+h,x:x+w]
        cv2.rectangle(img,(x,y),(x+w,y+h),(0,0,255),2)
    i+=1
    cv2.imshow('img',img)
    if i==500:
        break
    key=cv2.waitKey(50)
    if key==ord('c'):
        break
cv2.destroyAllWindows()
vdo.release()


X=[]
y=[]
names=os.listdir('Pawan/')
for i in names:
    img=cv2.imread(f'Pawan/{i}')
    img1=cv2.resize(img,(90,90))
    gray=cv2.cvtColor(img1,cv2.COLOR_BGR2GRAY)
    gray=gray.flatten()
    gray=gray/255
    X.append(gray)
    y.append('Pawan')

names=os.listdir('Pankaj/')
for i in names:
    img=cv2.imread(f'Pankaj/{i}')
    img1=cv2.resize(img,(90,90))
    gray=cv2.cvtColor(img1,cv2.COLOR_BGR2GRAY)
    gray=gray.flatten()
    gray=gray/255
    X.append(gray)
    y.append('Pankaj')

names=os.listdir('Meera/')
for i in names:
    img=cv2.imread(f'Meera/{i}')
    img1=cv2.resize(img,(90,90))
    gray=cv2.cvtColor(img1,cv2.COLOR_BGR2GRAY)
    gray=gray.flatten()
    gray=gray/255
    X.append(gray)
    y.append('Meera')

names=os.listdir('Man Surat Yadav/')
for i in names:
    img=cv2.imread(f'Man Surat Yadav/{i}')
    img1=cv2.resize(img,(90,90))
    gray=cv2.cvtColor(img1,cv2.COLOR_BGR2GRAY)
    gray=gray.flatten()
    gray=gray/255
    X.append(gray)
    y.append('Man Surat')


model=LogisticRegression(max_iter=200)
model.fit(X,y)


vdo=cv2.VideoCapture(0)
faces=cv2.CascadeClassifier('haarcascade_frontalface_default.xml')
while True:
    isimg,img=vdo.read()
    face=faces.detectMultiScale(img,1.2,6)
    if isimg==False:
        break
    for x,y,w,h in face:
        cv2.rectangle(img,(x,y),(x+w,y+h),(0,0,255),2)
    img1=cv2.resize(img,(90,90))
    gray=cv2.cvtColor(img1,cv2.COLOR_BGR2GRAY)
    flatten=gray.flatten()
    flatten=flatten/255
    pred=model.predict([flatten])
    cv2.putText(img,f'Name:- {pred[0]}',(x,y),cv2.FONT_HERSHEY_SIMPLEX,0.8,(0,0,255),2)
    cv2.imshow('img',img)
    key=cv2.waitKey(100)
    if key==ord('c'):
        break
cv2.destroyAllWindows()
vdo.release()



