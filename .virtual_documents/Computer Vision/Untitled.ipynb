import os
import re

# ✅ Update this to your actual folder path
folder_path = r'Songs/'

# ✅ Define special characters to remove
special_chars_pattern = r'[%_\-@!#\$^&*]'

# ✅ Set of audio file extensions to process
audio_extensions = {'.mp3', '.mpa', '.wav', '.flac', '.aac', '.ogg', '.wma'}

# ✅ Counter
renamed_count = 0

# ✅ Loop through all files in the folder
for filename in os.listdir(folder_path):
    file_ext = os.path.splitext(filename)[1].lower()

    if file_ext in audio_extensions:
        name, ext = os.path.splitext(filename)
        clean_name = re.sub(special_chars_pattern, '', name).strip()
        new_filename = clean_name + ext

        if new_filename != filename:
            old_path = os.path.join(folder_path, filename)
            new_path = os.path.join(folder_path, new_filename)

            # Avoid overwriting existing files
            if not os.path.exists(new_path):
                os.rename(old_path, new_path)
                print(f'Renamed: "{filename}" → "{new_filename}"')
                renamed_count += 1
            else:
                print(f'Skip (conflict): "{new_filename}" already exists.')

print(f"\n✅ Completed: {renamed_count} file(s) renamed.")




