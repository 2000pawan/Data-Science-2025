





import cv2 


img1=cv2.imread('img.jpg',1)
img=cv2.resize(img1,(600,600))
cv2.imshow('Img',img)
cv2.waitKey()
cv2.destroyAllWindows()


img1=cv2.imread('img.jpg',cv2.IMREAD_COLOR)
img=cv2.resize(img1,(600,600))
cv2.imshow('Img',img)
cv2.waitKey()
cv2.destroyAllWindows()


print(type(img))
print(img.ndim)


img1=cv2.imread('img.jpg',cv2.IMREAD_GRAYSCALE)
img=cv2.resize(img1,(600,600))
cv2.imshow('Img',img)
cv2.waitKey()
cv2.destroyAllWindows()


print(type(img))
print(img.ndim)
print(cv2.IMREAD_COLOR)
print(cv2.IMREAD_GRAYSCALE)


import matplotlib.pyplot as plt


plt.imshow(img,cmap='winter')
plt.show()


plt.imshow(img,cmap='gray')
plt.show()


plt.imshow(img,cmap='color')
plt.show()



