





import cv2 


img1=cv2.imread('img.jpg',1)  # Use to read new image use 1 or (IMREAD_COLOR) for color read and 0 or (IMREAD_GRAYSCALE) for grayscale read. 
img=cv2.resize(img1,(600,600)) # it's used to resize image take two parameter first is image and second size.
cv2.imshow('Img',img) # it's used to show image in separate window it also take two parameter first window name where image open and second image.
cv2.waitKey() # it's used to waittime for an image shown on window & hold window until user press any key.
cv2.destroyAllWindows() # it's used to destroy all windows after wait time is over to free windows from memory.


img1=cv2.imread('img.jpg',cv2.IMREAD_COLOR)
img=cv2.resize(img1,(600,600))
cv2.imshow('Img',img)
cv2.waitKey()
cv2.destroyAllWindows()


print(type(img)) # it's tell us to the type of image.
print(img.ndim) # it's tell us to dimension of image.
print(img.shape) # it's return height of image, width of image, and color channel


img1=cv2.imread('img.jpg',cv2.IMREAD_GRAYSCALE)
img=cv2.resize(img1,(600,600))
cv2.imshow('Img',img)
cv2.waitKey()
cv2.destroyAllWindows()


print(type(img))
print(img.ndim)
print(cv2.IMREAD_COLOR)
print(cv2.IMREAD_GRAYSCALE)


import matplotlib.pyplot as plt


plt.imshow(img,cmap='winter')
plt.show()


plt.imshow(img,cmap='gray')
plt.show()


plt.imshow(img,cmap='brg')
plt.show()


img=cv2.imread('img.jpg')
cv2.namedWindow('img',cv2.WINDOW_NORMAL)  #to make resizable window what name you give in first parameter give same name in imshow function.
cv2.imshow('img',img)
cv2.waitKey(0)
cv2.destroyAllWindows()


img=cv2.imread('img.jpg')
cv2.imshow('img',img)
cv2.waitKey(5000) # when we give time it auto release after 5 sec. 
cv2.destroyAllWindows()


print(img)



