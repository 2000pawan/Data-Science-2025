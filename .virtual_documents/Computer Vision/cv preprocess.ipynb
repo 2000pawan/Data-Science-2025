





import cv2 as cv
import numpy as np
import matplotlib.pyplot as plt





img=cv.imread('img.jpg')
img=cv.resize(img,(600,600))
cv.imshow('clr',img)
cv.waitKey(10000)
cv.destroyAllWindows()


img1=cv.imread('img.jpg')
img1=cv.resize(img1,(400,400))





cv.imshow('img1',img1)
img2=cv.flip(img1,-1)
cv.imshow('img2',img2)
img3=cv.flip(img1,0)
cv.imshow('img3',img3)
img4=cv.flip(img1,1)
cv.imshow('img4',img4)
cv.waitKey(5000)
cv.destroyAllWindows()





img1=cv.imread('img.jpg')
b,g,r=cv.split(img1)
print('Blue channel array\n',b)
print('=========================================================')
print('Green channel array\n',g)
print('=========================================================')
print('Red channel array\n',r)


img=cv.imread('img.jpg')
img=cv.resize(img,(400,400))





cv.imshow('img',img)
img1=cv.convertScaleAbs(img,alpha=2) #contrast
cv.imshow('img1',img1)
cv.waitKey(5000)
cv.destroyAllWindows()


img=cv.imread('img.jpg')
img=cv.resize(img,(400,400))


cv.imshow('img',img)
img1=cv.convertScaleAbs(img,beta=-15) #Brightness
cv.imwrite('pawanimg.jpg',img1)
cv.imshow('img1',img1)
cv.waitKey(5000)
cv.destroyAllWindows()


img=cv.imread('img.jpg')
img=cv.resize(img,(600,600))





line=cv.line(img,(150,30),(350,30),(0,0,255),2)
cv.imshow('line',line)
cv.waitKey(5000)
cv.destroyAllWindows()


img=cv.imread('img.jpg')
img=cv.resize(img,(600,600))


rectangle=cv.rectangle(img,(170,35),(330,200),(0,0,255),2)
cv.circle(rectangle,(330,450),(95),(0,0,255),2)
cv.putText(rectangle,'Pawan Yadav',(350,45),cv.FONT_HERSHEY_PLAIN,2,(0,0,255),2)
cv.imshow('rectangle',rectangle)
cv.waitKey(5000)
cv.destroyAllWindows()



