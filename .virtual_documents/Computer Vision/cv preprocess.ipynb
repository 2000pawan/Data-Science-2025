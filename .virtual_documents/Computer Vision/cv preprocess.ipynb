





import cv2 as cv
import numpy as np
import matplotlib.pyplot as plt


img=cv.imread('img.jpg')
cv.imshow('clr',img)
cv.waitKey(10000)
cv.destroyAllWindows()



