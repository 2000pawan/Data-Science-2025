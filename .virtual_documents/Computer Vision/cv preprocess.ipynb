





import cv2 as cv
import numpy as np
import matplotlib.pyplot as plt





img=cv.imread('img.jpg')
img=cv.resize(img,(600,600))
cv.imshow('clr',img)
cv.waitKey(1000)
cv.destroyAllWindows()


img1=cv.imread('img.jpg')
img1=cv.resize(img1,(400,400))





cv.imshow('img1',img1)
cv.imwrite('G:/img/pawan.jpg',img1)
img2=cv.flip(img1,-1)
cv.imshow('img2',img2)
cv.imwrite('G:/img/pawan1.jpg',img2)
img3=cv.flip(img1,0)
cv.imshow('img3',img3)
cv.imwrite('G:/img/pawan2.jpg',img3)
img4=cv.flip(img1,1)
cv.imshow('img4',img4)
cv.imwrite('G:/img/pawan3.jpg',img4)
cv.waitKey(5000)
cv.destroyAllWindows()





img1=cv.imread('img.jpg')
b,g,r=cv.split(img1)
print('Blue channel array\n',b)
print('=========================================================')
print('Green channel array\n',g)
print('=========================================================')
print('Red channel array\n',r)


img=cv.imread('img.jpg')
img=cv.resize(img,(400,400))





cv.imshow('img',img)
cv.imwrite('G:/img/pawan4.jpg',img)
img1=cv.convertScaleAbs(img,alpha=2) #contrast
cv.imshow('img1',img1)
cv.imwrite('G:/img/pawan5.jpg',img1)
cv.waitKey(5000)
cv.destroyAllWindows()


img=cv.imread('img.jpg')
img=cv.resize(img,(400,400))


cv.imshow('img',img)
img1=cv.convertScaleAbs(img,beta=-15) #Brightness
cv.imwrite('G:/img/pawanimg.jpg',img1)
cv.imshow('img1',img1)
cv.waitKey(5000)
cv.destroyAllWindows()


img=cv.imread('img.jpg')
img=cv.resize(img,(600,600))





line=cv.line(img,(150,30),(350,30),(0,0,255),2)
cv.imshow('line',line)
cv.imwrite('G:/img/pawanline.jpg',line)
cv.waitKey(5000)
cv.destroyAllWindows()


img=cv.imread('img.jpg')
img=cv.resize(img,(600,600))


rectangle=cv.rectangle(img,(170,35),(330,200),(0,0,255),2)
img1=cv.circle(rectangle,(330,450),(95),(0,0,255),2)
img1=cv.putText(img1,'Pawan Yadav',(350,45),cv.FONT_HERSHEY_PLAIN,2,(0,0,255),2)
cv.imshow('rectangle',img1)
cv.imwrite('G:/img/pawanimg1.jpg',img1)
cv.waitKey(5000)
cv.destroyAllWindows()





import cv2 as cv
vdo=cv.VideoCapture("G:/vid.mp4")
while True:
    isImg,img=vdo.read()
    if isImg==False:
        break
    cv.imshow('img',img)
    cv.waitKey(100)
cv.destroyAllWindows()
vdo.release()


import cv2 as cv
vdo=cv.VideoCapture("G:/vid.mp4")
while True:
    isImg,img=vdo.read()
    if isImg==False:
        break
    cv.imshow('img',img)
    key=cv.waitKey(50)
    if key==ord('c'):
        break
cv.destroyAllWindows()
vdo.release()


import cv2
vdo=cv2.VideoCapture(0)
i=1
while True:
    isimg,img=vdo.read()
    if isimg==False:
        break
    cv2.imshow('img',img)
    img=cv2.resize(img,(600,600))
    img=cv2.convertScaleAbs(img,beta=-15)
    img1=cv2.rectangle(img,(170,35),(330,200),(0,0,255),2)
    img1=cv2.putText(img1,'Pawan Yadav',(350,45),cv2.FONT_HERSHEY_PLAIN,2,(0,0,255),2)
    cv2.imwrite(f'G:/img/new/img{i}.jpg',img1)
    i+=1
    key=cv2.waitKey(100)
    if key==ord('c'):
        break
cv2.destroyAllWindows()
vdo.release()



