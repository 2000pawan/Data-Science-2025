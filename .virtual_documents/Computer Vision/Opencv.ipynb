import cv2


img1=cv2.imread('E:/Insta gram/img.jpg',1)


import matplotlib.pyplot as plt


plt.imshow(img1)


img=cv2.imread('E:/Insta gram/img.jpg',0)


plt.imshow(img)


cv2.namedWindow('clr',cv2.WINDOW_NORMAL)
cv2.imshow('clr',img1)
cv2.imshow('clr1',img)
cv2.waitKey()
cv2.destroyAllWindows()



