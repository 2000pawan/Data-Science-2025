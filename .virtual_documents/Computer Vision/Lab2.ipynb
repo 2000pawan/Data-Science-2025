import cv2
import numpy as np
img=cv2.imread("00019.jpg")
print(img.shape)
cv2.imshow('Win',img)
cv2.waitKey()
cv2.destroyAllWindows()


import cv2
import numpy as np
img=cv2.imread("00019.jpg")
img1 = cv2.cvtColor(img, cv2.COLOR_BGR2GRAY)
cv2.imwrite('12141.jpg',img1)
cv2.imshow('Win',img1)
cv2.waitKey()
cv2.destroyAllWindows()


img=cv2.imread("12141.jpg",1)
# img1 = cv2.cvtColor(img, cv2.COLOR_GRAY2RGB)
# cv2.imwrite('12141.jpg',img1)
cv2.imshow('Win',img)
cv2.waitKey()
cv2.destroyAllWindows()



# Read a color image (3 channels)
img = cv2.imread("00019.jpg")

# Convert to grayscale (1 channel)
gray = cv2.cvtColor(img, cv2.COLOR_BGR2GRAY)

# Convert grayscale back to "color" (3 channels, but still grayscale)
gray_to_color = cv2.cvtColor(gray, cv2.COLOR_GRAY2BGR)

# Check shapes
print("Original shape:", img.shape)          # (H, W, 3)
print("Grayscale shape:", gray.shape)        # (H, W)
print("Gray-to-color shape:", gray_to_color.shape)  # (H, W, 3)

# All channels in `gray_to_color` are the same (no color)
cv2.imshow("Gray-to-Color (Looks Grayscale)", gray_to_color)
cv2.waitKey(0)
cv2.destroyAllWindows()


img=cv2.imread("male_5.jpg",1)
# img1 = cv2.cvtColor(img, cv2.COLOR_GRAY2RGB)
cv2.imshow('Win',img)
cv2.waitKey()
cv2.destroyAllWindows()



