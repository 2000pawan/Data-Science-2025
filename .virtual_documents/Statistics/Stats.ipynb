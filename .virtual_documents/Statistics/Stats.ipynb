import statistics
x=1,2,3,4,5,36
x



