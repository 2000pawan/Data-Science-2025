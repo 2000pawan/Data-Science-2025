li=[]
for i in range(1500,2701):
    if i%7==0 and i%5==0:
        li.append(str(i))
print(','.join(li))


temp=int(input('Enter temp'))
degree=input('degree in c or f').upper()
if degree not in ['F','C']:
    print('you enter wrong temp format')
elif degree=='C':
    tem=int((temp/5)*9+32)
    print(f'{temp}°{degree} is {tem}degrees in Fahrenheit')
else:
    tem=int((temp-32)*(5/9))
    print(f'{temp}°{degree} is {tem} degrees in Celsius')
         


import random
number=random.randint(1,9)
for i in range(5):
    guess=int(input('Enter your guess:- '))
    if guess==number:
        print('Your Guess is correct!')
        break
    else:
        print('Your Guess is incorrect! please try again')
else:
    print('Your Limnit is over!')



