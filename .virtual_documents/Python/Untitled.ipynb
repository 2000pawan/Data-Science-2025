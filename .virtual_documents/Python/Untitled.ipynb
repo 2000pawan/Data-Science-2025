import random
import pandas as pd
from sklearn.model_selection import train_test_split
def train_test(X,y,test_size,random_state=None):
    X_train,X_test=[],[]
    y_train,y_test=[],[]
    df=list(zip(X,y))
    if random_state is not None:
        random.seed(random_state)
    # random.shuffle(df)
    test_size=int(test_size*len(df))
    for i,j in df:
        if len(X_test)<=test_size:
            X_test.append(i)
            y_test.append(j)
        else:
            X_train.append(i)
            y_train.append(j)
    return (X_train,X_test,y_train,y_test)

df=pd.read_csv('G:/dataset/classification/fruits.csv')
X=df.iloc[:,:-1].values
y=df.iloc[:,-1].values
random_state=10
test_size=0.20
X_train,X_test,y_train,y_test= train_test(X, y, test_size, random_state)
print(len(X_train))
print(len(y_train))
print(len(X_test))
print(len(y_test))


X_train, X_test, y_train, y_test = train_test_split(X, y, test_size=0.2, random_state=10)
print(len(X_train))
print(len(y_train))
print(len(X_test))
print(len(y_test))


n=int(input())
x=n//2
z=n%2
for i in range(1,n+1,2):
    print(" "*x,'*'*i," "*x,sep=' ')
    x-=1
for i in range(n-2,0,-2):
    print(" "*z,'*'*i," "*z,sep=' ')
    z+=1



