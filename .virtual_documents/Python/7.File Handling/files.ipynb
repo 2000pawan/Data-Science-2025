file=open('l.txt','w+')
file.writelines('')
file.close()



