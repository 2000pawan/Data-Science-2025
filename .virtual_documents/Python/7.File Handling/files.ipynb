file=open("G:/Coding/Git Uploads/Data Science 2025/abc.txt",'r')
f=file.read(4)
# for i in f:
#     print(i)
print(f)
file.close()



