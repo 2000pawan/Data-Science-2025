file=open('l.txt','w+')
file.writelines('i love palaK')



