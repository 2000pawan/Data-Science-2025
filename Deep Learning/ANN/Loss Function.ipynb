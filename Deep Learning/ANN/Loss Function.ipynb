{
 "cells": [
  {
   "cell_type": "markdown",
   "id": "37efe1f9-5825-4434-bc3b-847d840f0db7",
   "metadata": {},
   "source": [
    "# Loss Function\n",
    "- Its applay in classification and regression.\n",
    "- Loss & Accuracy Both find in Deep Learning classification and regression in both.\n",
    "- but in ML i only calculate accuracy for classification."
   ]
  },
  {
   "cell_type": "code",
   "execution_count": 1,
   "id": "2c25afdc-02dd-4e15-b8f4-282c494a736b",
   "metadata": {},
   "outputs": [],
   "source": [
    "import tensorflow as tf"
   ]
  },
  {
   "cell_type": "markdown",
   "id": "a0ead381-5fe3-41bd-a418-b9f7f58e1de3",
   "metadata": {},
   "source": [
    "## Computes the Loss of Binary Classification"
   ]
  },
  {
   "cell_type": "code",
   "execution_count": 2,
   "id": "37e3a728-1c2f-449c-b22f-7046136496a8",
   "metadata": {},
   "outputs": [
    {
     "name": "stdout",
     "output_type": "stream",
     "text": [
      "tf.Tensor([0.10536054 0.5108256  0.5108256  0.35667497 0.43078294], shape=(5,), dtype=float32)\n",
      "tf.Tensor(0.38289392, shape=(), dtype=float32)\n"
     ]
    }
   ],
   "source": [
    "y_true=[0,0,1,1,0]\n",
    "y_onehot=[[1,0],[1,0],[0,1],[0,1],[1,0]]\n",
    "y_prob=[[.9,.1],[.6,.4],[.4,.6],[.3,.7],[.65,.35]]\n",
    "print(tf.losses.binary_crossentropy(y_onehot,y_prob))\n",
    "print(tf.reduce_mean(tf.losses.binary_crossentropy(y_onehot,y_prob)))"
   ]
  },
  {
   "cell_type": "code",
   "execution_count": 3,
   "id": "c7cbddc0-9101-4a47-b161-3c427f03cbd1",
   "metadata": {},
   "outputs": [
    {
     "name": "stdout",
     "output_type": "stream",
     "text": [
      "tf.Tensor([0.43078297 0.22314355 0.16251889 0.2613648  0.09431069], shape=(5,), dtype=float32)\n",
      "tf.Tensor(0.23442416, shape=(), dtype=float32)\n"
     ]
    }
   ],
   "source": [
    "y_true=[0,0,1,1,0]\n",
    "y_onehot=[[1,0],[1,0],[0,1],[0,1],[1,0]]\n",
    "y_prob=[[.65,.35],[.8,.2],[.15,.85],[.23,.77],[.91,.09]]\n",
    "print(tf.losses.binary_crossentropy(y_onehot,y_prob))\n",
    "print(tf.reduce_mean(tf.losses.binary_crossentropy(y_onehot,y_prob)))"
   ]
  },
  {
   "cell_type": "markdown",
   "id": "587438f2-4d86-4023-848f-14472ac119d5",
   "metadata": {},
   "source": [
    "## Computes the loss of multi classification"
   ]
  },
  {
   "cell_type": "code",
   "execution_count": 4,
   "id": "90b60ac8-7fa3-48aa-a893-81057e126767",
   "metadata": {},
   "outputs": [
    {
     "name": "stdout",
     "output_type": "stream",
     "text": [
      "tf.Tensor([0.5108256  0.35667497 0.2876821 ], shape=(3,), dtype=float32)\n",
      "tf.Tensor(0.38506088, shape=(), dtype=float32)\n"
     ]
    }
   ],
   "source": [
    "y_true=[1,2,0]\n",
    "y_onehot=[[0,1,0],[0,0,1],[1,0,0]]\n",
    "y_prob=[[.3,.6,.1],[.1,.2,.7],[.75,.05,.2]]\n",
    "print(tf.losses.categorical_crossentropy(y_onehot,y_prob))\n",
    "print(tf.reduce_mean(tf.losses.categorical_crossentropy(y_onehot,y_prob)))"
   ]
  },
  {
   "cell_type": "code",
   "execution_count": 5,
   "id": "72cfb4ee-a1f8-4fb4-b574-66ac5304d8b4",
   "metadata": {},
   "outputs": [
    {
     "name": "stdout",
     "output_type": "stream",
     "text": [
      "tf.Tensor(0.38506088, shape=(), dtype=float32)\n"
     ]
    }
   ],
   "source": [
    "print(tf.reduce_mean(tf.losses.sparse_categorical_crossentropy(y_true,y_prob)))"
   ]
  },
  {
   "cell_type": "markdown",
   "id": "04165e6b-d5b7-4e21-8850-7c6ff60eac65",
   "metadata": {},
   "source": [
    "### Loss/Cost Binary class. \n",
    "> loss/cost= -1/N (yi*log(p(yi))+(1-yi)*log(1-p(yi))\n",
    "> \n",
    "> i=1 to iN(total sample)\n",
    "> \n",
    "> here,\n",
    "> \n",
    "> yi=true class of ith sample\n",
    "> \n",
    "> p(yi)=prob of ith sample obtained from linear model\n",
    "> \n",
    "> log=natural log(base e)"
   ]
  },
  {
   "cell_type": "code",
   "execution_count": 12,
   "id": "05aec6e9-1445-4cc5-91b5-fd56be4a93ba",
   "metadata": {},
   "outputs": [
    {
     "data": {
      "text/plain": [
       "0.3828939246441989"
      ]
     },
     "execution_count": 12,
     "metadata": {},
     "output_type": "execute_result"
    }
   ],
   "source": [
    "import numpy as np\n",
    "y_true=[0,0,1,1,0]\n",
    "y_onehot=[[1,0],[1,0],[0,1],[0,1],[1,0]]\n",
    "y_prob=[[.9,.1],[.6,.4],[.4,.6],[.3,.7],[.65,.35]]\n",
    "loss=(-1/5)*(0*np.log(.1)+(1-0)*np.log(1-.1)+\n",
    "     0*np.log(.4)+(1-0)*np.log(1-.4)+\n",
    "     1*np.log(.6)+(1-1)*np.log(1-.6)+\n",
    "     1*np.log(.7)+(1-1)*np.log(1-.7)+\n",
    "     0*np.log(.35)+(1-0)*np.log(1-.35)\n",
    "     )\n",
    "loss"
   ]
  },
  {
   "cell_type": "markdown",
   "id": "b88cf327-fa75-4d91-8f84-0f5b3e11eaf1",
   "metadata": {},
   "source": [
    "### Loss/Cost Multi-Class.\n",
    "> L=-1/N(i=1 to N)(j=1 to M)(yijlog(pij)\n",
    "\n",
    "> here,\n",
    "\n",
    "> N is total no of samples from 1 to N.\n",
    ">\n",
    "> M is total no of classes from 1 to M."
   ]
  },
  {
   "cell_type": "code",
   "execution_count": 17,
   "id": "3549e8d9-6b0d-4698-8470-fb84122b7871",
   "metadata": {},
   "outputs": [
    {
     "data": {
      "text/plain": [
       "0.38506088005216804"
      ]
     },
     "execution_count": 17,
     "metadata": {},
     "output_type": "execute_result"
    }
   ],
   "source": [
    "y_true=[1,2,0]\n",
    "y_onehot=[[0,1,0],[0,0,1],[1,0,0]]\n",
    "y_prob=[[.3,.6,.1],[.1,.2,.7],[.75,.05,.2]]\n",
    "loss=(-1/3)*((0*np.log(.3))+(1*np.log(.6))+(0*np.log(.1))+\n",
    "             (0*np.log(.1))+(0*np.log(.2))+(1*np.log(.7))+\n",
    "              (1*np.log(.75))+(0*np.log(.05))+(0*np.log(.2))\n",
    "             )\n",
    "loss"
   ]
  },
  {
   "cell_type": "code",
   "execution_count": null,
   "id": "c5c1490f-fe17-45ae-be56-498fa1cc1ebf",
   "metadata": {},
   "outputs": [],
   "source": []
  }
 ],
 "metadata": {
  "kernelspec": {
   "display_name": "Python 3 (ipykernel)",
   "language": "python",
   "name": "python3"
  },
  "language_info": {
   "codemirror_mode": {
    "name": "ipython",
    "version": 3
   },
   "file_extension": ".py",
   "mimetype": "text/x-python",
   "name": "python",
   "nbconvert_exporter": "python",
   "pygments_lexer": "ipython3",
   "version": "3.11.7"
  },
  "widgets": {
   "application/vnd.jupyter.widget-state+json": {
    "state": {},
    "version_major": 2,
    "version_minor": 0
   }
  }
 },
 "nbformat": 4,
 "nbformat_minor": 5
}
