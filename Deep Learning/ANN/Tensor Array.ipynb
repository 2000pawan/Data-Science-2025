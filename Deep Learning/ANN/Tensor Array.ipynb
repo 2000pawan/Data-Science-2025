{
 "cells": [
  {
   "cell_type": "markdown",
   "id": "289c69e1-bf23-4dfb-aea7-3223d2abf12e",
   "metadata": {},
   "source": [
    "# TensorFlow 2.x"
   ]
  },
  {
   "cell_type": "markdown",
   "id": "94cb3d92-fefc-4b3b-88cf-36fd930998d3",
   "metadata": {},
   "source": [
    "Tensorflow :- \n",
    "- Constant Tensor Array [Immutable Tensor Array]\n",
    "- Variable Tensor Array [Mutable Tensor Array]\n",
    "- pip install tensorflow"
   ]
  },
  {
   "cell_type": "code",
   "execution_count": 1,
   "id": "099997e3-275f-452c-995f-b2cc46b2ca92",
   "metadata": {},
   "outputs": [],
   "source": [
    "import tensorflow as tf"
   ]
  },
  {
   "cell_type": "code",
   "execution_count": 134,
   "id": "0e72af63-3265-4fa8-aacf-407b9c358f42",
   "metadata": {},
   "outputs": [
    {
     "data": {
      "text/plain": [
       "'2.16.1'"
      ]
     },
     "execution_count": 134,
     "metadata": {},
     "output_type": "execute_result"
    }
   ],
   "source": [
    "tf.__version__"
   ]
  },
  {
   "cell_type": "markdown",
   "id": "ea2a4246-c647-4ccd-970f-34903e71d522",
   "metadata": {},
   "source": [
    "# How to Create Constant Tensor Array."
   ]
  },
  {
   "cell_type": "markdown",
   "id": "e41698a5-d65d-4688-8376-b47b15fe4e44",
   "metadata": {},
   "source": [
    "- tf.constant(value,dtype,shape,name)\n",
    "- zero dimension tensor array/zero rank tensor array"
   ]
  },
  {
   "cell_type": "code",
   "execution_count": 135,
   "id": "2e5faedf-8bad-4696-b050-1233d54c17a8",
   "metadata": {},
   "outputs": [
    {
     "data": {
      "text/plain": [
       "<tf.Tensor: shape=(), dtype=int32, numpy=10>"
      ]
     },
     "execution_count": 135,
     "metadata": {},
     "output_type": "execute_result"
    }
   ],
   "source": [
    "a=tf.constant(10)\n",
    "a"
   ]
  },
  {
   "cell_type": "code",
   "execution_count": 136,
   "id": "d9b56801-50d8-43ac-b839-6e6e35f3d5b4",
   "metadata": {},
   "outputs": [
    {
     "data": {
      "text/plain": [
       "<tf.Tensor: shape=(), dtype=int32, numpy=20>"
      ]
     },
     "execution_count": 136,
     "metadata": {},
     "output_type": "execute_result"
    }
   ],
   "source": [
    "b=tf.constant(20)\n",
    "b"
   ]
  },
  {
   "cell_type": "code",
   "execution_count": 137,
   "id": "b7d562d2-4aa8-4173-b998-fc22c0811f83",
   "metadata": {},
   "outputs": [
    {
     "data": {
      "text/plain": [
       "<tf.Tensor: shape=(), dtype=int32, numpy=30>"
      ]
     },
     "execution_count": 137,
     "metadata": {},
     "output_type": "execute_result"
    }
   ],
   "source": [
    "c=a+b\n",
    "c"
   ]
  },
  {
   "cell_type": "code",
   "execution_count": 138,
   "id": "d134b7af-44f5-49c4-ae57-4bf1d697a9cd",
   "metadata": {},
   "outputs": [
    {
     "data": {
      "text/plain": [
       "tensorflow.python.framework.ops.EagerTensor"
      ]
     },
     "execution_count": 138,
     "metadata": {},
     "output_type": "execute_result"
    }
   ],
   "source": [
    "type(c)"
   ]
  },
  {
   "cell_type": "code",
   "execution_count": 139,
   "id": "dd3a3cfb-a8a7-4ced-a0eb-632b526fcb32",
   "metadata": {},
   "outputs": [
    {
     "data": {
      "text/plain": [
       "<tf.Tensor: shape=(), dtype=float32, numpy=20.5>"
      ]
     },
     "execution_count": 139,
     "metadata": {},
     "output_type": "execute_result"
    }
   ],
   "source": [
    "a=tf.constant(20.5)\n",
    "a"
   ]
  },
  {
   "cell_type": "code",
   "execution_count": 140,
   "id": "8079edfb-b151-484a-8c59-973e3c559f3d",
   "metadata": {},
   "outputs": [
    {
     "data": {
      "text/plain": [
       "<tf.Tensor: shape=(), dtype=float32, numpy=40.5>"
      ]
     },
     "execution_count": 140,
     "metadata": {},
     "output_type": "execute_result"
    }
   ],
   "source": [
    "b=tf.constant(40.5)\n",
    "b"
   ]
  },
  {
   "cell_type": "code",
   "execution_count": 141,
   "id": "7f9139f7-a3b9-4d89-92e7-1ddeaa85f40e",
   "metadata": {},
   "outputs": [
    {
     "data": {
      "text/plain": [
       "<tf.Tensor: shape=(), dtype=float32, numpy=61.0>"
      ]
     },
     "execution_count": 141,
     "metadata": {},
     "output_type": "execute_result"
    }
   ],
   "source": [
    "c=a+b\n",
    "c"
   ]
  },
  {
   "cell_type": "code",
   "execution_count": 142,
   "id": "25fbf513-dfa7-4d67-ac3e-7a4635f11a29",
   "metadata": {},
   "outputs": [
    {
     "data": {
      "text/plain": [
       "<tf.Tensor: shape=(), dtype=string, numpy=b'Welcome to tensorflow'>"
      ]
     },
     "execution_count": 142,
     "metadata": {},
     "output_type": "execute_result"
    }
   ],
   "source": [
    "a=tf.constant('Welcome to tensorflow')\n",
    "a"
   ]
  },
  {
   "cell_type": "code",
   "execution_count": 143,
   "id": "1442c7a6-d962-4368-8c78-cddf74620a4d",
   "metadata": {},
   "outputs": [
    {
     "data": {
      "text/plain": [
       "tf.string"
      ]
     },
     "execution_count": 143,
     "metadata": {},
     "output_type": "execute_result"
    }
   ],
   "source": [
    "a.dtype"
   ]
  },
  {
   "cell_type": "code",
   "execution_count": 144,
   "id": "ec67867e-aa17-48d5-a1d7-3027b3db58ce",
   "metadata": {},
   "outputs": [
    {
     "data": {
      "text/plain": [
       "<tf.Tensor: shape=(), dtype=complex128, numpy=(3+4j)>"
      ]
     },
     "execution_count": 144,
     "metadata": {},
     "output_type": "execute_result"
    }
   ],
   "source": [
    "a=tf.constant(3+4j)\n",
    "a"
   ]
  },
  {
   "cell_type": "code",
   "execution_count": 145,
   "id": "cc232616-65f1-4140-95be-0370d7573220",
   "metadata": {},
   "outputs": [
    {
     "data": {
      "text/plain": [
       "<tf.Tensor: shape=(), dtype=bool, numpy=True>"
      ]
     },
     "execution_count": 145,
     "metadata": {},
     "output_type": "execute_result"
    }
   ],
   "source": [
    "a=tf.constant(True)\n",
    "a"
   ]
  },
  {
   "cell_type": "markdown",
   "id": "0eb170d5-d848-468f-aac3-952853a667ff",
   "metadata": {},
   "source": [
    "# How to create Constant Tensor Array Using List,Nested List, Numpy Array."
   ]
  },
  {
   "cell_type": "markdown",
   "id": "e3568c0f-b0ca-43de-9d8b-80e6000d5dc8",
   "metadata": {},
   "source": [
    "- 1-dimension tensor array"
   ]
  },
  {
   "cell_type": "code",
   "execution_count": 146,
   "id": "78137fdf-da53-4370-8ecc-362eb037aa33",
   "metadata": {},
   "outputs": [
    {
     "data": {
      "text/plain": [
       "<tf.Tensor: shape=(6,), dtype=int32, numpy=array([2, 3, 4, 5, 6, 7])>"
      ]
     },
     "execution_count": 146,
     "metadata": {},
     "output_type": "execute_result"
    }
   ],
   "source": [
    "a=tf.constant([2,3,4,5,6,7])\n",
    "a"
   ]
  },
  {
   "cell_type": "code",
   "execution_count": 147,
   "id": "ed5bd79f-e2fb-4705-83a9-8483c52e824a",
   "metadata": {},
   "outputs": [
    {
     "data": {
      "text/plain": [
       "tf.int32"
      ]
     },
     "execution_count": 147,
     "metadata": {},
     "output_type": "execute_result"
    }
   ],
   "source": [
    "a.dtype"
   ]
  },
  {
   "cell_type": "code",
   "execution_count": 148,
   "id": "36d73100-6a70-4443-9147-c4a3ee414494",
   "metadata": {},
   "outputs": [
    {
     "data": {
      "text/plain": [
       "TensorShape([6])"
      ]
     },
     "execution_count": 148,
     "metadata": {},
     "output_type": "execute_result"
    }
   ],
   "source": [
    "a.shape"
   ]
  },
  {
   "cell_type": "code",
   "execution_count": 149,
   "id": "270d8610-2813-4ac3-aacb-46e912d8a64b",
   "metadata": {},
   "outputs": [
    {
     "data": {
      "text/plain": [
       "tensorflow.python.framework.ops.EagerTensor"
      ]
     },
     "execution_count": 149,
     "metadata": {},
     "output_type": "execute_result"
    }
   ],
   "source": [
    "type(a)"
   ]
  },
  {
   "cell_type": "code",
   "execution_count": 150,
   "id": "a10330e4-9ef9-460a-8531-e8de0f5b9339",
   "metadata": {},
   "outputs": [
    {
     "data": {
      "text/plain": [
       "array([2, 3, 4, 5, 6, 7])"
      ]
     },
     "execution_count": 150,
     "metadata": {},
     "output_type": "execute_result"
    }
   ],
   "source": [
    "b=a.numpy()\n",
    "b"
   ]
  },
  {
   "cell_type": "code",
   "execution_count": 151,
   "id": "10548626-831d-44ad-bf37-802e7f54f14b",
   "metadata": {},
   "outputs": [
    {
     "data": {
      "text/plain": [
       "numpy.ndarray"
      ]
     },
     "execution_count": 151,
     "metadata": {},
     "output_type": "execute_result"
    }
   ],
   "source": [
    "type(b)"
   ]
  },
  {
   "cell_type": "code",
   "execution_count": 152,
   "id": "bc9b3f0e-a389-46ae-859d-2cb22a15e48f",
   "metadata": {},
   "outputs": [
    {
     "data": {
      "text/plain": [
       "array([5, 6, 7])"
      ]
     },
     "execution_count": 152,
     "metadata": {},
     "output_type": "execute_result"
    }
   ],
   "source": [
    "b=a.numpy()[3:]\n",
    "b"
   ]
  },
  {
   "cell_type": "code",
   "execution_count": 153,
   "id": "f60a30a8-fc4c-424c-bf5e-499065037100",
   "metadata": {},
   "outputs": [
    {
     "name": "stdout",
     "output_type": "stream",
     "text": [
      "tf.Tensor(4, shape=(), dtype=int32)\n"
     ]
    }
   ],
   "source": [
    "print(a[2])"
   ]
  },
  {
   "cell_type": "code",
   "execution_count": 155,
   "id": "b22bb45a-ae92-449f-ac12-fa1f5ac418cf",
   "metadata": {},
   "outputs": [
    {
     "data": {
      "text/plain": [
       "[2, 3, 4, 5, 6, 7]"
      ]
     },
     "execution_count": 155,
     "metadata": {},
     "output_type": "execute_result"
    }
   ],
   "source": [
    "c=a.numpy().tolist()\n",
    "c"
   ]
  },
  {
   "cell_type": "code",
   "execution_count": 156,
   "id": "e4b94888-9a05-45c7-91e9-c5db816e4e09",
   "metadata": {},
   "outputs": [
    {
     "data": {
      "text/plain": [
       "list"
      ]
     },
     "execution_count": 156,
     "metadata": {},
     "output_type": "execute_result"
    }
   ],
   "source": [
    "type(c)"
   ]
  },
  {
   "cell_type": "code",
   "execution_count": 157,
   "id": "3c73cced-64ea-4369-a1bf-d508c85ae8af",
   "metadata": {},
   "outputs": [
    {
     "data": {
      "text/plain": [
       "<tf.Tensor: shape=(4,), dtype=float32, numpy=array([2., 3., 4., 5.], dtype=float32)>"
      ]
     },
     "execution_count": 157,
     "metadata": {},
     "output_type": "execute_result"
    }
   ],
   "source": [
    "a=tf.constant([2,3,4,5],dtype=tf.float32)\n",
    "a"
   ]
  },
  {
   "cell_type": "code",
   "execution_count": 158,
   "id": "f629e438-0f57-4f9c-9431-8862b43bf079",
   "metadata": {},
   "outputs": [
    {
     "data": {
      "text/plain": [
       "<tf.Tensor: shape=(2, 2), dtype=float32, numpy=\n",
       "array([[2., 3.],\n",
       "       [4., 5.]], dtype=float32)>"
      ]
     },
     "execution_count": 158,
     "metadata": {},
     "output_type": "execute_result"
    }
   ],
   "source": [
    "a=tf.constant([2,3,4,5],dtype='float',shape=(2,2))\n",
    "a"
   ]
  },
  {
   "cell_type": "code",
   "execution_count": 159,
   "id": "b0e56c5b-c597-45c9-a174-a0db95315752",
   "metadata": {},
   "outputs": [
    {
     "data": {
      "text/plain": [
       "TensorShape([2, 2])"
      ]
     },
     "execution_count": 159,
     "metadata": {},
     "output_type": "execute_result"
    }
   ],
   "source": [
    "a.shape"
   ]
  },
  {
   "cell_type": "code",
   "execution_count": 160,
   "id": "4fb1369f-c166-4298-8bdd-2ed4b9587797",
   "metadata": {},
   "outputs": [
    {
     "data": {
      "text/plain": [
       "tf.float32"
      ]
     },
     "execution_count": 160,
     "metadata": {},
     "output_type": "execute_result"
    }
   ],
   "source": [
    "a.dtype"
   ]
  },
  {
   "cell_type": "code",
   "execution_count": 161,
   "id": "b80d2c80-81cf-4e52-858b-7e84a5604bd8",
   "metadata": {},
   "outputs": [
    {
     "data": {
      "text/plain": [
       "tensorflow.python.framework.ops.EagerTensor"
      ]
     },
     "execution_count": 161,
     "metadata": {},
     "output_type": "execute_result"
    }
   ],
   "source": [
    "type(a)"
   ]
  },
  {
   "cell_type": "code",
   "execution_count": 2,
   "id": "04ce5560-893e-44e2-8bb7-475bb933a345",
   "metadata": {},
   "outputs": [
    {
     "data": {
      "text/plain": [
       "<tf.Tensor: shape=(6,), dtype=float32, numpy=array([2., 3., 4., 5., 6., 7.], dtype=float32)>"
      ]
     },
     "execution_count": 2,
     "metadata": {},
     "output_type": "execute_result"
    }
   ],
   "source": [
    "a=tf.constant([2,3,4,5,6,7],dtype=tf.float32)\n",
    "a"
   ]
  },
  {
   "cell_type": "code",
   "execution_count": 3,
   "id": "968960f3-eed3-4b61-9400-a35a18f36ac1",
   "metadata": {},
   "outputs": [
    {
     "data": {
      "text/plain": [
       "<tf.Tensor: shape=(2, 2), dtype=float32, numpy=\n",
       "array([[2., 3.],\n",
       "       [4., 5.]], dtype=float32)>"
      ]
     },
     "execution_count": 3,
     "metadata": {},
     "output_type": "execute_result"
    }
   ],
   "source": [
    "a=tf.constant([2,3,4,5],dtype=tf.float32,shape=(2,2))\n",
    "a"
   ]
  },
  {
   "cell_type": "code",
   "execution_count": 4,
   "id": "1ade1754-0c07-418c-a0f7-ea073878901b",
   "metadata": {},
   "outputs": [
    {
     "data": {
      "text/plain": [
       "<tf.Tensor: shape=(4, 2), dtype=float64, numpy=\n",
       "array([[2., 3.],\n",
       "       [1., 4.],\n",
       "       [3., 5.],\n",
       "       [6., 7.]])>"
      ]
     },
     "execution_count": 4,
     "metadata": {},
     "output_type": "execute_result"
    }
   ],
   "source": [
    "a=tf.constant([[2,3],[1,4],[3,5],[6,7]],dtype=tf.float64)\n",
    "a "
   ]
  },
  {
   "cell_type": "code",
   "execution_count": 5,
   "id": "23b7f04f-fa07-4a3d-8b74-3d772022a8a6",
   "metadata": {},
   "outputs": [
    {
     "data": {
      "text/plain": [
       "tensorflow.python.framework.ops.EagerTensor"
      ]
     },
     "execution_count": 5,
     "metadata": {},
     "output_type": "execute_result"
    }
   ],
   "source": [
    "type(a)"
   ]
  },
  {
   "cell_type": "code",
   "execution_count": 6,
   "id": "158c37a6-9972-4076-ba64-89d3f027eade",
   "metadata": {},
   "outputs": [
    {
     "data": {
      "text/plain": [
       "array([[2., 3.],\n",
       "       [1., 4.],\n",
       "       [3., 5.],\n",
       "       [6., 7.]])"
      ]
     },
     "execution_count": 6,
     "metadata": {},
     "output_type": "execute_result"
    }
   ],
   "source": [
    "a.numpy()"
   ]
  },
  {
   "cell_type": "code",
   "execution_count": 7,
   "id": "2c15835c-765d-4e6d-b243-6d61889ff450",
   "metadata": {},
   "outputs": [
    {
     "data": {
      "text/plain": [
       "[[2.0, 3.0], [1.0, 4.0], [3.0, 5.0], [6.0, 7.0]]"
      ]
     },
     "execution_count": 7,
     "metadata": {},
     "output_type": "execute_result"
    }
   ],
   "source": [
    "a.numpy().tolist()"
   ]
  },
  {
   "cell_type": "code",
   "execution_count": 8,
   "id": "531fbd23-9eaf-4dcd-a9c5-44df6d07d849",
   "metadata": {},
   "outputs": [
    {
     "data": {
      "text/plain": [
       "4.0"
      ]
     },
     "execution_count": 8,
     "metadata": {},
     "output_type": "execute_result"
    }
   ],
   "source": [
    "a.numpy()[1,1]"
   ]
  },
  {
   "cell_type": "code",
   "execution_count": 9,
   "id": "a5d2c411-2219-45be-808c-a43c93896684",
   "metadata": {},
   "outputs": [
    {
     "data": {
      "text/plain": [
       "array([[3.],\n",
       "       [4.],\n",
       "       [5.],\n",
       "       [7.]])"
      ]
     },
     "execution_count": 9,
     "metadata": {},
     "output_type": "execute_result"
    }
   ],
   "source": [
    "a.numpy()[:,1:2]"
   ]
  },
  {
   "cell_type": "code",
   "execution_count": 10,
   "id": "046765e4-113b-4811-9230-e27d11491641",
   "metadata": {},
   "outputs": [
    {
     "data": {
      "text/plain": [
       "<tf.Tensor: shape=(1, 3, 2), dtype=float32, numpy=\n",
       "array([[[2., 3.],\n",
       "        [4., 5.],\n",
       "        [5., 6.]]], dtype=float32)>"
      ]
     },
     "execution_count": 10,
     "metadata": {},
     "output_type": "execute_result"
    }
   ],
   "source": [
    "a=tf.constant([[[2,3],[4,5],[5,6]]],dtype=tf.float32)\n",
    "a"
   ]
  },
  {
   "cell_type": "code",
   "execution_count": 11,
   "id": "d61f46ff-f080-4d1c-be93-e4c4a118020d",
   "metadata": {},
   "outputs": [
    {
     "data": {
      "text/plain": [
       "TensorShape([1, 3, 2])"
      ]
     },
     "execution_count": 11,
     "metadata": {},
     "output_type": "execute_result"
    }
   ],
   "source": [
    "a.shape"
   ]
  },
  {
   "cell_type": "code",
   "execution_count": 12,
   "id": "718243c6-63aa-41ce-838b-b765424d469c",
   "metadata": {},
   "outputs": [
    {
     "data": {
      "text/plain": [
       "<tf.Tensor: shape=(2,), dtype=float32, numpy=array([4., 5.], dtype=float32)>"
      ]
     },
     "execution_count": 12,
     "metadata": {},
     "output_type": "execute_result"
    }
   ],
   "source": [
    "a[0][1]"
   ]
  },
  {
   "cell_type": "code",
   "execution_count": 13,
   "id": "4be5c774-e809-4966-ad0f-a730105c5c04",
   "metadata": {},
   "outputs": [
    {
     "data": {
      "text/plain": [
       "<tf.Tensor: shape=(2,), dtype=float32, numpy=array([4., 5.], dtype=float32)>"
      ]
     },
     "execution_count": 13,
     "metadata": {},
     "output_type": "execute_result"
    }
   ],
   "source": [
    "a[0][-2]"
   ]
  },
  {
   "cell_type": "code",
   "execution_count": 14,
   "id": "11a36f93-73b0-49b1-8f95-af0616c82d2b",
   "metadata": {},
   "outputs": [
    {
     "data": {
      "text/plain": [
       "<tf.Tensor: shape=(3,), dtype=int32, numpy=array([2, 3, 4])>"
      ]
     },
     "execution_count": 14,
     "metadata": {},
     "output_type": "execute_result"
    }
   ],
   "source": [
    "import numpy as np\n",
    "a=tf.constant(np.array([2,3,4]))\n",
    "a"
   ]
  },
  {
   "cell_type": "code",
   "execution_count": 15,
   "id": "cde0f12b-12c1-4125-baa5-fb3ab10c2319",
   "metadata": {},
   "outputs": [
    {
     "data": {
      "text/plain": [
       "<tf.Tensor: shape=(3, 3), dtype=int32, numpy=\n",
       "array([[2, 3, 4],\n",
       "       [5, 6, 7],\n",
       "       [8, 9, 3]])>"
      ]
     },
     "execution_count": 15,
     "metadata": {},
     "output_type": "execute_result"
    }
   ],
   "source": [
    "a=tf.constant(np.array([[2,3,4],[5,6,7],[8,9,3]]))\n",
    "a"
   ]
  },
  {
   "cell_type": "code",
   "execution_count": 17,
   "id": "19f5dd17-fcfe-4a2b-8ee4-c7e2209cfc1f",
   "metadata": {},
   "outputs": [
    {
     "data": {
      "text/plain": [
       "<tf.Tensor: shape=(1, 3, 2), dtype=float32, numpy=\n",
       "array([[[2., 3.],\n",
       "        [4., 5.],\n",
       "        [6., 7.]]], dtype=float32)>"
      ]
     },
     "execution_count": 17,
     "metadata": {},
     "output_type": "execute_result"
    }
   ],
   "source": [
    "a=tf.constant(np.array([[[2,3],[4,5],[6,7]]]),dtype=tf.float32)\n",
    "a"
   ]
  },
  {
   "cell_type": "markdown",
   "id": "f0280786-9238-4c27-8904-f9cc0324d476",
   "metadata": {},
   "source": [
    "# Mathematical Operation in Constant Tensor Array."
   ]
  },
  {
   "cell_type": "code",
   "execution_count": 18,
   "id": "ca708d9e-16cc-4e4d-98b8-f91a44bb96ea",
   "metadata": {},
   "outputs": [
    {
     "name": "stdout",
     "output_type": "stream",
     "text": [
      "tf.Tensor(\n",
      "[[ 6.  8.]\n",
      " [12. 14.]], shape=(2, 2), dtype=float32)\n"
     ]
    }
   ],
   "source": [
    "a=tf.constant([[2,3],[5,6]],tf.float32)\n",
    "b=tf.constant ([[4,5],[7,8]],tf.float32)\n",
    "c=tf.add(a,b)\n",
    "print(c)"
   ]
  },
  {
   "cell_type": "code",
   "execution_count": 19,
   "id": "d19c1e3c-583a-42d8-b403-cdcd1fc23b0c",
   "metadata": {},
   "outputs": [
    {
     "data": {
      "text/plain": [
       "<tf.Tensor: shape=(2, 2), dtype=float32, numpy=\n",
       "array([[-2., -2.],\n",
       "       [-2., -2.]], dtype=float32)>"
      ]
     },
     "execution_count": 19,
     "metadata": {},
     "output_type": "execute_result"
    }
   ],
   "source": [
    "d=tf.subtract(a,b)\n",
    "d"
   ]
  },
  {
   "cell_type": "code",
   "execution_count": 20,
   "id": "f182b16a-6685-4bc8-b308-30eb86ff6258",
   "metadata": {},
   "outputs": [
    {
     "data": {
      "text/plain": [
       "<tf.Tensor: shape=(2, 2), dtype=float32, numpy=\n",
       "array([[ 8., 15.],\n",
       "       [35., 48.]], dtype=float32)>"
      ]
     },
     "execution_count": 20,
     "metadata": {},
     "output_type": "execute_result"
    }
   ],
   "source": [
    "e=tf.multiply(a,b)\n",
    "e"
   ]
  },
  {
   "cell_type": "code",
   "execution_count": 21,
   "id": "57a2362b-2d53-4e7c-9064-c590395856ae",
   "metadata": {},
   "outputs": [
    {
     "data": {
      "text/plain": [
       "<tf.Tensor: shape=(2, 2), dtype=float32, numpy=\n",
       "array([[0.5       , 0.6       ],\n",
       "       [0.71428573, 0.75      ]], dtype=float32)>"
      ]
     },
     "execution_count": 21,
     "metadata": {},
     "output_type": "execute_result"
    }
   ],
   "source": [
    "f=tf.divide(a,b)\n",
    "f"
   ]
  },
  {
   "cell_type": "code",
   "execution_count": 22,
   "id": "130b2ab5-881e-432a-b84d-2acede5e52b7",
   "metadata": {},
   "outputs": [
    {
     "data": {
      "text/plain": [
       "<tf.Tensor: shape=(2, 2), dtype=float32, numpy=\n",
       "array([[29., 34.],\n",
       "       [62., 73.]], dtype=float32)>"
      ]
     },
     "execution_count": 22,
     "metadata": {},
     "output_type": "execute_result"
    }
   ],
   "source": [
    "x=tf.matmul(a,b)#Dot Product\n",
    "x"
   ]
  },
  {
   "cell_type": "code",
   "execution_count": 23,
   "id": "75b28b99-a97a-4b12-90b7-99977e3ad6cc",
   "metadata": {},
   "outputs": [
    {
     "name": "stdout",
     "output_type": "stream",
     "text": [
      "tf.Tensor(\n",
      "[[29. 34.]\n",
      " [62. 73.]], shape=(2, 2), dtype=float32)\n"
     ]
    }
   ],
   "source": [
    "print(a@b) # Dot Product"
   ]
  },
  {
   "cell_type": "code",
   "execution_count": 50,
   "id": "fb59cf5d-9af5-4766-a570-3a1533ebd1a1",
   "metadata": {},
   "outputs": [
    {
     "name": "stdout",
     "output_type": "stream",
     "text": [
      "tf.Tensor(\n",
      "[ 0.42156577 -0.19106314 -1.1716601  -0.23518945  0.7591955   0.282994\n",
      " -1.1531141  -1.2819446   0.31560653  0.37977415], shape=(10,), dtype=float32)\n"
     ]
    }
   ],
   "source": [
    "print(tf.random.normal([10]))"
   ]
  },
  {
   "cell_type": "code",
   "execution_count": 51,
   "id": "71b19074-ed5e-4c72-a1ae-16a4c33be1fb",
   "metadata": {},
   "outputs": [
    {
     "name": "stdout",
     "output_type": "stream",
     "text": [
      "tf.Tensor(\n",
      "[0.6359643  0.01085079 0.54482234 0.36937833 0.6728399  0.15904105\n",
      " 0.62557685 0.08191609 0.64818525 0.19445813], shape=(10,), dtype=float32)\n"
     ]
    }
   ],
   "source": [
    "print(tf.random.uniform([10]))"
   ]
  },
  {
   "cell_type": "code",
   "execution_count": 52,
   "id": "7713c489-51a4-47c2-80cf-4653fb98bb18",
   "metadata": {},
   "outputs": [
    {
     "name": "stdout",
     "output_type": "stream",
     "text": [
      "tf.Tensor(\n",
      "[1 4 2 1 1 3 3 1 4 3 2 3 1 1 4 3 4 1 1 3 3 4 3 4 2 4 3 3 3 1 4 1 3 3 2 1 1\n",
      " 1 3 4 2 4 3 3 1 1 1 3 3 2], shape=(50,), dtype=int32)\n"
     ]
    }
   ],
   "source": [
    "print(tf.random.uniform([50],minval=1,maxval=5,dtype=tf.int32))"
   ]
  },
  {
   "cell_type": "code",
   "execution_count": 24,
   "id": "64b827fc-a62d-4273-a58b-067f6a3c54de",
   "metadata": {},
   "outputs": [
    {
     "name": "stdout",
     "output_type": "stream",
     "text": [
      "tf.Tensor(\n",
      "[1 9 9 4 3 3 6 5 8 1 1 4 3 2 2 7 1 9 3 8 4 6 3 2 7 5 3 9 7 9 1 2 4 8 1 1 2\n",
      " 2 9 1 6 3 3 7 2 2 5 7 4 9 8 1 8 9 8 8 8 2 9 2 5 8 5 3 4 8 7 8 2 3 3 2 8 5\n",
      " 8 3 7 3 2 3 1 7 7 3 7 1 8 7 8 4 7 3 5 1 4 4 9 4 1 4], shape=(100,), dtype=int32)\n"
     ]
    }
   ],
   "source": [
    "print(tf.random.uniform([100],minval=1,maxval=10,dtype=tf.int32))"
   ]
  },
  {
   "cell_type": "code",
   "execution_count": 25,
   "id": "8b7aa3f1-9873-426b-a0fb-6e29b6fb3cbb",
   "metadata": {},
   "outputs": [
    {
     "data": {
      "text/plain": [
       "<tf.Tensor: shape=(10,), dtype=int32, numpy=array([23, 83, 86, 87, 89, 73, 48, 99, 39, 78])>"
      ]
     },
     "execution_count": 25,
     "metadata": {},
     "output_type": "execute_result"
    }
   ],
   "source": [
    "x=tf.random.uniform([10],minval=1,maxval=100,dtype=tf.int32)\n",
    "x"
   ]
  },
  {
   "cell_type": "code",
   "execution_count": 26,
   "id": "56a7a585-e6a6-4ea1-a00a-d7706e576efc",
   "metadata": {},
   "outputs": [
    {
     "name": "stdout",
     "output_type": "stream",
     "text": [
      "tf.Tensor(705, shape=(), dtype=int32)\n"
     ]
    }
   ],
   "source": [
    "print(tf.math.reduce_sum(x))"
   ]
  },
  {
   "cell_type": "code",
   "execution_count": 27,
   "id": "231dc863-9049-4492-8aff-afaf26861891",
   "metadata": {},
   "outputs": [
    {
     "name": "stdout",
     "output_type": "stream",
     "text": [
      "tf.Tensor(23, shape=(), dtype=int32)\n"
     ]
    }
   ],
   "source": [
    "print(tf.math.reduce_min(x))"
   ]
  },
  {
   "cell_type": "code",
   "execution_count": 28,
   "id": "6d10a734-5d92-4868-a238-fe2b9a286f2c",
   "metadata": {},
   "outputs": [
    {
     "name": "stdout",
     "output_type": "stream",
     "text": [
      "tf.Tensor(99, shape=(), dtype=int32)\n"
     ]
    }
   ],
   "source": [
    "print(tf.math.reduce_max(x))"
   ]
  },
  {
   "cell_type": "code",
   "execution_count": 29,
   "id": "6ac3ab0c-cc2a-40e4-a995-e1f795dd3f17",
   "metadata": {},
   "outputs": [
    {
     "name": "stdout",
     "output_type": "stream",
     "text": [
      "tf.Tensor(70, shape=(), dtype=int32)\n"
     ]
    }
   ],
   "source": [
    "print(tf.math.reduce_mean(x))"
   ]
  },
  {
   "cell_type": "code",
   "execution_count": 30,
   "id": "8c3de1bc-5a4e-442b-b76d-160bca646302",
   "metadata": {},
   "outputs": [
    {
     "name": "stdout",
     "output_type": "stream",
     "text": [
      "tf.Tensor(7, shape=(), dtype=int64)\n"
     ]
    }
   ],
   "source": [
    "print(tf.math.argmax(x))"
   ]
  },
  {
   "cell_type": "code",
   "execution_count": 32,
   "id": "5962eba4-bcf7-4d88-8f0b-9f354cba656a",
   "metadata": {},
   "outputs": [
    {
     "name": "stdout",
     "output_type": "stream",
     "text": [
      "tf.Tensor(0, shape=(), dtype=int64)\n"
     ]
    }
   ],
   "source": [
    "print(tf.math.argmin(x))"
   ]
  },
  {
   "cell_type": "markdown",
   "id": "a09ebf71-b729-4041-bc39-fb393f6c1a71",
   "metadata": {},
   "source": [
    "# Variable Tensor Array :- (Mutable Tensor Array)."
   ]
  },
  {
   "cell_type": "code",
   "execution_count": 33,
   "id": "5848a85a-f33c-46b4-a325-d8548142d84c",
   "metadata": {},
   "outputs": [],
   "source": [
    "import tensorflow as tf"
   ]
  },
  {
   "cell_type": "markdown",
   "id": "0da8c7f2-67cc-4fcc-a6b6-b859d5711389",
   "metadata": {},
   "source": [
    "- tf.Variable(value,dtype,shape,name)"
   ]
  },
  {
   "cell_type": "code",
   "execution_count": 34,
   "id": "136d0756-6c9e-4bce-8196-f5a790dc1bed",
   "metadata": {},
   "outputs": [
    {
     "data": {
      "text/plain": [
       "<tf.Variable 'Variable:0' shape=() dtype=int32, numpy=10>"
      ]
     },
     "execution_count": 34,
     "metadata": {},
     "output_type": "execute_result"
    }
   ],
   "source": [
    "a=tf.Variable(10)\n",
    "a"
   ]
  },
  {
   "cell_type": "code",
   "execution_count": 35,
   "id": "9908285e-6590-4fa6-af28-838b23584cea",
   "metadata": {},
   "outputs": [
    {
     "data": {
      "text/plain": [
       "tensorflow.python.ops.resource_variable_ops.ResourceVariable"
      ]
     },
     "execution_count": 35,
     "metadata": {},
     "output_type": "execute_result"
    }
   ],
   "source": [
    "type(a)"
   ]
  },
  {
   "cell_type": "code",
   "execution_count": 36,
   "id": "badbe799-9c93-44c8-87c5-e6b61049884b",
   "metadata": {},
   "outputs": [
    {
     "data": {
      "text/plain": [
       "<tf.Variable 'Variable:0' shape=(4,) dtype=int32, numpy=array([2, 3, 4, 5])>"
      ]
     },
     "execution_count": 36,
     "metadata": {},
     "output_type": "execute_result"
    }
   ],
   "source": [
    "x=tf.Variable([2,3,4,5])\n",
    "x"
   ]
  },
  {
   "cell_type": "code",
   "execution_count": 37,
   "id": "2ca35887-58cd-4787-859c-cf6881a55162",
   "metadata": {},
   "outputs": [
    {
     "data": {
      "text/plain": [
       "tensorflow.python.ops.resource_variable_ops.ResourceVariable"
      ]
     },
     "execution_count": 37,
     "metadata": {},
     "output_type": "execute_result"
    }
   ],
   "source": [
    "type(x)"
   ]
  },
  {
   "cell_type": "code",
   "execution_count": 38,
   "id": "31b51517-1845-428f-a636-ac1be766e24b",
   "metadata": {},
   "outputs": [
    {
     "data": {
      "text/plain": [
       "TensorShape([4])"
      ]
     },
     "execution_count": 38,
     "metadata": {},
     "output_type": "execute_result"
    }
   ],
   "source": [
    "x.shape"
   ]
  },
  {
   "cell_type": "code",
   "execution_count": 39,
   "id": "d61a8af9-53ee-48e7-9b9d-74679d827e1d",
   "metadata": {},
   "outputs": [
    {
     "data": {
      "text/plain": [
       "tf.int32"
      ]
     },
     "execution_count": 39,
     "metadata": {},
     "output_type": "execute_result"
    }
   ],
   "source": [
    "x.dtype"
   ]
  },
  {
   "cell_type": "code",
   "execution_count": 40,
   "id": "0f37cdc5-a068-4bd7-bf6f-47579242ee3c",
   "metadata": {},
   "outputs": [
    {
     "data": {
      "text/plain": [
       "'Variable:0'"
      ]
     },
     "execution_count": 40,
     "metadata": {},
     "output_type": "execute_result"
    }
   ],
   "source": [
    "x.name"
   ]
  },
  {
   "cell_type": "code",
   "execution_count": 41,
   "id": "c1e86904-2f89-4799-9b93-f4581bb96f4d",
   "metadata": {},
   "outputs": [
    {
     "data": {
      "text/plain": [
       "<tf.Variable 'Vector:0' shape=(4,) dtype=float32, numpy=array([2. , 3. , 4.5, 5.6], dtype=float32)>"
      ]
     },
     "execution_count": 41,
     "metadata": {},
     "output_type": "execute_result"
    }
   ],
   "source": [
    "x=tf.Variable([2.,3.,4.5,5.6],name='Vector')\n",
    "x"
   ]
  },
  {
   "cell_type": "code",
   "execution_count": 42,
   "id": "07312f98-c35d-4345-a2aa-eacc379e86f4",
   "metadata": {},
   "outputs": [
    {
     "data": {
      "text/plain": [
       "'Vector:0'"
      ]
     },
     "execution_count": 42,
     "metadata": {},
     "output_type": "execute_result"
    }
   ],
   "source": [
    "x.name"
   ]
  },
  {
   "cell_type": "code",
   "execution_count": 43,
   "id": "dcc787ce-9395-45d2-9513-aa8733e2ef98",
   "metadata": {},
   "outputs": [
    {
     "data": {
      "text/plain": [
       "<tf.Variable 'Variable:0' shape=(4,) dtype=string, numpy=array([b'a', b'b', b'c', b'd'], dtype=object)>"
      ]
     },
     "execution_count": 43,
     "metadata": {},
     "output_type": "execute_result"
    }
   ],
   "source": [
    "x=tf.Variable(['a','b','c','d'])\n",
    "x"
   ]
  },
  {
   "cell_type": "code",
   "execution_count": 44,
   "id": "b0c43362-3736-4f30-9e6b-7c34ed03b7ab",
   "metadata": {},
   "outputs": [
    {
     "data": {
      "text/plain": [
       "tf.string"
      ]
     },
     "execution_count": 44,
     "metadata": {},
     "output_type": "execute_result"
    }
   ],
   "source": [
    "x.dtype"
   ]
  },
  {
   "cell_type": "code",
   "execution_count": 45,
   "id": "a4546895-adf6-4df9-a227-a7848dc5b028",
   "metadata": {},
   "outputs": [
    {
     "data": {
      "text/plain": [
       "<tf.Variable 'Variable:0' shape=(2,) dtype=bool, numpy=array([ True, False])>"
      ]
     },
     "execution_count": 45,
     "metadata": {},
     "output_type": "execute_result"
    }
   ],
   "source": [
    "x=tf.Variable([True,False])\n",
    "x"
   ]
  },
  {
   "cell_type": "code",
   "execution_count": 46,
   "id": "20e4259b-07df-4d34-a56e-1c01d708517f",
   "metadata": {},
   "outputs": [
    {
     "data": {
      "text/plain": [
       "<tf.Variable 'Variable:0' shape=(1,) dtype=complex128, numpy=array([3.+6.j])>"
      ]
     },
     "execution_count": 46,
     "metadata": {},
     "output_type": "execute_result"
    }
   ],
   "source": [
    "x=tf.Variable([3+6j])\n",
    "x"
   ]
  },
  {
   "cell_type": "code",
   "execution_count": 47,
   "id": "09b61d1c-19f6-4a2e-b8c0-65f90e2cde20",
   "metadata": {},
   "outputs": [
    {
     "data": {
      "text/plain": [
       "tf.complex128"
      ]
     },
     "execution_count": 47,
     "metadata": {},
     "output_type": "execute_result"
    }
   ],
   "source": [
    "x.dtype"
   ]
  },
  {
   "cell_type": "code",
   "execution_count": 48,
   "id": "5a865c7b-a861-47e7-a1e7-185856c64fcc",
   "metadata": {},
   "outputs": [
    {
     "data": {
      "text/plain": [
       "<tf.Variable 'Variable:0' shape=(5,) dtype=float32, numpy=array([2., 3., 4., 5., 6.], dtype=float32)>"
      ]
     },
     "execution_count": 48,
     "metadata": {},
     "output_type": "execute_result"
    }
   ],
   "source": [
    "x=tf.Variable([2,3,4,5,6],dtype=tf.float32)\n",
    "x"
   ]
  },
  {
   "cell_type": "code",
   "execution_count": 49,
   "id": "b58bc7f0-91b1-4d12-afc3-399b85f9519f",
   "metadata": {},
   "outputs": [
    {
     "data": {
      "text/plain": [
       "tensorflow.python.ops.resource_variable_ops.ResourceVariable"
      ]
     },
     "execution_count": 49,
     "metadata": {},
     "output_type": "execute_result"
    }
   ],
   "source": [
    "type(x)"
   ]
  },
  {
   "cell_type": "code",
   "execution_count": 50,
   "id": "8ec625cc-796d-46ff-ae5b-aa34e721fe1c",
   "metadata": {},
   "outputs": [
    {
     "data": {
      "text/plain": [
       "<tf.Variable 'Variable:0' shape=(5,) dtype=float32, numpy=array([5., 9., 8., 7., 6.], dtype=float32)>"
      ]
     },
     "execution_count": 50,
     "metadata": {},
     "output_type": "execute_result"
    }
   ],
   "source": [
    "x.assign([5,9,8,7,6])\n",
    "x"
   ]
  },
  {
   "cell_type": "code",
   "execution_count": 51,
   "id": "caa50745-fcce-4fdc-b66a-06647eaed990",
   "metadata": {},
   "outputs": [
    {
     "data": {
      "text/plain": [
       "<tf.Tensor: shape=(5,), dtype=int32, numpy=array([2, 3, 4, 5, 6])>"
      ]
     },
     "execution_count": 51,
     "metadata": {},
     "output_type": "execute_result"
    }
   ],
   "source": [
    "a=tf.constant([2,3,4,5,6])\n",
    "a"
   ]
  },
  {
   "cell_type": "code",
   "execution_count": 52,
   "id": "f2ebe576-ee15-4790-9f01-70901828cc7e",
   "metadata": {},
   "outputs": [
    {
     "data": {
      "text/plain": [
       "tensorflow.python.framework.ops.EagerTensor"
      ]
     },
     "execution_count": 52,
     "metadata": {},
     "output_type": "execute_result"
    }
   ],
   "source": [
    "type(a)"
   ]
  },
  {
   "cell_type": "code",
   "execution_count": 53,
   "id": "a83b1c88-f0c7-4965-af7f-c5756870892a",
   "metadata": {},
   "outputs": [],
   "source": [
    "# a.assign([2,3,8,9,10])"
   ]
  },
  {
   "cell_type": "code",
   "execution_count": 54,
   "id": "84f8f367-677a-4237-beef-16793ca0ae83",
   "metadata": {},
   "outputs": [
    {
     "data": {
      "text/plain": [
       "<tf.Variable 'Variable:0' shape=(5,) dtype=float32, numpy=array([2., 3., 4., 5., 6.], dtype=float32)>"
      ]
     },
     "execution_count": 54,
     "metadata": {},
     "output_type": "execute_result"
    }
   ],
   "source": [
    "x=tf.Variable([2,3,4,5,6],dtype=tf.float32)\n",
    "x"
   ]
  },
  {
   "cell_type": "code",
   "execution_count": 55,
   "id": "b058895e-2c85-49a2-8902-9773bfe3c8b9",
   "metadata": {},
   "outputs": [
    {
     "data": {
      "text/plain": [
       "tensorflow.python.ops.resource_variable_ops.ResourceVariable"
      ]
     },
     "execution_count": 55,
     "metadata": {},
     "output_type": "execute_result"
    }
   ],
   "source": [
    "type(x)"
   ]
  },
  {
   "cell_type": "code",
   "execution_count": 56,
   "id": "d1d836ba-8ff4-4936-ba3a-1c35f3a76bef",
   "metadata": {},
   "outputs": [],
   "source": [
    "# x.assign([2,5,6,7,8,9]) # Equal len is modify only and same shape is modify different type is not modify)"
   ]
  },
  {
   "cell_type": "code",
   "execution_count": 57,
   "id": "ffa5baae-5055-4078-8deb-8fd36089fd8a",
   "metadata": {},
   "outputs": [
    {
     "data": {
      "text/plain": [
       "<tf.Variable 'Variable:0' shape=(5,) dtype=float32, numpy=array([ 3.,  5.,  7.,  9., 11.], dtype=float32)>"
      ]
     },
     "execution_count": 57,
     "metadata": {},
     "output_type": "execute_result"
    }
   ],
   "source": [
    "x.assign_add([1,2,3,4,5])\n",
    "x"
   ]
  },
  {
   "cell_type": "code",
   "execution_count": 58,
   "id": "21656745-0f57-4de9-b051-0f8ccff54df5",
   "metadata": {},
   "outputs": [
    {
     "data": {
      "text/plain": [
       "<tf.Variable 'Variable:0' shape=(5,) dtype=float32, numpy=array([2., 3., 4., 5., 6.], dtype=float32)>"
      ]
     },
     "execution_count": 58,
     "metadata": {},
     "output_type": "execute_result"
    }
   ],
   "source": [
    "x.assign_sub([1,2,3,4,5])\n",
    "x"
   ]
  },
  {
   "cell_type": "code",
   "execution_count": 59,
   "id": "6b78befc-e020-4d69-86b8-0b18ef4a86f4",
   "metadata": {},
   "outputs": [
    {
     "data": {
      "text/plain": [
       "<tf.Tensor: shape=(3, 2), dtype=int32, numpy=\n",
       "array([[2, 3],\n",
       "       [4, 5],\n",
       "       [9, 6]])>"
      ]
     },
     "execution_count": 59,
     "metadata": {},
     "output_type": "execute_result"
    }
   ],
   "source": [
    "a=tf.constant([[2,3],[4,5],[9,6]])\n",
    "a"
   ]
  },
  {
   "cell_type": "code",
   "execution_count": 60,
   "id": "3339d255-e82a-4d73-bcba-43eb170aebe7",
   "metadata": {},
   "outputs": [
    {
     "data": {
      "text/plain": [
       "tensorflow.python.framework.ops.EagerTensor"
      ]
     },
     "execution_count": 60,
     "metadata": {},
     "output_type": "execute_result"
    }
   ],
   "source": [
    "type(a)"
   ]
  },
  {
   "cell_type": "code",
   "execution_count": 61,
   "id": "eba0177d-798e-44c2-963d-ccfb4476576e",
   "metadata": {},
   "outputs": [
    {
     "data": {
      "text/plain": [
       "<tf.Variable 'Variable:0' shape=(3, 2) dtype=int32, numpy=\n",
       "array([[2, 3],\n",
       "       [4, 5],\n",
       "       [9, 6]])>"
      ]
     },
     "execution_count": 61,
     "metadata": {},
     "output_type": "execute_result"
    }
   ],
   "source": [
    "x=tf.Variable(a) # Change constant array to Variable array\n",
    "x"
   ]
  },
  {
   "cell_type": "code",
   "execution_count": 62,
   "id": "c09c8bdf-21f9-4bc4-a15a-2128842f2092",
   "metadata": {},
   "outputs": [
    {
     "data": {
      "text/plain": [
       "tensorflow.python.ops.resource_variable_ops.ResourceVariable"
      ]
     },
     "execution_count": 62,
     "metadata": {},
     "output_type": "execute_result"
    }
   ],
   "source": [
    "type(x)"
   ]
  },
  {
   "cell_type": "code",
   "execution_count": 63,
   "id": "b8e2ae20-cd25-4e2d-b12d-a28bc7fd88a0",
   "metadata": {},
   "outputs": [
    {
     "data": {
      "text/plain": [
       "array([[2, 3],\n",
       "       [4, 5],\n",
       "       [9, 6]])"
      ]
     },
     "execution_count": 63,
     "metadata": {},
     "output_type": "execute_result"
    }
   ],
   "source": [
    "x.numpy()"
   ]
  },
  {
   "cell_type": "code",
   "execution_count": 64,
   "id": "90bdb014-ed92-433b-935b-7d3700f0e196",
   "metadata": {},
   "outputs": [
    {
     "data": {
      "text/plain": [
       "<tf.Tensor: shape=(2,), dtype=int64, numpy=array([2, 2], dtype=int64)>"
      ]
     },
     "execution_count": 64,
     "metadata": {},
     "output_type": "execute_result"
    }
   ],
   "source": [
    "tf.argmax(x)"
   ]
  },
  {
   "cell_type": "code",
   "execution_count": 65,
   "id": "9157819c-ddaf-49ac-9291-4e4dbcc90919",
   "metadata": {},
   "outputs": [
    {
     "data": {
      "text/plain": [
       "array([2, 2], dtype=int64)"
      ]
     },
     "execution_count": 65,
     "metadata": {},
     "output_type": "execute_result"
    }
   ],
   "source": [
    "tf.argmax(x).numpy()"
   ]
  },
  {
   "cell_type": "code",
   "execution_count": 66,
   "id": "2ad38b34-bba9-4300-a870-054d65056fc1",
   "metadata": {},
   "outputs": [
    {
     "data": {
      "text/plain": [
       "<tf.Tensor: shape=(2,), dtype=int64, numpy=array([0, 0], dtype=int64)>"
      ]
     },
     "execution_count": 66,
     "metadata": {},
     "output_type": "execute_result"
    }
   ],
   "source": [
    "tf.argmin(x)"
   ]
  },
  {
   "cell_type": "code",
   "execution_count": 67,
   "id": "b7da5af7-55b9-4dff-ad55-10de35e91a41",
   "metadata": {},
   "outputs": [
    {
     "data": {
      "text/plain": [
       "array([0, 0], dtype=int64)"
      ]
     },
     "execution_count": 67,
     "metadata": {},
     "output_type": "execute_result"
    }
   ],
   "source": [
    "tf.argmin(x).numpy()"
   ]
  },
  {
   "cell_type": "code",
   "execution_count": 68,
   "id": "dc7e9a7e-5ebb-4831-ad29-a65b14353359",
   "metadata": {},
   "outputs": [
    {
     "data": {
      "text/plain": [
       "<tf.Variable 'Variable:0' shape=(4,) dtype=float32, numpy=array([2., 3., 4., 5.], dtype=float32)>"
      ]
     },
     "execution_count": 68,
     "metadata": {},
     "output_type": "execute_result"
    }
   ],
   "source": [
    "x=tf.Variable([2,3,4,5],dtype=tf.float32)\n",
    "x"
   ]
  },
  {
   "cell_type": "code",
   "execution_count": 69,
   "id": "ec065c67-bb23-4434-ba5b-05e0c3125d89",
   "metadata": {},
   "outputs": [
    {
     "data": {
      "text/plain": [
       "<tf.Tensor: shape=(2, 2), dtype=float32, numpy=\n",
       "array([[2., 3.],\n",
       "       [4., 5.]], dtype=float32)>"
      ]
     },
     "execution_count": 69,
     "metadata": {},
     "output_type": "execute_result"
    }
   ],
   "source": [
    "b=tf.reshape(x,(2,2))\n",
    "b"
   ]
  },
  {
   "cell_type": "code",
   "execution_count": 70,
   "id": "8b0dcb3c-f7ef-458c-95fc-f18d3dca7bab",
   "metadata": {},
   "outputs": [
    {
     "data": {
      "text/plain": [
       "tensorflow.python.framework.ops.EagerTensor"
      ]
     },
     "execution_count": 70,
     "metadata": {},
     "output_type": "execute_result"
    }
   ],
   "source": [
    "type(b)"
   ]
  },
  {
   "cell_type": "code",
   "execution_count": 71,
   "id": "2d8b4471-4bf2-44d8-af86-245a12b5e977",
   "metadata": {},
   "outputs": [
    {
     "data": {
      "text/plain": [
       "<tf.Variable 'Variable:0' shape=(3, 2) dtype=int32, numpy=\n",
       "array([[2, 3],\n",
       "       [4, 5],\n",
       "       [5, 6]])>"
      ]
     },
     "execution_count": 71,
     "metadata": {},
     "output_type": "execute_result"
    }
   ],
   "source": [
    "x=tf.Variable([[2,3],[4,5],[5,6]])\n",
    "x"
   ]
  },
  {
   "cell_type": "code",
   "execution_count": 72,
   "id": "f6071b11-2073-42b7-9482-0b096fde43b4",
   "metadata": {},
   "outputs": [
    {
     "data": {
      "text/plain": [
       "tensorflow.python.ops.resource_variable_ops.ResourceVariable"
      ]
     },
     "execution_count": 72,
     "metadata": {},
     "output_type": "execute_result"
    }
   ],
   "source": [
    "type(x)"
   ]
  },
  {
   "cell_type": "code",
   "execution_count": 73,
   "id": "89d0c249-da58-40d6-8a13-035d6e88a1e0",
   "metadata": {},
   "outputs": [
    {
     "data": {
      "text/plain": [
       "<tf.Tensor: shape=(3, 2), dtype=int32, numpy=\n",
       "array([[2, 3],\n",
       "       [4, 5],\n",
       "       [5, 6]])>"
      ]
     },
     "execution_count": 73,
     "metadata": {},
     "output_type": "execute_result"
    }
   ],
   "source": [
    "y=tf.convert_to_tensor(x)\n",
    "y"
   ]
  },
  {
   "cell_type": "code",
   "execution_count": 74,
   "id": "76cc522b-9b13-4073-b4ec-1b3425063f06",
   "metadata": {},
   "outputs": [
    {
     "data": {
      "text/plain": [
       "tensorflow.python.framework.ops.EagerTensor"
      ]
     },
     "execution_count": 74,
     "metadata": {},
     "output_type": "execute_result"
    }
   ],
   "source": [
    "type(y)"
   ]
  },
  {
   "cell_type": "code",
   "execution_count": 75,
   "id": "16e65d7b-568f-490d-9ffd-c002acc5a1f8",
   "metadata": {},
   "outputs": [
    {
     "name": "stdout",
     "output_type": "stream",
     "text": [
      "tf.Tensor([1 1 1 1 1 1 1 1 1 1], shape=(10,), dtype=int32)\n"
     ]
    }
   ],
   "source": [
    "x=tf.ones(10,dtype=tf.int32)\n",
    "print(x)"
   ]
  },
  {
   "cell_type": "code",
   "execution_count": 76,
   "id": "9a997097-2a87-4db6-8f15-8c59005b1f64",
   "metadata": {},
   "outputs": [
    {
     "name": "stdout",
     "output_type": "stream",
     "text": [
      "tf.Tensor(\n",
      "[[1 1]\n",
      " [1 1]\n",
      " [1 1]], shape=(3, 2), dtype=int32)\n"
     ]
    }
   ],
   "source": [
    "x=tf.ones((3,2),dtype=tf.int32)\n",
    "print(x)"
   ]
  },
  {
   "cell_type": "code",
   "execution_count": 77,
   "id": "d666f23e-4135-4b12-8d64-606be2addf2a",
   "metadata": {},
   "outputs": [
    {
     "name": "stdout",
     "output_type": "stream",
     "text": [
      "tf.Tensor(\n",
      "[[[1 1]\n",
      "  [1 1]\n",
      "  [1 1]]\n",
      "\n",
      " [[1 1]\n",
      "  [1 1]\n",
      "  [1 1]]], shape=(2, 3, 2), dtype=int32)\n"
     ]
    }
   ],
   "source": [
    "x=tf.ones((2,3,2),dtype=tf.int32)\n",
    "print(x)"
   ]
  },
  {
   "cell_type": "code",
   "execution_count": 78,
   "id": "3c1eb1d6-57a9-4fba-86eb-3b6f6e696dd3",
   "metadata": {},
   "outputs": [
    {
     "data": {
      "text/plain": [
       "TensorShape([2, 3, 2])"
      ]
     },
     "execution_count": 78,
     "metadata": {},
     "output_type": "execute_result"
    }
   ],
   "source": [
    "x.shape"
   ]
  },
  {
   "cell_type": "code",
   "execution_count": 79,
   "id": "57220e55-2b75-4d0d-8cac-8b8718c7bfc5",
   "metadata": {},
   "outputs": [
    {
     "data": {
      "text/plain": [
       "tensorflow.python.framework.ops.EagerTensor"
      ]
     },
     "execution_count": 79,
     "metadata": {},
     "output_type": "execute_result"
    }
   ],
   "source": [
    "type(x)"
   ]
  },
  {
   "cell_type": "code",
   "execution_count": 80,
   "id": "52fd0dba-2627-4b7a-b8f6-6d8a01934d5d",
   "metadata": {},
   "outputs": [
    {
     "data": {
      "text/plain": [
       "<tf.Tensor: shape=(3, 2), dtype=float32, numpy=\n",
       "array([[2., 3.],\n",
       "       [4., 5.],\n",
       "       [6., 7.]], dtype=float32)>"
      ]
     },
     "execution_count": 80,
     "metadata": {},
     "output_type": "execute_result"
    }
   ],
   "source": [
    "# tf.ones_Like() \n",
    "x=tf.constant([[2,3],[4,5],[6,7]],dtype=tf.float32)\n",
    "x"
   ]
  },
  {
   "cell_type": "code",
   "execution_count": 81,
   "id": "9c6a7777-2ddc-4ba1-aa86-617dc25ad3a6",
   "metadata": {},
   "outputs": [
    {
     "data": {
      "text/plain": [
       "<tf.Tensor: shape=(3, 2), dtype=int32, numpy=\n",
       "array([[1, 1],\n",
       "       [1, 1],\n",
       "       [1, 1]])>"
      ]
     },
     "execution_count": 81,
     "metadata": {},
     "output_type": "execute_result"
    }
   ],
   "source": [
    "y=tf.ones_like(x,dtype=tf.int32)\n",
    "y"
   ]
  },
  {
   "cell_type": "code",
   "execution_count": 82,
   "id": "cb92e8e4-3ba8-40dd-b4e6-61226d53bb2a",
   "metadata": {},
   "outputs": [
    {
     "data": {
      "text/plain": [
       "<tf.Variable 'Variable:0' shape=(1, 3, 3) dtype=float32, numpy=\n",
       "array([[[2., 3., 4.],\n",
       "        [4., 5., 6.],\n",
       "        [8., 9., 7.]]], dtype=float32)>"
      ]
     },
     "execution_count": 82,
     "metadata": {},
     "output_type": "execute_result"
    }
   ],
   "source": [
    "a=tf.Variable([[[2,3,4],[4,5,6],[8,9,7]]],dtype=tf.float32)\n",
    "a"
   ]
  },
  {
   "cell_type": "code",
   "execution_count": 83,
   "id": "2955fa7c-2e25-4e5e-a979-a03bcf9acf8b",
   "metadata": {},
   "outputs": [
    {
     "data": {
      "text/plain": [
       "tensorflow.python.ops.resource_variable_ops.ResourceVariable"
      ]
     },
     "execution_count": 83,
     "metadata": {},
     "output_type": "execute_result"
    }
   ],
   "source": [
    "type(a)"
   ]
  },
  {
   "cell_type": "code",
   "execution_count": 84,
   "id": "4a90b354-1a7e-4983-ac3e-e3483a2854e7",
   "metadata": {},
   "outputs": [
    {
     "data": {
      "text/plain": [
       "<tf.Tensor: shape=(1, 3, 3), dtype=int32, numpy=\n",
       "array([[[1, 1, 1],\n",
       "        [1, 1, 1],\n",
       "        [1, 1, 1]]])>"
      ]
     },
     "execution_count": 84,
     "metadata": {},
     "output_type": "execute_result"
    }
   ],
   "source": [
    "b=tf.ones_like(a,dtype=tf.int32)\n",
    "b"
   ]
  },
  {
   "cell_type": "code",
   "execution_count": 85,
   "id": "7da29cdf-5875-4f1d-87f6-84b8c84e1ede",
   "metadata": {},
   "outputs": [
    {
     "name": "stdout",
     "output_type": "stream",
     "text": [
      "tf.Tensor([0. 0. 0. 0. 0. 0. 0. 0. 0. 0.], shape=(10,), dtype=float32)\n"
     ]
    }
   ],
   "source": [
    "a=tf.zeros(10)\n",
    "print(a)"
   ]
  },
  {
   "cell_type": "code",
   "execution_count": 86,
   "id": "aaf55847-89aa-4112-978b-bbbb51ef32cb",
   "metadata": {},
   "outputs": [
    {
     "name": "stdout",
     "output_type": "stream",
     "text": [
      "tf.Tensor(\n",
      "[[0 0 0]\n",
      " [0 0 0]], shape=(2, 3), dtype=int32)\n"
     ]
    }
   ],
   "source": [
    "b=tf.zeros((2,3),dtype=tf.int32)\n",
    "print(b)"
   ]
  },
  {
   "cell_type": "code",
   "execution_count": 87,
   "id": "047766d8-2d54-4fd7-b57d-4ca5404f59cb",
   "metadata": {},
   "outputs": [
    {
     "name": "stdout",
     "output_type": "stream",
     "text": [
      "tf.Tensor(\n",
      "[[[0 0]\n",
      "  [0 0]\n",
      "  [0 0]]], shape=(1, 3, 2), dtype=int32)\n"
     ]
    }
   ],
   "source": [
    "b=tf.zeros((1,3,2),dtype=tf.int32)\n",
    "print(b)"
   ]
  },
  {
   "cell_type": "code",
   "execution_count": 88,
   "id": "4587972d-0e15-467e-b98c-85216e1df010",
   "metadata": {},
   "outputs": [
    {
     "data": {
      "text/plain": [
       "<tf.Tensor: shape=(3, 2), dtype=float32, numpy=\n",
       "array([[2., 3.],\n",
       "       [4., 5.],\n",
       "       [6., 7.]], dtype=float32)>"
      ]
     },
     "execution_count": 88,
     "metadata": {},
     "output_type": "execute_result"
    }
   ],
   "source": [
    "x=tf.constant([[2,3],[4,5],[6,7]],dtype=tf.float32)\n",
    "x"
   ]
  },
  {
   "cell_type": "code",
   "execution_count": 89,
   "id": "478832a1-72e1-4d47-aa65-a811a012d29e",
   "metadata": {},
   "outputs": [
    {
     "data": {
      "text/plain": [
       "<tf.Tensor: shape=(3, 2), dtype=float32, numpy=\n",
       "array([[0., 0.],\n",
       "       [0., 0.],\n",
       "       [0., 0.]], dtype=float32)>"
      ]
     },
     "execution_count": 89,
     "metadata": {},
     "output_type": "execute_result"
    }
   ],
   "source": [
    "y=tf.zeros_like(x)\n",
    "y"
   ]
  },
  {
   "cell_type": "code",
   "execution_count": 90,
   "id": "552588f2-77d1-40de-86fc-07c8d44b06fa",
   "metadata": {},
   "outputs": [
    {
     "data": {
      "text/plain": [
       "<tf.Tensor: shape=(3, 2), dtype=int32, numpy=\n",
       "array([[9, 9],\n",
       "       [9, 9],\n",
       "       [9, 9]])>"
      ]
     },
     "execution_count": 90,
     "metadata": {},
     "output_type": "execute_result"
    }
   ],
   "source": [
    "a=tf.fill((3,2),9)\n",
    "a"
   ]
  },
  {
   "cell_type": "code",
   "execution_count": 91,
   "id": "0bf76754-6404-4faf-a7a7-754522d54857",
   "metadata": {},
   "outputs": [
    {
     "data": {
      "text/plain": [
       "tensorflow.python.framework.ops.EagerTensor"
      ]
     },
     "execution_count": 91,
     "metadata": {},
     "output_type": "execute_result"
    }
   ],
   "source": [
    "type(a)"
   ]
  },
  {
   "cell_type": "code",
   "execution_count": 92,
   "id": "f4d53880-c8a9-4095-b411-bdd377e3495f",
   "metadata": {},
   "outputs": [
    {
     "data": {
      "text/plain": [
       "<tf.Tensor: shape=(3, 3), dtype=float32, numpy=\n",
       "array([[2.5, 2.5, 2.5],\n",
       "       [2.5, 2.5, 2.5],\n",
       "       [2.5, 2.5, 2.5]], dtype=float32)>"
      ]
     },
     "execution_count": 92,
     "metadata": {},
     "output_type": "execute_result"
    }
   ],
   "source": [
    "b=tf.fill((3,3),2.5)\n",
    "b"
   ]
  },
  {
   "cell_type": "code",
   "execution_count": 93,
   "id": "3dcb675e-eb8e-4894-bae1-bdd3e41c689e",
   "metadata": {},
   "outputs": [
    {
     "data": {
      "text/plain": [
       "<tf.Tensor: shape=(2, 2), dtype=float32, numpy=\n",
       "array([[1., 0.],\n",
       "       [0., 1.]], dtype=float32)>"
      ]
     },
     "execution_count": 93,
     "metadata": {},
     "output_type": "execute_result"
    }
   ],
   "source": [
    "c=tf.eye(2)\n",
    "c"
   ]
  },
  {
   "cell_type": "code",
   "execution_count": 94,
   "id": "90451f78-e774-49b7-9341-3617b9d70e86",
   "metadata": {},
   "outputs": [
    {
     "data": {
      "text/plain": [
       "<tf.Tensor: shape=(3, 2), dtype=float32, numpy=\n",
       "array([[1., 0.],\n",
       "       [0., 1.],\n",
       "       [0., 0.]], dtype=float32)>"
      ]
     },
     "execution_count": 94,
     "metadata": {},
     "output_type": "execute_result"
    }
   ],
   "source": [
    "c=tf.eye(3,2)\n",
    "c"
   ]
  },
  {
   "cell_type": "code",
   "execution_count": 95,
   "id": "1c00d6bf-ebe0-4c39-9290-d38abd512798",
   "metadata": {},
   "outputs": [
    {
     "data": {
      "text/plain": [
       "<tf.Tensor: shape=(3, 3, 3), dtype=int32, numpy=\n",
       "array([[[1, 0, 0],\n",
       "        [0, 1, 0],\n",
       "        [0, 0, 1]],\n",
       "\n",
       "       [[1, 0, 0],\n",
       "        [0, 1, 0],\n",
       "        [0, 0, 1]],\n",
       "\n",
       "       [[1, 0, 0],\n",
       "        [0, 1, 0],\n",
       "        [0, 0, 1]]])>"
      ]
     },
     "execution_count": 95,
     "metadata": {},
     "output_type": "execute_result"
    }
   ],
   "source": [
    "d=tf.eye(3,3,dtype=tf.int32,batch_shape=[3])\n",
    "d"
   ]
  },
  {
   "cell_type": "code",
   "execution_count": 96,
   "id": "d5e31689-1612-4311-ab6c-a7a39290a5e1",
   "metadata": {},
   "outputs": [
    {
     "data": {
      "text/plain": [
       "<tf.Tensor: shape=(2, 3, 3), dtype=int32, numpy=\n",
       "array([[[1, 0, 0],\n",
       "        [0, 1, 0],\n",
       "        [0, 0, 1]],\n",
       "\n",
       "       [[1, 0, 0],\n",
       "        [0, 1, 0],\n",
       "        [0, 0, 1]]])>"
      ]
     },
     "execution_count": 96,
     "metadata": {},
     "output_type": "execute_result"
    }
   ],
   "source": [
    "d=tf.eye(3,3,dtype=tf.int32,batch_shape=[2])\n",
    "d"
   ]
  },
  {
   "cell_type": "code",
   "execution_count": null,
   "id": "820f0f2c-635e-46f0-8d5b-6fca77938140",
   "metadata": {},
   "outputs": [],
   "source": []
  }
 ],
 "metadata": {
  "kernelspec": {
   "display_name": "Python 3 (ipykernel)",
   "language": "python",
   "name": "python3"
  },
  "language_info": {
   "codemirror_mode": {
    "name": "ipython",
    "version": 3
   },
   "file_extension": ".py",
   "mimetype": "text/x-python",
   "name": "python",
   "nbconvert_exporter": "python",
   "pygments_lexer": "ipython3",
   "version": "3.11.7"
  },
  "widgets": {
   "application/vnd.jupyter.widget-state+json": {
    "state": {},
    "version_major": 2,
    "version_minor": 0
   }
  }
 },
 "nbformat": 4,
 "nbformat_minor": 5
}
