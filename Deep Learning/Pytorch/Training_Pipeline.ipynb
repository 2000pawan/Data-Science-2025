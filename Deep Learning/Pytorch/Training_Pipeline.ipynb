{
 "cells": [
  {
   "cell_type": "markdown",
   "id": "a15f4ff3-9bd2-462d-bc9f-3b365f8dd1bb",
   "metadata": {},
   "source": [
    "## Pytorch Training Pipeline"
   ]
  },
  {
   "cell_type": "markdown",
   "id": "dc72b39d-27ab-4197-be8b-2696ae1bcbeb",
   "metadata": {},
   "source": [
    "## Important Libaray import."
   ]
  },
  {
   "cell_type": "code",
   "execution_count": 2,
   "id": "2f168fa8-b81a-46c2-b49b-74c6288c0bcd",
   "metadata": {},
   "outputs": [],
   "source": [
    "import pandas as pd\n",
    "import numpy as np\n",
    "import torch\n",
    "from sklearn.model_selection import train_test_split\n",
    "from sklearn.preprocessing import StandardScaler,LabelEncoder\n",
    "from sklearn.datasets import load_breast_cancer"
   ]
  },
  {
   "cell_type": "markdown",
   "id": "fad98556-0359-4c2f-a29b-b572a9436f5c",
   "metadata": {},
   "source": [
    "## Load data, Split data, Scale data, Encode data."
   ]
  },
  {
   "cell_type": "code",
   "execution_count": 22,
   "id": "1acb4045-07d1-4408-8d4a-f3413153880a",
   "metadata": {},
   "outputs": [],
   "source": [
    "df = load_breast_cancer()\n",
    "X = df.data\n",
    "y = df.target\n",
    "\n",
    "# Train Test Split\n",
    "X_train, X_test, y_train, y_test = train_test_split(X, y, random_state=1, test_size=0.2)\n",
    "\n",
    "# Scaling\n",
    "sc = StandardScaler()\n",
    "X_train_new = sc.fit_transform(X_train)\n",
    "X_test_new = sc.transform(X_test)\n",
    "\n",
    "# Encoding target\n",
    "lenc = LabelEncoder()\n",
    "y_train_new = lenc.fit_transform(y_train)\n",
    "y_test_new = lenc.transform(y_test)"
   ]
  },
  {
   "cell_type": "markdown",
   "id": "4e2aca88-e836-4287-95e1-b61f1ccf1027",
   "metadata": {},
   "source": [
    "## Convert Numpy to Tensor array."
   ]
  },
  {
   "cell_type": "code",
   "execution_count": 24,
   "id": "98738ee0-3d63-4ed5-8892-4602664ba19f",
   "metadata": {},
   "outputs": [],
   "source": [
    "# Numpy array to tensor \n",
    "X_train = torch.from_numpy(X_train_new)\n",
    "X_test = torch.from_numpy(X_test_new)\n",
    "y_train = torch.from_numpy(y_train_new)\n",
    "y_test = torch.from_numpy(y_test_new)"
   ]
  },
  {
   "cell_type": "markdown",
   "id": "5be48e1a-2fbc-4a57-8c5e-61d2f5b01331",
   "metadata": {},
   "source": [
    "## Define The Model"
   ]
  },
  {
   "cell_type": "code",
   "execution_count": 112,
   "id": "e2d3d28c-e9af-4e6d-8637-d4d86038e3b7",
   "metadata": {},
   "outputs": [],
   "source": [
    "class MySimpleNN():\n",
    "    def __init__(self, X):\n",
    "        self.weights = torch.rand(X.shape[1], 1, dtype = torch.float64, requires_grad=True)\n",
    "        self.bias = torch.zeros(1, dtype = torch.float64, requires_grad = True)\n",
    "    \n",
    "    def forward(self, X):\n",
    "        z = torch.matmul(X, self.weights) + self.bias\n",
    "        y_pred = torch.sigmoid(z)\n",
    "        return y_pred\n",
    "    \n",
    "    def loss_function(self, y_pred, y):\n",
    "        # Clamp predictions to avooid log(0)\n",
    "        epsilon = 1e-7\n",
    "        y_pred = torch.clamp(y_pred, epsilon, 1 - epsilon)\n",
    "        \n",
    "        # Calculate Loss\n",
    "        loss = -(y * torch.log(y_pred) + (1 - y) * torch.log(1 - y_pred)).mean()\n",
    "        return loss"
   ]
  },
  {
   "cell_type": "markdown",
   "id": "152c562b-2665-4507-988f-3a6bf3299587",
   "metadata": {},
   "source": [
    "## Important Parameters"
   ]
  },
  {
   "cell_type": "code",
   "execution_count": 141,
   "id": "bad6b3e9-e56c-4f0f-9e7c-aa4e256f0682",
   "metadata": {},
   "outputs": [],
   "source": [
    "learning_rate = 0.1\n",
    "epochs = 20"
   ]
  },
  {
   "cell_type": "markdown",
   "id": "15464751-6218-47c6-bdae-e1923f615f5a",
   "metadata": {},
   "source": [
    "## Training Pipeline "
   ]
  },
  {
   "cell_type": "code",
   "execution_count": 144,
   "id": "87e2c77e-dd10-4534-8a15-d3ad710aae25",
   "metadata": {},
   "outputs": [
    {
     "name": "stdout",
     "output_type": "stream",
     "text": [
      "Epoch:- 1, Loss:- 3.986556199337279\n",
      "Epoch:- 2, Loss:- 3.823488094831951\n",
      "Epoch:- 3, Loss:- 3.654933796402718\n",
      "Epoch:- 4, Loss:- 3.4818411872407387\n",
      "Epoch:- 5, Loss:- 3.3061165407846995\n",
      "Epoch:- 6, Loss:- 3.1284724321577775\n",
      "Epoch:- 7, Loss:- 2.950749385815224\n",
      "Epoch:- 8, Loss:- 2.773141802112456\n",
      "Epoch:- 9, Loss:- 2.593429310370499\n",
      "Epoch:- 10, Loss:- 2.415622402649611\n",
      "Epoch:- 11, Loss:- 2.241138152904009\n",
      "Epoch:- 12, Loss:- 2.068734764926322\n",
      "Epoch:- 13, Loss:- 1.9011701776316965\n",
      "Epoch:- 14, Loss:- 1.7404544179509562\n",
      "Epoch:- 15, Loss:- 1.58690530618504\n",
      "Epoch:- 16, Loss:- 1.4430084902607017\n",
      "Epoch:- 17, Loss:- 1.3135669113920376\n",
      "Epoch:- 18, Loss:- 1.199727851226911\n",
      "Epoch:- 19, Loss:- 1.1021638264848796\n",
      "Epoch:- 20, Loss:- 1.0208829015305594\n"
     ]
    }
   ],
   "source": [
    "# Create Model\n",
    "model = MySimpleNN(X_train)\n",
    "\n",
    "# define loop for epochs\n",
    "for epoch in range(epochs):\n",
    "    # forward pass\n",
    "    y_pred = model.forward(X_train)\n",
    "    \n",
    "    # Loss calculate\n",
    "    loss = model.loss_function(y_pred, y_train)\n",
    "    \n",
    "    # backward pass\n",
    "    loss.backward()\n",
    "    \n",
    "    # parameters update (w, b)\n",
    "    with torch.no_grad():\n",
    "        model.weights -= learning_rate * model.weights.grad\n",
    "        model.bias -= learning_rate * model.bias.grad\n",
    "\n",
    "    # zero gradients\n",
    "    model.weights.grad.zero_()\n",
    "    model.bias.grad.zero_()\n",
    "    \n",
    "    # print loss in each epoch\n",
    "    print(f\"Epoch:- {epoch + 1}, Loss:- {loss.item()}\")  # loss.item() used to return number from the tensor"
   ]
  },
  {
   "cell_type": "markdown",
   "id": "0ae0433e-937c-4f73-94e4-1eba24ca1e67",
   "metadata": {},
   "source": [
    "## Model Evaluation "
   ]
  },
  {
   "cell_type": "code",
   "execution_count": 147,
   "id": "b1e75647-7b4b-41f6-aff5-44df8574bf36",
   "metadata": {},
   "outputs": [
    {
     "name": "stdout",
     "output_type": "stream",
     "text": [
      "Accuracy score:- 0.5153267979621887\n"
     ]
    }
   ],
   "source": [
    "with torch.no_grad():\n",
    "    y_pred = model.forward(X_train)\n",
    "    y_pred = (y_pred > 0.5).float()\n",
    "    accuracy = (y_pred == y_test).float().mean()\n",
    "    print(f\"Accuracy score:- {accuracy}\")"
   ]
  },
  {
   "cell_type": "code",
   "execution_count": null,
   "id": "a11d3543-e8e9-40b6-87e7-f0c856681bdc",
   "metadata": {},
   "outputs": [],
   "source": []
  }
 ],
 "metadata": {
  "kernelspec": {
   "display_name": "Python 3 (ipykernel)",
   "language": "python",
   "name": "python3"
  },
  "language_info": {
   "codemirror_mode": {
    "name": "ipython",
    "version": 3
   },
   "file_extension": ".py",
   "mimetype": "text/x-python",
   "name": "python",
   "nbconvert_exporter": "python",
   "pygments_lexer": "ipython3",
   "version": "3.12.7"
  }
 },
 "nbformat": 4,
 "nbformat_minor": 5
}
