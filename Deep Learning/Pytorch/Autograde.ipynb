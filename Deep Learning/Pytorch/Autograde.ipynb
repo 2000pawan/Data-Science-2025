{
 "cells": [
  {
   "cell_type": "markdown",
   "id": "56af501a-e2a0-4c54-bc53-e3f8b3d4b36d",
   "metadata": {},
   "source": [
    "### AUtoGrade:- \n",
    "> Autograd is PyTorch’s automatic differentiation engine. It automatically computes gradients (derivatives) of tensors with respect to model parameters like weights and biases, used for backpropagation during training."
   ]
  },
  {
   "cell_type": "code",
   "execution_count": 5,
   "id": "4014ed7d-7ea4-407b-b4f8-1e346ff0737d",
   "metadata": {},
   "outputs": [],
   "source": [
    "# pip install torch torchvision torchaudio"
   ]
  },
  {
   "cell_type": "code",
   "execution_count": 31,
   "id": "583557dd-76b4-41e9-bc56-43c697419c15",
   "metadata": {},
   "outputs": [],
   "source": [
    "import torch\n",
    "import math"
   ]
  },
  {
   "cell_type": "code",
   "execution_count": 35,
   "id": "139a1522-66a1-4ca1-8b46-a38a94fb09a2",
   "metadata": {},
   "outputs": [
    {
     "data": {
      "text/plain": [
       "6"
      ]
     },
     "execution_count": 35,
     "metadata": {},
     "output_type": "execute_result"
    }
   ],
   "source": [
    "# Manually find the derivative of x^2\n",
    "def dy_dx(x):\n",
    "    return 2*x\n",
    "dy_dx(3)"
   ]
  },
  {
   "cell_type": "code",
   "execution_count": 37,
   "id": "4a9cff84-3cdf-4afd-8348-47cedc2f97c6",
   "metadata": {},
   "outputs": [
    {
     "name": "stdout",
     "output_type": "stream",
     "text": [
      "tensor(3., requires_grad=True)\n",
      "tensor(9., grad_fn=<PowBackward0>)\n"
     ]
    },
    {
     "data": {
      "text/plain": [
       "tensor(6.)"
      ]
     },
     "execution_count": 37,
     "metadata": {},
     "output_type": "execute_result"
    }
   ],
   "source": [
    "# find the derivative using autograd.\n",
    "x=torch.tensor(3.0, requires_grad=True) # without requires_grad=True pytorch not start backpropagation.\n",
    "y=x**2 # find the derivative of x^2\n",
    "print(x)\n",
    "print(y)\n",
    "y.backward() # it's start backpropagation using .backward.\n",
    "x.grad"
   ]
  },
  {
   "cell_type": "code",
   "execution_count": 33,
   "id": "ba27382d-4936-4075-b899-1cec3b895e0c",
   "metadata": {},
   "outputs": [
    {
     "data": {
      "text/plain": [
       "-7.661275842587077"
      ]
     },
     "execution_count": 33,
     "metadata": {},
     "output_type": "execute_result"
    }
   ],
   "source": [
    "# manually find the derivative of y w.r.t x where y=x^2 and z w.r.t x where z=sin(y).\n",
    "def dz_dx(x):\n",
    "    return 2*x*math.cos(x**2)\n",
    "dz_dx(4)"
   ]
  },
  {
   "cell_type": "code",
   "execution_count": 47,
   "id": "5ae4f252-30e0-4abc-8e23-361b2a49d28e",
   "metadata": {},
   "outputs": [
    {
     "data": {
      "text/plain": [
       "tensor(-7.6613)"
      ]
     },
     "execution_count": 47,
     "metadata": {},
     "output_type": "execute_result"
    }
   ],
   "source": [
    "x=torch.tensor(4.0,requires_grad=True)\n",
    "y=x**2\n",
    "z=torch.sin(y)\n",
    "z.backward()\n",
    "x.grad"
   ]
  },
  {
   "cell_type": "markdown",
   "id": "b68c61c6-16e6-4c2a-9c44-a02cf035c790",
   "metadata": {},
   "source": [
    "## Train Simple NN Manually."
   ]
  },
  {
   "cell_type": "code",
   "execution_count": 56,
   "id": "43511d8e-1d2b-4280-9aa8-85478b81cc8d",
   "metadata": {},
   "outputs": [],
   "source": [
    "# Inputs\n",
    "x=torch.tensor(6.7) # Inputs Feature\n",
    "y=torch.tensor(0.0) # Target (True label) Binary classification.\n",
    "\n",
    "w=torch.tensor(1.0) # Weight\n",
    "b=torch.tensor(0.0) # Bais"
   ]
  },
  {
   "cell_type": "code",
   "execution_count": 58,
   "id": "13d723ed-0bba-43e5-9ede-e2cf5c45a0b7",
   "metadata": {},
   "outputs": [],
   "source": [
    "# Binary Cross-Entropy Loss for scalar.\n",
    "def binary_cross_entropy(prediction,target):\n",
    "    epsilon = 1e-8 # to prevent log(0)\n",
    "    prediction = torch.clamp(prediction,epsilon,1-epsilon)\n",
    "    return -(target * torch.log(prediction) + (1 - target) * torch.log(1 - prediction))"
   ]
  },
  {
   "cell_type": "code",
   "execution_count": 64,
   "id": "c9f50521-a0de-4595-81e2-3b154cdf66f5",
   "metadata": {},
   "outputs": [
    {
     "name": "stdout",
     "output_type": "stream",
     "text": [
      "tensor(0.9988)\n",
      "tensor(0.)\n",
      "tensor(6.7000)\n",
      "tensor(6.7012)\n"
     ]
    }
   ],
   "source": [
    "# Forward  Pass\n",
    "z= w * x + b # Weighted Sum (linear Part)\n",
    "y_pred=torch.sigmoid(z) # Predicted Probability (non-linear part)\n",
    "print(y_pred)\n",
    "print(y)\n",
    "print(z)\n",
    "\n",
    "# Compute binary_cross_entropy loss\n",
    "loss= binary_cross_entropy(y_pred,y)\n",
    "print(loss)"
   ]
  },
  {
   "cell_type": "code",
   "execution_count": null,
   "id": "0b83173c-59c4-4fd2-ae99-71d65ea89fbd",
   "metadata": {},
   "outputs": [],
   "source": [
    "# Find Derivatives to update weight and bais manually\n",
    "\n",
    "# 1. dl/d(y_pred):- Loss w.r.t the prediction (y_pred)\n",
    "dloss_dy_pred=(y)"
   ]
  }
 ],
 "metadata": {
  "kernelspec": {
   "display_name": "Python 3 (ipykernel)",
   "language": "python",
   "name": "python3"
  },
  "language_info": {
   "codemirror_mode": {
    "name": "ipython",
    "version": 3
   },
   "file_extension": ".py",
   "mimetype": "text/x-python",
   "name": "python",
   "nbconvert_exporter": "python",
   "pygments_lexer": "ipython3",
   "version": "3.12.7"
  }
 },
 "nbformat": 4,
 "nbformat_minor": 5
}
