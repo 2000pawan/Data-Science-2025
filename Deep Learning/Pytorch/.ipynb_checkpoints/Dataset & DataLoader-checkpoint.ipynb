{
 "cells": [
  {
   "cell_type": "markdown",
   "id": "4bba11db-7ab2-4098-a652-1ddefd43ecbb",
   "metadata": {},
   "source": [
    "### Training Pipeline in pytorch using Dataset & DataLoader Pytorch Module."
   ]
  },
  {
   "cell_type": "markdown",
   "id": "38552fe3-ddd8-49f7-a65d-0d9c7a1b74cc",
   "metadata": {},
   "source": [
    "## Important Library"
   ]
  },
  {
   "cell_type": "code",
   "execution_count": 16,
   "id": "e111c08a-b4f5-4f69-bf67-31314c9e0f23",
   "metadata": {},
   "outputs": [],
   "source": [
    "import numpy as np\n",
    "import pandas as pd\n",
    "from sklearn.preprocessing import StandardScaler, LabelEncoder\n",
    "from sklearn.model_selection import train_test_split\n",
    "from sklearn.datasets import load_breast_cancer\n",
    "import torch\n",
    "import torch.nn as nn\n",
    "from torchinfo import summary\n",
    "from torch.utils.data import Dataset,DataLoader"
   ]
  },
  {
   "cell_type": "code",
   "execution_count": 11,
   "id": "8a185291-ffed-4ea7-a277-a16a9c98c594",
   "metadata": {},
   "outputs": [],
   "source": [
    "df=load_breast_cancer()\n",
    "X=df.data\n",
    "y=df.target\n",
    "X_train,X_test,y_train,y_test=train_test_split(X,y,test_size=0.2,random_state=42)\n",
    "sc=StandardScaler()\n",
    "le=LabelEncoder()\n",
    "X_train=sc.fit_transform(X_train)\n",
    "X_test=sc.transform(X_test)\n",
    "y_train=le.fit_transform(y_train)\n",
    "y_test=le.transform(y_test)"
   ]
  },
  {
   "cell_type": "code",
   "execution_count": 13,
   "id": "e3464e0e-1c0f-489c-811e-726a2500db69",
   "metadata": {},
   "outputs": [],
   "source": [
    "X_train_tensor = torch.from_numpy(X_train.astype(np.float32))\n",
    "X_test_tensor = torch.from_numpy(X_test.astype(np.float32))\n",
    "y_train_tensor = torch.from_numpy(y_train.astype(np.float32))\n",
    "y_test_tensor = torch.from_numpy(y_test.astype(np.float32))"
   ]
  },
  {
   "cell_type": "markdown",
   "id": "55581dc3-2ee2-46e0-be37-551c87b60f46",
   "metadata": {},
   "source": [
    "## Create Dataset and DataLoader class and object."
   ]
  },
  {
   "cell_type": "code",
   "execution_count": 18,
   "id": "4866ccf1-e9a1-459b-bd5a-52e9d10e4454",
   "metadata": {},
   "outputs": [],
   "source": [
    "class CustomDataset(Dataset):\n",
    "    def __init__(self,features,labels):\n",
    "        self.features=features\n",
    "        self.labels=labels\n",
    "\n",
    "    def __len__(self):\n",
    "        return len(self.features)\n",
    "\n",
    "    def __getitem__(self,idx):\n",
    "        return self.features[idx], self.labels[idx]\n"
   ]
  },
  {
   "cell_type": "code",
   "execution_count": 20,
   "id": "efeb679a-1914-486a-8772-4c30c8eafb87",
   "metadata": {},
   "outputs": [],
   "source": [
    "train_dataset=CustomDataset(X_train_tensor,y_train_tensor)\n",
    "test_dataset=CustomDataset(X_test_tensor,y_test_tensor)"
   ]
  },
  {
   "cell_type": "code",
   "execution_count": 22,
   "id": "7ae7083d-98c3-4bf4-a380-1d0219a68d2f",
   "metadata": {},
   "outputs": [],
   "source": [
    "train_loader=DataLoader(train_dataset, batch_size=32, shuffle=True)\n",
    "test_loader=DataLoader(test_dataset, batch_size=32, shuffle=True)"
   ]
  },
  {
   "cell_type": "code",
   "execution_count": 36,
   "id": "accbce5d-0508-483b-ae4e-8966e46b0749",
   "metadata": {},
   "outputs": [],
   "source": [
    "# Create Model\n",
    "\n",
    "class MySimpleNN(nn.Module):\n",
    "    def __init__(self,num_features):\n",
    "        super().__init__()\n",
    "        self.network=nn.Sequential(\n",
    "            nn.Linear(num_features,20),\n",
    "            nn.ReLU(),\n",
    "            nn.Linear(20,15),\n",
    "            nn.ReLU(),\n",
    "            nn.Linear(15,10),\n",
    "            nn.ReLU(),\n",
    "            nn.Linear(10,1),\n",
    "            nn.Sigmoid()\n",
    "        )\n",
    "    def forward(self,features):\n",
    "        out=self.network(features)\n",
    "        return out"
   ]
  },
  {
   "cell_type": "code",
   "execution_count": 38,
   "id": "eae31231-56b8-49ca-b7fe-bb1772a36852",
   "metadata": {},
   "outputs": [],
   "source": [
    "epochs=25\n",
    "learning_rate=0.001"
   ]
  },
  {
   "cell_type": "code",
   "execution_count": 40,
   "id": "7a9749e0-1779-42d0-9282-ea08ec675c7c",
   "metadata": {},
   "outputs": [],
   "source": [
    "model=MySimpleNN(X_train_tensor.shape[1])\n",
    "optimizer=torch.optim.SGD(model.parameters(),lr=learning_rate)\n",
    "loss_func=nn.BCELoss()"
   ]
  },
  {
   "cell_type": "markdown",
   "id": "40d5a565-5196-4916-8418-8be5d1e2cbd7",
   "metadata": {},
   "source": [
    "## Training PipeLine"
   ]
  },
  {
   "cell_type": "code",
   "execution_count": 43,
   "id": "b9ba9796-76a3-4a44-9fc0-e3aa68080dbd",
   "metadata": {},
   "outputs": [
    {
     "name": "stdout",
     "output_type": "stream",
     "text": [
      "Epoch: 1, Loss: 0.6812464594841003\n",
      "Epoch: 2, Loss: 0.7002885937690735\n",
      "Epoch: 3, Loss: 0.7105280756950378\n",
      "Epoch: 4, Loss: 0.7306874394416809\n",
      "Epoch: 5, Loss: 0.786434531211853\n",
      "Epoch: 6, Loss: 0.755487322807312\n",
      "Epoch: 7, Loss: 0.7551029324531555\n",
      "Epoch: 8, Loss: 0.698119580745697\n",
      "Epoch: 9, Loss: 0.7284613251686096\n",
      "Epoch: 10, Loss: 0.7491809129714966\n",
      "Epoch: 11, Loss: 0.7185091972351074\n",
      "Epoch: 12, Loss: 0.697050929069519\n",
      "Epoch: 13, Loss: 0.703363299369812\n",
      "Epoch: 14, Loss: 0.6765782237052917\n",
      "Epoch: 15, Loss: 0.7289671897888184\n",
      "Epoch: 16, Loss: 0.7149478793144226\n",
      "Epoch: 17, Loss: 0.7130299806594849\n",
      "Epoch: 18, Loss: 0.716282844543457\n",
      "Epoch: 19, Loss: 0.718336284160614\n",
      "Epoch: 20, Loss: 0.7138637900352478\n",
      "Epoch: 21, Loss: 0.6677461862564087\n",
      "Epoch: 22, Loss: 0.660225510597229\n",
      "Epoch: 23, Loss: 0.7257775068283081\n",
      "Epoch: 24, Loss: 0.6927793622016907\n",
      "Epoch: 25, Loss: 0.6800435185432434\n"
     ]
    }
   ],
   "source": [
    "for epoch in range(epochs):\n",
    "    for batch_features, batch_labels in train_loader:\n",
    "        y_pred=model(batch_features)\n",
    "        loss=loss_func(y_pred,batch_labels.view(-1,1))\n",
    "        optimizer.zero_grad()\n",
    "        loss.backward()\n",
    "        optimizer.step()\n",
    "    print(f\"Epoch: {epoch + 1}, Loss: {loss.item()}\")"
   ]
  },
  {
   "cell_type": "markdown",
   "id": "eb2fad88-0ab9-4e38-831e-28731023e498",
   "metadata": {},
   "source": [
    "## Evaluation"
   ]
  },
  {
   "cell_type": "code",
   "execution_count": 48,
   "id": "8aa6d9ac-25e1-49e0-9e77-142939cd68b7",
   "metadata": {},
   "outputs": [
    {
     "name": "stdout",
     "output_type": "stream",
     "text": [
      "Accuracy: 0.6215\n"
     ]
    }
   ],
   "source": [
    "model.eval()  # Set the model to evaluation mode because on testing we have to not calculate any backpropagation so we have to model we are doing testing.\n",
    "accuracy_list=[]\n",
    "with torch.no_grad():\n",
    "    for batch_features,batch_labels in test_loader:\n",
    "        y_pred=model(batch_features)\n",
    "        y_pred=(y_pred>0.4).float()\n",
    "        batch_accuracy = (y_pred.view(-1) == batch_labels).float().mean().item()\n",
    "        accuracy_list.append(batch_accuracy)\n",
    "\n",
    "# Calculate overall accuracy\n",
    "overall_accuracy = sum(accuracy_list) / len(accuracy_list)\n",
    "print(f'Accuracy: {overall_accuracy:.4f}')\n"
   ]
  },
  {
   "cell_type": "code",
   "execution_count": null,
   "id": "2b2e5c7e-ed47-4b5d-a459-450f37b42060",
   "metadata": {},
   "outputs": [],
   "source": []
  }
 ],
 "metadata": {
  "kernelspec": {
   "display_name": "Python 3 (ipykernel)",
   "language": "python",
   "name": "python3"
  },
  "language_info": {
   "codemirror_mode": {
    "name": "ipython",
    "version": 3
   },
   "file_extension": ".py",
   "mimetype": "text/x-python",
   "name": "python",
   "nbconvert_exporter": "python",
   "pygments_lexer": "ipython3",
   "version": "3.12.7"
  }
 },
 "nbformat": 4,
 "nbformat_minor": 5
}
