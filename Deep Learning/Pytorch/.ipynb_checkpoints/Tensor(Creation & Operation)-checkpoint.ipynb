{
  "cells": [
    {
      "cell_type": "code",
      "source": [
        "import torch\n",
        "print((torch.__version__))"
      ],
      "metadata": {
        "id": "5xfiuJmiUQ4R",
        "outputId": "4c09c2f0-688b-4bdc-c824-2e5cbf43d2d8",
        "colab": {
          "base_uri": "https://localhost:8080/"
        }
      },
      "execution_count": 1,
      "outputs": [
        {
          "output_type": "stream",
          "name": "stdout",
          "text": [
            "2.6.0+cu124\n"
          ]
        }
      ]
    },
    {
      "cell_type": "code",
      "source": [
        "if torch.cuda.is_available():\n",
        "  print(\"GPU is available\")\n",
        "  print(f\"Using GPU: {torch.cuda.get_device_name(0)}\")\n",
        "else:\n",
        "  print(\"GPU is not available\")"
      ],
      "metadata": {
        "id": "MjVF2REjUUDD",
        "outputId": "3ac69759-7ee4-4922-e2c0-6159e5a9f83a",
        "colab": {
          "base_uri": "https://localhost:8080/"
        }
      },
      "execution_count": 2,
      "outputs": [
        {
          "output_type": "stream",
          "name": "stdout",
          "text": [
            "GPU is available\n",
            "Using GPU: Tesla T4\n"
          ]
        }
      ]
    },
    {
      "cell_type": "markdown",
      "source": [
        "## Creating a Tensor."
      ],
      "metadata": {
        "id": "BOaBLKVoVgDf"
      }
    },
    {
      "cell_type": "code",
      "source": [
        "# Using empty:-  returns a tensor of the specified shape without initializing its values. The values in the returned tensor are whatever happens to already exist at that memory location (i.e., random \"garbage\" values).\n",
        "a=torch.empty(2,3)\n",
        "a"
      ],
      "metadata": {
        "id": "aFmLtDD-VoaG",
        "outputId": "d4385da6-47a9-489a-92ab-44a0475eb2dd",
        "colab": {
          "base_uri": "https://localhost:8080/"
        }
      },
      "execution_count": 28,
      "outputs": [
        {
          "output_type": "execute_result",
          "data": {
            "text/plain": [
              "tensor([[9.8974e-08, 0.0000e+00, 1.0822e-07],\n",
              "        [0.0000e+00, 1.1210e-43, 0.0000e+00]])"
            ]
          },
          "metadata": {},
          "execution_count": 28
        }
      ]
    },
    {
      "cell_type": "code",
      "source": [
        "# Check type\n",
        "type(a)"
      ],
      "metadata": {
        "id": "lCvcoyMWW0rh",
        "outputId": "bb52b998-3fa8-4537-b92a-da6a7423cb90",
        "colab": {
          "base_uri": "https://localhost:8080/"
        }
      },
      "execution_count": 27,
      "outputs": [
        {
          "output_type": "execute_result",
          "data": {
            "text/plain": [
              "torch.Tensor"
            ]
          },
          "metadata": {},
          "execution_count": 27
        }
      ]
    },
    {
      "cell_type": "code",
      "source": [
        "# Using Zeros:- All values set to 0\n",
        "torch.zeros(2,3)"
      ],
      "metadata": {
        "id": "e-fJclHqW550",
        "outputId": "b73668d3-6c83-479b-d540-6c16b33bda0e",
        "colab": {
          "base_uri": "https://localhost:8080/"
        }
      },
      "execution_count": 10,
      "outputs": [
        {
          "output_type": "execute_result",
          "data": {
            "text/plain": [
              "tensor([[0., 0., 0.],\n",
              "        [0., 0., 0.]])"
            ]
          },
          "metadata": {},
          "execution_count": 10
        }
      ]
    },
    {
      "cell_type": "code",
      "source": [
        "# Using Ones:- All values set to 1\n",
        "torch.ones(2,3)"
      ],
      "metadata": {
        "id": "fxwF3IRkXOW4",
        "outputId": "0e9e7229-94c8-4966-9e7d-5caa3a5297cb",
        "colab": {
          "base_uri": "https://localhost:8080/"
        }
      },
      "execution_count": 19,
      "outputs": [
        {
          "output_type": "execute_result",
          "data": {
            "text/plain": [
              "tensor([[1., 1., 1.],\n",
              "        [1., 1., 1.]])"
            ]
          },
          "metadata": {},
          "execution_count": 19
        }
      ]
    },
    {
      "cell_type": "code",
      "source": [
        "# Using of rand:- Returns a 2×3 tensor with random values uniformly sampled from [0, 1).\n",
        "torch.rand(2,3)"
      ],
      "metadata": {
        "id": "5Q3TPlpzXTH2",
        "outputId": "31007c25-f3ad-455f-d12f-7cb682d6c701",
        "colab": {
          "base_uri": "https://localhost:8080/"
        }
      },
      "execution_count": 20,
      "outputs": [
        {
          "output_type": "execute_result",
          "data": {
            "text/plain": [
              "tensor([[0.7118, 0.7876, 0.4183],\n",
              "        [0.9014, 0.9969, 0.7565]])"
            ]
          },
          "metadata": {},
          "execution_count": 20
        }
      ]
    },
    {
      "cell_type": "code",
      "source": [
        "# Manual Seed:- Sets the seed for generating random numbers to ensure reproducibility.\n",
        "torch.manual_seed(100)\n",
        "torch.rand(2,3)"
      ],
      "metadata": {
        "id": "u-F9ClzjXZMS",
        "outputId": "558f7ef1-7f4c-4391-e033-08b6aa9e9fdb",
        "colab": {
          "base_uri": "https://localhost:8080/"
        }
      },
      "execution_count": 21,
      "outputs": [
        {
          "output_type": "execute_result",
          "data": {
            "text/plain": [
              "tensor([[0.1117, 0.8158, 0.2626],\n",
              "        [0.4839, 0.6765, 0.7539]])"
            ]
          },
          "metadata": {},
          "execution_count": 21
        }
      ]
    },
    {
      "cell_type": "code",
      "source": [
        "# Using Tensor:-  constructs a tensor from a Python list or nested list (or NumPy array).\n",
        "torch.tensor([[1,2,3],[4,5,6]])"
      ],
      "metadata": {
        "id": "u9AAO0rJYApS",
        "outputId": "322cb37e-e5f0-482e-b902-8485ccf71322",
        "colab": {
          "base_uri": "https://localhost:8080/"
        }
      },
      "execution_count": 29,
      "outputs": [
        {
          "output_type": "execute_result",
          "data": {
            "text/plain": [
              "tensor([[1, 2, 3],\n",
              "        [4, 5, 6]])"
            ]
          },
          "metadata": {},
          "execution_count": 29
        }
      ]
    },
    {
      "cell_type": "code",
      "source": [
        "# Other ways to create a Tensor\n",
        "\n",
        "# Arange:- Creates a 1D tensor with values from 0 to 8, spaced by 2.\n",
        "print(\"Using arange:-\\n\",torch.arange(0,10,2))\n",
        "\n",
        "# Using Linspace:- Creates a 1D tensor of 10 evenly spaced values between 0 and 10 (inclusive).\n",
        "print(\"Using linspace:- \\n\",torch.linspace(0,10,10))\n",
        "\n",
        "# Using eye:- Creates a 5×5 identity matrix (diagonal = 1, others = 0).\n",
        "print(\"Using eye:- \\n\",torch.eye(5))\n",
        "\n",
        "# Using Full:- Creates a 2×3 tensor filled with the constant value 5\n",
        "print(\"Using Full:- \\n\",torch.full((2,3),5))"
      ],
      "metadata": {
        "id": "lkjtKFkRYQLR",
        "outputId": "46dd5e3d-8a4c-4dd5-ed82-6bfebf971448",
        "colab": {
          "base_uri": "https://localhost:8080/"
        }
      },
      "execution_count": 31,
      "outputs": [
        {
          "output_type": "stream",
          "name": "stdout",
          "text": [
            "Using arange:-\n",
            " tensor([0, 2, 4, 6, 8])\n",
            "Using linspace:- \n",
            " tensor([ 0.0000,  1.1111,  2.2222,  3.3333,  4.4444,  5.5556,  6.6667,  7.7778,\n",
            "         8.8889, 10.0000])\n",
            "Using eye:- \n",
            " tensor([[1., 0., 0., 0., 0.],\n",
            "        [0., 1., 0., 0., 0.],\n",
            "        [0., 0., 1., 0., 0.],\n",
            "        [0., 0., 0., 1., 0.],\n",
            "        [0., 0., 0., 0., 1.]])\n",
            "Using Full:- \n",
            " tensor([[5, 5, 5],\n",
            "        [5, 5, 5]])\n"
          ]
        }
      ]
    },
    {
      "cell_type": "markdown",
      "source": [
        "## Tensor Shapes"
      ],
      "metadata": {
        "id": "-dyURtypYiv4"
      }
    },
    {
      "cell_type": "code",
      "source": [
        "x=torch.tensor([[1,2,3],[4,5,6]])\n",
        "x"
      ],
      "metadata": {
        "id": "TADb7ew7bQWx",
        "outputId": "9a0ad3b1-c19d-453e-96ba-87366075b23a",
        "colab": {
          "base_uri": "https://localhost:8080/"
        }
      },
      "execution_count": 32,
      "outputs": [
        {
          "output_type": "execute_result",
          "data": {
            "text/plain": [
              "tensor([[1, 2, 3],\n",
              "        [4, 5, 6]])"
            ]
          },
          "metadata": {},
          "execution_count": 32
        }
      ]
    },
    {
      "cell_type": "code",
      "source": [
        "x.shape"
      ],
      "metadata": {
        "id": "MnVUvGvWbZAY",
        "outputId": "13a435bc-6bbf-4a9f-feac-7aa0e14cb239",
        "colab": {
          "base_uri": "https://localhost:8080/"
        }
      },
      "execution_count": 33,
      "outputs": [
        {
          "output_type": "execute_result",
          "data": {
            "text/plain": [
              "torch.Size([2, 3])"
            ]
          },
          "metadata": {},
          "execution_count": 33
        }
      ]
    },
    {
      "cell_type": "code",
      "source": [
        "# Using empty_like:- Creates a new tensor with the same shape and type as x, but with uninitialized (garbage) values.\n",
        "torch.empty_like(x)"
      ],
      "metadata": {
        "id": "liXwfep_bacq",
        "outputId": "220328a6-0aae-4b2f-dba8-8f777be69262",
        "colab": {
          "base_uri": "https://localhost:8080/"
        }
      },
      "execution_count": 35,
      "outputs": [
        {
          "output_type": "execute_result",
          "data": {
            "text/plain": [
              "tensor([[869983213,         5,         5],\n",
              "        [        5,         5,         5]])"
            ]
          },
          "metadata": {},
          "execution_count": 35
        }
      ]
    },
    {
      "cell_type": "code",
      "source": [
        "torch.zeros_like(x)"
      ],
      "metadata": {
        "id": "__Hn0B7tbesV",
        "outputId": "77b13566-5d96-4595-f7b4-23b2d6c9a010",
        "colab": {
          "base_uri": "https://localhost:8080/"
        }
      },
      "execution_count": 36,
      "outputs": [
        {
          "output_type": "execute_result",
          "data": {
            "text/plain": [
              "tensor([[0, 0, 0],\n",
              "        [0, 0, 0]])"
            ]
          },
          "metadata": {},
          "execution_count": 36
        }
      ]
    },
    {
      "cell_type": "code",
      "source": [
        "torch.ones_like(x)"
      ],
      "metadata": {
        "id": "0AfS8Nrvbtse",
        "outputId": "98839c69-c870-4373-93e1-67b99ce0a43d",
        "colab": {
          "base_uri": "https://localhost:8080/"
        }
      },
      "execution_count": 37,
      "outputs": [
        {
          "output_type": "execute_result",
          "data": {
            "text/plain": [
              "tensor([[1, 1, 1],\n",
              "        [1, 1, 1]])"
            ]
          },
          "metadata": {},
          "execution_count": 37
        }
      ]
    },
    {
      "cell_type": "code",
      "source": [
        "# Attempts to create a tensor with random values (uniformly in [0, 1)) matching the shape of x, but throws an error if x has integer type (like Long), because random floats cannot be stored in integer tensors.\n",
        "# Because rand generate by default float value so its give error\n",
        "torch.rand_like(x,dtype=torch.float32)\n"
      ],
      "metadata": {
        "id": "i0NMVIWIbydD",
        "outputId": "e05c1eb4-c9a9-4bcc-b7bd-5603690f5dc0",
        "colab": {
          "base_uri": "https://localhost:8080/"
        }
      },
      "execution_count": 40,
      "outputs": [
        {
          "output_type": "execute_result",
          "data": {
            "text/plain": [
              "tensor([[0.7118, 0.7876, 0.4183],\n",
              "        [0.9014, 0.9969, 0.7565]])"
            ]
          },
          "metadata": {},
          "execution_count": 40
        }
      ]
    },
    {
      "cell_type": "markdown",
      "source": [
        "## Tensor Data Types"
      ],
      "metadata": {
        "id": "CEPG2CwDb2ff"
      }
    },
    {
      "cell_type": "code",
      "source": [
        "# Find Data Type\n",
        "x.dtype"
      ],
      "metadata": {
        "id": "FrGOzKEqco-6",
        "outputId": "7b5c1f56-1448-4e18-f920-134005bf8913",
        "colab": {
          "base_uri": "https://localhost:8080/"
        }
      },
      "execution_count": 42,
      "outputs": [
        {
          "output_type": "execute_result",
          "data": {
            "text/plain": [
              "torch.int64"
            ]
          },
          "metadata": {},
          "execution_count": 42
        }
      ]
    },
    {
      "cell_type": "code",
      "source": [
        "# Assign Data Type\n",
        "torch.tensor([[1,2,3],[4,5,6]],dtype=torch.float32)"
      ],
      "metadata": {
        "id": "GuWd7WdPcvxQ",
        "outputId": "9f82e213-45b8-4630-c72a-f74a62aaa77b",
        "colab": {
          "base_uri": "https://localhost:8080/"
        }
      },
      "execution_count": 43,
      "outputs": [
        {
          "output_type": "execute_result",
          "data": {
            "text/plain": [
              "tensor([[1., 2., 3.],\n",
              "        [4., 5., 6.]])"
            ]
          },
          "metadata": {},
          "execution_count": 43
        }
      ]
    },
    {
      "cell_type": "code",
      "source": [
        "torch.tensor([1.0,2.0,3.0],dtype=torch.int32)"
      ],
      "metadata": {
        "id": "UvEPxyc7ctAe",
        "outputId": "d72666a6-9e90-4ba8-d365-5d827bdf4ffc",
        "colab": {
          "base_uri": "https://localhost:8080/"
        }
      },
      "execution_count": 45,
      "outputs": [
        {
          "output_type": "execute_result",
          "data": {
            "text/plain": [
              "tensor([1, 2, 3], dtype=torch.int32)"
            ]
          },
          "metadata": {},
          "execution_count": 45
        }
      ]
    },
    {
      "cell_type": "code",
      "source": [
        "# Using to() to change data type\n",
        "x.to(dtype=torch.float32)"
      ],
      "metadata": {
        "id": "VdlKN4uOc_s7",
        "outputId": "149bdc2f-6338-4033-8cb5-d8a0832b1caa",
        "colab": {
          "base_uri": "https://localhost:8080/"
        }
      },
      "execution_count": 48,
      "outputs": [
        {
          "output_type": "execute_result",
          "data": {
            "text/plain": [
              "tensor([[1., 2., 3.],\n",
              "        [4., 5., 6.]])"
            ]
          },
          "metadata": {},
          "execution_count": 48
        }
      ]
    },
    {
      "cell_type": "markdown",
      "source": [
        "| **Data Type**             | **Dtype**         | **Description**                                                                                                                                                                |\n",
        "|---------------------------|-------------------|--------------------------------------------------------------------------------------------------------------------------------------------------------------------------------|\n",
        "| **32-bit Floating Point** | `torch.float32`   | Standard floating-point type used for most deep learning tasks. Provides a balance between precision and memory usage.                                                         |\n",
        "| **64-bit Floating Point** | `torch.float64`   | Double-precision floating point. Useful for high-precision numerical tasks but uses more memory.                                                                               |\n",
        "| **16-bit Floating Point** | `torch.float16`   | Half-precision floating point. Commonly used in mixed-precision training to reduce memory and computational overhead on modern GPUs.                                            |\n",
        "| **BFloat16**              | `torch.bfloat16`  | Brain floating-point format with reduced precision compared to `float16`. Used in mixed-precision training, especially on TPUs.                                                |\n",
        "| **8-bit Floating Point**  | `torch.float8`    | Ultra-low-precision floating point. Used for experimental applications and extreme memory-constrained environments (less common).                                               |\n",
        "| **8-bit Integer**         | `torch.int8`      | 8-bit signed integer. Used for quantized models to save memory and computation in inference.                                                                                   |\n",
        "| **16-bit Integer**        | `torch.int16`     | 16-bit signed integer. Useful for special numerical tasks requiring intermediate precision.                                                                                    |\n",
        "| **32-bit Integer**        | `torch.int32`     | Standard signed integer type. Commonly used for indexing and general-purpose numerical tasks.                                                                                  |\n",
        "| **64-bit Integer**        | `torch.int64`     | Long integer type. Often used for large indexing arrays or for tasks involving large numbers.                                                                                  |\n",
        "| **8-bit Unsigned Integer**| `torch.uint8`     | 8-bit unsigned integer. Commonly used for image data (e.g., pixel values between 0 and 255).                                                                                    |\n",
        "| **Boolean**               | `torch.bool`      | Boolean type, stores `True` or `False` values. Often used for masks in logical operations.                                                                                      |\n",
        "| **Complex 64**            | `torch.complex64` | Complex number type with 32-bit real and 32-bit imaginary parts. Used for scientific and signal processing tasks.                                                               |\n",
        "| **Complex 128**           | `torch.complex128`| Complex number type with 64-bit real and 64-bit imaginary parts. Offers higher precision but uses more memory.                                                                 |\n",
        "| **Quantized Integer**     | `torch.qint8`     | Quantized signed 8-bit integer. Used in quantized models for efficient inference.                                                                                              |\n",
        "| **Quantized Unsigned Integer** | `torch.quint8` | Quantized unsigned 8-bit integer. Often used for quantized tensors in image-related tasks.                                                                                     |\n",
        "# **bold text**"
      ],
      "metadata": {
        "id": "gSydMdSXdW8c"
      }
    },
    {
      "cell_type": "markdown",
      "source": [
        "## Mathematical Operations"
      ],
      "metadata": {
        "id": "icJAUYq8dkdi"
      }
    },
    {
      "cell_type": "markdown",
      "source": [
        "## 1. Scalar Operation"
      ],
      "metadata": {
        "id": "QBuyx5VjeHas"
      }
    },
    {
      "cell_type": "code",
      "source": [
        "x=torch.rand(2,2)\n",
        "x"
      ],
      "metadata": {
        "id": "US7MuwjPeNUg",
        "outputId": "95a5387a-bba3-4cc3-e7ea-d34e60a400f3",
        "colab": {
          "base_uri": "https://localhost:8080/"
        }
      },
      "execution_count": 49,
      "outputs": [
        {
          "output_type": "execute_result",
          "data": {
            "text/plain": [
              "tensor([[0.2239, 0.3023],\n",
              "        [0.1784, 0.8238]])"
            ]
          },
          "metadata": {},
          "execution_count": 49
        }
      ]
    },
    {
      "cell_type": "code",
      "source": [
        "# Addition\n",
        "print(\"Adding 2 to x:-\\n\",x+2)\n",
        "\n",
        "# Substraction\n",
        "print(\"Subtract 2 to x:-\\n\",x-2)\n",
        "\n",
        "# Multiplication\n",
        "print(\"Multiply 2 to x:-\\n\",x*2)\n",
        "\n",
        "# Division\n",
        "print(\"Divide 2 to x:-\\n\",x/2)\n",
        "\n",
        "# int division\n",
        "print(\"int divide 2 to x:-\\n\",(x*100)//2)\n",
        "\n",
        "# Mod\n",
        "print(\"Mod 2 to x:-\\n\",((x*100)//2)%2)\n",
        "\n",
        "# Power\n",
        "print(\"Power 2 to x:-\\n\",x**2)\n"
      ],
      "metadata": {
        "id": "ru7umbgweQqY",
        "outputId": "52c2f513-429b-4f57-873c-c7d5a913786f",
        "colab": {
          "base_uri": "https://localhost:8080/"
        }
      },
      "execution_count": 55,
      "outputs": [
        {
          "output_type": "stream",
          "name": "stdout",
          "text": [
            "Adding 2 to x:-\n",
            " tensor([[2.2239, 2.3023],\n",
            "        [2.1784, 2.8238]])\n",
            "Subtract 2 to x:-\n",
            " tensor([[-1.7761, -1.6977],\n",
            "        [-1.8216, -1.1762]])\n",
            "Multiply 2 to x:-\n",
            " tensor([[0.4478, 0.6047],\n",
            "        [0.3568, 1.6477]])\n",
            "Divide 2 to x:-\n",
            " tensor([[0.1119, 0.1512],\n",
            "        [0.0892, 0.4119]])\n",
            "int divide 2 to x:-\n",
            " tensor([[11., 15.],\n",
            "        [ 8., 41.]])\n",
            "Mod 2 to x:-\n",
            " tensor([[1., 1.],\n",
            "        [0., 1.]])\n",
            "Power 2 to x:-\n",
            " tensor([[0.0501, 0.0914],\n",
            "        [0.0318, 0.6787]])\n"
          ]
        }
      ]
    },
    {
      "cell_type": "markdown",
      "source": [
        "## 2. Element wise Operation"
      ],
      "metadata": {
        "id": "tUFOQFsieVcW"
      }
    },
    {
      "cell_type": "code",
      "source": [
        "a=torch.rand(2,3)\n",
        "b=torch.rand(2,3)\n",
        "\n",
        "print(a)\n",
        "print(b)"
      ],
      "metadata": {
        "id": "k4uGEUUsfm0b",
        "outputId": "2e8f2240-3eda-4c55-e1be-3ef01ab0ed0b",
        "colab": {
          "base_uri": "https://localhost:8080/"
        }
      },
      "execution_count": 56,
      "outputs": [
        {
          "output_type": "stream",
          "name": "stdout",
          "text": [
            "tensor([[0.5557, 0.9770, 0.4440],\n",
            "        [0.9478, 0.7445, 0.4892]])\n",
            "tensor([[0.2426, 0.7003, 0.5277],\n",
            "        [0.2472, 0.7909, 0.4235]])\n"
          ]
        }
      ]
    },
    {
      "cell_type": "code",
      "source": [
        "# Addition of two tensor\n",
        "print(\"Adding two tensor a & b:-\\n\",a+b)\n",
        "\n",
        "# Substraction\n",
        "print(\"Subtract two tensor a & b:-\\n\",a-b)\n",
        "\n",
        "# Multiplication\n",
        "print(\"Multiply teo tensor a & b:-\\n\",a*b)\n",
        "\n",
        "# Division\n",
        "print(\"Divide two tenor a & b:-\\n\",a/b)\n",
        "\n",
        "# Mod\n",
        "print(\"Mod of two tensor a & b:-\\n\",a%b)\n",
        "\n",
        "# Power\n",
        "print(\"Power of two tensor a & b:-\\n\",a**b)\n"
      ],
      "metadata": {
        "id": "S_SIYHtZfxOp",
        "outputId": "d8458c23-2924-4603-89b3-06446e80730d",
        "colab": {
          "base_uri": "https://localhost:8080/"
        }
      },
      "execution_count": 58,
      "outputs": [
        {
          "output_type": "stream",
          "name": "stdout",
          "text": [
            "Adding two tensor a & b:-\n",
            " tensor([[0.7983, 1.6774, 0.9717],\n",
            "        [1.1950, 1.5354, 0.9127]])\n",
            "Subtract two tensor a & b:-\n",
            " tensor([[ 0.3132,  0.2767, -0.0837],\n",
            "        [ 0.7007, -0.0464,  0.0657]])\n",
            "Multiply teo tensor a & b:-\n",
            " tensor([[0.1348, 0.6842, 0.2343],\n",
            "        [0.2343, 0.5888, 0.2072]])\n",
            "Divide two tenor a & b:-\n",
            " tensor([[2.2912, 1.3951, 0.8415],\n",
            "        [3.8346, 0.9413, 1.1552]])\n",
            "Mod of two tensor a & b:-\n",
            " tensor([[0.0706, 0.2767, 0.4440],\n",
            "        [0.2063, 0.7445, 0.0657]])\n",
            "Power of two tensor a & b:-\n",
            " tensor([[0.8672, 0.9839, 0.6515],\n",
            "        [0.9868, 0.7919, 0.7388]])\n"
          ]
        }
      ]
    },
    {
      "cell_type": "code",
      "source": [
        "c=torch.tensor([1,-2,-5,6])\n",
        "c"
      ],
      "metadata": {
        "id": "2ACQlm9zgDbf",
        "outputId": "3dfb9eda-ace5-4b7c-f815-9923ef837de7",
        "colab": {
          "base_uri": "https://localhost:8080/"
        }
      },
      "execution_count": 59,
      "outputs": [
        {
          "output_type": "execute_result",
          "data": {
            "text/plain": [
              "tensor([ 1, -2, -5,  6])"
            ]
          },
          "metadata": {},
          "execution_count": 59
        }
      ]
    },
    {
      "cell_type": "code",
      "source": [
        "# abs value\n",
        "abs(c)  # Pythono built-in method\n",
        "torch.abs(c) # torch method"
      ],
      "metadata": {
        "id": "mvcpEvDlg0Ya",
        "outputId": "9c885278-6886-4973-bf16-007c4ec8316f",
        "colab": {
          "base_uri": "https://localhost:8080/"
        }
      },
      "execution_count": 62,
      "outputs": [
        {
          "output_type": "execute_result",
          "data": {
            "text/plain": [
              "tensor([1, 2, 5, 6])"
            ]
          },
          "metadata": {},
          "execution_count": 62
        }
      ]
    },
    {
      "cell_type": "code",
      "source": [
        "# convert negative number\n",
        "torch.neg(c) # negative become positive and p[ositive become negative"
      ],
      "metadata": {
        "id": "Oo0ZfFbSg5DZ",
        "outputId": "b61f9cb6-3b47-4808-9c76-334dececa503",
        "colab": {
          "base_uri": "https://localhost:8080/"
        }
      },
      "execution_count": 64,
      "outputs": [
        {
          "output_type": "execute_result",
          "data": {
            "text/plain": [
              "tensor([-1,  2,  5, -6])"
            ]
          },
          "metadata": {},
          "execution_count": 64
        }
      ]
    },
    {
      "cell_type": "code",
      "source": [
        "d=torch.tensor([1.5,2.6,3.2,4.1])\n",
        "d"
      ],
      "metadata": {
        "id": "moQgSMDahMnF",
        "outputId": "f58156e7-1e98-4cb4-aa68-a3dcfdb633dc",
        "colab": {
          "base_uri": "https://localhost:8080/"
        }
      },
      "execution_count": 70,
      "outputs": [
        {
          "output_type": "execute_result",
          "data": {
            "text/plain": [
              "tensor([1.5000, 2.6000, 3.2000, 4.1000])"
            ]
          },
          "metadata": {},
          "execution_count": 70
        }
      ]
    },
    {
      "cell_type": "code",
      "source": [
        "# round off number Rounds each element of d to the nearest integer (rounds .5 to even).\n",
        "torch.round(d)"
      ],
      "metadata": {
        "id": "5XL7OG_6hc8B",
        "outputId": "51d5d768-b724-47a8-cf26-c9e929025409",
        "colab": {
          "base_uri": "https://localhost:8080/"
        }
      },
      "execution_count": 71,
      "outputs": [
        {
          "output_type": "execute_result",
          "data": {
            "text/plain": [
              "tensor([2., 3., 3., 4.])"
            ]
          },
          "metadata": {},
          "execution_count": 71
        }
      ]
    },
    {
      "cell_type": "code",
      "source": [
        "# Ceil Rounds each element of d upward to the nearest integer.\n",
        "torch.ceil(d)"
      ],
      "metadata": {
        "id": "YtNkD5pihiAV",
        "outputId": "478ccfe4-1353-4d45-a094-57d5906fcb7f",
        "colab": {
          "base_uri": "https://localhost:8080/"
        }
      },
      "execution_count": 72,
      "outputs": [
        {
          "output_type": "execute_result",
          "data": {
            "text/plain": [
              "tensor([2., 3., 4., 5.])"
            ]
          },
          "metadata": {},
          "execution_count": 72
        }
      ]
    },
    {
      "cell_type": "code",
      "source": [
        "# floor Rounds each element of tensor d downward to the nearest integer (i.e., the largest integer ≤ the value).\n",
        "torch.floor(d)"
      ],
      "metadata": {
        "id": "4K4bxeqAhuOn",
        "outputId": "6f8bc668-026b-4050-ab66-41d1248efb1c",
        "colab": {
          "base_uri": "https://localhost:8080/"
        }
      },
      "execution_count": 74,
      "outputs": [
        {
          "output_type": "execute_result",
          "data": {
            "text/plain": [
              "tensor([1., 2., 3., 4.])"
            ]
          },
          "metadata": {},
          "execution_count": 74
        }
      ]
    },
    {
      "cell_type": "code",
      "source": [
        "# clamp Clamps all elements in tensor d to lie within the range [2, 3], replacing values below 2 with 2 and above 3 with 3.\n",
        "torch.clamp(d,min=2,max=3)"
      ],
      "metadata": {
        "id": "_niofJAdimIR",
        "outputId": "6d0550e7-acbb-4c96-aaea-e12837193865",
        "colab": {
          "base_uri": "https://localhost:8080/"
        }
      },
      "execution_count": 77,
      "outputs": [
        {
          "output_type": "execute_result",
          "data": {
            "text/plain": [
              "tensor([2.0000, 2.6000, 3.0000, 3.0000])"
            ]
          },
          "metadata": {},
          "execution_count": 77
        }
      ]
    },
    {
      "cell_type": "markdown",
      "source": [
        "## 3. Reduction Operation"
      ],
      "metadata": {
        "id": "9pAlPAFfixwV"
      }
    },
    {
      "cell_type": "code",
      "source": [
        "e=torch.randint(size=(2,3),low=0,high=10,dtype=torch.float32)\n",
        "e"
      ],
      "metadata": {
        "id": "rVaKefwvjEWH",
        "outputId": "76c738f5-75e2-410f-a79c-2a820da47dbe",
        "colab": {
          "base_uri": "https://localhost:8080/"
        }
      },
      "execution_count": 79,
      "outputs": [
        {
          "output_type": "execute_result",
          "data": {
            "text/plain": [
              "tensor([[5., 7., 5.],\n",
              "        [9., 9., 7.]])"
            ]
          },
          "metadata": {},
          "execution_count": 79
        }
      ]
    },
    {
      "cell_type": "code",
      "source": [
        "# sum\n",
        "print(\"Sum:- \\n\",torch.sum(e))\n",
        "\n",
        "# sum along column\n",
        "print(\"Sum:- \\n\",torch.sum(e,dim=0))\n",
        "\n",
        "# sum along rows\n",
        "print(\"Sum:- \\n\",torch.sum(e,dim=1))"
      ],
      "metadata": {
        "id": "UVcm8EnijSSy",
        "outputId": "0b323b24-1a96-4e5a-f144-5d641d1b6482",
        "colab": {
          "base_uri": "https://localhost:8080/"
        }
      },
      "execution_count": 84,
      "outputs": [
        {
          "output_type": "stream",
          "name": "stdout",
          "text": [
            "Sum:- \n",
            " tensor(42.)\n",
            "Sum:- \n",
            " tensor([14., 16., 12.])\n",
            "Sum:- \n",
            " tensor([17., 25.])\n"
          ]
        }
      ]
    },
    {
      "cell_type": "code",
      "source": [
        "# mean\n",
        "print('Mean:-\\n',torch.mean(e))\n",
        "\n",
        "# mean along column\n",
        "print('Mean:-\\n',torch.mean(e,dim=0))"
      ],
      "metadata": {
        "id": "9Cn1zd9mjoe7",
        "outputId": "01f72d0f-cb79-4409-c855-b11ce0d79f39",
        "colab": {
          "base_uri": "https://localhost:8080/"
        }
      },
      "execution_count": 86,
      "outputs": [
        {
          "output_type": "stream",
          "name": "stdout",
          "text": [
            "Mean:-\n",
            " tensor(7.)\n",
            "Mean:-\n",
            " tensor([7., 8., 6.])\n"
          ]
        }
      ]
    },
    {
      "cell_type": "code",
      "source": [
        "# median\n",
        "torch.median(e)"
      ],
      "metadata": {
        "id": "iDecRCCCkN4z",
        "outputId": "987bf63e-c567-4069-b5c1-637bb11c34b1",
        "colab": {
          "base_uri": "https://localhost:8080/"
        }
      },
      "execution_count": 87,
      "outputs": [
        {
          "output_type": "execute_result",
          "data": {
            "text/plain": [
              "tensor(7.)"
            ]
          },
          "metadata": {},
          "execution_count": 87
        }
      ]
    },
    {
      "cell_type": "code",
      "source": [
        "# Max\n",
        "print(\"Max:-\\n\",torch.max(e))\n",
        "\n",
        "# Min\n",
        "print('Min:-\\n',torch.min(e))"
      ],
      "metadata": {
        "id": "eQUj42vDkeD7",
        "outputId": "31bd9ef9-05ec-4e4b-ce7e-61fbb253ead0",
        "colab": {
          "base_uri": "https://localhost:8080/"
        }
      },
      "execution_count": 88,
      "outputs": [
        {
          "output_type": "stream",
          "name": "stdout",
          "text": [
            "Max:-\n",
            " tensor(9.)\n",
            "Min:-\n",
            " tensor(5.)\n"
          ]
        }
      ]
    },
    {
      "cell_type": "code",
      "source": [
        "# Product\n",
        "torch.prod(e)"
      ],
      "metadata": {
        "id": "P_phHLyUks2b",
        "outputId": "2263248f-db99-4c9d-9976-77fddb1b5a38",
        "colab": {
          "base_uri": "https://localhost:8080/"
        }
      },
      "execution_count": 90,
      "outputs": [
        {
          "output_type": "execute_result",
          "data": {
            "text/plain": [
              "tensor(99225.)"
            ]
          },
          "metadata": {},
          "execution_count": 90
        }
      ]
    },
    {
      "cell_type": "code",
      "source": [
        "# Standard Deviations\n",
        "torch.std(e)"
      ],
      "metadata": {
        "id": "-vLKtDDAk1Bq",
        "outputId": "49d2ef94-f3c3-49d4-fa5f-dd68873173ee",
        "colab": {
          "base_uri": "https://localhost:8080/"
        }
      },
      "execution_count": 91,
      "outputs": [
        {
          "output_type": "execute_result",
          "data": {
            "text/plain": [
              "tensor(1.7889)"
            ]
          },
          "metadata": {},
          "execution_count": 91
        }
      ]
    },
    {
      "cell_type": "code",
      "source": [
        "# Variance\n",
        "torch.var(e)"
      ],
      "metadata": {
        "id": "2asOPkfblDno",
        "outputId": "ecd9966d-bddd-45b9-ea5c-11009eb6963f",
        "colab": {
          "base_uri": "https://localhost:8080/"
        }
      },
      "execution_count": 94,
      "outputs": [
        {
          "output_type": "execute_result",
          "data": {
            "text/plain": [
              "tensor(3.2000)"
            ]
          },
          "metadata": {},
          "execution_count": 94
        }
      ]
    },
    {
      "cell_type": "code",
      "source": [
        "# argmax give position of maximum value\n",
        "torch.argmax(e)"
      ],
      "metadata": {
        "id": "kYcFp9PclJEv",
        "outputId": "022a1407-c177-4ff7-92b5-f966b4ec0dc6",
        "colab": {
          "base_uri": "https://localhost:8080/"
        }
      },
      "execution_count": 95,
      "outputs": [
        {
          "output_type": "execute_result",
          "data": {
            "text/plain": [
              "tensor(3)"
            ]
          },
          "metadata": {},
          "execution_count": 95
        }
      ]
    },
    {
      "cell_type": "code",
      "source": [
        "# argmin give position of min value\n",
        "torch.argmin(e)"
      ],
      "metadata": {
        "id": "eodBkI9zlRXW",
        "outputId": "e29b0c67-ecfc-4647-970a-bbe13bad17a3",
        "colab": {
          "base_uri": "https://localhost:8080/"
        }
      },
      "execution_count": 96,
      "outputs": [
        {
          "output_type": "execute_result",
          "data": {
            "text/plain": [
              "tensor(0)"
            ]
          },
          "metadata": {},
          "execution_count": 96
        }
      ]
    },
    {
      "cell_type": "markdown",
      "source": [
        "## 4. Matrix Operations"
      ],
      "metadata": {
        "id": "SZ2mQQRUlZSb"
      }
    },
    {
      "cell_type": "code",
      "source": [
        "f=torch.randint(size=(2,3),low=0,high=10,dtype=torch.float32)\n",
        "g=torch.randint(size=(3,2),low=0,high=10,dtype=torch.float32)\n",
        "\n",
        "print(f)\n",
        "print(g)"
      ],
      "metadata": {
        "id": "qChT3rPNlj_3",
        "outputId": "188df469-0a79-4c36-86a1-dda73f10d57e",
        "colab": {
          "base_uri": "https://localhost:8080/"
        }
      },
      "execution_count": 101,
      "outputs": [
        {
          "output_type": "stream",
          "name": "stdout",
          "text": [
            "tensor([[8., 3., 3.],\n",
            "        [5., 0., 6.]])\n",
            "tensor([[4., 0.],\n",
            "        [8., 4.],\n",
            "        [7., 2.]])\n"
          ]
        }
      ]
    },
    {
      "cell_type": "code",
      "source": [
        "# Matrix Multiplication\n",
        "torch.matmul(f,g)"
      ],
      "metadata": {
        "id": "i2sKS7vYlrdv",
        "outputId": "87c0f112-6d42-483f-8567-112e3dbe95e7",
        "colab": {
          "base_uri": "https://localhost:8080/"
        }
      },
      "execution_count": 102,
      "outputs": [
        {
          "output_type": "execute_result",
          "data": {
            "text/plain": [
              "tensor([[77., 18.],\n",
              "        [62., 12.]])"
            ]
          },
          "metadata": {},
          "execution_count": 102
        }
      ]
    },
    {
      "cell_type": "code",
      "source": [
        "vector1=torch.tensor([1,2])\n",
        "vector2=torch.tensor([3,4])\n",
        "\n",
        "# dot product\n",
        "torch.dot(vector1,vector2)"
      ],
      "metadata": {
        "id": "biD_nH4AlxzG",
        "outputId": "4be6c3e3-da84-47df-e672-3588ca53506a",
        "colab": {
          "base_uri": "https://localhost:8080/"
        }
      },
      "execution_count": 103,
      "outputs": [
        {
          "output_type": "execute_result",
          "data": {
            "text/plain": [
              "tensor(11)"
            ]
          },
          "metadata": {},
          "execution_count": 103
        }
      ]
    },
    {
      "cell_type": "code",
      "source": [
        "# Transpose Returns a new tensor with dimensions 0 and 1 swapped (i.e., transposes rows and columns of 2D tensor f).\n",
        "print(f)\n",
        "torch.transpose(f,1,0)"
      ],
      "metadata": {
        "id": "0Jc37J8YmURS",
        "outputId": "03124e11-2150-4c19-ae86-5a5ab4416ee6",
        "colab": {
          "base_uri": "https://localhost:8080/"
        }
      },
      "execution_count": 110,
      "outputs": [
        {
          "output_type": "stream",
          "name": "stdout",
          "text": [
            "tensor([[8., 3., 3.],\n",
            "        [5., 0., 6.]])\n"
          ]
        },
        {
          "output_type": "execute_result",
          "data": {
            "text/plain": [
              "tensor([[8., 5.],\n",
              "        [3., 0.],\n",
              "        [3., 6.]])"
            ]
          },
          "metadata": {},
          "execution_count": 110
        }
      ]
    },
    {
      "cell_type": "code",
      "source": [
        "h=torch.randint(size=(3,3),low=0,high=10,dtype=torch.float32)\n",
        "h"
      ],
      "metadata": {
        "id": "XuZFsSvnnNWN",
        "outputId": "3a8043ba-704e-414d-9fb7-4bc28b876298",
        "colab": {
          "base_uri": "https://localhost:8080/"
        }
      },
      "execution_count": 113,
      "outputs": [
        {
          "output_type": "execute_result",
          "data": {
            "text/plain": [
              "tensor([[3., 8., 5.],\n",
              "        [6., 2., 9.],\n",
              "        [5., 0., 4.]])"
            ]
          },
          "metadata": {},
          "execution_count": 113
        }
      ]
    },
    {
      "cell_type": "code",
      "source": [
        "# Determinant\n",
        "torch.det(h)"
      ],
      "metadata": {
        "id": "PgE3lSyfmzTu",
        "outputId": "3b880663-8e0b-4d28-bd5c-2fc6902c441a",
        "colab": {
          "base_uri": "https://localhost:8080/"
        }
      },
      "execution_count": 114,
      "outputs": [
        {
          "output_type": "execute_result",
          "data": {
            "text/plain": [
              "tensor(142.)"
            ]
          },
          "metadata": {},
          "execution_count": 114
        }
      ]
    },
    {
      "cell_type": "code",
      "source": [
        "# Inverse Returns the inverse of a square, non-singular matrix h (i.e., a matrix such that h × h⁻¹ = I).\n",
        "torch.inverse(h)"
      ],
      "metadata": {
        "id": "QNBJ6iignbMV",
        "outputId": "7b3dc62d-355b-42f2-8c29-530eb8f42799",
        "colab": {
          "base_uri": "https://localhost:8080/"
        }
      },
      "execution_count": 115,
      "outputs": [
        {
          "output_type": "execute_result",
          "data": {
            "text/plain": [
              "tensor([[ 0.0563, -0.2254,  0.4366],\n",
              "        [ 0.1479, -0.0915,  0.0211],\n",
              "        [-0.0704,  0.2817, -0.2958]])"
            ]
          },
          "metadata": {},
          "execution_count": 115
        }
      ]
    },
    {
      "cell_type": "markdown",
      "source": [
        "## 5. Comparision Operations"
      ],
      "metadata": {
        "id": "O7vN7ePtoDPw"
      }
    },
    {
      "cell_type": "code",
      "source": [
        "i=torch.randint(size=(2,3),low=0,high=10,dtype=torch.float32)\n",
        "j=torch.randint(size=(2,3),low=0,high=10,dtype=torch.float32)\n",
        "\n",
        "print(i)\n",
        "print(j)"
      ],
      "metadata": {
        "id": "sGVFW39nozPb",
        "outputId": "dba4c0a8-bf40-4bd3-8bb6-ecc1b4d54fa6",
        "colab": {
          "base_uri": "https://localhost:8080/"
        }
      },
      "execution_count": 116,
      "outputs": [
        {
          "output_type": "stream",
          "name": "stdout",
          "text": [
            "tensor([[2., 7., 1.],\n",
            "        [1., 5., 4.]])\n",
            "tensor([[4., 1., 1.],\n",
            "        [2., 4., 7.]])\n"
          ]
        }
      ]
    },
    {
      "cell_type": "code",
      "source": [
        "# greater than\n",
        "print(i > j)\n",
        "# less than\n",
        "print(i < j)\n",
        "# equal to\n",
        "print(i == j)\n",
        "# not equal to\n",
        "print(i != j)\n",
        "# greater than equal to\n",
        "print(i<=j)\n",
        "# less than equal to\n",
        "print(i>=j)"
      ],
      "metadata": {
        "id": "pde-A5gRo2wa",
        "outputId": "65c5ad1f-34fc-4ce3-9628-a33cda04d926",
        "colab": {
          "base_uri": "https://localhost:8080/"
        }
      },
      "execution_count": 118,
      "outputs": [
        {
          "output_type": "stream",
          "name": "stdout",
          "text": [
            "tensor([[False,  True, False],\n",
            "        [False,  True, False]])\n",
            "tensor([[ True, False, False],\n",
            "        [ True, False,  True]])\n",
            "tensor([[False, False,  True],\n",
            "        [False, False, False]])\n",
            "tensor([[ True,  True, False],\n",
            "        [ True,  True,  True]])\n",
            "tensor([[ True, False,  True],\n",
            "        [ True, False,  True]])\n",
            "tensor([[False,  True,  True],\n",
            "        [False,  True, False]])\n"
          ]
        }
      ]
    },
    {
      "cell_type": "markdown",
      "source": [
        "## 6. Special Function"
      ],
      "metadata": {
        "id": "boRN7Koho7ju"
      }
    },
    {
      "cell_type": "code",
      "source": [
        "k=torch.randint(size=(2,3),low=0,high=10,dtype=torch.float32)\n",
        "k"
      ],
      "metadata": {
        "id": "dFrJD5-UpROn",
        "outputId": "26f58411-200f-4a09-ac28-899f9e8c22f6",
        "colab": {
          "base_uri": "https://localhost:8080/"
        }
      },
      "execution_count": 122,
      "outputs": [
        {
          "output_type": "execute_result",
          "data": {
            "text/plain": [
              "tensor([[2., 5., 6.],\n",
              "        [1., 4., 5.]])"
            ]
          },
          "metadata": {},
          "execution_count": 122
        }
      ]
    },
    {
      "cell_type": "code",
      "source": [
        "# Log\n",
        "torch.log(k)"
      ],
      "metadata": {
        "id": "CB_hcADypV2R",
        "outputId": "22aeabab-5bcc-4977-f399-5f34b3defc26",
        "colab": {
          "base_uri": "https://localhost:8080/"
        }
      },
      "execution_count": 123,
      "outputs": [
        {
          "output_type": "execute_result",
          "data": {
            "text/plain": [
              "tensor([[0.6931, 1.6094, 1.7918],\n",
              "        [0.0000, 1.3863, 1.6094]])"
            ]
          },
          "metadata": {},
          "execution_count": 123
        }
      ]
    },
    {
      "cell_type": "code",
      "source": [
        "# Exp\n",
        "torch.exp(k)"
      ],
      "metadata": {
        "id": "jZWIVoUzpiB3",
        "outputId": "167caf4a-84f4-4065-c761-acdc5119096a",
        "colab": {
          "base_uri": "https://localhost:8080/"
        }
      },
      "execution_count": 124,
      "outputs": [
        {
          "output_type": "execute_result",
          "data": {
            "text/plain": [
              "tensor([[  7.3891, 148.4132, 403.4288],\n",
              "        [  2.7183,  54.5981, 148.4132]])"
            ]
          },
          "metadata": {},
          "execution_count": 124
        }
      ]
    },
    {
      "cell_type": "code",
      "source": [
        "# SQRT\n",
        "torch.sqrt(k)"
      ],
      "metadata": {
        "id": "PwadN4sLplph",
        "outputId": "a66cdc2e-b45f-4e0d-b758-9ad29e865a65",
        "colab": {
          "base_uri": "https://localhost:8080/"
        }
      },
      "execution_count": 125,
      "outputs": [
        {
          "output_type": "execute_result",
          "data": {
            "text/plain": [
              "tensor([[1.4142, 2.2361, 2.4495],\n",
              "        [1.0000, 2.0000, 2.2361]])"
            ]
          },
          "metadata": {},
          "execution_count": 125
        }
      ]
    },
    {
      "cell_type": "code",
      "source": [
        "# Sigmoid\n",
        "torch.sigmoid(k)"
      ],
      "metadata": {
        "id": "JFV_sV95ppRM",
        "outputId": "7e138d91-68fc-4532-e23a-407a946a2adf",
        "colab": {
          "base_uri": "https://localhost:8080/"
        }
      },
      "execution_count": 126,
      "outputs": [
        {
          "output_type": "execute_result",
          "data": {
            "text/plain": [
              "tensor([[0.8808, 0.9933, 0.9975],\n",
              "        [0.7311, 0.9820, 0.9933]])"
            ]
          },
          "metadata": {},
          "execution_count": 126
        }
      ]
    },
    {
      "cell_type": "code",
      "source": [
        "# Softmax Applies the softmax function along dimension 0, turning values into probabilities that sum to 1 along that dimension.\n",
        "torch.softmax(k,dim=0)"
      ],
      "metadata": {
        "id": "Q_g58e31ptE_",
        "outputId": "a78e9f89-1495-470d-f971-b36f58c4988e",
        "colab": {
          "base_uri": "https://localhost:8080/"
        }
      },
      "execution_count": 129,
      "outputs": [
        {
          "output_type": "execute_result",
          "data": {
            "text/plain": [
              "tensor([[0.7311, 0.7311, 0.7311],\n",
              "        [0.2689, 0.2689, 0.2689]])"
            ]
          },
          "metadata": {},
          "execution_count": 129
        }
      ]
    },
    {
      "cell_type": "code",
      "source": [
        "# Relu\n",
        "torch.relu(k)"
      ],
      "metadata": {
        "id": "u0vZArCCpzPR",
        "outputId": "5e827640-c1b5-48e6-8f1f-cc9708b02696",
        "colab": {
          "base_uri": "https://localhost:8080/"
        }
      },
      "execution_count": 130,
      "outputs": [
        {
          "output_type": "execute_result",
          "data": {
            "text/plain": [
              "tensor([[2., 5., 6.],\n",
              "        [1., 4., 5.]])"
            ]
          },
          "metadata": {},
          "execution_count": 130
        }
      ]
    },
    {
      "cell_type": "markdown",
      "source": [
        "## 7. Inplace Operations."
      ],
      "metadata": {
        "id": "tXSQxyt4qIw2"
      }
    },
    {
      "cell_type": "code",
      "source": [
        "m=torch.rand(2,3)\n",
        "n=torch.rand(2,3)\n",
        "print(m)\n",
        "print(n)"
      ],
      "metadata": {
        "id": "5A8bROo_qPHa",
        "outputId": "f767454b-b373-46b6-81f8-eaecff615dd4",
        "colab": {
          "base_uri": "https://localhost:8080/"
        }
      },
      "execution_count": 131,
      "outputs": [
        {
          "output_type": "stream",
          "name": "stdout",
          "text": [
            "tensor([[0.9157, 0.3079, 0.6269],\n",
            "        [0.8277, 0.6594, 0.0887]])\n",
            "tensor([[0.4890, 0.5887, 0.7340],\n",
            "        [0.8497, 0.9112, 0.4847]])\n"
          ]
        }
      ]
    },
    {
      "cell_type": "code",
      "source": [
        "# # Performs in-place addition of tensor n to tensor m, modifying m directly without creating a new tensor.\n",
        "\n",
        "# 🔁 Difference:\n",
        "# m.add(n) → returns a new tensor\n",
        "# m.add_(n) → updates m in-place\n",
        "m.add_(n)"
      ],
      "metadata": {
        "id": "3OOJzukNqYO9",
        "outputId": "7bc5ba53-c08b-486f-fca8-2e6e68a80bbe",
        "colab": {
          "base_uri": "https://localhost:8080/"
        }
      },
      "execution_count": 136,
      "outputs": [
        {
          "output_type": "execute_result",
          "data": {
            "text/plain": [
              "tensor([[2.3826, 2.0741, 2.8290],\n",
              "        [3.3768, 3.3929, 1.5429]])"
            ]
          },
          "metadata": {},
          "execution_count": 136
        }
      ]
    },
    {
      "cell_type": "code",
      "source": [
        "m"
      ],
      "metadata": {
        "id": "b3K5gRYnqa2n",
        "outputId": "ab863470-14ab-4f6c-cd9a-187f30f8327f",
        "colab": {
          "base_uri": "https://localhost:8080/"
        }
      },
      "execution_count": 134,
      "outputs": [
        {
          "output_type": "execute_result",
          "data": {
            "text/plain": [
              "tensor([[1.8937, 1.4854, 2.0950],\n",
              "        [2.5271, 2.4817, 1.0582]])"
            ]
          },
          "metadata": {},
          "execution_count": 134
        }
      ]
    },
    {
      "cell_type": "code",
      "source": [
        "n"
      ],
      "metadata": {
        "id": "HLzuk4Opqk97",
        "outputId": "414c4e9e-1e82-4b48-a2c1-1a695468173f",
        "colab": {
          "base_uri": "https://localhost:8080/"
        }
      },
      "execution_count": 135,
      "outputs": [
        {
          "output_type": "execute_result",
          "data": {
            "text/plain": [
              "tensor([[0.4890, 0.5887, 0.7340],\n",
              "        [0.8497, 0.9112, 0.4847]])"
            ]
          },
          "metadata": {},
          "execution_count": 135
        }
      ]
    },
    {
      "cell_type": "markdown",
      "source": [
        "## 8. Copying a Tensor"
      ],
      "metadata": {
        "id": "0KxEWuggqmXm"
      }
    },
    {
      "cell_type": "markdown",
      "source": [
        "# x.clone(): Creates a new, independent copy of the tensor with separate memory.\n",
        "\n",
        "# y = x: Only creates a reference to the same tensor; changing y also changes x."
      ],
      "metadata": {
        "id": "fsLudKvjrY8v"
      }
    },
    {
      "cell_type": "code",
      "source": [
        "a=torch.rand(2,3)\n",
        "a"
      ],
      "metadata": {
        "id": "3kFzC3BQq-ai",
        "outputId": "70695880-7c64-4a69-e328-895af838bd9c",
        "colab": {
          "base_uri": "https://localhost:8080/"
        }
      },
      "execution_count": 137,
      "outputs": [
        {
          "output_type": "execute_result",
          "data": {
            "text/plain": [
              "tensor([[0.9436, 0.3904, 0.2499],\n",
              "        [0.3206, 0.9753, 0.7582]])"
            ]
          },
          "metadata": {},
          "execution_count": 137
        }
      ]
    },
    {
      "cell_type": "code",
      "source": [
        "b=a"
      ],
      "metadata": {
        "id": "OmZ-SwpsrBxs"
      },
      "execution_count": 138,
      "outputs": []
    },
    {
      "cell_type": "code",
      "source": [
        "b"
      ],
      "metadata": {
        "id": "Q-S0ukFWrC7g",
        "outputId": "f883f23b-1b48-4527-a771-e2eb121ab00e",
        "colab": {
          "base_uri": "https://localhost:8080/"
        }
      },
      "execution_count": 139,
      "outputs": [
        {
          "output_type": "execute_result",
          "data": {
            "text/plain": [
              "tensor([[0.9436, 0.3904, 0.2499],\n",
              "        [0.3206, 0.9753, 0.7582]])"
            ]
          },
          "metadata": {},
          "execution_count": 139
        }
      ]
    },
    {
      "cell_type": "code",
      "source": [
        "a[0][0]=7\n",
        "a"
      ],
      "metadata": {
        "id": "-9oF4nzQrDbB",
        "outputId": "8d75a942-8dbc-4aba-e450-b5b71b69f984",
        "colab": {
          "base_uri": "https://localhost:8080/"
        }
      },
      "execution_count": 141,
      "outputs": [
        {
          "output_type": "execute_result",
          "data": {
            "text/plain": [
              "tensor([[7.0000, 0.3904, 0.2499],\n",
              "        [0.3206, 0.9753, 0.7582]])"
            ]
          },
          "metadata": {},
          "execution_count": 141
        }
      ]
    },
    {
      "cell_type": "code",
      "source": [
        "b"
      ],
      "metadata": {
        "id": "WcnCsFL7rHFC",
        "outputId": "71f07bdc-ae8a-4eb2-9260-7f98e8d5eabb",
        "colab": {
          "base_uri": "https://localhost:8080/"
        }
      },
      "execution_count": 142,
      "outputs": [
        {
          "output_type": "execute_result",
          "data": {
            "text/plain": [
              "tensor([[7.0000, 0.3904, 0.2499],\n",
              "        [0.3206, 0.9753, 0.7582]])"
            ]
          },
          "metadata": {},
          "execution_count": 142
        }
      ]
    },
    {
      "cell_type": "code",
      "source": [
        "id(a)"
      ],
      "metadata": {
        "id": "o4ztsS-GrJVJ",
        "outputId": "ecac03b5-f97d-4938-f96d-195f0bcf4d30",
        "colab": {
          "base_uri": "https://localhost:8080/"
        }
      },
      "execution_count": 143,
      "outputs": [
        {
          "output_type": "execute_result",
          "data": {
            "text/plain": [
              "140049279622736"
            ]
          },
          "metadata": {},
          "execution_count": 143
        }
      ]
    },
    {
      "cell_type": "code",
      "source": [
        "id(b)"
      ],
      "metadata": {
        "id": "IiSKbdaLrLP5",
        "outputId": "81efa0d7-00ac-4eb2-c89c-5a0e48342031",
        "colab": {
          "base_uri": "https://localhost:8080/"
        }
      },
      "execution_count": 144,
      "outputs": [
        {
          "output_type": "execute_result",
          "data": {
            "text/plain": [
              "140049279622736"
            ]
          },
          "metadata": {},
          "execution_count": 144
        }
      ]
    },
    {
      "cell_type": "code",
      "source": [
        "c=a.clone()\n",
        "c"
      ],
      "metadata": {
        "id": "7Ec6s13ErMRl",
        "outputId": "d9bbc98d-ff6a-440d-8c49-fbd571dd3f51",
        "colab": {
          "base_uri": "https://localhost:8080/"
        }
      },
      "execution_count": 145,
      "outputs": [
        {
          "output_type": "execute_result",
          "data": {
            "text/plain": [
              "tensor([[7.0000, 0.3904, 0.2499],\n",
              "        [0.3206, 0.9753, 0.7582]])"
            ]
          },
          "metadata": {},
          "execution_count": 145
        }
      ]
    },
    {
      "cell_type": "code",
      "source": [
        "a[0][0]=12\n",
        "a"
      ],
      "metadata": {
        "id": "N4esuwyVrPgZ",
        "outputId": "af800061-b03f-44fd-97e8-424c1698914c",
        "colab": {
          "base_uri": "https://localhost:8080/"
        }
      },
      "execution_count": 147,
      "outputs": [
        {
          "output_type": "execute_result",
          "data": {
            "text/plain": [
              "tensor([[12.0000,  0.3904,  0.2499],\n",
              "        [ 0.3206,  0.9753,  0.7582]])"
            ]
          },
          "metadata": {},
          "execution_count": 147
        }
      ]
    },
    {
      "cell_type": "code",
      "source": [
        "c"
      ],
      "metadata": {
        "id": "qfWIIZvKrUMt",
        "outputId": "caffb8e5-6671-4bc4-ab15-9d28a94e5e07",
        "colab": {
          "base_uri": "https://localhost:8080/"
        }
      },
      "execution_count": 148,
      "outputs": [
        {
          "output_type": "execute_result",
          "data": {
            "text/plain": [
              "tensor([[7.0000, 0.3904, 0.2499],\n",
              "        [0.3206, 0.9753, 0.7582]])"
            ]
          },
          "metadata": {},
          "execution_count": 148
        }
      ]
    },
    {
      "cell_type": "code",
      "source": [
        "id(a)"
      ],
      "metadata": {
        "id": "RR_eoW4XrVsk",
        "outputId": "19d64ddf-ac28-4662-9d09-14ed7f3be54c",
        "colab": {
          "base_uri": "https://localhost:8080/"
        }
      },
      "execution_count": 149,
      "outputs": [
        {
          "output_type": "execute_result",
          "data": {
            "text/plain": [
              "140049279622736"
            ]
          },
          "metadata": {},
          "execution_count": 149
        }
      ]
    },
    {
      "cell_type": "code",
      "source": [
        "id(c)"
      ],
      "metadata": {
        "id": "nxPkU67GrX_e",
        "outputId": "2746d52d-0860-42cb-e76c-d62bc12a1060",
        "colab": {
          "base_uri": "https://localhost:8080/"
        }
      },
      "execution_count": 150,
      "outputs": [
        {
          "output_type": "execute_result",
          "data": {
            "text/plain": [
              "140054071244464"
            ]
          },
          "metadata": {},
          "execution_count": 150
        }
      ]
    },
    {
      "cell_type": "code",
      "source": [],
      "metadata": {
        "id": "7GMrJJ9Zri8R"
      },
      "execution_count": null,
      "outputs": []
    }
  ],
  "metadata": {
    "colab": {
      "name": "Welcome To Colab",
      "provenance": [],
      "gpuType": "T4"
    },
    "kernelspec": {
      "display_name": "Python 3",
      "name": "python3"
    },
    "accelerator": "GPU"
  },
  "nbformat": 4,
  "nbformat_minor": 0
}