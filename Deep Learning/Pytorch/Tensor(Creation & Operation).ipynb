{
 "cells": [
  {
   "cell_type": "code",
   "execution_count": 4,
   "metadata": {
    "colab": {
     "base_uri": "https://localhost:8080/"
    },
    "id": "5xfiuJmiUQ4R",
    "outputId": "4c09c2f0-688b-4bdc-c824-2e5cbf43d2d8"
   },
   "outputs": [
    {
     "name": "stdout",
     "output_type": "stream",
     "text": [
      "2.7.1+cpu\n"
     ]
    }
   ],
   "source": [
    "import torch\n",
    "print((torch.__version__))"
   ]
  },
  {
   "cell_type": "code",
   "execution_count": 6,
   "metadata": {
    "colab": {
     "base_uri": "https://localhost:8080/"
    },
    "id": "MjVF2REjUUDD",
    "outputId": "3ac69759-7ee4-4922-e2c0-6159e5a9f83a"
   },
   "outputs": [
    {
     "name": "stdout",
     "output_type": "stream",
     "text": [
      "GPU is not available\n"
     ]
    }
   ],
   "source": [
    "if torch.cuda.is_available():\n",
    "  print(\"GPU is available\")\n",
    "  print(f\"Using GPU: {torch.cuda.get_device_name(0)}\")\n",
    "else:\n",
    "  print(\"GPU is not available\")"
   ]
  },
  {
   "cell_type": "markdown",
   "metadata": {
    "id": "BOaBLKVoVgDf"
   },
   "source": [
    "## Creating a Tensor."
   ]
  },
  {
   "cell_type": "code",
   "execution_count": 9,
   "metadata": {
    "colab": {
     "base_uri": "https://localhost:8080/"
    },
    "id": "aFmLtDD-VoaG",
    "outputId": "d4385da6-47a9-489a-92ab-44a0475eb2dd"
   },
   "outputs": [
    {
     "data": {
      "text/plain": [
       "tensor([[0., 0., 0.],\n",
       "        [0., 0., 0.]])"
      ]
     },
     "execution_count": 9,
     "metadata": {},
     "output_type": "execute_result"
    }
   ],
   "source": [
    "# Using empty:-  returns a tensor of the specified shape without initializing its values. The values in the returned tensor are whatever happens to already exist at that memory location (i.e., random \"garbage\" values).\n",
    "a=torch.empty(2,3)\n",
    "a"
   ]
  },
  {
   "cell_type": "code",
   "execution_count": 11,
   "metadata": {
    "colab": {
     "base_uri": "https://localhost:8080/"
    },
    "id": "lCvcoyMWW0rh",
    "outputId": "bb52b998-3fa8-4537-b92a-da6a7423cb90"
   },
   "outputs": [
    {
     "data": {
      "text/plain": [
       "torch.Tensor"
      ]
     },
     "execution_count": 11,
     "metadata": {},
     "output_type": "execute_result"
    }
   ],
   "source": [
    "# Check type\n",
    "type(a)"
   ]
  },
  {
   "cell_type": "code",
   "execution_count": 13,
   "metadata": {
    "colab": {
     "base_uri": "https://localhost:8080/"
    },
    "id": "e-fJclHqW550",
    "outputId": "b73668d3-6c83-479b-d540-6c16b33bda0e"
   },
   "outputs": [
    {
     "data": {
      "text/plain": [
       "tensor([[0., 0., 0.],\n",
       "        [0., 0., 0.]])"
      ]
     },
     "execution_count": 13,
     "metadata": {},
     "output_type": "execute_result"
    }
   ],
   "source": [
    "# Using Zeros:- All values set to 0\n",
    "torch.zeros(2,3)"
   ]
  },
  {
   "cell_type": "code",
   "execution_count": 15,
   "metadata": {
    "colab": {
     "base_uri": "https://localhost:8080/"
    },
    "id": "fxwF3IRkXOW4",
    "outputId": "0e9e7229-94c8-4966-9e7d-5caa3a5297cb"
   },
   "outputs": [
    {
     "data": {
      "text/plain": [
       "tensor([[1., 1., 1.],\n",
       "        [1., 1., 1.]])"
      ]
     },
     "execution_count": 15,
     "metadata": {},
     "output_type": "execute_result"
    }
   ],
   "source": [
    "# Using Ones:- All values set to 1\n",
    "torch.ones(2,3)"
   ]
  },
  {
   "cell_type": "code",
   "execution_count": 23,
   "metadata": {
    "colab": {
     "base_uri": "https://localhost:8080/"
    },
    "id": "5Q3TPlpzXTH2",
    "outputId": "31007c25-f3ad-455f-d12f-7cb682d6c701"
   },
   "outputs": [
    {
     "name": "stdout",
     "output_type": "stream",
     "text": [
      "tensor([[0.1545, 0.2734, 0.2570],\n",
      "        [0.2848, 0.7242, 0.0579]])\n"
     ]
    }
   ],
   "source": [
    "# Using of rand:- Returns a 2×3 tensor with random values uniformly sampled from [0, 1).\n",
    "print(torch.rand(2,3))"
   ]
  },
  {
   "cell_type": "code",
   "execution_count": 28,
   "metadata": {},
   "outputs": [
    {
     "data": {
      "text/plain": [
       "tensor([0.8054])"
      ]
     },
     "execution_count": 28,
     "metadata": {},
     "output_type": "execute_result"
    }
   ],
   "source": [
    "torch.rand(1)"
   ]
  },
  {
   "cell_type": "code",
   "execution_count": 21,
   "metadata": {
    "colab": {
     "base_uri": "https://localhost:8080/"
    },
    "id": "u-F9ClzjXZMS",
    "outputId": "558f7ef1-7f4c-4391-e033-08b6aa9e9fdb"
   },
   "outputs": [
    {
     "data": {
      "text/plain": [
       "tensor([[0.1117, 0.8158, 0.2626],\n",
       "        [0.4839, 0.6765, 0.7539]])"
      ]
     },
     "execution_count": 21,
     "metadata": {},
     "output_type": "execute_result"
    }
   ],
   "source": [
    "# Manual Seed:- Sets the seed for generating random numbers to ensure reproducibility.\n",
    "torch.manual_seed(100)\n",
    "torch.rand(2,3)"
   ]
  },
  {
   "cell_type": "code",
   "execution_count": 29,
   "metadata": {
    "colab": {
     "base_uri": "https://localhost:8080/"
    },
    "id": "u9AAO0rJYApS",
    "outputId": "322cb37e-e5f0-482e-b902-8485ccf71322"
   },
   "outputs": [
    {
     "data": {
      "text/plain": [
       "tensor([[1, 2, 3],\n",
       "        [4, 5, 6]])"
      ]
     },
     "execution_count": 29,
     "metadata": {},
     "output_type": "execute_result"
    }
   ],
   "source": [
    "# Using Tensor:-  constructs a tensor from a Python list or nested list (or NumPy array).\n",
    "torch.tensor([[1,2,3],[4,5,6]])"
   ]
  },
  {
   "cell_type": "code",
   "execution_count": 31,
   "metadata": {
    "colab": {
     "base_uri": "https://localhost:8080/"
    },
    "id": "lkjtKFkRYQLR",
    "outputId": "46dd5e3d-8a4c-4dd5-ed82-6bfebf971448"
   },
   "outputs": [
    {
     "name": "stdout",
     "output_type": "stream",
     "text": [
      "Using arange:-\n",
      " tensor([0, 2, 4, 6, 8])\n",
      "Using linspace:- \n",
      " tensor([ 0.0000,  1.1111,  2.2222,  3.3333,  4.4444,  5.5556,  6.6667,  7.7778,\n",
      "         8.8889, 10.0000])\n",
      "Using eye:- \n",
      " tensor([[1., 0., 0., 0., 0.],\n",
      "        [0., 1., 0., 0., 0.],\n",
      "        [0., 0., 1., 0., 0.],\n",
      "        [0., 0., 0., 1., 0.],\n",
      "        [0., 0., 0., 0., 1.]])\n",
      "Using Full:- \n",
      " tensor([[5, 5, 5],\n",
      "        [5, 5, 5]])\n"
     ]
    }
   ],
   "source": [
    "# Other ways to create a Tensor\n",
    "\n",
    "# Arange:- Creates a 1D tensor with values from 0 to 8, spaced by 2.\n",
    "print(\"Using arange:-\\n\",torch.arange(0,10,2))\n",
    "\n",
    "# Using Linspace:- Creates a 1D tensor of 10 evenly spaced values between 0 and 10 (inclusive).\n",
    "print(\"Using linspace:- \\n\",torch.linspace(0,10,10))\n",
    "\n",
    "# Using eye:- Creates a 5×5 identity matrix (diagonal = 1, others = 0).\n",
    "print(\"Using eye:- \\n\",torch.eye(5))\n",
    "\n",
    "# Using Full:- Creates a 2×3 tensor filled with the constant value 5\n",
    "print(\"Using Full:- \\n\",torch.full((2,3),5))"
   ]
  },
  {
   "cell_type": "markdown",
   "metadata": {
    "id": "-dyURtypYiv4"
   },
   "source": [
    "## Tensor Shapes"
   ]
  },
  {
   "cell_type": "code",
   "execution_count": 32,
   "metadata": {
    "colab": {
     "base_uri": "https://localhost:8080/"
    },
    "id": "TADb7ew7bQWx",
    "outputId": "9a0ad3b1-c19d-453e-96ba-87366075b23a"
   },
   "outputs": [
    {
     "data": {
      "text/plain": [
       "tensor([[1, 2, 3],\n",
       "        [4, 5, 6]])"
      ]
     },
     "execution_count": 32,
     "metadata": {},
     "output_type": "execute_result"
    }
   ],
   "source": [
    "x=torch.tensor([[1,2,3],[4,5,6]])\n",
    "x"
   ]
  },
  {
   "cell_type": "code",
   "execution_count": 33,
   "metadata": {
    "colab": {
     "base_uri": "https://localhost:8080/"
    },
    "id": "MnVUvGvWbZAY",
    "outputId": "13a435bc-6bbf-4a9f-feac-7aa0e14cb239"
   },
   "outputs": [
    {
     "data": {
      "text/plain": [
       "torch.Size([2, 3])"
      ]
     },
     "execution_count": 33,
     "metadata": {},
     "output_type": "execute_result"
    }
   ],
   "source": [
    "x.shape"
   ]
  },
  {
   "cell_type": "code",
   "execution_count": 35,
   "metadata": {
    "colab": {
     "base_uri": "https://localhost:8080/"
    },
    "id": "liXwfep_bacq",
    "outputId": "220328a6-0aae-4b2f-dba8-8f777be69262"
   },
   "outputs": [
    {
     "data": {
      "text/plain": [
       "tensor([[869983213,         5,         5],\n",
       "        [        5,         5,         5]])"
      ]
     },
     "execution_count": 35,
     "metadata": {},
     "output_type": "execute_result"
    }
   ],
   "source": [
    "# Using empty_like:- Creates a new tensor with the same shape and type as x, but with uninitialized (garbage) values.\n",
    "torch.empty_like(x)"
   ]
  },
  {
   "cell_type": "code",
   "execution_count": 36,
   "metadata": {
    "colab": {
     "base_uri": "https://localhost:8080/"
    },
    "id": "__Hn0B7tbesV",
    "outputId": "77b13566-5d96-4595-f7b4-23b2d6c9a010"
   },
   "outputs": [
    {
     "data": {
      "text/plain": [
       "tensor([[0, 0, 0],\n",
       "        [0, 0, 0]])"
      ]
     },
     "execution_count": 36,
     "metadata": {},
     "output_type": "execute_result"
    }
   ],
   "source": [
    "torch.zeros_like(x)"
   ]
  },
  {
   "cell_type": "code",
   "execution_count": 37,
   "metadata": {
    "colab": {
     "base_uri": "https://localhost:8080/"
    },
    "id": "0AfS8Nrvbtse",
    "outputId": "98839c69-c870-4373-93e1-67b99ce0a43d"
   },
   "outputs": [
    {
     "data": {
      "text/plain": [
       "tensor([[1, 1, 1],\n",
       "        [1, 1, 1]])"
      ]
     },
     "execution_count": 37,
     "metadata": {},
     "output_type": "execute_result"
    }
   ],
   "source": [
    "torch.ones_like(x)"
   ]
  },
  {
   "cell_type": "code",
   "execution_count": 40,
   "metadata": {
    "colab": {
     "base_uri": "https://localhost:8080/"
    },
    "id": "i0NMVIWIbydD",
    "outputId": "e05c1eb4-c9a9-4bcc-b7bd-5603690f5dc0"
   },
   "outputs": [
    {
     "data": {
      "text/plain": [
       "tensor([[0.7118, 0.7876, 0.4183],\n",
       "        [0.9014, 0.9969, 0.7565]])"
      ]
     },
     "execution_count": 40,
     "metadata": {},
     "output_type": "execute_result"
    }
   ],
   "source": [
    "# Attempts to create a tensor with random values (uniformly in [0, 1)) matching the shape of x, but throws an error if x has integer type (like Long), because random floats cannot be stored in integer tensors.\n",
    "# Because rand generate by default float value so its give error\n",
    "torch.rand_like(x,dtype=torch.float32)\n"
   ]
  },
  {
   "cell_type": "markdown",
   "metadata": {
    "id": "CEPG2CwDb2ff"
   },
   "source": [
    "## Tensor Data Types"
   ]
  },
  {
   "cell_type": "code",
   "execution_count": 42,
   "metadata": {
    "colab": {
     "base_uri": "https://localhost:8080/"
    },
    "id": "FrGOzKEqco-6",
    "outputId": "7b5c1f56-1448-4e18-f920-134005bf8913"
   },
   "outputs": [
    {
     "data": {
      "text/plain": [
       "torch.int64"
      ]
     },
     "execution_count": 42,
     "metadata": {},
     "output_type": "execute_result"
    }
   ],
   "source": [
    "# Find Data Type\n",
    "x.dtype"
   ]
  },
  {
   "cell_type": "code",
   "execution_count": 43,
   "metadata": {
    "colab": {
     "base_uri": "https://localhost:8080/"
    },
    "id": "GuWd7WdPcvxQ",
    "outputId": "9f82e213-45b8-4630-c72a-f74a62aaa77b"
   },
   "outputs": [
    {
     "data": {
      "text/plain": [
       "tensor([[1., 2., 3.],\n",
       "        [4., 5., 6.]])"
      ]
     },
     "execution_count": 43,
     "metadata": {},
     "output_type": "execute_result"
    }
   ],
   "source": [
    "# Assign Data Type\n",
    "torch.tensor([[1,2,3],[4,5,6]],dtype=torch.float32)"
   ]
  },
  {
   "cell_type": "code",
   "execution_count": 45,
   "metadata": {
    "colab": {
     "base_uri": "https://localhost:8080/"
    },
    "id": "UvEPxyc7ctAe",
    "outputId": "d72666a6-9e90-4ba8-d365-5d827bdf4ffc"
   },
   "outputs": [
    {
     "data": {
      "text/plain": [
       "tensor([1, 2, 3], dtype=torch.int32)"
      ]
     },
     "execution_count": 45,
     "metadata": {},
     "output_type": "execute_result"
    }
   ],
   "source": [
    "torch.tensor([1.0,2.0,3.0],dtype=torch.int32)"
   ]
  },
  {
   "cell_type": "code",
   "execution_count": 48,
   "metadata": {
    "colab": {
     "base_uri": "https://localhost:8080/"
    },
    "id": "VdlKN4uOc_s7",
    "outputId": "149bdc2f-6338-4033-8cb5-d8a0832b1caa"
   },
   "outputs": [
    {
     "data": {
      "text/plain": [
       "tensor([[1., 2., 3.],\n",
       "        [4., 5., 6.]])"
      ]
     },
     "execution_count": 48,
     "metadata": {},
     "output_type": "execute_result"
    }
   ],
   "source": [
    "# Using to() to change data type\n",
    "x.to(dtype=torch.float32)"
   ]
  },
  {
   "cell_type": "markdown",
   "metadata": {
    "id": "gSydMdSXdW8c"
   },
   "source": [
    "| **Data Type**             | **Dtype**         | **Description**                                                                                                                                                                |\n",
    "|---------------------------|-------------------|--------------------------------------------------------------------------------------------------------------------------------------------------------------------------------|\n",
    "| **32-bit Floating Point** | `torch.float32`   | Standard floating-point type used for most deep learning tasks. Provides a balance between precision and memory usage.                                                         |\n",
    "| **64-bit Floating Point** | `torch.float64`   | Double-precision floating point. Useful for high-precision numerical tasks but uses more memory.                                                                               |\n",
    "| **16-bit Floating Point** | `torch.float16`   | Half-precision floating point. Commonly used in mixed-precision training to reduce memory and computational overhead on modern GPUs.                                            |\n",
    "| **BFloat16**              | `torch.bfloat16`  | Brain floating-point format with reduced precision compared to `float16`. Used in mixed-precision training, especially on TPUs.                                                |\n",
    "| **8-bit Floating Point**  | `torch.float8`    | Ultra-low-precision floating point. Used for experimental applications and extreme memory-constrained environments (less common).                                               |\n",
    "| **8-bit Integer**         | `torch.int8`      | 8-bit signed integer. Used for quantized models to save memory and computation in inference.                                                                                   |\n",
    "| **16-bit Integer**        | `torch.int16`     | 16-bit signed integer. Useful for special numerical tasks requiring intermediate precision.                                                                                    |\n",
    "| **32-bit Integer**        | `torch.int32`     | Standard signed integer type. Commonly used for indexing and general-purpose numerical tasks.                                                                                  |\n",
    "| **64-bit Integer**        | `torch.int64`     | Long integer type. Often used for large indexing arrays or for tasks involving large numbers.                                                                                  |\n",
    "| **8-bit Unsigned Integer**| `torch.uint8`     | 8-bit unsigned integer. Commonly used for image data (e.g., pixel values between 0 and 255).                                                                                    |\n",
    "| **Boolean**               | `torch.bool`      | Boolean type, stores `True` or `False` values. Often used for masks in logical operations.                                                                                      |\n",
    "| **Complex 64**            | `torch.complex64` | Complex number type with 32-bit real and 32-bit imaginary parts. Used for scientific and signal processing tasks.                                                               |\n",
    "| **Complex 128**           | `torch.complex128`| Complex number type with 64-bit real and 64-bit imaginary parts. Offers higher precision but uses more memory.                                                                 |\n",
    "| **Quantized Integer**     | `torch.qint8`     | Quantized signed 8-bit integer. Used in quantized models for efficient inference.                                                                                              |\n",
    "| **Quantized Unsigned Integer** | `torch.quint8` | Quantized unsigned 8-bit integer. Often used for quantized tensors in image-related tasks.                                                                                     |\n",
    "# **bold text**"
   ]
  },
  {
   "cell_type": "markdown",
   "metadata": {
    "id": "icJAUYq8dkdi"
   },
   "source": [
    "## Mathematical Operations"
   ]
  },
  {
   "cell_type": "markdown",
   "metadata": {
    "id": "QBuyx5VjeHas"
   },
   "source": [
    "## 1. Scalar Operation"
   ]
  },
  {
   "cell_type": "code",
   "execution_count": 49,
   "metadata": {
    "colab": {
     "base_uri": "https://localhost:8080/"
    },
    "id": "US7MuwjPeNUg",
    "outputId": "95a5387a-bba3-4cc3-e7ea-d34e60a400f3"
   },
   "outputs": [
    {
     "data": {
      "text/plain": [
       "tensor([[0.2239, 0.3023],\n",
       "        [0.1784, 0.8238]])"
      ]
     },
     "execution_count": 49,
     "metadata": {},
     "output_type": "execute_result"
    }
   ],
   "source": [
    "x=torch.rand(2,2)\n",
    "x"
   ]
  },
  {
   "cell_type": "code",
   "execution_count": 55,
   "metadata": {
    "colab": {
     "base_uri": "https://localhost:8080/"
    },
    "id": "ru7umbgweQqY",
    "outputId": "52c2f513-429b-4f57-873c-c7d5a913786f"
   },
   "outputs": [
    {
     "name": "stdout",
     "output_type": "stream",
     "text": [
      "Adding 2 to x:-\n",
      " tensor([[2.2239, 2.3023],\n",
      "        [2.1784, 2.8238]])\n",
      "Subtract 2 to x:-\n",
      " tensor([[-1.7761, -1.6977],\n",
      "        [-1.8216, -1.1762]])\n",
      "Multiply 2 to x:-\n",
      " tensor([[0.4478, 0.6047],\n",
      "        [0.3568, 1.6477]])\n",
      "Divide 2 to x:-\n",
      " tensor([[0.1119, 0.1512],\n",
      "        [0.0892, 0.4119]])\n",
      "int divide 2 to x:-\n",
      " tensor([[11., 15.],\n",
      "        [ 8., 41.]])\n",
      "Mod 2 to x:-\n",
      " tensor([[1., 1.],\n",
      "        [0., 1.]])\n",
      "Power 2 to x:-\n",
      " tensor([[0.0501, 0.0914],\n",
      "        [0.0318, 0.6787]])\n"
     ]
    }
   ],
   "source": [
    "# Addition\n",
    "print(\"Adding 2 to x:-\\n\",x+2)\n",
    "\n",
    "# Substraction\n",
    "print(\"Subtract 2 to x:-\\n\",x-2)\n",
    "\n",
    "# Multiplication\n",
    "print(\"Multiply 2 to x:-\\n\",x*2)\n",
    "\n",
    "# Division\n",
    "print(\"Divide 2 to x:-\\n\",x/2)\n",
    "\n",
    "# int division\n",
    "print(\"int divide 2 to x:-\\n\",(x*100)//2)\n",
    "\n",
    "# Mod\n",
    "print(\"Mod 2 to x:-\\n\",((x*100)//2)%2)\n",
    "\n",
    "# Power\n",
    "print(\"Power 2 to x:-\\n\",x**2)\n"
   ]
  },
  {
   "cell_type": "markdown",
   "metadata": {
    "id": "tUFOQFsieVcW"
   },
   "source": [
    "## 2. Element wise Operation"
   ]
  },
  {
   "cell_type": "code",
   "execution_count": 56,
   "metadata": {
    "colab": {
     "base_uri": "https://localhost:8080/"
    },
    "id": "k4uGEUUsfm0b",
    "outputId": "2e8f2240-3eda-4c55-e1be-3ef01ab0ed0b"
   },
   "outputs": [
    {
     "name": "stdout",
     "output_type": "stream",
     "text": [
      "tensor([[0.5557, 0.9770, 0.4440],\n",
      "        [0.9478, 0.7445, 0.4892]])\n",
      "tensor([[0.2426, 0.7003, 0.5277],\n",
      "        [0.2472, 0.7909, 0.4235]])\n"
     ]
    }
   ],
   "source": [
    "a=torch.rand(2,3)\n",
    "b=torch.rand(2,3)\n",
    "\n",
    "print(a)\n",
    "print(b)"
   ]
  },
  {
   "cell_type": "code",
   "execution_count": 58,
   "metadata": {
    "colab": {
     "base_uri": "https://localhost:8080/"
    },
    "id": "S_SIYHtZfxOp",
    "outputId": "d8458c23-2924-4603-89b3-06446e80730d"
   },
   "outputs": [
    {
     "name": "stdout",
     "output_type": "stream",
     "text": [
      "Adding two tensor a & b:-\n",
      " tensor([[0.7983, 1.6774, 0.9717],\n",
      "        [1.1950, 1.5354, 0.9127]])\n",
      "Subtract two tensor a & b:-\n",
      " tensor([[ 0.3132,  0.2767, -0.0837],\n",
      "        [ 0.7007, -0.0464,  0.0657]])\n",
      "Multiply teo tensor a & b:-\n",
      " tensor([[0.1348, 0.6842, 0.2343],\n",
      "        [0.2343, 0.5888, 0.2072]])\n",
      "Divide two tenor a & b:-\n",
      " tensor([[2.2912, 1.3951, 0.8415],\n",
      "        [3.8346, 0.9413, 1.1552]])\n",
      "Mod of two tensor a & b:-\n",
      " tensor([[0.0706, 0.2767, 0.4440],\n",
      "        [0.2063, 0.7445, 0.0657]])\n",
      "Power of two tensor a & b:-\n",
      " tensor([[0.8672, 0.9839, 0.6515],\n",
      "        [0.9868, 0.7919, 0.7388]])\n"
     ]
    }
   ],
   "source": [
    "# Addition of two tensor\n",
    "print(\"Adding two tensor a & b:-\\n\",a+b)\n",
    "\n",
    "# Substraction\n",
    "print(\"Subtract two tensor a & b:-\\n\",a-b)\n",
    "\n",
    "# Multiplication\n",
    "print(\"Multiply teo tensor a & b:-\\n\",a*b)\n",
    "\n",
    "# Division\n",
    "print(\"Divide two tenor a & b:-\\n\",a/b)\n",
    "\n",
    "# Mod\n",
    "print(\"Mod of two tensor a & b:-\\n\",a%b)\n",
    "\n",
    "# Power\n",
    "print(\"Power of two tensor a & b:-\\n\",a**b)\n"
   ]
  },
  {
   "cell_type": "code",
   "execution_count": 59,
   "metadata": {
    "colab": {
     "base_uri": "https://localhost:8080/"
    },
    "id": "2ACQlm9zgDbf",
    "outputId": "3dfb9eda-ace5-4b7c-f815-9923ef837de7"
   },
   "outputs": [
    {
     "data": {
      "text/plain": [
       "tensor([ 1, -2, -5,  6])"
      ]
     },
     "execution_count": 59,
     "metadata": {},
     "output_type": "execute_result"
    }
   ],
   "source": [
    "c=torch.tensor([1,-2,-5,6])\n",
    "c"
   ]
  },
  {
   "cell_type": "code",
   "execution_count": 62,
   "metadata": {
    "colab": {
     "base_uri": "https://localhost:8080/"
    },
    "id": "mvcpEvDlg0Ya",
    "outputId": "9c885278-6886-4973-bf16-007c4ec8316f"
   },
   "outputs": [
    {
     "data": {
      "text/plain": [
       "tensor([1, 2, 5, 6])"
      ]
     },
     "execution_count": 62,
     "metadata": {},
     "output_type": "execute_result"
    }
   ],
   "source": [
    "# abs value\n",
    "abs(c)  # Pythono built-in method\n",
    "torch.abs(c) # torch method"
   ]
  },
  {
   "cell_type": "code",
   "execution_count": 64,
   "metadata": {
    "colab": {
     "base_uri": "https://localhost:8080/"
    },
    "id": "Oo0ZfFbSg5DZ",
    "outputId": "b61f9cb6-3b47-4808-9c76-334dececa503"
   },
   "outputs": [
    {
     "data": {
      "text/plain": [
       "tensor([-1,  2,  5, -6])"
      ]
     },
     "execution_count": 64,
     "metadata": {},
     "output_type": "execute_result"
    }
   ],
   "source": [
    "# convert negative number\n",
    "torch.neg(c) # negative become positive and p[ositive become negative"
   ]
  },
  {
   "cell_type": "code",
   "execution_count": 70,
   "metadata": {
    "colab": {
     "base_uri": "https://localhost:8080/"
    },
    "id": "moQgSMDahMnF",
    "outputId": "f58156e7-1e98-4cb4-aa68-a3dcfdb633dc"
   },
   "outputs": [
    {
     "data": {
      "text/plain": [
       "tensor([1.5000, 2.6000, 3.2000, 4.1000])"
      ]
     },
     "execution_count": 70,
     "metadata": {},
     "output_type": "execute_result"
    }
   ],
   "source": [
    "d=torch.tensor([1.5,2.6,3.2,4.1])\n",
    "d"
   ]
  },
  {
   "cell_type": "code",
   "execution_count": 71,
   "metadata": {
    "colab": {
     "base_uri": "https://localhost:8080/"
    },
    "id": "5XL7OG_6hc8B",
    "outputId": "51d5d768-b724-47a8-cf26-c9e929025409"
   },
   "outputs": [
    {
     "data": {
      "text/plain": [
       "tensor([2., 3., 3., 4.])"
      ]
     },
     "execution_count": 71,
     "metadata": {},
     "output_type": "execute_result"
    }
   ],
   "source": [
    "# round off number Rounds each element of d to the nearest integer (rounds .5 to even).\n",
    "torch.round(d)"
   ]
  },
  {
   "cell_type": "code",
   "execution_count": 72,
   "metadata": {
    "colab": {
     "base_uri": "https://localhost:8080/"
    },
    "id": "YtNkD5pihiAV",
    "outputId": "478ccfe4-1353-4d45-a094-57d5906fcb7f"
   },
   "outputs": [
    {
     "data": {
      "text/plain": [
       "tensor([2., 3., 4., 5.])"
      ]
     },
     "execution_count": 72,
     "metadata": {},
     "output_type": "execute_result"
    }
   ],
   "source": [
    "# Ceil Rounds each element of d upward to the nearest integer.\n",
    "torch.ceil(d)"
   ]
  },
  {
   "cell_type": "code",
   "execution_count": 74,
   "metadata": {
    "colab": {
     "base_uri": "https://localhost:8080/"
    },
    "id": "4K4bxeqAhuOn",
    "outputId": "6f8bc668-026b-4050-ab66-41d1248efb1c"
   },
   "outputs": [
    {
     "data": {
      "text/plain": [
       "tensor([1., 2., 3., 4.])"
      ]
     },
     "execution_count": 74,
     "metadata": {},
     "output_type": "execute_result"
    }
   ],
   "source": [
    "# floor Rounds each element of tensor d downward to the nearest integer (i.e., the largest integer ≤ the value).\n",
    "torch.floor(d)"
   ]
  },
  {
   "cell_type": "code",
   "execution_count": 77,
   "metadata": {
    "colab": {
     "base_uri": "https://localhost:8080/"
    },
    "id": "_niofJAdimIR",
    "outputId": "6d0550e7-acbb-4c96-aaea-e12837193865"
   },
   "outputs": [
    {
     "data": {
      "text/plain": [
       "tensor([2.0000, 2.6000, 3.0000, 3.0000])"
      ]
     },
     "execution_count": 77,
     "metadata": {},
     "output_type": "execute_result"
    }
   ],
   "source": [
    "# clamp Clamps all elements in tensor d to lie within the range [2, 3], replacing values below 2 with 2 and above 3 with 3.\n",
    "torch.clamp(d,min=2,max=3)"
   ]
  },
  {
   "cell_type": "markdown",
   "metadata": {
    "id": "9pAlPAFfixwV"
   },
   "source": [
    "## 3. Reduction Operation"
   ]
  },
  {
   "cell_type": "code",
   "execution_count": 79,
   "metadata": {
    "colab": {
     "base_uri": "https://localhost:8080/"
    },
    "id": "rVaKefwvjEWH",
    "outputId": "76c738f5-75e2-410f-a79c-2a820da47dbe"
   },
   "outputs": [
    {
     "data": {
      "text/plain": [
       "tensor([[5., 7., 5.],\n",
       "        [9., 9., 7.]])"
      ]
     },
     "execution_count": 79,
     "metadata": {},
     "output_type": "execute_result"
    }
   ],
   "source": [
    "e=torch.randint(size=(2,3),low=0,high=10,dtype=torch.float32)\n",
    "e"
   ]
  },
  {
   "cell_type": "code",
   "execution_count": 84,
   "metadata": {
    "colab": {
     "base_uri": "https://localhost:8080/"
    },
    "id": "UVcm8EnijSSy",
    "outputId": "0b323b24-1a96-4e5a-f144-5d641d1b6482"
   },
   "outputs": [
    {
     "name": "stdout",
     "output_type": "stream",
     "text": [
      "Sum:- \n",
      " tensor(42.)\n",
      "Sum:- \n",
      " tensor([14., 16., 12.])\n",
      "Sum:- \n",
      " tensor([17., 25.])\n"
     ]
    }
   ],
   "source": [
    "# sum\n",
    "print(\"Sum:- \\n\",torch.sum(e))\n",
    "\n",
    "# sum along column\n",
    "print(\"Sum:- \\n\",torch.sum(e,dim=0))\n",
    "\n",
    "# sum along rows\n",
    "print(\"Sum:- \\n\",torch.sum(e,dim=1))"
   ]
  },
  {
   "cell_type": "code",
   "execution_count": 86,
   "metadata": {
    "colab": {
     "base_uri": "https://localhost:8080/"
    },
    "id": "9Cn1zd9mjoe7",
    "outputId": "01f72d0f-cb79-4409-c855-b11ce0d79f39"
   },
   "outputs": [
    {
     "name": "stdout",
     "output_type": "stream",
     "text": [
      "Mean:-\n",
      " tensor(7.)\n",
      "Mean:-\n",
      " tensor([7., 8., 6.])\n"
     ]
    }
   ],
   "source": [
    "# mean\n",
    "print('Mean:-\\n',torch.mean(e))\n",
    "\n",
    "# mean along column\n",
    "print('Mean:-\\n',torch.mean(e,dim=0))"
   ]
  },
  {
   "cell_type": "code",
   "execution_count": 87,
   "metadata": {
    "colab": {
     "base_uri": "https://localhost:8080/"
    },
    "id": "iDecRCCCkN4z",
    "outputId": "987bf63e-c567-4069-b5c1-637bb11c34b1"
   },
   "outputs": [
    {
     "data": {
      "text/plain": [
       "tensor(7.)"
      ]
     },
     "execution_count": 87,
     "metadata": {},
     "output_type": "execute_result"
    }
   ],
   "source": [
    "# median\n",
    "torch.median(e)"
   ]
  },
  {
   "cell_type": "code",
   "execution_count": 88,
   "metadata": {
    "colab": {
     "base_uri": "https://localhost:8080/"
    },
    "id": "eQUj42vDkeD7",
    "outputId": "31bd9ef9-05ec-4e4b-ce7e-61fbb253ead0"
   },
   "outputs": [
    {
     "name": "stdout",
     "output_type": "stream",
     "text": [
      "Max:-\n",
      " tensor(9.)\n",
      "Min:-\n",
      " tensor(5.)\n"
     ]
    }
   ],
   "source": [
    "# Max\n",
    "print(\"Max:-\\n\",torch.max(e))\n",
    "\n",
    "# Min\n",
    "print('Min:-\\n',torch.min(e))"
   ]
  },
  {
   "cell_type": "code",
   "execution_count": 90,
   "metadata": {
    "colab": {
     "base_uri": "https://localhost:8080/"
    },
    "id": "P_phHLyUks2b",
    "outputId": "2263248f-db99-4c9d-9976-77fddb1b5a38"
   },
   "outputs": [
    {
     "data": {
      "text/plain": [
       "tensor(99225.)"
      ]
     },
     "execution_count": 90,
     "metadata": {},
     "output_type": "execute_result"
    }
   ],
   "source": [
    "# Product\n",
    "torch.prod(e)"
   ]
  },
  {
   "cell_type": "code",
   "execution_count": 91,
   "metadata": {
    "colab": {
     "base_uri": "https://localhost:8080/"
    },
    "id": "-vLKtDDAk1Bq",
    "outputId": "49d2ef94-f3c3-49d4-fa5f-dd68873173ee"
   },
   "outputs": [
    {
     "data": {
      "text/plain": [
       "tensor(1.7889)"
      ]
     },
     "execution_count": 91,
     "metadata": {},
     "output_type": "execute_result"
    }
   ],
   "source": [
    "# Standard Deviations\n",
    "torch.std(e)"
   ]
  },
  {
   "cell_type": "code",
   "execution_count": 94,
   "metadata": {
    "colab": {
     "base_uri": "https://localhost:8080/"
    },
    "id": "2asOPkfblDno",
    "outputId": "ecd9966d-bddd-45b9-ea5c-11009eb6963f"
   },
   "outputs": [
    {
     "data": {
      "text/plain": [
       "tensor(3.2000)"
      ]
     },
     "execution_count": 94,
     "metadata": {},
     "output_type": "execute_result"
    }
   ],
   "source": [
    "# Variance\n",
    "torch.var(e)"
   ]
  },
  {
   "cell_type": "code",
   "execution_count": 95,
   "metadata": {
    "colab": {
     "base_uri": "https://localhost:8080/"
    },
    "id": "kYcFp9PclJEv",
    "outputId": "022a1407-c177-4ff7-92b5-f966b4ec0dc6"
   },
   "outputs": [
    {
     "data": {
      "text/plain": [
       "tensor(3)"
      ]
     },
     "execution_count": 95,
     "metadata": {},
     "output_type": "execute_result"
    }
   ],
   "source": [
    "# argmax give position of maximum value\n",
    "torch.argmax(e)"
   ]
  },
  {
   "cell_type": "code",
   "execution_count": 96,
   "metadata": {
    "colab": {
     "base_uri": "https://localhost:8080/"
    },
    "id": "eodBkI9zlRXW",
    "outputId": "e29b0c67-ecfc-4647-970a-bbe13bad17a3"
   },
   "outputs": [
    {
     "data": {
      "text/plain": [
       "tensor(0)"
      ]
     },
     "execution_count": 96,
     "metadata": {},
     "output_type": "execute_result"
    }
   ],
   "source": [
    "# argmin give position of min value\n",
    "torch.argmin(e)"
   ]
  },
  {
   "cell_type": "markdown",
   "metadata": {
    "id": "SZ2mQQRUlZSb"
   },
   "source": [
    "## 4. Matrix Operations"
   ]
  },
  {
   "cell_type": "code",
   "execution_count": 101,
   "metadata": {
    "colab": {
     "base_uri": "https://localhost:8080/"
    },
    "id": "qChT3rPNlj_3",
    "outputId": "188df469-0a79-4c36-86a1-dda73f10d57e"
   },
   "outputs": [
    {
     "name": "stdout",
     "output_type": "stream",
     "text": [
      "tensor([[8., 3., 3.],\n",
      "        [5., 0., 6.]])\n",
      "tensor([[4., 0.],\n",
      "        [8., 4.],\n",
      "        [7., 2.]])\n"
     ]
    }
   ],
   "source": [
    "f=torch.randint(size=(2,3),low=0,high=10,dtype=torch.float32)\n",
    "g=torch.randint(size=(3,2),low=0,high=10,dtype=torch.float32)\n",
    "\n",
    "print(f)\n",
    "print(g)"
   ]
  },
  {
   "cell_type": "code",
   "execution_count": 102,
   "metadata": {
    "colab": {
     "base_uri": "https://localhost:8080/"
    },
    "id": "i2sKS7vYlrdv",
    "outputId": "87c0f112-6d42-483f-8567-112e3dbe95e7"
   },
   "outputs": [
    {
     "data": {
      "text/plain": [
       "tensor([[77., 18.],\n",
       "        [62., 12.]])"
      ]
     },
     "execution_count": 102,
     "metadata": {},
     "output_type": "execute_result"
    }
   ],
   "source": [
    "# Matrix Multiplication\n",
    "torch.matmul(f,g)"
   ]
  },
  {
   "cell_type": "code",
   "execution_count": 103,
   "metadata": {
    "colab": {
     "base_uri": "https://localhost:8080/"
    },
    "id": "biD_nH4AlxzG",
    "outputId": "4be6c3e3-da84-47df-e672-3588ca53506a"
   },
   "outputs": [
    {
     "data": {
      "text/plain": [
       "tensor(11)"
      ]
     },
     "execution_count": 103,
     "metadata": {},
     "output_type": "execute_result"
    }
   ],
   "source": [
    "vector1=torch.tensor([1,2])\n",
    "vector2=torch.tensor([3,4])\n",
    "\n",
    "# dot product\n",
    "torch.dot(vector1,vector2)"
   ]
  },
  {
   "cell_type": "code",
   "execution_count": 110,
   "metadata": {
    "colab": {
     "base_uri": "https://localhost:8080/"
    },
    "id": "0Jc37J8YmURS",
    "outputId": "03124e11-2150-4c19-ae86-5a5ab4416ee6"
   },
   "outputs": [
    {
     "name": "stdout",
     "output_type": "stream",
     "text": [
      "tensor([[8., 3., 3.],\n",
      "        [5., 0., 6.]])\n"
     ]
    },
    {
     "data": {
      "text/plain": [
       "tensor([[8., 5.],\n",
       "        [3., 0.],\n",
       "        [3., 6.]])"
      ]
     },
     "execution_count": 110,
     "metadata": {},
     "output_type": "execute_result"
    }
   ],
   "source": [
    "# Transpose Returns a new tensor with dimensions 0 and 1 swapped (i.e., transposes rows and columns of 2D tensor f).\n",
    "print(f)\n",
    "torch.transpose(f,1,0)"
   ]
  },
  {
   "cell_type": "code",
   "execution_count": 113,
   "metadata": {
    "colab": {
     "base_uri": "https://localhost:8080/"
    },
    "id": "XuZFsSvnnNWN",
    "outputId": "3a8043ba-704e-414d-9fb7-4bc28b876298"
   },
   "outputs": [
    {
     "data": {
      "text/plain": [
       "tensor([[3., 8., 5.],\n",
       "        [6., 2., 9.],\n",
       "        [5., 0., 4.]])"
      ]
     },
     "execution_count": 113,
     "metadata": {},
     "output_type": "execute_result"
    }
   ],
   "source": [
    "h=torch.randint(size=(3,3),low=0,high=10,dtype=torch.float32)\n",
    "h"
   ]
  },
  {
   "cell_type": "code",
   "execution_count": 114,
   "metadata": {
    "colab": {
     "base_uri": "https://localhost:8080/"
    },
    "id": "PgE3lSyfmzTu",
    "outputId": "3b880663-8e0b-4d28-bd5c-2fc6902c441a"
   },
   "outputs": [
    {
     "data": {
      "text/plain": [
       "tensor(142.)"
      ]
     },
     "execution_count": 114,
     "metadata": {},
     "output_type": "execute_result"
    }
   ],
   "source": [
    "# Determinant\n",
    "torch.det(h)"
   ]
  },
  {
   "cell_type": "code",
   "execution_count": 115,
   "metadata": {
    "colab": {
     "base_uri": "https://localhost:8080/"
    },
    "id": "QNBJ6iignbMV",
    "outputId": "7b3dc62d-355b-42f2-8c29-530eb8f42799"
   },
   "outputs": [
    {
     "data": {
      "text/plain": [
       "tensor([[ 0.0563, -0.2254,  0.4366],\n",
       "        [ 0.1479, -0.0915,  0.0211],\n",
       "        [-0.0704,  0.2817, -0.2958]])"
      ]
     },
     "execution_count": 115,
     "metadata": {},
     "output_type": "execute_result"
    }
   ],
   "source": [
    "# Inverse Returns the inverse of a square, non-singular matrix h (i.e., a matrix such that h × h⁻¹ = I).\n",
    "torch.inverse(h)"
   ]
  },
  {
   "cell_type": "markdown",
   "metadata": {
    "id": "O7vN7ePtoDPw"
   },
   "source": [
    "## 5. Comparision Operations"
   ]
  },
  {
   "cell_type": "code",
   "execution_count": 116,
   "metadata": {
    "colab": {
     "base_uri": "https://localhost:8080/"
    },
    "id": "sGVFW39nozPb",
    "outputId": "dba4c0a8-bf40-4bd3-8bb6-ecc1b4d54fa6"
   },
   "outputs": [
    {
     "name": "stdout",
     "output_type": "stream",
     "text": [
      "tensor([[2., 7., 1.],\n",
      "        [1., 5., 4.]])\n",
      "tensor([[4., 1., 1.],\n",
      "        [2., 4., 7.]])\n"
     ]
    }
   ],
   "source": [
    "i=torch.randint(size=(2,3),low=0,high=10,dtype=torch.float32)\n",
    "j=torch.randint(size=(2,3),low=0,high=10,dtype=torch.float32)\n",
    "\n",
    "print(i)\n",
    "print(j)"
   ]
  },
  {
   "cell_type": "code",
   "execution_count": 118,
   "metadata": {
    "colab": {
     "base_uri": "https://localhost:8080/"
    },
    "id": "pde-A5gRo2wa",
    "outputId": "65c5ad1f-34fc-4ce3-9628-a33cda04d926"
   },
   "outputs": [
    {
     "name": "stdout",
     "output_type": "stream",
     "text": [
      "tensor([[False,  True, False],\n",
      "        [False,  True, False]])\n",
      "tensor([[ True, False, False],\n",
      "        [ True, False,  True]])\n",
      "tensor([[False, False,  True],\n",
      "        [False, False, False]])\n",
      "tensor([[ True,  True, False],\n",
      "        [ True,  True,  True]])\n",
      "tensor([[ True, False,  True],\n",
      "        [ True, False,  True]])\n",
      "tensor([[False,  True,  True],\n",
      "        [False,  True, False]])\n"
     ]
    }
   ],
   "source": [
    "# greater than\n",
    "print(i > j)\n",
    "# less than\n",
    "print(i < j)\n",
    "# equal to\n",
    "print(i == j)\n",
    "# not equal to\n",
    "print(i != j)\n",
    "# greater than equal to\n",
    "print(i<=j)\n",
    "# less than equal to\n",
    "print(i>=j)"
   ]
  },
  {
   "cell_type": "markdown",
   "metadata": {
    "id": "boRN7Koho7ju"
   },
   "source": [
    "## 6. Special Function"
   ]
  },
  {
   "cell_type": "code",
   "execution_count": 122,
   "metadata": {
    "colab": {
     "base_uri": "https://localhost:8080/"
    },
    "id": "dFrJD5-UpROn",
    "outputId": "26f58411-200f-4a09-ac28-899f9e8c22f6"
   },
   "outputs": [
    {
     "data": {
      "text/plain": [
       "tensor([[2., 5., 6.],\n",
       "        [1., 4., 5.]])"
      ]
     },
     "execution_count": 122,
     "metadata": {},
     "output_type": "execute_result"
    }
   ],
   "source": [
    "k=torch.randint(size=(2,3),low=0,high=10,dtype=torch.float32)\n",
    "k"
   ]
  },
  {
   "cell_type": "code",
   "execution_count": 123,
   "metadata": {
    "colab": {
     "base_uri": "https://localhost:8080/"
    },
    "id": "CB_hcADypV2R",
    "outputId": "22aeabab-5bcc-4977-f399-5f34b3defc26"
   },
   "outputs": [
    {
     "data": {
      "text/plain": [
       "tensor([[0.6931, 1.6094, 1.7918],\n",
       "        [0.0000, 1.3863, 1.6094]])"
      ]
     },
     "execution_count": 123,
     "metadata": {},
     "output_type": "execute_result"
    }
   ],
   "source": [
    "# Log\n",
    "torch.log(k)"
   ]
  },
  {
   "cell_type": "code",
   "execution_count": 124,
   "metadata": {
    "colab": {
     "base_uri": "https://localhost:8080/"
    },
    "id": "jZWIVoUzpiB3",
    "outputId": "167caf4a-84f4-4065-c761-acdc5119096a"
   },
   "outputs": [
    {
     "data": {
      "text/plain": [
       "tensor([[  7.3891, 148.4132, 403.4288],\n",
       "        [  2.7183,  54.5981, 148.4132]])"
      ]
     },
     "execution_count": 124,
     "metadata": {},
     "output_type": "execute_result"
    }
   ],
   "source": [
    "# Exp\n",
    "torch.exp(k)"
   ]
  },
  {
   "cell_type": "code",
   "execution_count": 125,
   "metadata": {
    "colab": {
     "base_uri": "https://localhost:8080/"
    },
    "id": "PwadN4sLplph",
    "outputId": "a66cdc2e-b45f-4e0d-b758-9ad29e865a65"
   },
   "outputs": [
    {
     "data": {
      "text/plain": [
       "tensor([[1.4142, 2.2361, 2.4495],\n",
       "        [1.0000, 2.0000, 2.2361]])"
      ]
     },
     "execution_count": 125,
     "metadata": {},
     "output_type": "execute_result"
    }
   ],
   "source": [
    "# SQRT\n",
    "torch.sqrt(k)"
   ]
  },
  {
   "cell_type": "code",
   "execution_count": 126,
   "metadata": {
    "colab": {
     "base_uri": "https://localhost:8080/"
    },
    "id": "JFV_sV95ppRM",
    "outputId": "7e138d91-68fc-4532-e23a-407a946a2adf"
   },
   "outputs": [
    {
     "data": {
      "text/plain": [
       "tensor([[0.8808, 0.9933, 0.9975],\n",
       "        [0.7311, 0.9820, 0.9933]])"
      ]
     },
     "execution_count": 126,
     "metadata": {},
     "output_type": "execute_result"
    }
   ],
   "source": [
    "# Sigmoid\n",
    "torch.sigmoid(k)"
   ]
  },
  {
   "cell_type": "code",
   "execution_count": 129,
   "metadata": {
    "colab": {
     "base_uri": "https://localhost:8080/"
    },
    "id": "Q_g58e31ptE_",
    "outputId": "a78e9f89-1495-470d-f971-b36f58c4988e"
   },
   "outputs": [
    {
     "data": {
      "text/plain": [
       "tensor([[0.7311, 0.7311, 0.7311],\n",
       "        [0.2689, 0.2689, 0.2689]])"
      ]
     },
     "execution_count": 129,
     "metadata": {},
     "output_type": "execute_result"
    }
   ],
   "source": [
    "# Softmax Applies the softmax function along dimension 0, turning values into probabilities that sum to 1 along that dimension.\n",
    "torch.softmax(k,dim=0)"
   ]
  },
  {
   "cell_type": "code",
   "execution_count": 130,
   "metadata": {
    "colab": {
     "base_uri": "https://localhost:8080/"
    },
    "id": "u0vZArCCpzPR",
    "outputId": "5e827640-c1b5-48e6-8f1f-cc9708b02696"
   },
   "outputs": [
    {
     "data": {
      "text/plain": [
       "tensor([[2., 5., 6.],\n",
       "        [1., 4., 5.]])"
      ]
     },
     "execution_count": 130,
     "metadata": {},
     "output_type": "execute_result"
    }
   ],
   "source": [
    "# Relu\n",
    "torch.relu(k)"
   ]
  },
  {
   "cell_type": "markdown",
   "metadata": {
    "id": "tXSQxyt4qIw2"
   },
   "source": [
    "## 7. Inplace Operations."
   ]
  },
  {
   "cell_type": "code",
   "execution_count": 131,
   "metadata": {
    "colab": {
     "base_uri": "https://localhost:8080/"
    },
    "id": "5A8bROo_qPHa",
    "outputId": "f767454b-b373-46b6-81f8-eaecff615dd4"
   },
   "outputs": [
    {
     "name": "stdout",
     "output_type": "stream",
     "text": [
      "tensor([[0.9157, 0.3079, 0.6269],\n",
      "        [0.8277, 0.6594, 0.0887]])\n",
      "tensor([[0.4890, 0.5887, 0.7340],\n",
      "        [0.8497, 0.9112, 0.4847]])\n"
     ]
    }
   ],
   "source": [
    "m=torch.rand(2,3)\n",
    "n=torch.rand(2,3)\n",
    "print(m)\n",
    "print(n)"
   ]
  },
  {
   "cell_type": "code",
   "execution_count": 136,
   "metadata": {
    "colab": {
     "base_uri": "https://localhost:8080/"
    },
    "id": "3OOJzukNqYO9",
    "outputId": "7bc5ba53-c08b-486f-fca8-2e6e68a80bbe"
   },
   "outputs": [
    {
     "data": {
      "text/plain": [
       "tensor([[2.3826, 2.0741, 2.8290],\n",
       "        [3.3768, 3.3929, 1.5429]])"
      ]
     },
     "execution_count": 136,
     "metadata": {},
     "output_type": "execute_result"
    }
   ],
   "source": [
    "# # Performs in-place addition of tensor n to tensor m, modifying m directly without creating a new tensor.\n",
    "\n",
    "# 🔁 Difference:\n",
    "# m.add(n) → returns a new tensor\n",
    "# m.add_(n) → updates m in-place\n",
    "m.add_(n)"
   ]
  },
  {
   "cell_type": "code",
   "execution_count": 134,
   "metadata": {
    "colab": {
     "base_uri": "https://localhost:8080/"
    },
    "id": "b3K5gRYnqa2n",
    "outputId": "ab863470-14ab-4f6c-cd9a-187f30f8327f"
   },
   "outputs": [
    {
     "data": {
      "text/plain": [
       "tensor([[1.8937, 1.4854, 2.0950],\n",
       "        [2.5271, 2.4817, 1.0582]])"
      ]
     },
     "execution_count": 134,
     "metadata": {},
     "output_type": "execute_result"
    }
   ],
   "source": [
    "m"
   ]
  },
  {
   "cell_type": "code",
   "execution_count": 135,
   "metadata": {
    "colab": {
     "base_uri": "https://localhost:8080/"
    },
    "id": "HLzuk4Opqk97",
    "outputId": "414c4e9e-1e82-4b48-a2c1-1a695468173f"
   },
   "outputs": [
    {
     "data": {
      "text/plain": [
       "tensor([[0.4890, 0.5887, 0.7340],\n",
       "        [0.8497, 0.9112, 0.4847]])"
      ]
     },
     "execution_count": 135,
     "metadata": {},
     "output_type": "execute_result"
    }
   ],
   "source": [
    "n"
   ]
  },
  {
   "cell_type": "markdown",
   "metadata": {
    "id": "0KxEWuggqmXm"
   },
   "source": [
    "## 8. Copying a Tensor"
   ]
  },
  {
   "cell_type": "markdown",
   "metadata": {
    "id": "fsLudKvjrY8v"
   },
   "source": [
    "# x.clone(): Creates a new, independent copy of the tensor with separate memory.\n",
    "\n",
    "# y = x: Only creates a reference to the same tensor; changing y also changes x."
   ]
  },
  {
   "cell_type": "code",
   "execution_count": 137,
   "metadata": {
    "colab": {
     "base_uri": "https://localhost:8080/"
    },
    "id": "3kFzC3BQq-ai",
    "outputId": "70695880-7c64-4a69-e328-895af838bd9c"
   },
   "outputs": [
    {
     "data": {
      "text/plain": [
       "tensor([[0.9436, 0.3904, 0.2499],\n",
       "        [0.3206, 0.9753, 0.7582]])"
      ]
     },
     "execution_count": 137,
     "metadata": {},
     "output_type": "execute_result"
    }
   ],
   "source": [
    "a=torch.rand(2,3)\n",
    "a"
   ]
  },
  {
   "cell_type": "code",
   "execution_count": 138,
   "metadata": {
    "id": "OmZ-SwpsrBxs"
   },
   "outputs": [],
   "source": [
    "b=a"
   ]
  },
  {
   "cell_type": "code",
   "execution_count": 139,
   "metadata": {
    "colab": {
     "base_uri": "https://localhost:8080/"
    },
    "id": "Q-S0ukFWrC7g",
    "outputId": "f883f23b-1b48-4527-a771-e2eb121ab00e"
   },
   "outputs": [
    {
     "data": {
      "text/plain": [
       "tensor([[0.9436, 0.3904, 0.2499],\n",
       "        [0.3206, 0.9753, 0.7582]])"
      ]
     },
     "execution_count": 139,
     "metadata": {},
     "output_type": "execute_result"
    }
   ],
   "source": [
    "b"
   ]
  },
  {
   "cell_type": "code",
   "execution_count": 141,
   "metadata": {
    "colab": {
     "base_uri": "https://localhost:8080/"
    },
    "id": "-9oF4nzQrDbB",
    "outputId": "8d75a942-8dbc-4aba-e450-b5b71b69f984"
   },
   "outputs": [
    {
     "data": {
      "text/plain": [
       "tensor([[7.0000, 0.3904, 0.2499],\n",
       "        [0.3206, 0.9753, 0.7582]])"
      ]
     },
     "execution_count": 141,
     "metadata": {},
     "output_type": "execute_result"
    }
   ],
   "source": [
    "a[0][0]=7\n",
    "a"
   ]
  },
  {
   "cell_type": "code",
   "execution_count": 142,
   "metadata": {
    "colab": {
     "base_uri": "https://localhost:8080/"
    },
    "id": "WcnCsFL7rHFC",
    "outputId": "71f07bdc-ae8a-4eb2-9260-7f98e8d5eabb"
   },
   "outputs": [
    {
     "data": {
      "text/plain": [
       "tensor([[7.0000, 0.3904, 0.2499],\n",
       "        [0.3206, 0.9753, 0.7582]])"
      ]
     },
     "execution_count": 142,
     "metadata": {},
     "output_type": "execute_result"
    }
   ],
   "source": [
    "b"
   ]
  },
  {
   "cell_type": "code",
   "execution_count": 143,
   "metadata": {
    "colab": {
     "base_uri": "https://localhost:8080/"
    },
    "id": "o4ztsS-GrJVJ",
    "outputId": "ecac03b5-f97d-4938-f96d-195f0bcf4d30"
   },
   "outputs": [
    {
     "data": {
      "text/plain": [
       "140049279622736"
      ]
     },
     "execution_count": 143,
     "metadata": {},
     "output_type": "execute_result"
    }
   ],
   "source": [
    "id(a)"
   ]
  },
  {
   "cell_type": "code",
   "execution_count": 144,
   "metadata": {
    "colab": {
     "base_uri": "https://localhost:8080/"
    },
    "id": "IiSKbdaLrLP5",
    "outputId": "81efa0d7-00ac-4eb2-c89c-5a0e48342031"
   },
   "outputs": [
    {
     "data": {
      "text/plain": [
       "140049279622736"
      ]
     },
     "execution_count": 144,
     "metadata": {},
     "output_type": "execute_result"
    }
   ],
   "source": [
    "id(b)"
   ]
  },
  {
   "cell_type": "code",
   "execution_count": 145,
   "metadata": {
    "colab": {
     "base_uri": "https://localhost:8080/"
    },
    "id": "7Ec6s13ErMRl",
    "outputId": "d9bbc98d-ff6a-440d-8c49-fbd571dd3f51"
   },
   "outputs": [
    {
     "data": {
      "text/plain": [
       "tensor([[7.0000, 0.3904, 0.2499],\n",
       "        [0.3206, 0.9753, 0.7582]])"
      ]
     },
     "execution_count": 145,
     "metadata": {},
     "output_type": "execute_result"
    }
   ],
   "source": [
    "c=a.clone()\n",
    "c"
   ]
  },
  {
   "cell_type": "code",
   "execution_count": 147,
   "metadata": {
    "colab": {
     "base_uri": "https://localhost:8080/"
    },
    "id": "N4esuwyVrPgZ",
    "outputId": "af800061-b03f-44fd-97e8-424c1698914c"
   },
   "outputs": [
    {
     "data": {
      "text/plain": [
       "tensor([[12.0000,  0.3904,  0.2499],\n",
       "        [ 0.3206,  0.9753,  0.7582]])"
      ]
     },
     "execution_count": 147,
     "metadata": {},
     "output_type": "execute_result"
    }
   ],
   "source": [
    "a[0][0]=12\n",
    "a"
   ]
  },
  {
   "cell_type": "code",
   "execution_count": 148,
   "metadata": {
    "colab": {
     "base_uri": "https://localhost:8080/"
    },
    "id": "qfWIIZvKrUMt",
    "outputId": "caffb8e5-6671-4bc4-ab15-9d28a94e5e07"
   },
   "outputs": [
    {
     "data": {
      "text/plain": [
       "tensor([[7.0000, 0.3904, 0.2499],\n",
       "        [0.3206, 0.9753, 0.7582]])"
      ]
     },
     "execution_count": 148,
     "metadata": {},
     "output_type": "execute_result"
    }
   ],
   "source": [
    "c"
   ]
  },
  {
   "cell_type": "code",
   "execution_count": 149,
   "metadata": {
    "colab": {
     "base_uri": "https://localhost:8080/"
    },
    "id": "RR_eoW4XrVsk",
    "outputId": "19d64ddf-ac28-4662-9d09-14ed7f3be54c"
   },
   "outputs": [
    {
     "data": {
      "text/plain": [
       "140049279622736"
      ]
     },
     "execution_count": 149,
     "metadata": {},
     "output_type": "execute_result"
    }
   ],
   "source": [
    "id(a)"
   ]
  },
  {
   "cell_type": "code",
   "execution_count": 150,
   "metadata": {
    "colab": {
     "base_uri": "https://localhost:8080/"
    },
    "id": "nxPkU67GrX_e",
    "outputId": "2746d52d-0860-42cb-e76c-d62bc12a1060"
   },
   "outputs": [
    {
     "data": {
      "text/plain": [
       "140054071244464"
      ]
     },
     "execution_count": 150,
     "metadata": {},
     "output_type": "execute_result"
    }
   ],
   "source": [
    "id(c)"
   ]
  },
  {
   "cell_type": "code",
   "execution_count": null,
   "metadata": {
    "id": "7GMrJJ9Zri8R"
   },
   "outputs": [],
   "source": []
  }
 ],
 "metadata": {
  "accelerator": "GPU",
  "colab": {
   "gpuType": "T4",
   "name": "Welcome To Colab",
   "provenance": []
  },
  "kernelspec": {
   "display_name": "Python 3 (ipykernel)",
   "language": "python",
   "name": "python3"
  },
  "language_info": {
   "codemirror_mode": {
    "name": "ipython",
    "version": 3
   },
   "file_extension": ".py",
   "mimetype": "text/x-python",
   "name": "python",
   "nbconvert_exporter": "python",
   "pygments_lexer": "ipython3",
   "version": "3.12.7"
  }
 },
 "nbformat": 4,
 "nbformat_minor": 4
}
