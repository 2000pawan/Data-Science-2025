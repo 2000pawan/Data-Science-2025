{
 "cells": [
  {
   "cell_type": "markdown",
   "id": "94ab59b7-1edb-48e2-a5ad-21f0991a5574",
   "metadata": {},
   "source": [
    "### Training pipe line using NN modules."
   ]
  },
  {
   "cell_type": "markdown",
   "id": "935f4893-bc2e-4b38-beb0-6d90b7f9a25a",
   "metadata": {},
   "source": [
    "## Important Library."
   ]
  },
  {
   "cell_type": "code",
   "execution_count": 3,
   "id": "95162b0f-102a-457e-b273-5f072b796f1f",
   "metadata": {},
   "outputs": [],
   "source": [
    "# pip install torchinfo"
   ]
  },
  {
   "cell_type": "code",
   "execution_count": 5,
   "id": "31b327a1-756f-4ef8-b93f-2d516552a8a5",
   "metadata": {},
   "outputs": [],
   "source": [
    "import pandas as pd\n",
    "import numpy as np\n",
    "from sklearn.model_selection import train_test_split\n",
    "from sklearn.preprocessing import StandardScaler,LabelEncoder\n",
    "from sklearn.datasets import load_breast_cancer\n",
    "import torch \n",
    "import torch.nn as nn\n",
    "from torchinfo import summary"
   ]
  },
  {
   "cell_type": "markdown",
   "id": "3a332295-65f3-4211-8c8b-3dbc321191af",
   "metadata": {},
   "source": [
    "## Define Model."
   ]
  },
  {
   "cell_type": "code",
   "execution_count": 121,
   "id": "791b5c3d-6977-4949-9142-5ab8c135cbc8",
   "metadata": {},
   "outputs": [
    {
     "name": "stdout",
     "output_type": "stream",
     "text": [
      "torch.Size([10, 5])\n",
      "Parameter containing:\n",
      "tensor([[ 0.4158, -0.3820, -0.2416,  0.0510, -0.3105]], requires_grad=True)\n",
      "Parameter containing:\n",
      "tensor([0.0604], requires_grad=True)\n",
      "==========================================================================================\n",
      "Layer (type:depth-idx)                   Output Shape              Param #\n",
      "==========================================================================================\n",
      "Model                                    [10, 1]                   --\n",
      "├─Linear: 1-1                            [10, 1]                   6\n",
      "├─Sigmoid: 1-2                           [10, 1]                   --\n",
      "==========================================================================================\n",
      "Total params: 6\n",
      "Trainable params: 6\n",
      "Non-trainable params: 0\n",
      "Total mult-adds (Units.MEGABYTES): 0.00\n",
      "==========================================================================================\n",
      "Input size (MB): 0.00\n",
      "Forward/backward pass size (MB): 0.00\n",
      "Params size (MB): 0.00\n",
      "Estimated Total Size (MB): 0.00\n",
      "==========================================================================================\n"
     ]
    }
   ],
   "source": [
    "# Create Model Class with simple neural network without hidden layers.\n",
    "class Model(nn.Module):\n",
    "    def __init__(self, num_features):\n",
    "        \n",
    "        super().__init__()\n",
    "        \n",
    "        self.linear=nn.Linear(num_features,1)\n",
    "        self.sigmoid=nn.Sigmoid()\n",
    "    \n",
    "# Forward Pass\n",
    "    def forward(self,features):\n",
    "        \n",
    "        out=self.linear(features)\n",
    "        out=self.sigmoid(out)\n",
    "        \n",
    "        return out\n",
    "\n",
    "# Create fake dataset.\n",
    "features=torch.rand(10,5)\n",
    "print(features.shape)\n",
    "\n",
    "# Create Model object.\n",
    "model=Model(features.shape[1])\n",
    "\n",
    "# Call forward pass.\n",
    "#model.forward(features) # pytorch used magic method __call__ and override  this and when we call its autometic trigger.\n",
    "model(features)\n",
    "\n",
    "# show model weights and bias.\n",
    "print(model.linear.weight)\n",
    "print(model.linear.bias)\n",
    "\n",
    "print(summary(model,input_size=(10,5)))"
   ]
  },
  {
   "cell_type": "code",
   "execution_count": 10,
   "id": "98c7bd68-904c-4563-8128-f99fd9ae1f5f",
   "metadata": {},
   "outputs": [
    {
     "name": "stdout",
     "output_type": "stream",
     "text": [
      "Parameter containing:\n",
      "tensor([[ 0.2530, -0.3997, -0.0632,  0.1510, -0.0385],\n",
      "        [ 0.1416,  0.2036, -0.1634, -0.4263, -0.2696],\n",
      "        [-0.3738, -0.2034, -0.2498,  0.1593, -0.0446]], requires_grad=True)\n",
      "Parameter containing:\n",
      "tensor([ 0.2746,  0.3960, -0.1268], requires_grad=True)\n",
      "Parameter containing:\n",
      "tensor([[-0.1425,  0.1777,  0.1250]], requires_grad=True)\n",
      "Parameter containing:\n",
      "tensor([0.4779], requires_grad=True)\n",
      "==========================================================================================\n",
      "Layer (type:depth-idx)                   Output Shape              Param #\n",
      "==========================================================================================\n",
      "Model                                    [10, 1]                   --\n",
      "├─Linear: 1-1                            [10, 3]                   18\n",
      "├─ReLU: 1-2                              [10, 3]                   --\n",
      "├─Linear: 1-3                            [10, 1]                   4\n",
      "├─Sigmoid: 1-4                           [10, 1]                   --\n",
      "==========================================================================================\n",
      "Total params: 22\n",
      "Trainable params: 22\n",
      "Non-trainable params: 0\n",
      "Total mult-adds (Units.MEGABYTES): 0.00\n",
      "==========================================================================================\n",
      "Input size (MB): 0.00\n",
      "Forward/backward pass size (MB): 0.00\n",
      "Params size (MB): 0.00\n",
      "Estimated Total Size (MB): 0.00\n",
      "==========================================================================================\n"
     ]
    }
   ],
   "source": [
    "# Create Model Class with simple neural network with hidden layers.\n",
    "class Model(nn.Module):\n",
    "    def __init__(self, num_features):\n",
    "        \n",
    "        super().__init__()\n",
    "        \n",
    "        self.linear1=nn.Linear(num_features,3)\n",
    "        self.relu=nn.ReLU()\n",
    "        self.linear2=nn.Linear(3,1)\n",
    "        self.sigmoid=nn.Sigmoid()\n",
    "    \n",
    "# Forward Pass\n",
    "    def forward(self,features):\n",
    "        \n",
    "        out=self.linear1(features)\n",
    "        out=self.relu(out)\n",
    "        out=self.linear2(out)\n",
    "        out=self.sigmoid(out)\n",
    "        \n",
    "        return out\n",
    "\n",
    "# Create fake dataset.\n",
    "features=torch.rand(10,5)\n",
    "\n",
    "# Create Model object.\n",
    "model=Model(features.shape[1])\n",
    "\n",
    "# Call forward pass.\n",
    "#model.forward(features) # pytorch used magic method __call__ and override  this and when we call its autometic trigger.\n",
    "model(features)\n",
    "\n",
    "# show model weights and bias.\n",
    "print(model.linear1.weight)\n",
    "print(model.linear1.bias)\n",
    "print(model.linear2.weight)\n",
    "print(model.linear2.bias)\n",
    "\n",
    "print(summary(model,input_size=(10,5)))"
   ]
  },
  {
   "cell_type": "code",
   "execution_count": 12,
   "id": "f1239b8f-ad64-4e3a-ae4e-85bfc68fd527",
   "metadata": {},
   "outputs": [
    {
     "name": "stdout",
     "output_type": "stream",
     "text": [
      "Layer: network.0.weight | Size: torch.Size([3, 5]) | Values: Parameter containing:\n",
      "tensor([[ 0.1004, -0.1478, -0.0462, -0.4153,  0.0950],\n",
      "        [-0.2977, -0.0104, -0.1724,  0.2615,  0.0189],\n",
      "        [ 0.0158,  0.1700, -0.1978,  0.3707,  0.1917]], requires_grad=True)\n",
      "\n",
      "Layer: network.0.bias | Size: torch.Size([3]) | Values: Parameter containing:\n",
      "tensor([0.2534, 0.0745, 0.0961], requires_grad=True)\n",
      "\n",
      "Layer: network.2.weight | Size: torch.Size([1, 3]) | Values: Parameter containing:\n",
      "tensor([[-0.3534,  0.2422,  0.1602]], requires_grad=True)\n",
      "\n",
      "Layer: network.2.bias | Size: torch.Size([1]) | Values: Parameter containing:\n",
      "tensor([-0.0026], requires_grad=True)\n",
      "\n",
      "==========================================================================================\n",
      "Layer (type:depth-idx)                   Output Shape              Param #\n",
      "==========================================================================================\n",
      "Model                                    [10, 1]                   --\n",
      "├─Sequential: 1-1                        [10, 1]                   --\n",
      "│    └─Linear: 2-1                       [10, 3]                   18\n",
      "│    └─ReLU: 2-2                         [10, 3]                   --\n",
      "│    └─Linear: 2-3                       [10, 1]                   4\n",
      "│    └─Sigmoid: 2-4                      [10, 1]                   --\n",
      "==========================================================================================\n",
      "Total params: 22\n",
      "Trainable params: 22\n",
      "Non-trainable params: 0\n",
      "Total mult-adds (Units.MEGABYTES): 0.00\n",
      "==========================================================================================\n",
      "Input size (MB): 0.00\n",
      "Forward/backward pass size (MB): 0.00\n",
      "Params size (MB): 0.00\n",
      "Estimated Total Size (MB): 0.00\n",
      "==========================================================================================\n"
     ]
    }
   ],
   "source": [
    "# Create Model Class with simple neural network with hidden layers and use sequential container.\n",
    "class Model(nn.Module):\n",
    "    def __init__(self, num_features):\n",
    "        \n",
    "        super().__init__()\n",
    "        \n",
    "        self.network=nn.Sequential(nn.Linear(num_features,3),\n",
    "            nn.ReLU(),\n",
    "            nn.Linear(3,1),\n",
    "            nn.Sigmoid()\n",
    "        )\n",
    "    \n",
    "# Forward Pass\n",
    "    def forward(self,features):\n",
    "        \n",
    "        out=self.network(features)  \n",
    "        return out\n",
    "\n",
    "# Create fake dataset.\n",
    "features=torch.rand(10,5)\n",
    "\n",
    "# Create Model object.\n",
    "model=Model(features.shape[1])\n",
    "\n",
    "# Call forward pass.\n",
    "#model.forward(features) # pytorch used magic method __call__ and override  this and when we call its autometic trigger.\n",
    "model(features)\n",
    "\n",
    "# Iterate through each layer and print its parameters\n",
    "for name, param in model.named_parameters():\n",
    "    if 'weight' in name:\n",
    "        print(f'Layer: {name} | Size: {param.size()} | Values: {param}\\n')\n",
    "    elif 'bias' in name:\n",
    "        print(f'Layer: {name} | Size: {param.size()} | Values: {param}\\n')\n",
    "\n",
    "print(summary(model,input_size=(10,5)))"
   ]
  },
  {
   "cell_type": "markdown",
   "id": "beed6ff0-e77b-458e-9521-e2ad87b7221b",
   "metadata": {},
   "source": [
    "## Load data, Split data, Scale data, Encode data."
   ]
  },
  {
   "cell_type": "code",
   "execution_count": 134,
   "id": "90409586-8fbb-4fce-832b-154f4a2a27ad",
   "metadata": {},
   "outputs": [],
   "source": [
    "df = load_breast_cancer()\n",
    "X = df.data\n",
    "y = df.target\n",
    "\n",
    "# Train Test Split\n",
    "X_train, X_test, y_train, y_test = train_test_split(X, y, random_state=1, test_size=0.2)\n",
    "\n",
    "# Scaling\n",
    "sc = StandardScaler()\n",
    "X_train_new = sc.fit_transform(X_train)\n",
    "X_test_new = sc.transform(X_test)\n",
    "\n",
    "# Encoding target\n",
    "lenc = LabelEncoder()\n",
    "y_train_new = lenc.fit_transform(y_train)\n",
    "y_test_new = lenc.transform(y_test)"
   ]
  },
  {
   "cell_type": "markdown",
   "id": "4f16a63b-8b00-4f95-bb3c-f82904b97599",
   "metadata": {},
   "source": [
    "## Convert Numpy to Tensor array."
   ]
  },
  {
   "cell_type": "code",
   "execution_count": 137,
   "id": "369869e1-34ca-4253-9cd0-c486a55a8afd",
   "metadata": {},
   "outputs": [],
   "source": [
    "# Numpy array to tensor \n",
    "X_train = torch.from_numpy(X_train_new).float()\n",
    "X_test = torch.from_numpy(X_test_new).float()\n",
    "y_train = torch.from_numpy(y_train_new).float()\n",
    "y_test = torch.from_numpy(y_test_new).float()"
   ]
  },
  {
   "cell_type": "markdown",
   "id": "6e2f8c72-8acc-41a5-9176-a21a4b4fbc1a",
   "metadata": {},
   "source": [
    "## Define Model."
   ]
  },
  {
   "cell_type": "code",
   "execution_count": 140,
   "id": "a6eedae9-2af9-439a-993f-b942963d7ce9",
   "metadata": {},
   "outputs": [],
   "source": [
    "# Create Model.\n",
    "class MySimpleModel(nn.Module):\n",
    "    def __init__(self, num_features):\n",
    "        super().__init__()\n",
    "        self.network=nn.Sequential(nn.Linear(num_features,20),\n",
    "                                  nn.ReLU(),\n",
    "                                  nn.Linear(20,15),\n",
    "                                  nn.ReLU(),\n",
    "                                  nn.Linear(15,10),\n",
    "                                  nn.ReLU(),\n",
    "                                  nn.Linear(10,1),\n",
    "                                  nn.Sigmoid()\n",
    "                                  )\n",
    "    def forward(self,features):\n",
    "        out=self.network(features)\n",
    "        return out"
   ]
  },
  {
   "cell_type": "markdown",
   "id": "3f6b3e3b-60c0-4415-9564-5e1b272513df",
   "metadata": {},
   "source": [
    "## Important Parameters."
   ]
  },
  {
   "cell_type": "code",
   "execution_count": 143,
   "id": "69b1471b-e1d3-4857-b24b-3d79e9c4ddbc",
   "metadata": {},
   "outputs": [],
   "source": [
    "learning_rate=0.1\n",
    "epochs=25"
   ]
  },
  {
   "cell_type": "markdown",
   "id": "f028507c-2116-45f9-8648-a386ffbe7729",
   "metadata": {},
   "source": [
    "## Training Pipeline."
   ]
  },
  {
   "cell_type": "code",
   "execution_count": 146,
   "id": "ef1f5062-29c9-49db-80bb-736db193de3a",
   "metadata": {},
   "outputs": [
    {
     "name": "stdout",
     "output_type": "stream",
     "text": [
      "Epoch: 1, Loss: 0.7047147750854492\n",
      "Epoch: 2, Loss: 0.7004538178443909\n",
      "Epoch: 3, Loss: 0.6964207887649536\n",
      "Epoch: 4, Loss: 0.6925965547561646\n",
      "Epoch: 5, Loss: 0.6889612078666687\n",
      "Epoch: 6, Loss: 0.6854921579360962\n",
      "Epoch: 7, Loss: 0.68217533826828\n",
      "Epoch: 8, Loss: 0.6789976954460144\n",
      "Epoch: 9, Loss: 0.6759387254714966\n",
      "Epoch: 10, Loss: 0.6729825735092163\n",
      "Epoch: 11, Loss: 0.6701138615608215\n",
      "Epoch: 12, Loss: 0.667317807674408\n",
      "Epoch: 13, Loss: 0.6645802855491638\n",
      "Epoch: 14, Loss: 0.66189044713974\n",
      "Epoch: 15, Loss: 0.6592341661453247\n",
      "Epoch: 16, Loss: 0.6566019058227539\n",
      "Epoch: 17, Loss: 0.653978168964386\n",
      "Epoch: 18, Loss: 0.6513524055480957\n",
      "Epoch: 19, Loss: 0.6487146615982056\n",
      "Epoch: 20, Loss: 0.6460612416267395\n",
      "Epoch: 21, Loss: 0.643376886844635\n",
      "Epoch: 22, Loss: 0.6406514048576355\n",
      "Epoch: 23, Loss: 0.6378569006919861\n",
      "Epoch: 24, Loss: 0.634980320930481\n",
      "Epoch: 25, Loss: 0.6320151090621948\n"
     ]
    }
   ],
   "source": [
    "# Define Loss Function.\n",
    "loss_func=nn.BCELoss()\n",
    "\n",
    "# Create Model Object.\n",
    "model= MySimpleModel(X_train.shape[1])\n",
    "\n",
    "# Define optimizer.\n",
    "optimizer= torch.optim.SGD(model.parameters(), lr=learning_rate)\n",
    "\n",
    "# define loop\n",
    "for epoch in range(epochs):\n",
    "\n",
    "    # forward pass\n",
    "    y_pred=model(X_train)\n",
    "    \n",
    "    # Loss calculation\n",
    "    # view() is used to reshape a tensor without changing its data. \n",
    "    # The -1 tells PyTorch: \"I don’t know what this dimension should be,\n",
    "    # so calculate it automatically based on the other dimensions and total number of elements.\"\"\"\"\n",
    "    loss=loss_func(y_pred, y_train.view(-1,1))\n",
    "    \n",
    "    # Clear gradients \n",
    "    optimizer.zero_grad()\n",
    "\n",
    "    # Backward pass\n",
    "    loss.backward()\n",
    "    \n",
    "    #parameters update\n",
    "    optimizer.step()\n",
    "    \n",
    "    # print loss in each epoch\n",
    "    print(f'Epoch: {epoch + 1}, Loss: {loss.item()}')\n",
    "\n",
    "    "
   ]
  },
  {
   "cell_type": "markdown",
   "id": "41fb8f02-fe7b-4c7d-be0f-63038a8766c1",
   "metadata": {},
   "source": [
    "## Evaluation."
   ]
  },
  {
   "cell_type": "code",
   "execution_count": 157,
   "id": "5074f915-0fe7-40f3-8d29-c94b4a68b2ce",
   "metadata": {},
   "outputs": [
    {
     "name": "stdout",
     "output_type": "stream",
     "text": [
      "Accuracy: 0.6315789222717285\n"
     ]
    }
   ],
   "source": [
    "# model evaluation\n",
    "with torch.no_grad():\n",
    "  y_pred = model.forward(X_test)\n",
    "  y_pred = (y_pred > 0.5).float()\n",
    "  accuracy = (y_pred == y_test).float().mean()\n",
    "  print(f'Accuracy: {accuracy.item()}')"
   ]
  },
  {
   "cell_type": "code",
   "execution_count": 159,
   "id": "60790d3b-95e7-43b2-b793-7271c08b7c89",
   "metadata": {},
   "outputs": [
    {
     "name": "stdout",
     "output_type": "stream",
     "text": [
      "==========================================================================================\n",
      "Layer (type:depth-idx)                   Output Shape              Param #\n",
      "==========================================================================================\n",
      "MySimpleModel                            [455, 1]                  --\n",
      "├─Sequential: 1-1                        [455, 1]                  --\n",
      "│    └─Linear: 2-1                       [455, 20]                 620\n",
      "│    └─ReLU: 2-2                         [455, 20]                 --\n",
      "│    └─Linear: 2-3                       [455, 15]                 315\n",
      "│    └─ReLU: 2-4                         [455, 15]                 --\n",
      "│    └─Linear: 2-5                       [455, 10]                 160\n",
      "│    └─ReLU: 2-6                         [455, 10]                 --\n",
      "│    └─Linear: 2-7                       [455, 1]                  11\n",
      "│    └─Sigmoid: 2-8                      [455, 1]                  --\n",
      "==========================================================================================\n",
      "Total params: 1,106\n",
      "Trainable params: 1,106\n",
      "Non-trainable params: 0\n",
      "Total mult-adds (Units.MEGABYTES): 0.50\n",
      "==========================================================================================\n",
      "Input size (MB): 0.05\n",
      "Forward/backward pass size (MB): 0.17\n",
      "Params size (MB): 0.00\n",
      "Estimated Total Size (MB): 0.23\n",
      "==========================================================================================\n"
     ]
    }
   ],
   "source": [
    "print(summary(model, input_size=(X_train.shape[0], X_train.shape[1])))"
   ]
  },
  {
   "cell_type": "code",
   "execution_count": null,
   "id": "78b62e4b-0082-499c-a5e4-6472a9276d87",
   "metadata": {},
   "outputs": [],
   "source": []
  }
 ],
 "metadata": {
  "kernelspec": {
   "display_name": "Python 3 (ipykernel)",
   "language": "python",
   "name": "python3"
  },
  "language_info": {
   "codemirror_mode": {
    "name": "ipython",
    "version": 3
   },
   "file_extension": ".py",
   "mimetype": "text/x-python",
   "name": "python",
   "nbconvert_exporter": "python",
   "pygments_lexer": "ipython3",
   "version": "3.12.7"
  }
 },
 "nbformat": 4,
 "nbformat_minor": 5
}
