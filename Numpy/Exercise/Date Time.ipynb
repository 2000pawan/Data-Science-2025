{
 "cells": [
  {
   "cell_type": "code",
   "execution_count": 12,
   "id": "ba9c5909-5997-46f5-a0c8-2510236267fa",
   "metadata": {},
   "outputs": [],
   "source": [
    "import numpy as np\n",
    "import warnings\n",
    "warnings.filterwarnings('ignore')"
   ]
  },
  {
   "cell_type": "code",
   "execution_count": 2,
   "id": "c591a735-94d0-4c3f-8c7c-b37736855dd2",
   "metadata": {},
   "outputs": [
    {
     "name": "stdout",
     "output_type": "stream",
     "text": [
      "March 2024\n",
      "['2024-03-01' '2024-03-02' '2024-03-03' '2024-03-04' '2024-03-05'\n",
      " '2024-03-06' '2024-03-07' '2024-03-08' '2024-03-09' '2024-03-10'\n",
      " '2024-03-11' '2024-03-12' '2024-03-13' '2024-03-14' '2024-03-15'\n",
      " '2024-03-16' '2024-03-17' '2024-03-18' '2024-03-19' '2024-03-20'\n",
      " '2024-03-21' '2024-03-22' '2024-03-23' '2024-03-24' '2024-03-25'\n",
      " '2024-03-26' '2024-03-27' '2024-03-28' '2024-03-29' '2024-03-30'\n",
      " '2024-03-31']\n"
     ]
    }
   ],
   "source": [
    "print('March','2024')\n",
    "print(np.arange('2024-03','2024-04',dtype='datetime64[D]'))"
   ]
  },
  {
   "cell_type": "code",
   "execution_count": 3,
   "id": "8d5043de-5d8e-4d8b-9d88-7580ccc33aab",
   "metadata": {},
   "outputs": [
    {
     "name": "stdout",
     "output_type": "stream",
     "text": [
      "Yesterday:- 2024-03-26\n",
      "Today:- 2024-03-27\n",
      "Tomorrow:- 2024-03-28\n"
     ]
    }
   ],
   "source": [
    "print('Yesterday:-',np.datetime64('today','D')-np.timedelta64(1,'D'))\n",
    "print('Today:-',np.datetime64('today','D'))\n",
    "print('Tomorrow:-',np.datetime64('today','D')+np.timedelta64(1,'D'))"
   ]
  },
  {
   "cell_type": "code",
   "execution_count": 4,
   "id": "2a01fece-f8e2-4db4-bcf0-27a7db395f60",
   "metadata": {},
   "outputs": [
    {
     "name": "stdout",
     "output_type": "stream",
     "text": [
      "Number of days, February, 2016: \n",
      "29 days\n",
      "Number of days, February, 2017: \n",
      "28 days\n",
      "Number of days, February, 2018: \n",
      "28 days\n"
     ]
    }
   ],
   "source": [
    "print(\"Number of days, February, 2016: \")\n",
    "print(np.datetime64('2016-03-01') - np.datetime64('2016-02-01'))\n",
    "\n",
    "# Calculating the number of days in February 2017 using datetime64\n",
    "print(\"Number of days, February, 2017: \")\n",
    "print(np.datetime64('2017-03-01') - np.datetime64('2017-02-01'))\n",
    "\n",
    "# Calculating the number of days in February 2018 using datetime64\n",
    "print(\"Number of days, February, 2018: \")\n",
    "print(np.datetime64('2018-03-01') - np.datetime64('2018-02-01'))"
   ]
  },
  {
   "cell_type": "code",
   "execution_count": 6,
   "id": "d367bfb8-4595-472a-afa4-d67924685647",
   "metadata": {},
   "outputs": [
    {
     "name": "stdout",
     "output_type": "stream",
     "text": [
      "[datetime.datetime(2000, 8, 22, 0, 0) datetime.datetime(2000, 8, 22, 1, 0)\n",
      " datetime.datetime(2000, 8, 22, 2, 0) datetime.datetime(2000, 8, 22, 3, 0)\n",
      " datetime.datetime(2000, 8, 22, 4, 0) datetime.datetime(2000, 8, 22, 5, 0)\n",
      " datetime.datetime(2000, 8, 22, 6, 0) datetime.datetime(2000, 8, 22, 7, 0)\n",
      " datetime.datetime(2000, 8, 22, 8, 0) datetime.datetime(2000, 8, 22, 9, 0)\n",
      " datetime.datetime(2000, 8, 22, 10, 0)\n",
      " datetime.datetime(2000, 8, 22, 11, 0)\n",
      " datetime.datetime(2000, 8, 22, 12, 0)\n",
      " datetime.datetime(2000, 8, 22, 13, 0)\n",
      " datetime.datetime(2000, 8, 22, 14, 0)\n",
      " datetime.datetime(2000, 8, 22, 15, 0)\n",
      " datetime.datetime(2000, 8, 22, 16, 0)\n",
      " datetime.datetime(2000, 8, 22, 17, 0)\n",
      " datetime.datetime(2000, 8, 22, 18, 0)\n",
      " datetime.datetime(2000, 8, 22, 19, 0)\n",
      " datetime.datetime(2000, 8, 22, 20, 0)\n",
      " datetime.datetime(2000, 8, 22, 21, 0)\n",
      " datetime.datetime(2000, 8, 22, 22, 0)\n",
      " datetime.datetime(2000, 8, 22, 23, 0)]\n"
     ]
    }
   ],
   "source": [
    "import datetime\n",
    "start=datetime.datetime(2000,8,22)\n",
    "dt_array=np.array([start + datetime.timedelta(hours=i) for i in range(24)])\n",
    "print(dt_array)"
   ]
  },
  {
   "cell_type": "code",
   "execution_count": 9,
   "id": "5bc4ff6c-5e1c-4396-8f03-cff1a5a29140",
   "metadata": {},
   "outputs": [
    {
     "name": "stdout",
     "output_type": "stream",
     "text": [
      "First Monday in May 2024:\n",
      "2024-03-04\n"
     ]
    }
   ],
   "source": [
    "print(\"First Monday in May 2024:\")\n",
    "print(np.busday_offset('2024-03', 0, roll='forward', weekmask='Mon')) "
   ]
  },
  {
   "cell_type": "code",
   "execution_count": 10,
   "id": "ed3d2ff7-28a2-4ccd-b3ca-358aa376d1f3",
   "metadata": {},
   "outputs": [
    {
     "name": "stdout",
     "output_type": "stream",
     "text": [
      "Number of weekdays in March 2017:\n",
      "23\n"
     ]
    }
   ],
   "source": [
    "print(\"Number of weekdays in March 2017:\")\n",
    "print(np.busday_count('2017-03', '2017-04')) "
   ]
  },
  {
   "cell_type": "code",
   "execution_count": 13,
   "id": "252c9605-4687-4cc6-942b-b7bcb9e630a0",
   "metadata": {},
   "outputs": [
    {
     "name": "stdout",
     "output_type": "stream",
     "text": [
      "Current date:\n",
      "2024-03-27 14:33:11.488771\n",
      "Timestamp:\n",
      "1711549991.488771\n",
      "UTC from Timestamp:\n",
      "2024-03-27 14:33:11.488771\n"
     ]
    }
   ],
   "source": [
    "from datetime import datetime\n",
    "\n",
    "# Getting the current date and time in UTC\n",
    "dt = datetime.utcnow()\n",
    "\n",
    "# Displaying the current date and time\n",
    "print(\"Current date:\")\n",
    "print(dt)\n",
    "\n",
    "# Converting the datetime object to a NumPy datetime64 object\n",
    "dt64 = np.datetime64(dt)\n",
    "\n",
    "# Calculating the timestamp from the datetime64 object\n",
    "# The timestamp is calculated by subtracting the datetime '1970-01-01T00:00:00Z' from the current datetime\n",
    "# Then it's divided by the number of seconds in one unit of timedelta64 to get the timestamp\n",
    "ts = (dt64 - np.datetime64('1970-01-01T00:00:00Z')) / np.timedelta64(1, 's')\n",
    "\n",
    "# Displaying the timestamp\n",
    "print(\"Timestamp:\")\n",
    "print(ts)\n",
    "\n",
    "# Converting the timestamp back to UTC datetime and displaying it\n",
    "print(\"UTC from Timestamp:\")\n",
    "print(datetime.utcfromtimestamp(ts))\n"
   ]
  },
  {
   "cell_type": "code",
   "execution_count": null,
   "id": "575bbb69-de78-4870-b193-d9ed72a8bfdd",
   "metadata": {},
   "outputs": [],
   "source": []
  }
 ],
 "metadata": {
  "kernelspec": {
   "display_name": "Python 3 (ipykernel)",
   "language": "python",
   "name": "python3"
  },
  "language_info": {
   "codemirror_mode": {
    "name": "ipython",
    "version": 3
   },
   "file_extension": ".py",
   "mimetype": "text/x-python",
   "name": "python",
   "nbconvert_exporter": "python",
   "pygments_lexer": "ipython3",
   "version": "3.11.7"
  },
  "widgets": {
   "application/vnd.jupyter.widget-state+json": {
    "state": {},
    "version_major": 2,
    "version_minor": 0
   }
  }
 },
 "nbformat": 4,
 "nbformat_minor": 5
}
