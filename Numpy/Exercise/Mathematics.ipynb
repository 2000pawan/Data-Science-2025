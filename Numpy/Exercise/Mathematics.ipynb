{
 "cells": [
  {
   "cell_type": "code",
   "execution_count": 1,
   "id": "f8085dbf-18b3-4c75-9ffa-8b8a260939dd",
   "metadata": {},
   "outputs": [],
   "source": [
    "import numpy as np"
   ]
  },
  {
   "cell_type": "code",
   "execution_count": 7,
   "id": "8bcc3f6c-5a4e-47bf-bf64-4dc1da16d0fa",
   "metadata": {},
   "outputs": [
    {
     "name": "stdout",
     "output_type": "stream",
     "text": [
      "5.2\n",
      "2.8\n",
      "4.8\n",
      "3.3333333333333335\n"
     ]
    }
   ],
   "source": [
    "print(np.add(4.0,1.2))\n",
    "print(np.subtract(4.0,1.2))\n",
    "print(np.multiply(4.0,1.2))\n",
    "print(np.divide(4.0,1.2))"
   ]
  },
  {
   "cell_type": "code",
   "execution_count": 9,
   "id": "ea4232fe-8a76-4f6a-91ad-65fc2a280016",
   "metadata": {},
   "outputs": [
    {
     "name": "stdout",
     "output_type": "stream",
     "text": [
      "-113.87649168120691\n",
      "-113.59955522772194\n"
     ]
    }
   ],
   "source": [
    "l1 = np.log(1e-50)\n",
    "l2 = np.log(2.5e-50)\n",
    "print(np.logaddexp(l1,l2))\n",
    "print(np.logaddexp2(l1,l2))"
   ]
  },
  {
   "cell_type": "code",
   "execution_count": 11,
   "id": "16f44f32-4700-412d-8c7a-229b6bfccf2f",
   "metadata": {},
   "outputs": [
    {
     "name": "stdout",
     "output_type": "stream",
     "text": [
      "[0.         0.33333333 0.66666667 1.         1.33333333 1.66666667\n",
      " 2.         2.33333333 2.66666667 3.        ]\n"
     ]
    }
   ],
   "source": [
    "x=np.arange(10)\n",
    "print(np.true_divide(x,3))"
   ]
  },
  {
   "cell_type": "code",
   "execution_count": 12,
   "id": "c064fc2d-5cf5-4edd-95df-835673219832",
   "metadata": {},
   "outputs": [
    {
     "name": "stdout",
     "output_type": "stream",
     "text": [
      "Original array:\n",
      "[0 1 2 3 4 5 6 7 8 9]\n",
      "Largest integer smaller or equal to the division of the inputs:\n",
      "[0. 0. 1. 2. 2. 3. 4. 4. 5. 6.]\n"
     ]
    }
   ],
   "source": [
    "print(\"Original array:\")\n",
    "print(x)\n",
    "print(\"Largest integer smaller or equal to the division of the inputs:\")\n",
    "print(np.floor_divide(x, 1.5))"
   ]
  },
  {
   "cell_type": "code",
   "execution_count": 13,
   "id": "9c1253a2-af17-4aa2-ba9f-b731b1070927",
   "metadata": {},
   "outputs": [
    {
     "name": "stdout",
     "output_type": "stream",
     "text": [
      "[  0   1   8  27  64 125 216]\n"
     ]
    }
   ],
   "source": [
    "x=np.arange(7)\n",
    "print(np.power(x,3))"
   ]
  },
  {
   "cell_type": "code",
   "execution_count": 18,
   "id": "d28e2d02-03ac-45e2-87d6-f62f69c8188d",
   "metadata": {},
   "outputs": [
    {
     "name": "stdout",
     "output_type": "stream",
     "text": [
      "[0 1 2 3 4 0 1]\n"
     ]
    }
   ],
   "source": [
    "x=np.arange(7)\n",
    "print(np.remainder(x,5))"
   ]
  },
  {
   "cell_type": "code",
   "execution_count": 23,
   "id": "cef520cf-c406-4d27-a325-200d459c8295",
   "metadata": {},
   "outputs": [
    {
     "name": "stdout",
     "output_type": "stream",
     "text": [
      "[ 10.2 122.2   0.2]\n"
     ]
    }
   ],
   "source": [
    "x=np.array([ -10.2,122.2, 0.2])\n",
    "print(np.absolute(x))"
   ]
  },
  {
   "cell_type": "code",
   "execution_count": 24,
   "id": "2decc251-a29f-4ba7-9627-938c16a9689b",
   "metadata": {},
   "outputs": [
    {
     "name": "stdout",
     "output_type": "stream",
     "text": [
      "[1. 2. 2.]\n",
      "[0.3 0.5 0.6]\n",
      "[0. 2. 2. 4. 4.]\n"
     ]
    }
   ],
   "source": [
    "# Importing the NumPy library\n",
    "import numpy as np\n",
    "\n",
    "# Rounding the numbers to the nearest integer\n",
    "x = np.round([1.45, 1.50, 1.55])\n",
    "print(x)\n",
    "\n",
    "# Rounding the numbers to one decimal place\n",
    "x = np.round([0.28, .50, .64], decimals=1)\n",
    "print(x)\n",
    "\n",
    "# Rounding the numbers to the nearest even value\n",
    "x = np.round([.5, 1.5, 2.5, 3.5, 4.5])\n",
    "print(x) \n"
   ]
  },
  {
   "cell_type": "code",
   "execution_count": 25,
   "id": "80a27d9d-7e87-488e-a3ad-8684ccea4fd9",
   "metadata": {},
   "outputs": [
    {
     "name": "stdout",
     "output_type": "stream",
     "text": [
      "Original array:\n",
      "[-0.7 -1.5 -1.7  0.3  1.5  1.8  2. ]\n",
      "Round elements of the array to the nearest integer:\n",
      "[-1. -2. -2.  0.  2.  2.  2.]\n"
     ]
    }
   ],
   "source": [
    "# Importing the NumPy library\n",
    "import numpy as np\n",
    "\n",
    "# Creating an array with float values\n",
    "x = np.array([-.7, -1.5, -1.7, 0.3, 1.5, 1.8, 2.0])\n",
    "\n",
    "# Displaying the original array\n",
    "print(\"Original array:\")\n",
    "print(x)\n",
    "\n",
    "# Rounding elements of the array to the nearest integer\n",
    "x = np.rint(x)\n",
    "print(\"Round elements of the array to the nearest integer:\")\n",
    "print(x) \n"
   ]
  },
  {
   "cell_type": "code",
   "execution_count": 26,
   "id": "89c939ef-150b-4494-b070-6fd34d76e6be",
   "metadata": {},
   "outputs": [
    {
     "name": "stdout",
     "output_type": "stream",
     "text": [
      "[-2. -2. -1.  0.  1.  1.  2.]\n",
      "[-1. -1. -0.  1.  2.  2.  2.]\n",
      "[-1. -1. -0.  0.  1.  1.  2.]\n"
     ]
    }
   ],
   "source": [
    "x = np.array([-1.6, -1.5, -0.3, 0.1, 1.4, 1.8, 2.0])\n",
    "print(np.floor(x))\n",
    "print(np.ceil(x))\n",
    "print(np.trunc(x))"
   ]
  },
  {
   "cell_type": "code",
   "execution_count": 27,
   "id": "eb3e128d-859a-4c87-a801-f266b948aea7",
   "metadata": {},
   "outputs": [
    {
     "name": "stdout",
     "output_type": "stream",
     "text": [
      "[[1.06664562 0.08356132]\n",
      " [1.30677177 0.17496452]\n",
      " [0.88942913 0.42275803]\n",
      " [0.90534318 0.37596251]\n",
      " [0.79804211 0.06992065]]\n"
     ]
    }
   ],
   "source": [
    "x=np.array([[ 0.44349753, 0.81043761, 0.00771825],\n",
    "[ 0.64004088, 0.86774612, 0.19944667],\n",
    "[ 0.61520091, 0.24796788, 0.93798297],\n",
    "[ 0.22156999, 0.61318856, 0.82348994],\n",
    "[ 0.91324026, 0.13411297, 0.00622696]])\n",
    "y=np.array([[ 0.73873542, 0.06448186],\n",
    "[ 0.90974982, 0.06409165],\n",
    "[ 0.22321268, 0.39147412]])\n",
    "print(np.dot(x,y))"
   ]
  },
  {
   "cell_type": "code",
   "execution_count": 32,
   "id": "abfe7def-cb74-4999-a303-3f961b2c4ccb",
   "metadata": {},
   "outputs": [
    {
     "name": "stdout",
     "output_type": "stream",
     "text": [
      "(70-8j)\n"
     ]
    }
   ],
   "source": [
    "x=np.array([ 1.+2.j, 3.+4.j])\n",
    "y=np.array([ 5.+6.j, 7.+8.j])\n",
    "print(np.vdot(x,y))"
   ]
  },
  {
   "cell_type": "code",
   "execution_count": 34,
   "id": "c441e065-7333-4130-9531-d3306378e413",
   "metadata": {},
   "outputs": [
    {
     "name": "stdout",
     "output_type": "stream",
     "text": [
      "[[ 14  38  62]\n",
      " [ 86 110 134]]\n"
     ]
    }
   ],
   "source": [
    "x=np.array([[[ 0, 1, 2, 3],\n",
    "[ 4, 5, 6, 7],\n",
    "[ 8, 9, 10, 11]],\n",
    "[[12, 13, 14, 15],\n",
    "[16, 17, 18, 19],\n",
    "[20, 21, 22, 23]]])\n",
    "y=np.array([0,1,2,3])\n",
    "print(np.inner(x,y))"
   ]
  },
  {
   "cell_type": "code",
   "execution_count": 37,
   "id": "a643814b-3f07-4430-a7c5-d38ed0a6a337",
   "metadata": {},
   "outputs": [
    {
     "name": "stdout",
     "output_type": "stream",
     "text": [
      "10.0\n",
      "[[2. 2. 1.]\n",
      " [8. 8. 4.]\n",
      " [0. 0. 0.]]\n",
      "[ 4. -1. -6.]\n"
     ]
    }
   ],
   "source": [
    "x=np.array([ 1., 4., 0.])\n",
    "y=np.array([ 2., 2., 1.])\n",
    "print(np.inner(x,y))\n",
    "print(np.outer(x,y))\n",
    "print(np.cross(x,y))"
   ]
  },
  {
   "cell_type": "code",
   "execution_count": 42,
   "id": "bc165b8c-ee91-436c-a6d6-47f9e8a8c3e2",
   "metadata": {},
   "outputs": [
    {
     "name": "stdout",
     "output_type": "stream",
     "text": [
      "[[3 1]\n",
      " [5 3]]\n"
     ]
    }
   ],
   "source": [
    "x=[[1,0],[1,1]]\n",
    "y=[[3,1],[2,2]]\n",
    "print(np.matmul(x,y))"
   ]
  },
  {
   "cell_type": "code",
   "execution_count": 43,
   "id": "9682f1d4-b79a-4ac7-90ee-0387a800aeba",
   "metadata": {},
   "outputs": [
    {
     "name": "stdout",
     "output_type": "stream",
     "text": [
      "Roots of the first polynomial:\n",
      "[1.+6.68896751e-09j 1.-6.68896751e-09j]\n",
      "Roots of the second polynomial:\n",
      "[11.04461946+0.j        -0.8711421 +0.j         0.91326132+0.4531004j\n",
      "  0.91326132-0.4531004j]\n"
     ]
    }
   ],
   "source": [
    "# Importing the NumPy library\n",
    "import numpy as np\n",
    "\n",
    "# Computing the roots of the first polynomial [1, -2, 1]\n",
    "print(\"Roots of the first polynomial:\")\n",
    "print(np.roots([1, -2, 1]))\n",
    "\n",
    "# Computing the roots of the second polynomial [1, -12, 10, 7, -10]\n",
    "print(\"Roots of the second polynomial:\")\n",
    "print(np.roots([1, -12, 10, 7, -10])) \n"
   ]
  },
  {
   "cell_type": "code",
   "execution_count": 44,
   "id": "5c68b737-888d-4a80-b87d-75d828acbeac",
   "metadata": {},
   "outputs": [
    {
     "name": "stdout",
     "output_type": "stream",
     "text": [
      "Polynomial value when x = 2:\n",
      "1\n",
      "Polynomial value when x = 3:\n",
      "-142\n"
     ]
    }
   ],
   "source": [
    "# Importing the NumPy library\n",
    "import numpy as np\n",
    "\n",
    "# Computing the value of the polynomial [1, -2, 1] when x = 2\n",
    "print(\"Polynomial value when x = 2:\")\n",
    "print(np.polyval([1, -2, 1], 2))\n",
    "\n",
    "# Computing the value of the polynomial [1, -12, 10, 7, -10] when x = 3\n",
    "print(\"Polynomial value when x = 3:\")\n",
    "print(np.polyval([1, -12, 10, 7, -10], 3)) \n"
   ]
  },
  {
   "cell_type": "code",
   "execution_count": 45,
   "id": "bebb64b5-0320-4d45-84f5-fa01fc4e1a2e",
   "metadata": {},
   "outputs": [
    {
     "name": "stdout",
     "output_type": "stream",
     "text": [
      "Add one polynomial to another:\n",
      "[40. 60. 80.]\n",
      "Subtract one polynomial from another:\n",
      "[-20. -20. -20.]\n",
      "Multiply one polynomial by another:\n",
      "[ 300. 1000. 2200. 2200. 1500.]\n",
      "Divide one polynomial by another:\n",
      "(array([0.6]), array([-8., -4.]))\n"
     ]
    }
   ],
   "source": [
    "# Importing the required polynomial functions from numpy\n",
    "from numpy.polynomial import polynomial as P\n",
    "\n",
    "# Define the coefficients of the first polynomial\n",
    "x = (10, 20, 30)\n",
    "\n",
    "# Define the coefficients of the second polynomial\n",
    "y = (30, 40, 50)\n",
    "\n",
    "# Add one polynomial to another\n",
    "print(\"Add one polynomial to another:\")\n",
    "print(P.polyadd(x, y))\n",
    "\n",
    "# Subtract one polynomial from another\n",
    "print(\"Subtract one polynomial from another:\")\n",
    "print(P.polysub(x, y))\n",
    "\n",
    "# Multiply one polynomial by another\n",
    "print(\"Multiply one polynomial by another:\")\n",
    "print(P.polymul(x, y))\n",
    "\n",
    "# Divide one polynomial by another\n",
    "print(\"Divide one polynomial by another:\")\n",
    "print(P.polydiv(x, y)) \n"
   ]
  },
  {
   "cell_type": "code",
   "execution_count": 48,
   "id": "a70a68ee-35cc-413e-a82d-07549fbd6c00",
   "metadata": {},
   "outputs": [
    {
     "name": "stdout",
     "output_type": "stream",
     "text": [
      "[20. 40.]\n",
      "[15. 45.]\n",
      "Original array:\n",
      "[[10 30]\n",
      " [20 60]]\n",
      "Mean of each column:\n",
      "[15. 45.]\n",
      "Mean of each row:\n",
      "[20. 40.]\n"
     ]
    }
   ],
   "source": [
    "x=[[10 ,30],\n",
    "[20, 60]]\n",
    "print(np.mean(x,axis=1))\n",
    "print(np.mean(x,axis=0))\n",
    "\n",
    "# Importing the NumPy library\n",
    "import numpy as np\n",
    "\n",
    "# Creating a 2x2 NumPy array\n",
    "x = np.array([[10, 30], [20, 60]])\n",
    "\n",
    "# Displaying the original array\n",
    "print(\"Original array:\")\n",
    "print(x)\n",
    "\n",
    "# Computing the mean of each column using axis 0 (column-wise)\n",
    "print(\"Mean of each column:\")\n",
    "print(x.mean(axis=0))\n",
    "\n",
    "# Computing the mean of each row using axis 1 (row-wise)\n",
    "print(\"Mean of each row:\")\n",
    "print(x.mean(axis=1)) \n"
   ]
  },
  {
   "cell_type": "code",
   "execution_count": 56,
   "id": "8e2876a0-1ac3-4a6b-97b0-0225eefdd4a1",
   "metadata": {},
   "outputs": [
    {
     "name": "stdout",
     "output_type": "stream",
     "text": [
      "0.06970927401940087\n",
      "0.06970927401940087\n",
      "0.9848349076938553\n",
      "0.9698997954123644\n",
      "Average of the array elements:\n",
      "0.06970927401940087\n",
      "Standard deviation of the array elements:\n",
      "0.9848349076938553\n",
      "Variance of the array elements:\n",
      "0.9698997954123644\n"
     ]
    }
   ],
   "source": [
    "x=np.random.randn(1000)\n",
    "print(x.mean())\n",
    "print(np.average(x))\n",
    "print(np.std(x))\n",
    "print(np.var(x))\n",
    "\n",
    "# Displaying the average of the array elements\n",
    "print(\"Average of the array elements:\")\n",
    "mean = x.mean()  # Calculating the mean\n",
    "print(mean)\n",
    "\n",
    "# Displaying the standard deviation of the array elements\n",
    "print(\"Standard deviation of the array elements:\")\n",
    "std = x.std()  # Calculating the standard deviation\n",
    "print(std)\n",
    "\n",
    "# Displaying the variance of the array elements\n",
    "print(\"Variance of the array elements:\")\n",
    "var = x.var()  # Calculating the variance\n",
    "print(var) \n"
   ]
  },
  {
   "cell_type": "code",
   "execution_count": 57,
   "id": "bc73ee8b-37a2-4f28-a4b5-19354967f182",
   "metadata": {},
   "outputs": [
    {
     "name": "stdout",
     "output_type": "stream",
     "text": [
      "sine: array of angles given in degrees\n",
      "[0.         0.5        0.70710678 0.8660254  1.        ]\n",
      "cosine: array of angles given in degrees\n",
      "[1.00000000e+00 8.66025404e-01 7.07106781e-01 5.00000000e-01\n",
      " 6.12323400e-17]\n",
      "tangent: array of angles given in degrees\n",
      "[0.00000000e+00 5.77350269e-01 1.00000000e+00 1.73205081e+00\n",
      " 1.63312394e+16]\n"
     ]
    }
   ],
   "source": [
    " # Importing the NumPy library\n",
    "import numpy as np\n",
    "\n",
    "# Computing the sine values for an array of angles given in degrees\n",
    "print(\"sine: array of angles given in degrees\")\n",
    "print(np.sin(np.array((0., 30., 45., 60., 90.)) * np.pi / 180.))\n",
    "\n",
    "# Computing the cosine values for an array of angles given in degrees\n",
    "print(\"cosine: array of angles given in degrees\")\n",
    "print(np.cos(np.array((0., 30., 45., 60., 90.)) * np.pi / 180.))\n",
    "\n",
    "# Computing the tangent values for an array of angles given in degrees\n",
    "print(\"tangent: array of angles given in degrees\")\n",
    "print(np.tan(np.array((0., 30., 45., 60., 90.)) * np.pi / 180.))\n"
   ]
  },
  {
   "cell_type": "code",
   "execution_count": 58,
   "id": "c8037263-ef26-4cfe-91e0-2dd2b08f02b0",
   "metadata": {},
   "outputs": [
    {
     "name": "stdout",
     "output_type": "stream",
     "text": [
      "Inverse sine: [-1.57079633  0.          1.57079633]\n",
      "Inverse cosine: [3.14159265 1.57079633 0.        ]\n",
      "Inverse tangent: [-0.78539816  0.          0.78539816]\n"
     ]
    }
   ],
   "source": [
    "# Importing the NumPy library\n",
    "import numpy as np\n",
    "\n",
    "# Creating an array of values (-1, 0, 1)\n",
    "x = np.array([-1., 0, 1.])\n",
    "\n",
    "# Computing the inverse sine for each element in the array\n",
    "print(\"Inverse sine:\", np.arcsin(x))\n",
    "\n",
    "# Computing the inverse cosine for each element in the array\n",
    "print(\"Inverse cosine:\", np.arccos(x))\n",
    "\n",
    "# Computing the inverse tangent for each element in the array\n",
    "print(\"Inverse tangent:\", np.arctan(x)) \n"
   ]
  },
  {
   "cell_type": "code",
   "execution_count": 59,
   "id": "2456a91f-6921-4953-b143-a4ed316e304a",
   "metadata": {},
   "outputs": [
    {
     "name": "stdout",
     "output_type": "stream",
     "text": [
      "[-180.  -90.   90.  180.]\n"
     ]
    }
   ],
   "source": [
    "# Importing the NumPy library\n",
    "import numpy as np\n",
    "\n",
    "# Creating an array of angles in radians: [-π, -π/2, π/2, π]\n",
    "x = np.array([-np.pi, -np.pi/2, np.pi/2, np.pi])\n",
    "\n",
    "# Converting angles from radians to degrees using np.degrees()\n",
    "r1 = np.degrees(x)\n",
    "\n",
    "# Converting angles from radians to degrees using np.rad2deg()\n",
    "r2 = np.rad2deg(x)\n",
    "\n",
    "# Checking if the results from np.degrees() and np.rad2deg() are equivalent\n",
    "assert np.array_equiv(r1, r2)\n",
    "\n",
    "# Printing the converted angles in degrees\n",
    "print(r1) \n"
   ]
  },
  {
   "cell_type": "code",
   "execution_count": 63,
   "id": "4229ab04-cfb4-4bd8-b061-9b51dc23cbbe",
   "metadata": {},
   "outputs": [
    {
     "name": "stdout",
     "output_type": "stream",
     "text": [
      "[-3.14159265 -1.57079633  1.57079633  3.14159265]\n",
      "[-3.14159265 -1.57079633  1.57079633  3.14159265]\n",
      "True\n"
     ]
    }
   ],
   "source": [
    "x=[-180., -90., 90., 180.]\n",
    "print(np.deg2rad(x))\n",
    "print(np.radians(x))\n",
    "print(np.array_equiv(np.radians(x), np.deg2rad(x)))"
   ]
  },
  {
   "cell_type": "code",
   "execution_count": 64,
   "id": "18c5d903-0ba9-4485-bde4-8a3bb8128f6d",
   "metadata": {},
   "outputs": [
    {
     "name": "stdout",
     "output_type": "stream",
     "text": [
      "[-1.17520119  0.          1.17520119]\n",
      "[1.54308063 1.         1.54308063]\n",
      "[-0.76159416  0.          0.76159416]\n"
     ]
    }
   ],
   "source": [
    "# Importing the NumPy library\n",
    "import numpy as np\n",
    "\n",
    "# Creating an array of values: [-1, 0, 1]\n",
    "x = np.array([-1., 0, 1.])\n",
    "\n",
    "# Computing hyperbolic sine (sinh) of each element in the array using np.sinh()\n",
    "print(np.sinh(x))\n",
    "\n",
    "# Computing hyperboli\n",
    "c cosine (cosh) of each element in the array using np.cosh()\n",
    "print(np.cosh(x))\n",
    "\n",
    "# Computing hyperbolic tangent (tanh) of each element in the array using np.tanh()\n",
    "print(np.tanh(x)) \n"
   ]
  },
  {
   "cell_type": "code",
   "execution_count": 65,
   "id": "ce566af8-d2a3-4e4a-a4cd-8afca5bc4243",
   "metadata": {},
   "outputs": [
    {
     "name": "stdout",
     "output_type": "stream",
     "text": [
      "Original array: \n",
      "[ 3.1  3.5  4.5  2.9 -3.1 -3.5 -5.9]\n",
      "\n",
      "around:    [ 3.  4.  4.  3. -3. -4. -6.]\n",
      "floor:     [ 3.  3.  4.  2. -4. -4. -6.]\n",
      "ceil:      [ 4.  4.  5.  3. -3. -3. -5.]\n",
      "trunc:     [ 3.  3.  4.  2. -3. -3. -5.]\n",
      "round:     [3, 4, 4, 3, -3, -4, -6]\n"
     ]
    }
   ],
   "source": [
    "# Importing the NumPy library\n",
    "import numpy as np\n",
    "\n",
    "# Creating an array with various float values\n",
    "x = np.array([3.1, 3.5, 4.5, 2.9, -3.1, -3.5, -5.9])\n",
    "\n",
    "# Displaying the original array\n",
    "print(\"Original array: \")\n",
    "print(x)\n",
    "\n",
    "# Using NumPy's around function to round the values to the nearest integer\n",
    "r1 = np.around(x)\n",
    "\n",
    "# Using NumPy's floor function to round down to the nearest integer\n",
    "r2 = np.floor(x)\n",
    "\n",
    "# Using NumPy's ceil function to round up to the nearest integer\n",
    "r3 = np.ceil(x)\n",
    "\n",
    "# Using NumPy's trunc function to truncate the decimal part of each value\n",
    "r4 = np.trunc(x)\n",
    "\n",
    "# Using Python's built-in round function for each element in the array\n",
    "r5 = [round(elem) for elem in x]\n",
    "\n",
    "# Printing the results of each operation\n",
    "print(\"\\naround:   \", r1)\n",
    "print(\"floor:    \", r2)\n",
    "print(\"ceil:     \", r3)\n",
    "print(\"trunc:    \", r4)\n",
    "print(\"round:    \", r5) \n"
   ]
  },
  {
   "cell_type": "code",
   "execution_count": 66,
   "id": "9e991c6a-e815-4556-a94c-30df54b77b31",
   "metadata": {},
   "outputs": [
    {
     "name": "stdout",
     "output_type": "stream",
     "text": [
      "Original array: \n",
      "[[1 2 3]\n",
      " [4 5 6]]\n",
      "Cumulative sum of the elements along a given axis:\n",
      "[ 1  3  6 10 15 21]\n",
      "\n",
      "Sum over rows for each of the 3 columns:\n",
      "[[1 2 3]\n",
      " [5 7 9]]\n",
      "\n",
      "Sum over columns for each of the 2 rows:\n",
      "[[ 1  3  6]\n",
      " [ 4  9 15]]\n"
     ]
    }
   ],
   "source": [
    "# Importing the NumPy library\n",
    "import numpy as np\n",
    "\n",
    "# Creating a 2D array\n",
    "x = np.array([[1, 2, 3], [4, 5, 6]])\n",
    "\n",
    "# Displaying the original array\n",
    "print(\"Original array: \")\n",
    "print(x)\n",
    "\n",
    "# Calculating the cumulative sum of all elements in the array\n",
    "print(\"Cumulative sum of the elements along a given axis:\")\n",
    "r = np.cumsum(x)\n",
    "print(r)\n",
    "\n",
    "# Calculating the cumulative sum over rows for each of the 3 columns\n",
    "print(\"\\nSum over rows for each of the 3 columns:\")\n",
    "r = np.cumsum(x, axis=0)\n",
    "print(r)\n",
    "\n",
    "# Calculating the cumulative sum over columns for each of the 2 rows\n",
    "print(\"\\nSum over columns for each of the 2 rows:\")\n",
    "r = np.cumsum(x, axis=1)\n",
    "print(r) \n"
   ]
  },
  {
   "cell_type": "code",
   "execution_count": 67,
   "id": "a86e472f-5987-41e5-9bb9-581467cfe7de",
   "metadata": {},
   "outputs": [
    {
     "name": "stdout",
     "output_type": "stream",
     "text": [
      "Original array: \n",
      "[[1 2 3]\n",
      " [4 5 6]]\n",
      "Cumulative sum of the elements along a given axis:\n",
      "[  1   2   6  24 120 720]\n",
      "\n",
      "Sum over rows for each of the 3 columns:\n",
      "[[ 1  2  3]\n",
      " [ 4 10 18]]\n",
      "\n",
      "Sum over columns for each of the 2 rows:\n",
      "[[  1   2   6]\n",
      " [  4  20 120]]\n"
     ]
    }
   ],
   "source": [
    "# Importing the NumPy library\n",
    "import numpy as np\n",
    "\n",
    "# Creating a 2D array\n",
    "x = np.array([[1, 2, 3], [4, 5, 6]])\n",
    "\n",
    "# Displaying the original array\n",
    "print(\"Original array: \")\n",
    "print(x)\n",
    "\n",
    "# Calculating the cumulative sum of all elements in the array\n",
    "print(\"Cumulative sum of the elements along a given axis:\")\n",
    "r = np.cumprod(x)\n",
    "print(r)\n",
    "\n",
    "# Calculating the cumulative sum over rows for each of the 3 columns\n",
    "print(\"\\nSum over rows for each of the 3 columns:\")\n",
    "r = np.cumprod(x, axis=0)\n",
    "print(r)\n",
    "\n",
    "# Calculating the cumulative sum over columns for each of the 2 rows\n",
    "print(\"\\nSum over columns for each of the 2 rows:\")\n",
    "r = np.cumprod(x, axis=1)\n",
    "print(r) \n"
   ]
  },
  {
   "cell_type": "code",
   "execution_count": 68,
   "id": "4ac77eff-1c3c-499b-a828-e756d9d2f518",
   "metadata": {},
   "outputs": [
    {
     "name": "stdout",
     "output_type": "stream",
     "text": [
      "[ 2  2  2 -7]\n"
     ]
    }
   ],
   "source": [
    "x=np.array([1, 3, 5, 7, 0])\n",
    "print(np.diff(x))"
   ]
  },
  {
   "cell_type": "code",
   "execution_count": 69,
   "id": "53db2dc5-cd47-4862-b10a-7f61d32a69bf",
   "metadata": {},
   "outputs": [
    {
     "name": "stdout",
     "output_type": "stream",
     "text": [
      "[  0   0   2   2   2  -7 200]\n",
      "[  0   0   2   2   2  -7 200]\n",
      "True\n"
     ]
    }
   ],
   "source": [
    "x=np.array([1, 3, 5, 7, 0])\n",
    "r1 = np.ediff1d(x, to_begin=[0, 0], to_end=[200])\n",
    "r2 = np.insert(np.append(np.diff(x), 200), 0, [0, 0])\n",
    "print(r1)\n",
    "print(r2)\n",
    "print(np.array_equiv(r1, r2))"
   ]
  },
  {
   "cell_type": "code",
   "execution_count": 70,
   "id": "ada2e381-0c67-45cd-b477-d24cfb70e7dc",
   "metadata": {},
   "outputs": [
    {
     "name": "stdout",
     "output_type": "stream",
     "text": [
      "Original array: \n",
      "[1. 2. 3. 4.]\n",
      "\n",
      "e^x, element-wise of the said:\n",
      "[ 2.718282   7.3890557 20.085537  54.59815  ]\n"
     ]
    }
   ],
   "source": [
    "# Importing the NumPy library\n",
    "import numpy as np\n",
    "\n",
    "# Creating an array of float32 type\n",
    "x = np.array([1., 2., 3., 4.], np.float32)\n",
    "\n",
    "# Displaying the original array\n",
    "print(\"Original array: \")\n",
    "print(x)\n",
    "\n",
    "# Calculating exponential (e^x) for each element of the array x\n",
    "print(\"\\ne^x, element-wise of the said:\")\n",
    "r = np.exp(x)\n",
    "print(r) \n"
   ]
  },
  {
   "cell_type": "code",
   "execution_count": 72,
   "id": "ae48854b-f90b-439c-a3d0-c88702069433",
   "metadata": {},
   "outputs": [
    {
     "name": "stdout",
     "output_type": "stream",
     "text": [
      "Original array: \n",
      "[1. 2. 3. 4.]\n",
      "\n",
      "e^x, element-wise of the said:\n",
      "[ 1.7182817  6.389056  19.085537  53.59815  ]\n",
      "[ 1.718282   6.3890557 19.085537  53.59815  ]\n"
     ]
    }
   ],
   "source": [
    "# Importing the NumPy library\n",
    "import numpy as np\n",
    "\n",
    "# Creating an array of float32 type\n",
    "x = np.array([1., 2., 3., 4.], np.float32)\n",
    "\n",
    "# Displaying the original array\n",
    "print(\"Original array: \")\n",
    "print(x)\n",
    "\n",
    "# Calculating exponential (e^x) for each element of the array x\n",
    "print(\"\\ne^x, element-wise of the said:\")\n",
    "r = np.expm1(x)\n",
    "print(r) \n",
    "print(np.exp(x) - 1)"
   ]
  },
  {
   "cell_type": "code",
   "execution_count": 73,
   "id": "5cb2d7e8-38a4-4115-8e67-f193cc0c9409",
   "metadata": {},
   "outputs": [
    {
     "name": "stdout",
     "output_type": "stream",
     "text": [
      "Original array: \n",
      "[1. 2. 3. 4.]\n",
      "\n",
      "e^x, element-wise of the said:\n",
      "[ 2.  4.  8. 16.]\n"
     ]
    }
   ],
   "source": [
    "# Importing the NumPy library\n",
    "import numpy as np\n",
    "\n",
    "# Creating an array of float32 type\n",
    "x = np.array([1., 2., 3., 4.], np.float32)\n",
    "\n",
    "# Displaying the original array\n",
    "print(\"Original array: \")\n",
    "print(x)\n",
    "\n",
    "# Calculating exponential (e^x) for each element of the array x\n",
    "print(\"\\ne^x, element-wise of the said:\")\n",
    "r = np.exp2(x)\n",
    "print(r) "
   ]
  },
  {
   "cell_type": "code",
   "execution_count": 74,
   "id": "28560112-d524-4a5e-907e-cc3f4c28b042",
   "metadata": {},
   "outputs": [
    {
     "name": "stdout",
     "output_type": "stream",
     "text": [
      "Original array: \n",
      "[1.         2.71828183 7.3890561 ]\n",
      "\n",
      "Natural log = [0. 1. 2.]\n",
      "Common log = [0.         0.43429448 0.86858896]\n",
      "Base 2 log = [0.         1.44269504 2.88539008]\n"
     ]
    }
   ],
   "source": [
    "# Importing the NumPy library\n",
    "import numpy as np\n",
    "\n",
    "# Creating an array consisting of 1, e, and e^2\n",
    "x = np.array([1, np.e, np.e**2])\n",
    "\n",
    "# Displaying the original array\n",
    "print(\"Original array: \")\n",
    "print(x)\n",
    "\n",
    "# Calculating natural logarithm (base e) of the array elements\n",
    "print(\"\\nNatural log =\", np.log(x))\n",
    "\n",
    "# Calculating common logarithm (base 10) of the array elements\n",
    "print(\"Common log =\", np.log10(x))\n",
    "\n",
    "# Calculating base 2 logarithm of the array elements\n",
    "print(\"Base 2 log =\", np.log2(x)) \n"
   ]
  },
  {
   "cell_type": "code",
   "execution_count": 75,
   "id": "503ac0fb-cde9-4647-a0a5-0aef6c1f3bc5",
   "metadata": {},
   "outputs": [
    {
     "name": "stdout",
     "output_type": "stream",
     "text": [
      "Original array: \n",
      "[1.e-099 1.e-100]\n",
      "\n",
      "Natural logarithm of one plus each element:\n",
      "[1.e-099 1.e-100]\n"
     ]
    }
   ],
   "source": [
    "# Importing the NumPy library\n",
    "import numpy as np\n",
    "\n",
    "# Creating an array with two very small numbers\n",
    "x = np.array([1e-99, 1e-100])\n",
    "\n",
    "# Displaying the original array\n",
    "print(\"Original array: \")\n",
    "print(x)\n",
    "\n",
    "# Calculating natural logarithm of one plus each element in the array\n",
    "print(\"\\nNatural logarithm of one plus each element:\")\n",
    "print(np.log1p(x)) \n"
   ]
  },
  {
   "cell_type": "code",
   "execution_count": 77,
   "id": "dcc89bf3-3bf5-4fb0-b284-981e47d347b7",
   "metadata": {},
   "outputs": [
    {
     "name": "stdout",
     "output_type": "stream",
     "text": [
      "Original array: \n",
      "[-4 -3 -2 -1  0  1  2  3  4]\n",
      "[ True  True  True  True False False False False False]\n"
     ]
    }
   ],
   "source": [
    "# Importing the NumPy library\n",
    "import numpy as np\n",
    "\n",
    "# Creating an array with integer values ranging from -4 to 4\n",
    "x = np.array([-4, -3, -2, -1, 0, 1, 2, 3, 4])\n",
    "\n",
    "# Displaying the original array\n",
    "print(\"Original array: \")\n",
    "print(x)\n",
    "\n",
    "# Calculating sign bit of each element in the array using np.signbit()\n",
    "r1 = np.signbit(x)\n",
    "\n",
    "# Comparing if each element is less than zero to determine sign bit as a boolean array\n",
    "r2 = x < 0\n",
    "\n",
    "# Verifying if both approaches yield the same result\n",
    "assert np.array_equiv(r1, r2)\n",
    "\n",
    "# Displaying the sign bit of each element in the array\n",
    "print(r1)\n"
   ]
  },
  {
   "cell_type": "code",
   "execution_count": 78,
   "id": "76b927b8-fce0-4281-b119-9a626f7b1ea8",
   "metadata": {},
   "outputs": [
    {
     "name": "stdout",
     "output_type": "stream",
     "text": [
      "Original array: \n",
      "[-1  0  1  2]\n",
      "\n",
      "Sign of x1 to that of x2, element-wise:\n",
      "[-1. -0. -1. -2.]\n"
     ]
    }
   ],
   "source": [
    "# Importing the NumPy library\n",
    "import numpy as np\n",
    "\n",
    "# Creating an array with integer values from -1 to 2\n",
    "x1 = np.array([-1, 0, 1, 2])\n",
    "\n",
    "# Displaying the original array x1\n",
    "print(\"Original array: \")\n",
    "print(x1)\n",
    "\n",
    "# Assigning a floating-point value to x2\n",
    "x2 = -2.1\n",
    "\n",
    "# Displaying the sign of x1 with respect to x2, element-wise using np.copysign()\n",
    "print(\"\\nSign of x1 to that of x2, element-wise:\")\n",
    "print(np.copysign(x1, x2)) \n"
   ]
  },
  {
   "cell_type": "code",
   "execution_count": 79,
   "id": "9aaa64c8-bd9e-46b6-9055-98abc4407edc",
   "metadata": {},
   "outputs": [
    {
     "name": "stdout",
     "output_type": "stream",
     "text": [
      "[ 0 -1  1]\n"
     ]
    }
   ],
   "source": [
    "x = np.array([0, 1, -1])\n",
    "print(np.negative(x))"
   ]
  },
  {
   "cell_type": "code",
   "execution_count": 80,
   "id": "0bf7fcc8-575d-463c-a7b1-8bfeb0629b6d",
   "metadata": {},
   "outputs": [
    {
     "name": "stdout",
     "output_type": "stream",
     "text": [
      "[1.         0.5        5.         3.33333333]\n"
     ]
    }
   ],
   "source": [
    "x=np.array([1., 2., 0.2, 0.3])\n",
    "print(np.reciprocal(x))"
   ]
  },
  {
   "cell_type": "code",
   "execution_count": 81,
   "id": "81b3befe-b823-498e-9d8e-2277b1871ecf",
   "metadata": {},
   "outputs": [
    {
     "name": "stdout",
     "output_type": "stream",
     "text": [
      "[[ 1  4]\n",
      " [ 3 16]]\n"
     ]
    }
   ],
   "source": [
    "x = np.array([[1, 2], [3, 4]])\n",
    "y = np.array([[1, 2], [1, 2]])\n",
    "print(np.power(x,y))"
   ]
  },
  {
   "cell_type": "code",
   "execution_count": 82,
   "id": "321940fb-9c0c-4565-8d65-9c1cae73ff2b",
   "metadata": {},
   "outputs": [
    {
     "name": "stdout",
     "output_type": "stream",
     "text": [
      "[ 1  1  1  0 -1 -1  0  1]\n"
     ]
    }
   ],
   "source": [
    "x=np.array([ 1, 3, 5, 0, -1, -7, 0, 5])\n",
    "print(np.sign(x))"
   ]
  },
  {
   "cell_type": "code",
   "execution_count": null,
   "id": "8d267e05-56fb-4578-b7a5-10530fd4b30d",
   "metadata": {},
   "outputs": [],
   "source": []
  }
 ],
 "metadata": {
  "kernelspec": {
   "display_name": "Python 3 (ipykernel)",
   "language": "python",
   "name": "python3"
  },
  "language_info": {
   "codemirror_mode": {
    "name": "ipython",
    "version": 3
   },
   "file_extension": ".py",
   "mimetype": "text/x-python",
   "name": "python",
   "nbconvert_exporter": "python",
   "pygments_lexer": "ipython3",
   "version": "3.11.7"
  },
  "widgets": {
   "application/vnd.jupyter.widget-state+json": {
    "state": {},
    "version_major": 2,
    "version_minor": 0
   }
  }
 },
 "nbformat": 4,
 "nbformat_minor": 5
}
