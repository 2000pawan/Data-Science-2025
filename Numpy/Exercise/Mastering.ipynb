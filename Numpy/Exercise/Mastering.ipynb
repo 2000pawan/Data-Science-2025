{
 "cells": [
  {
   "cell_type": "code",
   "execution_count": 1,
   "id": "d2570bb3-0871-4409-b03e-ee340a77c378",
   "metadata": {},
   "outputs": [],
   "source": [
    "import numpy as np"
   ]
  },
  {
   "cell_type": "code",
   "execution_count": 2,
   "id": "9c39b819-e09b-4e40-856e-75161be5f5cc",
   "metadata": {},
   "outputs": [
    {
     "name": "stdout",
     "output_type": "stream",
     "text": [
      "[0 1 2 3 4 5 6 7 8 9]\n"
     ]
    }
   ],
   "source": [
    "arr=np.arange(10)\n",
    "print(arr)"
   ]
  },
  {
   "cell_type": "code",
   "execution_count": 3,
   "id": "91b00cfc-06b2-4df7-83ee-6beb03e44f9c",
   "metadata": {},
   "outputs": [
    {
     "data": {
      "text/plain": [
       "array([[0, 1, 2, 3, 4],\n",
       "       [5, 6, 7, 8, 9]])"
      ]
     },
     "execution_count": 3,
     "metadata": {},
     "output_type": "execute_result"
    }
   ],
   "source": [
    "arr=arr.reshape(2,-1)\n",
    "arr"
   ]
  },
  {
   "cell_type": "code",
   "execution_count": 4,
   "id": "117a6512-7083-40ce-9826-e1a61b0bc325",
   "metadata": {},
   "outputs": [
    {
     "data": {
      "text/plain": [
       "array([[1.34685428, 1.0128427 ],\n",
       "       [1.03672867, 0.84126296],\n",
       "       [1.38584044, 0.89003654],\n",
       "       [1.06002517, 0.83190154],\n",
       "       [1.38109347, 1.05809646]])"
      ]
     },
     "execution_count": 4,
     "metadata": {},
     "output_type": "execute_result"
    }
   ],
   "source": [
    "a=np.random.random((5,3))\n",
    "b=np.random.random((3,2))\n",
    "result=np.dot(a,b)\n",
    "result"
   ]
  },
  {
   "cell_type": "code",
   "execution_count": 5,
   "id": "f5838255-53e5-4f67-bcc7-5a321c721bf5",
   "metadata": {},
   "outputs": [
    {
     "data": {
      "text/plain": [
       "array([ 0, -1,  2, -1,  4, -1,  6, -1,  8, -1])"
      ]
     },
     "execution_count": 5,
     "metadata": {},
     "output_type": "execute_result"
    }
   ],
   "source": [
    "arr=np.arange(10)\n",
    "arr[arr%2!=0]=-1\n",
    "arr"
   ]
  },
  {
   "cell_type": "code",
   "execution_count": 6,
   "id": "ddff22d5-9d2a-4766-9239-45c7631c992c",
   "metadata": {},
   "outputs": [
    {
     "data": {
      "text/plain": [
       "array([False,  True, False, False,  True])"
      ]
     },
     "execution_count": 6,
     "metadata": {},
     "output_type": "execute_result"
    }
   ],
   "source": [
    "arr=np.array([-1,2,0,-4,5])\n",
    "bool=arr>0\n",
    "bool"
   ]
  },
  {
   "cell_type": "code",
   "execution_count": 7,
   "id": "c929042b-c8de-45e3-bc56-4db5cf8c615c",
   "metadata": {},
   "outputs": [
    {
     "data": {
      "text/plain": [
       "array([ 1, -2,  3, -4,  5, -6,  7, -8,  9])"
      ]
     },
     "execution_count": 7,
     "metadata": {},
     "output_type": "execute_result"
    }
   ],
   "source": [
    "arr=np.arange(1,10)\n",
    "arr[arr%2==0]*=-1\n",
    "arr"
   ]
  },
  {
   "cell_type": "code",
   "execution_count": 8,
   "id": "6eb6a6c5-5064-4824-a11a-d0deb96208f8",
   "metadata": {},
   "outputs": [
    {
     "data": {
      "text/plain": [
       "array([[-1.11997959,  1.36152785, -0.30939429],\n",
       "       [ 0.91010636,  0.37074475, -1.51567249],\n",
       "       [-0.91247125,  1.30120817, -0.0860695 ]])"
      ]
     },
     "execution_count": 8,
     "metadata": {},
     "output_type": "execute_result"
    }
   ],
   "source": [
    "a=np.random.random((3,3))\n",
    "norm=(a-np.mean(a))/np.std(a)\n",
    "norm"
   ]
  },
  {
   "cell_type": "code",
   "execution_count": 9,
   "id": "00edeffb-cd3a-4d3d-9373-9b7c46c92c9c",
   "metadata": {},
   "outputs": [
    {
     "data": {
      "text/plain": [
       "2.062671403112638"
      ]
     },
     "execution_count": 9,
     "metadata": {},
     "output_type": "execute_result"
    }
   ],
   "source": [
    "m=np.random.random((3,3))\n",
    "di_sum=np.trace(m)\n",
    "di_sum"
   ]
  },
  {
   "cell_type": "code",
   "execution_count": 10,
   "id": "93b9798e-a245-48f8-8e60-c022aa8c2dac",
   "metadata": {},
   "outputs": [
    {
     "data": {
      "text/plain": [
       "(array([0, 1, 4], dtype=int64),)"
      ]
     },
     "execution_count": 10,
     "metadata": {},
     "output_type": "execute_result"
    }
   ],
   "source": [
    "x=np.array([1,2,0,0,4,0])\n",
    "n=np.nonzero(x)\n",
    "n"
   ]
  },
  {
   "cell_type": "code",
   "execution_count": null,
   "id": "ab93f22b-6261-4b41-8a4f-b7d39ead990f",
   "metadata": {},
   "outputs": [],
   "source": [
    "\n"
   ]
  }
 ],
 "metadata": {
  "kernelspec": {
   "display_name": "Python 3 (ipykernel)",
   "language": "python",
   "name": "python3"
  },
  "language_info": {
   "codemirror_mode": {
    "name": "ipython",
    "version": 3
   },
   "file_extension": ".py",
   "mimetype": "text/x-python",
   "name": "python",
   "nbconvert_exporter": "python",
   "pygments_lexer": "ipython3",
   "version": "3.11.7"
  },
  "widgets": {
   "application/vnd.jupyter.widget-state+json": {
    "state": {},
    "version_major": 2,
    "version_minor": 0
   }
  }
 },
 "nbformat": 4,
 "nbformat_minor": 5
}
