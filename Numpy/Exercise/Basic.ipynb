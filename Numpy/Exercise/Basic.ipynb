{
 "cells": [
  {
   "cell_type": "code",
   "execution_count": 1,
   "id": "80c0042f-6bfb-4325-9216-46ce87ada978",
   "metadata": {},
   "outputs": [
    {
     "name": "stdout",
     "output_type": "stream",
     "text": [
      "1.24.3\n",
      "blas_armpl_info:\n",
      "  NOT AVAILABLE\n",
      "blas_mkl_info:\n",
      "    libraries = ['mkl_rt']\n",
      "    library_dirs = ['C:/Users/panka/anaconda3\\\\Library\\\\lib']\n",
      "    define_macros = [('SCIPY_MKL_H', None), ('HAVE_CBLAS', None)]\n",
      "    include_dirs = ['C:/Users/panka/anaconda3\\\\Library\\\\include']\n",
      "blas_opt_info:\n",
      "    libraries = ['mkl_rt']\n",
      "    library_dirs = ['C:/Users/panka/anaconda3\\\\Library\\\\lib']\n",
      "    define_macros = [('SCIPY_MKL_H', None), ('HAVE_CBLAS', None)]\n",
      "    include_dirs = ['C:/Users/panka/anaconda3\\\\Library\\\\include']\n",
      "lapack_armpl_info:\n",
      "  NOT AVAILABLE\n",
      "lapack_mkl_info:\n",
      "    libraries = ['mkl_rt']\n",
      "    library_dirs = ['C:/Users/panka/anaconda3\\\\Library\\\\lib']\n",
      "    define_macros = [('SCIPY_MKL_H', None), ('HAVE_CBLAS', None)]\n",
      "    include_dirs = ['C:/Users/panka/anaconda3\\\\Library\\\\include']\n",
      "lapack_opt_info:\n",
      "    libraries = ['mkl_rt']\n",
      "    library_dirs = ['C:/Users/panka/anaconda3\\\\Library\\\\lib']\n",
      "    define_macros = [('SCIPY_MKL_H', None), ('HAVE_CBLAS', None)]\n",
      "    include_dirs = ['C:/Users/panka/anaconda3\\\\Library\\\\include']\n",
      "Supported SIMD extensions in this NumPy install:\n",
      "    baseline = SSE,SSE2,SSE3\n",
      "    found = SSSE3,SSE41,POPCNT,SSE42,AVX,F16C,FMA3,AVX2,AVX512F,AVX512CD,AVX512_SKX,AVX512_CLX,AVX512_CNL,AVX512_ICL\n",
      "    not found = \n",
      "None\n"
     ]
    }
   ],
   "source": [
    "import numpy as np\n",
    "z=np.__version__\n",
    "print(z)\n",
    "print(np.show_config())"
   ]
  },
  {
   "cell_type": "code",
   "execution_count": 6,
   "id": "806fbc06-36d9-4154-b324-95099d2419bb",
   "metadata": {
    "tags": []
   },
   "outputs": [
    {
     "name": "stdout",
     "output_type": "stream",
     "text": [
      "add(x1, x2, /, out=None, *, where=True, casting='same_kind', order='K', dtype=None, subok=True[, signature, extobj])\n",
      "\n",
      "Add arguments element-wise.\n",
      "\n",
      "Parameters\n",
      "----------\n",
      "x1, x2 : array_like\n",
      "    The arrays to be added.\n",
      "    If ``x1.shape != x2.shape``, they must be broadcastable to a common\n",
      "    shape (which becomes the shape of the output).\n",
      "out : ndarray, None, or tuple of ndarray and None, optional\n",
      "    A location into which the result is stored. If provided, it must have\n",
      "    a shape that the inputs broadcast to. If not provided or None,\n",
      "    a freshly-allocated array is returned. A tuple (possible only as a\n",
      "    keyword argument) must have length equal to the number of outputs.\n",
      "where : array_like, optional\n",
      "    This condition is broadcast over the input. At locations where the\n",
      "    condition is True, the `out` array will be set to the ufunc result.\n",
      "    Elsewhere, the `out` array will retain its original value.\n",
      "    Note that if an uninitialized `out` array is created via the default\n",
      "    ``out=None``, locations within it where the condition is False will\n",
      "    remain uninitialized.\n",
      "**kwargs\n",
      "    For other keyword-only arguments, see the\n",
      "    :ref:`ufunc docs <ufuncs.kwargs>`.\n",
      "\n",
      "Returns\n",
      "-------\n",
      "add : ndarray or scalar\n",
      "    The sum of `x1` and `x2`, element-wise.\n",
      "    This is a scalar if both `x1` and `x2` are scalars.\n",
      "\n",
      "Notes\n",
      "-----\n",
      "Equivalent to `x1` + `x2` in terms of array broadcasting.\n",
      "\n",
      "Examples\n",
      "--------\n",
      ">>> np.add(1.0, 4.0)\n",
      "5.0\n",
      ">>> x1 = np.arange(9.0).reshape((3, 3))\n",
      ">>> x2 = np.arange(3.0)\n",
      ">>> np.add(x1, x2)\n",
      "array([[  0.,   2.,   4.],\n",
      "       [  3.,   5.,   7.],\n",
      "       [  6.,   8.,  10.]])\n",
      "\n",
      "The ``+`` operator can be used as a shorthand for ``np.add`` on ndarrays.\n",
      "\n",
      ">>> x1 = np.arange(9.0).reshape((3, 3))\n",
      ">>> x2 = np.arange(3.0)\n",
      ">>> x1 + x2\n",
      "array([[ 0.,  2.,  4.],\n",
      "       [ 3.,  5.,  7.],\n",
      "       [ 6.,  8., 10.]])\n",
      "None\n"
     ]
    }
   ],
   "source": [
    "import numpy as np\n",
    "print(np.info(np.add))"
   ]
  },
  {
   "cell_type": "code",
   "execution_count": 9,
   "id": "c7bfbde2-d9d3-40fd-a080-30594dbe500a",
   "metadata": {
    "tags": []
   },
   "outputs": [
    {
     "name": "stdout",
     "output_type": "stream",
     "text": [
      "Original array:\n",
      "[1 2 3 4 5 6]\n",
      "Test if none of the elements of the said array is zero:\n",
      "True\n",
      "Original array:\n",
      "[0 1 2 3]\n",
      "Test if none of the elements of the said array is zero:\n",
      "False\n"
     ]
    }
   ],
   "source": [
    "import numpy as np\n",
    "x=np.array([1,2,3,4,5,6])\n",
    "print('Original array:\\n',x,sep='')\n",
    "print(\"Test if none of the elements of the said array is zero:\")\n",
    "print(np.all(x))\n",
    "x=np.array([0,1,2,3])\n",
    "print('Original array:\\n',x,sep='')\n",
    "print(\"Test if none of the elements of the said array is zero:\")\n",
    "print(np.all(x))"
   ]
  },
  {
   "cell_type": "code",
   "execution_count": 15,
   "id": "503dd706-1141-463a-a468-f3bcda87a99f",
   "metadata": {
    "tags": []
   },
   "outputs": [
    {
     "name": "stdout",
     "output_type": "stream",
     "text": [
      "Original array:\n",
      "[1 0 0 0]\n",
      "Test if none of the elements of the said array is non-zero:\n",
      "True\n",
      "Original array:\n",
      "[0 0 0 0]\n",
      "Test if none of the elements of the said array is non-zero:\n",
      "False\n"
     ]
    }
   ],
   "source": [
    "import numpy as np\n",
    "x=np.array([1,0,0,0])\n",
    "print('Original array:\\n',x,sep='')\n",
    "print(\"Test if none of the elements of the said array is non-zero:\")\n",
    "print(np.any(x))\n",
    "x=np.array([0,0,0,0])\n",
    "print('Original array:\\n',x,sep='')\n",
    "print(\"Test if none of the elements of the said array is non-zero:\")\n",
    "print(np.any(x))"
   ]
  },
  {
   "cell_type": "code",
   "execution_count": 12,
   "id": "6305c626-2db7-491f-beb3-77a2457adf34",
   "metadata": {
    "tags": []
   },
   "outputs": [
    {
     "name": "stdout",
     "output_type": "stream",
     "text": [
      "Original array:\n",
      "[ 1.  0. nan inf]\n",
      "Test if none of the elements of the said array is zero:\n",
      "[ True  True False False]\n"
     ]
    }
   ],
   "source": [
    "import numpy as np\n",
    "x=np.array([1,0,np.nan,np.inf])\n",
    "print('Original array:\\n',x,sep='')\n",
    "print(\"Test a given array element-wise for finiteness :\")\n",
    "print(np.isfinite(x))"
   ]
  },
  {
   "cell_type": "code",
   "execution_count": 13,
   "id": "0d9aad51-c814-4a6f-9058-b2a9353286e6",
   "metadata": {
    "tags": []
   },
   "outputs": [
    {
     "name": "stdout",
     "output_type": "stream",
     "text": [
      "Original array:\n",
      "[ 1.  0. nan inf]\n",
      "Test if none of the elements of the said array is zero:\n",
      "[False False False  True]\n"
     ]
    }
   ],
   "source": [
    "import numpy as np\n",
    "x=np.array([1,0,np.nan,np.inf])\n",
    "print('Original array:\\n',x,sep='')\n",
    "print(\"Test element-wise for positive or negative infinity:\")\n",
    "print(np.isinf(x))"
   ]
  },
  {
   "cell_type": "code",
   "execution_count": 14,
   "id": "4c1a9285-745b-4d25-9f32-607a9fe189dd",
   "metadata": {
    "tags": []
   },
   "outputs": [
    {
     "name": "stdout",
     "output_type": "stream",
     "text": [
      "Original array:\n",
      "[ 1.  0. nan inf]\n",
      "Test if none of the elements of the said array is zero:\n",
      "[False False  True False]\n"
     ]
    }
   ],
   "source": [
    "import numpy as np\n",
    "x=np.array([1,0,np.nan,np.inf])\n",
    "print('Original array:\\n',x,sep='')\n",
    "print(\"Test element-wise for NaN:\")\n",
    "print(np.isnan(x))"
   ]
  },
  {
   "cell_type": "code",
   "execution_count": 16,
   "id": "2cc4d15f-ca80-49ab-9e44-72f8fa852b1d",
   "metadata": {
    "tags": []
   },
   "outputs": [
    {
     "name": "stdout",
     "output_type": "stream",
     "text": [
      "Original array:\n",
      "[1. +1.j 1. +0.j 4.5+0.j 3. +0.j 2. +0.j 0. +2.j]\n",
      "Checking for complex number:\n",
      "[ True False False False False  True]\n",
      "Checking for real number:\n",
      "[False  True  True  True  True False]\n",
      "Checking for scalar type:\n",
      "True\n",
      "False\n"
     ]
    }
   ],
   "source": [
    "import numpy as np\n",
    "x=np.array([1+1j, 1+0j, 4.5, 3, 2, 2j])\n",
    "print('Original array:\\n',x,sep='')\n",
    "print(\"Checking for complex number:\")\n",
    "print(np.iscomplex(x))\n",
    "print('Checking for real number:')\n",
    "print(np.isreal(x))\n",
    "print(\"Checking for scalar type:\")\n",
    "print(np.isscalar(3.1))\n",
    "print(np.isscalar([3.1])) "
   ]
  },
  {
   "cell_type": "code",
   "execution_count": 17,
   "id": "b1e9149f-c1b7-4b69-9aad-c3e521b34f02",
   "metadata": {
    "tags": []
   },
   "outputs": [
    {
     "name": "stdout",
     "output_type": "stream",
     "text": [
      "Test if two arrays are element-wise equal within a tolerance:\n",
      "False\n",
      "True\n",
      "False\n",
      "False\n",
      "True\n"
     ]
    }
   ],
   "source": [
    "import numpy as np\n",
    "print(\"Test if two arrays are element-wise equal within a tolerance:\")\n",
    "print(np.allclose([1e10,1e-7], [1.00001e10,1e-8]))\n",
    "print(np.allclose([1e10,1e-8], [1.00001e10,1e-9]))\n",
    "print(np.allclose([1e10,1e-8], [1.0001e10,1e-9]))\n",
    "print(np.allclose([1.0, np.nan], [1.0, np.nan]))\n",
    "print(np.allclose([1.0, np.nan], [1.0, np.nan], equal_nan=True)) "
   ]
  },
  {
   "cell_type": "code",
   "execution_count": 19,
   "id": "97720358-a77d-43f8-b612-97593525c865",
   "metadata": {
    "tags": []
   },
   "outputs": [
    {
     "name": "stdout",
     "output_type": "stream",
     "text": [
      "Original numbers:\n",
      "[3 5]\n",
      "[2 5]\n",
      "Comparison -greater\n",
      "[ True False]\n",
      "Comparison - greater_equal\n",
      "[ True  True]\n",
      "Comparison - less\n",
      "[False False]\n",
      "Comparison - less_equal\n",
      "[False  True]\n"
     ]
    }
   ],
   "source": [
    "import numpy as np\n",
    "x=np.array([3,5])\n",
    "y=np.array([2,5])\n",
    "print('Original numbers:')\n",
    "print(x)\n",
    "print(y)\n",
    "print('Comparison -greater')\n",
    "print(np.greater(x,y))\n",
    "print(\"Comparison - greater_equal\")\n",
    "print(np.greater_equal(x, y))\n",
    "print(\"Comparison - less\")\n",
    "print(np.less(x, y))\n",
    "print(\"Comparison - less_equal\")\n",
    "print(np.less_equal(x, y))"
   ]
  },
  {
   "cell_type": "code",
   "execution_count": 4,
   "id": "41d9cae5-3e21-48f1-a6c1-e6d5e5df7310",
   "metadata": {},
   "outputs": [
    {
     "name": "stdout",
     "output_type": "stream",
     "text": [
      "Original numbers:\n",
      "[3 5]\n",
      "[2 5]\n",
      "[False  True]\n",
      "False\n",
      "True\n"
     ]
    }
   ],
   "source": [
    "import numpy as np\n",
    "x=np.array([3,5])\n",
    "y=np.array([2,5])\n",
    "z=np.array([3,5])\n",
    "print('Original numbers:')\n",
    "print(x)\n",
    "print(y)\n",
    "print(np.equal(x,y))\n",
    "print(np.allclose(x,y))\n",
    "print(np.allclose(x,z))"
   ]
  },
  {
   "cell_type": "code",
   "execution_count": 9,
   "id": "8b02b9c0-7895-4f08-be55-3405faf5c7af",
   "metadata": {
    "tags": []
   },
   "outputs": [
    {
     "name": "stdout",
     "output_type": "stream",
     "text": [
      "[  1   7  13 105]\n",
      "16 bytes\n"
     ]
    }
   ],
   "source": [
    "import numpy as np\n",
    "x=np.array([1, 7, 13, 105])\n",
    "print(x)\n",
    "print('%d bytes'%(x.size * x.itemsize))"
   ]
  },
  {
   "cell_type": "code",
   "execution_count": 93,
   "id": "c0111492-1e9a-4a32-9da1-9cd41bc04fd4",
   "metadata": {
    "tags": []
   },
   "outputs": [
    {
     "name": "stdout",
     "output_type": "stream",
     "text": [
      "[0. 0. 0. 0. 0. 0. 0. 0. 0. 0.]\n",
      "[1. 1. 1. 1. 1. 1. 1. 1. 1. 1.]\n",
      "[5. 5. 5. 5. 5. 5. 5. 5. 5. 5.]\n",
      "[5. 5. 5. 5. 5. 5. 5. 5. 5. 5.]\n"
     ]
    }
   ],
   "source": [
    "import numpy as np\n",
    "x=np.zeros(10)\n",
    "print(x)\n",
    "y=np.ones(10)\n",
    "print(y)\n",
    "z=np.full(10,5,dtype=float)\n",
    "print(z)\n",
    "p=np.ones(10)*5\n",
    "print(p)"
   ]
  },
  {
   "cell_type": "code",
   "execution_count": 21,
   "id": "88e329cb-a177-4c01-8d1c-c519cc38ca72",
   "metadata": {
    "tags": []
   },
   "outputs": [
    {
     "name": "stdout",
     "output_type": "stream",
     "text": [
      "[30 31 32 33 34 35 36 37 38 39 40 41 42 43 44 45 46 47 48 49 50 51 52 53\n",
      " 54 55 56 57 58 59 60 61 62 63 64 65 66 67 68 69]\n"
     ]
    }
   ],
   "source": [
    "import numpy as np\n",
    "x=np.arange(30,70)\n",
    "print(x)"
   ]
  },
  {
   "cell_type": "code",
   "execution_count": 31,
   "id": "c17869c5-f223-4909-982e-f4a2691be7ea",
   "metadata": {
    "tags": []
   },
   "outputs": [
    {
     "name": "stdout",
     "output_type": "stream",
     "text": [
      "Array of all the even integers from 30 to 70\n",
      "[30 32 34 36 38 40 42 44 46 48 50 52 54 56 58 60 62 64 66 68 70]\n",
      ".....................................................................\n",
      "Array of all the odd integers from 30 to 70\n",
      "[31 33 35 37 39 41 43 45 47 49 51 53 55 57 59 61 63 65 67 69]\n"
     ]
    }
   ],
   "source": [
    "import numpy as np\n",
    "x=np.arange(30,71,2)\n",
    "print(\"Array of all the even integers from 30 to 70\")\n",
    "print(x)\n",
    "#############################################################################\n",
    "print('.....................................................................')\n",
    "x=np.arange(31,71,2)\n",
    "print(\"Array of all the odd integers from 30 to 70\")\n",
    "print(x)"
   ]
  },
  {
   "cell_type": "code",
   "execution_count": 37,
   "id": "d0b5a94d-9bbe-4bf4-a24f-0d4eb65ecf9a",
   "metadata": {
    "tags": []
   },
   "outputs": [
    {
     "name": "stdout",
     "output_type": "stream",
     "text": [
      "3X3 Matrix:\n",
      "[[1. 0. 0.]\n",
      " [0. 1. 0.]\n",
      " [0. 0. 1.]]\n"
     ]
    }
   ],
   "source": [
    "import numpy as np\n",
    "x=np.identity(3)\n",
    "print('3X3 Matrix:')\n",
    "print(x)"
   ]
  },
  {
   "cell_type": "code",
   "execution_count": 53,
   "id": "152e10c2-cda9-479e-9ccd-c64aa767501e",
   "metadata": {
    "tags": []
   },
   "outputs": [
    {
     "name": "stdout",
     "output_type": "stream",
     "text": [
      "[1.70795907]\n"
     ]
    }
   ],
   "source": [
    "import numpy as np\n",
    "x=np.random.normal(0,1,1)\n",
    "print(x)"
   ]
  },
  {
   "cell_type": "code",
   "execution_count": 55,
   "id": "b3a8c691-e512-4adb-a58d-0817a20df871",
   "metadata": {
    "tags": []
   },
   "outputs": [
    {
     "name": "stdout",
     "output_type": "stream",
     "text": [
      "[ 1.07531259  0.92885207  0.25953037  0.01356636  1.62907682  0.51371054\n",
      "  1.04790695  0.39054823 -0.76027249 -0.97728996  0.64439387  1.17551911\n",
      " -1.10698265  0.88558358 -2.75601726]\n"
     ]
    }
   ],
   "source": [
    "import numpy as np\n",
    "x=np.random.normal(0,1,15)\n",
    "print(x)"
   ]
  },
  {
   "cell_type": "code",
   "execution_count": 58,
   "id": "fe2febd5-d71e-410c-a499-33718775669f",
   "metadata": {
    "tags": []
   },
   "outputs": [
    {
     "name": "stdout",
     "output_type": "stream",
     "text": [
      "Original vector:\n",
      "[15 16 17 18 19 20 21 22 23 24 25 26 27 28 29 30 31 32 33 34 35 36 37 38\n",
      " 39 40 41 42 43 44 45 46 47 48 49 50 51 52 53 54]\n",
      "All values except the first and last of the said vector:\n",
      "[16 17 18 19 20 21 22 23 24 25 26 27 28 29 30 31 32 33 34 35 36 37 38 39\n",
      " 40 41 42 43 44 45 46 47 48 49 50 51 52 53]\n"
     ]
    }
   ],
   "source": [
    "import numpy as np\n",
    "x=np.arange(15,55)\n",
    "print(\"Original vector:\")\n",
    "print(x)\n",
    "print(\"All values except the first and last of the said vector:\")\n",
    "print(x[1:-1])"
   ]
  },
  {
   "cell_type": "code",
   "execution_count": 63,
   "id": "00bb6281-74cd-4868-8216-1b725112bba9",
   "metadata": {
    "tags": []
   },
   "outputs": [
    {
     "name": "stdout",
     "output_type": "stream",
     "text": [
      "[[10 11 12 13]\n",
      " [14 15 16 17]\n",
      " [18 19 20 21]]\n",
      "10 11 12 13 14 15 16 17 18 19 20 21 "
     ]
    }
   ],
   "source": [
    "import numpy as np\n",
    "x=np.arange(10,22).reshape((3,4))\n",
    "print(x)\n",
    "for i in np.nditer(x):\n",
    "    print(i,end=' ')"
   ]
  },
  {
   "cell_type": "code",
   "execution_count": 66,
   "id": "53f6efc7-d3d2-4aa2-9ef5-6b246f392237",
   "metadata": {
    "tags": []
   },
   "outputs": [
    {
     "name": "stdout",
     "output_type": "stream",
     "text": [
      "[ 5. 10. 15. 20. 25. 30. 35. 40. 45. 50.]\n"
     ]
    }
   ],
   "source": [
    "import numpy as np\n",
    "x=np.linspace(5,50,10)\n",
    "print(x)"
   ]
  },
  {
   "cell_type": "code",
   "execution_count": 67,
   "id": "cf166485-4cf4-454a-b51e-467b31267db8",
   "metadata": {
    "tags": []
   },
   "outputs": [
    {
     "name": "stdout",
     "output_type": "stream",
     "text": [
      "[ 0  1  2  3  4  5  6  7  8  9 10 11 12 13 14 15 16 17 18 19 20]\n",
      "[  0   1   2   3   4   5   6   7   8  -9 -10 -11 -12 -13 -14 -15  16  17\n",
      "  18  19  20]\n"
     ]
    }
   ],
   "source": [
    "import numpy as np\n",
    "x= np.arange(21)\n",
    "print(x)\n",
    "x[(x>=9) & (x<=15)]*=-1\n",
    "print(x)"
   ]
  },
  {
   "cell_type": "code",
   "execution_count": 69,
   "id": "6ad05b6f-2641-436c-9160-e60d883b1af3",
   "metadata": {
    "tags": []
   },
   "outputs": [
    {
     "name": "stdout",
     "output_type": "stream",
     "text": [
      "[0 9 5 8 6]\n"
     ]
    }
   ],
   "source": [
    "import numpy as np\n",
    "x=np.random.randint(0,10,5)\n",
    "print(x)"
   ]
  },
  {
   "cell_type": "code",
   "execution_count": 75,
   "id": "9eef899f-c2ff-400b-89d1-b9e8ee749b6e",
   "metadata": {
    "tags": []
   },
   "outputs": [
    {
     "name": "stdout",
     "output_type": "stream",
     "text": [
      "[50 77 36 24 40]\n"
     ]
    }
   ],
   "source": [
    "import numpy as np\n",
    "x=np.array([5,11,4,6,5])\n",
    "y=np.array([10,7,9,4,8])\n",
    "z=x * y\n",
    "print(z)"
   ]
  },
  {
   "cell_type": "code",
   "execution_count": 78,
   "id": "ad22d1a9-a747-4bcb-84ab-4fb10936b18d",
   "metadata": {
    "tags": []
   },
   "outputs": [
    {
     "name": "stdout",
     "output_type": "stream",
     "text": [
      "[[10 11 12 13]\n",
      " [14 15 16 17]\n",
      " [18 19 20 21]]\n"
     ]
    }
   ],
   "source": [
    "import numpy as np\n",
    "x=np.arange(10,22).reshape((3,4))\n",
    "print(x)"
   ]
  },
  {
   "cell_type": "code",
   "execution_count": 83,
   "id": "8866ede7-c79f-4cd3-af19-9c29d703275c",
   "metadata": {
    "tags": []
   },
   "outputs": [
    {
     "name": "stdout",
     "output_type": "stream",
     "text": [
      "(2, 4)\n"
     ]
    }
   ],
   "source": [
    "import numpy as np\n",
    "x=np.array([[10, 11, 12, 13],\n",
    " [14, 15, 16, 17]])\n",
    "print(x.shape)"
   ]
  },
  {
   "cell_type": "code",
   "execution_count": 91,
   "id": "ad248569-bcd9-4afc-a3c2-dd1a9ca2aa28",
   "metadata": {
    "tags": []
   },
   "outputs": [
    {
     "name": "stdout",
     "output_type": "stream",
     "text": [
      "[[1. 0. 0.]\n",
      " [0. 1. 0.]\n",
      " [0. 0. 1.]]\n",
      "..................................................................\n",
      "[[1. 0. 0.]\n",
      " [0. 1. 0.]\n",
      " [0. 0. 1.]]\n"
     ]
    }
   ],
   "source": [
    "import numpy as np\n",
    "x=np.identity(3)\n",
    "print(x)\n",
    "#########################################################################\n",
    "print('..................................................................')\n",
    "x=np.eye(3,3)\n",
    "print(x)"
   ]
  },
  {
   "cell_type": "code",
   "execution_count": 100,
   "id": "41401c13-3c17-4e20-926f-40310c816f96",
   "metadata": {
    "tags": []
   },
   "outputs": [
    {
     "name": "stdout",
     "output_type": "stream",
     "text": [
      "[[1. 1. 1. 1. 1. 1. 1. 1. 1. 1.]\n",
      " [1. 0. 0. 0. 0. 0. 0. 0. 0. 1.]\n",
      " [1. 0. 0. 0. 0. 0. 0. 0. 0. 1.]\n",
      " [1. 0. 0. 0. 0. 0. 0. 0. 0. 1.]\n",
      " [1. 0. 0. 0. 0. 0. 0. 0. 0. 1.]\n",
      " [1. 0. 0. 0. 0. 0. 0. 0. 0. 1.]\n",
      " [1. 0. 0. 0. 0. 0. 0. 0. 0. 1.]\n",
      " [1. 0. 0. 0. 0. 0. 0. 0. 0. 1.]\n",
      " [1. 0. 0. 0. 0. 0. 0. 0. 0. 1.]\n",
      " [1. 1. 1. 1. 1. 1. 1. 1. 1. 1.]]\n"
     ]
    }
   ],
   "source": [
    "import numpy as np\n",
    "x=np.ones((10,10))\n",
    "x[1:-1,1:-1]=0\n",
    "print(x)"
   ]
  },
  {
   "cell_type": "code",
   "execution_count": 110,
   "id": "2c9f0ae6-da4e-400e-a1e1-80bc1feb19ff",
   "metadata": {
    "tags": []
   },
   "outputs": [
    {
     "name": "stdout",
     "output_type": "stream",
     "text": [
      "[[1 0 0 0 0]\n",
      " [0 2 0 0 0]\n",
      " [0 0 3 0 0]\n",
      " [0 0 0 4 0]\n",
      " [0 0 0 0 5]]\n"
     ]
    }
   ],
   "source": [
    "import numpy as np\n",
    "x=np.diag([1,2,3,4,5])\n",
    "print(x)"
   ]
  },
  {
   "cell_type": "code",
   "execution_count": 135,
   "id": "cd729617-b6ee-4f7d-ba79-ed276899e275",
   "metadata": {
    "tags": []
   },
   "outputs": [
    {
     "name": "stdout",
     "output_type": "stream",
     "text": [
      "[[0. 1. 0. 1.]\n",
      " [1. 0. 1. 0.]\n",
      " [0. 1. 0. 1.]\n",
      " [1. 0. 1. 0.]]\n",
      ".....................................................................\n",
      "[[0. 1. 1. 1.]\n",
      " [1. 0. 1. 1.]\n",
      " [1. 1. 0. 1.]\n",
      " [1. 1. 1. 0.]]\n"
     ]
    }
   ],
   "source": [
    "import numpy as np\n",
    "x=np.zeros((4,4))\n",
    "x[::2,1::2]=1\n",
    "x[1::2,::2]=1\n",
    "print(x)\n",
    "#############################################################################\n",
    "print('.....................................................................')\n",
    "x=np.zeros((4,4))\n",
    "x[::2,1::2]=1\n",
    "x[1::2,::2]=1\n",
    "x[0][2]=1\n",
    "x[1][3]=1\n",
    "x[2][0]=1\n",
    "x[3][1]=1\n",
    "print(x)"
   ]
  },
  {
   "cell_type": "code",
   "execution_count": 1,
   "id": "1bf3d3bd-a6c1-4a9f-a282-91d5e287be82",
   "metadata": {},
   "outputs": [
    {
     "name": "stdout",
     "output_type": "stream",
     "text": [
      "[[[0.50790767 0.48051782 0.38007761]\n",
      "  [0.74969403 0.57840336 0.52286051]\n",
      "  [0.07694777 0.944273   0.10767338]]\n",
      "\n",
      " [[0.59368944 0.15476163 0.17624553]\n",
      "  [0.75201905 0.86340776 0.20003542]\n",
      "  [0.1758593  0.95886798 0.6321428 ]]\n",
      "\n",
      " [[0.43547472 0.50056825 0.99990325]\n",
      "  [0.26635444 0.98729116 0.9020992 ]\n",
      "  [0.91736854 0.17768353 0.52125495]]]\n"
     ]
    }
   ],
   "source": [
    "import numpy as np\n",
    "x=np.random.random((3,3,3))\n",
    "print(x)"
   ]
  },
  {
   "cell_type": "code",
   "execution_count": 7,
   "id": "49d47940-18be-4378-aee2-7977f0265432",
   "metadata": {},
   "outputs": [
    {
     "name": "stdout",
     "output_type": "stream",
     "text": [
      "6\n",
      "[2 4]\n",
      "[1 5]\n"
     ]
    }
   ],
   "source": [
    "import numpy as np\n",
    "x=np.array([[0,1],[2,3]])\n",
    "print(np.sum(x))\n",
    "print(np.sum(x,axis=0))\n",
    "print(np.sum(x,axis=1))"
   ]
  },
  {
   "cell_type": "code",
   "execution_count": 11,
   "id": "e64ca0ca-816f-4843-8070-443395ccdb29",
   "metadata": {
    "tags": []
   },
   "outputs": [
    {
     "name": "stdout",
     "output_type": "stream",
     "text": [
      "78\n"
     ]
    }
   ],
   "source": [
    "import numpy as np\n",
    "x = np.array([4, 5])\n",
    "y = np.array([7, 10])\n",
    "print(np.dot(x,y))"
   ]
  },
  {
   "cell_type": "code",
   "execution_count": 6,
   "id": "08e99ef4-8a1f-4d78-992d-b59c8bf8d773",
   "metadata": {
    "tags": []
   },
   "outputs": [
    {
     "name": "stdout",
     "output_type": "stream",
     "text": [
      "[[ 2  3  3]\n",
      " [ 5  6  6]\n",
      " [ 8  9  9]\n",
      " [11 12 12]]\n"
     ]
    }
   ],
   "source": [
    "import numpy as np\n",
    "m = np.array([[1, 2, 3], [4, 5, 6], [7, 8, 9], [10, 11, 12]])\n",
    "v = np.array([1, 1, 0])\n",
    "r=np.empty_like(m)\n",
    "for i in range(4):\n",
    "    r[i,:]=m[i,:]+v\n",
    "print(r)"
   ]
  },
  {
   "cell_type": "code",
   "execution_count": 21,
   "id": "656f2cec-9206-417d-9917-52ff5438ee9d",
   "metadata": {
    "tags": []
   },
   "outputs": [
    {
     "name": "stdout",
     "output_type": "stream",
     "text": [
      "True\n"
     ]
    }
   ],
   "source": [
    "import numpy as np\n",
    "import os\n",
    "a=np.arange(20)\n",
    "np.save('G:/Coding/temp_arra.npy',a)\n",
    "if os.path.exists('G:/Coding/temp_arra.npy'):\n",
    "    x2=np.load('G:/Coding/temp_arra.npy')\n",
    "    print(np.array_equal(a,x2))"
   ]
  },
  {
   "cell_type": "code",
   "execution_count": 22,
   "id": "4a1b8933-e9a8-4be1-ac35-467e65eae2ff",
   "metadata": {
    "tags": []
   },
   "outputs": [
    {
     "name": "stdout",
     "output_type": "stream",
     "text": [
      "[0 1 2 3 4 5 6 7 8 9]\n",
      "[11 12 13 14 15 16 17 18 19]\n"
     ]
    }
   ],
   "source": [
    "import numpy as np\n",
    "import os\n",
    "a=np.arange(10)\n",
    "b=np.arange(11,20)\n",
    "np.savez('G:/Coding/temp_array.npz',a=a,b=b)\n",
    "with np.load('G:/Coding/temp_array.npz')as data:\n",
    "    x2=data['a']\n",
    "    y2=data['b']\n",
    "    print(x2)\n",
    "    print(y2)"
   ]
  },
  {
   "cell_type": "code",
   "execution_count": 25,
   "id": "aded8398-cd69-4ccb-a51a-5af2f9ffde1d",
   "metadata": {
    "tags": []
   },
   "outputs": [
    {
     "name": "stdout",
     "output_type": "stream",
     "text": [
      "[[ 0.  1.  2.]\n",
      " [ 3.  4.  5.]\n",
      " [ 6.  7.  8.]\n",
      " [ 9. 10. 11.]]\n"
     ]
    }
   ],
   "source": [
    "import numpy as np\n",
    "import os\n",
    "a=np.arange(12).reshape(4,3)\n",
    "header = 'col1 col2 col3'\n",
    "np.savetxt('G:/Coding/temp.txt', a, fmt=\"%d\", header=header)\n",
    "result = np.loadtxt('G:/Coding/temp.txt')\n",
    "print(result) "
   ]
  },
  {
   "cell_type": "code",
   "execution_count": 26,
   "id": "2abc9c43-d69a-46c5-a961-49e3cc4f79bd",
   "metadata": {
    "tags": []
   },
   "outputs": [
    {
     "name": "stdout",
     "output_type": "stream",
     "text": [
      "[1 2 3 4 5 6]\n",
      "True\n"
     ]
    }
   ],
   "source": [
    "import numpy as np\n",
    "import os\n",
    "a=np.array([1,2,3,4,5,6])\n",
    "a_bytes=a.tobytes()\n",
    "a2=np.frombuffer(a_bytes,dtype=a.dtype)\n",
    "print(a2)\n",
    "print(np.array_equal(a,a2))"
   ]
  },
  {
   "cell_type": "code",
   "execution_count": 32,
   "id": "8bd7caed-254e-4576-98c2-09691ebbf564",
   "metadata": {
    "tags": []
   },
   "outputs": [
    {
     "name": "stdout",
     "output_type": "stream",
     "text": [
      "True\n"
     ]
    }
   ],
   "source": [
    "import numpy as np\n",
    "a=[1,2,3,4,5,6]\n",
    "b=np.array(a)\n",
    "c=b.tolist()\n",
    "print(a==c)"
   ]
  },
  {
   "cell_type": "code",
   "execution_count": 36,
   "id": "3293f33a-479d-4eae-9eae-534029c7677d",
   "metadata": {
    "tags": []
   },
   "outputs": [
    {
     "data": {
      "image/png": "[encoded data removed]",
      "text/plain": [
       "<Figure size 640x480 with 1 Axes>"
      ]
     },
     "metadata": {},
     "output_type": "display_data"
    }
   ],
   "source": [
    "import numpy as np\n",
    "import matplotlib.pyplot as plt\n",
    "x = np.arange(0, 3 * np.pi, 0.2)\n",
    "y = np.sin(x)\n",
    "plt.plot(x,y)\n",
    "plt.show()"
   ]
  },
  {
   "cell_type": "code",
   "execution_count": 37,
   "id": "4523995e-3097-4529-bb49-30c55c09eeda",
   "metadata": {
    "tags": []
   },
   "outputs": [
    {
     "name": "stdout",
     "output_type": "stream",
     "text": [
      "<class 'numpy.float32'>\n",
      "<class 'float'>\n"
     ]
    }
   ],
   "source": [
    "import numpy as np\n",
    "x=np.float32(0)\n",
    "print(type(x))\n",
    "p=x.item()\n",
    "print(type(p))"
   ]
  },
  {
   "cell_type": "code",
   "execution_count": 42,
   "id": "428d6ec6-ebd6-447b-b70d-e6f56baa92ac",
   "metadata": {
    "tags": []
   },
   "outputs": [
    {
     "name": "stdout",
     "output_type": "stream",
     "text": [
      "[[1, 1, 0, 2], [0, 3, 0, 3], [1, 0, 4, 4]] \n",
      " 14\n"
     ]
    }
   ],
   "source": [
    "import numpy as np\n",
    "def test(x):\n",
    "    a=np.array(x)\n",
    "    e=0\n",
    "    for p in range(len(a)):\n",
    "        for q in range(len(a[p])):\n",
    "            if a[p][q]==0 and p< len(a)-1:\n",
    "                a[p+1][q]=0\n",
    "            e+=a[p][q]\n",
    "    return e\n",
    "x= [[1, 1, 0, 2],\n",
    "     [0, 3, 0, 3],\n",
    "     [1, 0, 4, 4]]\n",
    "print(x,'\\n',test(x))"
   ]
  },
  {
   "cell_type": "code",
   "execution_count": 43,
   "id": "cef94fb1-2c2f-4d82-a331-53dd249009f3",
   "metadata": {
    "tags": []
   },
   "outputs": [
    {
     "name": "stdout",
     "output_type": "stream",
     "text": [
      "[[False False  True False]\n",
      " [False False False False]\n",
      " [False  True False  True]]\n"
     ]
    }
   ],
   "source": [
    "import numpy as np\n",
    "n= np.array([[3, 2, np.nan, 1],\n",
    "                 [10, 12, 10, 9],\n",
    "                 [5, np.nan, 1, np.nan]])\n",
    "print(np.isnan(n))"
   ]
  },
  {
   "cell_type": "code",
   "execution_count": 45,
   "id": "764d4f63-3688-4b93-9016-68befc454f1e",
   "metadata": {
    "tags": []
   },
   "outputs": [
    {
     "name": "stdout",
     "output_type": "stream",
     "text": [
      "[False  True  True]\n",
      "[False  True  True]\n"
     ]
    }
   ],
   "source": [
    "import numpy as np\n",
    "n1 = np.array([0.5, 1.5, 0.2])\n",
    "n2 = np.array([0.4999999999, 1.500000000, 0.2])\n",
    "np.set_printoptions(precision=15)\n",
    "print(n1==n2)\n",
    "n1 = np.array([0.5, 1.5, 0.2])\n",
    "n2 = np.array([0.4999999999, 1.500000000, 0.2])\n",
    "np.set_printoptions(precision=15)\n",
    "print(np.equal(n1,n2))"
   ]
  },
  {
   "cell_type": "code",
   "execution_count": 49,
   "id": "aba427bd-c5d8-4ba9-88b6-214af2e20e5e",
   "metadata": {
    "tags": []
   },
   "outputs": [
    {
     "name": "stdout",
     "output_type": "stream",
     "text": [
      "[ 1  2  3  4  5  6  7  8  9 10 11 12 13 14 15 16 17 18 19 20 21]\n",
      "[10 11 12 13 14 15 16 17 18 19 20 21]\n",
      "[100 101 102 103 104 105 106 107 108 109 110 111 112 113 114 115 116 117\n",
      " 118 119 120 121 122 123 124 125 126 127 128 129 130 131 132 133 134 135\n",
      " 136 137 138 139 140 141 142 143 144 145 146 147 148 149 150 151 152 153\n",
      " 154 155 156 157 158 159 160 161 162 163 164 165 166 167 168 169 170 171\n",
      " 172 173 174 175 176 177 178 179 180 181 182 183 184 185 186 187 188 189\n",
      " 190 191 192 193 194 195 196 197 198 199 200 201]\n"
     ]
    }
   ],
   "source": [
    "import numpy as np\n",
    "a=np.arange(1,22)\n",
    "print(a)\n",
    "a=np.arange(10,22)\n",
    "print(a)\n",
    "a=np.arange(100,202)\n",
    "print(a)"
   ]
  },
  {
   "cell_type": "code",
   "execution_count": 55,
   "id": "20c68959-8cde-4a4c-a1ce-7f4339c2f0c6",
   "metadata": {
    "tags": []
   },
   "outputs": [
    {
     "name": "stdout",
     "output_type": "stream",
     "text": [
      "[[  1   2   3   4   5   6   7   8   9  10]\n",
      " [ 11  12  13  14  15  16  17  18  19  20]\n",
      " [ 21  22  23  24  25  26  27  28  29  30]\n",
      " [ 31  32  33  34  35  36  37  38  39  40]\n",
      " [ 41  42  43  44  45  46  47  48  49  50]\n",
      " [ 51  52  53  54  55  56  57  58  59  60]\n",
      " [ 61  62  63  64  65  66  67  68  69  70]\n",
      " [ 71  72  73  74  75  76  77  78  79  80]\n",
      " [ 81  82  83  84  85  86  87  88  89  90]\n",
      " [ 91  92  93  94  95  96  97  98  99 100]\n",
      " [101 102 103 104 105 106 107 108 109 110]\n",
      " [111 112 113 114 115 116 117 118 119 120]\n",
      " [121 122 123 124 125 126 127 128 129 130]\n",
      " [131 132 133 134 135 136 137 138 139 140]\n",
      " [141 142 143 144 145 146 147 148 149 150]]\n"
     ]
    }
   ],
   "source": [
    "import numpy as np\n",
    "x=np.arange(1,151).reshape(15,10)\n",
    "print(x)"
   ]
  },
  {
   "cell_type": "code",
   "execution_count": 66,
   "id": "38b907f4-3e95-4539-80f6-21eecf7b9521",
   "metadata": {
    "tags": []
   },
   "outputs": [
    {
     "name": "stdout",
     "output_type": "stream",
     "text": [
      "[0.771320643266746 0.020751949359402 0.633648234926275 0.748803882538612\n",
      " 0.49850701230259  0.224796645530848 0.198062864759624 0.760530712198959\n",
      " 0.169110836562535 0.08833981417401  0.685359818367797 0.953393346194937\n",
      " 0.003948266327914 0.512192263385777 0.812620961652114 0.612526066829388\n",
      " 0.7217553174318   0.291876068170633 0.917774122512943 0.714575783397691\n",
      " 0.542544368011261 0.142170047601527 0.373340760051469 0.674133615066345\n",
      " 0.441833174422996 0.434013993333294 0.617766978469317 0.513138242554391\n",
      " 0.650397181931467 0.601038953404544 0.805223196832746 0.521647152393634\n",
      " 0.908648880808668 0.319236088988545 0.090459349270907 0.300700056636203\n",
      " 0.11398436186355  0.828681326307677 0.04689631938925  0.626287148311393]\n"
     ]
    }
   ],
   "source": [
    "import numpy as np\n",
    "np.random.seed(10)\n",
    "print(np.random.rand(40))"
   ]
  },
  {
   "cell_type": "code",
   "execution_count": 72,
   "id": "ecc7d2cd-c430-49a9-b91e-7a5577554d27",
   "metadata": {
    "tags": []
   },
   "outputs": [
    {
     "name": "stdout",
     "output_type": "stream",
     "text": [
      "[[201.69082669736346 200.3746763082702  200.68394275021677\n",
      "  195.51750123129818]\n",
      " [197.92478991563303 201.07066048488275 201.79714021459858\n",
      "  198.12823310277952]\n",
      " [200.96238963339914 200.77744291067876 200.61875865227867\n",
      "  199.05613893807728]\n",
      " [198.48492638364303 198.38860811141893 197.55239946005003\n",
      "  200.47003620983824]\n",
      " [199.9154583876559  202.99877319355295 202.01069856971475\n",
      "  200.77735483308504]\n",
      " [199.67739161408255 193.89831807071494 202.14273592752286\n",
      "  202.54951299405823]\n",
      " [199.53450968631876 199.75126019761723 199.791457270905\n",
      "  202.97687756587686]\n",
      " [200.24634412660365 196.0460693352411  198.3061125324022\n",
      "  197.88701546225133]\n",
      " [201.7845091237894  203.94032834458278 198.21152802602944\n",
      "  196.9144607143198 ]\n",
      " [201.0082480992413  197.03285103581035 200.6305276348363\n",
      "  197.82590294139914]]\n"
     ]
    }
   ],
   "source": [
    "import numpy as np\n",
    "np.random.seed(20)\n",
    "cbrt=np.cbrt(7)\n",
    "x=200\n",
    "print(cbrt*np.random.randn(10,4)+x)"
   ]
  },
  {
   "cell_type": "code",
   "execution_count": 77,
   "id": "4280801c-5c3c-4b71-b78a-1181db24d019",
   "metadata": {
    "tags": []
   },
   "outputs": [
    {
     "name": "stdout",
     "output_type": "stream",
     "text": [
      "[4 2 2 1 4]\n",
      "[0 6 4 3 1]\n",
      "[1 1 3 1 6]\n",
      "[1 4 0 6 3]\n"
     ]
    }
   ],
   "source": [
    "import numpy as np\n",
    "print(np.random.choice(7,5))\n",
    "print(np.random.choice(7,5,replace=False))\n",
    "print(np.random.choice(7, 5, p=[0.1, 0.2, 0, 0.2, 0.4, 0, 0.1]))\n",
    "print(np.random.choice(7, 5, replace=False, p=[0.1, 0.2, 0, 0.2, 0.4, 0, 0.1]))"
   ]
  },
  {
   "cell_type": "code",
   "execution_count": 83,
   "id": "963389be-5670-4857-82c6-43bb89d8d367",
   "metadata": {
    "tags": []
   },
   "outputs": [
    {
     "name": "stdout",
     "output_type": "stream",
     "text": [
      "[[ 0  1  2  3]\n",
      " [ 4  5  6  7]\n",
      " [ 8  9 10 11]\n",
      " [12 13 14 15]]\n",
      "\n",
      "New array after swapping first and last rows of the said array:\n",
      "[[12 13 14 15]\n",
      " [ 4  5  6  7]\n",
      " [ 8  9 10 11]\n",
      " [ 0  1  2  3]]\n"
     ]
    }
   ],
   "source": [
    "import numpy as np\n",
    "x=np.arange(16,dtype='int').reshape(-1,4)\n",
    "print(x)\n",
    "x[[0,-1],:]=x[[-1,0],:]\n",
    "print(\"\\nNew array after swapping first and last rows of the said array:\")\n",
    "print(x)"
   ]
  },
  {
   "cell_type": "code",
   "execution_count": 85,
   "id": "7e4faf72-c0f7-4681-931d-09c32ecf6140",
   "metadata": {
    "tags": []
   },
   "outputs": [
    {
     "name": "stdout",
     "output_type": "stream",
     "text": [
      "[[0 0 0 0 0 0]\n",
      " [0 0 0 0 0 0]\n",
      " [0 0 0 0 0 0]\n",
      " [0 0 0 0 0 0]\n",
      " [0 0 0 0 0 0]]\n",
      "[[3 0 3 0 3 0]\n",
      " [7 0 7 0 7 0]\n",
      " [3 0 3 0 3 0]\n",
      " [7 0 7 0 7 0]\n",
      " [3 0 3 0 3 0]]\n"
     ]
    }
   ],
   "source": [
    "import numpy as np\n",
    "x=np.zeros(shape=(5,6),dtype='int')\n",
    "print(x)\n",
    "x[::2,::2]=3\n",
    "x[1::2,::2]=7\n",
    "print(x)"
   ]
  },
  {
   "cell_type": "code",
   "execution_count": 88,
   "id": "b91517ef-0715-4f16-bc3e-b9ffb97d4aa6",
   "metadata": {
    "tags": []
   },
   "outputs": [
    {
     "name": "stdout",
     "output_type": "stream",
     "text": [
      "[[12 13 14 15]\n",
      " [ 4  5  6  7]\n",
      " [ 8  9 10 11]\n",
      " [ 0  1  2  3]]\n",
      "[[12 13 14 15]\n",
      " [ 4  5  6  7]\n",
      " [ 8  9 10 11]\n",
      " [ 0  1  2  3]]\n",
      "[[ 0  1  2  3]\n",
      " [ 4  5  6  7]\n",
      " [ 8  9 10 11]\n",
      " [12 13 14 15]]\n"
     ]
    }
   ],
   "source": [
    "import numpy as np\n",
    "x=np.array([[12, 13, 14, 15],\n",
    " [ 4,  5,  6,  7],\n",
    " [ 8,  9, 10, 11],\n",
    " [ 0,  1,  2,  3]])\n",
    "print(x)\n",
    "print(np.sort(x))\n",
    "print(np.sort(x,axis=0))"
   ]
  },
  {
   "cell_type": "code",
   "execution_count": 90,
   "id": "03c0ee95-ba81-432d-90f0-67ee9e1034d8",
   "metadata": {
    "tags": []
   },
   "outputs": [
    {
     "name": "stdout",
     "output_type": "stream",
     "text": [
      "[[12 13 14 15]\n",
      " [ 4  5  6  7]\n",
      " [ 8  9 10 11]\n",
      " [ 0  1  2  3]]\n",
      "[12 13 14 15  6  7  8  9 10 11]\n",
      "[4 5 0 1 2 3]\n"
     ]
    }
   ],
   "source": [
    "import numpy as np\n",
    "x=np.array([[12, 13, 14, 15],\n",
    " [ 4,  5,  6,  7],\n",
    " [ 8,  9, 10, 11],\n",
    " [ 0,  1,  2,  3]])\n",
    "print(x)\n",
    "n=5\n",
    "print(x[x>n])\n",
    "n=6\n",
    "print(x[x<n])"
   ]
  },
  {
   "cell_type": "code",
   "execution_count": 92,
   "id": "a6d4a9a5-05f9-4f1a-8a3e-124a249dc1ef",
   "metadata": {
    "tags": []
   },
   "outputs": [
    {
     "name": "stdout",
     "output_type": "stream",
     "text": [
      "[[12 13 14 15]\n",
      " [ 4  5  6  7]\n",
      " [ 8  9 10 11]\n",
      " [ 0  1  2  3]]\n",
      "[[12. 13. 14. 15.]\n",
      " [ 4.  5.  6.  7.]\n",
      " [ 8.  9. 10. 11.]\n",
      " [ 0.  1.  2.  3.]]\n",
      "[[18.32 18.32 18.32 18.32]\n",
      " [ 4.    5.    6.    7.  ]\n",
      " [ 8.   18.32 18.32 18.32]\n",
      " [ 0.    1.    2.    3.  ]]\n",
      "[[12.   13.   14.   15.  ]\n",
      " [18.32 18.32 18.32 18.32]\n",
      " [18.32  9.   10.   11.  ]\n",
      " [18.32 18.32 18.32 18.32]]\n"
     ]
    }
   ],
   "source": [
    "import numpy as np\n",
    "x=np.array([[12, 13, 14, 15],\n",
    " [ 4,  5,  6,  7],\n",
    " [ 8,  9, 10, 11],\n",
    " [ 0,  1,  2,  3]])\n",
    "print(x)\n",
    "n=8.32\n",
    "r=18.32\n",
    "print(np.where(x==n,r,x))\n",
    "print(np.where(x>n,r,x))\n",
    "print(np.where(x<n,r,x))"
   ]
  },
  {
   "cell_type": "code",
   "execution_count": 94,
   "id": "1a2401da-8611-4efd-82ed-8d2ad1dfff1d",
   "metadata": {
    "tags": []
   },
   "outputs": [
    {
     "name": "stdout",
     "output_type": "stream",
     "text": [
      "[[12 13 14 15]\n",
      " [ 4  5  6  7]\n",
      " [ 8  9 10 11]\n",
      " [ 0  1  2  3]]\n",
      "[[1 1 1 1]\n",
      " [1 1 1 1]\n",
      " [1 1 1 1]\n",
      " [1 1 1 1]]\n"
     ]
    }
   ],
   "source": [
    "import numpy as np\n",
    "x=np.array([[12, 13, 14, 15],\n",
    " [ 4,  5,  6,  7],\n",
    " [ 8,  9, 10, 11],\n",
    " [ 0,  1,  2,  3]])\n",
    "print(x)\n",
    "print(np.ones_like(x))"
   ]
  },
  {
   "cell_type": "code",
   "execution_count": 97,
   "id": "ef72c9b3-8363-4642-99ee-7cfb93d29f7c",
   "metadata": {
    "tags": []
   },
   "outputs": [
    {
     "name": "stdout",
     "output_type": "stream",
     "text": [
      "[[[1 5 2 1]\n",
      "  [4 3 5 6]\n",
      "  [6 3 0 6]\n",
      "  [7 3 5 0]\n",
      "  [2 3 3 5]]\n",
      "\n",
      " [[2 2 3 1]\n",
      "  [4 0 0 5]\n",
      "  [6 3 2 1]\n",
      "  [5 1 0 0]\n",
      "  [0 1 9 1]]\n",
      "\n",
      " [[3 1 4 2]\n",
      "  [4 1 6 0]\n",
      "  [1 2 0 6]\n",
      "  [8 3 4 0]\n",
      "  [2 0 2 8]]]\n"
     ]
    }
   ],
   "source": [
    "import numpy as np\n",
    "x=np.array([[[1, 5, 2, 1],\n",
    "               [4, 3, 5, 6],\n",
    "               [6, 3, 0, 6],\n",
    "               [7, 3, 5, 0],\n",
    "               [2, 3, 3, 5]],\n",
    "              \n",
    "              [[2, 2, 3, 1],\n",
    "               [4, 0, 0, 5],\n",
    "               [6, 3, 2, 1],\n",
    "               [5, 1, 0, 0],               \n",
    "               [0, 1, 9, 1]],\n",
    "              \n",
    "              [[3, 1, 4, 2],\n",
    "               [4, 1, 6, 0],\n",
    "               [1, 2, 0, 6],\n",
    "               [8, 3, 4, 0],               \n",
    "               [2, 0, 2, 8]]]) \n",
    "print(x)"
   ]
  },
  {
   "cell_type": "code",
   "execution_count": 99,
   "id": "d74125a5-2442-40af-8861-d6fd2da70b77",
   "metadata": {
    "tags": []
   },
   "outputs": [
    {
     "name": "stdout",
     "output_type": "stream",
     "text": [
      "[[ 0  1  2  3]\n",
      " [ 4  5  6  7]\n",
      " [ 8  9 10 11]\n",
      " [12 13 14 15]]\n",
      "\n",
      "New array after swapping first and last rows of the said array:\n",
      "[[12 13 14 15]\n",
      " [ 4  5  6  7]\n",
      " [ 8  9 10 11]\n",
      " [ 0  1  2  3]]\n",
      "\n",
      "New array after swapping Second and third rows of the said array:\n",
      "[[12 13 14 15]\n",
      " [ 8  9 10 11]\n",
      " [ 4  5  6  7]\n",
      " [ 0  1  2  3]]\n"
     ]
    }
   ],
   "source": [
    "import numpy as np\n",
    "x=np.arange(16,dtype='int').reshape(4,4)\n",
    "print(x)\n",
    "x[[0,-1],:]=x[[-1,0],:]\n",
    "print(\"\\nNew array after swapping first and last rows of the said array:\")\n",
    "print(x)\n",
    "x[[1,-2],:]=x[[-2,1],:]\n",
    "print(\"\\nNew array after swapping Second and third rows of the said array:\")\n",
    "print(x)"
   ]
  },
  {
   "cell_type": "code",
   "execution_count": 100,
   "id": "5c729c90-89d6-49ba-9c00-57ef21310f6b",
   "metadata": {
    "tags": []
   },
   "outputs": [
    {
     "name": "stdout",
     "output_type": "stream",
     "text": [
      "[[[ 1  2  3  4]\n",
      "  [ 0  1  3  4]\n",
      "  [90 91 93 94]\n",
      "  [ 5  0  3  2]]]\n",
      "[[[ 5  0  3  2]\n",
      "  [90 91 93 94]\n",
      "  [ 0  1  3  4]\n",
      "  [ 1  2  3  4]]]\n"
     ]
    }
   ],
   "source": [
    "import numpy as np\n",
    "x= np.array([[[1, 2, 3, 4],\n",
    "               [0, 1, 3, 4],\n",
    "               [90, 91, 93, 94],\n",
    "               [5, 0, 3, 2]]])\n",
    "print(x)\n",
    "x1=x[::-1,::-1]\n",
    "print(x1)"
   ]
  },
  {
   "cell_type": "code",
   "execution_count": 103,
   "id": "fc86ec66-f2e4-4b43-b95d-3f84234bc8dd",
   "metadata": {
    "tags": []
   },
   "outputs": [
    {
     "name": "stdout",
     "output_type": "stream",
     "text": [
      "[[ 12  26  42  60]\n",
      " [  0   9  30  44]\n",
      " [360 455 558 658]\n",
      " [  0   0   6   6]]\n"
     ]
    }
   ],
   "source": [
    "import numpy as np\n",
    "x=np.array([[1, 2, 3, 4],\n",
    "               [0, 1, 3, 4],\n",
    "               [90, 91, 93, 94],\n",
    "               [5, 0, 3, 2]])\n",
    "y=np.array([[12, 13, 14, 15],\n",
    " [ 8,  9, 10, 11],\n",
    " [ 4,  5,  6,  7],\n",
    " [ 0,  1,  2,  3]])\n",
    "print(np.multiply(x,y))"
   ]
  },
  {
   "cell_type": "code",
   "execution_count": null,
   "id": "032fc991-eee4-4e9d-ab50-143b2206d997",
   "metadata": {},
   "outputs": [],
   "source": []
  }
 ],
 "metadata": {
  "kernelspec": {
   "display_name": "Python 3 (ipykernel)",
   "language": "python",
   "name": "python3"
  },
  "language_info": {
   "codemirror_mode": {
    "name": "ipython",
    "version": 3
   },
   "file_extension": ".py",
   "mimetype": "text/x-python",
   "name": "python",
   "nbconvert_exporter": "python",
   "pygments_lexer": "ipython3",
   "version": "3.11.3"
  }
 },
 "nbformat": 4,
 "nbformat_minor": 5
}
