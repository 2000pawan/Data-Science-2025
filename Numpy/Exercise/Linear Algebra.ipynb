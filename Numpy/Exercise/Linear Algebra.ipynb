{
 "cells": [
  {
   "cell_type": "code",
   "execution_count": 1,
   "id": "6a3c0d64-059c-4ed0-9b4f-536662c509bb",
   "metadata": {},
   "outputs": [],
   "source": [
    "import numpy as np"
   ]
  },
  {
   "cell_type": "code",
   "execution_count": 8,
   "id": "b412730a-9fdd-42f8-9429-13fdd6d7c2fe",
   "metadata": {},
   "outputs": [
    {
     "name": "stdout",
     "output_type": "stream",
     "text": [
      "[[12  3]\n",
      " [28 40]]\n"
     ]
    },
    {
     "data": {
      "text/plain": [
       "array([[1, 2],\n",
       "       [3, 4]])"
      ]
     },
     "execution_count": 8,
     "metadata": {},
     "output_type": "execute_result"
    }
   ],
   "source": [
    "x=np.array([[2,3],[4,5]])\n",
    "y=np.array([[6,1],[7,8]])\n",
    "z=x*y\n",
    "print(z)\n",
    "p = [[1, 0], [0, 1]]\n",
    "q = [[1, 2], [3, 4]]\n",
    "z=np.dot(p,q)\n",
    "z"
   ]
  },
  {
   "cell_type": "code",
   "execution_count": 10,
   "id": "def3e73c-2c03-4d28-8427-da9cec20c227",
   "metadata": {},
   "outputs": [
    {
     "data": {
      "text/plain": [
       "array([[1, 2, 3, 4],\n",
       "       [0, 0, 0, 0],\n",
       "       [0, 0, 0, 0],\n",
       "       [1, 2, 3, 4]])"
      ]
     },
     "execution_count": 10,
     "metadata": {},
     "output_type": "execute_result"
    }
   ],
   "source": [
    "p = [[1, 0], [0, 1]]\n",
    "q = [[1, 2], [3, 4]]\n",
    "z=np.outer(p,q)\n",
    "z"
   ]
  },
  {
   "cell_type": "code",
   "execution_count": 12,
   "id": "2b977e2a-391d-412f-8cac-80a9219fe330",
   "metadata": {},
   "outputs": [
    {
     "name": "stdout",
     "output_type": "stream",
     "text": [
      "[ 2 -3]\n",
      "[-2  3]\n"
     ]
    }
   ],
   "source": [
    "p = [[1, 0], [0, 1]]\n",
    "q = [[1, 2], [3, 4]]\n",
    "z=np.cross(p,q)\n",
    "print(z)\n",
    "z=np.cross(q,p)\n",
    "print(z)"
   ]
  },
  {
   "cell_type": "code",
   "execution_count": 16,
   "id": "f4a75e8b-890f-43db-8a1f-dd2b2227240b",
   "metadata": {},
   "outputs": [
    {
     "name": "stdout",
     "output_type": "stream",
     "text": [
      "Original 2-d array\n",
      "[[1 0]\n",
      " [1 2]]\n"
     ]
    },
    {
     "data": {
      "text/plain": [
       "2.0"
      ]
     },
     "execution_count": 16,
     "metadata": {},
     "output_type": "execute_result"
    }
   ],
   "source": [
    "import numpy as np\n",
    "a = np.array([[1, 0], [1, 2]])\n",
    "print(\"Original 2-d array\")\n",
    "print(a)\n",
    "z=np.linalg.det(a)\n",
    "z"
   ]
  },
  {
   "cell_type": "code",
   "execution_count": 20,
   "id": "c5008807-e093-4d82-ae2d-16e298edfd0e",
   "metadata": {},
   "outputs": [
    {
     "name": "stdout",
     "output_type": "stream",
     "text": [
      "Original 2-d array\n",
      "[1 2 3]\n",
      "[0 1 0]\n",
      "2\n",
      "Original Higher dimension:\n",
      "[[0 1 2]\n",
      " [3 4 5]\n",
      " [6 7 8]]\n",
      "[[ 3  4  5]\n",
      " [ 6  7  8]\n",
      " [ 9 10 11]]\n",
      "Einstein’s summation convention of the said arrays:\n",
      "[[ 24  27  30]\n",
      " [ 78  90 102]\n",
      " [132 153 174]]\n"
     ]
    }
   ],
   "source": [
    "import numpy as np\n",
    "a = np.array([1,2,3])\n",
    "b = np.array([0,1,0])\n",
    "print(\"Original 2-d array\")\n",
    "print(a)\n",
    "print(b)\n",
    "print(np.einsum('n,n',a,b))\n",
    "x = np.arange(9).reshape(3, 3)\n",
    "y = np.arange(3, 12).reshape(3, 3)\n",
    "print(\"Original Higher dimension:\")\n",
    "print(x)\n",
    "print(y)\n",
    "result = np.einsum(\"mk,kn\", x, y)\n",
    "print(\"Einstein’s summation convention of the said arrays:\")\n",
    "print(result) "
   ]
  },
  {
   "cell_type": "code",
   "execution_count": 23,
   "id": "ea850bc0-65df-4bce-9cf1-9899f192bcd0",
   "metadata": {},
   "outputs": [
    {
     "name": "stdout",
     "output_type": "stream",
     "text": [
      "Original 1-d arrays:\n",
      "[1 2 5]\n",
      "[2 1 0]\n",
      "4\n"
     ]
    },
    {
     "data": {
      "text/plain": [
       "array([[ 14,  23,  32],\n",
       "       [ 50,  86, 122],\n",
       "       [ 86, 149, 212]])"
      ]
     },
     "execution_count": 23,
     "metadata": {},
     "output_type": "execute_result"
    }
   ],
   "source": [
    "import numpy as np\n",
    "a = np.array([1, 2, 5])\n",
    "b = np.array([2, 1, 0])\n",
    "print(\"Original 1-d arrays:\")\n",
    "print(a)\n",
    "print(b)\n",
    "z=np.inner(a,b)\n",
    "print(z)\n",
    "x = np.arange(9).reshape(3, 3)\n",
    "y = np.arange(3, 12).reshape(3, 3)\n",
    "np.inner(x,y)"
   ]
  },
  {
   "cell_type": "code",
   "execution_count": 28,
   "id": "b97f0578-fa9c-4da9-91a0-ccbdd69da015",
   "metadata": {},
   "outputs": [
    {
     "name": "stdout",
     "output_type": "stream",
     "text": [
      "Original matrix:\n",
      "a\n",
      " [[ 3 -2]\n",
      " [ 1  0]]\n",
      "Eigenvalues of the said matrix [2. 1.]\n",
      "Eigenvectors of the said matrix [[0.89442719 0.70710678]\n",
      " [0.4472136  0.70710678]]\n"
     ]
    }
   ],
   "source": [
    "import numpy as np\n",
    "m = np.mat(\"3 -2; 1 0\")\n",
    "print(\"Original matrix:\")\n",
    "print(\"a\\n\", m)\n",
    "w,v=np.linalg.eig(m)\n",
    "print(\"Eigenvalues of the said matrix\", w)\n",
    "print(\"Eigenvectors of the said matrix\", v) "
   ]
  },
  {
   "cell_type": "code",
   "execution_count": 33,
   "id": "49f52a47-76a9-49fb-af06-7c4546eed418",
   "metadata": {},
   "outputs": [
    {
     "name": "stdout",
     "output_type": "stream",
     "text": [
      "Original 1-d arrays:\n",
      "[1 2 3]\n",
      "[0 1 0]\n",
      "[0 1 0 0 2 0 0 3 0]\n",
      "Original Higher dimension:\n",
      "[[0 1 2]\n",
      " [3 4 5]\n",
      " [6 7 8]]\n",
      "[[ 3  4  5]\n",
      " [ 6  7  8]\n",
      " [ 9 10 11]]\n"
     ]
    },
    {
     "data": {
      "text/plain": [
       "array([[ 0,  0,  0,  3,  4,  5,  6,  8, 10],\n",
       "       [ 0,  0,  0,  6,  7,  8, 12, 14, 16],\n",
       "       [ 0,  0,  0,  9, 10, 11, 18, 20, 22],\n",
       "       [ 9, 12, 15, 12, 16, 20, 15, 20, 25],\n",
       "       [18, 21, 24, 24, 28, 32, 30, 35, 40],\n",
       "       [27, 30, 33, 36, 40, 44, 45, 50, 55],\n",
       "       [18, 24, 30, 21, 28, 35, 24, 32, 40],\n",
       "       [36, 42, 48, 42, 49, 56, 48, 56, 64],\n",
       "       [54, 60, 66, 63, 70, 77, 72, 80, 88]])"
      ]
     },
     "execution_count": 33,
     "metadata": {},
     "output_type": "execute_result"
    }
   ],
   "source": [
    "import numpy as np\n",
    "a = np.array([1, 2, 3])\n",
    "b = np.array([0, 1, 0])\n",
    "print(\"Original 1-d arrays:\")\n",
    "print(a)\n",
    "print(b)\n",
    "z=np.kron(a,b)\n",
    "print(z)\n",
    "x = np.arange(9).reshape(3, 3)\n",
    "y = np.arange(3, 12).reshape(3, 3)\n",
    "print(\"Original Higher dimension:\")\n",
    "print(x)\n",
    "print(y)\n",
    "np.kron(x,y)"
   ]
  },
  {
   "cell_type": "code",
   "execution_count": 36,
   "id": "60213adb-ebb3-46fe-a353-675439eba6a6",
   "metadata": {},
   "outputs": [
    {
     "name": "stdout",
     "output_type": "stream",
     "text": [
      "[[ 1  0 -1]\n",
      " [ 0  1  0]\n",
      " [ 1  0  1]]\n"
     ]
    },
    {
     "data": {
      "text/plain": [
       "1.4142135623730951"
      ]
     },
     "execution_count": 36,
     "metadata": {},
     "output_type": "execute_result"
    }
   ],
   "source": [
    "import numpy as np\n",
    "a = np.array([[1, 0, -1], [0, 1, 0], [1, 0, 1]])\n",
    "print(a)\n",
    "np.linalg.cond(a)"
   ]
  },
  {
   "cell_type": "code",
   "execution_count": 37,
   "id": "5193c8a3-846b-43cb-919e-415bf8e44e90",
   "metadata": {},
   "outputs": [
    {
     "name": "stdout",
     "output_type": "stream",
     "text": [
      "Vector norm:\n",
      "9.539392014169456\n",
      "Matrix norm:\n",
      "5.477225575051661\n"
     ]
    }
   ],
   "source": [
    "import numpy as np\n",
    "v = np.arange(7)\n",
    "result = np.linalg.norm(v)\n",
    "print(\"Vector norm:\")\n",
    "print(result)\n",
    "m = np.matrix('1, 2; 3, 4') \n",
    "result1 = np.linalg.norm(m)\n",
    "print(\"Matrix norm:\")\n",
    "print(result1)"
   ]
  },
  {
   "cell_type": "code",
   "execution_count": 38,
   "id": "e0230103-5370-4369-bb3b-2dc4d2558512",
   "metadata": {},
   "outputs": [
    {
     "name": "stdout",
     "output_type": "stream",
     "text": [
      "Original array:\n",
      "[[1 2]\n",
      " [3 4]]\n"
     ]
    },
    {
     "data": {
      "text/plain": [
       "-2.0000000000000004"
      ]
     },
     "execution_count": 38,
     "metadata": {},
     "output_type": "execute_result"
    }
   ],
   "source": [
    "import numpy as np\n",
    "a = np.array([[1,2],[3,4]])\n",
    "print(\"Original array:\")\n",
    "print(a)\n",
    "np.linalg.det(a)"
   ]
  },
  {
   "cell_type": "code",
   "execution_count": 40,
   "id": "8acd7589-2694-49a1-892c-7dde0ca02ff4",
   "metadata": {},
   "outputs": [
    {
     "name": "stdout",
     "output_type": "stream",
     "text": [
      "[[1 2]\n",
      " [3 4]]\n"
     ]
    },
    {
     "data": {
      "text/plain": [
       "matrix([[-2. ,  1. ],\n",
       "        [ 1.5, -0.5]])"
      ]
     },
     "execution_count": 40,
     "metadata": {},
     "output_type": "execute_result"
    }
   ],
   "source": [
    "import numpy as np\n",
    "m = np.matrix('1, 2; 3, 4') \n",
    "print(m)\n",
    "np.linalg.inv(m)"
   ]
  },
  {
   "cell_type": "code",
   "execution_count": 42,
   "id": "6e48fb41-e168-4b1e-8438-912f447122e6",
   "metadata": {},
   "outputs": [
    {
     "name": "stdout",
     "output_type": "stream",
     "text": [
      "[[1 2]\n",
      " [3 4]]\n",
      "QRResult(Q=matrix([[-0.31622777, -0.9486833 ],\n",
      "        [-0.9486833 ,  0.31622777]]), R=matrix([[-3.16227766, -4.42718872],\n",
      "        [ 0.        , -0.63245553]]))\n"
     ]
    }
   ],
   "source": [
    "import numpy as np\n",
    "m = np.matrix('1, 2; 3, 4') \n",
    "print(m)\n",
    "print(np.linalg.qr(m))"
   ]
  },
  {
   "cell_type": "code",
   "execution_count": 43,
   "id": "5f0ed922-0b8a-4f6b-8ee6-cabc0c409e4e",
   "metadata": {},
   "outputs": [
    {
     "name": "stdout",
     "output_type": "stream",
     "text": [
      "[[1 2]\n",
      " [3 4]]\n",
      "14.933034373659265\n"
     ]
    }
   ],
   "source": [
    "import numpy as np\n",
    "m = np.matrix('1, 2; 3, 4') \n",
    "print(m)\n",
    "print(np.linalg.cond(m))"
   ]
  },
  {
   "cell_type": "code",
   "execution_count": 45,
   "id": "9ae10e38-99c0-4e45-9a5b-b9713f260f7b",
   "metadata": {},
   "outputs": [
    {
     "name": "stdout",
     "output_type": "stream",
     "text": [
      "[[1 2]\n",
      " [3 4]]\n",
      "5\n"
     ]
    }
   ],
   "source": [
    "import numpy as np\n",
    "m = np.matrix('1, 2; 3, 4') \n",
    "print(m)\n",
    "print(np.trace(m))"
   ]
  },
  {
   "cell_type": "code",
   "execution_count": 48,
   "id": "69e91f7b-a669-42f2-a02e-e9516a21c225",
   "metadata": {},
   "outputs": [
    {
     "name": "stdout",
     "output_type": "stream",
     "text": [
      "Original array:\n",
      "[[  4  12 -16]\n",
      " [ 12  37 -53]\n",
      " [-16 -53  98]]\n",
      "[[ 2.  0.  0.]\n",
      " [ 6.  1.  0.]\n",
      " [-8. -5.  3.]]\n"
     ]
    }
   ],
   "source": [
    "import numpy as np\n",
    "a = np.array([[4, 12, -16], [12, 37, -53], [-16, -53, 98]], dtype=np.int32)\n",
    "print(\"Original array:\")\n",
    "print(a)\n",
    "print(np.linalg.cholesky(a))"
   ]
  },
  {
   "cell_type": "code",
   "execution_count": 50,
   "id": "1f6b760c-1060-4b56-a225-3726f7d89eef",
   "metadata": {},
   "outputs": [
    {
     "name": "stdout",
     "output_type": "stream",
     "text": [
      "Original array:\n",
      "[[  4  12 -16]\n",
      " [ 12  37 -53]\n",
      " [-16 -53  98]]\n",
      "qr factorization of the said array:\n",
      "q=\n",
      " [[-0.19611614 -0.37203388  0.90726471]\n",
      " [-0.58834841 -0.69554161 -0.41239305]\n",
      " [ 0.78446454 -0.61466468 -0.08247861]] \n",
      "r=\n",
      " [[-20.39607805 -65.69890527 111.19784862]\n",
      " [  0.           2.37778177 -17.42089094]\n",
      " [  0.           0.          -0.74230749]]\n"
     ]
    }
   ],
   "source": [
    "import numpy as np\n",
    "a = np.array([[4, 12, -16], [12, 37, -53], [-16, -53, 98]], dtype=np.int32)\n",
    "print(\"Original array:\")\n",
    "print(a)\n",
    "q, r = np.linalg.qr(a)\n",
    "print(\"qr factorization of the said array:\")\n",
    "print(\"q=\\n\", q, \"\\nr=\\n\", r) "
   ]
  },
  {
   "cell_type": "code",
   "execution_count": 52,
   "id": "f4a78b94-9749-49c4-83e0-2698e04c48bb",
   "metadata": {},
   "outputs": [
    {
     "name": "stdout",
     "output_type": "stream",
     "text": [
      "Original array:\n",
      "[[1. 0. 0. 0. 2.]\n",
      " [0. 0. 3. 0. 0.]\n",
      " [0. 0. 0. 0. 0.]\n",
      " [0. 2. 0. 0. 0.]]\n",
      "Factor of a given array by Singular Value Decomposition:\n",
      "U=\n",
      " [[ 0.  1.  0.  0.]\n",
      " [ 1.  0.  0.  0.]\n",
      " [ 0.  0.  0. -1.]\n",
      " [ 0.  0.  1.  0.]] \n",
      "s=\n",
      " [3.       2.236068 2.       0.      ] \n",
      "V=\n",
      " [[-0.         0.         1.         0.         0.       ]\n",
      " [ 0.4472136  0.         0.         0.         0.8944272]\n",
      " [-0.         1.         0.         0.         0.       ]\n",
      " [ 0.         0.         0.         1.         0.       ]]\n"
     ]
    }
   ],
   "source": [
    "import numpy as np\n",
    "a = np.array([[1, 0, 0, 0, 2], [0, 0, 3, 0, 0], [0, 0, 0, 0, 0], [0, 2, 0, 0, 0]], dtype=np.float32)\n",
    "print(\"Original array:\")\n",
    "print(a)\n",
    "U, s, V = np.linalg.svd(a, full_matrices=False)\n",
    "q, r = np.linalg.qr(a)\n",
    "print(\"Factor of a given array by Singular Value Decomposition:\")\n",
    "print(\"U=\\n\", U, \"\\ns=\\n\", s, \"\\nV=\\n\", V) "
   ]
  },
  {
   "cell_type": "code",
   "execution_count": 57,
   "id": "a811343d-6a8a-48ed-aebe-963f84f444b3",
   "metadata": {},
   "outputs": [
    {
     "name": "stdout",
     "output_type": "stream",
     "text": [
      "Original array:\n",
      "[[1 2 3]\n",
      " [4 5 6]\n",
      " [7 8 9]]\n",
      "3.193239515623568e+17\n",
      "16.881943016134134\n"
     ]
    }
   ],
   "source": [
    "import numpy as np\n",
    "a = np.arange(1, 10).reshape((3, 3))\n",
    "print(\"Original array:\")\n",
    "print(a)\n",
    "print(np.linalg.cond(a,'fro'))\n",
    "print(np.linalg.norm(a,'fro'))"
   ]
  },
  {
   "cell_type": "code",
   "execution_count": null,
   "id": "a396b51c-c649-4dbc-8aa0-a9855e833512",
   "metadata": {},
   "outputs": [],
   "source": []
  }
 ],
 "metadata": {
  "kernelspec": {
   "display_name": "Python 3 (ipykernel)",
   "language": "python",
   "name": "python3"
  },
  "language_info": {
   "codemirror_mode": {
    "name": "ipython",
    "version": 3
   },
   "file_extension": ".py",
   "mimetype": "text/x-python",
   "name": "python",
   "nbconvert_exporter": "python",
   "pygments_lexer": "ipython3",
   "version": "3.11.7"
  },
  "widgets": {
   "application/vnd.jupyter.widget-state+json": {
    "state": {},
    "version_major": 2,
    "version_minor": 0
   }
  }
 },
 "nbformat": 4,
 "nbformat_minor": 5
}
