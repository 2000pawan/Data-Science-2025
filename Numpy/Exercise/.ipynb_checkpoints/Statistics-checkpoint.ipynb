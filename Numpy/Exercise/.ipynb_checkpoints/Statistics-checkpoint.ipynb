{
 "cells": [
  {
   "cell_type": "code",
   "execution_count": 57,
   "id": "1bff3179-27e0-49b7-bdb4-9eeda738d80f",
   "metadata": {},
   "outputs": [],
   "source": [
    "import numpy as np\n",
    "import warnings\n",
    "warnings.filterwarnings('ignore')"
   ]
  },
  {
   "cell_type": "code",
   "execution_count": 8,
   "id": "79a03c7a-9b4f-4d40-ab64-0d524262c6f6",
   "metadata": {},
   "outputs": [
    {
     "name": "stdout",
     "output_type": "stream",
     "text": [
      "3\n",
      "0\n"
     ]
    }
   ],
   "source": [
    "x=np.array([[0,1],[2,3]])\n",
    "print(np.max(x))\n",
    "print(np.min(x))"
   ]
  },
  {
   "cell_type": "code",
   "execution_count": 13,
   "id": "f2c58253-fc1d-4ef8-a645-8cb3e5facb6e",
   "metadata": {},
   "outputs": [
    {
     "name": "stdout",
     "output_type": "stream",
     "text": [
      "[1 3]\n",
      "[0 2]\n"
     ]
    }
   ],
   "source": [
    "x=np.array([[0,1],[2,3]])\n",
    "print(np.max(x,axis=1))\n",
    "print(np.min(x,axis=1))"
   ]
  },
  {
   "cell_type": "code",
   "execution_count": 23,
   "id": "5e3e794f-49b1-4ad8-937b-fa840e1a2c79",
   "metadata": {},
   "outputs": [
    {
     "name": "stdout",
     "output_type": "stream",
     "text": [
      "[5 5]\n",
      "[5 5]\n"
     ]
    }
   ],
   "source": [
    "x=np.arange(12).reshape(2,6)\n",
    "print(np.ptp(x,axis=1))\n",
    "print(np.max(x,axis=1)-np.min(x,axis=1))"
   ]
  },
  {
   "cell_type": "code",
   "execution_count": 30,
   "id": "6e7676ac-329d-4eab-b27b-0cee979e2fda",
   "metadata": {},
   "outputs": [
    {
     "name": "stdout",
     "output_type": "stream",
     "text": [
      "[ 4. 10.]\n"
     ]
    }
   ],
   "source": [
    "x=np.arange(12).reshape(2,6)\n",
    "print(np.percentile(x,80,1))"
   ]
  },
  {
   "cell_type": "code",
   "execution_count": 31,
   "id": "1a0ee682-8a3c-445f-9fb0-52b9e04c2d43",
   "metadata": {},
   "outputs": [
    {
     "name": "stdout",
     "output_type": "stream",
     "text": [
      "5.5\n"
     ]
    }
   ],
   "source": [
    "x=np.arange(12).reshape(2,6)\n",
    "print(np.median(x))"
   ]
  },
  {
   "cell_type": "code",
   "execution_count": 39,
   "id": "a119b5b4-9197-42fa-86ba-76e182439d6a",
   "metadata": {},
   "outputs": [
    {
     "name": "stdout",
     "output_type": "stream",
     "text": [
      "2.6666666666666665\n",
      "2.666666666666667\n"
     ]
    }
   ],
   "source": [
    "x=np.array([0, 1, 2, 3, 4])\n",
    "weights = np.arange(1, 6)\n",
    "print(np.average(x,weights=weights))\n",
    "r2=(x*(weights/weights.sum())).sum()\n",
    "print(r2)"
   ]
  },
  {
   "cell_type": "code",
   "execution_count": 51,
   "id": "47270cba-d02f-495a-9044-f03826ee1a36",
   "metadata": {},
   "outputs": [
    {
     "name": "stdout",
     "output_type": "stream",
     "text": [
      "2.5\n",
      "1.707825127659933\n",
      "2.9166666666666665\n",
      "1.707825127659933\n",
      "2.9166666666666665\n"
     ]
    }
   ],
   "source": [
    "x=np.array([0, 1, 2, 3, 4,5])\n",
    "print(np.mean(x))\n",
    "print(np.std(x))\n",
    "print(np.var(x))\n",
    "print(np.sqrt(np.mean((x-np.mean(x))**2)))\n",
    "print(np.mean((x-np.mean(x))**2))"
   ]
  },
  {
   "cell_type": "code",
   "execution_count": 52,
   "id": "eeee47f2-cce2-4aa5-88e8-940606b06564",
   "metadata": {},
   "outputs": [
    {
     "name": "stdout",
     "output_type": "stream",
     "text": [
      "[[ 1. -1.]\n",
      " [-1.  1.]]\n"
     ]
    }
   ],
   "source": [
    "x=np.array([0,1,2])\n",
    "y=np.array([2,1,0])\n",
    "print(np.cov(x,y))"
   ]
  },
  {
   "cell_type": "code",
   "execution_count": 54,
   "id": "7b08ba90-c475-42e8-a9f4-e67d7fc99b47",
   "metadata": {},
   "outputs": [
    {
     "name": "stdout",
     "output_type": "stream",
     "text": [
      "[19]\n"
     ]
    }
   ],
   "source": [
    "x=np.array([0,1,3])\n",
    "y=np.array([2,4,5])\n",
    "print(np.correlate(x,y))"
   ]
  },
  {
   "cell_type": "code",
   "execution_count": 55,
   "id": "19c6ea4e-09b3-4f17-9627-eae20c233097",
   "metadata": {},
   "outputs": [
    {
     "name": "stdout",
     "output_type": "stream",
     "text": [
      "[[1.         0.92857143]\n",
      " [0.92857143 1.        ]]\n"
     ]
    }
   ],
   "source": [
    "x=np.array([0,1,3])\n",
    "y=np.array([2,4,5])\n",
    "print(np.corrcoef(x,y))"
   ]
  },
  {
   "cell_type": "code",
   "execution_count": 58,
   "id": "f2e8ef83-db00-4964-8434-238461e7c88f",
   "metadata": {},
   "outputs": [
    {
     "name": "stdout",
     "output_type": "stream",
     "text": [
      "\n",
      "Test element-wise for finiteness (not infinity or not Not a Number):\n",
      "True\n",
      "True\n",
      "False\n",
      "\n",
      "Test element-wise for positive or negative infinity:\n",
      "True\n",
      "False\n",
      "True\n",
      "Test element-wise for NaN:\n",
      "[ True False False]\n",
      "Test element-wise for NaT (not a time):\n",
      "[ True False]\n",
      "Test element-wise for negative infinity:\n",
      "[1 0 0]\n",
      "Test element-wise for positive infinity:\n",
      "[0 0 1]\n"
     ]
    }
   ],
   "source": [
    "# Importing the NumPy library\n",
    "import numpy as np\n",
    "\n",
    "# Testing element-wise for finiteness (not infinity or not a Not a Number)\n",
    "print(\"\\nTest element-wise for finiteness (not infinity or not Not a Number):\")\n",
    "print(np.isfinite(1))      # Check if 1 is finite\n",
    "print(np.isfinite(0))      # Check if 0 is finite\n",
    "print(np.isfinite(np.nan)) # Check if NaN is finite\n",
    "\n",
    "# Testing element-wise for positive or negative infinity\n",
    "print(\"\\nTest element-wise for positive or negative infinity:\")\n",
    "print(np.isinf(np.inf))    # Check if inf is infinite\n",
    "print(np.isinf(np.nan))    # Check if NaN is infinite\n",
    "print(np.isinf(np.NINF))   # Check if negative infinity is infinite\n",
    "\n",
    "# Testing element-wise for NaN (Not a Number)\n",
    "print(\"Test element-wise for NaN:\")\n",
    "print(np.isnan([np.log(-1.), 1., np.log(0)]))  # Check if the elements are NaN\n",
    "\n",
    "# Testing element-wise for NaT (not a time)\n",
    "print(\"Test element-wise for NaT (not a time):\")\n",
    "print(np.isnat(np.array([\"NaT\", \"2016-01-01\"], dtype=\"datetime64[ns]\")))  # Check for NaT\n",
    "\n",
    "# Testing element-wise for negative infinity\n",
    "print(\"Test element-wise for negative infinity:\")\n",
    "x = np.array([-np.inf, 0., np.inf])\n",
    "y = np.array([2, 2, 2])\n",
    "print(np.isneginf(x, y))  # Check for negative infinity\n",
    "\n",
    "# Testing element-wise for positive infinity\n",
    "print(\"Test element-wise for positive infinity:\")\n",
    "x = np.array([-np.inf, 0., np.inf])\n",
    "y = np.array([2, 2, 2])\n",
    "print(np.isposinf(x, y))  # Check for positive infinity "
   ]
  },
  {
   "cell_type": "code",
   "execution_count": 61,
   "id": "ab80e2d0-d43c-46d1-860a-b43c01f3ea55",
   "metadata": {},
   "outputs": [
    {
     "name": "stdout",
     "output_type": "stream",
     "text": [
      "[1.2 4.2 7.2]\n"
     ]
    }
   ],
   "source": [
    "x=np.arange(9).reshape(3,3)\n",
    "print(np.average(x,axis=1,weights=[1./4,2./4,2./4]))"
   ]
  },
  {
   "cell_type": "code",
   "execution_count": 64,
   "id": "19e4957c-ffc8-4df4-a20a-28623846c44d",
   "metadata": {},
   "outputs": [
    {
     "name": "stdout",
     "output_type": "stream",
     "text": [
      "[1 3 2 0 1 0 1 1]\n"
     ]
    }
   ],
   "source": [
    "x=np.array([0, 1, 6, 1, 4, 1, 2, 2, 7])\n",
    "print(np.bincount(x))"
   ]
  },
  {
   "cell_type": "code",
   "execution_count": 68,
   "id": "1de48ce2-47ba-4657-ada7-6717dc2c7ffc",
   "metadata": {},
   "outputs": [
    {
     "name": "stdout",
     "output_type": "stream",
     "text": [
      "(array([2, 3, 1], dtype=int64), array([0, 1, 2, 3]))\n"
     ]
    },
    {
     "data": {
      "image/png": "[encoded data removed]",
      "text/plain": [
       "<Figure size 640x480 with 1 Axes>"
      ]
     },
     "metadata": {},
     "output_type": "display_data"
    }
   ],
   "source": [
    "import matplotlib.pyplot as plt\n",
    "nums=np.array([0.5,0.7,1.,1.2,1.3,2.1])\n",
    "bins=np.array([0,1,2,3])\n",
    "print(np.histogram(nums,bins))\n",
    "plt.hist(nums,bins=bins)\n",
    "plt.show()"
   ]
  },
  {
   "cell_type": "code",
   "execution_count": null,
   "id": "873f336a-6b1e-45d8-8887-9f4f71a3c8b0",
   "metadata": {},
   "outputs": [],
   "source": []
  }
 ],
 "metadata": {
  "kernelspec": {
   "display_name": "Python 3 (ipykernel)",
   "language": "python",
   "name": "python3"
  },
  "language_info": {
   "codemirror_mode": {
    "name": "ipython",
    "version": 3
   },
   "file_extension": ".py",
   "mimetype": "text/x-python",
   "name": "python",
   "nbconvert_exporter": "python",
   "pygments_lexer": "ipython3",
   "version": "3.11.7"
  },
  "widgets": {
   "application/vnd.jupyter.widget-state+json": {
    "state": {},
    "version_major": 2,
    "version_minor": 0
   }
  }
 },
 "nbformat": 4,
 "nbformat_minor": 5
}
