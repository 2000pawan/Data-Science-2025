{
 "cells": [
  {
   "cell_type": "code",
   "execution_count": 14,
   "id": "8379a3e6-0134-4507-a97e-ecaad8df434b",
   "metadata": {},
   "outputs": [
    {
     "name": "stdout",
     "output_type": "stream",
     "text": [
      "[[10 40]\n",
      " [30 20]]\n",
      "[[10 20]\n",
      " [30 40]]\n",
      "[[10 40]\n",
      " [20 30]]\n",
      "[10 20 30 40]\n"
     ]
    }
   ],
   "source": [
    "import numpy as np\n",
    "a=np.array([[10,40],[30,20]])\n",
    "print(a)\n",
    "print(np.sort(a,axis=0))\n",
    "print(np.sort(a))\n",
    "print(np.sort(a,axis=None))"
   ]
  },
  {
   "cell_type": "code",
   "execution_count": 17,
   "id": "95044eea-a2b1-478f-8f0c-f44e70f86a3f",
   "metadata": {},
   "outputs": [
    {
     "name": "stdout",
     "output_type": "stream",
     "text": [
      "[('James', 5, 48.5), ('Nail', 6, 52.5), ('Paul', 5, 42.1), ('Pit', 5, 40.1)]\n",
      "[(b'Pit', 5, 40.1) (b'Paul', 5, 42.1) (b'James', 5, 48.5)\n",
      " (b'Nail', 6, 52.5)]\n"
     ]
    }
   ],
   "source": [
    "x=[('name','S15'),('class',int),('height',float)]\n",
    "student=[('James',5,48.5),('Nail',6,52.5),('Paul',5,42.1),('Pit',5,40.1)]\n",
    "y=np.array(student,dtype=x)\n",
    "print(student)\n",
    "print(np.sort(y,order='height'))"
   ]
  },
  {
   "cell_type": "code",
   "execution_count": 21,
   "id": "e8c6a96c-acd9-4cb4-bd30-2e8def973bf9",
   "metadata": {},
   "outputs": [
    {
     "name": "stdout",
     "output_type": "stream",
     "text": [
      "[('James', 5, 48.5), ('Nail', 6, 52.5), ('Paul', 5, 42.1), ('Pit', 5, 40.1)]\n",
      "[(b'Pit', 5, 40.1) (b'Paul', 5, 42.1) (b'James', 5, 48.5)\n",
      " (b'Nail', 6, 52.5)]\n"
     ]
    }
   ],
   "source": [
    "x=[('name','S15'),('class',int),('height',float)]\n",
    "student=[('James',5,48.5),('Nail',6,52.5),('Paul',5,42.1),('Pit',5,40.1)]\n",
    "y=np.array(student,dtype=x)\n",
    "print(student)\n",
    "print(np.sort(y,order=['class','height']))"
   ]
  },
  {
   "cell_type": "code",
   "execution_count": 23,
   "id": "f910b4f4-b89f-4a1b-ae16-60d253c21c84",
   "metadata": {},
   "outputs": [
    {
     "name": "stdout",
     "output_type": "stream",
     "text": [
      "[4 0 5 3 6 1 2]\n",
      "1682 38.0\n",
      "1023 40.0\n",
      "5241 40.0\n",
      "1671 41.0\n",
      "4532 42.0\n",
      "5202 42.0\n",
      "6230 45.0\n"
     ]
    }
   ],
   "source": [
    "student_id = np.array([1023, 5202, 6230, 1671, 1682, 5241, 4532])\n",
    "student_height = np.array([40., 42., 45., 41., 38., 40., 42.0])\n",
    "indices=np.lexsort((student_id,student_height))\n",
    "print(indices)\n",
    "for i in indices:\n",
    "    print(student_id[i],student_height[i])"
   ]
  },
  {
   "cell_type": "code",
   "execution_count": 24,
   "id": "9ba680ac-386c-45ee-8e6f-89726d5c640d",
   "metadata": {},
   "outputs": [
    {
     "name": "stdout",
     "output_type": "stream",
     "text": [
      "[1023 5202 6230 1671 1682 5241 4532]\n",
      "[0 3 4 6 1 5 2]\n"
     ]
    }
   ],
   "source": [
    "student_id = np.array([1023, 5202, 6230, 1671, 1682, 5241, 4532])\n",
    "print(student_id)\n",
    "i=np.argsort(student_id)\n",
    "print(i)"
   ]
  },
  {
   "cell_type": "code",
   "execution_count": 26,
   "id": "65e907ba-34b0-4bc8-bdbd-a492510bb852",
   "metadata": {},
   "outputs": [
    {
     "name": "stdout",
     "output_type": "stream",
     "text": [
      "[(1+2j), (3-1j), (3-2j), (4-3j), (3+5j)]\n",
      "[1.+2.j 3.-2.j 3.-1.j 3.+5.j 4.-3.j]\n"
     ]
    }
   ],
   "source": [
    "complex_num = [1 + 2j, 3 - 1j, 3 - 2j, 4 - 3j, 3 + 5j]\n",
    "print(complex_num)\n",
    "print(np.sort_complex(complex_num))"
   ]
  },
  {
   "cell_type": "code",
   "execution_count": 27,
   "id": "b89c98aa-bbd4-4145-afe4-f2e612d6ae4c",
   "metadata": {},
   "outputs": [
    {
     "name": "stdout",
     "output_type": "stream",
     "text": [
      "[ 70  50  20  30 -11  60  50  40]\n",
      "[-11  30  20  40  50  50  60  70]\n"
     ]
    }
   ],
   "source": [
    "nums = np.array([70, 50, 20, 30, -11, 60, 50, 40])\n",
    "print(nums)\n",
    "print(np.partition(nums,4))"
   ]
  },
  {
   "cell_type": "code",
   "execution_count": 28,
   "id": "2165958b-f952-4033-a4ba-9b0dc51bd6c7",
   "metadata": {},
   "outputs": [
    {
     "name": "stdout",
     "output_type": "stream",
     "text": [
      "[0.50812209 0.3148279  0.86468216 0.36834802 0.52372883 0.31943394\n",
      " 0.71228336 0.57598614 0.21844437 0.15762298]\n",
      "[0.15762298 0.21844437 0.3148279  0.31943394 0.36834802 0.52372883\n",
      " 0.71228336 0.57598614 0.86468216 0.50812209]\n"
     ]
    }
   ],
   "source": [
    "nums = np.random.rand(10)\n",
    "print(nums)\n",
    "print(nums[np.argpartition(nums,range(5))])"
   ]
  },
  {
   "cell_type": "code",
   "execution_count": 29,
   "id": "2c7333e0-d2da-46ff-840a-2afb4c2d9d42",
   "metadata": {},
   "outputs": [
    {
     "name": "stdout",
     "output_type": "stream",
     "text": [
      "[[7 3 7]\n",
      " [6 0 9]\n",
      " [3 8 8]]\n",
      "[[6 0 9]\n",
      " [7 3 7]\n",
      " [3 8 8]]\n"
     ]
    }
   ],
   "source": [
    "nums = np.random.randint(0, 10, (3, 3))\n",
    "print(nums)\n",
    "print(nums[nums[:, 1].argsort()]) "
   ]
  },
  {
   "cell_type": "code",
   "execution_count": null,
   "id": "4f2a6da6-ce9a-4caf-9b66-2886ce37288e",
   "metadata": {},
   "outputs": [],
   "source": []
  }
 ],
 "metadata": {
  "kernelspec": {
   "display_name": "Python 3 (ipykernel)",
   "language": "python",
   "name": "python3"
  },
  "language_info": {
   "codemirror_mode": {
    "name": "ipython",
    "version": 3
   },
   "file_extension": ".py",
   "mimetype": "text/x-python",
   "name": "python",
   "nbconvert_exporter": "python",
   "pygments_lexer": "ipython3",
   "version": "3.11.7"
  },
  "widgets": {
   "application/vnd.jupyter.widget-state+json": {
    "state": {},
    "version_major": 2,
    "version_minor": 0
   }
  }
 },
 "nbformat": 4,
 "nbformat_minor": 5
}
