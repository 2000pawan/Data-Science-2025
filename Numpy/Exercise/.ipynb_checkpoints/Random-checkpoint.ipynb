{
 "cells": [
  {
   "cell_type": "code",
   "execution_count": 4,
   "id": "dd3a1610-d1a5-4472-ae00-6653ae0add71",
   "metadata": {},
   "outputs": [
    {
     "data": {
      "text/plain": [
       "array([ 1.4028523 ,  0.82596358, -0.60610482, -1.18538772,  1.00465847])"
      ]
     },
     "execution_count": 4,
     "metadata": {},
     "output_type": "execute_result"
    }
   ],
   "source": [
    "import numpy as np\n",
    "a=np.random.normal(size=5)\n",
    "a"
   ]
  },
  {
   "cell_type": "code",
   "execution_count": 6,
   "id": "e99fc3a4-96f2-46ac-833b-ad2cf1534486",
   "metadata": {},
   "outputs": [
    {
     "data": {
      "text/plain": [
       "array([22, 12, 18, 20, 18, 19])"
      ]
     },
     "execution_count": 6,
     "metadata": {},
     "output_type": "execute_result"
    }
   ],
   "source": [
    "import numpy as np\n",
    "a=np.random.randint(10,30,6)\n",
    "a"
   ]
  },
  {
   "cell_type": "code",
   "execution_count": 8,
   "id": "58421740-9006-49bc-b915-0d035745363a",
   "metadata": {},
   "outputs": [
    {
     "data": {
      "text/plain": [
       "array([[[0.6538771 , 0.10166742, 0.27757442],\n",
       "        [0.75954702, 0.60071892, 0.42164452],\n",
       "        [0.16900006, 0.96078281, 0.93983606]],\n",
       "\n",
       "       [[0.98321266, 0.02741024, 0.07856421],\n",
       "        [0.9907323 , 0.66987309, 0.83046328],\n",
       "        [0.61076113, 0.44539943, 0.70297251]],\n",
       "\n",
       "       [[0.8961556 , 0.41694747, 0.71288738],\n",
       "        [0.62777947, 0.63269722, 0.93000548],\n",
       "        [0.47839954, 0.86296073, 0.82716188]]])"
      ]
     },
     "execution_count": 8,
     "metadata": {},
     "output_type": "execute_result"
    }
   ],
   "source": [
    "import numpy as np\n",
    "a=np.random.random((3,3,3))\n",
    "a"
   ]
  },
  {
   "cell_type": "code",
   "execution_count": 11,
   "id": "0db6758f-3f8f-4c18-8839-7a4f78f61311",
   "metadata": {},
   "outputs": [
    {
     "name": "stdout",
     "output_type": "stream",
     "text": [
      "[[0.6350622  0.96543539 0.66880504 0.18930741 0.8189192 ]\n",
      " [0.6717754  0.87213902 0.19773115 0.3188604  0.66973657]\n",
      " [0.96730712 0.11572966 0.22384084 0.64365708 0.27772004]\n",
      " [0.11202343 0.54495604 0.4749619  0.90068769 0.33264765]\n",
      " [0.53550694 0.89375622 0.83437923 0.67239406 0.3663504 ]]\n",
      "0.11202343160438277\n",
      "0.9673071170840636\n"
     ]
    }
   ],
   "source": [
    "import numpy as np\n",
    "a=np.random.random((5,5))\n",
    "print(a)\n",
    "print(np.min(a))\n",
    "print(np.max(a))"
   ]
  },
  {
   "cell_type": "code",
   "execution_count": 15,
   "id": "474b4c5e-d289-451d-80f8-58f7897508db",
   "metadata": {},
   "outputs": [
    {
     "name": "stdout",
     "output_type": "stream",
     "text": [
      "[[0.96945264 0.96071198 0.15934488 0.16656166]\n",
      " [0.15075809 0.35348188 0.74192866 0.13193628]\n",
      " [0.01344448 0.96051571 0.85240222 0.03364774]\n",
      " [0.96293106 0.79961894 0.00553913 0.86491586]\n",
      " [0.35769121 0.6692886  0.03778606 0.95755614]\n",
      " [0.56400337 0.55530892 0.58944642 0.98664066]\n",
      " [0.10717942 0.28099415 0.00579536 0.02728934]\n",
      " [0.2734313  0.59628345 0.21808335 0.32260966]\n",
      " [0.69989735 0.31577989 0.80648762 0.0143259 ]\n",
      " [0.93766308 0.41940933 0.76008864 0.46407825]]\n",
      "[[0.96945264 0.96071198 0.15934488 0.16656166]\n",
      " [0.15075809 0.35348188 0.74192866 0.13193628]\n",
      " [0.01344448 0.96051571 0.85240222 0.03364774]\n",
      " [0.96293106 0.79961894 0.00553913 0.86491586]\n",
      " [0.35769121 0.6692886  0.03778606 0.95755614]]\n"
     ]
    }
   ],
   "source": [
    "import numpy as np\n",
    "a=np.random.random((10,4))\n",
    "b=a[:5]\n",
    "print(a)\n",
    "print(b)"
   ]
  },
  {
   "cell_type": "code",
   "execution_count": 22,
   "id": "bad35d63-a214-4ab0-b87d-b6b185e4f97c",
   "metadata": {},
   "outputs": [
    {
     "name": "stdout",
     "output_type": "stream",
     "text": [
      "[3 2 4 1 7 8 6 9 0 5]\n",
      "[3 5 7 4 0 6 9 1 2 8]\n"
     ]
    }
   ],
   "source": [
    "import numpy as np\n",
    "x=np.arange(0,10)\n",
    "np.random.shuffle(x)\n",
    "print(x)\n",
    "print(np.random.permutation(10))"
   ]
  },
  {
   "cell_type": "code",
   "execution_count": 31,
   "id": "33d30146-c000-4463-a2ab-5f3f14755b11",
   "metadata": {},
   "outputs": [
    {
     "name": "stdout",
     "output_type": "stream",
     "text": [
      "[[0.65379812 0.94799862 0.38142695]\n",
      " [0.51261477 0.09204315 0.23740229]\n",
      " [0.26485167 0.66253433 0.27360635]]\n",
      "[[0.65628994 1.         0.33808278]\n",
      " [0.49134755 0.         0.16982091]\n",
      " [0.20188961 0.66649633 0.21211757]]\n"
     ]
    }
   ],
   "source": [
    "import numpy as np\n",
    "x=np.random.random((3,3))\n",
    "print(x)\n",
    "y=(x-x.min())/(x.max()-x.min())\n",
    "print(y)"
   ]
  },
  {
   "cell_type": "code",
   "execution_count": 38,
   "id": "f7ab3120-fc96-48a0-8e96-faddb03740c5",
   "metadata": {},
   "outputs": [
    {
     "name": "stdout",
     "output_type": "stream",
     "text": [
      "[0.77341317 0.80997777 0.10164584 0.6831906  0.10453822 0.65530181\n",
      " 0.05776268 0.40318263 0.41093117 0.36029569]\n"
     ]
    },
    {
     "data": {
      "text/plain": [
       "array([0.05776268, 0.10164584, 0.10453822, 0.36029569, 0.40318263,\n",
       "       0.41093117, 0.65530181, 0.6831906 , 0.77341317, 0.80997777])"
      ]
     },
     "execution_count": 38,
     "metadata": {},
     "output_type": "execute_result"
    }
   ],
   "source": [
    "import numpy as np\n",
    "x=np.random.random(10)\n",
    "print(x)\n",
    "np.sort(x)"
   ]
  },
  {
   "cell_type": "code",
   "execution_count": 39,
   "id": "0cf517e5-aa6b-4879-9a9f-b650cd8c8fa0",
   "metadata": {},
   "outputs": [
    {
     "name": "stdout",
     "output_type": "stream",
     "text": [
      "3.395654602874778\n"
     ]
    }
   ],
   "source": [
    "import numpy as np\n",
    "x=np.random.uniform(1,12,5)\n",
    "v=4\n",
    "n=x.flat[np.abs(x-v).argmin()]\n",
    "print(n)"
   ]
  },
  {
   "cell_type": "code",
   "execution_count": 44,
   "id": "dd2bf1f5-bdca-4bfc-b071-f3f82d580200",
   "metadata": {},
   "outputs": [
    {
     "name": "stdout",
     "output_type": "stream",
     "text": [
      "[1 1 0 0 1]\n",
      "[1 1 0 0 1]\n",
      "True\n"
     ]
    }
   ],
   "source": [
    "import numpy as np\n",
    "x=np.random.randint(0,2,size=5)\n",
    "y=np.random.randint(0,2,size=5)\n",
    "print(x)\n",
    "print(y)\n",
    "print(np.allclose(x,y))"
   ]
  },
  {
   "cell_type": "code",
   "execution_count": 47,
   "id": "abc78509-dd85-46d4-bf8c-f3844c5bb8a1",
   "metadata": {},
   "outputs": [
    {
     "name": "stdout",
     "output_type": "stream",
     "text": [
      "[0.44804325 0.69022952 0.23081228 0.19375552 0.39163956 0.78712277\n",
      " 0.98378694 0.8057367  0.91034123 0.31304554 0.92503004 0.35033274\n",
      " 0.81461621 0.71107262 0.24490654]\n",
      "6\n",
      "[ 0.44804325  0.69022952  0.23081228  0.19375552  0.39163956  0.78712277\n",
      " -1.          0.8057367   0.91034123  0.31304554  0.92503004  0.35033274\n",
      "  0.81461621  0.71107262  0.24490654]\n"
     ]
    }
   ],
   "source": [
    "import numpy as np\n",
    "x=np.random.random(15)\n",
    "print(x)\n",
    "print(x.argmax())\n",
    "x[x.argmax()]=-1\n",
    "print(x)"
   ]
  },
  {
   "cell_type": "code",
   "execution_count": 49,
   "id": "2effd34c-7f1c-44f1-aecb-a395ee336339",
   "metadata": {},
   "outputs": [
    {
     "name": "stdout",
     "output_type": "stream",
     "text": [
      "[[0.         0.77756932 0.70758989 0.87113215 0.18078385 0.43542328\n",
      "  0.61455332 0.30285011 0.6094351  0.64509813]\n",
      " [0.77756932 0.         0.07574847 0.12899302 0.82733623 0.4646966\n",
      "  0.63892714 0.68217807 0.38434479 0.39661401]\n",
      " [0.70758989 0.07574847 0.         0.20012208 0.75260744 0.38977734\n",
      "  0.61930265 0.63006427 0.32020365 0.38710107]\n",
      " [0.87113215 0.12899302 0.20012208 0.         0.9367846  0.58899537\n",
      "  0.63633846 0.73742604 0.51313373 0.38941428]\n",
      " [0.18078385 0.82733623 0.75260744 0.9367846  0.         0.40507895\n",
      "  0.77967428 0.47695911 0.57519329 0.774336  ]\n",
      " [0.43542328 0.4646966  0.38977734 0.58899537 0.40507895 0.\n",
      "  0.71789833 0.53893695 0.17521042 0.58450492]\n",
      " [0.61455332 0.63892714 0.61930265 0.63633846 0.77967428 0.71789833\n",
      "  0.         0.31683807 0.80430801 0.24732218]\n",
      " [0.30285011 0.68217807 0.63006427 0.73742604 0.47695911 0.53893695\n",
      "  0.31683807 0.         0.67916488 0.41179745]\n",
      " [0.6094351  0.38434479 0.32020365 0.51313373 0.57519329 0.17521042\n",
      "  0.80430801 0.67916488 0.         0.62502321]\n",
      " [0.64509813 0.39661401 0.38710107 0.38941428 0.774336   0.58450492\n",
      "  0.24732218 0.41179745 0.62502321 0.        ]]\n"
     ]
    }
   ],
   "source": [
    "import numpy as np\n",
    "a=np.random.random((10,2))\n",
    "x,y=np.atleast_2d(a[:,0],a[:,1])\n",
    "d = np.sqrt((x - x.T) ** 2 + (y - y.T) ** 2)\n",
    "print(d)"
   ]
  },
  {
   "cell_type": "code",
   "execution_count": 54,
   "id": "23be3be1-b5ae-441b-9b0a-9e35f78fcae0",
   "metadata": {},
   "outputs": [
    {
     "name": "stdout",
     "output_type": "stream",
     "text": [
      "[3 4 8 6 4 6 9 7 3 1 8 8 6 6 8 7 8 3 4 9 9 8 8 3 2 7 2 6 6 9 3 6 1 5 1 5 2\n",
      " 4 7 6]\n",
      "6\n"
     ]
    }
   ],
   "source": [
    "import numpy as np\n",
    "x=np.random.randint(1,10,40)\n",
    "print(x)\n",
    "print(np.bincount(x).argmax())"
   ]
  },
  {
   "cell_type": "code",
   "execution_count": 55,
   "id": "430b5922-cfab-4dc1-a286-fafcee4a66d9",
   "metadata": {},
   "outputs": [
    {
     "name": "stdout",
     "output_type": "stream",
     "text": [
      "[0.88928228 1.17093752 0.95433703 1.25205245 1.10843335 0.86804699\n",
      " 0.75808319 0.23565451 0.76944775 1.17709506]\n",
      "[0.19944479 0.70637103 0.39450889 0.90365802 1.11361833 0.63655347\n",
      " 0.86959251 0.58418482 0.94137198 0.5886096 ]\n"
     ]
    }
   ],
   "source": [
    "import numpy as np\n",
    "z=np.random.random((10,2))\n",
    "x,y=z[:,0],z[:,1]\n",
    "r=np.sqrt(x**2+y**2)\n",
    "t=np.arctan2(y,x)\n",
    "print(r)\n",
    "print(t)"
   ]
  },
  {
   "cell_type": "code",
   "execution_count": 63,
   "id": "447caad9-89fd-4aa5-b636-d318095a1841",
   "metadata": {},
   "outputs": [
    {
     "name": "stdout",
     "output_type": "stream",
     "text": [
      "[ 0  1  2  3  4  5  6  7  8  9 10 11 12 13 14 15 16 17 18 19 20 21 22 23\n",
      " 24 25 26 27 28 29 30 31 32 33 34 35 36 37 38 39 40 41 42 43 44 45 46 47\n",
      " 48 49 50 51 52 53 54 55 56 57 58 59 60 61 62 63 64 65 66 67 68 69 70 71\n",
      " 72 73 74 75 76 77 78 79 80 81 82 83 84 85 86 87 88 89 90 91 92 93 94 95\n",
      " 96 97 98 99]\n",
      "7.6264122481297765\n",
      "8\n"
     ]
    }
   ],
   "source": [
    "import numpy as np\n",
    "x=np.arange(0,100)\n",
    "print(x)\n",
    "y=np.random.uniform(0,100)\n",
    "print(y)\n",
    "index=(np.abs(x-y)).argmin()\n",
    "print(x[index])"
   ]
  },
  {
   "cell_type": "code",
   "execution_count": 68,
   "id": "8ad255b8-c719-422e-ac9f-72a095e9d082",
   "metadata": {},
   "outputs": [
    {
     "name": "stdout",
     "output_type": "stream",
     "text": [
      "[0 1 2 3 4 5 6 7 8 9]\n",
      "9\n",
      "[9]\n"
     ]
    }
   ],
   "source": [
    "import numpy as np\n",
    "x=np.arange(0,10)\n",
    "print(x)\n",
    "np.random.shuffle(x)\n",
    "print(x.max())\n",
    "n=1\n",
    "print(x[np.argsort(x)[-n:]])"
   ]
  },
  {
   "cell_type": "code",
   "execution_count": 69,
   "id": "4dbded39-8c2a-4244-a629-26b1d0cac8b3",
   "metadata": {},
   "outputs": [
    {
     "name": "stdout",
     "output_type": "stream",
     "text": [
      "[[[215  42 224 219  43]\n",
      "  [166  69  15 133 255]\n",
      "  [105  95  54  37 201]\n",
      "  ...\n",
      "  [240  22  66 232 132]\n",
      "  [ 13  85  53 220 170]\n",
      "  [249  62 221 146  69]]\n",
      "\n",
      " [[ 73  79 148 132 164]\n",
      "  [  3  93  98 138 200]\n",
      "  [174  34  31 208 130]\n",
      "  ...\n",
      "  [ 15 252  41  64  39]\n",
      "  [188 216 223 124  27]\n",
      "  [ 85 112 240 116 231]]\n",
      "\n",
      " [[227  50 243  20 171]\n",
      "  [ 12  66 108 102  63]\n",
      "  [107  54   0   0 173]\n",
      "  ...\n",
      "  [215  46  57  99 151]\n",
      "  [243 199  31  28 179]\n",
      "  [143   7  30 175 190]]\n",
      "\n",
      " ...\n",
      "\n",
      " [[214  64  64 212  62]\n",
      "  [140  44 217  17 164]\n",
      "  [226 146 247  53 199]\n",
      "  ...\n",
      "  [189  68  49 117  63]\n",
      "  [ 14  17 109  82  92]\n",
      "  [155 221 135 184 231]]\n",
      "\n",
      " [[132 194 160 136 102]\n",
      "  [132 244 230 117 181]\n",
      "  [146 245  21 164  29]\n",
      "  ...\n",
      "  [125 240 243 190 240]\n",
      "  [137  41 157 117 155]\n",
      "  [ 20  92  72 182  41]]\n",
      "\n",
      " [[120  45 198 218 190]\n",
      "  [ 42 150 190 103 106]\n",
      "  [164  71 220 114  59]\n",
      "  ...\n",
      "  [143  20 219 154  85]\n",
      "  [219 190 170 227 246]\n",
      "  [ 39  14 127 230 158]]]\n"
     ]
    }
   ],
   "source": [
    "import numpy as np\n",
    "np.random.seed(32)\n",
    "nums = np.random.randint(low=0, high=256, size=(300, 400, 5), dtype=np.uint8)\n",
    "print(nums)"
   ]
  },
  {
   "cell_type": "code",
   "execution_count": null,
   "id": "65fb7d65-5497-4c75-b4a5-1d068f2df573",
   "metadata": {},
   "outputs": [],
   "source": []
  }
 ],
 "metadata": {
  "kernelspec": {
   "display_name": "Python 3 (ipykernel)",
   "language": "python",
   "name": "python3"
  },
  "language_info": {
   "codemirror_mode": {
    "name": "ipython",
    "version": 3
   },
   "file_extension": ".py",
   "mimetype": "text/x-python",
   "name": "python",
   "nbconvert_exporter": "python",
   "pygments_lexer": "ipython3",
   "version": "3.11.7"
  },
  "widgets": {
   "application/vnd.jupyter.widget-state+json": {
    "state": {},
    "version_major": 2,
    "version_minor": 0
   }
  }
 },
 "nbformat": 4,
 "nbformat_minor": 5
}
