{
 "cells": [
  {
   "cell_type": "code",
   "execution_count": 2,
   "id": "47bddd8d-926d-458d-87b2-119fd9bf6d16",
   "metadata": {
    "tags": []
   },
   "outputs": [
    {
     "name": "stdout",
     "output_type": "stream",
     "text": [
      "1.24.3\n"
     ]
    }
   ],
   "source": [
    "import numpy as np\n",
    "print(np.__version__)"
   ]
  },
  {
   "cell_type": "code",
   "execution_count": 6,
   "id": "057c7fe2-a176-486c-8545-4de2174a359a",
   "metadata": {
    "tags": []
   },
   "outputs": [
    {
     "name": "stdout",
     "output_type": "stream",
     "text": [
      "[ 12.23  13.32 100.    36.32]\n"
     ]
    }
   ],
   "source": [
    "import numpy as np\n",
    "x=[12.23,13.32,100,36.32]\n",
    "y=np.array(x).reshape(4)\n",
    "print(y)"
   ]
  },
  {
   "cell_type": "code",
   "execution_count": 11,
   "id": "4ea5babd-cba7-41dd-9af0-c56c94808ef8",
   "metadata": {
    "tags": []
   },
   "outputs": [
    {
     "name": "stdout",
     "output_type": "stream",
     "text": [
      "[[ 2  3  4]\n",
      " [ 5  6  7]\n",
      " [ 8  9 10]]\n"
     ]
    }
   ],
   "source": [
    "x=np.arange(2,11).reshape(3,3)\n",
    "print(x)"
   ]
  },
  {
   "cell_type": "code",
   "execution_count": 15,
   "id": "d72562c4-9d48-4bfe-8e96-5df203c7c57f",
   "metadata": {
    "tags": []
   },
   "outputs": [
    {
     "name": "stdout",
     "output_type": "stream",
     "text": [
      "[ 0.  0.  0.  0.  0.  0. 11.  0.  0.  0.]\n"
     ]
    }
   ],
   "source": [
    "x=np.zeros(10)\n",
    "x[6]=11\n",
    "print(x)"
   ]
  },
  {
   "cell_type": "code",
   "execution_count": 16,
   "id": "41d3c884-f986-4eed-af7f-0dd5b9206c96",
   "metadata": {
    "tags": []
   },
   "outputs": [
    {
     "name": "stdout",
     "output_type": "stream",
     "text": [
      "[12 13 14 15 16 17 18 19 20 21 22 23 24 25 26 27 28 29 30 31 32 33 34 35\n",
      " 36 37]\n"
     ]
    }
   ],
   "source": [
    "x=np.arange(12,38)\n",
    "print(x)"
   ]
  },
  {
   "cell_type": "code",
   "execution_count": 21,
   "id": "bba21a3e-c75b-4fc1-baff-b9af81be9372",
   "metadata": {
    "tags": []
   },
   "outputs": [
    {
     "name": "stdout",
     "output_type": "stream",
     "text": [
      "[12 13 14 15 16 17 18 19 20 21 22 23 24 25 26 27 28 29 30 31 32 33 34 35\n",
      " 36 37]\n",
      "[37 36 35 34 33 32 31 30 29 28 27 26 25 24 23 22 21 20 19 18 17 16 15 14\n",
      " 13 12]\n"
     ]
    }
   ],
   "source": [
    "x=np.arange(12,38)\n",
    "print(x)\n",
    "y=x[::-1]\n",
    "print(y)"
   ]
  },
  {
   "cell_type": "code",
   "execution_count": 28,
   "id": "ead8375a-3607-44c9-a0cf-26206469a8e8",
   "metadata": {
    "tags": []
   },
   "outputs": [
    {
     "name": "stdout",
     "output_type": "stream",
     "text": [
      "[1 2 3 4]\n",
      "[1. 2. 3. 4.]\n",
      "[1. 2. 3. 4.]\n"
     ]
    }
   ],
   "source": [
    "x=np.arange(1,5)\n",
    "print(x)\n",
    "y=np.asfarray(x)\n",
    "print(y)\n",
    "x=x.astype(dtype='float')\n",
    "print(x)"
   ]
  },
  {
   "cell_type": "code",
   "execution_count": 38,
   "id": "194ed981-a383-48f2-b46d-4e9ca45fe595",
   "metadata": {
    "tags": []
   },
   "outputs": [
    {
     "name": "stdout",
     "output_type": "stream",
     "text": [
      "[[1. 1. 1. 1. 1.]\n",
      " [1. 0. 0. 0. 1.]\n",
      " [1. 0. 0. 0. 1.]\n",
      " [1. 0. 0. 0. 1.]\n",
      " [1. 1. 1. 1. 1.]]\n"
     ]
    }
   ],
   "source": [
    "x=np.ones((5,5))\n",
    "x[1:-1,1:-1]=0\n",
    "print(x)"
   ]
  },
  {
   "cell_type": "code",
   "execution_count": 45,
   "id": "9aa0c566-fa71-42f2-a239-9aa36dc3acf9",
   "metadata": {
    "tags": []
   },
   "outputs": [
    {
     "name": "stdout",
     "output_type": "stream",
     "text": [
      "[[0. 0. 0. 0. 0. 0.]\n",
      " [0. 1. 1. 1. 1. 0.]\n",
      " [0. 1. 1. 1. 1. 0.]\n",
      " [0. 1. 1. 1. 1. 0.]\n",
      " [0. 1. 1. 1. 1. 0.]\n",
      " [0. 0. 0. 0. 0. 0.]]\n"
     ]
    }
   ],
   "source": [
    "x=np.ones((4,4))\n",
    "x=np.pad(x,pad_width=1,mode='constant',constant_values=0)\n",
    "print(x)"
   ]
  },
  {
   "cell_type": "code",
   "execution_count": 50,
   "id": "ab8233e4-23eb-449c-871c-91de72a07834",
   "metadata": {
    "tags": []
   },
   "outputs": [
    {
     "name": "stdout",
     "output_type": "stream",
     "text": [
      "[[0 1 0 1 0 1 0 1]\n",
      " [1 0 1 0 1 0 1 0]\n",
      " [0 1 0 1 0 1 0 1]\n",
      " [1 0 1 0 1 0 1 0]\n",
      " [0 1 0 1 0 1 0 1]\n",
      " [1 0 1 0 1 0 1 0]\n",
      " [0 1 0 1 0 1 0 1]\n",
      " [1 0 1 0 1 0 1 0]]\n"
     ]
    }
   ],
   "source": [
    "x=np.zeros((8,8),dtype='int')\n",
    "x[1::2,::2]=1\n",
    "x[::2,1::2]=1\n",
    "print(x)"
   ]
  },
  {
   "cell_type": "code",
   "execution_count": 66,
   "id": "d63479a5-80ea-4d28-ab8f-14b9bc321bd6",
   "metadata": {
    "tags": []
   },
   "outputs": [
    {
     "name": "stdout",
     "output_type": "stream",
     "text": [
      "[1 2 3 4 5 6 7 8]\n",
      "[1 2 3 4 5 6 7 8]\n",
      "[[8 4 6]\n",
      " [1 2 3]]\n"
     ]
    }
   ],
   "source": [
    "x=[1,2,3,4,5,6,7,8]\n",
    "y=np.array(x)\n",
    "print(y)\n",
    "z=np.asarray(x)\n",
    "print(z)\n",
    "a=([8,4,6],[1,2,3])\n",
    "b=np.asarray(a)\n",
    "print(b)"
   ]
  },
  {
   "cell_type": "code",
   "execution_count": 78,
   "id": "ba4bd802-e7e8-45e0-9661-5e7dfd60f091",
   "metadata": {
    "tags": []
   },
   "outputs": [
    {
     "name": "stdout",
     "output_type": "stream",
     "text": [
      "[10 20 30 40 50 60 70 80 90]\n",
      "[10 20 30 40 50 60 70 80 90]\n"
     ]
    }
   ],
   "source": [
    "x=np.array((10,20,30))\n",
    "y=[40,50,60,70,80,90]\n",
    "z=np.concatenate((x,y))\n",
    "print(z)\n",
    "p=np.append(x,y)\n",
    "print(p)"
   ]
  },
  {
   "cell_type": "code",
   "execution_count": 82,
   "id": "d78dd431-9e45-431b-9633-10ef8930f1df",
   "metadata": {
    "tags": []
   },
   "outputs": [
    {
     "name": "stdout",
     "output_type": "stream",
     "text": [
      "[[1.18527833e-311 3.16202013e-322 0.00000000e+000 0.00000000e+000]\n",
      " [1.16709769e-312 7.32122792e+169 1.20963442e+161 2.74199476e-057]\n",
      " [4.31092927e-033 4.31319212e-033 1.61997998e-051 2.61888312e+180]]\n",
      "[[6 6 6]\n",
      " [6 6 6]\n",
      " [6 6 6]]\n"
     ]
    }
   ],
   "source": [
    "x=np.empty((3,4))\n",
    "y=np.full((3,3),6)\n",
    "print(x)\n",
    "print(y)"
   ]
  },
  {
   "cell_type": "code",
   "execution_count": 89,
   "id": "a13bce35-a81a-4739-a3f7-eb11cfd64224",
   "metadata": {
    "tags": []
   },
   "outputs": [
    {
     "name": "stdout",
     "output_type": "stream",
     "text": [
      "[-17.78 -11.11   7.34   1.11  37.73   0.  ]\n",
      "[-0.   12.   45.21 34.   99.91 32.  ]\n"
     ]
    }
   ],
   "source": [
    "x=[0, 12, 45.21, 34, 99.91, 32]\n",
    "y=np.array(x)\n",
    "z=np.round((5*y/9-5*32/9),2)\n",
    "print(z)\n",
    "f=np.round((9*z/5+32),2)\n",
    "print(f)"
   ]
  },
  {
   "cell_type": "code",
   "execution_count": 92,
   "id": "1bd2f852-a34c-4d52-918f-2794c4ae47da",
   "metadata": {
    "tags": []
   },
   "outputs": [
    {
     "name": "stdout",
     "output_type": "stream",
     "text": [
      "[1.+0.j]\n",
      "[0.70710678+0.70710678j]\n",
      "Real part of the array:\n",
      "[1.]\n",
      "[0.70710678]\n",
      "Imaginary part of the array:\n",
      "[0.]\n",
      "[0.70710678]\n"
     ]
    }
   ],
   "source": [
    "x=np.sqrt([1+0j])\n",
    "y=np.sqrt([0+1j])\n",
    "print(x)\n",
    "print(y)\n",
    "print(\"Real part of the array:\")\n",
    "print(x.real)\n",
    "print(y.real)\n",
    "print(\"Imaginary part of the array:\")\n",
    "print(x.imag)\n",
    "print(y.imag)"
   ]
  },
  {
   "cell_type": "code",
   "execution_count": 96,
   "id": "a1d4d857-456a-4194-9430-40b1259101a2",
   "metadata": {
    "tags": []
   },
   "outputs": [
    {
     "name": "stdout",
     "output_type": "stream",
     "text": [
      "[1. 2. 3.]\n",
      "3\n",
      "8\n",
      "24\n"
     ]
    }
   ],
   "source": [
    "x=np.array([1,2,3],dtype=np.float64)\n",
    "print(x)\n",
    "print(x.size)\n",
    "print(x.itemsize)\n",
    "print(x.nbytes)"
   ]
  },
  {
   "cell_type": "code",
   "execution_count": 103,
   "id": "7c766119-6dc5-478d-a2ce-4d81d3441c12",
   "metadata": {
    "tags": []
   },
   "outputs": [
    {
     "name": "stdout",
     "output_type": "stream",
     "text": [
      "[ True False False  True False]\n"
     ]
    }
   ],
   "source": [
    "x=np.array([0,10,20,40,60])\n",
    "y=np.array([0,40])\n",
    "print(np.in1d(x,y))"
   ]
  },
  {
   "cell_type": "code",
   "execution_count": 104,
   "id": "f8131a45-f0ae-4d0c-99d7-bbc6d59ed7da",
   "metadata": {
    "tags": []
   },
   "outputs": [
    {
     "name": "stdout",
     "output_type": "stream",
     "text": [
      "[10 40]\n"
     ]
    }
   ],
   "source": [
    "x=np.array([0,10,20,40,60])\n",
    "y=np.array([10,30,40])\n",
    "print(np.intersect1d(x,y))"
   ]
  },
  {
   "cell_type": "code",
   "execution_count": 110,
   "id": "bac3f0c7-6499-4ea4-9486-17118bcfaea7",
   "metadata": {
    "tags": []
   },
   "outputs": [
    {
     "name": "stdout",
     "output_type": "stream",
     "text": [
      "[10 20 30]\n",
      "[1 2 3]\n"
     ]
    }
   ],
   "source": [
    "x=np.array([10, 10, 20, 20, 30, 30])\n",
    "print(np.unique(x))\n",
    "x=np.array([[1, 1],\n",
    "[2, 3]])\n",
    "print(np.unique(x))"
   ]
  },
  {
   "cell_type": "code",
   "execution_count": 113,
   "id": "9c02233c-3408-46cc-bf36-479e7a1638c4",
   "metadata": {
    "tags": []
   },
   "outputs": [
    {
     "name": "stdout",
     "output_type": "stream",
     "text": [
      "[ 0 20 60 80]\n"
     ]
    }
   ],
   "source": [
    "x=np.array([0,10,20,40,60,80])\n",
    "y=np.array([10,30,40,50,70,90])\n",
    "print(np.setdiff1d(x,y))"
   ]
  },
  {
   "cell_type": "code",
   "execution_count": 116,
   "id": "f9d04d3c-d7ec-444f-bebc-1eff6994c28e",
   "metadata": {
    "tags": []
   },
   "outputs": [
    {
     "name": "stdout",
     "output_type": "stream",
     "text": [
      "[ 0 20 30 50 60 70 80 90]\n"
     ]
    }
   ],
   "source": [
    "x=np.array([0,10,20,40,60,80])\n",
    "y=np.array([10,30,40,50,70,90])\n",
    "print(np.setxor1d(x,y))"
   ]
  },
  {
   "cell_type": "code",
   "execution_count": 117,
   "id": "40eb0cb4-32fe-42fa-8928-ae6f1b519829",
   "metadata": {
    "tags": []
   },
   "outputs": [
    {
     "name": "stdout",
     "output_type": "stream",
     "text": [
      "[ 0 10 20 30 40 50 60 70 80]\n"
     ]
    }
   ],
   "source": [
    "x=np.array([0,10,20,40,60,80])\n",
    "y=np.array([10,30,40,50,70])\n",
    "print(np.union1d(x,y))"
   ]
  },
  {
   "cell_type": "code",
   "execution_count": 118,
   "id": "4b856160-1880-45e8-9370-050abda10d54",
   "metadata": {
    "tags": []
   },
   "outputs": [
    {
     "name": "stdout",
     "output_type": "stream",
     "text": [
      "False\n",
      "True\n",
      "False\n",
      "True\n"
     ]
    }
   ],
   "source": [
    "print(np.all([[True,False],[True,True]]))  \n",
    "print(np.all([[True,True],[True,True]]))  \n",
    "print(np.all([10, 20, 0, -50]))   \n",
    "print(np.all([10, 20, -50])) "
   ]
  },
  {
   "cell_type": "code",
   "execution_count": 121,
   "id": "5b3bedd7-91dc-4a66-9987-19913fe5e9b6",
   "metadata": {
    "tags": []
   },
   "outputs": [
    {
     "name": "stdout",
     "output_type": "stream",
     "text": [
      "[1 1 2 2 3 3 4 4]\n",
      "[1 2 3 4 1 2 3 4]\n",
      "[1 2 3 4 1 2 3 4 1 2 3 4]\n"
     ]
    }
   ],
   "source": [
    "x=np.array([1,2,3,4])\n",
    "print(np.tile(x,2))\n",
    "print(np.tile(x,3))"
   ]
  },
  {
   "cell_type": "code",
   "execution_count": 125,
   "id": "c3b6989e-6474-4b4a-9b2d-a3953d8ce18f",
   "metadata": {
    "tags": []
   },
   "outputs": [
    {
     "name": "stdout",
     "output_type": "stream",
     "text": [
      "[3 3 3 3]\n",
      "[1 1 2 2 3 3 4 4]\n"
     ]
    }
   ],
   "source": [
    "x=np.array([3])\n",
    "print(np.repeat(x,4))\n",
    "x=np.array([1,2,3,4])\n",
    "print(np.repeat(x,2))"
   ]
  },
  {
   "cell_type": "code",
   "execution_count": 133,
   "id": "62182c33-7bfb-47bf-88a7-b3e8e862c138",
   "metadata": {
    "tags": []
   },
   "outputs": [
    {
     "name": "stdout",
     "output_type": "stream",
     "text": [
      "5\n",
      "0\n"
     ]
    }
   ],
   "source": [
    "x=np.array([1,2,3,4,5,6])\n",
    "print(np.argmax(x))\n",
    "print(np.argmin(x))"
   ]
  },
  {
   "cell_type": "code",
   "execution_count": 139,
   "id": "9c1ab334-2c63-41e6-884e-e0db7aa349a9",
   "metadata": {
    "tags": []
   },
   "outputs": [
    {
     "name": "stdout",
     "output_type": "stream",
     "text": [
      "[False False]\n",
      "[False False]\n",
      "[ True  True]\n",
      "[ True  True]\n"
     ]
    }
   ],
   "source": [
    "x=np.array([1,2])\n",
    "y=np.array([4,5])\n",
    "print(np.greater(x,y))\n",
    "print(np.greater_equal(x,y))\n",
    "print(np.less(x,y))\n",
    "print(np.less_equal(x,y))"
   ]
  },
  {
   "cell_type": "code",
   "execution_count": 6,
   "id": "2e25b2bc-4732-47e3-9db7-fb924642b48a",
   "metadata": {
    "tags": []
   },
   "outputs": [
    {
     "name": "stdout",
     "output_type": "stream",
     "text": [
      "[[2 1]\n",
      " [4 6]]\n",
      "[[1 2]\n",
      " [4 6]]\n"
     ]
    }
   ],
   "source": [
    "import numpy as np\n",
    "x=np.array([[4,6],[2,1]])\n",
    "y=np.sort(x,axis=0)\n",
    "print(y)\n",
    "z=np.sort(y,axis=1)\n",
    "print(z)"
   ]
  },
  {
   "cell_type": "code",
   "execution_count": 8,
   "id": "835e3c07-55da-403d-929c-0393c4760327",
   "metadata": {
    "tags": []
   },
   "outputs": [
    {
     "name": "stdout",
     "output_type": "stream",
     "text": [
      "[1 3 2 4 0]\n"
     ]
    }
   ],
   "source": [
    "s = ('Margery', 'Betsey', 'Shelley', 'Lanell', 'Genesis')\n",
    "l = ('Woolum', 'Battle', 'Plotner', 'Brien', 'Stahl')\n",
    "x=np.lexsort((s,l))\n",
    "print(x)"
   ]
  },
  {
   "cell_type": "code",
   "execution_count": 9,
   "id": "a86bf4c7-d72b-48a4-a67f-f7abdf6cead2",
   "metadata": {
    "tags": []
   },
   "outputs": [
    {
     "name": "stdout",
     "output_type": "stream",
     "text": [
      "[20 20 30 40]\n",
      "(array([0, 1, 1, 1], dtype=int64), array([2, 0, 1, 2], dtype=int64))\n"
     ]
    }
   ],
   "source": [
    "x=np.array([[ 0, 10, 20],\n",
    "[20, 30, 40]])\n",
    "print(x[x>10])\n",
    "print(np.nonzero(x>10))"
   ]
  },
  {
   "cell_type": "code",
   "execution_count": 13,
   "id": "c1a483ce-a950-435f-8635-96924495f4e9",
   "metadata": {
    "tags": []
   },
   "outputs": [],
   "source": [
    "x=np.array([[ 0, 10, 20],\n",
    "[20, 30, 40]])\n",
    "y=np.savetxt('G:/Coding/nuppy.out',x,delimiter=',')"
   ]
  },
  {
   "cell_type": "code",
   "execution_count": 18,
   "id": "2d521bb4-5228-4b6c-9d1a-9f7ce5bb0c23",
   "metadata": {
    "tags": []
   },
   "outputs": [
    {
     "name": "stdout",
     "output_type": "stream",
     "text": [
      "24\n",
      "128\n"
     ]
    }
   ],
   "source": [
    "n=np.array([[ 0, 10, 20],\n",
    "[20, 30, 40]])\n",
    "print(n.size*n.itemsize)\n",
    "n=np.zeros((4,4))\n",
    "print(n.size*n.itemsize)"
   ]
  },
  {
   "cell_type": "code",
   "execution_count": 27,
   "id": "8578d5a5-20dc-42c1-9618-76a261dce6a8",
   "metadata": {
    "tags": []
   },
   "outputs": [
    {
     "name": "stdout",
     "output_type": "stream",
     "text": [
      "[[0. 0.]]\n",
      "[[0 0]]\n",
      "[[1. 1.]]\n",
      "[[1 1]]\n"
     ]
    }
   ],
   "source": [
    "x=np.zeros((1,2))\n",
    "print(x)\n",
    "y=np.array(x,dtype='int')\n",
    "print(y)\n",
    "x=np.ones((1,2))\n",
    "print(x)\n",
    "y=np.array(x,dtype='int')\n",
    "print(y)"
   ]
  },
  {
   "cell_type": "code",
   "execution_count": 37,
   "id": "2d0d1183-9e84-4112-b56e-1730e9206203",
   "metadata": {
    "tags": []
   },
   "outputs": [
    {
     "name": "stdout",
     "output_type": "stream",
     "text": [
      "[1 2 3 4 5 6 7 8 9]\n",
      "(9,)\n",
      "[[1 2 3]\n",
      " [4 5 6]\n",
      " [7 8 9]]\n",
      "(3, 3)\n"
     ]
    }
   ],
   "source": [
    "x=np.array([1,2,3,4,5,6,7,8,9])\n",
    "print(x)\n",
    "print(x.shape)\n",
    "x.shape=(3,3)\n",
    "print(x)\n",
    "print(x.shape)"
   ]
  },
  {
   "cell_type": "code",
   "execution_count": 3,
   "id": "a08a2db6-fb13-4a16-b8c7-4e80c08c09e4",
   "metadata": {},
   "outputs": [
    {
     "name": "stdout",
     "output_type": "stream",
     "text": [
      "[10 20 30 20 40 50]\n"
     ]
    }
   ],
   "source": [
    "import numpy as np\n",
    "x=np.array([[10, 20, 30],\n",
    "[20, 40, 50]])\n",
    "print(np.ravel(x))"
   ]
  },
  {
   "cell_type": "code",
   "execution_count": 9,
   "id": "d23b68d2-9edd-4dfc-bb0a-d86f982d64e7",
   "metadata": {
    "tags": []
   },
   "outputs": [
    {
     "name": "stdout",
     "output_type": "stream",
     "text": [
      "[[1 2 3]\n",
      " [4 5 6]]\n",
      "<class 'numpy.ndarray'>\n",
      "(2, 3)\n",
      "int32\n"
     ]
    }
   ],
   "source": [
    "x=np.arange(1,7,dtype='int32').reshape(2,3)\n",
    "print(x)\n",
    "print(type(x))\n",
    "print(x.shape)\n",
    "print(x.dtype)"
   ]
  },
  {
   "cell_type": "code",
   "execution_count": 15,
   "id": "19bd0453-b582-4c43-92a2-d9076097140e",
   "metadata": {
    "tags": []
   },
   "outputs": [
    {
     "name": "stdout",
     "output_type": "stream",
     "text": [
      "[[1 2]\n",
      " [3 4]\n",
      " [5 6]]\n",
      "(3, 2)\n",
      "[[1 2 3]\n",
      " [4 5 6]]\n",
      "(2, 3)\n"
     ]
    }
   ],
   "source": [
    "x=np.array([[1, 2],\n",
    "[3, 4],\n",
    "[5, 6]])\n",
    "print(x)\n",
    "print(x.shape)\n",
    "x=x.reshape(2,3)\n",
    "print(x)\n",
    "print(x.shape)"
   ]
  },
  {
   "cell_type": "code",
   "execution_count": 20,
   "id": "d51d9f46-9749-4936-be45-daec0111a7db",
   "metadata": {
    "tags": []
   },
   "outputs": [
    {
     "name": "stdout",
     "output_type": "stream",
     "text": [
      "[[ 2  4  6]\n",
      " [ 6  8 10]]\n",
      "int32\n",
      "[[ 2.  4.  6.]\n",
      " [ 6.  8. 10.]]\n",
      "float64\n",
      "[[ 2.  4.  6.]\n",
      " [ 6.  8. 10.]]\n",
      "float64\n"
     ]
    }
   ],
   "source": [
    "x=np.array([[ 2, 4, 6],\n",
    "[ 6, 8, 10]],dtype='int32')\n",
    "print(x)\n",
    "print(x.dtype)\n",
    "y = x.astype(float)\n",
    "print(y)\n",
    "print(y.dtype)\n",
    "x=np.float64(x)\n",
    "print(x)\n",
    "print(x.dtype)"
   ]
  },
  {
   "cell_type": "code",
   "execution_count": 23,
   "id": "af7b75c7-3ff7-462f-82fd-4a417d85feb9",
   "metadata": {
    "tags": []
   },
   "outputs": [
    {
     "name": "stdout",
     "output_type": "stream",
     "text": [
      "[[2 2 2 2 2]\n",
      " [2 2 2 2 2]\n",
      " [2 2 2 2 2]]\n",
      "[[2 2 2 2 2]\n",
      " [2 2 2 2 2]\n",
      " [2 2 2 2 2]]\n"
     ]
    }
   ],
   "source": [
    "x=np.full((3,5),2)\n",
    "print(x)\n",
    "y = np.ones([3, 5], dtype=np.uint) * 2\n",
    "print(y) "
   ]
  },
  {
   "cell_type": "code",
   "execution_count": 24,
   "id": "60c9b5f6-77e8-42da-846f-2df75888e7dd",
   "metadata": {
    "tags": []
   },
   "outputs": [
    {
     "name": "stdout",
     "output_type": "stream",
     "text": [
      "[0 1 2 3]\n",
      "[10 10 10 10]\n"
     ]
    }
   ],
   "source": [
    "x=np.arange(4,dtype=np.int64)\n",
    "y=np.full_like(x,10)\n",
    "print(x)\n",
    "print(y)"
   ]
  },
  {
   "cell_type": "code",
   "execution_count": 35,
   "id": "574eedd8-4956-436a-9ce9-22acb050e3a0",
   "metadata": {
    "tags": []
   },
   "outputs": [
    {
     "name": "stdout",
     "output_type": "stream",
     "text": [
      "[[1. 0. 0.]\n",
      " [0. 1. 0.]\n",
      " [0. 0. 1.]]\n",
      "[[1. 0. 0.]\n",
      " [0. 1. 0.]\n",
      " [0. 0. 1.]]\n"
     ]
    }
   ],
   "source": [
    "x=np.zeros((3,3))\n",
    "np.fill_diagonal(x,1)\n",
    "print(x)\n",
    "y=np.eye(3)\n",
    "print(y)"
   ]
  },
  {
   "cell_type": "code",
   "execution_count": 38,
   "id": "c0a4a146-2bf4-4db2-b6fe-871b26773c57",
   "metadata": {
    "tags": []
   },
   "outputs": [
    {
     "name": "stdout",
     "output_type": "stream",
     "text": [
      "[[4. 0. 0. 0.]\n",
      " [0. 5. 0. 0.]\n",
      " [0. 0. 6. 0.]\n",
      " [0. 0. 0. 8.]]\n",
      "[[4 0 0 0]\n",
      " [0 5 0 0]\n",
      " [0 0 6 0]\n",
      " [0 0 0 8]]\n"
     ]
    }
   ],
   "source": [
    "x=np.zeros((4,4))\n",
    "np.fill_diagonal(x,[4,5,6,8])\n",
    "print(x)\n",
    "y=np.diagflat([4,5,6,8])\n",
    "print(y)"
   ]
  },
  {
   "cell_type": "code",
   "execution_count": 41,
   "id": "a9f254e3-5503-46c9-80c0-9168787412f4",
   "metadata": {
    "tags": []
   },
   "outputs": [
    {
     "name": "stdout",
     "output_type": "stream",
     "text": [
      "[ 0  1  2  3  4  5  6  7  8  9 10 11 12 13 14 15 16 17 18 19 20 21 22 23\n",
      " 24 25 26 27 28 29 30 31 32 33 34 35 36 37 38 39 40 41 42 43 44 45 46 47\n",
      " 48 49]\n",
      "[10 11 12 13 14 15 16 17 18 19 20 21 22 23 24 25 26 27 28 29 30 31 32 33\n",
      " 34 35 36 37 38 39 40 41 42 43 44 45 46 47 48 49]\n"
     ]
    }
   ],
   "source": [
    "x=np.arange(50)\n",
    "print(x)\n",
    "x=np.arange(10,50)\n",
    "print(x)"
   ]
  },
  {
   "cell_type": "code",
   "execution_count": 44,
   "id": "4e71d57d-1774-4b66-868b-14778d7a5452",
   "metadata": {
    "tags": []
   },
   "outputs": [
    {
     "name": "stdout",
     "output_type": "stream",
     "text": [
      "[2.5        2.63793103 2.77586207 2.9137931  3.05172414 3.18965517\n",
      " 3.32758621 3.46551724 3.60344828 3.74137931 3.87931034 4.01724138\n",
      " 4.15517241 4.29310345 4.43103448 4.56896552 4.70689655 4.84482759\n",
      " 4.98275862 5.12068966 5.25862069 5.39655172 5.53448276 5.67241379\n",
      " 5.81034483 5.94827586 6.0862069  6.22413793 6.36206897 6.5       ]\n"
     ]
    }
   ],
   "source": [
    "x=np.linspace(2.5,6.5,30)\n",
    "print(x)"
   ]
  },
  {
   "cell_type": "code",
   "execution_count": 46,
   "id": "81ace574-67b7-4cd6-83cc-12740bd60ed5",
   "metadata": {
    "tags": []
   },
   "outputs": [
    {
     "name": "stdout",
     "output_type": "stream",
     "text": [
      "[  100.           141.25375446   199.5262315    281.83829313\n",
      "   398.10717055   562.34132519   794.32823472  1122.0184543\n",
      "  1584.89319246  2238.72113857  3162.27766017  4466.83592151\n",
      "  6309.5734448   8912.50938134 12589.25411794 17782.79410039\n",
      " 25118.8643151  35481.33892336 50118.72336273 70794.57843841]\n"
     ]
    }
   ],
   "source": [
    "x=np.logspace(2.,5.,20,endpoint=False)\n",
    "print(x)"
   ]
  },
  {
   "cell_type": "code",
   "execution_count": 47,
   "id": "2a3b85d5-ad4c-4e91-8c12-a529f3ca02c5",
   "metadata": {
    "tags": []
   },
   "outputs": [
    {
     "name": "stdout",
     "output_type": "stream",
     "text": [
      "[[0. 0. 0.]\n",
      " [1. 0. 0.]\n",
      " [1. 1. 0.]\n",
      " [1. 1. 1.]]\n"
     ]
    }
   ],
   "source": [
    "x=np.tri(4,3,-1)\n",
    "print(x)"
   ]
  },
  {
   "cell_type": "code",
   "execution_count": 48,
   "id": "472ef21f-efdc-4341-9df1-6cd01163130e",
   "metadata": {
    "tags": []
   },
   "outputs": [
    {
     "name": "stdout",
     "output_type": "stream",
     "text": [
      "[[ 2  3  4]\n",
      " [ 5  6  7]\n",
      " [ 0  9 10]\n",
      " [ 0  0 13]]\n"
     ]
    }
   ],
   "source": [
    "x=np.triu(np.arange(2,14).reshape(4,3),-1)\n",
    "print(x)"
   ]
  },
  {
   "cell_type": "code",
   "execution_count": 57,
   "id": "891e5571-1316-49a7-a3aa-fad398a92ec3",
   "metadata": {
    "tags": []
   },
   "outputs": [
    {
     "name": "stdout",
     "output_type": "stream",
     "text": [
      "[[1. 0. 0.]\n",
      " [0. 1. 0.]\n",
      " [0. 0. 1.]]\n",
      "[1. 0. 0. 0. 1. 0. 0. 0. 1.]\n"
     ]
    }
   ],
   "source": [
    "y=np.eye(3)\n",
    "print(y)\n",
    "x=np.ravel(y,order='F')\n",
    "print(x)"
   ]
  },
  {
   "cell_type": "code",
   "execution_count": 59,
   "id": "13b67b61-1e5a-4edc-9aa9-56c1ee64cd37",
   "metadata": {
    "tags": []
   },
   "outputs": [
    {
     "data": {
      "text/plain": [
       "6"
      ]
     },
     "execution_count": 59,
     "metadata": {},
     "output_type": "execute_result"
    }
   ],
   "source": [
    "x=np.array([[ 2, 4, 6],\n",
    "[ 6, 8, 10]])\n",
    "x.flat[3]"
   ]
  },
  {
   "cell_type": "code",
   "execution_count": 64,
   "id": "6c2864f7-7ea6-493f-b33e-502024af243d",
   "metadata": {
    "tags": []
   },
   "outputs": [
    {
     "data": {
      "text/plain": [
       "array([[1],\n",
       "       [2],\n",
       "       [3]])"
      ]
     },
     "execution_count": 64,
     "metadata": {},
     "output_type": "execute_result"
    }
   ],
   "source": [
    "x=np.array([[1,2,3]])\n",
    "np.swapaxes(x,0,1)"
   ]
  },
  {
   "cell_type": "code",
   "execution_count": 65,
   "id": "a325e39d-a1b8-44ec-97c2-99ad251fe8d1",
   "metadata": {
    "tags": []
   },
   "outputs": [
    {
     "name": "stdout",
     "output_type": "stream",
     "text": [
      "(3, 4, 2)\n",
      "(4, 2, 3)\n"
     ]
    }
   ],
   "source": [
    "x = np.zeros((2, 3, 4))\n",
    "print(np.moveaxis(x, 0, -1).shape)\n",
    "print(np.moveaxis(x, -1, 0).shape)"
   ]
  },
  {
   "cell_type": "code",
   "execution_count": 67,
   "id": "bec999f9-db4b-468e-a9c6-d42053e2aa0a",
   "metadata": {
    "tags": []
   },
   "outputs": [
    {
     "data": {
      "text/plain": [
       "(2, 5, 3, 4)"
      ]
     },
     "execution_count": 67,
     "metadata": {},
     "output_type": "execute_result"
    }
   ],
   "source": [
    "x = np.ones((2, 3, 4, 5))\n",
    "np.rollaxis(x,3,1).shape"
   ]
  },
  {
   "cell_type": "code",
   "execution_count": 68,
   "id": "f9fd0dfe-ae38-4f75-8273-d2ef7fdde59a",
   "metadata": {
    "tags": []
   },
   "outputs": [
    {
     "name": "stdout",
     "output_type": "stream",
     "text": [
      "[12.]\n",
      "[[0. 1. 2.]\n",
      " [3. 4. 5.]]\n",
      "[array([1]), array([3, 4])]\n"
     ]
    }
   ],
   "source": [
    "x=12.0\n",
    "print(np.atleast_1d(x))\n",
    "x=np.arange(6.0).reshape(2,3)\n",
    "print(np.atleast_1d(x))\n",
    "print(np.atleast_1d(1,[3,4]))"
   ]
  },
  {
   "cell_type": "code",
   "execution_count": 71,
   "id": "b10acb16-cd4f-4c3f-877f-2646c3cf1428",
   "metadata": {
    "tags": []
   },
   "outputs": [
    {
     "name": "stdout",
     "output_type": "stream",
     "text": [
      "[[12.]]\n",
      "[[0. 1. 2.]\n",
      " [3. 4. 5.]]\n",
      "[array([[1]]), array([[3, 4]])]\n",
      "[[[12.]]]\n",
      "[[[0.]\n",
      "  [1.]\n",
      "  [2.]]\n",
      "\n",
      " [[3.]\n",
      "  [4.]\n",
      "  [5.]]]\n",
      "[array([[[1]]]), array([[[3],\n",
      "        [4]]])]\n"
     ]
    }
   ],
   "source": [
    "x=12.0\n",
    "print(np.atleast_2d(x))\n",
    "x=np.arange(6.0).reshape(2,3)\n",
    "print(np.atleast_2d(x))\n",
    "print(np.atleast_2d(1,[3,4]))\n",
    "x=12.0\n",
    "print(np.atleast_3d(x))\n",
    "x=np.arange(6.0).reshape(2,3)\n",
    "print(np.atleast_3d(x))\n",
    "print(np.atleast_3d(1,[3,4]))"
   ]
  },
  {
   "cell_type": "code",
   "execution_count": 74,
   "id": "330a25cb-d825-45bb-9a85-c35a4c45e1c9",
   "metadata": {
    "tags": []
   },
   "outputs": [
    {
     "name": "stdout",
     "output_type": "stream",
     "text": [
      "(3, 1, 4)\n"
     ]
    }
   ],
   "source": [
    "x=np.zeros((3,4))\n",
    "y=np.expand_dims(x,axis=1).shape\n",
    "print(y)"
   ]
  },
  {
   "cell_type": "code",
   "execution_count": 75,
   "id": "3cc05690-fb38-42cf-ab8f-0772e401c363",
   "metadata": {
    "tags": []
   },
   "outputs": [
    {
     "name": "stdout",
     "output_type": "stream",
     "text": [
      "(3, 4)\n"
     ]
    }
   ],
   "source": [
    "x=np.zeros((3,4))\n",
    "y=np.squeeze(x).shape\n",
    "print(y)"
   ]
  },
  {
   "cell_type": "code",
   "execution_count": 79,
   "id": "1497f517-abd6-46bd-8cba-da295fc26f70",
   "metadata": {
    "tags": []
   },
   "outputs": [
    {
     "name": "stdout",
     "output_type": "stream",
     "text": [
      "[[ 0  1  3  0  2  4]\n",
      " [ 5  7  9  6  8 10]]\n"
     ]
    }
   ],
   "source": [
    "x=np.array([[0, 1, 3], [5, 7, 9]])\n",
    "y=np.array([[0, 2, 4], [6, 8, 10]])\n",
    "print(np.concatenate((x,y),1))"
   ]
  },
  {
   "cell_type": "code",
   "execution_count": 81,
   "id": "d3416fbb-460f-4cf6-9199-d9e363fdfeea",
   "metadata": {
    "tags": []
   },
   "outputs": [
    {
     "name": "stdout",
     "output_type": "stream",
     "text": [
      "[[10 40]\n",
      " [20 50]\n",
      " [30 60]]\n"
     ]
    }
   ],
   "source": [
    "x=np.array((10,20,30))\n",
    "y=np.array((40,50,60))\n",
    "print(np.column_stack((x,y)))"
   ]
  },
  {
   "cell_type": "code",
   "execution_count": 82,
   "id": "a1262988-f472-498f-977a-282154e8edee",
   "metadata": {
    "tags": []
   },
   "outputs": [
    {
     "name": "stdout",
     "output_type": "stream",
     "text": [
      "[[[10 40]\n",
      "  [20 50]\n",
      "  [30 60]]]\n"
     ]
    }
   ],
   "source": [
    "x=np.array((10,20,30))\n",
    "y=np.array((40,50,60))\n",
    "print(np.dstack((x,y)))"
   ]
  },
  {
   "cell_type": "code",
   "execution_count": 84,
   "id": "bc5026e3-6a21-49ce-b551-7c46e0682596",
   "metadata": {
    "tags": []
   },
   "outputs": [
    {
     "name": "stdout",
     "output_type": "stream",
     "text": [
      "[array([1, 2]), array([3, 4, 5, 6]), array([ 7,  8,  9, 10, 11, 12, 13, 14])]\n"
     ]
    }
   ],
   "source": [
    "x=np.array( [ 1, 2, 3, 4, 5, 6, 7, 8, 9, 10, 11, 12, 13, 14])\n",
    "print(np.split(x,[2,6]))"
   ]
  },
  {
   "cell_type": "code",
   "execution_count": 86,
   "id": "cec000d4-75db-4e9c-8602-aaaf8cc65a5c",
   "metadata": {
    "tags": []
   },
   "outputs": [
    {
     "name": "stdout",
     "output_type": "stream",
     "text": [
      "[array([[ 0,  1],\n",
      "       [ 4,  5],\n",
      "       [ 8,  9],\n",
      "       [12, 13]]), array([[ 2,  3],\n",
      "       [ 6,  7],\n",
      "       [10, 11],\n",
      "       [14, 15]]), array([], shape=(4, 0), dtype=int32)]\n"
     ]
    }
   ],
   "source": [
    "x=np.array([[ 0, 1, 2, 3],\n",
    "[ 4, 5, 6, 7],\n",
    "[ 8, 9, 10, 11],\n",
    "[12, 13, 14, 15]])\n",
    "print(np.hsplit(x,[2,6]))"
   ]
  },
  {
   "cell_type": "code",
   "execution_count": 87,
   "id": "d8e3f58f-2315-45ec-9c87-cccade6305c0",
   "metadata": {
    "tags": []
   },
   "outputs": [
    {
     "name": "stdout",
     "output_type": "stream",
     "text": [
      "5\n"
     ]
    }
   ],
   "source": [
    "x=np.array([[ 0, 10, 20],\n",
    "[20, 30, 40]])\n",
    "print(np.count_nonzero(x))"
   ]
  },
  {
   "cell_type": "code",
   "execution_count": 91,
   "id": "e6a9a3ae-5d9c-49b1-ac49-4cb54c0a3ad3",
   "metadata": {
    "tags": []
   },
   "outputs": [
    {
     "name": "stdout",
     "output_type": "stream",
     "text": [
      "[[0. 1. 2. 3. 4.]\n",
      " [0. 1. 2. 3. 4.]\n",
      " [0. 1. 2. 3. 4.]\n",
      " [0. 1. 2. 3. 4.]\n",
      " [0. 1. 2. 3. 4.]]\n"
     ]
    }
   ],
   "source": [
    "x=np.zeros((5,5))\n",
    "y=x+np.arange(5)\n",
    "print(y)"
   ]
  },
  {
   "cell_type": "code",
   "execution_count": 94,
   "id": "b6a9a84d-8598-4dc8-af9b-5181a8d5879f",
   "metadata": {
    "tags": []
   },
   "outputs": [
    {
     "name": "stdout",
     "output_type": "stream",
     "text": [
      "[[1.12 2.   3.45]\n",
      " [2.33 5.12 6.  ]]\n",
      "True\n",
      "False\n",
      "True\n",
      "False\n",
      "True\n"
     ]
    }
   ],
   "source": [
    "x=np.array([[ 1.12, 2., 3.45],\n",
    "[ 2.33, 5.12, 6. ]])\n",
    "print(x)\n",
    "print(2 in x)\n",
    "print(0 in x)\n",
    "print(6 in x)\n",
    "print(2.3 in x)\n",
    "print(5.12 in x)"
   ]
  },
  {
   "cell_type": "code",
   "execution_count": 95,
   "id": "c9bf4211-43de-4f44-a365-271a66e130f6",
   "metadata": {
    "tags": []
   },
   "outputs": [
    {
     "name": "stdout",
     "output_type": "stream",
     "text": [
      "[0.09090909 0.18181818 0.27272727 0.36363636 0.45454545 0.54545455\n",
      " 0.63636364 0.72727273 0.81818182 0.90909091]\n"
     ]
    }
   ],
   "source": [
    "x = np.linspace(0, 1, 12, endpoint=True)[1:-1]\n",
    "print(x)"
   ]
  },
  {
   "cell_type": "code",
   "execution_count": 97,
   "id": "c893fd90-9d4e-4c8b-8e7a-173eecff9406",
   "metadata": {
    "tags": []
   },
   "outputs": [
    {
     "name": "stdout",
     "output_type": "stream",
     "text": [
      "[0. 0. 0. 0. 0. 0. 0. 0. 0. 0.]\n"
     ]
    },
    {
     "ename": "ValueError",
     "evalue": "assignment destination is read-only",
     "output_type": "error",
     "traceback": [
      "\u001b[1;31m---------------------------------------------------------------------------\u001b[0m",
      "\u001b[1;31mValueError\u001b[0m                                Traceback (most recent call last)",
      "Cell \u001b[1;32mIn[97], line 4\u001b[0m\n\u001b[0;32m      2\u001b[0m x\u001b[38;5;241m.\u001b[39mflags\u001b[38;5;241m.\u001b[39mwriteable\u001b[38;5;241m=\u001b[39m\u001b[38;5;28;01mFalse\u001b[39;00m\n\u001b[0;32m      3\u001b[0m \u001b[38;5;28mprint\u001b[39m(x)\n\u001b[1;32m----> 4\u001b[0m \u001b[43mx\u001b[49m\u001b[43m[\u001b[49m\u001b[38;5;241;43m0\u001b[39;49m\u001b[43m]\u001b[49m\u001b[38;5;241m=\u001b[39m\u001b[38;5;241m1\u001b[39m\n",
      "\u001b[1;31mValueError\u001b[0m: assignment destination is read-only"
     ]
    }
   ],
   "source": [
    "x=np.zeros(10)\n",
    "x.flags.writeable=False\n",
    "print(x)\n",
    "x[0]=1"
   ]
  },
  {
   "cell_type": "code",
   "execution_count": 101,
   "id": "42f34831-2636-452f-9441-c44e14f973e4",
   "metadata": {
    "tags": []
   },
   "outputs": [
    {
     "name": "stdout",
     "output_type": "stream",
     "text": [
      "[ 3  5  6  9 10 12 15 18 20 21 24 25 27 30 33 35 36 39 40 42 45 48 50 51\n",
      " 54 55 57 60 63 65 66 69 70 72 75 78 80 81 84 85 87 90 93 95 96 99]\n",
      "2318\n"
     ]
    }
   ],
   "source": [
    "x=np.arange(1,100)\n",
    "n=x[(x%3==0) | (x%5==0)]\n",
    "print(n[:1000])\n",
    "print(n.sum())"
   ]
  },
  {
   "cell_type": "code",
   "execution_count": 105,
   "id": "669a11e7-84a8-4a6f-a599-90986d272cfd",
   "metadata": {
    "tags": []
   },
   "outputs": [
    {
     "name": "stdout",
     "output_type": "stream",
     "text": [
      "[  0.   1.   2.   3.   4.   5.   6.   7.   8.   9.  10.  11.  12.  13.\n",
      "  14.  15.  16.  17.  18.  19.  20.  21.  22.  23.  24.  25.  26.  27.\n",
      "  28.  29.  30.  31.  32.  33.  34.  35.  36.  37.  38.  39.  40.  41.\n",
      "  42.  43.  44.  45.  46.  47.  48.  49.  50.  51.  52.  53.  54.  55.\n",
      "  56.  57.  58.  59.  60.  61.  62.  63.  64.  65.  66.  67.  68.  69.\n",
      "  70.  71.  72.  73.  74.  75.  76.  77.  78.  79.  80.  81.  82.  83.\n",
      "  84.  85.  86.  87.  88.  89.  90.  91.  92.  93.  94.  95.  96.  97.\n",
      "  98.  99. 100. 101. 102. 103. 104. 105. 106. 107. 108. 109. 110. 111.\n",
      " 112. 113. 114. 115. 116. 117. 118. 119. 120. 121. 122. 123. 124. 125.\n",
      " 126. 127. 128. 129. 130. 131. 132. 133. 134. 135. 136. 137. 138. 139.\n",
      " 140. 141. 142. 143. 144. 145. 146. 147. 148. 149. 150. 151. 152. 153.\n",
      " 154. 155. 156. 157. 158. 159. 160. 161. 162. 163. 164. 165. 166. 167.\n",
      " 168. 169. 170. 171. 172. 173. 174. 175. 176. 177. 178. 179. 180. 181.\n",
      " 182. 183. 184. 185. 186. 187. 188. 189. 190. 191. 192. 193. 194. 195.\n",
      " 196. 197. 198. 199. 200. 201. 202. 203. 204. 205. 206. 207. 208. 209.\n",
      " 210. 211. 212. 213. 214. 215. 216. 217. 218. 219. 220. 221. 222. 223.\n",
      " 224. 225. 226. 227. 228. 229. 230. 231. 232. 233. 234. 235. 236. 237.\n",
      " 238. 239. 240. 241. 242. 243. 244. 245. 246. 247. 248. 249. 250. 251.\n",
      " 252. 253. 254. 255. 256. 257. 258. 259. 260. 261. 262. 263. 264. 265.\n",
      " 266. 267. 268. 269. 270. 271. 272. 273. 274. 275. 276. 277. 278. 279.\n",
      " 280. 281. 282. 283. 284. 285. 286. 287. 288. 289. 290. 291. 292. 293.\n",
      " 294. 295. 296. 297. 298. 299. 300. 301. 302. 303. 304. 305. 306. 307.\n",
      " 308. 309. 310. 311. 312. 313. 314. 315. 316. 317. 318. 319. 320. 321.\n",
      " 322. 323. 324. 325. 326. 327. 328. 329. 330. 331. 332. 333. 334. 335.\n",
      " 336. 337. 338. 339. 340. 341. 342. 343. 344. 345. 346. 347. 348. 349.\n",
      " 350. 351. 352. 353. 354. 355. 356. 357. 358. 359. 360. 361. 362. 363.\n",
      " 364. 365. 366. 367. 368. 369. 370. 371. 372. 373. 374. 375. 376. 377.\n",
      " 378. 379. 380. 381. 382. 383. 384. 385. 386. 387. 388. 389. 390. 391.\n",
      " 392. 393. 394. 395. 396. 397. 398. 399. 400. 401. 402. 403. 404. 405.\n",
      " 406. 407. 408. 409. 410. 411. 412. 413. 414. 415. 416. 417. 418. 419.\n",
      " 420. 421. 422. 423. 424. 425. 426. 427. 428. 429. 430. 431. 432. 433.\n",
      " 434. 435. 436. 437. 438. 439. 440. 441. 442. 443. 444. 445. 446. 447.\n",
      " 448. 449. 450. 451. 452. 453. 454. 455. 456. 457. 458. 459. 460. 461.\n",
      " 462. 463. 464. 465. 466. 467. 468. 469. 470. 471. 472. 473. 474. 475.\n",
      " 476. 477. 478. 479. 480. 481. 482. 483. 484. 485. 486. 487. 488. 489.\n",
      " 490. 491. 492. 493. 494. 495. 496. 497. 498. 499. 500. 501. 502. 503.\n",
      " 504. 505. 506. 507. 508. 509. 510. 511. 512. 513. 514. 515. 516. 517.\n",
      " 518. 519. 520. 521. 522. 523. 524. 525. 526. 527. 528. 529. 530. 531.\n",
      " 532. 533. 534. 535. 536. 537. 538. 539. 540. 541. 542. 543. 544. 545.\n",
      " 546. 547. 548. 549. 550. 551. 552. 553. 554. 555. 556. 557. 558. 559.\n",
      " 560. 561. 562. 563. 564. 565. 566. 567. 568. 569. 570. 571. 572. 573.\n",
      " 574. 575. 576. 577. 578. 579. 580. 581. 582. 583. 584. 585. 586. 587.\n",
      " 588. 589. 590. 591. 592. 593. 594. 595. 596. 597. 598. 599. 600. 601.\n",
      " 602. 603. 604. 605. 606. 607. 608. 609. 610. 611. 612. 613. 614. 615.\n",
      " 616. 617. 618. 619. 620. 621. 622. 623. 624. 625. 626. 627. 628. 629.\n",
      " 630. 631. 632. 633. 634. 635. 636. 637. 638. 639. 640. 641. 642. 643.\n",
      " 644. 645. 646. 647. 648. 649. 650. 651. 652. 653. 654. 655. 656. 657.\n",
      " 658. 659. 660. 661. 662. 663. 664. 665. 666. 667. 668. 669. 670. 671.\n",
      " 672. 673. 674. 675. 676. 677. 678. 679. 680. 681. 682. 683. 684. 685.\n",
      " 686. 687. 688. 689. 690. 691. 692. 693. 694. 695. 696. 697. 698. 699.\n",
      " 700. 701. 702. 703. 704. 705. 706. 707. 708. 709. 710. 711. 712. 713.\n",
      " 714. 715. 716. 717. 718. 719. 720. 721. 722. 723. 724. 725. 726. 727.\n",
      " 728. 729. 730. 731. 732. 733. 734. 735. 736. 737. 738. 739. 740. 741.\n",
      " 742. 743. 744. 745. 746. 747. 748. 749. 750. 751. 752. 753. 754. 755.\n",
      " 756. 757. 758. 759. 760. 761. 762. 763. 764. 765. 766. 767. 768. 769.\n",
      " 770. 771. 772. 773. 774. 775. 776. 777. 778. 779. 780. 781. 782. 783.\n",
      " 784. 785. 786. 787. 788. 789. 790. 791. 792. 793. 794. 795. 796. 797.\n",
      " 798. 799. 800. 801. 802. 803. 804. 805. 806. 807. 808. 809. 810. 811.\n",
      " 812. 813. 814. 815. 816. 817. 818. 819. 820. 821. 822. 823. 824. 825.\n",
      " 826. 827. 828. 829. 830. 831. 832. 833. 834. 835. 836. 837. 838. 839.\n",
      " 840. 841. 842. 843. 844. 845. 846. 847. 848. 849. 850. 851. 852. 853.\n",
      " 854. 855. 856. 857. 858. 859. 860. 861. 862. 863. 864. 865. 866. 867.\n",
      " 868. 869. 870. 871. 872. 873. 874. 875. 876. 877. 878. 879. 880. 881.\n",
      " 882. 883. 884. 885. 886. 887. 888. 889. 890. 891. 892. 893. 894. 895.\n",
      " 896. 897. 898. 899. 900. 901. 902. 903. 904. 905. 906. 907. 908. 909.\n",
      " 910. 911. 912. 913. 914. 915. 916. 917. 918. 919. 920. 921. 922. 923.\n",
      " 924. 925. 926. 927. 928. 929. 930. 931. 932. 933. 934. 935. 936. 937.\n",
      " 938. 939. 940. 941. 942. 943. 944. 945. 946. 947. 948. 949. 950. 951.\n",
      " 952. 953. 954. 955. 956. 957. 958. 959. 960. 961. 962. 963. 964. 965.\n",
      " 966. 967. 968. 969. 970. 971. 972. 973. 974. 975. 976. 977. 978. 979.\n",
      " 980. 981. 982. 983. 984. 985. 986. 987. 988. 989. 990. 991. 992. 993.\n",
      " 994. 995. 996. 997. 998. 999.]\n"
     ]
    }
   ],
   "source": [
    "# x=np.arange(10**3)\n",
    "# print(x)\n",
    "x=np.arange(1e3)\n",
    "print(x)"
   ]
  },
  {
   "cell_type": "code",
   "execution_count": 107,
   "id": "e28da648-4ef0-4f3f-8171-5e6cdbcfee17",
   "metadata": {
    "tags": []
   },
   "outputs": [
    {
     "name": "stdout",
     "output_type": "stream",
     "text": [
      "0 1 2 3 4 5 6 7 8 9 10 11 "
     ]
    }
   ],
   "source": [
    "x=np.arange(12).reshape(3,4)\n",
    "for x in np.nditer(x):\n",
    "    print(x,end=' ')"
   ]
  },
  {
   "cell_type": "code",
   "execution_count": null,
   "id": "e4073a87-12d0-44f3-973f-4674551e0634",
   "metadata": {},
   "outputs": [],
   "source": []
  }
 ],
 "metadata": {
  "kernelspec": {
   "display_name": "Python 3 (ipykernel)",
   "language": "python",
   "name": "python3"
  },
  "language_info": {
   "codemirror_mode": {
    "name": "ipython",
    "version": 3
   },
   "file_extension": ".py",
   "mimetype": "text/x-python",
   "name": "python",
   "nbconvert_exporter": "python",
   "pygments_lexer": "ipython3",
   "version": "3.11.3"
  }
 },
 "nbformat": 4,
 "nbformat_minor": 5
}
