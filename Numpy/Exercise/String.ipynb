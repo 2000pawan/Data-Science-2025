{
 "cells": [
  {
   "cell_type": "code",
   "execution_count": 1,
   "id": "a47d3e04-8ad3-4696-8504-314a1d091ee8",
   "metadata": {},
   "outputs": [],
   "source": [
    "import numpy as np"
   ]
  },
  {
   "cell_type": "code",
   "execution_count": 2,
   "id": "dc1066cf-93d7-4b88-8129-c8ad5d595eda",
   "metadata": {},
   "outputs": [
    {
     "name": "stdout",
     "output_type": "stream",
     "text": [
      "['Python Java' 'PHP C++']\n"
     ]
    }
   ],
   "source": [
    "x=np.array(['Python','PHP'],dtype=np.str_)\n",
    "y=np.array([' Java',' C++'],dtype=np.str_)\n",
    "print(np.char.add(x,y))"
   ]
  },
  {
   "cell_type": "code",
   "execution_count": 3,
   "id": "aff2781b-636e-4124-814e-229ac8181c64",
   "metadata": {},
   "outputs": [
    {
     "name": "stdout",
     "output_type": "stream",
     "text": [
      "['PythonPythonPython' 'JavaJavaJava' 'C++C++C++' 'PHPPHPPHP']\n"
     ]
    }
   ],
   "source": [
    "x=np.array(['Python','Java','C++','PHP'],dtype=np.str_)\n",
    "print(np.char.multiply(x,3))"
   ]
  },
  {
   "cell_type": "code",
   "execution_count": 4,
   "id": "33d2c936-bb86-41a9-85d1-7eb80505c275",
   "metadata": {},
   "outputs": [
    {
     "name": "stdout",
     "output_type": "stream",
     "text": [
      "Capitalized:- ['Python' 'Java' 'C++' 'Php']\n",
      "Lowered:- ['python' 'java' 'c++' 'php']\n",
      "Uppered:- ['PYTHON' 'JAVA' 'C++' 'PHP']\n",
      "Swapcases:- ['PYTHON' 'JAVA' 'c++' 'php']\n",
      "Titlecased:- ['Python' 'Java' 'C++' 'Php']\n"
     ]
    }
   ],
   "source": [
    "x=np.array(['python','java','C++','PHP'],dtype=np.str_)\n",
    "print('Capitalized:-',np.char.capitalize(x))\n",
    "print('Lowered:-',np.char.lower(x))\n",
    "print('Uppered:-',np.char.upper(x))\n",
    "print('Swapcases:-',np.char.swapcase(x))\n",
    "print('Titlecased:-',np.char.title(x))"
   ]
  },
  {
   "cell_type": "code",
   "execution_count": 5,
   "id": "73e24573-2262-438d-84a3-32bb4a2d1ec7",
   "metadata": {},
   "outputs": [
    {
     "name": "stdout",
     "output_type": "stream",
     "text": [
      "Centered:= ['python, exercis' '______PHP______' '______java_____' '______C++______']\n",
      "Left:= ['python, exercis' 'PHP____________' 'java___________' 'C++____________']\n",
      "Right:= ['python, exercis' '____________PHP' '___________java' '____________C++']\n"
     ]
    }
   ],
   "source": [
    "x=np.array(['python, exercises', 'PHP', 'java', 'C++'],dtype=np.str_)\n",
    "print('Centered:=',np.char.center(x,width=15,fillchar='_'))\n",
    "print('Left:=',np.char.ljust(x,width=15,fillchar='_'))\n",
    "print('Right:=',np.char.rjust(x,width=15,fillchar='_'))"
   ]
  },
  {
   "cell_type": "code",
   "execution_count": 6,
   "id": "53a432d0-8345-4ab1-ae32-a70c99a2c550",
   "metadata": {},
   "outputs": [
    {
     "data": {
      "text/plain": [
       "array(['p y t h o n ,   e x e r c i s e s', 'P H P', 'j a v a', 'C + +'],\n",
       "      dtype='<U33')"
      ]
     },
     "execution_count": 6,
     "metadata": {},
     "output_type": "execute_result"
    }
   ],
   "source": [
    "x=np.array(['python, exercises', 'PHP', 'java', 'C++'],dtype=np.str_)\n",
    "np.char.join(\" \", x)"
   ]
  },
  {
   "cell_type": "code",
   "execution_count": 8,
   "id": "ac65726c-1078-4db4-bfae-34caae9a8633",
   "metadata": {},
   "outputs": [
    {
     "name": "stdout",
     "output_type": "stream",
     "text": [
      "['python exercisesPHPjavaC++']\n",
      "[b'\\x97\\xa8\\xa3\\x88\\x96\\x95@\\x85\\xa7\\x85\\x99\\x83\\x89\\xa2\\x85\\xa2\\xd7\\xc8\\xd7\\x91\\x81\\xa5\\x81\\xc3NN']\n"
     ]
    }
   ],
   "source": [
    "x=[b'\\x97\\xa8\\xa3\\x88\\x96\\x95@\\x85\\xa7\\x85\\x99\\x83\\x89\\xa2\\x85\\xa2'\n",
    "b'\\xd7\\xc8\\xd7' b'\\x91\\x81\\xa5\\x81' b'\\xc3NN']\n",
    "y=np.char.decode(x,encoding='cp500')\n",
    "print(y)\n",
    "print(np.char.encode(y,'cp500'))"
   ]
  },
  {
   "cell_type": "code",
   "execution_count": 10,
   "id": "33fc8585-7097-4f8a-a50d-9f1920bcfe63",
   "metadata": {},
   "outputs": [
    {
     "name": "stdout",
     "output_type": "stream",
     "text": [
      "['python exercises' 'PHP' 'java' 'C++']\n"
     ]
    }
   ],
   "source": [
    "x = np.array([' python exercises ', ' PHP  ', ' java  ', '  C++'], dtype=np.str_)\n",
    "print(np.char.strip(x))"
   ]
  },
  {
   "cell_type": "code",
   "execution_count": 14,
   "id": "7b7f4f6b-cd82-41a8-b3f0-1141e1f6f9c6",
   "metadata": {},
   "outputs": [
    {
     "name": "stdout",
     "output_type": "stream",
     "text": [
      "['python exercises ' 'PHP  ' 'java  ' 'C++']\n"
     ]
    }
   ],
   "source": [
    "x = np.array([' python exercises ', ' PHP  ', ' java  ', '  C++'], dtype=np.str_)\n",
    "print(np.char.lstrip(x))"
   ]
  },
  {
   "cell_type": "code",
   "execution_count": 15,
   "id": "a6cf773c-66d3-4885-b837-c003c39fd144",
   "metadata": {},
   "outputs": [
    {
     "name": "stdout",
     "output_type": "stream",
     "text": [
      "[' python exercises' ' PHP' ' java' '  C++']\n"
     ]
    }
   ],
   "source": [
    "x = np.array([' python exercises ', ' PHP  ', ' java  ', '  C++'], dtype=np.str_)\n",
    "print(np.char.rstrip(x))"
   ]
  },
  {
   "cell_type": "code",
   "execution_count": 20,
   "id": "93ee8e29-8403-40c9-947f-e0dd763f789d",
   "metadata": {},
   "outputs": [
    {
     "name": "stdout",
     "output_type": "stream",
     "text": [
      "[list(['Python', 'PHP', 'Java', 'C++'])]\n"
     ]
    }
   ],
   "source": [
    "x = np.array(['Python PHP Java C++'], dtype=np.str_)\n",
    "print(np.char.split(x))"
   ]
  },
  {
   "cell_type": "code",
   "execution_count": 22,
   "id": "ebdc0c70-461d-49ff-8b5b-33cf4eb8281a",
   "metadata": {},
   "outputs": [
    {
     "name": "stdout",
     "output_type": "stream",
     "text": [
      "[list(['Python\\\\Exercises, Practice, Solution'])]\n"
     ]
    }
   ],
   "source": [
    "x = np.array(['Python\\\\Exercises, Practice, Solution'], dtype=np.str_)\n",
    "print(np.char.splitlines(x))"
   ]
  },
  {
   "cell_type": "code",
   "execution_count": 24,
   "id": "0385fc3d-1203-448d-a352-569b2ffcd420",
   "metadata": {},
   "outputs": [
    {
     "name": "stdout",
     "output_type": "stream",
     "text": [
      "['00002' '00011' '00234' '01234' '12345']\n"
     ]
    }
   ],
   "source": [
    "x = np.array(['2', '11', '234', '1234', '12345'], dtype=np.str_)\n",
    "print(np.char.zfill(x,5))"
   ]
  },
  {
   "cell_type": "code",
   "execution_count": 28,
   "id": "43befc56-5c55-468e-9b36-bad2ac3665bf",
   "metadata": {},
   "outputs": [
    {
     "name": "stdout",
     "output_type": "stream",
     "text": [
      "['PHP Exercises, Practice, Solution']\n"
     ]
    }
   ],
   "source": [
    "x = np.array(['Python Exercises, Practice, Solution'], dtype=np.str_)\n",
    "print(np.char.replace(x,'Python','PHP'))"
   ]
  },
  {
   "cell_type": "code",
   "execution_count": 34,
   "id": "a1e64200-0680-42ff-8839-9bd1f17a151d",
   "metadata": {},
   "outputs": [
    {
     "name": "stdout",
     "output_type": "stream",
     "text": [
      "Equal Tests:- [ True False False  True  True]\n",
      "Not Equal Tests:- [False  True  True False False]\n",
      "Less Equal Tests:- [ True  True  True  True  True]\n",
      "Greater Equal Tests:- [ True False False  True  True]\n",
      "Less Tests:- [False  True  True False False]\n",
      "Greater Tests:- [False False False False False]\n"
     ]
    }
   ],
   "source": [
    "x = np.array(['Hello', 'PHP', 'JS', 'examples', 'html'], dtype=np.str_)\n",
    "y = np.array(['Hello', 'php', 'Java', 'examples', 'html'], dtype=np.str_)\n",
    "print('Equal Tests:-',np.char.equal(x,y))\n",
    "print('Not Equal Tests:-',np.char.not_equal(x,y))\n",
    "print('Less Equal Tests:-',np.char.less_equal(x,y))\n",
    "print('Greater Equal Tests:-',np.char.greater_equal(x,y))\n",
    "print('Less Tests:-',np.char.less(x,y))\n",
    "print('Greater Tests:-',np.char.greater(x,y))"
   ]
  },
  {
   "cell_type": "code",
   "execution_count": 38,
   "id": "5ac6434e-59b5-446c-9f54-4a3789f5f67b",
   "metadata": {},
   "outputs": [
    {
     "name": "stdout",
     "output_type": "stream",
     "text": [
      "[1 2 0 0 0]\n"
     ]
    }
   ],
   "source": [
    "x = np.array(['Python', 'PHP', 'JS', 'examples', 'html'], dtype=np.str_)\n",
    "print(np.char.count(x,'P'))"
   ]
  },
  {
   "cell_type": "code",
   "execution_count": 40,
   "id": "46628fe5-9a5a-4e60-9a73-60f93f2000b4",
   "metadata": {},
   "outputs": [
    {
     "name": "stdout",
     "output_type": "stream",
     "text": [
      "[ 0  0 -1  4 -1]\n"
     ]
    }
   ],
   "source": [
    "x = np.array(['Python', 'PHP', 'JS', 'EXAMPLES', 'HTML'], dtype=np.str_)\n",
    "print(np.char.find(x,'P',))"
   ]
  },
  {
   "cell_type": "code",
   "execution_count": 41,
   "id": "98068995-f0d7-4d09-8fbf-5e7533a630d3",
   "metadata": {},
   "outputs": [
    {
     "name": "stdout",
     "output_type": "stream",
     "text": [
      "Digits Only:- [False False False False False  True]\n",
      "Lower Cases Only:- [False False False False  True False]\n",
      "Upper Cases Only:- [False  True  True False False False]\n"
     ]
    }
   ],
   "source": [
    "x = np.array(['Python' ,'PHP', 'JS', 'Examples', 'html5', '5'], dtype=np.str_)\n",
    "print('Digits Only:-',np.char.isdigit(x))\n",
    "print('Lower Cases Only:-',np.char.islower(x))\n",
    "print('Upper Cases Only:-',np.char.isupper(x))"
   ]
  },
  {
   "cell_type": "code",
   "execution_count": 42,
   "id": "1557e0a5-83b2-49d4-ac4b-2f260b468e81",
   "metadata": {},
   "outputs": [
    {
     "name": "stdout",
     "output_type": "stream",
     "text": [
      "[ True  True False False False]\n"
     ]
    }
   ],
   "source": [
    "x = np.array(['Python', 'PHP', 'JS', 'examples', 'html'], dtype=np.str_)\n",
    "print(np.char.startswith(x,'P'))"
   ]
  },
  {
   "cell_type": "code",
   "execution_count": 43,
   "id": "4528c250-5d16-4d70-bde6-82ae71dc261a",
   "metadata": {},
   "outputs": [
    {
     "name": "stdout",
     "output_type": "stream",
     "text": [
      "['001.12' '002.23' '003.71' '004.23' '005.11']\n",
      "['001.12' '002.23' '003.71' '004.23' '005.11']\n"
     ]
    }
   ],
   "source": [
    "nums = np.array(['1.12', '2.23', '3.71', '4.23', '5.11'], dtype=np.str_)\n",
    "print(np.char.add('00', nums))\n",
    "print(np.char.rjust(nums, 6, fillchar='0')) "
   ]
  },
  {
   "cell_type": "code",
   "execution_count": 50,
   "id": "17357d45-f545-4abd-8b72-0ee97c782a26",
   "metadata": {},
   "outputs": [
    {
     "name": "stdout",
     "output_type": "stream",
     "text": [
      "[['Python==NumPy==Exercises']\n",
      " ['==Python==']]\n",
      "[['Python NumPy Exercises']\n",
      " ['Python']]\n"
     ]
    }
   ],
   "source": [
    "x = np.array([['Python-NumPy-Exercises'],['-Python-']], dtype=np.str_)\n",
    "print(np.char.strip(np.char.replace(x,'-','==')))\n",
    "print(np.char.strip(np.char.replace(x,'-',' ')))"
   ]
  },
  {
   "cell_type": "code",
   "execution_count": 54,
   "id": "ddc8d93a-562b-4470-8387-16daab2bac86",
   "metadata": {},
   "outputs": [
    {
     "name": "stdout",
     "output_type": "stream",
     "text": [
      "[[1 0 0]\n",
      " [1 0 0]\n",
      " [1 0 1]]\n"
     ]
    }
   ],
   "source": [
    "x=np.array([['Python', 'NumPy', 'Exercises'],\n",
    "['Python' ,'Pandas', 'Exercises'],\n",
    "['Python', 'Machine learning', 'Python']],dtype=np.str_)\n",
    "print(np.char.count(x,'Python'))"
   ]
  },
  {
   "cell_type": "code",
   "execution_count": 58,
   "id": "b8e24e93-8c80-4578-8c86-67a1942abb87",
   "metadata": {},
   "outputs": [
    {
     "name": "stdout",
     "output_type": "stream",
     "text": [
      "01\tV\tDebby Pramod\n",
      "02\tV\tArtemiy Ellie\n",
      "03\tV\tBaptist Kamal\n",
      "04\tV\tLavanya Davide\n",
      "05\tV\tFulton Antwan\n",
      "06\tV\tEuanthe Sandeep\n",
      "07\tV\tEndzela Sanda\n",
      "08\tV\tVictoire Waman\n",
      "09\tV\tBriar Nur\n",
      "10\tV\tRose Lykos\n",
      "\n",
      "Array from the said text:\n",
      "[['01' 'V' 'Debby Pramod']\n",
      " ['02' 'V' 'Artemiy Ellie']\n",
      " ['03' 'V' 'Baptist Kamal']\n",
      " ['04' 'V' 'Lavanya Davide']\n",
      " ['05' 'V' 'Fulton Antwan']\n",
      " ['06' 'V' 'Euanthe Sandeep']\n",
      " ['07' 'V' 'Endzela Sanda']\n",
      " ['08' 'V' 'Victoire Waman']\n",
      " ['09' 'V' 'Briar Nur']\n",
      " ['10' 'V' 'Rose Lykos']]\n"
     ]
    }
   ],
   "source": [
    "student = \"\"\"01\tV\tDebby Pramod\n",
    "02\tV\tArtemiy Ellie\n",
    "03\tV\tBaptist Kamal\n",
    "04\tV\tLavanya Davide\n",
    "05\tV\tFulton Antwan\n",
    "06\tV\tEuanthe Sandeep\n",
    "07\tV\tEndzela Sanda\n",
    "08\tV\tVictoire Waman\n",
    "09\tV\tBriar Nur\n",
    "10\tV\tRose Lykos\"\"\"\n",
    "print(student)\n",
    "text_lines = student.splitlines()\n",
    "text_lines = [r.split('\\t') for r in text_lines]\n",
    "result = np.array(text_lines, dtype=np.str_)\n",
    "print(\"\\nArray from the said text:\")\n",
    "print(result) "
   ]
  },
  {
   "cell_type": "code",
   "execution_count": null,
   "id": "bf9f8236-ac36-46e8-8265-ca9822117e1e",
   "metadata": {},
   "outputs": [],
   "source": []
  }
 ],
 "metadata": {
  "kernelspec": {
   "display_name": "Python 3 (ipykernel)",
   "language": "python",
   "name": "python3"
  },
  "language_info": {
   "codemirror_mode": {
    "name": "ipython",
    "version": 3
   },
   "file_extension": ".py",
   "mimetype": "text/x-python",
   "name": "python",
   "nbconvert_exporter": "python",
   "pygments_lexer": "ipython3",
   "version": "3.11.7"
  },
  "widgets": {
   "application/vnd.jupyter.widget-state+json": {
    "state": {},
    "version_major": 2,
    "version_minor": 0
   }
  }
 },
 "nbformat": 4,
 "nbformat_minor": 5
}
