{
 "cells": [
  {
   "cell_type": "code",
   "execution_count": 9,
   "id": "7d7b985d-c2a6-4d01-86b9-f7116707c3c1",
   "metadata": {},
   "outputs": [
    {
     "name": "stdout",
     "output_type": "stream",
     "text": [
      "The length of given string using in-built function:-  11\n",
      "The length of given string using Logic:-  11\n"
     ]
    }
   ],
   "source": [
    "# Write a Python program to calculate the length of a string.\n",
    "string='Pawan Yadav'\n",
    "# Using inbuilt function\n",
    "print('The length of given string using in-built function:- ',len(string))\n",
    "# Using Logic.\n",
    "count=0\n",
    "for i in string:\n",
    "    count+=1\n",
    "print('The length of given string using Logic:- ',count)"
   ]
  },
  {
   "cell_type": "code",
   "execution_count": 25,
   "id": "b8cca572-e043-4532-800f-1e6d3cb34473",
   "metadata": {},
   "outputs": [
    {
     "name": "stdout",
     "output_type": "stream",
     "text": [
      "Character Frequency:= {'g': 2, 'o': 3, 'l': 1, 'e': 1, '.': 1, 'c': 1, 'm': 1}\n"
     ]
    }
   ],
   "source": [
    "'''Write a Python program to count the number of characters (character frequency) in a string.\n",
    "Sample String : google.com'\n",
    "Expected Result : {'g': 2, 'o': 3, 'l': 1, 'e': 1, '.': 1, 'c': 1, 'm': 1}'''\n",
    "sample_string='google.com'\n",
    "occurance={}\n",
    "for i in sample_string:\n",
    "    if i not in occurance:\n",
    "        occurance[i]=1\n",
    "    elif i in occurance:\n",
    "        occurance[i]+=1\n",
    "print('Character Frequency:=',occurance)"
   ]
  },
  {
   "cell_type": "code",
   "execution_count": 43,
   "id": "fcd95053-0dd4-40e9-bf0d-9fdacb68ed32",
   "metadata": {},
   "outputs": [
    {
     "name": "stdout",
     "output_type": "stream",
     "text": [
      "w3ce\n"
     ]
    }
   ],
   "source": [
    "'''Write a Python program to get a string made of the first 2 and last 2 characters of a given string. If the string length is less than 2, return the empty string instead.\n",
    "Sample String : 'w3resource'\n",
    "Expected Result : w3ce'''\n",
    "sample_string='w3resource'\n",
    "if len(sample_string)<2:\n",
    "    print('\"\"')\n",
    "else:\n",
    "    print(sample_string[:2]+sample_string[-2::1])"
   ]
  },
  {
   "cell_type": "code",
   "execution_count": 45,
   "id": "d856c939-f50a-411b-a99b-06f4210e40f2",
   "metadata": {},
   "outputs": [
    {
     "name": "stdout",
     "output_type": "stream",
     "text": [
      "resta$t\n"
     ]
    }
   ],
   "source": [
    "'''Write a Python program to get a string from a given string where all occurrences of its first char have been changed to '$', except the first char itself.\n",
    "Sample String : 'restart'\n",
    "Expected Result : resta$t'''\n",
    "s='restart'\n",
    "x=''\n",
    "for i in s:\n",
    "    if i not in x:\n",
    "        x+=i\n",
    "    else:\n",
    "        x+='$'\n",
    "        break\n",
    "x=x+s[len(x)::]\n",
    "print(x)"
   ]
  },
  {
   "cell_type": "code",
   "execution_count": 49,
   "id": "66302237-3703-4445-b382-d4bf78a54746",
   "metadata": {},
   "outputs": [
    {
     "name": "stdout",
     "output_type": "stream",
     "text": [
      "xyc abz\n"
     ]
    }
   ],
   "source": [
    "'''Write a Python program to get a single string from two given strings, separated by a space and swap the first two characters of each string.\n",
    "Sample String : 'abc', 'xyz'\n",
    "Expected Result : xyc abz'''\n",
    "s,x='abc','xyz'\n",
    "result=x[:2]+s[2::]+' '+s[:2]+x[2::]\n",
    "print(result)"
   ]
  },
  {
   "cell_type": "code",
   "execution_count": 7,
   "id": "6b33e931-c8b8-4738-8feb-0c65f4026952",
   "metadata": {},
   "outputs": [
    {
     "name": "stdout",
     "output_type": "stream",
     "text": [
      "abcing\n"
     ]
    }
   ],
   "source": [
    "# Add ing or ly to a string.\n",
    "'''Write a Python program to add 'ing' at the end of a given string (length should be at least 3). If the given string already ends with 'ing', add 'ly' instead. If the string length of the given string is less than 3, leave it unchanged.\n",
    "Sample String : 'abc'\n",
    "Expected Result : abcing'''\n",
    "def add_ing(x):\n",
    "    if len(x)<3:\n",
    "        return x\n",
    "    elif x[-3::1]=='ing':\n",
    "        x+='ly'\n",
    "    else:\n",
    "        x+='ing'\n",
    "    return x\n",
    "print(add_ing('abc'))"
   ]
  },
  {
   "cell_type": "code",
   "execution_count": 50,
   "id": "66bda6d8-0570-45af-bc4e-51f9c0e581f7",
   "metadata": {},
   "outputs": [
    {
     "name": "stdout",
     "output_type": "stream",
     "text": [
      "The lyrics is good!\n"
     ]
    }
   ],
   "source": [
    "\"\"\"Write a Python program to find the first appearance of the substrings 'not' and 'poor' in a given string. If 'not' follows 'poor', replace the whole 'not'...'poor' substring with 'good'. Return the resulting string.\n",
    "Sample String : 'The lyrics is not that poor!'\n",
    "Expected Result : 'The lyrics is good!\"\"\"\n",
    "def replace_substring(x):\n",
    "    snot=x.find('not')\n",
    "    spoor=x.find('poor')\n",
    "    if spoor>snot and snot>0 and spoor>0:\n",
    "        x=x.replace(x[snot:(spoor+4)],'good')\n",
    "        return x\n",
    "    else:\n",
    "        return x\n",
    "x='The lyrics is not that poor!'\n",
    "print(replace_substring(x))"
   ]
  },
  {
   "cell_type": "code",
   "execution_count": 68,
   "id": "1263a69c-7106-48c3-a882-824922b0af12",
   "metadata": {},
   "outputs": [
    {
     "name": "stdout",
     "output_type": "stream",
     "text": [
      "Longest Word:-  Examination\n",
      "Length of Longest word:-  11\n"
     ]
    }
   ],
   "source": [
    "\"\"\"Write a Python function that takes a list of words and return the longest word and the length of the longest one.\n",
    "Sample Output:\n",
    "Longest word: Exercises\n",
    "Length of the longest word: 9\"\"\"\n",
    "class String():\n",
    "    def __init_(self):\n",
    "        pass\n",
    "    # @staticmethod\n",
    "    def longest_word(self,li):\n",
    "        z=[len(i) for i in li]\n",
    "        c=z.index(max(z))\n",
    "        print(\"Longest Word:- \",li[c])\n",
    "        print(\"Length of Longest word:- \", max(z))\n",
    "res=String()\n",
    "x=['Pawan','Exercise','Examination','Result','Good']\n",
    "res.longest_word(x)"
   ]
  },
  {
   "cell_type": "code",
   "execution_count": null,
   "id": "36a524f3-2e7c-4de3-af67-b4823cbe8209",
   "metadata": {},
   "outputs": [],
   "source": []
  }
 ],
 "metadata": {
  "kernelspec": {
   "display_name": "Python 3 (ipykernel)",
   "language": "python",
   "name": "python3"
  },
  "language_info": {
   "codemirror_mode": {
    "name": "ipython",
    "version": 3
   },
   "file_extension": ".py",
   "mimetype": "text/x-python",
   "name": "python",
   "nbconvert_exporter": "python",
   "pygments_lexer": "ipython3",
   "version": "3.12.7"
  },
  "widgets": {
   "application/vnd.jupyter.widget-state+json": {
    "state": {},
    "version_major": 2,
    "version_minor": 0
   }
  }
 },
 "nbformat": 4,
 "nbformat_minor": 5
}
