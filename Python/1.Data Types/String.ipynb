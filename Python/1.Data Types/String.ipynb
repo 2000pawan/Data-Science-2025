{
 "cells": [
  {
   "cell_type": "code",
   "execution_count": 9,
   "id": "7d7b985d-c2a6-4d01-86b9-f7116707c3c1",
   "metadata": {},
   "outputs": [
    {
     "name": "stdout",
     "output_type": "stream",
     "text": [
      "The length of given string using in-built function:-  11\n",
      "The length of given string using Logic:-  11\n"
     ]
    }
   ],
   "source": [
    "# Write a Python program to calculate the length of a string.\n",
    "string='Pawan Yadav'\n",
    "# Using inbuilt function\n",
    "print('The length of given string using in-built function:- ',len(string))\n",
    "# Using Logic.\n",
    "count=0\n",
    "for i in string:\n",
    "    count+=1\n",
    "print('The length of given string using Logic:- ',count)"
   ]
  },
  {
   "cell_type": "code",
   "execution_count": 25,
   "id": "b8cca572-e043-4532-800f-1e6d3cb34473",
   "metadata": {},
   "outputs": [
    {
     "name": "stdout",
     "output_type": "stream",
     "text": [
      "Character Frequency:= {'g': 2, 'o': 3, 'l': 1, 'e': 1, '.': 1, 'c': 1, 'm': 1}\n"
     ]
    }
   ],
   "source": [
    "'''Write a Python program to count the number of characters (character frequency) in a string.\n",
    "Sample String : google.com'\n",
    "Expected Result : {'g': 2, 'o': 3, 'l': 1, 'e': 1, '.': 1, 'c': 1, 'm': 1}'''\n",
    "sample_string='google.com'\n",
    "occurance={}\n",
    "for i in sample_string:\n",
    "    if i not in occurance:\n",
    "        occurance[i]=1\n",
    "    elif i in occurance:\n",
    "        occurance[i]+=1\n",
    "print('Character Frequency:=',occurance)"
   ]
  },
  {
   "cell_type": "code",
   "execution_count": 43,
   "id": "fcd95053-0dd4-40e9-bf0d-9fdacb68ed32",
   "metadata": {},
   "outputs": [
    {
     "name": "stdout",
     "output_type": "stream",
     "text": [
      "w3ce\n"
     ]
    }
   ],
   "source": [
    "'''Write a Python program to get a string made of the first 2 and last 2 characters of a given string. If the string length is less than 2, return the empty string instead.\n",
    "Sample String : 'w3resource'\n",
    "Expected Result : w3ce'''\n",
    "sample_string='w3resource'\n",
    "if len(sample_string)<2:\n",
    "    print('\"\"')\n",
    "else:\n",
    "    print(sample_string[:2]+sample_string[-2::1])"
   ]
  },
  {
   "cell_type": "code",
   "execution_count": 45,
   "id": "d856c939-f50a-411b-a99b-06f4210e40f2",
   "metadata": {},
   "outputs": [
    {
     "name": "stdout",
     "output_type": "stream",
     "text": [
      "resta$t\n"
     ]
    }
   ],
   "source": [
    "'''Write a Python program to get a string from a given string where all occurrences of its first char have been changed to '$', except the first char itself.\n",
    "Sample String : 'restart'\n",
    "Expected Result : resta$t'''\n",
    "s='restart'\n",
    "x=''\n",
    "for i in s:\n",
    "    if i not in x:\n",
    "        x+=i\n",
    "    else:\n",
    "        x+='$'\n",
    "        break\n",
    "x=x+s[len(x)::]\n",
    "print(x)"
   ]
  },
  {
   "cell_type": "code",
   "execution_count": 49,
   "id": "66302237-3703-4445-b382-d4bf78a54746",
   "metadata": {},
   "outputs": [
    {
     "name": "stdout",
     "output_type": "stream",
     "text": [
      "xyc abz\n"
     ]
    }
   ],
   "source": [
    "'''Write a Python program to get a single string from two given strings, separated by a space and swap the first two characters of each string.\n",
    "Sample String : 'abc', 'xyz'\n",
    "Expected Result : xyc abz'''\n",
    "s,x='abc','xyz'\n",
    "result=x[:2]+s[2::]+' '+s[:2]+x[2::]\n",
    "print(result)"
   ]
  },
  {
   "cell_type": "code",
   "execution_count": 7,
   "id": "6b33e931-c8b8-4738-8feb-0c65f4026952",
   "metadata": {},
   "outputs": [
    {
     "name": "stdout",
     "output_type": "stream",
     "text": [
      "abcing\n"
     ]
    }
   ],
   "source": [
    "# Add ing or ly to a string.\n",
    "'''Write a Python program to add 'ing' at the end of a given string (length should be at least 3). If the given string already ends with 'ing', add 'ly' instead. If the string length of the given string is less than 3, leave it unchanged.\n",
    "Sample String : 'abc'\n",
    "Expected Result : abcing'''\n",
    "def add_ing(x):\n",
    "    if len(x)<3:\n",
    "        return x\n",
    "    elif x[-3::1]=='ing':\n",
    "        x+='ly'\n",
    "    else:\n",
    "        x+='ing'\n",
    "    return x\n",
    "print(add_ing('abc'))"
   ]
  },
  {
   "cell_type": "code",
   "execution_count": 50,
   "id": "66bda6d8-0570-45af-bc4e-51f9c0e581f7",
   "metadata": {},
   "outputs": [
    {
     "name": "stdout",
     "output_type": "stream",
     "text": [
      "The lyrics is good!\n"
     ]
    }
   ],
   "source": [
    "\"\"\"Write a Python program to find the first appearance of the substrings 'not' and 'poor' in a given string. If 'not' follows 'poor', replace the whole 'not'...'poor' substring with 'good'. Return the resulting string.\n",
    "Sample String : 'The lyrics is not that poor!'\n",
    "Expected Result : 'The lyrics is good!\"\"\"\n",
    "def replace_substring(x):\n",
    "    snot=x.find('not')\n",
    "    spoor=x.find('poor')\n",
    "    if spoor>snot and snot>0 and spoor>0:\n",
    "        x=x.replace(x[snot:(spoor+4)],'good')\n",
    "        return x\n",
    "    else:\n",
    "        return x\n",
    "x='The lyrics is not that poor!'\n",
    "print(replace_substring(x))"
   ]
  },
  {
   "cell_type": "code",
   "execution_count": 68,
   "id": "1263a69c-7106-48c3-a882-824922b0af12",
   "metadata": {},
   "outputs": [
    {
     "name": "stdout",
     "output_type": "stream",
     "text": [
      "Longest Word:-  Examination\n",
      "Length of Longest word:-  11\n"
     ]
    }
   ],
   "source": [
    "\"\"\"Write a Python function that takes a list of words and return the longest word and the length of the longest one.\n",
    "Sample Output:\n",
    "Longest word: Exercises\n",
    "Length of the longest word: 9\"\"\"\n",
    "class String():\n",
    "    def __init_(self):\n",
    "        pass\n",
    "    # @staticmethod\n",
    "    def longest_word(self,li):\n",
    "        z=[len(i) for i in li]\n",
    "        c=z.index(max(z))\n",
    "        print(\"Longest Word:- \",li[c])\n",
    "        print(\"Length of Longest word:- \", max(z))\n",
    "res=String()\n",
    "x=['Pawan','Exercise','Examination','Result','Good']\n",
    "res.longest_word(x)"
   ]
  },
  {
   "cell_type": "code",
   "execution_count": 27,
   "id": "36a524f3-2e7c-4de3-af67-b4823cbe8209",
   "metadata": {},
   "outputs": [
    {
     "name": "stdout",
     "output_type": "stream",
     "text": [
      "PawanYadav\n"
     ]
    }
   ],
   "source": [
    "'''Remove nth character from a string.\n",
    "Write a Python program to remove the nth index character from a nonempty string.'''\n",
    "def find_char(x,n):\n",
    "    return x[:n]+x[n+1::]\n",
    "x='Pawan Yadav'\n",
    "n=5\n",
    "print(find_char(x,n))"
   ]
  },
  {
   "cell_type": "code",
   "execution_count": 29,
   "id": "5ac96fb7-da8f-4094-bcea-9f39e9cb9a77",
   "metadata": {},
   "outputs": [
    {
     "name": "stdout",
     "output_type": "stream",
     "text": [
      "PwnYdv\n"
     ]
    }
   ],
   "source": [
    "''' Remove odd index chars from a string.\n",
    "Write a Python program to remove characters that have odd index values in a given string.'''\n",
    "def remove_char(x):\n",
    "    return x[::2]\n",
    "x='Pawan Yadav'\n",
    "print(remove_char(x))"
   ]
  },
  {
   "cell_type": "code",
   "execution_count": 43,
   "id": "47a2eb89-ae55-4e49-b817-b42228cddba9",
   "metadata": {},
   "outputs": [
    {
     "name": "stdout",
     "output_type": "stream",
     "text": [
      "{'the': 2, 'quick': 1, 'brown': 1, 'fox': 1, 'jumps': 1, 'over': 1, 'lazy': 1, 'dog.': 1}\n"
     ]
    }
   ],
   "source": [
    "\"\"\"Count word occurrences in a sentence.\n",
    "Write a Python program to count the occurrences of each word in a given sentence.\"\"\"\n",
    "def count_char(x):\n",
    "    z={}\n",
    "    for i in x.split(' '):\n",
    "        if i not in z:\n",
    "            z[i]=1\n",
    "        else:\n",
    "            z[i]+=1\n",
    "    return z\n",
    "x='the quick brown fox jumps over the lazy dog.'\n",
    "print(count_char(x))"
   ]
  },
  {
   "cell_type": "code",
   "execution_count": 57,
   "id": "541368ff-752a-4f27-95ea-328e466b1185",
   "metadata": {},
   "outputs": [
    {
     "name": "stdout",
     "output_type": "stream",
     "text": [
      "(('Lower Case :- ', 'pawan yadav'), ('Upper Case :- ', 'PAWAN YADAV'))\n"
     ]
    }
   ],
   "source": [
    "'''Display input in upper and lower case.\n",
    "Write a Python script that takes input from the user and displays that input back in upper and lower cases.'''\n",
    "def upper_lower(x):\n",
    "    y='Upper Case :- ',x.upper()\n",
    "    z='Lower Case :- ',x.lower()\n",
    "    return z,y\n",
    "x='pawan YADAV'\n",
    "print(upper_lower(x))"
   ]
  },
  {
   "cell_type": "code",
   "execution_count": 59,
   "id": "e8b3089c-6256-479d-866f-0315096194fa",
   "metadata": {},
   "outputs": [
    {
     "name": "stdin",
     "output_type": "stream",
     "text": [
      "Input Comma_Separated sequence of words:-  red,white,black,green,red\n"
     ]
    },
    {
     "name": "stdout",
     "output_type": "stream",
     "text": [
      "black,green,red,white\n"
     ]
    }
   ],
   "source": [
    "'''Write a Python program that accepts a comma-separated sequence of words as input and prints the distinct words in sorted form (alphanumerically).\n",
    "Sample Words : red, white, black, red, green, black\n",
    "Expected Result : black, green, red, white,red'''\n",
    "def sort_words(x):\n",
    "    words=[word for word in x.split(',')]\n",
    "    return ','.join(sorted(list(set(words))))\n",
    "x=input('Input Comma_Separated sequence of words:- ')\n",
    "print(sort_words(x))"
   ]
  },
  {
   "cell_type": "code",
   "execution_count": 67,
   "id": "2ad00ff9-772e-4896-be4f-7da101856aee",
   "metadata": {},
   "outputs": [
    {
     "name": "stdout",
     "output_type": "stream",
     "text": [
      "</b>Python</b>\n"
     ]
    }
   ],
   "source": [
    "'''Write a Python function to create an HTML string with tags around the word(s).\n",
    "Sample function and result :\n",
    "add_tags('i', 'Python') -> '<i>Python</i>'\n",
    "add_tags('b', 'Python Tutorial') -> '<b>Python Tutorial </b>'''\n",
    "def add_tag(tag,x):\n",
    "    z=f\"</{tag}>{x}</{tag}>\"\n",
    "    return z\n",
    "tag='b'\n",
    "x='Python'\n",
    "print(add_tag(tag,x))"
   ]
  },
  {
   "cell_type": "code",
   "execution_count": 77,
   "id": "e4a60f04-7831-4f4e-8b4b-4bd2deda5662",
   "metadata": {},
   "outputs": [
    {
     "name": "stdout",
     "output_type": "stream",
     "text": [
      "[[Python]]\n"
     ]
    }
   ],
   "source": [
    "'''Insert string into middle of another.\n",
    "Write a Python function to insert a string in the middle of a string.\n",
    "Sample function and result :\n",
    "insert_sting_middle('[[]]<<>>', 'Python') -> [[Python]]\n",
    "insert_sting_middle('{{}}', 'PHP') -> {{PHP}}'''\n",
    "def add_string(x,y):\n",
    "    n=len(x)\n",
    "    z=n//2\n",
    "    return x[:z]+y+x[z::]\n",
    "x='[[]]'\n",
    "y='Python'\n",
    "print(add_string(x,y))"
   ]
  },
  {
   "cell_type": "code",
   "execution_count": 85,
   "id": "fa46698a-7a69-4811-b0d9-607ca9b73089",
   "metadata": {},
   "outputs": [
    {
     "name": "stdout",
     "output_type": "stream",
     "text": [
      "onononon\n",
      "abababab\n"
     ]
    }
   ],
   "source": [
    "'''Repeat last 2 chars of a string 4 times.\n",
    "Write a Python function to get a string made of 4 copies of the last two characters of a specified string (length must be at least 2).\n",
    "Sample function and result :\n",
    "insert_end('Python') -> onononon\n",
    "insert_end('Exercises') -> eseseses'''\n",
    "def add_copies(x):\n",
    "    if len(x)<2:\n",
    "        return x\n",
    "    z=x[-2::1]\n",
    "    return z*4\n",
    "x='Python'\n",
    "print(add_copies(x))\n",
    "print(add_copies('ab'))"
   ]
  },
  {
   "cell_type": "code",
   "execution_count": 89,
   "id": "917fe2b7-5b8c-4c94-ad59-527f15d11255",
   "metadata": {},
   "outputs": [
    {
     "name": "stdout",
     "output_type": "stream",
     "text": [
      "Pyt\n",
      "ipc\n"
     ]
    }
   ],
   "source": [
    "'''Get first 3 chars of a string.\n",
    "Write a Python function to get a string made of the first three characters of a specified string. If the length of the string is less than 3, return the original string.\n",
    "Sample function and result :\n",
    "first_three('ipy') -> ipy\n",
    "first_three('python') -> pyt'''\n",
    "def first_three_char(x):\n",
    "    if len(x)<=3:\n",
    "        return x\n",
    "    return x[:3]\n",
    "print(first_three_char('Python'))\n",
    "print(first_three_char('ipc'))"
   ]
  },
  {
   "cell_type": "code",
   "execution_count": 93,
   "id": "e1e9ab33-c676-4420-914e-4e531a66ae5c",
   "metadata": {},
   "outputs": [
    {
     "name": "stdout",
     "output_type": "stream",
     "text": [
      "https://linktr.ee\n",
      "https://linktr.ee/2000yadav22\n"
     ]
    }
   ],
   "source": [
    "''' Get substring before a specific character.\n",
    "Write a Python program to get the last part of a string before a specified character.\n",
    "https://www.w3resource.com/python-exercises\n",
    "https://www.w3resource.com/python'''\n",
    "str1 = 'https://linktr.ee/2000yadav22'\n",
    "print(str1.rsplit('/', 1)[0])\n",
    "print(str1.rsplit('-', 1)[0])"
   ]
  },
  {
   "cell_type": "code",
   "execution_count": null,
   "id": "f0c725a8-f624-4a44-b14c-13664602af15",
   "metadata": {},
   "outputs": [],
   "source": []
  }
 ],
 "metadata": {
  "kernelspec": {
   "display_name": "Python 3 (ipykernel)",
   "language": "python",
   "name": "python3"
  },
  "language_info": {
   "codemirror_mode": {
    "name": "ipython",
    "version": 3
   },
   "file_extension": ".py",
   "mimetype": "text/x-python",
   "name": "python",
   "nbconvert_exporter": "python",
   "pygments_lexer": "ipython3",
   "version": "3.12.7"
  },
  "widgets": {
   "application/vnd.jupyter.widget-state+json": {
    "state": {},
    "version_major": 2,
    "version_minor": 0
   }
  }
 },
 "nbformat": 4,
 "nbformat_minor": 5
}
