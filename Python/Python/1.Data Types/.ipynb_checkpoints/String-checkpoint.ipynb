{
 "cells": [
  {
   "cell_type": "code",
   "execution_count": 9,
   "id": "7d7b985d-c2a6-4d01-86b9-f7116707c3c1",
   "metadata": {},
   "outputs": [
    {
     "name": "stdout",
     "output_type": "stream",
     "text": [
      "The length of given string using in-built function:-  11\n",
      "The length of given string using Logic:-  11\n"
     ]
    }
   ],
   "source": [
    "# Write a Python program to calculate the length of a string.\n",
    "string='Pawan Yadav'\n",
    "# Using inbuilt function\n",
    "print('The length of given string using in-built function:- ',len(string))\n",
    "# Using Logic.\n",
    "count=0\n",
    "for i in string:\n",
    "    count+=1\n",
    "print('The length of given string using Logic:- ',count)"
   ]
  },
  {
   "cell_type": "code",
   "execution_count": 25,
   "id": "b8cca572-e043-4532-800f-1e6d3cb34473",
   "metadata": {},
   "outputs": [
    {
     "name": "stdout",
     "output_type": "stream",
     "text": [
      "Character Frequency:= {'g': 2, 'o': 3, 'l': 1, 'e': 1, '.': 1, 'c': 1, 'm': 1}\n"
     ]
    }
   ],
   "source": [
    "'''Write a Python program to count the number of characters (character frequency) in a string.\n",
    "Sample String : google.com'\n",
    "Expected Result : {'g': 2, 'o': 3, 'l': 1, 'e': 1, '.': 1, 'c': 1, 'm': 1}'''\n",
    "sample_string='google.com'\n",
    "occurance={}\n",
    "for i in sample_string:\n",
    "    if i not in occurance:\n",
    "        occurance[i]=1\n",
    "    elif i in occurance:\n",
    "        occurance[i]+=1\n",
    "print('Character Frequency:=',occurance)"
   ]
  },
  {
   "cell_type": "code",
   "execution_count": 43,
   "id": "fcd95053-0dd4-40e9-bf0d-9fdacb68ed32",
   "metadata": {},
   "outputs": [
    {
     "name": "stdout",
     "output_type": "stream",
     "text": [
      "w3ce\n"
     ]
    }
   ],
   "source": [
    "'''Write a Python program to get a string made of the first 2 and last 2 characters of a given string. If the string length is less than 2, return the empty string instead.\n",
    "Sample String : 'w3resource'\n",
    "Expected Result : w3ce'''\n",
    "sample_string='w3resource'\n",
    "if len(sample_string)<2:\n",
    "    print('\"\"')\n",
    "else:\n",
    "    print(sample_string[:2]+sample_string[-2::1])"
   ]
  },
  {
   "cell_type": "code",
   "execution_count": 45,
   "id": "d856c939-f50a-411b-a99b-06f4210e40f2",
   "metadata": {},
   "outputs": [
    {
     "name": "stdout",
     "output_type": "stream",
     "text": [
      "resta$t\n"
     ]
    }
   ],
   "source": [
    "'''Write a Python program to get a string from a given string where all occurrences of its first char have been changed to '$', except the first char itself.\n",
    "Sample String : 'restart'\n",
    "Expected Result : resta$t'''\n",
    "s='restart'\n",
    "x=''\n",
    "for i in s:\n",
    "    if i not in x:\n",
    "        x+=i\n",
    "    else:\n",
    "        x+='$'\n",
    "        break\n",
    "x=x+s[len(x)::]\n",
    "print(x)"
   ]
  },
  {
   "cell_type": "code",
   "execution_count": 49,
   "id": "66302237-3703-4445-b382-d4bf78a54746",
   "metadata": {},
   "outputs": [
    {
     "name": "stdout",
     "output_type": "stream",
     "text": [
      "xyc abz\n"
     ]
    }
   ],
   "source": [
    "'''Write a Python program to get a single string from two given strings, separated by a space and swap the first two characters of each string.\n",
    "Sample String : 'abc', 'xyz'\n",
    "Expected Result : xyc abz'''\n",
    "s,x='abc','xyz'\n",
    "result=x[:2]+s[2::]+' '+s[:2]+x[2::]\n",
    "print(result)"
   ]
  },
  {
   "cell_type": "code",
   "execution_count": null,
   "id": "6b33e931-c8b8-4738-8feb-0c65f4026952",
   "metadata": {},
   "outputs": [],
   "source": []
  }
 ],
 "metadata": {
  "kernelspec": {
   "display_name": "Python 3 (ipykernel)",
   "language": "python",
   "name": "python3"
  },
  "language_info": {
   "codemirror_mode": {
    "name": "ipython",
    "version": 3
   },
   "file_extension": ".py",
   "mimetype": "text/x-python",
   "name": "python",
   "nbconvert_exporter": "python",
   "pygments_lexer": "ipython3",
   "version": "3.12.7"
  },
  "widgets": {
   "application/vnd.jupyter.widget-state+json": {
    "state": {},
    "version_major": 2,
    "version_minor": 0
   }
  }
 },
 "nbformat": 4,
 "nbformat_minor": 5
}
