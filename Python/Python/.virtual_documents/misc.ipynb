from functools import reduce
def multiply(ar):
    return reduce(lambda x, y: x * y, ar)
def productExceptSelf(arr):
    l=[]
    if 0 in arr:
        
        for i in arr:
            c=multiply(arr1)
            l.append(c)
        return l


arr=[10, 3, 5, 6, 2]
# multiply(arr)
productExceptSelf(arr)



