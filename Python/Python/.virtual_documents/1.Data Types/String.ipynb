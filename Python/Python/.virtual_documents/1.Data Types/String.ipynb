# Write a Python program to calculate the length of a string.
string='Pawan Yadav'
# Using inbuilt function
print('The length of given string using in-built function:- ',len(string))
# Using Logic.
count=0
for i in string:
    count+=1
print('The length of given string using Logic:- ',count)


'''Write a Python program to count the number of characters (character frequency) in a string.
Sample String : google.com'
Expected Result : {'g': 2, 'o': 3, 'l': 1, 'e': 1, '.': 1, 'c': 1, 'm': 1}'''
sample_string='google.com'
occurance={}
for i in sample_string:
    if i not in occurance:
        occurance[i]=1
    elif i in occurance:
        occurance[i]+=1
print('Character Frequency:=',occurance)


'''Write a Python program to get a string made of the first 2 and last 2 characters of a given string. If the string length is less than 2, return the empty string instead.
Sample String : 'w3resource'
Expected Result : w3ce'''
sample_string='w3resource'
if len(sample_string)<2:
    print('""')
else:
    print(sample_string[:2]+sample_string[-2::1])


'''Write a Python program to get a string from a given string where all occurrences of its first char have been changed to '$', except the first char itself.
Sample String : 'restart'
Expected Result : resta$t'''
s='restart'
x=''
for i in s:
    if i not in x:
        x+=i
    else:
        x+='$'
        break
x=x+s[len(x)::]
print(x)


'''Write a Python program to get a single string from two given strings, separated by a space and swap the first two characters of each string.
Sample String : 'abc', 'xyz'
Expected Result : xyc abz'''
s,x='abc','xyz'
result=x[:2]+s[2::]+' '+s[:2]+x[2::]
print(result)


# Add ing or ly to a string.
'''Write a Python program to add 'ing' at the end of a given string (length should be at least 3). If the given string already ends with 'ing', add 'ly' instead. If the string length of the given string is less than 3, leave it unchanged.
Sample String : 'abc'
Expected Result : abcing'''
def add_ing(x):
    if len(x)<3:
        return x
    elif x[-3::1]=='ing':
        x+='ly'
    else:
        x+='ing'
    return x
print(add_ing('abc'))


"""Write a Python program to find the first appearance of the substrings 'not' and 'poor' in a given string. If 'not' follows 'poor', replace the whole 'not'...'poor' substring with 'good'. Return the resulting string.
Sample String : 'The lyrics is not that poor!'
Expected Result : 'The lyrics is good!"""
def replace_substring(x):
    snot=x.find('not')
    spoor=x.find('poor')
    if spoor>snot and snot>0 and spoor>0:
        x=x.replace(x[snot:(spoor+4)],'good')
        return x
    else:
        return x
x='The lyrics is not that poor!'
print(replace_substring(x))


"""Write a Python function that takes a list of words and return the longest word and the length of the longest one.
Sample Output:
Longest word: Exercises
Length of the longest word: 9"""
class String():
    def longest_word(li):
        z=[len(i) for i in li]
        return max(z)



