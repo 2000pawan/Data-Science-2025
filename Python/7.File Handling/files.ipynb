{
 "cells": [
  {
   "cell_type": "code",
   "execution_count": 32,
   "id": "7c4b211f-4ea3-4806-8421-1d5ebcc94fc2",
   "metadata": {},
   "outputs": [
    {
     "name": "stdout",
     "output_type": "stream",
     "text": [
      "PAWA\n"
     ]
    }
   ],
   "source": [
    "file=open(\"G:/Coding/Git Uploads/Data Science 2025/abc.txt\",'r')\n",
    "f=file.read(4)\n",
    "# for i in f:\n",
    "#     print(i)\n",
    "print(f)\n",
    "file.close()"
   ]
  },
  {
   "cell_type": "code",
   "execution_count": null,
   "id": "87f9554a-6da1-4fce-acd9-1763364a8d9d",
   "metadata": {},
   "outputs": [],
   "source": []
  }
 ],
 "metadata": {
  "kernelspec": {
   "display_name": "Python 3 (ipykernel)",
   "language": "python",
   "name": "python3"
  },
  "language_info": {
   "codemirror_mode": {
    "name": "ipython",
    "version": 3
   },
   "file_extension": ".py",
   "mimetype": "text/x-python",
   "name": "python",
   "nbconvert_exporter": "python",
   "pygments_lexer": "ipython3",
   "version": "3.12.7"
  }
 },
 "nbformat": 4,
 "nbformat_minor": 5
}
