from functools import reduce

class Solution:
    def productExceptSelf(self, arr):
        l = []
        # Count the number of zeros in the array
        zero_count = arr.count(0)
        
        # If more than one zero, all products will be zero
        if zero_count > 1:
            return [0] * len(arr)
        
        # Calculate the product of non-zero elements
        c = reduce(lambda i, j: i * j, [x for x in arr if x != 0], 1)
        
        for i in arr:
            if zero_count == 1:
                # If one zero, only the position of the zero gets the product
                if i == 0:
                    l.append(c)
                else:
                    l.append(0)
            else:
                # Normal case with no zeros
                l.append(c // i)
        
        return l


arr=[10, 3, 5, 6, 0]
res=Solution()
res.productExceptSelf(arr)


s='abc'
s.isdigit()
s.index('a')


# x=[]
# s='zac34'
# c=''
# n=len(s)
# for i in range(0,n):
#     if s[i].isdigit()==True:
#         x.append(i)
# for i in x:class Solution:
#     def clearDigits(self, s: str) -> str:
#         s = list(s)  # Convert the string to a list for easy modification

#         i = 0
#         while i < len(s):
#             if s[i].isdigit():  # Found a digit
#                 # Remove the closest non-digit to the left if it exists
#                 j = i - 1
#                 while j >= 0 and not s[j].isalpha():
#                     j -= 1

#                 # Remove the digit and the left character if it exists
#                 if j >= 0:
#                     s.pop(j)
#                     i -= 1  # Adjust the index after pop

#                 s.pop(i)
#                 # Reset the pointer to 0 to recheck from the beginning
#                 i = 0
#             else:
#                 i += 1

#         return ''.join(s)
#     c+=s[]


arr= [5, 15, 1, 3, 2, 8]
x=[]
m=[]
for i in arr:
    x.append(i)
    x.sort()
    if len(x)%2==0:
        a=len(x)//2
        c=(x[a-1]+x[a])//2
        m.append(float(c))
    else:
        z=len(x)//2
        # print(z)
        m.append(float(x[z]))
m



