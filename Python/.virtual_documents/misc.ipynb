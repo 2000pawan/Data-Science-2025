from functools import reduce

class Solution:
    def productExceptSelf(self, arr):
        l = []
        # Count the number of zeros in the array
        zero_count = arr.count(0)
        
        # If more than one zero, all products will be zero
        if zero_count > 1:
            return [0] * len(arr)
        
        # Calculate the product of non-zero elements
        c = reduce(lambda i, j: i * j, [x for x in arr if x != 0], 1)
        
        for i in arr:
            if zero_count == 1:
                # If one zero, only the position of the zero gets the product
                if i == 0:
                    l.append(c)
                else:
                    l.append(0)
            else:
                # Normal case with no zeros
                l.append(c // i)
        
        return l


arr=[10, 3, 5, 6, 0]
res=Solution()
res.productExceptSelf(arr)


s='abc'
s.isdigit()


x=['a','c','3','4']
s=''
for i in range(len(s)):
    if x[i].isdigit()==True:
        x.remove(



