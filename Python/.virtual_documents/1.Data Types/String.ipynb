# Write a Python program to calculate the length of a string.
string='Pawan Yadav'
# Using inbuilt function
print('The length of given string using in-built function:- ',len(string))
# Using Logic.
count=0
for i in string:
    count+=1
print('The length of given string using Logic:- ',count)


'''Write a Python program to count the number of characters (character frequency) in a string.
Sample String : google.com'
Expected Result : {'g': 2, 'o': 3, 'l': 1, 'e': 1, '.': 1, 'c': 1, 'm': 1}'''
sample_string='google.com'
occurance={}
for i in sample_string:
    if i not in occurance:
        occurance[i]=1
    elif i in occurance:
        occurance[i]+=1
print('Character Frequency:=',occurance)


'''Write a Python program to get a string made of the first 2 and last 2 characters of a given string. If the string length is less than 2, return the empty string instead.
Sample String : 'w3resource'
Expected Result : w3ce'''
sample_string='w3resource'
if len(sample_string)<2:
    print('""')
else:
    print(sample_string[:2]+sample_string[-2::1])


'''Write a Python program to get a string from a given string where all occurrences of its first char have been changed to '$', except the first char itself.
Sample String : 'restart'
Expected Result : resta$t'''
s='restart'
x=''
for i in s:
    if i not in x:
        x+=i
    else:
        x+='$'
        break
x=x+s[len(x)::]
print(x)


'''Write a Python program to get a single string from two given strings, separated by a space and swap the first two characters of each string.
Sample String : 'abc', 'xyz'
Expected Result : xyc abz'''
s,x='abc','xyz'
result=x[:2]+s[2::]+' '+s[:2]+x[2::]
print(result)


# Add ing or ly to a string.
'''Write a Python program to add 'ing' at the end of a given string (length should be at least 3). If the given string already ends with 'ing', add 'ly' instead. If the string length of the given string is less than 3, leave it unchanged.
Sample String : 'abc'
Expected Result : abcing'''
def add_ing(x):
    if len(x)<3:
        return x
    elif x[-3::1]=='ing':
        x+='ly'
    else:
        x+='ing'
    return x
print(add_ing('abc'))


"""Write a Python program to find the first appearance of the substrings 'not' and 'poor' in a given string. If 'not' follows 'poor', replace the whole 'not'...'poor' substring with 'good'. Return the resulting string.
Sample String : 'The lyrics is not that poor!'
Expected Result : 'The lyrics is good!"""
def replace_substring(x):
    snot=x.find('not')
    spoor=x.find('poor')
    if spoor>snot and snot>0 and spoor>0:
        x=x.replace(x[snot:(spoor+4)],'good')
        return x
    else:
        return x
x='The lyrics is not that poor!'
print(replace_substring(x))


"""Write a Python function that takes a list of words and return the longest word and the length of the longest one.
Sample Output:
Longest word: Exercises
Length of the longest word: 9"""
class String():
    def __init_(self):
        pass
    # @staticmethod
    def longest_word(self,li):
        z=[len(i) for i in li]
        c=z.index(max(z))
        print("Longest Word:- ",li[c])
        print("Length of Longest word:- ", max(z))
res=String()
x=['Pawan','Exercise','Examination','Result','Good']
res.longest_word(x)


'''Remove nth character from a string.
Write a Python program to remove the nth index character from a nonempty string.'''
def find_char(x,n):
    return x[:n]+x[n+1::]
x='Pawan Yadav'
n=5
print(find_char(x,n))


''' Remove odd index chars from a string.
Write a Python program to remove characters that have odd index values in a given string.'''
def remove_char(x):
    return x[::2]
x='Pawan Yadav'
print(remove_char(x))


"""Count word occurrences in a sentence.
Write a Python program to count the occurrences of each word in a given sentence."""
def count_char(x):
    z={}
    for i in x.split(' '):
        if i not in z:
            z[i]=1
        else:
            z[i]+=1
    return z
x='the quick brown fox jumps over the lazy dog.'
print(count_char(x))


'''Display input in upper and lower case.
Write a Python script that takes input from the user and displays that input back in upper and lower cases.'''
def upper_lower(x):
    y='Upper Case :- ',x.upper()
    z='Lower Case :- ',x.lower()
    return z,y
x='pawan YADAV'
print(upper_lower(x))


'''Write a Python program that accepts a comma-separated sequence of words as input and prints the distinct words in sorted form (alphanumerically).
Sample Words : red, white, black, red, green, black
Expected Result : black, green, red, white,red'''
def sort_words(x):
    words=[word for word in x.split(',')]
    return ','.join(sorted(list(set(words))))
x=input('Input Comma_Separated sequence of words:- ')
print(sort_words(x))


'''Write a Python function to create an HTML string with tags around the word(s).
Sample function and result :
add_tags('i', 'Python') -> '<i>Python</i>'
add_tags('b', 'Python Tutorial') -> '<b>Python Tutorial </b>'''
def add_tag(tag,x):
    z=f"</{tag}>{x}</{tag}>"
    return z
tag='b'
x='Python'
print(add_tag(tag,x))


'''Insert string into middle of another.
Write a Python function to insert a string in the middle of a string.
Sample function and result :
insert_sting_middle('[[]]<<>>', 'Python') -> [[Python]]
insert_sting_middle('{{}}', 'PHP') -> {{PHP}}'''
def add_string(x,y):
    n=len(x)
    z=n//2
    return x[:z]+y+x[z::]
x='[[]]'
y='Python'
print(add_string(x,y))


'''Repeat last 2 chars of a string 4 times.
Write a Python function to get a string made of 4 copies of the last two characters of a specified string (length must be at least 2).
Sample function and result :
insert_end('Python') -> onononon
insert_end('Exercises') -> eseseses'''
def add_copies(x):
    if len(x)<2:
        return x
    z=x[-2::1]
    return z*4
x='Python'
print(add_copies(x))
print(add_copies('ab'))


'''Get first 3 chars of a string.
Write a Python function to get a string made of the first three characters of a specified string. If the length of the string is less than 3, return the original string.
Sample function and result :
first_three('ipy') -> ipy
first_three('python') -> pyt'''
def first_three_char(x):
    if len(x)<=3:
        return x
    return x[:3]
print(first_three_char('Python'))
print(first_three_char('ipc'))


''' Get substring before a specific character.
Write a Python program to get the last part of a string before a specified character.
https://www.w3resource.com/python-exercises
https://www.w3resource.com/python'''
str1 = 'https://www.w3resource.com/python-exercises/string'
print(str1.rsplit('/', 1)[0])
print(str1.rsplit('-', 1)[0])



