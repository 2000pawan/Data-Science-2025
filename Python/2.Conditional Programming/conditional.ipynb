{
 "cells": [
  {
   "cell_type": "code",
   "execution_count": 3,
   "id": "6b00b027-a6d2-46a2-a4c3-7c6a0cecaf84",
   "metadata": {},
   "outputs": [
    {
     "name": "stdout",
     "output_type": "stream",
     "text": [
      "1505,1540,1575,1610,1645,1680,1715,1750,1785,1820,1855,1890,1925,1960,1995,2030,2065,2100,2135,2170,2205,2240,2275,2310,2345,2380,2415,2450,2485,2520,2555,2590,2625,2660,2695\n"
     ]
    }
   ],
   "source": [
    "li=[]\n",
    "for i in range(1500,2701):\n",
    "    if i%7==0 and i%5==0:\n",
    "        li.append(str(i))\n",
    "print(','.join(li))"
   ]
  },
  {
   "cell_type": "code",
   "execution_count": 37,
   "id": "47c6d7da-0b4c-42ea-81f6-d6aa7288f07d",
   "metadata": {},
   "outputs": [
    {
     "name": "stdin",
     "output_type": "stream",
     "text": [
      "Enter temp 104\n",
      "degree in c or f f\n"
     ]
    },
    {
     "name": "stdout",
     "output_type": "stream",
     "text": [
      "104°F is 40 degrees in Celsius\n"
     ]
    }
   ],
   "source": [
    "temp=int(input('Enter temp'))\n",
    "degree=input('degree in c or f').upper()\n",
    "if degree not in ['F','C']:\n",
    "    print('you enter wrong temp format')\n",
    "elif degree=='C':\n",
    "    tem=int((temp/5)*9+32)\n",
    "    print(f'{temp}°{degree} is {tem}degrees in Fahrenheit')\n",
    "else:\n",
    "    tem=int((temp-32)*(5/9))\n",
    "    print(f'{temp}°{degree} is {tem} degrees in Celsius')\n",
    "         "
   ]
  },
  {
   "cell_type": "code",
   "execution_count": 45,
   "id": "9d31529c-6ca2-4805-b465-a6e2f25cef22",
   "metadata": {},
   "outputs": [
    {
     "name": "stdout",
     "output_type": "stream",
     "text": [
      "4\n"
     ]
    },
    {
     "name": "stdin",
     "output_type": "stream",
     "text": [
      "Enter your guess:-  2\n"
     ]
    },
    {
     "name": "stdout",
     "output_type": "stream",
     "text": [
      "Your Guess is incorrect! please try again\n"
     ]
    },
    {
     "name": "stdin",
     "output_type": "stream",
     "text": [
      "Enter your guess:-  5\n"
     ]
    },
    {
     "name": "stdout",
     "output_type": "stream",
     "text": [
      "Your Guess is incorrect! please try again\n"
     ]
    },
    {
     "name": "stdin",
     "output_type": "stream",
     "text": [
      "Enter your guess:-  6\n"
     ]
    },
    {
     "name": "stdout",
     "output_type": "stream",
     "text": [
      "Your Guess is incorrect! please try again\n"
     ]
    },
    {
     "name": "stdin",
     "output_type": "stream",
     "text": [
      "Enter your guess:-  4\n"
     ]
    },
    {
     "name": "stdout",
     "output_type": "stream",
     "text": [
      "Your Guess is correct!\n"
     ]
    }
   ],
   "source": [
    "import random\n",
    "number=random.randint(1,10)\n",
    "print(number)\n",
    "for i in range(5):\n",
    "    guess=int(input('Enter your guess:- '))\n",
    "    if guess==number:\n",
    "        print('Your Guess is correct!')\n",
    "        break\n",
    "    else:\n",
    "        print('Your Guess is incorrect! please try again')\n",
    "else:\n",
    "    print('Your Limnit is over!')"
   ]
  },
  {
   "cell_type": "code",
   "execution_count": 49,
   "id": "97279872-f4d8-450b-9a1a-1d06f248d19f",
   "metadata": {},
   "outputs": [
    {
     "name": "stdout",
     "output_type": "stream",
     "text": [
      "* \n",
      "* * \n",
      "* * * \n",
      "* * * * \n",
      "* * * * * \n",
      "* * * * \n",
      "* * * \n",
      "* * \n",
      "* \n"
     ]
    }
   ],
   "source": [
    "for i in range(1,6):\n",
    "    print('* '*i)\n",
    "for j in range(4,0,-1):\n",
    "    print('* '*j)"
   ]
  },
  {
   "cell_type": "code",
   "execution_count": 84,
   "id": "f6bc76e5-1b9d-4395-931a-19574aea7d4f",
   "metadata": {},
   "outputs": [
    {
     "name": "stdin",
     "output_type": "stream",
     "text": [
      "Enter string separated with , :- c,c++,java,python\n"
     ]
    },
    {
     "name": "stdout",
     "output_type": "stream",
     "text": [
      "['python', 'java', 'c++', 'c']\n"
     ]
    }
   ],
   "source": [
    "li=input('Enter string separated with , :-').split(',')\n",
    "li.reverse()\n",
    "print(li)"
   ]
  },
  {
   "cell_type": "code",
   "execution_count": 86,
   "id": "6a02edc0-2487-42d6-b3e4-daafe0944bc3",
   "metadata": {},
   "outputs": [
    {
     "name": "stdin",
     "output_type": "stream",
     "text": [
      "Enter a word:-  welcome\n"
     ]
    },
    {
     "name": "stdout",
     "output_type": "stream",
     "text": [
      "emoclew\n"
     ]
    }
   ],
   "source": [
    "x=input('Enter a word:- ')\n",
    "print(x[-1::-1])"
   ]
  },
  {
   "cell_type": "code",
   "execution_count": 88,
   "id": "7428403c-b754-4dd0-8fb8-24ed0691bc5c",
   "metadata": {},
   "outputs": [
    {
     "name": "stdout",
     "output_type": "stream",
     "text": [
      "0\n",
      "1\n",
      "2\n",
      "4\n",
      "5\n"
     ]
    }
   ],
   "source": [
    "for i in range(0,7):\n",
    "    if i==3 or i==6:\n",
    "        continue\n",
    "    print(i)"
   ]
  },
  {
   "cell_type": "code",
   "execution_count": 116,
   "id": "502029a1-6440-42fd-8fbe-f30ede2f8029",
   "metadata": {},
   "outputs": [
    {
     "name": "stdout",
     "output_type": "stream",
     "text": [
      "1\n",
      "1\n",
      "2\n",
      "3\n",
      "5\n",
      "8\n",
      "13\n",
      "21\n",
      "34\n"
     ]
    }
   ],
   "source": [
    "x,y=0,1\n",
    "while y<50:\n",
    "    print(y)\n",
    "    x,y=y,x+y"
   ]
  },
  {
   "cell_type": "code",
   "execution_count": 120,
   "id": "4d606afe-5962-4f16-b5f0-aa76524be1f6",
   "metadata": {},
   "outputs": [
    {
     "name": "stdout",
     "output_type": "stream",
     "text": [
      "Number of even numbers :-  4\n",
      "Number of odd numbers :-  5\n"
     ]
    }
   ],
   "source": [
    "li=[i for i in range(1,10)]\n",
    "even,odd=0,0\n",
    "for i in li:\n",
    "    if i%2==0:\n",
    "        even+=1\n",
    "    else:\n",
    "        odd+=1\n",
    "print('Number of even numbers :- ',even) \n",
    "print('Number of odd numbers :- ',odd)"
   ]
  },
  {
   "cell_type": "code",
   "execution_count": null,
   "id": "0b8020c8-03b1-49de-b834-9d08be9486ec",
   "metadata": {},
   "outputs": [],
   "source": []
  }
 ],
 "metadata": {
  "kernelspec": {
   "display_name": "Python 3 (ipykernel)",
   "language": "python",
   "name": "python3"
  },
  "language_info": {
   "codemirror_mode": {
    "name": "ipython",
    "version": 3
   },
   "file_extension": ".py",
   "mimetype": "text/x-python",
   "name": "python",
   "nbconvert_exporter": "python",
   "pygments_lexer": "ipython3",
   "version": "3.12.7"
  }
 },
 "nbformat": 4,
 "nbformat_minor": 5
}
