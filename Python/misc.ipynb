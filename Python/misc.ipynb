{
 "cells": [
  {
   "cell_type": "code",
   "execution_count": 2,
   "id": "47cad364-fa7e-4758-b06b-e77fda886672",
   "metadata": {},
   "outputs": [],
   "source": [
    "from functools import reduce\n",
    "\n",
    "class Solution:\n",
    "    def productExceptSelf(self, arr):\n",
    "        l = []\n",
    "        # Count the number of zeros in the array\n",
    "        zero_count = arr.count(0)\n",
    "        \n",
    "        # If more than one zero, all products will be zero\n",
    "        if zero_count > 1:\n",
    "            return [0] * len(arr)\n",
    "        \n",
    "        # Calculate the product of non-zero elements\n",
    "        c = reduce(lambda i, j: i * j, [x for x in arr if x != 0], 1)\n",
    "        \n",
    "        for i in arr:\n",
    "            if zero_count == 1:\n",
    "                # If one zero, only the position of the zero gets the product\n",
    "                if i == 0:\n",
    "                    l.append(c)\n",
    "                else:\n",
    "                    l.append(0)\n",
    "            else:\n",
    "                # Normal case with no zeros\n",
    "                l.append(c // i)\n",
    "        \n",
    "        return l"
   ]
  },
  {
   "cell_type": "code",
   "execution_count": 9,
   "id": "a6c075e1-0c14-42e8-92d9-b8b1c5135c04",
   "metadata": {},
   "outputs": [
    {
     "data": {
      "text/plain": [
       "[0, 0, 0, 0, 900]"
      ]
     },
     "execution_count": 9,
     "metadata": {},
     "output_type": "execute_result"
    }
   ],
   "source": [
    "arr=[10, 3, 5, 6, 0]\n",
    "res=Solution()\n",
    "res.productExceptSelf(arr)"
   ]
  },
  {
   "cell_type": "code",
   "execution_count": null,
   "id": "1f0422c2-2c74-469a-868f-46be954baab7",
   "metadata": {},
   "outputs": [],
   "source": []
  }
 ],
 "metadata": {
  "kernelspec": {
   "display_name": "Python 3 (ipykernel)",
   "language": "python",
   "name": "python3"
  },
  "language_info": {
   "codemirror_mode": {
    "name": "ipython",
    "version": 3
   },
   "file_extension": ".py",
   "mimetype": "text/x-python",
   "name": "python",
   "nbconvert_exporter": "python",
   "pygments_lexer": "ipython3",
   "version": "3.12.7"
  }
 },
 "nbformat": 4,
 "nbformat_minor": 5
}
