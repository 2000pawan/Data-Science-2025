{
 "cells": [
  {
   "cell_type": "code",
   "execution_count": 2,
   "id": "47cad364-fa7e-4758-b06b-e77fda886672",
   "metadata": {},
   "outputs": [],
   "source": [
    "from functools import reduce\n",
    "\n",
    "class Solution:\n",
    "    def productExceptSelf(self, arr):\n",
    "        l = []\n",
    "        # Count the number of zeros in the array\n",
    "        zero_count = arr.count(0)\n",
    "        \n",
    "        # If more than one zero, all products will be zero\n",
    "        if zero_count > 1:\n",
    "            return [0] * len(arr)\n",
    "        \n",
    "        # Calculate the product of non-zero elements\n",
    "        c = reduce(lambda i, j: i * j, [x for x in arr if x != 0], 1)\n",
    "        \n",
    "        for i in arr:\n",
    "            if zero_count == 1:\n",
    "                # If one zero, only the position of the zero gets the product\n",
    "                if i == 0:\n",
    "                    l.append(c)\n",
    "                else:\n",
    "                    l.append(0)\n",
    "            else:\n",
    "                # Normal case with no zeros\n",
    "                l.append(c // i)\n",
    "        \n",
    "        return l"
   ]
  },
  {
   "cell_type": "code",
   "execution_count": 9,
   "id": "a6c075e1-0c14-42e8-92d9-b8b1c5135c04",
   "metadata": {},
   "outputs": [
    {
     "data": {
      "text/plain": [
       "[0, 0, 0, 0, 900]"
      ]
     },
     "execution_count": 9,
     "metadata": {},
     "output_type": "execute_result"
    }
   ],
   "source": [
    "arr=[10, 3, 5, 6, 0]\n",
    "res=Solution()\n",
    "res.productExceptSelf(arr)"
   ]
  },
  {
   "cell_type": "code",
   "execution_count": 24,
   "id": "1f0422c2-2c74-469a-868f-46be954baab7",
   "metadata": {},
   "outputs": [
    {
     "data": {
      "text/plain": [
       "0"
      ]
     },
     "execution_count": 24,
     "metadata": {},
     "output_type": "execute_result"
    }
   ],
   "source": [
    "s='abc'\n",
    "s.isdigit()\n",
    "s.index('a')"
   ]
  },
  {
   "cell_type": "code",
   "execution_count": 3,
   "id": "dd880168-9bb8-4322-ad6e-0430b484c329",
   "metadata": {},
   "outputs": [],
   "source": [
    "# x=[]\n",
    "# s='zac34'\n",
    "# c=''\n",
    "# n=len(s)\n",
    "# for i in range(0,n):\n",
    "#     if s[i].isdigit()==True:\n",
    "#         x.append(i)\n",
    "# for i in x:class Solution:\n",
    "#     def clearDigits(self, s: str) -> str:\n",
    "#         s = list(s)  # Convert the string to a list for easy modification\n",
    "\n",
    "#         i = 0\n",
    "#         while i < len(s):\n",
    "#             if s[i].isdigit():  # Found a digit\n",
    "#                 # Remove the closest non-digit to the left if it exists\n",
    "#                 j = i - 1\n",
    "#                 while j >= 0 and not s[j].isalpha():\n",
    "#                     j -= 1\n",
    "\n",
    "#                 # Remove the digit and the left character if it exists\n",
    "#                 if j >= 0:\n",
    "#                     s.pop(j)\n",
    "#                     i -= 1  # Adjust the index after pop\n",
    "\n",
    "#                 s.pop(i)\n",
    "#                 # Reset the pointer to 0 to recheck from the beginning\n",
    "#                 i = 0\n",
    "#             else:\n",
    "#                 i += 1\n",
    "\n",
    "#         return ''.join(s)\n",
    "#     c+=s[]"
   ]
  },
  {
   "cell_type": "code",
   "execution_count": 43,
   "id": "16f41db5-1aa5-4288-b9ae-d55d18fecc54",
   "metadata": {},
   "outputs": [
    {
     "data": {
      "text/plain": [
       "[5.0, 10.0, 5.0, 4.0, 3.0, 4.0]"
      ]
     },
     "execution_count": 43,
     "metadata": {},
     "output_type": "execute_result"
    }
   ],
   "source": [
    "arr= [5, 15, 1, 3, 2, 8]\n",
    "x=[]\n",
    "m=[]\n",
    "for i in arr:\n",
    "    x.append(i)\n",
    "    x.sort()\n",
    "    if len(x)%2==0:\n",
    "        a=len(x)//2\n",
    "        c=(x[a-1]+x[a])//2\n",
    "        m.append(float(c))\n",
    "    else:\n",
    "        z=len(x)//2\n",
    "        # print(z)\n",
    "        m.append(float(x[z]))\n",
    "m"
   ]
  },
  {
   "cell_type": "code",
   "execution_count": 32,
   "id": "f547e96f-ea01-44f1-b3dd-b8cbecbc4ac8",
   "metadata": {},
   "outputs": [],
   "source": [
    "class Solution:\n",
    "    def pythagoreanTriplet(self, arr):\n",
    "        nums=[i*i for i in arr]\n",
    "        # return nums\n",
    "        for i in range(len(nums)):\n",
    "    \t    for j in range(i+1,len(nums)):\n",
    "                for k in range(j+1,len(nums)):\n",
    "                    if nums[i]+nums[j]==nums[k]:\n",
    "                        return True\n",
    "        return False"
   ]
  },
  {
   "cell_type": "code",
   "execution_count": 34,
   "id": "62467cc7-eccc-4174-8f47-2c5f2e728331",
   "metadata": {},
   "outputs": [
    {
     "data": {
      "text/plain": [
       "False"
      ]
     },
     "execution_count": 34,
     "metadata": {},
     "output_type": "execute_result"
    }
   ],
   "source": [
    "arr= [1,1,1]\n",
    "result=Solution()\n",
    "result.pythagoreanTriplet(arr)"
   ]
  },
  {
   "cell_type": "code",
   "execution_count": 36,
   "id": "717efc06-587a-4ef3-a4d4-4720c3e66ff2",
   "metadata": {},
   "outputs": [],
   "source": [
    "class Solution:\n",
    "    def pythagoreanTriplet(self, arr):\n",
    "        # Square each number\n",
    "        squared = [x * x for x in arr]\n",
    "        n = len(squared)\n",
    "\n",
    "        # Put all squared numbers in a set for O(1) lookup\n",
    "        square_set = set(squared)\n",
    "\n",
    "        # Check all pairs (i, j)\n",
    "        for i in range(n):\n",
    "            for j in range(i + 1, n):\n",
    "                sum_sq = squared[i] + squared[j]\n",
    "                if sum_sq in square_set:\n",
    "                    return True\n",
    "\n",
    "        return False\n"
   ]
  },
  {
   "cell_type": "code",
   "execution_count": 40,
   "id": "5a7b6f17-8acc-46c0-81a1-8916bc285c11",
   "metadata": {},
   "outputs": [
    {
     "data": {
      "text/plain": [
       "True"
      ]
     },
     "execution_count": 40,
     "metadata": {},
     "output_type": "execute_result"
    }
   ],
   "source": [
    "arr= [3, 2, 4, 6, 5]\n",
    "result=Solution()\n",
    "result.pythagoreanTriplet(arr)"
   ]
  },
  {
   "cell_type": "code",
   "execution_count": null,
   "id": "d32321b2-1009-48c7-8791-387c1c9cde7d",
   "metadata": {},
   "outputs": [],
   "source": []
  }
 ],
 "metadata": {
  "kernelspec": {
   "display_name": "Python 3 (ipykernel)",
   "language": "python",
   "name": "python3"
  },
  "language_info": {
   "codemirror_mode": {
    "name": "ipython",
    "version": 3
   },
   "file_extension": ".py",
   "mimetype": "text/x-python",
   "name": "python",
   "nbconvert_exporter": "python",
   "pygments_lexer": "ipython3",
   "version": "3.12.7"
  }
 },
 "nbformat": 4,
 "nbformat_minor": 5
}
