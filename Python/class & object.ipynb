{
 "cells": [
  {
   "cell_type": "code",
   "execution_count": 79,
   "id": "3399b524-c8a2-49e1-a0fe-32f8db5ac38c",
   "metadata": {},
   "outputs": [
    {
     "name": "stdout",
     "output_type": "stream",
     "text": [
      "17\n",
      "17\n",
      "5\n",
      "5\n"
     ]
    }
   ],
   "source": [
    "import random\n",
    "import pandas as pd\n",
    "from sklearn.model_selection import train_test_split\n",
    "def train_test(X,y,test_size,random_state=None):\n",
    "    X_train,X_test=[],[]\n",
    "    y_train,y_test=[],[]\n",
    "    df=list(zip(X,y))\n",
    "    if random_state is not None:\n",
    "        random.seed(random_state)\n",
    "    # random.shuffle(df)\n",
    "    test_size=int(test_size*len(df))\n",
    "    for i,j in df:\n",
    "        if len(X_test)<=test_size:\n",
    "            X_test.append(i)\n",
    "            y_test.append(j)\n",
    "        else:\n",
    "            X_train.append(i)\n",
    "            y_train.append(j)\n",
    "    return (X_train,X_test,y_train,y_test)\n",
    "\n",
    "df=pd.read_csv('G:/dataset/classification/fruits.csv')\n",
    "X=df.iloc[:,:-1].values\n",
    "y=df.iloc[:,-1].values\n",
    "random_state=10\n",
    "test_size=0.20\n",
    "X_train,X_test,y_train,y_test= train_test(X, y, test_size, random_state)\n",
    "print(len(X_train))\n",
    "print(len(y_train))\n",
    "print(len(X_test))\n",
    "print(len(y_test))"
   ]
  },
  {
   "cell_type": "code",
   "execution_count": 81,
   "id": "3989e36a-ad86-4240-bf59-605239e16dcd",
   "metadata": {},
   "outputs": [
    {
     "name": "stdout",
     "output_type": "stream",
     "text": [
      "17\n",
      "17\n",
      "5\n",
      "5\n"
     ]
    }
   ],
   "source": [
    "X_train, X_test, y_train, y_test = train_test_split(X, y, test_size=0.2, random_state=10)\n",
    "print(len(X_train))\n",
    "print(len(y_train))\n",
    "print(len(X_test))\n",
    "print(len(y_test))"
   ]
  },
  {
   "cell_type": "code",
   "execution_count": 1,
   "id": "cb60a115-3e78-4f15-a334-77e7ab326934",
   "metadata": {},
   "outputs": [
    {
     "name": "stdin",
     "output_type": "stream",
     "text": [
      " 13\n"
     ]
    },
    {
     "name": "stdout",
     "output_type": "stream",
     "text": [
      "       *       \n",
      "      ***      \n",
      "     *****     \n",
      "    *******    \n",
      "   *********   \n",
      "  ***********  \n",
      " ************* \n",
      "  ***********  \n",
      "   *********   \n",
      "    *******    \n",
      "     *****     \n",
      "      ***      \n",
      "       *       \n"
     ]
    }
   ],
   "source": [
    "n=int(input())\n",
    "if n%2==0:\n",
    "    n-=1\n",
    "x=n//2\n",
    "z=n%2\n",
    "for i in range(1,n+1,2):\n",
    "    print(\" \"*x,'*'*i,\" \"*x,sep=' ')\n",
    "    x-=1\n",
    "for i in range(n-2,0,-2):\n",
    "    print(\" \"*z,'*'*i,\" \"*z,sep=' ')\n",
    "    z+=1"
   ]
  },
  {
   "cell_type": "code",
   "execution_count": null,
   "id": "d83544b1-a9ac-4aff-aa07-a3be087aaaef",
   "metadata": {},
   "outputs": [],
   "source": []
  }
 ],
 "metadata": {
  "kernelspec": {
   "display_name": "Python 3 (ipykernel)",
   "language": "python",
   "name": "python3"
  },
  "language_info": {
   "codemirror_mode": {
    "name": "ipython",
    "version": 3
   },
   "file_extension": ".py",
   "mimetype": "text/x-python",
   "name": "python",
   "nbconvert_exporter": "python",
   "pygments_lexer": "ipython3",
   "version": "3.12.7"
  }
 },
 "nbformat": 4,
 "nbformat_minor": 5
}
