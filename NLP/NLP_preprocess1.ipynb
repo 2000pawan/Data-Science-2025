{
 "cells": [
  {
   "cell_type": "markdown",
   "id": "6f3c2744-7131-4290-ae72-6bc54a986d29",
   "metadata": {},
   "source": [
    "### Natural Language Processing (NLP)"
   ]
  },
  {
   "cell_type": "code",
   "execution_count": 8,
   "id": "62535ee0-26dc-4b11-86a2-2bb8da0d2afd",
   "metadata": {},
   "outputs": [],
   "source": [
    "import pandas as pd\n",
    "from nltk.tokenize import word_tokenize, sent_tokenize\n",
    "from nltk.stem import PorterStemmer,WordNetLemmatizer\n",
    "from nltk.corpus import stopwords"
   ]
  },
  {
   "cell_type": "code",
   "execution_count": 14,
   "id": "26cd5eb7-36e5-4083-8572-9ccffe47e09c",
   "metadata": {},
   "outputs": [
    {
     "data": {
      "text/plain": [
       "['food', 'is', 'good']"
      ]
     },
     "execution_count": 14,
     "metadata": {},
     "output_type": "execute_result"
    }
   ],
   "source": [
    "s=\"food is good\"\n",
    "word_tokenize(s)"
   ]
  },
  {
   "cell_type": "code",
   "execution_count": 16,
   "id": "603e00c4-4f92-4989-b393-6eb08f4df27c",
   "metadata": {},
   "outputs": [
    {
     "data": {
      "text/plain": [
       "['food', 'is', 'good']"
      ]
     },
     "execution_count": 16,
     "metadata": {},
     "output_type": "execute_result"
    }
   ],
   "source": [
    "s.split()"
   ]
  },
  {
   "cell_type": "code",
   "execution_count": 18,
   "id": "0c92e891-909e-4613-b495-e025dfc56804",
   "metadata": {},
   "outputs": [
    {
     "data": {
      "text/plain": [
       "['he is sonu and he lives in gr', 'noida', ' his age is 20']"
      ]
     },
     "execution_count": 18,
     "metadata": {},
     "output_type": "execute_result"
    }
   ],
   "source": [
    "s=\"he is sonu and he lives in gr.noida. his age is 20\"\n",
    "s.split('.')"
   ]
  },
  {
   "cell_type": "code",
   "execution_count": 20,
   "id": "295adaad-431f-4afa-a508-fcf4910013a7",
   "metadata": {},
   "outputs": [
    {
     "data": {
      "text/plain": [
       "['he is sonu and he lives in gr.noida.', 'his age is 20']"
      ]
     },
     "execution_count": 20,
     "metadata": {},
     "output_type": "execute_result"
    }
   ],
   "source": [
    "sent_tokenize(s)"
   ]
  },
  {
   "cell_type": "code",
   "execution_count": 28,
   "id": "86b6dac0-dea0-45cc-ae50-769d3985d2ab",
   "metadata": {},
   "outputs": [
    {
     "data": {
      "text/plain": [
       "198"
      ]
     },
     "execution_count": 28,
     "metadata": {},
     "output_type": "execute_result"
    }
   ],
   "source": [
    "sw=stopwords.words('english')\n",
    "len(sw)"
   ]
  },
  {
   "cell_type": "code",
   "execution_count": 34,
   "id": "5502b0e0-d65d-4ac2-815d-e04b143408d9",
   "metadata": {},
   "outputs": [
    {
     "name": "stdout",
     "output_type": "stream",
     "text": [
      "play\n",
      "presid\n"
     ]
    }
   ],
   "source": [
    "stemer=PorterStemmer()\n",
    "print(stemer.stem('played'))\n",
    "print(stemer.stem('president'))"
   ]
  },
  {
   "cell_type": "code",
   "execution_count": 45,
   "id": "703cc5d9-e026-47d1-b29d-97b9d53dfb2e",
   "metadata": {},
   "outputs": [
    {
     "name": "stdout",
     "output_type": "stream",
     "text": [
      "wife\n",
      "president\n"
     ]
    }
   ],
   "source": [
    "lz=WordNetLemmatizer()\n",
    "print(lz.lemmatize('wives'))\n",
    "print(lz.lemmatize('president'))"
   ]
  },
  {
   "cell_type": "code",
   "execution_count": 47,
   "id": "0a0c32a3-5f8c-4ae7-8f56-9e2c0156bda6",
   "metadata": {},
   "outputs": [
    {
     "name": "stdout",
     "output_type": "stream",
     "text": [
      "wife wive\n",
      "wife wife\n",
      "qualiti costli\n",
      "quality costly\n"
     ]
    }
   ],
   "source": [
    "wl=WordNetLemmatizer()\n",
    "ps=PorterStemmer()\n",
    "print(ps.stem(\"wife\"),ps.stem(\"wives\"))\n",
    "print(wl.lemmatize(\"wife\"),wl.lemmatize(\"wives\"))\n",
    "print(ps.stem(\"quality\"),ps.stem(\"costly\"))\n",
    "print(wl.lemmatize(\"quality\"),wl.lemmatize(\"costly\"))"
   ]
  },
  {
   "cell_type": "markdown",
   "id": "6a611df2-a26c-421e-8351-bc477074340a",
   "metadata": {},
   "source": [
    "### TextBlob Library also used to preprocess text data and also provuide pretrained model"
   ]
  },
  {
   "cell_type": "code",
   "execution_count": 52,
   "id": "31ad8e3c-ddcb-4f5d-b497-3905c591b0be",
   "metadata": {},
   "outputs": [
    {
     "name": "stdout",
     "output_type": "stream",
     "text": [
      "Collecting textblob\n",
      "  Downloading textblob-0.19.0-py3-none-any.whl.metadata (4.4 kB)\n",
      "Requirement already satisfied: nltk>=3.9 in c:\\users\\yaduv\\anaconda3\\lib\\site-packages (from textblob) (3.9.1)\n",
      "Requirement already satisfied: click in c:\\users\\yaduv\\anaconda3\\lib\\site-packages (from nltk>=3.9->textblob) (8.1.7)\n",
      "Requirement already satisfied: joblib in c:\\users\\yaduv\\anaconda3\\lib\\site-packages (from nltk>=3.9->textblob) (1.4.2)\n",
      "Requirement already satisfied: regex>=2021.8.3 in c:\\users\\yaduv\\anaconda3\\lib\\site-packages (from nltk>=3.9->textblob) (2024.9.11)\n",
      "Requirement already satisfied: tqdm in c:\\users\\yaduv\\anaconda3\\lib\\site-packages (from nltk>=3.9->textblob) (4.66.5)\n",
      "Requirement already satisfied: colorama in c:\\users\\yaduv\\anaconda3\\lib\\site-packages (from click->nltk>=3.9->textblob) (0.4.6)\n",
      "Downloading textblob-0.19.0-py3-none-any.whl (624 kB)\n",
      "   ---------------------------------------- 0.0/624.3 kB ? eta -:--:--\n",
      "   --------------------------------- ------ 524.3/624.3 kB 4.2 MB/s eta 0:00:01\n",
      "   ---------------------------------------- 624.3/624.3 kB 1.2 MB/s eta 0:00:00\n",
      "Installing collected packages: textblob\n",
      "Successfully installed textblob-0.19.0\n",
      "Note: you may need to restart the kernel to use updated packages.\n"
     ]
    }
   ],
   "source": [
    "pip install textblob"
   ]
  },
  {
   "cell_type": "code",
   "execution_count": 141,
   "id": "a618be76-f2a7-42ee-9b7d-3c24ae826553",
   "metadata": {},
   "outputs": [],
   "source": [
    "from textblob import TextBlob,classifiers"
   ]
  },
  {
   "cell_type": "code",
   "execution_count": 106,
   "id": "67f11a65-cc80-4117-a7d2-57260a8db599",
   "metadata": {},
   "outputs": [
    {
     "name": "stdout",
     "output_type": "stream",
     "text": [
      "action\n",
      "acting\n",
      "bring\n",
      "Good quality it go\n"
     ]
    }
   ],
   "source": [
    "blob=TextBlob('actio')\n",
    "print(blob.correct())\n",
    "blob=TextBlob('actig')\n",
    "print(blob.correct())\n",
    "blob=TextBlob('oring')\n",
    "print(blob.correct())\n",
    "blob=TextBlob('Food quaity nt goo')\n",
    "print(blob.correct())"
   ]
  },
  {
   "cell_type": "code",
   "execution_count": 108,
   "id": "c2c4d36d-2000-4b70-9feb-edcc9bd9036b",
   "metadata": {},
   "outputs": [
    {
     "name": "stdout",
     "output_type": "stream",
     "text": [
      "FOOD QUAITY NT GOO\n"
     ]
    }
   ],
   "source": [
    "print(blob.upper())"
   ]
  },
  {
   "cell_type": "code",
   "execution_count": 111,
   "id": "29f9d2c7-de20-4e4c-8c8d-d25f17a9c010",
   "metadata": {},
   "outputs": [
    {
     "data": {
      "text/plain": [
       "Sentiment(polarity=1.0, subjectivity=1.0)"
      ]
     },
     "execution_count": 111,
     "metadata": {},
     "output_type": "execute_result"
    }
   ],
   "source": [
    "blob=TextBlob(\"he is awesome boy.\")\n",
    "blob.sentiment"
   ]
  },
  {
   "cell_type": "code",
   "execution_count": 117,
   "id": "2deb8538-51c7-432f-9885-4a30c31efbba",
   "metadata": {},
   "outputs": [
    {
     "name": "stdin",
     "output_type": "stream",
     "text": [
      "enter review: poor\n"
     ]
    },
    {
     "name": "stdout",
     "output_type": "stream",
     "text": [
      "Sentiment(polarity=-0.4, subjectivity=0.6)\n"
     ]
    }
   ],
   "source": [
    "feedback=input(\"enter review:\")\n",
    "blob=TextBlob(feedback)\n",
    "print(blob.sentiment)"
   ]
  },
  {
   "cell_type": "code",
   "execution_count": 133,
   "id": "c6ea59a8-ec84-47ef-9efb-b09fb5522483",
   "metadata": {},
   "outputs": [
    {
     "data": {
      "text/plain": [
       "['food is good good',\n",
       " 'food is tasty',\n",
       " 'quality is good',\n",
       " 'food is not good',\n",
       " 'service is poor poor means very poor',\n",
       " 'it is too costly',\n",
       " 'cheap quality']"
      ]
     },
     "execution_count": 133,
     "metadata": {},
     "output_type": "execute_result"
    }
   ],
   "source": [
    "import re\n",
    "doc1='f5o@od is # good & good!'\n",
    "doc2='& Food # is * tasty'\n",
    "doc3='Quality is Good'\n",
    "doc4='food is not good'\n",
    "doc5='servi89ce is Poor poor means very poor'\n",
    "doc6='it is to_o costly'\n",
    "doc7='che^ap quality'\n",
    "\n",
    "corpus=[doc1,doc2,doc3,doc4,doc5,doc6,doc7]\n",
    "target=['pos','pos','pos','neg','neg','neg','neg']\n",
    "def cleaning(doc):\n",
    "    doc=doc.lower()\n",
    "    doc=re.sub('[^a-z ]','',doc)\n",
    "    newdoc=''\n",
    "    for word in doc.split():\n",
    "        newdoc=newdoc+word+' '\n",
    "    return newdoc.strip()\n",
    "corpus_new=list(map(cleaning,corpus))"
   ]
  },
  {
   "cell_type": "code",
   "execution_count": 139,
   "id": "e68bb9db-8e65-4675-881d-7382893bac04",
   "metadata": {},
   "outputs": [],
   "source": [
    "X=[]\n",
    "for tup in zip(corpus_new,target):\n",
    "    X.append(tup)"
   ]
  },
  {
   "cell_type": "code",
   "execution_count": 145,
   "id": "6af2e64c-a95e-4e4b-a6c2-b5f1b537cb4f",
   "metadata": {},
   "outputs": [
    {
     "name": "stdout",
     "output_type": "stream",
     "text": [
      "pos\n",
      "0.9009609397340049 0.09903906026599531\n"
     ]
    }
   ],
   "source": [
    "model=classifiers.NaiveBayesClassifier(X)\n",
    "sample=\"good food quality\"\n",
    "print(model.classify(sample))\n",
    "prob_dist=model.prob_classify(sample)\n",
    "print(prob_dist.prob('pos'),prob_dist.prob('neg'))"
   ]
  },
  {
   "cell_type": "code",
   "execution_count": 165,
   "id": "614c46b8-a0a8-497e-a8a8-7d1ffa3ceb47",
   "metadata": {},
   "outputs": [],
   "source": [
    "df=pd.read_csv('G:/dataset/sentiment/Restaurant_Reviews.txt',sep='\\t')\n",
    "corpus=df.Review\n",
    "target=df.Liked\n",
    "corpus_new=list(map(cleaning,corpus))\n",
    "X=[tup for tup in zip(corpus_new,target)]\n",
    "model=classifiers.NaiveBayesClassifier(X)"
   ]
  },
  {
   "cell_type": "code",
   "execution_count": 179,
   "id": "ece6991c-c822-4fe8-992d-6577f5aff3c9",
   "metadata": {},
   "outputs": [
    {
     "name": "stdout",
     "output_type": "stream",
     "text": [
      "1\n",
      "0.12101727944057629 0.878982720559424\n"
     ]
    }
   ],
   "source": [
    "sample=\"good food quality\"\n",
    "print(model.classify(sample))\n",
    "prob_dist=model.prob_classify(sample)\n",
    "print(prob_dist.prob(0),prob_dist.prob(1))"
   ]
  },
  {
   "cell_type": "code",
   "execution_count": null,
   "id": "a252b0dd-888a-46fc-a8f8-549353eb61ec",
   "metadata": {},
   "outputs": [],
   "source": []
  }
 ],
 "metadata": {
  "kernelspec": {
   "display_name": "Python 3 (ipykernel)",
   "language": "python",
   "name": "python3"
  },
  "language_info": {
   "codemirror_mode": {
    "name": "ipython",
    "version": 3
   },
   "file_extension": ".py",
   "mimetype": "text/x-python",
   "name": "python",
   "nbconvert_exporter": "python",
   "pygments_lexer": "ipython3",
   "version": "3.12.7"
  }
 },
 "nbformat": 4,
 "nbformat_minor": 5
}
