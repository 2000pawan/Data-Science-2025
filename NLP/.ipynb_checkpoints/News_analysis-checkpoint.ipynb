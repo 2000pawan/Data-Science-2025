{
 "cells": [
  {
   "cell_type": "markdown",
   "id": "3fcf6446-5cf4-43d4-b095-1ebfbef4c160",
   "metadata": {},
   "source": [
    "### News Analysis using TextBlob and NLTK."
   ]
  },
  {
   "cell_type": "code",
   "execution_count": 23,
   "id": "d4791085-6769-4da4-baf0-4cdc26fdc2ff",
   "metadata": {},
   "outputs": [],
   "source": [
    "import pandas as pd\n",
    "from textblob import classifiers\n",
    "import re"
   ]
  },
  {
   "cell_type": "code",
   "execution_count": 94,
   "id": "b358c238-fa72-47da-acc4-edabed00b5d0",
   "metadata": {},
   "outputs": [],
   "source": [
    "df=pd.read_json('G:/dataset/sentiment/news.json',lines=True)\n",
    "news=df[['headline','category']]\n",
    "x=news.headline\n",
    "x=list(map(cleaning,x))\n",
    "y=news.category\n",
    "X=[]\n",
    "for i, j in zip(x,y):\n",
    "    if j=='POLITICS' or j=='ENTERTAINMENT' or j=='COMEDY' or j=='CRIME' or j=='SPORTS' or j=='WORLD NEWS':\n",
    "        X.append((i,j))\n",
    "model=classifiers.NaiveBayesClassifier(X)"
   ]
  },
  {
   "cell_type": "code",
   "execution_count": 104,
   "id": "f9faee53-9ce5-4f77-9d98-c50f22681d1a",
   "metadata": {},
   "outputs": [
    {
     "name": "stdout",
     "output_type": "stream",
     "text": [
      "ENTERTAINMENT\n"
     ]
    }
   ],
   "source": [
    "st='today a lady shooting own husband. with the help of boyfriend'\n",
    "text=list(map(cleaning,st))\n",
    "print(model.classify(text))"
   ]
  },
  {
   "cell_type": "code",
   "execution_count": 29,
   "id": "c000d757-aa0a-4e52-bd4c-89469da69010",
   "metadata": {},
   "outputs": [],
   "source": [
    "df=pd.read_json('G:/dataset/sentiment/news.json',lines=True)\n",
    "corpus=df.headline\n",
    "target=df.category\n",
    "def cleaning(doc):\n",
    "    doc=doc.lower()\n",
    "    doc=re.sub('[^a-z ]','',doc)\n",
    "    newdoc=''\n",
    "    for i in doc.split():\n",
    "        newdoc=newdoc+i+' '\n",
    "    return newdoc.strip()\n",
    "corpus_new=list(map(cleaning,corpus))\n",
    "X=[i for i in zip(corpus_new,target)]\n",
    "model=classifiers.NaiveBayesClassifier(X)"
   ]
  },
  {
   "cell_type": "code",
   "execution_count": 106,
   "id": "9ecb64f9-fba2-4100-8b0d-520f7f0b26d8",
   "metadata": {},
   "outputs": [
    {
     "name": "stdout",
     "output_type": "stream",
     "text": [
      "POLITICS\n"
     ]
    }
   ],
   "source": [
    "st='football'\n",
    "text=list(map(cleaning,st))\n",
    "print(model.classify(text))"
   ]
  },
  {
   "cell_type": "code",
   "execution_count": null,
   "id": "8a618ae0-59bd-4d8c-89a9-ce0ec6e83321",
   "metadata": {},
   "outputs": [],
   "source": [
    " "
   ]
  }
 ],
 "metadata": {
  "kernelspec": {
   "display_name": "Python 3 (ipykernel)",
   "language": "python",
   "name": "python3"
  },
  "language_info": {
   "codemirror_mode": {
    "name": "ipython",
    "version": 3
   },
   "file_extension": ".py",
   "mimetype": "text/x-python",
   "name": "python",
   "nbconvert_exporter": "python",
   "pygments_lexer": "ipython3",
   "version": "3.12.7"
  }
 },
 "nbformat": 4,
 "nbformat_minor": 5
}
