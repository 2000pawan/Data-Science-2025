{
 "cells": [
  {
   "cell_type": "markdown",
   "id": "13d06e4f-0093-4e3d-88ae-e271cfaaa7b4",
   "metadata": {},
   "source": [
    "### Natural Language Processing (NLP) :- NLP is a Field of ai that used to communicate with human in human language."
   ]
  },
  {
   "cell_type": "code",
   "execution_count": 97,
   "id": "7307bb8a-aca0-4b21-9761-79ab548ec797",
   "metadata": {},
   "outputs": [],
   "source": [
    "import pandas as pd\n",
    "import re\n",
    "from sklearn.feature_extraction.text import ENGLISH_STOP_WORDS,CountVectorizer,TfidfVectorizer\n",
    "from sklearn.neighbors import KNeighborsClassifier\n",
    "from sklearn.linear_model import LogisticRegression\n",
    "from sklearn.svm import SVC\n",
    "from sklearn.tree import DecisionTreeClassifier\n",
    "from sklearn.ensemble import AdaBoostClassifier,RandomForestClassifier"
   ]
  },
  {
   "cell_type": "code",
   "execution_count": 99,
   "id": "fd41da0e-8978-446d-b2f3-71fec4914d96",
   "metadata": {},
   "outputs": [
    {
     "name": "stdout",
     "output_type": "stream",
     "text": [
      "['f5o@od is # good & good!', '& Food # is * tasty', 'Quality is Good', 'food is not good', 'servi89ce is Poor poor means very poor', 'it is to_o costly', 'che^ap quality']\n"
     ]
    }
   ],
   "source": [
    "doc1='f5o@od is # good & good!'\n",
    "doc2='& Food # is * tasty'\n",
    "doc3='Quality is Good'\n",
    "doc4='food is not good'\n",
    "doc5='servi89ce is Poor poor means very poor'\n",
    "doc6='it is to_o costly'\n",
    "doc7='che^ap quality'\n",
    "corpus=[doc1,doc2,doc3,doc4,doc5,doc6,doc7]\n",
    "target=['pos','pos','pos','neg','neg','neg','neg']\n",
    "print(corpus)"
   ]
  },
  {
   "cell_type": "markdown",
   "id": "1476ebbd-9f59-4daf-b633-02f932bec897",
   "metadata": {},
   "source": [
    " ## Text Preprocessing"
   ]
  },
  {
   "cell_type": "code",
   "execution_count": 102,
   "id": "3829bd6b-8aba-4627-9cd0-64e2eac2f3e1",
   "metadata": {},
   "outputs": [
    {
     "name": "stdout",
     "output_type": "stream",
     "text": [
      "['f5o@od is # good & good!', '& food # is * tasty', 'quality is good', 'food is not good', 'servi89ce is poor poor means very poor', 'it is to_o costly', 'che^ap quality']\n",
      "['food is  good  good', ' food  is  tasty', 'quality is good', 'food is not good', 'service is poor poor means very poor', 'it is too costly', 'cheap quality']\n"
     ]
    }
   ],
   "source": [
    "## Step1 convert corpus to lowwercase.\n",
    "\n",
    "corpus1=list(map(str.lower,corpus))\n",
    "print(corpus1)\n",
    "\n",
    "## Step2 remove punctuation/symbol like(!@#$%^&*(),<>.?/:;\"'||{}[])'.\n",
    "\n",
    "def remove_punc(doc):\n",
    "    newdoc=re.sub('[^a-z ]','',doc)\n",
    "    return newdoc\n",
    "\n",
    "corpus2=list(map(remove_punc,corpus1))\n",
    "print(corpus2)"
   ]
  },
  {
   "cell_type": "code",
   "execution_count": 104,
   "id": "eb3836e1-f458-4346-8855-b75f2dcce5d1",
   "metadata": {},
   "outputs": [],
   "source": [
    "## Remove stopwords that not sentiment.\n",
    "sp=list(ENGLISH_STOP_WORDS)\n",
    "# print(len(sp))\n",
    "sp.remove('not')\n",
    "# print(len(sp))"
   ]
  },
  {
   "cell_type": "code",
   "execution_count": 105,
   "id": "a9d46d3a-47b7-4eda-8c27-fbebc9a71173",
   "metadata": {},
   "outputs": [
    {
     "name": "stdout",
     "output_type": "stream",
     "text": [
      "['food good good', 'food tasty', 'quality good', 'food not good', 'service poor poor means poor', 'costly', 'cheap quality']\n"
     ]
    }
   ],
   "source": [
    "def stop_word(doc):\n",
    "    words=doc.split()\n",
    "    newdoc=''\n",
    "    for word in words:\n",
    "        if word not in sp:\n",
    "            newdoc=newdoc+word+' '\n",
    "    return newdoc.strip()       \n",
    "\n",
    "corpus3=list(map(stop_word,corpus2))\n",
    "print(corpus3)"
   ]
  },
  {
   "cell_type": "code",
   "execution_count": 146,
   "id": "b5b58ee2-62f3-4537-8454-fada73a7ab32",
   "metadata": {},
   "outputs": [
    {
     "name": "stdout",
     "output_type": "stream",
     "text": [
      "['cheap' 'costly' 'food' 'good' 'means' 'not' 'poor' 'quality' 'service'\n",
      " 'tasty']\n",
      "  (0, 2)\t1\n",
      "  (0, 3)\t2\n",
      "  (1, 2)\t1\n",
      "  (1, 9)\t1\n",
      "  (2, 3)\t1\n",
      "  (2, 7)\t1\n",
      "  (3, 2)\t1\n",
      "  (3, 3)\t1\n",
      "  (3, 5)\t1\n",
      "  (4, 8)\t1\n",
      "  (4, 6)\t3\n",
      "  (4, 4)\t1\n",
      "  (5, 1)\t1\n",
      "  (6, 7)\t1\n",
      "  (6, 0)\t1\n",
      "[[0 0 1 2 0 0 0 0 0 0]\n",
      " [0 0 1 0 0 0 0 0 0 1]\n",
      " [0 0 0 1 0 0 0 1 0 0]\n",
      " [0 0 1 1 0 1 0 0 0 0]\n",
      " [0 0 0 0 1 0 3 0 1 0]\n",
      " [0 1 0 0 0 0 0 0 0 0]\n",
      " [1 0 0 0 0 0 0 1 0 0]]\n"
     ]
    }
   ],
   "source": [
    "#step-4 extract features(each unique is a feature)\n",
    "\n",
    "#food,good,tasty,quality,not,service,poor,means,costly,cheap\n",
    "#cheap,costly,food,good,means,not,poor,quality,service,tasty\n",
    "\n",
    "#step-5 obtain vector representation of each document and get feature matrix of docs\n",
    "\n",
    "cv=CountVectorizer()\n",
    "X=cv.fit_transform(corpus3)  #first extract features then returns sparse matrix for docs. here sparse matrix only return non zero part while dense matrix return complete matrix including zero.\n",
    "print(cv.get_feature_names_out())\n",
    "print(X)\n",
    "X1=X.toarray()  # .toarray() is used to convert sparse matrix into dense matrix\n",
    "print(X1)"
   ]
  },
  {
   "cell_type": "code",
   "execution_count": 148,
   "id": "66eb61fe-2f3d-4bd6-9ae7-32496e137175",
   "metadata": {},
   "outputs": [
    {
     "name": "stdout",
     "output_type": "stream",
     "text": [
      "['pos']\n"
     ]
    }
   ],
   "source": [
    "model=KNeighborsClassifier()\n",
    "model.fit(X1,target)\n",
    "print(model.predict(cv.transform(['food is good '])))"
   ]
  },
  {
   "cell_type": "code",
   "execution_count": 152,
   "id": "41d89926-395b-4ddf-88c8-97ae0f604125",
   "metadata": {},
   "outputs": [
    {
     "name": "stdout",
     "output_type": "stream",
     "text": [
      "['neg']\n"
     ]
    }
   ],
   "source": [
    "model=SVC()\n",
    "model.fit(X1,target)\n",
    "print(model.predict(cv.transform(['food is good ']).toarray()))"
   ]
  },
  {
   "cell_type": "code",
   "execution_count": 138,
   "id": "e1d102cf-5e3c-423c-a0fc-3864d609be0e",
   "metadata": {},
   "outputs": [
    {
     "name": "stdout",
     "output_type": "stream",
     "text": [
      "['pos']\n"
     ]
    }
   ],
   "source": [
    "model=LogisticRegression()\n",
    "model.fit(X1,target)\n",
    "print(model.predict(cv.transform(['food is good '])))"
   ]
  },
  {
   "cell_type": "code",
   "execution_count": 136,
   "id": "a32efa53-5c8a-44ef-a16d-3395d7ce48a7",
   "metadata": {},
   "outputs": [
    {
     "name": "stdout",
     "output_type": "stream",
     "text": [
      "['pos']\n"
     ]
    }
   ],
   "source": [
    "model=RandomForestClassifier()\n",
    "model.fit(X1,target)\n",
    "print(model.predict(cv.transform(['food is good '])))"
   ]
  },
  {
   "cell_type": "code",
   "execution_count": 134,
   "id": "22aba83a-29cb-449b-a4c7-d00350e4abf2",
   "metadata": {},
   "outputs": [
    {
     "name": "stderr",
     "output_type": "stream",
     "text": [
      "C:\\Users\\YADUV\\anaconda3\\Lib\\site-packages\\sklearn\\ensemble\\_weight_boosting.py:527: FutureWarning: The SAMME.R algorithm (the default) is deprecated and will be removed in 1.6. Use the SAMME algorithm to circumvent this warning.\n",
      "  warnings.warn(\n"
     ]
    },
    {
     "name": "stdout",
     "output_type": "stream",
     "text": [
      "['pos']\n"
     ]
    }
   ],
   "source": [
    "model=AdaBoostClassifier()\n",
    "model.fit(X1,target)\n",
    "print(model.predict(cv.transform(['food is good '])))"
   ]
  },
  {
   "cell_type": "code",
   "execution_count": 132,
   "id": "80e1eae8-1d79-4c54-85a3-d58af3f1ae56",
   "metadata": {},
   "outputs": [
    {
     "name": "stdout",
     "output_type": "stream",
     "text": [
      "['neg']\n"
     ]
    }
   ],
   "source": [
    "model=DecisionTreeClassifier()\n",
    "model.fit(X1,target)\n",
    "print(model.predict(cv.transform(['food is good '])))"
   ]
  },
  {
   "cell_type": "code",
   "execution_count": 185,
   "id": "a8cac1ed-68fd-484f-80ba-4d4d029e2938",
   "metadata": {},
   "outputs": [
    {
     "name": "stderr",
     "output_type": "stream",
     "text": [
      "C:\\Users\\YADUV\\anaconda3\\Lib\\site-packages\\sklearn\\ensemble\\_weight_boosting.py:527: FutureWarning: The SAMME.R algorithm (the default) is deprecated and will be removed in 1.6. Use the SAMME algorithm to circumvent this warning.\n",
      "  warnings.warn(\n"
     ]
    },
    {
     "name": "stdout",
     "output_type": "stream",
     "text": [
      "['pos']\n"
     ]
    }
   ],
   "source": [
    "sample='tasty*^& Food%'\n",
    "sample1=sample.lower()\n",
    "sample2=remove_punc(sample1)\n",
    "sample3=stop_word(sample2)\n",
    "corpus=cv.transform([sample3]).toarray()\n",
    "model=AdaBoostClassifier()\n",
    "model.fit(X1,target)\n",
    "print(model.predict(corpus))"
   ]
  },
  {
   "cell_type": "markdown",
   "id": "411cff5e-ff14-4a38-9cc8-c872910123c4",
   "metadata": {},
   "source": [
    "### NLP Task \n",
    "## text cleaning.\n",
    "## feature extraction\n",
    "## vectorization\n",
    "## model training\n"
   ]
  },
  {
   "cell_type": "code",
   "execution_count": null,
   "id": "0a11e79d-4b14-4e66-862f-a472e9e6c2a0",
   "metadata": {},
   "outputs": [],
   "source": []
  }
 ],
 "metadata": {
  "kernelspec": {
   "display_name": "Python 3 (ipykernel)",
   "language": "python",
   "name": "python3"
  },
  "language_info": {
   "codemirror_mode": {
    "name": "ipython",
    "version": 3
   },
   "file_extension": ".py",
   "mimetype": "text/x-python",
   "name": "python",
   "nbconvert_exporter": "python",
   "pygments_lexer": "ipython3",
   "version": "3.12.7"
  }
 },
 "nbformat": 4,
 "nbformat_minor": 5
}
