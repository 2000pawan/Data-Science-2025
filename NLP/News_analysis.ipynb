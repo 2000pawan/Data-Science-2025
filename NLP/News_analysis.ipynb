{
 "cells": [
  {
   "cell_type": "markdown",
   "id": "3fcf6446-5cf4-43d4-b095-1ebfbef4c160",
   "metadata": {},
   "source": [
    "### News Analysis using TextBlob and NLTK."
   ]
  },
  {
   "cell_type": "code",
   "execution_count": 138,
   "id": "d4791085-6769-4da4-baf0-4cdc26fdc2ff",
   "metadata": {},
   "outputs": [],
   "source": [
    "import pandas as pd\n",
    "from textblob import classifiers\n",
    "import re\n",
    "from sklearn.feature_extraction.text import ENGLISH_STOP_WORDS,CountVectorizer\n",
    "from sklearn.model_selection import train_test_split\n",
    "from sklearn.preprocessing import StandardScaler\n",
    "from sklearn.ensemble import RandomForestClassifier,AdaBoostClassifier\n",
    "from sklearn.linear_model import LogisticRegression"
   ]
  },
  {
   "cell_type": "code",
   "execution_count": 140,
   "id": "b358c238-fa72-47da-acc4-edabed00b5d0",
   "metadata": {},
   "outputs": [],
   "source": [
    "df=pd.read_json('G:/dataset/sentiment/news.json',lines=True)\n",
    "news=df[['headline','category']]\n",
    "def cleaning(doc):\n",
    "    doc=doc.lower()\n",
    "    doc=re.sub('[^a-z ]','',doc)\n",
    "    newdoc=''\n",
    "    for i in doc.split():\n",
    "        newdoc=newdoc+i+' '\n",
    "    return newdoc.strip()\n",
    "x=news.headline\n",
    "x=list(map(cleaning,x))\n",
    "y=news.category\n",
    "X=[]\n",
    "for i, j in zip(x,y):\n",
    "    if j=='POLITICS' or j=='ENTERTAINMENT' or j=='COMEDY' or j=='CRIME' or j=='SPORTS' or j=='WORLD NEWS':\n",
    "        X.append((i,j))\n",
    "model=classifiers.NaiveBayesClassifier(X)"
   ]
  },
  {
   "cell_type": "code",
   "execution_count": 141,
   "id": "f9faee53-9ce5-4f77-9d98-c50f22681d1a",
   "metadata": {},
   "outputs": [
    {
     "name": "stdout",
     "output_type": "stream",
     "text": [
      "ENTERTAINMENT\n"
     ]
    }
   ],
   "source": [
    "st='today a lady shoot own husband. with the help of boyfriend'\n",
    "text=list(map(cleaning,st))\n",
    "print(model.classify(text))"
   ]
  },
  {
   "cell_type": "code",
   "execution_count": 142,
   "id": "c000d757-aa0a-4e52-bd4c-89469da69010",
   "metadata": {},
   "outputs": [
    {
     "name": "stdout",
     "output_type": "stream",
     "text": [
      "(1436,)\n"
     ]
    }
   ],
   "source": [
    "df=pd.read_json('G:/dataset/sentiment/news.json',lines=True)\n",
    "corpus=df.headline\n",
    "print(corpus.shape)\n",
    "target=df.category\n",
    "def cleaning(doc):\n",
    "    doc=doc.lower()\n",
    "    doc=re.sub('[^a-z ]','',doc)\n",
    "    newdoc=''\n",
    "    for i in doc.split():\n",
    "        newdoc=newdoc+i+' '\n",
    "    return newdoc.strip()\n",
    "corpus_new=list(map(cleaning,corpus))\n",
    "X=[i for i in zip(corpus_new,target)]\n",
    "model=classifiers.NaiveBayesClassifier(X)"
   ]
  },
  {
   "cell_type": "code",
   "execution_count": 143,
   "id": "9ecb64f9-fba2-4100-8b0d-520f7f0b26d8",
   "metadata": {},
   "outputs": [
    {
     "name": "stdout",
     "output_type": "stream",
     "text": [
      "POLITICS\n"
     ]
    }
   ],
   "source": [
    "st='football'\n",
    "text=list(map(cleaning,st))\n",
    "print(model.classify(text))"
   ]
  },
  {
   "cell_type": "code",
   "execution_count": 152,
   "id": "a69493bc-4928-4021-9896-3cf55e4f08e7",
   "metadata": {},
   "outputs": [
    {
     "name": "stderr",
     "output_type": "stream",
     "text": [
      "C:\\Users\\YADUV\\anaconda3\\Lib\\site-packages\\sklearn\\ensemble\\_weight_boosting.py:527: FutureWarning: The SAMME.R algorithm (the default) is deprecated and will be removed in 1.6. Use the SAMME algorithm to circumvent this warning.\n",
      "  warnings.warn(\n"
     ]
    },
    {
     "name": "stdout",
     "output_type": "stream",
     "text": [
      "1.0\n",
      "0.36002785515320335\n",
      "0.9979108635097493\n"
     ]
    }
   ],
   "source": [
    "sp=ENGLISH_STOP_WORDS\n",
    "df=pd.read_json('G:/dataset/sentiment/news.json',lines=True)\n",
    "news=df[['headline','category']]\n",
    "def cleaning(doc):\n",
    "    doc=doc.lower()\n",
    "    doc=re.sub('[^a-z ]','',doc)\n",
    "    wordlist=doc.split()\n",
    "    newdoc=''\n",
    "    for i in wordlist:\n",
    "        if i not in sp:\n",
    "            newdoc=newdoc+i+' '\n",
    "    return newdoc.strip()\n",
    "x=news.headline\n",
    "x=list(map(cleaning,x))\n",
    "y=news.category.values\n",
    "cv=CountVectorizer()\n",
    "X=cv.fit_transform(x).toarray()\n",
    "sc=StandardScaler()\n",
    "X_new=sc.fit_transform(X)\n",
    "model=RandomForestClassifier(n_estimators=200,oob_score=True,random_state=1)\n",
    "model1=AdaBoostClassifier(n_estimators=200,random_state=1)\n",
    "model2=LogisticRegression(max_iter=200,random_state=1)\n",
    "model.fit(X,y)\n",
    "model1.fit(X,y)\n",
    "model2.fit(X,y)\n",
    "print(model.score(X,y))\n",
    "print(model1.score(X,y))\n",
    "print(model2.score(X,y))\n"
   ]
  },
  {
   "cell_type": "code",
   "execution_count": 216,
   "id": "a0b5338c-593a-4e73-b660-2babc3b68b6c",
   "metadata": {},
   "outputs": [
    {
     "name": "stdout",
     "output_type": "stream",
     "text": [
      "['POLITICS']\n",
      "['POLITICS']\n",
      "['POLITICS']\n"
     ]
    }
   ],
   "source": [
    "st=['AI']\n",
    "text=list(map(cleaning,st))\n",
    "\n",
    "text=cv.transform(text).toarray()\n",
    "# text=sc.transform(text)\n",
    "print(model.predict(text))\n",
    "print(model1.predict(text))\n",
    "print(model2.predict(text))"
   ]
  },
  {
   "cell_type": "code",
   "execution_count": null,
   "id": "f9be7d08-9aba-41eb-8648-17046b3cd5e4",
   "metadata": {},
   "outputs": [],
   "source": []
  }
 ],
 "metadata": {
  "kernelspec": {
   "display_name": "Python 3 (ipykernel)",
   "language": "python",
   "name": "python3"
  },
  "language_info": {
   "codemirror_mode": {
    "name": "ipython",
    "version": 3
   },
   "file_extension": ".py",
   "mimetype": "text/x-python",
   "name": "python",
   "nbconvert_exporter": "python",
   "pygments_lexer": "ipython3",
   "version": "3.12.7"
  }
 },
 "nbformat": 4,
 "nbformat_minor": 5
}
