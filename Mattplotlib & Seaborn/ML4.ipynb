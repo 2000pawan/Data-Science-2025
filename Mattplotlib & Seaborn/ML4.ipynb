{
 "cells": [
  {
   "cell_type": "code",
   "execution_count": 2,
   "id": "3c6eef69-4673-4c59-b9ae-be03b89f6d41",
   "metadata": {},
   "outputs": [],
   "source": [
    "import pandas as pd\n",
    "from sklearn.model_selection import train_test_split\n",
    "from sklearn.neighbors import KNeighborsClassifier\n",
    "from sklearn.metrics import accuracy_score\n",
    "from sklearn.preprocessing import MinMaxScaler"
   ]
  },
  {
   "cell_type": "markdown",
   "id": "9b9ea795-ecad-443d-802f-1a93975e8b9c",
   "metadata": {},
   "source": [
    "## Without Feature Scaling."
   ]
  },
  {
   "cell_type": "code",
   "execution_count": 11,
   "id": "38d786a5-f6db-4f87-a5e2-b04fdf84b3b4",
   "metadata": {},
   "outputs": [
    {
     "name": "stdout",
     "output_type": "stream",
     "text": [
      "Accuracy Score of Training:-  0.8666666666666667\n",
      "Accuracy Score of Testing:-  0.8571428571428571\n"
     ]
    }
   ],
   "source": [
    "df=pd.read_csv(\"G:/dataset/classification/fruits.csv\")\n",
    "X=df.iloc[:,:-1].values\n",
    "y=df.iloc[:,-1].values\n",
    "X_train,X_test,y_train,y_test=train_test_split(X,y,test_size=0.30,random_state=22)\n",
    "model=KNeighborsClassifier()\n",
    "model.fit(X_train,y_train)\n",
    "pred_train=model.predict(X_train)\n",
    "pred_test=model.predict(X_test)\n",
    "print(\"Accuracy Score of Training:- \",accuracy_score(y_train,pred_train))\n",
    "print(\"Accuracy Score of Testing:- \",accuracy_score(y_test,pred_test))"
   ]
  },
  {
   "cell_type": "markdown",
   "id": "8dd9ac78-82f3-4696-be7f-0516e62ba9a1",
   "metadata": {},
   "source": [
    "## With Feature Scaling."
   ]
  },
  {
   "cell_type": "code",
   "execution_count": 26,
   "id": "72703a7c-7d75-42b9-a7df-96bba3bfa52c",
   "metadata": {},
   "outputs": [
    {
     "name": "stdout",
     "output_type": "stream",
     "text": [
      "Accuracy Score of Training:-  1.0\n",
      "Accuracy Score of Testing:-  0.7777777777777778\n"
     ]
    }
   ],
   "source": [
    "df=pd.read_csv(\"G:/dataset/classification/fruits.csv\")\n",
    "X=df.iloc[:,:-1].values\n",
    "y=df.iloc[:,-1].values\n",
    "X_train,X_test,y_train,y_test=train_test_split(X,y,test_size=.40,random_state=22)\n",
    "sc=MinMaxScaler()\n",
    "X_train_new=sc.fit_transform(X_train)\n",
    "model=KNeighborsClassifier()\n",
    "model.fit(X_train_new,y_train)\n",
    "X_test_new=sc.transform(X_test)\n",
    "pred_train=model.predict(X_train_new)\n",
    "pred_test=model.predict(X_test_new)\n",
    "print(\"Accuracy Score of Training:- \",accuracy_score(y_train,pred_train))\n",
    "print(\"Accuracy Score of Testing:- \",accuracy_score(y_test,pred_test))"
   ]
  },
  {
   "cell_type": "code",
   "execution_count": 28,
   "id": "4401afe6-b24f-45e0-91ba-1ff2620ee320",
   "metadata": {},
   "outputs": [
    {
     "name": "stdin",
     "output_type": "stream",
     "text": [
      "Enter diameter:-  3.99\n",
      "Enter Weight:-  69\n"
     ]
    },
    {
     "name": "stdout",
     "output_type": "stream",
     "text": [
      "Result:-  ['Apple']\n"
     ]
    }
   ],
   "source": [
    "d=eval(input(\"Enter diameter:- \"))\n",
    "w=eval(input(\"Enter Weight:- \"))\n",
    "input=sc.transform([[d,w]])\n",
    "result=model.predict(input)\n",
    "print(\"Result:- \",result)"
   ]
  },
  {
   "cell_type": "code",
   "execution_count": null,
   "id": "3ffc405d-e1b0-4c51-8971-c9b746c4bba2",
   "metadata": {},
   "outputs": [],
   "source": []
  }
 ],
 "metadata": {
  "kernelspec": {
   "display_name": "Python 3 (ipykernel)",
   "language": "python",
   "name": "python3"
  },
  "language_info": {
   "codemirror_mode": {
    "name": "ipython",
    "version": 3
   },
   "file_extension": ".py",
   "mimetype": "text/x-python",
   "name": "python",
   "nbconvert_exporter": "python",
   "pygments_lexer": "ipython3",
   "version": "3.12.7"
  }
 },
 "nbformat": 4,
 "nbformat_minor": 5
}
