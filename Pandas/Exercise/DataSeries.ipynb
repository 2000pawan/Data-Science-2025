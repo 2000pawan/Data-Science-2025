{
 "cells": [
  {
   "cell_type": "code",
   "execution_count": 2,
   "id": "9e1e7913-b46f-4f02-83a4-363d5d83c723",
   "metadata": {
    "tags": []
   },
   "outputs": [
    {
     "name": "stdout",
     "output_type": "stream",
     "text": [
      "0     2\n",
      "1     4\n",
      "2     6\n",
      "3     8\n",
      "4    10\n",
      "dtype: int64\n"
     ]
    }
   ],
   "source": [
    "import pandas as pd\n",
    "s=pd.Series([2,4,6,8,10])\n",
    "print(s)"
   ]
  },
  {
   "cell_type": "code",
   "execution_count": 6,
   "id": "bebed8b4-93b7-445e-b763-18bc8ddb8805",
   "metadata": {
    "tags": []
   },
   "outputs": [
    {
     "name": "stdout",
     "output_type": "stream",
     "text": [
      "0     2\n",
      "1     4\n",
      "2     6\n",
      "3     8\n",
      "4    10\n",
      "dtype: int64\n",
      "<class 'pandas.core.series.Series'>\n",
      "[2, 4, 6, 8, 10]\n",
      "<class 'list'>\n"
     ]
    }
   ],
   "source": [
    "import pandas as pd\n",
    "s=pd.Series([2,4,6,8,10])\n",
    "print(s)\n",
    "print(type(s))\n",
    "x=s.to_list()\n",
    "print(x)\n",
    "print(type(x))"
   ]
  },
  {
   "cell_type": "code",
   "execution_count": 8,
   "id": "c54dba2d-a64c-4a0e-a3b9-67b640bfae98",
   "metadata": {
    "tags": []
   },
   "outputs": [
    {
     "name": "stdout",
     "output_type": "stream",
     "text": [
      "0     3\n",
      "1     7\n",
      "2    11\n",
      "3    15\n",
      "4    19\n",
      "dtype: int64\n",
      "0    1\n",
      "1    1\n",
      "2    1\n",
      "3    1\n",
      "4    1\n",
      "dtype: int64\n",
      "0     2\n",
      "1    12\n",
      "2    30\n",
      "3    56\n",
      "4    90\n",
      "dtype: int64\n",
      "0    2.000000\n",
      "1    1.333333\n",
      "2    1.200000\n",
      "3    1.142857\n",
      "4    1.111111\n",
      "dtype: float64\n"
     ]
    }
   ],
   "source": [
    "import pandas as pd\n",
    "x=pd.Series([2, 4, 6, 8, 10])\n",
    "y=pd.Series([1, 3, 5, 7, 9])\n",
    "print(x+y)\n",
    "print(x-y)\n",
    "print(x*y)\n",
    "print(x/y)"
   ]
  },
  {
   "cell_type": "code",
   "execution_count": 12,
   "id": "195d9f34-80d5-407f-9613-2f1abf452c99",
   "metadata": {
    "tags": []
   },
   "outputs": [
    {
     "name": "stdout",
     "output_type": "stream",
     "text": [
      "0    False\n",
      "1    False\n",
      "2    False\n",
      "3    False\n",
      "4     True\n",
      "dtype: bool\n",
      "0     True\n",
      "1     True\n",
      "2     True\n",
      "3     True\n",
      "4    False\n",
      "dtype: bool\n",
      "0    False\n",
      "1    False\n",
      "2    False\n",
      "3    False\n",
      "4    False\n",
      "dtype: bool\n"
     ]
    }
   ],
   "source": [
    "import pandas as pd\n",
    "x=pd.Series([2, 4, 6, 8, 10])\n",
    "y=pd.Series([1, 3, 5, 7, 10])\n",
    "print(x==y)\n",
    "print(x>y)\n",
    "print(x<y)"
   ]
  },
  {
   "cell_type": "code",
   "execution_count": 15,
   "id": "c6645a87-b91f-479f-8952-01a0006fa189",
   "metadata": {
    "tags": []
   },
   "outputs": [
    {
     "name": "stdout",
     "output_type": "stream",
     "text": [
      "a    100\n",
      "b    200\n",
      "c    300\n",
      "d    400\n",
      "e    800\n",
      "dtype: int64\n"
     ]
    }
   ],
   "source": [
    "import pandas as pd\n",
    "x={'a': 100, 'b': 200, 'c': 300, 'd': 400, 'e': 800}\n",
    "y=pd.Series(x)\n",
    "print(y)"
   ]
  },
  {
   "cell_type": "code",
   "execution_count": 22,
   "id": "aef11b15-f0ec-4d26-aae2-fec0ce2f8eee",
   "metadata": {
    "tags": []
   },
   "outputs": [
    {
     "name": "stdout",
     "output_type": "stream",
     "text": [
      "0    10\n",
      "1    20\n",
      "2    30\n",
      "3    40\n",
      "4    50\n",
      "dtype: int32\n"
     ]
    }
   ],
   "source": [
    "import pandas as p\n",
    "import numpy as np\n",
    "x=np.array([10, 20, 30, 40, 50])\n",
    "y=pd.Series(x)\n",
    "print(y)"
   ]
  },
  {
   "cell_type": "code",
   "execution_count": 26,
   "id": "1d02fe35-f9cc-408d-8336-16b9de7380b3",
   "metadata": {
    "tags": []
   },
   "outputs": [
    {
     "name": "stdout",
     "output_type": "stream",
     "text": [
      "0       100\n",
      "1       200\n",
      "2    python\n",
      "3    300.12\n",
      "4       400\n",
      "dtype: object\n",
      "0    100.00\n",
      "1    200.00\n",
      "2       NaN\n",
      "3    300.12\n",
      "4    400.00\n",
      "dtype: float64\n"
     ]
    }
   ],
   "source": [
    "import pandas as pd\n",
    "x=pd.Series([100,200,'python',300.12,400])\n",
    "y=pd.to_numeric(x,errors='coerce')\n",
    "print(x)\n",
    "print(y)"
   ]
  },
  {
   "cell_type": "code",
   "execution_count": 30,
   "id": "c4a99e23-9dca-46b5-8aee-d7b2f154a30d",
   "metadata": {
    "tags": []
   },
   "outputs": [
    {
     "name": "stdout",
     "output_type": "stream",
     "text": [
      "   col1  col2  col3\n",
      "0     1     4     7\n",
      "1     2     5     5\n",
      "2     3     6     8\n",
      "3     4     9    12\n",
      "4     7     5     1\n",
      "5    11     0    11\n",
      "<class 'pandas.core.frame.DataFrame'>\n",
      "0     1\n",
      "1     2\n",
      "2     3\n",
      "3     4\n",
      "4     7\n",
      "5    11\n",
      "Name: col1, dtype: int64\n",
      "<class 'pandas.core.series.Series'>\n"
     ]
    }
   ],
   "source": [
    "import pandas as pd\n",
    "x=pd.DataFrame({'col1': [1, 2, 3, 4, 7, 11], 'col2': [4, 5, 6, 9, 5, 0], 'col3': [7, 5, 8, 12, 1, 11]})\n",
    "y=x.iloc[:,0]\n",
    "print(x)\n",
    "print(type(x))\n",
    "print(y)\n",
    "print(type(y))"
   ]
  },
  {
   "cell_type": "code",
   "execution_count": 32,
   "id": "50b7ebd4-ecaf-4107-a430-d83d125317e8",
   "metadata": {
    "tags": []
   },
   "outputs": [
    {
     "name": "stdout",
     "output_type": "stream",
     "text": [
      "0       100\n",
      "1       200\n",
      "2    python\n",
      "3    300.12\n",
      "4       400\n",
      "dtype: object\n",
      "<class 'pandas.core.series.Series'>\n",
      "[100 200 'python' 300.12 400]\n",
      "<class 'numpy.ndarray'>\n"
     ]
    }
   ],
   "source": [
    "import pandas as pd\n",
    "x= pd.Series([100,200,'python',300.12,400])\n",
    "y=x.to_numpy()\n",
    "print(x)\n",
    "print(type(x))\n",
    "print(y)\n",
    "print(type(y))"
   ]
  },
  {
   "cell_type": "code",
   "execution_count": 38,
   "id": "d1a58f34-15b1-47d4-a7fd-3ba9ec429351",
   "metadata": {
    "tags": []
   },
   "outputs": [
    {
     "name": "stdout",
     "output_type": "stream",
     "text": [
      "0    [Red, Green, White]\n",
      "1           [Red, Black]\n",
      "2               [Yellow]\n",
      "dtype: object\n",
      "        0      1      2\n",
      "0     Red  Green  White\n",
      "1     Red  Black    NaN\n",
      "2  Yellow    NaN    NaN\n"
     ]
    }
   ],
   "source": [
    "import pandas as pd\n",
    "x=pd.Series([\n",
    "    ['Red', 'Green', 'White'],\n",
    "    ['Red', 'Black'],\n",
    "    ['Yellow']])\n",
    "print(x)\n",
    "y=x.apply(pd.Series).stack().reset_index(drop=True)\n",
    "print(y)"
   ]
  },
  {
   "cell_type": "code",
   "execution_count": 2,
   "id": "51e4b471-66be-485b-95f0-b28e21dee58e",
   "metadata": {
    "tags": []
   },
   "outputs": [
    {
     "name": "stdout",
     "output_type": "stream",
     "text": [
      "0       100\n",
      "1       200\n",
      "3    300.12\n",
      "4       400\n",
      "2    python\n",
      "dtype: object\n"
     ]
    }
   ],
   "source": [
    "import pandas as pd\n",
    "x= pd.Series(['100','200','python','300.12','400'])\n",
    "print(x.sort_values())"
   ]
  },
  {
   "cell_type": "code",
   "execution_count": 9,
   "id": "05c0fc65-beed-404c-b861-b105a8bb3eae",
   "metadata": {
    "tags": []
   },
   "outputs": [
    {
     "name": "stdout",
     "output_type": "stream",
     "text": [
      "0       100\n",
      "1       200\n",
      "2    python\n",
      "3    300.12\n",
      "4       400\n",
      "5       500\n",
      "6       PHP\n",
      "dtype: object\n"
     ]
    }
   ],
   "source": [
    "import pandas as pd\n",
    "x= pd.Series(['100','200','python','300.12','400'])\n",
    "y=pd.Series([500,'PHP'])\n",
    "print(pd.concat([x,y],ignore_index=True))"
   ]
  },
  {
   "cell_type": "code",
   "execution_count": 10,
   "id": "b02e919e-f753-4046-a354-7f675d3aca26",
   "metadata": {
    "tags": []
   },
   "outputs": [
    {
     "name": "stdout",
     "output_type": "stream",
     "text": [
      "0      0\n",
      "1      1\n",
      "2      2\n",
      "3      3\n",
      "4      4\n",
      "5      5\n",
      "6      6\n",
      "7      7\n",
      "8      8\n",
      "9      9\n",
      "10    10\n",
      "dtype: int64\n",
      "0    0\n",
      "1    1\n",
      "2    2\n",
      "3    3\n",
      "4    4\n",
      "5    5\n",
      "dtype: int64\n"
     ]
    }
   ],
   "source": [
    "import pandas as pd\n",
    "x=pd.Series([0,1,2,3,4,5,6,7,8,9,10])\n",
    "print(x)\n",
    "n=6\n",
    "y=x[x<n]\n",
    "print(y)"
   ]
  },
  {
   "cell_type": "code",
   "execution_count": 2,
   "id": "f37012b9-13e7-4f28-978b-f948fe1a4830",
   "metadata": {
    "tags": []
   },
   "outputs": [
    {
     "name": "stdout",
     "output_type": "stream",
     "text": [
      "A    1\n",
      "B    2\n",
      "C    3\n",
      "D    4\n",
      "E    5\n",
      "dtype: int64\n",
      "B    2\n",
      "A    1\n",
      "C    3\n",
      "D    4\n",
      "E    5\n",
      "dtype: int64\n"
     ]
    }
   ],
   "source": [
    "import pandas as pd\n",
    "x=pd.Series(data=[1,2,3,4,5],index=['A','B','C','D','E'])\n",
    "print(x)\n",
    "x=x.reindex(index=['B','A','C','D','E'])\n",
    "print(x)"
   ]
  },
  {
   "cell_type": "code",
   "execution_count": 6,
   "id": "b6a566c8-f8b1-4c1b-b81c-e9883eaf6b12",
   "metadata": {
    "tags": []
   },
   "outputs": [
    {
     "name": "stdout",
     "output_type": "stream",
     "text": [
      "Original Data Series:\n",
      "0     1\n",
      "1     2\n",
      "2     3\n",
      "3     4\n",
      "4     5\n",
      "5     6\n",
      "6     7\n",
      "7     8\n",
      "8     9\n",
      "9     5\n",
      "10    3\n",
      "dtype: int64\n",
      "Mean of the said Data Series:\n",
      "4.818181818181818\n",
      "Standard deviation of the said Data Series:\n",
      "2.522624895547565\n"
     ]
    }
   ],
   "source": [
    "import pandas as pd\n",
    "x=pd.Series(data=[1,2,3,4,5,6,7,8,9,5,3])\n",
    "print(\"Original Data Series:\")\n",
    "print(x)\n",
    "print(\"Mean of the said Data Series:\")\n",
    "print(x.mean())\n",
    "print(\"Standard deviation of the said Data Series:\")\n",
    "print(x.std())"
   ]
  },
  {
   "cell_type": "code",
   "execution_count": 10,
   "id": "71e0b011-a036-4f49-80a7-a7d35db37a64",
   "metadata": {
    "tags": []
   },
   "outputs": [
    {
     "name": "stdout",
     "output_type": "stream",
     "text": [
      "0    1\n",
      "2    3\n",
      "4    5\n",
      "dtype: int64\n"
     ]
    }
   ],
   "source": [
    "import pandas as pd\n",
    "x=pd.Series([1,2,3,4,5])\n",
    "y=pd.Series([2,4,6,8,10])\n",
    "print(x[~x.isin(y)])"
   ]
  },
  {
   "cell_type": "code",
   "execution_count": 13,
   "id": "bb1c2a97-f626-4727-a2b1-bddf56303f32",
   "metadata": {
    "tags": []
   },
   "outputs": [
    {
     "name": "stdout",
     "output_type": "stream",
     "text": [
      "0    1\n",
      "1    2\n",
      "2    3\n",
      "3    4\n",
      "4    5\n",
      "dtype: int64\n",
      "0     2\n",
      "1     4\n",
      "2     6\n",
      "3     8\n",
      "4    10\n",
      "dtype: int64\n",
      "0     1\n",
      "2     3\n",
      "4     5\n",
      "5     6\n",
      "6     8\n",
      "7    10\n",
      "dtype: int64\n"
     ]
    }
   ],
   "source": [
    "import pandas as pd\n",
    "import numpy as np\n",
    "x=pd.Series([1,2,3,4,5])\n",
    "y=pd.Series([2,4,6,8,10])\n",
    "print(x)\n",
    "print(y)\n",
    "a=pd.Series(np.union1d(x,y))\n",
    "b=pd.Series(np.intersect1d(x,y))\n",
    "print(a[~a.isin(b)])"
   ]
  },
  {
   "cell_type": "code",
   "execution_count": 15,
   "id": "800bcbea-afd6-4c80-9099-8857881179a0",
   "metadata": {
    "tags": []
   },
   "outputs": [
    {
     "name": "stdout",
     "output_type": "stream",
     "text": [
      "0      3.000938\n",
      "1     11.370722\n",
      "2     14.612143\n",
      "3      8.990256\n",
      "4     13.925283\n",
      "5     12.056875\n",
      "6     10.884719\n",
      "7      5.719827\n",
      "8      9.242017\n",
      "9     11.020006\n",
      "10     8.167892\n",
      "11    11.740654\n",
      "12     7.665620\n",
      "13    13.267388\n",
      "14    12.690883\n",
      "15     9.582355\n",
      "16     7.874878\n",
      "17    14.118931\n",
      "18     8.247458\n",
      "19     5.526727\n",
      "dtype: float64\n",
      "[ 3.00093811  8.09463867 10.23353705 12.21537733 14.61214321]\n"
     ]
    }
   ],
   "source": [
    "import pandas as pd\n",
    "import numpy as np\n",
    "x=np.random.RandomState(100)\n",
    "y=pd.Series(x.normal(10,4,20))\n",
    "print(y)\n",
    "print(np.percentile(y,q=[0,25,50,75,100]))"
   ]
  },
  {
   "cell_type": "code",
   "execution_count": 19,
   "id": "5d25121e-00ac-4051-bf88-be5d00fa9514",
   "metadata": {
    "tags": []
   },
   "outputs": [
    {
     "name": "stdout",
     "output_type": "stream",
     "text": [
      "0     2\n",
      "1     9\n",
      "2     2\n",
      "3     9\n",
      "4     6\n",
      "5     5\n",
      "6     4\n",
      "7     4\n",
      "8     4\n",
      "9     0\n",
      "10    8\n",
      "11    0\n",
      "12    6\n",
      "13    1\n",
      "14    0\n",
      "15    8\n",
      "16    9\n",
      "17    1\n",
      "18    9\n",
      "19    2\n",
      "20    5\n",
      "21    7\n",
      "22    3\n",
      "23    1\n",
      "24    8\n",
      "25    8\n",
      "26    7\n",
      "27    5\n",
      "28    6\n",
      "29    3\n",
      "30    1\n",
      "31    8\n",
      "32    2\n",
      "33    6\n",
      "34    5\n",
      "35    5\n",
      "36    1\n",
      "37    5\n",
      "38    8\n",
      "39    2\n",
      "dtype: object\n",
      "5    6\n",
      "8    6\n",
      "2    5\n",
      "1    5\n",
      "9    4\n",
      "6    4\n",
      "4    3\n",
      "0    3\n",
      "7    2\n",
      "3    2\n",
      "dtype: int64\n"
     ]
    }
   ],
   "source": [
    "import pandas as pd\n",
    "import numpy as np\n",
    "x=pd.Series(np.take(list('0123456789'),np.random.randint(10,size=40)))\n",
    "print(x)\n",
    "print(x.value_counts())"
   ]
  },
  {
   "cell_type": "code",
   "execution_count": 27,
   "id": "d8e5eba7-a38a-4758-b8be-e3c74b5bcee9",
   "metadata": {
    "tags": []
   },
   "outputs": [
    {
     "name": "stdout",
     "output_type": "stream",
     "text": [
      "0     2\n",
      "1     4\n",
      "2     3\n",
      "3     3\n",
      "4     3\n",
      "5     2\n",
      "6     3\n",
      "7     3\n",
      "8     1\n",
      "9     1\n",
      "10    3\n",
      "11    3\n",
      "12    4\n",
      "13    4\n",
      "14    4\n",
      "dtype: int32\n",
      "Top 2 Freq: 3    7\n",
      "4    4\n",
      "2    2\n",
      "1    2\n",
      "dtype: int64\n",
      "0     Other\n",
      "1     Other\n",
      "2         3\n",
      "3         3\n",
      "4         3\n",
      "5     Other\n",
      "6         3\n",
      "7         3\n",
      "8     Other\n",
      "9     Other\n",
      "10        3\n",
      "11        3\n",
      "12    Other\n",
      "13    Other\n",
      "14    Other\n",
      "dtype: object\n"
     ]
    }
   ],
   "source": [
    "import pandas as pd\n",
    "import numpy as np\n",
    "x=pd.Series(np.random.randint(1,5,[15]))\n",
    "print(x)\n",
    "print(\"Top 2 Freq:\", x.value_counts())\n",
    "y=x[~x.isin(x.value_counts().index[:1])]='Other'\n",
    "print(x)"
   ]
  },
  {
   "cell_type": "code",
   "execution_count": 31,
   "id": "6dcb86e4-1657-426d-b603-cea889295799",
   "metadata": {
    "tags": []
   },
   "outputs": [
    {
     "name": "stdout",
     "output_type": "stream",
     "text": [
      "0    1\n",
      "1    9\n",
      "2    5\n",
      "3    6\n",
      "4    9\n",
      "5    7\n",
      "6    1\n",
      "7    1\n",
      "8    1\n",
      "dtype: int64\n",
      "(array([2], dtype=int64),)\n"
     ]
    }
   ],
   "source": [
    "import pandas as pd\n",
    "import numpy as np\n",
    "x=pd.Series([1,9,5,6,9,7,1,1,1])\n",
    "print(x)\n",
    "y=np.where(x%5==0)\n",
    "print(y)"
   ]
  },
  {
   "cell_type": "code",
   "execution_count": 32,
   "id": "c4316a6a-26cb-448f-811a-2192237c263c",
   "metadata": {
    "tags": []
   },
   "outputs": [
    {
     "name": "stdout",
     "output_type": "stream",
     "text": [
      "0     2\n",
      "1     3\n",
      "2     9\n",
      "3     0\n",
      "4     2\n",
      "5     3\n",
      "6     8\n",
      "7     9\n",
      "8     2\n",
      "9     3\n",
      "10    9\n",
      "11    0\n",
      "12    2\n",
      "13    3\n",
      "14    9\n",
      "15    0\n",
      "16    2\n",
      "17    3\n",
      "18    9\n",
      "19    0\n",
      "20    2\n",
      "21    3\n",
      "dtype: object\n",
      "0     2\n",
      "2     9\n",
      "6     8\n",
      "11    0\n",
      "21    3\n",
      "dtype: object\n"
     ]
    }
   ],
   "source": [
    "import pandas as pd\n",
    "x=pd.Series(list('2390238923902390239023'))\n",
    "y=[0,2,6,11,21]\n",
    "print(x)\n",
    "r=x.take(y)\n",
    "print(r)"
   ]
  },
  {
   "cell_type": "code",
   "execution_count": 33,
   "id": "2896c757-5e16-477c-ad8b-7dc5a56a486f",
   "metadata": {
    "tags": []
   },
   "outputs": [
    {
     "name": "stdout",
     "output_type": "stream",
     "text": [
      "0     1\n",
      "1     2\n",
      "2     3\n",
      "3     4\n",
      "4     5\n",
      "5     6\n",
      "6     7\n",
      "7     8\n",
      "8     9\n",
      "9    10\n",
      "dtype: int64\n",
      "0     1\n",
      "1     3\n",
      "2     5\n",
      "3     7\n",
      "4    10\n",
      "dtype: int64\n",
      "[0, 2, 4, 6, 9]\n"
     ]
    }
   ],
   "source": [
    "import pandas as pd\n",
    "x=pd.Series([1,2,3,4,5,6,7,8,9,10])\n",
    "y=pd.Series([1,3,5,7,10])\n",
    "print(x)\n",
    "print(y)\n",
    "print([pd.Index(x).get_loc(i) for i in y])"
   ]
  },
  {
   "cell_type": "code",
   "execution_count": 35,
   "id": "e2006e6a-942c-4723-8be5-f96c8544fa59",
   "metadata": {
    "tags": []
   },
   "outputs": [
    {
     "name": "stdout",
     "output_type": "stream",
     "text": [
      "0       php\n",
      "1    python\n",
      "2      java\n",
      "3        c#\n",
      "dtype: object\n",
      "0       PhP\n",
      "1    PythoN\n",
      "2      JavA\n",
      "3        C#\n",
      "dtype: object\n"
     ]
    }
   ],
   "source": [
    "import pandas as pd\n",
    "x=pd.Series(['php','python','java','c#'])\n",
    "print(x)\n",
    "print(x.map(lambda i:i[0].upper() +i[1:-1]+i[-1].upper()))"
   ]
  },
  {
   "cell_type": "code",
   "execution_count": 36,
   "id": "1b88c179-733a-45f9-8f9c-8df32951ed08",
   "metadata": {
    "tags": []
   },
   "outputs": [
    {
     "name": "stdout",
     "output_type": "stream",
     "text": [
      "0       php\n",
      "1    python\n",
      "2      java\n",
      "3        c#\n",
      "dtype: object\n",
      "0    3\n",
      "1    6\n",
      "2    4\n",
      "3    2\n",
      "dtype: int64\n"
     ]
    }
   ],
   "source": [
    "import pandas as pd\n",
    "x=pd.Series(['php','python','java','c#'])\n",
    "print(x)\n",
    "print(x.map(lambda i:len(i)))"
   ]
  },
  {
   "cell_type": "code",
   "execution_count": 38,
   "id": "de0942dc-84e1-4cc5-ace7-55f705ae135c",
   "metadata": {
    "tags": []
   },
   "outputs": [
    {
     "name": "stdout",
     "output_type": "stream",
     "text": [
      "0     1\n",
      "1     3\n",
      "2     5\n",
      "3     8\n",
      "4    10\n",
      "5    11\n",
      "6    15\n",
      "dtype: int64\n",
      "[nan, 2.0, 2.0, 3.0, 2.0, 1.0, 4.0]\n",
      "[nan, nan, 0.0, 1.0, -1.0, -1.0, 3.0]\n"
     ]
    }
   ],
   "source": [
    "import pandas as pd\n",
    "x=pd.Series([1,3,5,8,10,11,15])\n",
    "print(x)\n",
    "print(x.diff().tolist())\n",
    "print(x.diff().diff().tolist())"
   ]
  },
  {
   "cell_type": "code",
   "execution_count": 39,
   "id": "c6becebc-210c-485e-9ccd-c40974135b08",
   "metadata": {
    "tags": []
   },
   "outputs": [
    {
     "name": "stdout",
     "output_type": "stream",
     "text": [
      "0         01 Jan 2015\n",
      "1          10-02-2016\n",
      "2            20180307\n",
      "3          2014/05/06\n",
      "4          2016-04-12\n",
      "5    2019-04-06T11:20\n",
      "dtype: object\n",
      "0   2015-01-01 00:00:00\n",
      "1   2016-10-02 00:00:00\n",
      "2   2018-03-07 00:00:00\n",
      "3   2014-05-06 00:00:00\n",
      "4   2016-04-12 00:00:00\n",
      "5   2019-04-06 11:20:00\n",
      "dtype: datetime64[ns]\n"
     ]
    }
   ],
   "source": [
    "import pandas as pd\n",
    "x=pd.Series(['01 Jan 2015', '10-02-2016', '20180307', '2014/05/06', '2016-04-12', '2019-04-06T11:20'])\n",
    "print(x)\n",
    "print(pd.to_datetime(x))"
   ]
  },
  {
   "cell_type": "code",
   "execution_count": 54,
   "id": "0774f521-92bd-433b-88a4-f1c9cf6e4813",
   "metadata": {
    "tags": []
   },
   "outputs": [
    {
     "name": "stdout",
     "output_type": "stream",
     "text": [
      "0         01 Jan 2015\n",
      "1          10-02-2016\n",
      "2            20180307\n",
      "3          2014/05/06\n",
      "4          2016-04-12\n",
      "5    2019-04-06T11:20\n",
      "dtype: object\n",
      "[1, 2, 7, 6, 12, 6]\n",
      "[1, 276, 66, 126, 103, 96]\n",
      "[1, 39, 10, 19, 15, 14]\n",
      "['Thursday', 'Sunday', 'Wednesday', 'Tuesday', 'Tuesday', 'Saturday']\n"
     ]
    }
   ],
   "source": [
    "import pandas as pd\n",
    "from dateutil.parser import parse\n",
    "x=pd.Series(['01 Jan 2015', '10-02-2016', '20180307', '2014/05/06', '2016-04-12', '2019-04-06T11:20'])\n",
    "print(x)\n",
    "x=(x.map(lambda i: parse(i)))\n",
    "print(x.dt.day.tolist())\n",
    "print(x.dt.dayofyear.tolist())\n",
    "print(x.dt.isocalendar().week.tolist())\n",
    "print(x.dt.strftime('%A').tolist())"
   ]
  },
  {
   "cell_type": "code",
   "execution_count": 56,
   "id": "a4dd735e-05fe-4b75-bb45-8012991bb523",
   "metadata": {
    "tags": []
   },
   "outputs": [
    {
     "name": "stdout",
     "output_type": "stream",
     "text": [
      "0    Jan 2015\n",
      "1    Feb 2016\n",
      "2    Aug 2017\n",
      "3    Apr 2018\n",
      "4    May 2019\n",
      "dtype: object\n",
      "0   2015-01-22\n",
      "1   2016-02-22\n",
      "2   2017-08-22\n",
      "3   2018-04-22\n",
      "4   2019-05-22\n",
      "dtype: datetime64[ns]\n"
     ]
    }
   ],
   "source": [
    "import pandas as pd\n",
    "from dateutil.parser import parse\n",
    "x=pd.Series(['Jan 2015', 'Feb 2016', 'Aug 2017', 'Apr 2018', 'May 2019'])\n",
    "print(x)\n",
    "print(x.map(lambda i: parse('22' + i)))"
   ]
  },
  {
   "cell_type": "code",
   "execution_count": 64,
   "id": "32186163-869a-4555-b528-81aa6b6a917e",
   "metadata": {
    "tags": []
   },
   "outputs": [
    {
     "name": "stdout",
     "output_type": "stream",
     "text": [
      "0       Red\n",
      "1     Green\n",
      "2    Orange\n",
      "3      Pink\n",
      "4    Yellow\n",
      "5     White\n",
      "dtype: object\n",
      "1     Green\n",
      "2    Orange\n",
      "4    Yellow\n",
      "5     White\n",
      "dtype: object\n"
     ]
    }
   ],
   "source": [
    "import pandas as pd\n",
    "from collections import Counter\n",
    "x=pd.Series(['Red','Green','Orange','Pink','Yellow','White'])\n",
    "print(x)\n",
    "print(x[x.map(lambda i: sum([Counter(i.lower()).get(j,0) for j in list('aeiou')])>=2)])"
   ]
  },
  {
   "cell_type": "code",
   "execution_count": 66,
   "id": "cb5c6b4e-6205-47b5-97e6-6af07bef9929",
   "metadata": {
    "tags": []
   },
   "outputs": [
    {
     "name": "stdout",
     "output_type": "stream",
     "text": [
      "0     1\n",
      "1     2\n",
      "2     3\n",
      "3     4\n",
      "4     5\n",
      "5     6\n",
      "6     7\n",
      "7     8\n",
      "8     9\n",
      "9    10\n",
      "dtype: int64\n",
      "0    11\n",
      "1     8\n",
      "2     7\n",
      "3     5\n",
      "4     6\n",
      "5     5\n",
      "6     3\n",
      "7     4\n",
      "8     7\n",
      "9     1\n",
      "dtype: int64\n",
      "16.492422502470642\n"
     ]
    }
   ],
   "source": [
    "import pandas as pd\n",
    "import numpy as np\n",
    "x=pd.Series([1,2,3,4,5,6,7,8,9,10])\n",
    "y=pd.Series([11,8,7,5,6,5,3,4,7,1])\n",
    "print(x)\n",
    "print(y)\n",
    "print(np.linalg.norm(x-y))"
   ]
  },
  {
   "cell_type": "code",
   "execution_count": 67,
   "id": "9eec203e-19d0-4532-9b00-979de3495103",
   "metadata": {
    "tags": []
   },
   "outputs": [
    {
     "name": "stdout",
     "output_type": "stream",
     "text": [
      "0    1\n",
      "1    8\n",
      "2    7\n",
      "3    5\n",
      "4    6\n",
      "5    5\n",
      "6    3\n",
      "7    4\n",
      "8    7\n",
      "9    1\n",
      "dtype: int64\n",
      "[1 4 8]\n"
     ]
    }
   ],
   "source": [
    "import pandas as pd\n",
    "import numpy as np\n",
    "x=pd.Series([1, 8, 7, 5, 6, 5, 3, 4, 7, 1])\n",
    "print(x)\n",
    "t=np.diff(np.sign(np.diff(x)))\n",
    "r=np.where(t== -2)[0]+1\n",
    "print(r)"
   ]
  },
  {
   "cell_type": "code",
   "execution_count": 72,
   "id": "f09e4d31-db68-4196-916c-862ff17d28a6",
   "metadata": {
    "tags": []
   },
   "outputs": [
    {
     "name": "stdout",
     "output_type": "stream",
     "text": [
      "abc def abcdef icd\n",
      "c    3\n",
      "     3\n",
      "d    3\n",
      "a    2\n",
      "b    2\n",
      "e    2\n",
      "f    2\n",
      "i    1\n",
      "dtype: int64\n",
      "i\n",
      "abcidefiabcdefiicd\n"
     ]
    }
   ],
   "source": [
    "import pandas as pd\n",
    "x='abc def abcdef icd'\n",
    "y=pd.Series(list(x))\n",
    "e=y.value_counts()\n",
    "c=e.dropna().index[-1]\n",
    "r=''.join(y.replace(' ',c))\n",
    "print(x,'\\n',e,'\\n',c,'\\n',r,sep='')"
   ]
  },
  {
   "cell_type": "code",
   "execution_count": 79,
   "id": "93a85c47-b6af-4de2-b00a-3b9ffdefbf72",
   "metadata": {
    "tags": []
   },
   "outputs": [
    {
     "name": "stdout",
     "output_type": "stream",
     "text": [
      "0    -30.840509\n",
      "1    -10.673720\n",
      "2      1.674991\n",
      "3     13.475263\n",
      "4     -3.552686\n",
      "5     -3.974088\n",
      "6      9.656217\n",
      "7     -1.776251\n",
      "8      3.430074\n",
      "9     11.317052\n",
      "10    -0.254612\n",
      "11    14.588502\n",
      "12    10.653032\n",
      "13    10.679616\n",
      "14    13.619111\n",
      "dtype: float64\n",
      "[0.44, 0.11, 0.2, 0.32, 0.52, 0.22, 0.36, 0.5, 0.18, 0.67]\n"
     ]
    }
   ],
   "source": [
    "import pandas as pd\n",
    "import numpy as np\n",
    "x=pd.Series(np.arange(15)+np.random.normal(1,10,15))\n",
    "print(x)\n",
    "print([x.autocorr(i).round(2) for i in range(11)][1:])"
   ]
  },
  {
   "cell_type": "code",
   "execution_count": 80,
   "id": "fd9d94ff-98a4-4dd8-9ea6-ec3f79b01e8e",
   "metadata": {
    "tags": []
   },
   "outputs": [
    {
     "name": "stdout",
     "output_type": "stream",
     "text": [
      "0    2024-01-07\n",
      "1    2024-01-14\n",
      "2    2024-01-21\n",
      "3    2024-01-28\n",
      "4    2024-02-04\n",
      "5    2024-02-11\n",
      "6    2024-02-18\n",
      "7    2024-02-25\n",
      "8    2024-03-03\n",
      "9    2024-03-10\n",
      "10   2024-03-17\n",
      "11   2024-03-24\n",
      "12   2024-03-31\n",
      "13   2024-04-07\n",
      "14   2024-04-14\n",
      "15   2024-04-21\n",
      "16   2024-04-28\n",
      "17   2024-05-05\n",
      "18   2024-05-12\n",
      "19   2024-05-19\n",
      "20   2024-05-26\n",
      "21   2024-06-02\n",
      "22   2024-06-09\n",
      "23   2024-06-16\n",
      "24   2024-06-23\n",
      "25   2024-06-30\n",
      "26   2024-07-07\n",
      "27   2024-07-14\n",
      "28   2024-07-21\n",
      "29   2024-07-28\n",
      "30   2024-08-04\n",
      "31   2024-08-11\n",
      "32   2024-08-18\n",
      "33   2024-08-25\n",
      "34   2024-09-01\n",
      "35   2024-09-08\n",
      "36   2024-09-15\n",
      "37   2024-09-22\n",
      "38   2024-09-29\n",
      "39   2024-10-06\n",
      "40   2024-10-13\n",
      "41   2024-10-20\n",
      "42   2024-10-27\n",
      "43   2024-11-03\n",
      "44   2024-11-10\n",
      "45   2024-11-17\n",
      "46   2024-11-24\n",
      "47   2024-12-01\n",
      "48   2024-12-08\n",
      "49   2024-12-15\n",
      "50   2024-12-22\n",
      "51   2024-12-29\n",
      "dtype: datetime64[ns]\n"
     ]
    }
   ],
   "source": [
    "import pandas as pd\n",
    "x=pd.Series(pd.date_range('2024-01-01',periods=52,freq='W-SUN'))\n",
    "print(x)"
   ]
  },
  {
   "cell_type": "code",
   "execution_count": 83,
   "id": "0fe02edc-1ada-4242-bfc9-5dd1b5e55011",
   "metadata": {
    "tags": []
   },
   "outputs": [
    {
     "name": "stdout",
     "output_type": "stream",
     "text": [
      "  index  0\n",
      "0     A  0\n",
      "1     B  1\n",
      "2     C  2\n",
      "3     D  3\n",
      "4     E  4\n"
     ]
    }
   ],
   "source": [
    "import pandas as pd\n",
    "import numpy as np\n",
    "c=list('ABCDEFGHIJKLMNOP')\n",
    "n=np.arange(8)\n",
    "m=dict(zip(c,n))\n",
    "x=pd.Series(m)\n",
    "y=x.to_frame().reset_index()\n",
    "print(y.head())"
   ]
  },
  {
   "cell_type": "code",
   "execution_count": 87,
   "id": "da993df4-b700-4426-ab79-05dbb91eac9a",
   "metadata": {
    "tags": []
   },
   "outputs": [
    {
     "name": "stdout",
     "output_type": "stream",
     "text": [
      "   0  1\n",
      "0  0  p\n",
      "1  1  q\n",
      "2  2  r\n",
      "3  3  s\n",
      "4  4  t\n",
      "5  5  u\n",
      "6  6  v\n",
      "7  7  w\n",
      "8  8  x\n",
      "9  9  y\n"
     ]
    }
   ],
   "source": [
    "import pandas as pd\n",
    "x=pd.Series(range(10))\n",
    "y=pd.Series(list('pqrstuvwxy'))\n",
    "df=pd.concat([x,y],axis=1)\n",
    "print(df)"
   ]
  },
  {
   "cell_type": "code",
   "execution_count": 89,
   "id": "3affc2dd-afba-45aa-b527-bfe13ce75f90",
   "metadata": {
    "tags": []
   },
   "outputs": [
    {
     "name": "stdout",
     "output_type": "stream",
     "text": [
      "0     True\n",
      "1     True\n",
      "2     True\n",
      "3     True\n",
      "4     True\n",
      "5    False\n",
      "6     True\n",
      "7     True\n",
      "8     True\n",
      "9     True\n",
      "dtype: bool\n"
     ]
    }
   ],
   "source": [
    "import pandas as pd\n",
    "x=pd.Series([1, 8, 7, 5, 6, 5, 3, 4, 7, 1])\n",
    "y = pd.Series([1, 8, 7, 5, 6, 0, 3, 4, 7, 1])\n",
    "print(x==y)"
   ]
  },
  {
   "cell_type": "code",
   "execution_count": 91,
   "id": "c69475f2-3035-410d-ba1a-1065036779e6",
   "metadata": {
    "tags": []
   },
   "outputs": [
    {
     "name": "stdout",
     "output_type": "stream",
     "text": [
      "4\n",
      "9\n"
     ]
    }
   ],
   "source": [
    "import pandas as pd\n",
    "x=pd.Series([1, 3, 7, 12, 88, 23, 3, 1, 9, 0])\n",
    "print(x.idxmax())\n",
    "print(x.idxmin())"
   ]
  },
  {
   "cell_type": "code",
   "execution_count": 93,
   "id": "7db48acc-49be-4413-b7e9-5ee340158931",
   "metadata": {
    "tags": []
   },
   "outputs": [
    {
     "name": "stdout",
     "output_type": "stream",
     "text": [
      "0    68.0\n",
      "1    75.0\n",
      "2    86.0\n",
      "3    80.0\n",
      "4     NaN\n",
      "dtype: float64\n",
      "      W     X   Y   Z\n",
      "0  68.0  78.0  84  86\n",
      "1  75.0  75.0  94  97\n",
      "2  86.0   NaN  89  96\n",
      "3  80.0  80.0  86  72\n",
      "4   NaN  86.0  86  83\n",
      "       W      X     Y     Z\n",
      "0  False   True  True  True\n",
      "1  False  False  True  True\n",
      "2  False   True  True  True\n",
      "3  False  False  True  True\n",
      "4   True   True  True  True\n"
     ]
    }
   ],
   "source": [
    "import pandas as pd\n",
    "x=pd.Series([68, 75, 86, 80, None])\n",
    "y=pd.DataFrame({'W':[68,75,86,80,None],'X':[78,75,None,80,86], 'Y':[84,94,89,86,86],'Z':[86,97,96,72,83]})\n",
    "print(x)\n",
    "print(y)\n",
    "print(y.ne(x,axis=0))"
   ]
  },
  {
   "cell_type": "code",
   "execution_count": null,
   "id": "8cf3697b-137d-48a8-98f1-c29d93822978",
   "metadata": {},
   "outputs": [],
   "source": []
  }
 ],
 "metadata": {
  "kernelspec": {
   "display_name": "Python 3 (ipykernel)",
   "language": "python",
   "name": "python3"
  },
  "language_info": {
   "codemirror_mode": {
    "name": "ipython",
    "version": 3
   },
   "file_extension": ".py",
   "mimetype": "text/x-python",
   "name": "python",
   "nbconvert_exporter": "python",
   "pygments_lexer": "ipython3",
   "version": "3.11.3"
  }
 },
 "nbformat": 4,
 "nbformat_minor": 5
}
