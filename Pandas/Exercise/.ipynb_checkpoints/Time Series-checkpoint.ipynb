{
 "cells": [
  {
   "cell_type": "code",
   "execution_count": 2,
   "id": "31600385-218c-4e6c-ab3e-57ac223ecf5b",
   "metadata": {},
   "outputs": [
    {
     "name": "stdout",
     "output_type": "stream",
     "text": [
      "Datetime object for Jan 11 2012:\n",
      "2012-01-11 00:00:00\n",
      "\n",
      "Specific date and time of 9:20 pm\n",
      "2011-01-11 21:20:00\n",
      "\n",
      "Local date and time:\n",
      "2024-03-24 15:38:52.994363\n",
      "\n",
      "A date without time: \n",
      "2012-05-22\n",
      "\n",
      "Current date:\n",
      "2024-03-24\n",
      "\n",
      "Time from a datetime:\n",
      "18:12:00\n",
      "\n",
      "Current local time:\n",
      "15:38:52.994363\n"
     ]
    }
   ],
   "source": [
    "import datetime\n",
    "from datetime import datetime\n",
    "print(\"Datetime object for Jan 11 2012:\")\n",
    "print(datetime(2012, 1, 11))\n",
    "print(\"\\nSpecific date and time of 9:20 pm\") \n",
    "print(datetime(2011, 1, 11, 21, 20))\n",
    "print(\"\\nLocal date and time:\")\n",
    "print(datetime.now())\n",
    "print(\"\\nA date without time: \")\n",
    "print(datetime.date(datetime(2012, 5, 22)))\n",
    "print(\"\\nCurrent date:\")\n",
    "print(datetime.now().date())\n",
    "print(\"\\nTime from a datetime:\")\n",
    "print(datetime.time(datetime(2012, 12, 15, 18, 12)))\n",
    "print(\"\\nCurrent local time:\") \n",
    "print(datetime.now().time())"
   ]
  },
  {
   "cell_type": "code",
   "execution_count": 3,
   "id": "a2db8107-b39a-4426-8135-95a28f4f72e1",
   "metadata": {},
   "outputs": [
    {
     "name": "stdout",
     "output_type": "stream",
     "text": [
      "2000-08-22 00:00:00\n",
      "2000-08-22 07:00:00\n",
      "2024-03-24 07:00:00\n",
      "2024-03-24 15:42:40.429531\n"
     ]
    }
   ],
   "source": [
    "import pandas as pd\n",
    "print(pd.Timestamp('2000-08-22'))\n",
    "print(pd.Timestamp('2000-08-22 7:00'))\n",
    "print(pd.Timestamp('7:00'))\n",
    "print(pd.Timestamp('now'))"
   ]
  },
  {
   "cell_type": "code",
   "execution_count": 5,
   "id": "a4be464d-4ece-4bce-9747-177bd68ac5e5",
   "metadata": {},
   "outputs": [
    {
     "name": "stdout",
     "output_type": "stream",
     "text": [
      "2000-08-22 00:00:00\n",
      "2000-08-22 00:00:00\n"
     ]
    }
   ],
   "source": [
    "from datetime import datetime\n",
    "x=datetime(year=2000, month=8,day=22)\n",
    "print(x)\n",
    "from dateutil import parser\n",
    "y=parser.parse('22nd of August, 2000')\n",
    "print(y)"
   ]
  },
  {
   "cell_type": "code",
   "execution_count": 8,
   "id": "c4a16e6b-e87e-4b3f-8382-5600def34cda",
   "metadata": {},
   "outputs": [
    {
     "name": "stdout",
     "output_type": "stream",
     "text": [
      "2000-08-22 00:00:00\n",
      "2000-08-23 00:00:00\n",
      "2000-08-21 00:00:00\n",
      "8766 days, 0:00:00\n"
     ]
    }
   ],
   "source": [
    "import pandas as pd\n",
    "import datetime\n",
    "from datetime import datetime,date\n",
    "today=datetime(2000,8,22)\n",
    "print(today)\n",
    "tomorrow = today + pd.Timedelta(days=1)\n",
    "print(tomorrow)\n",
    "yesterday = today - pd.Timedelta(days=1)\n",
    "print(yesterday)\n",
    "date1=datetime(2024,8,22)\n",
    "date2=datetime(2000,8,22)\n",
    "print(date1-date2)"
   ]
  },
  {
   "cell_type": "code",
   "execution_count": 13,
   "id": "00894b27-cc3c-4f1c-a691-996e4632c07b",
   "metadata": {},
   "outputs": [
    {
     "name": "stdout",
     "output_type": "stream",
     "text": [
      "Time-series with two index labels:\n",
      "2011-09-01    0.962817\n",
      "2011-09-02    1.664424\n",
      "dtype: float64\n",
      "\n",
      "Type of the index:\n",
      "<class 'pandas.core.indexes.datetimes.DatetimeIndex'>\n"
     ]
    }
   ],
   "source": [
    "import pandas as pd\n",
    "import numpy as np\n",
    "import datetime\n",
    "from datetime import datetime, date\n",
    "dates = [datetime(2011, 9, 1), datetime(2011, 9, 2)]\n",
    "print(\"Time-series with two index labels:\")\n",
    "time_series = pd.Series(np.random.randn(2), dates)\n",
    "print(time_series)\n",
    "print(\"\\nType of the index:\")\n",
    "print(type(time_series.index))\n"
   ]
  },
  {
   "cell_type": "code",
   "execution_count": 14,
   "id": "cb6f60b9-ea3f-40c2-b5fe-3594c9c37b9a",
   "metadata": {},
   "outputs": [
    {
     "name": "stdout",
     "output_type": "stream",
     "text": [
      "2014-08-01   -0.383971\n",
      "2014-08-02   -0.674554\n",
      "2014-08-03   -0.207175\n",
      "2014-08-04    1.063843\n",
      "dtype: float64\n"
     ]
    }
   ],
   "source": [
    "dates = ['2014-08-01','2014-08-02','2014-08-03','2014-08-04']\n",
    "time_series = pd.Series(np.random.randn(4), dates)\n",
    "print(time_series)"
   ]
  },
  {
   "cell_type": "code",
   "execution_count": 16,
   "id": "a3548687-28eb-4616-9000-aeac11fb6ce5",
   "metadata": {},
   "outputs": [
    {
     "name": "stdout",
     "output_type": "stream",
     "text": [
      "Time series object with indexed data:\n",
      "2010-08-04    0\n",
      "2011-08-04    1\n",
      "2011-09-02    2\n",
      "2012-08-04    3\n",
      "2012-08-04    4\n",
      "2015-03-03    5\n",
      "2015-04-03    6\n",
      "2015-09-03    7\n",
      "dtype: int64\n",
      "\n",
      "Dates of same year:\n",
      "2015-03-03    5\n",
      "2015-04-03    6\n",
      "2015-09-03    7\n",
      "dtype: int64\n",
      "\n",
      "Dates between 2012-01-01 and 2012-12-31\n",
      "2012-08-04    3\n",
      "2012-08-04    4\n",
      "dtype: int64\n"
     ]
    }
   ],
   "source": [
    "import pandas as pd\n",
    "\n",
    "index = pd.DatetimeIndex(['2011-09-02', '2012-08-04',\n",
    "                          '2015-09-03', '2010-08-04',\n",
    "                          '2015-03-03', '2011-08-04',\n",
    "                          '2015-04-03', '2012-08-04'])\n",
    "\n",
    "# Sort the index\n",
    "index = index.sort_values()\n",
    "\n",
    "s_dates = pd.Series([0, 1, 2, 3, 4, 5, 6, 7], index=index)\n",
    "\n",
    "print(\"Time series object with indexed data:\")\n",
    "print(s_dates)\n",
    "print(\"\\nDates of same year:\")\n",
    "print(s_dates['2015'])\n",
    "print(\"\\nDates between 2012-01-01 and 2012-12-31\")\n",
    "print(s_dates['2012-01-01':'2012-12-31'])\n"
   ]
  },
  {
   "cell_type": "code",
   "execution_count": 17,
   "id": "a1410540-fbd0-485f-b095-12651d662792",
   "metadata": {},
   "outputs": [
    {
     "name": "stdout",
     "output_type": "stream",
     "text": [
      "DatetimeIndex(['2000-08-01', '2000-08-02', '2000-08-03', '2000-08-04',\n",
      "               '2000-08-05', '2000-08-06', '2000-08-07', '2000-08-08',\n",
      "               '2000-08-09', '2000-08-10', '2000-08-11', '2000-08-12',\n",
      "               '2000-08-13', '2000-08-14', '2000-08-15', '2000-08-16',\n",
      "               '2000-08-17', '2000-08-18', '2000-08-19', '2000-08-20',\n",
      "               '2000-08-21', '2000-08-22', '2000-08-23', '2000-08-24',\n",
      "               '2000-08-25', '2000-08-26', '2000-08-27', '2000-08-28',\n",
      "               '2000-08-29', '2000-08-30', '2000-08-31', '2000-09-01',\n",
      "               '2000-09-02', '2000-09-03', '2000-09-04', '2000-09-05',\n",
      "               '2000-09-06', '2000-09-07', '2000-09-08', '2000-09-09',\n",
      "               '2000-09-10', '2000-09-11', '2000-09-12', '2000-09-13',\n",
      "               '2000-09-14'],\n",
      "              dtype='datetime64[ns]', freq='D')\n"
     ]
    }
   ],
   "source": [
    "import pandas as pd\n",
    "x=pd.date_range('2000-08-01',periods=45)\n",
    "print(x)"
   ]
  },
  {
   "cell_type": "code",
   "execution_count": 19,
   "id": "52b427d1-2e4a-4561-bf28-a044fffc6a28",
   "metadata": {},
   "outputs": [
    {
     "name": "stdout",
     "output_type": "stream",
     "text": [
      "0    2000-08-22\n",
      "1    2000-08-23\n",
      "2    2000-08-24\n",
      "3    2000-08-25\n",
      "4    2000-08-26\n",
      "5    2000-08-27\n",
      "6    2000-08-28\n",
      "7    2000-08-29\n",
      "8    2000-08-30\n",
      "9    2000-08-31\n",
      "10   2000-09-01\n",
      "11   2000-09-02\n",
      "12   2000-09-03\n",
      "13   2000-09-04\n",
      "14   2000-09-05\n",
      "15   2000-09-06\n",
      "16   2000-09-07\n",
      "17   2000-09-08\n",
      "18   2000-09-09\n",
      "19   2000-09-10\n",
      "20   2000-09-11\n",
      "21   2000-09-12\n",
      "22   2000-09-13\n",
      "23   2000-09-14\n",
      "24   2000-09-15\n",
      "25   2000-09-16\n",
      "26   2000-09-17\n",
      "27   2000-09-18\n",
      "28   2000-09-19\n",
      "29   2000-09-20\n",
      "30   2000-09-21\n",
      "dtype: datetime64[ns]\n",
      "\n",
      "Maximum date:  2000-09-21 00:00:00\n",
      "Minimum date:  2000-08-22 00:00:00\n",
      "Maximum index:  30\n",
      "Minimum index:  0\n"
     ]
    }
   ],
   "source": [
    "import pandas as pd\n",
    "dates=pd.Series(pd.date_range('2000-08-22',periods=31,freq='D'))\n",
    "print(dates)\n",
    "# dates = pd.Series(pd.date_range('2020-12-01',periods=31, freq='D'))\n",
    "print(\"\\nMaximum date: \", dates.max())\n",
    "print(\"Minimum date: \", dates.min())\n",
    "print(\"Maximum index: \", dates.idxmax())\n",
    "print(\"Minimum index: \", dates.idxmin())"
   ]
  },
  {
   "cell_type": "code",
   "execution_count": 20,
   "id": "90aaa632-7013-4e5f-91fa-dfe57f112584",
   "metadata": {},
   "outputs": [
    {
     "name": "stdout",
     "output_type": "stream",
     "text": [
      "0    2000-08-31\n",
      "1    2000-11-30\n",
      "2    2001-02-28\n",
      "3    2001-05-31\n",
      "4    2001-08-31\n",
      "5    2001-11-30\n",
      "6    2002-02-28\n",
      "7    2002-05-31\n",
      "8    2002-08-31\n",
      "9    2002-11-30\n",
      "10   2003-02-28\n",
      "11   2003-05-31\n",
      "12   2003-08-31\n",
      "13   2003-11-30\n",
      "14   2004-02-29\n",
      "15   2004-05-31\n",
      "16   2004-08-31\n",
      "17   2004-11-30\n",
      "18   2005-02-28\n",
      "19   2005-05-31\n",
      "20   2005-08-31\n",
      "21   2005-11-30\n",
      "22   2006-02-28\n",
      "23   2006-05-31\n",
      "24   2006-08-31\n",
      "25   2006-11-30\n",
      "26   2007-02-28\n",
      "27   2007-05-31\n",
      "28   2007-08-31\n",
      "29   2007-11-30\n",
      "30   2008-02-29\n",
      "31   2008-05-31\n",
      "32   2008-08-31\n",
      "33   2008-11-30\n",
      "34   2009-02-28\n",
      "35   2009-05-31\n",
      "dtype: datetime64[ns]\n"
     ]
    }
   ],
   "source": [
    "import pandas as pd\n",
    "dates=pd.Series(pd.date_range('2000-08-22',periods=36,freq='3M'))\n",
    "print(dates)"
   ]
  },
  {
   "cell_type": "code",
   "execution_count": 22,
   "id": "f35e81cc-b2c3-46b4-91c7-78cf3119cdd1",
   "metadata": {},
   "outputs": [
    {
     "name": "stdout",
     "output_type": "stream",
     "text": [
      "Hourly range of periods 49:\n",
      "TimedeltaIndex(['0 days 00:00:00', '0 days 01:00:00', '0 days 02:00:00',\n",
      "                '0 days 03:00:00', '0 days 04:00:00', '0 days 05:00:00',\n",
      "                '0 days 06:00:00', '0 days 07:00:00', '0 days 08:00:00',\n",
      "                '0 days 09:00:00', '0 days 10:00:00', '0 days 11:00:00',\n",
      "                '0 days 12:00:00', '0 days 13:00:00', '0 days 14:00:00',\n",
      "                '0 days 15:00:00', '0 days 16:00:00', '0 days 17:00:00',\n",
      "                '0 days 18:00:00', '0 days 19:00:00', '0 days 20:00:00',\n",
      "                '0 days 21:00:00', '0 days 22:00:00', '0 days 23:00:00',\n",
      "                '1 days 00:00:00', '1 days 01:00:00', '1 days 02:00:00',\n",
      "                '1 days 03:00:00', '1 days 04:00:00', '1 days 05:00:00',\n",
      "                '1 days 06:00:00', '1 days 07:00:00', '1 days 08:00:00',\n",
      "                '1 days 09:00:00', '1 days 10:00:00', '1 days 11:00:00',\n",
      "                '1 days 12:00:00', '1 days 13:00:00', '1 days 14:00:00',\n",
      "                '1 days 15:00:00', '1 days 16:00:00', '1 days 17:00:00',\n",
      "                '1 days 18:00:00', '1 days 19:00:00', '1 days 20:00:00',\n",
      "                '1 days 21:00:00', '1 days 22:00:00', '1 days 23:00:00',\n",
      "                '2 days 00:00:00'],\n",
      "               dtype='timedelta64[ns]', freq='H')\n"
     ]
    }
   ],
   "source": [
    "import pandas as pd\n",
    "date_range = pd.timedelta_range(0, periods=49, freq='H')\n",
    "print(\"Hourly range of periods 49:\")\n",
    "print(date_range)"
   ]
  },
  {
   "cell_type": "code",
   "execution_count": 23,
   "id": "5dc63864-558b-4cc4-aeab-96f4922e90d7",
   "metadata": {},
   "outputs": [
    {
     "name": "stdout",
     "output_type": "stream",
     "text": [
      "Original DataFrame:\n",
      "   year  day_of_the_year\n",
      "0  2002              250\n",
      "1  2003              365\n",
      "2  2015                1\n",
      "3  2018              140\n",
      "\n",
      "New DataFrame:\n",
      "   year  day_of_the_year  combined       date\n",
      "0  2002              250   2002250 2002-09-07\n",
      "1  2003              365   2003365 2003-12-31\n",
      "2  2015                1   2015001 2015-01-01\n",
      "3  2018              140   2018140 2018-05-20\n"
     ]
    }
   ],
   "source": [
    "import pandas as pd\n",
    "data = {\\\n",
    "\"year\": [2002, 2003, 2015, 2018],\n",
    "\"day_of_the_year\": [250, 365, 1, 140]\n",
    "}\n",
    "df = pd.DataFrame(data)\n",
    "print(\"Original DataFrame:\")\n",
    "print(df)\n",
    "df[\"combined\"] = df[\"year\"]*1000 + df[\"day_of_the_year\"]\n",
    "df[\"date\"] = pd.to_datetime(df[\"combined\"], format = \"%Y%j\")\n",
    "print(\"\\nNew DataFrame:\")\n",
    "print(df)\n"
   ]
  },
  {
   "cell_type": "code",
   "execution_count": 24,
   "id": "d758af29-5807-4fb6-a25b-88153bc9002e",
   "metadata": {},
   "outputs": [
    {
     "name": "stdout",
     "output_type": "stream",
     "text": [
      "Original dataframe:\n",
      "   year  month  day  hour\n",
      "0  2018      2    4     2\n",
      "1  2019      3    5     3\n",
      "2  2020      4    6     4\n",
      "\n",
      "Series of Timestamps from the said dataframe:\n",
      "0   2018-02-04 02:00:00\n",
      "1   2019-03-05 03:00:00\n",
      "2   2020-04-06 04:00:00\n",
      "dtype: datetime64[ns]\n",
      "\n",
      "Series of Timestamps using specified columns:\n",
      "0   2018-02-04\n",
      "1   2019-03-05\n",
      "2   2020-04-06\n",
      "dtype: datetime64[ns]\n"
     ]
    }
   ],
   "source": [
    "import pandas as pd\n",
    "df = pd.DataFrame({'year': [2018, 2019, 2020],\n",
    "                   'month': [2, 3, 4],\n",
    "                   'day': [4, 5, 6],\n",
    "                   'hour': [2, 3, 4]})\n",
    "print(\"Original dataframe:\")\n",
    "print(df)\n",
    "result = pd.to_datetime(df)\n",
    "print(\"\\nSeries of Timestamps from the said dataframe:\")\n",
    "print(result)\n",
    "print(\"\\nSeries of Timestamps using specified columns:\")\n",
    "print(pd.to_datetime(df[['year', 'month', 'day']]))\n"
   ]
  },
  {
   "cell_type": "code",
   "execution_count": 26,
   "id": "a4c6f717-4e8c-4a76-8ee7-fc9f2eaedb8c",
   "metadata": {},
   "outputs": [
    {
     "name": "stdout",
     "output_type": "stream",
     "text": [
      "Check busines day or not?\n",
      "2000-08-22:  True\n",
      "2020-12-06:  False\n",
      "2020-12-07:  True\n",
      "2020-12-08:  True\n"
     ]
    }
   ],
   "source": [
    "import pandas as pd\n",
    "def is_business_day(date):\n",
    "    return bool(len(pd.bdate_range(date, date)))\n",
    "print(\"Check busines day or not?\")\n",
    "print('2000-08-22: ',is_business_day('2000-08-22'))\n",
    "print('2020-12-06: ',is_business_day('2020-12-06'))\n",
    "print('2020-12-07: ',is_business_day('2020-12-07'))\n",
    "print('2020-12-08: ',is_business_day('2020-12-08'))\n"
   ]
  },
  {
   "cell_type": "code",
   "execution_count": 28,
   "id": "ab463fef-2589-4097-8c0a-89f83665b287",
   "metadata": {},
   "outputs": [
    {
     "name": "stdout",
     "output_type": "stream",
     "text": [
      "last working days of each month of a specific year:\n",
      "         Date\n",
      "0  2000-01-31\n",
      "1  2000-02-29\n",
      "2  2000-03-31\n",
      "3  2000-04-28\n",
      "4  2000-05-31\n",
      "5  2000-06-30\n",
      "6  2000-07-31\n",
      "7  2000-08-31\n",
      "8  2000-09-29\n",
      "9  2000-10-31\n",
      "10 2000-11-30\n",
      "11 2000-12-29\n"
     ]
    }
   ],
   "source": [
    "import pandas as pd\n",
    "s = pd.date_range('2000-01-01', periods=12, freq='BM')\n",
    "df = pd.DataFrame(s, columns=['Date'])\n",
    "print('last working days of each month of a specific year:')\n",
    "print(df)\n"
   ]
  },
  {
   "cell_type": "code",
   "execution_count": 29,
   "id": "ce42855d-1af4-407b-b8fd-89e33368e86d",
   "metadata": {},
   "outputs": [
    {
     "name": "stdout",
     "output_type": "stream",
     "text": [
      "For a frequency of 1 hours 20 minutes, here we have combined the hour (H) and minute (T):\n",
      "\n",
      "TimedeltaIndex(['0 days 00:00:00', '0 days 01:20:00', '0 days 02:40:00',\n",
      "                '0 days 04:00:00', '0 days 05:20:00', '0 days 06:40:00',\n",
      "                '0 days 08:00:00', '0 days 09:20:00', '0 days 10:40:00',\n",
      "                '0 days 12:00:00', '0 days 13:20:00', '0 days 14:40:00',\n",
      "                '0 days 16:00:00', '0 days 17:20:00', '0 days 18:40:00',\n",
      "                '0 days 20:00:00', '0 days 21:20:00', '0 days 22:40:00',\n",
      "                '1 days 00:00:00', '1 days 01:20:00', '1 days 02:40:00',\n",
      "                '1 days 04:00:00', '1 days 05:20:00', '1 days 06:40:00',\n",
      "                '1 days 08:00:00', '1 days 09:20:00', '1 days 10:40:00',\n",
      "                '1 days 12:00:00', '1 days 13:20:00', '1 days 14:40:00'],\n",
      "               dtype='timedelta64[ns]', freq='80T')\n"
     ]
    }
   ],
   "source": [
    "import pandas as pd\n",
    "result = pd.timedelta_range(0, periods=30, freq=\"1H20T\")\n",
    "print(\"For a frequency of 1 hours 20 minutes, here we have combined the hour (H) and minute (T):\\n\")\n",
    "print(result)\n"
   ]
  },
  {
   "cell_type": "code",
   "execution_count": 30,
   "id": "b1da0535-465c-482e-a3c9-3a56d6b3f998",
   "metadata": {},
   "outputs": [
    {
     "name": "stdout",
     "output_type": "stream",
     "text": [
      "Regular time stamp in UTC:\n",
      "2021-05-16 02:32:35\n",
      "\n",
      "Convert the said timestamp in to US/Pacific:\n",
      "2021-05-15 19:32:35-07:00\n",
      "\n",
      "Convert the said timestamp in to Europe/Berlin:\n",
      "2021-05-16 04:32:35+02:00\n"
     ]
    }
   ],
   "source": [
    "import pandas as pd\n",
    "epoch_t = 1621132355\n",
    "time_stamp = pd.to_datetime(epoch_t, unit='s')\n",
    "# UTC (Coordinated Universal Time) is one of the well-known names of UTC+0 time zone which is 0h.\n",
    "# By default, time series objects of pandas do not have an assigned time zone.\n",
    "print(\"Regular time stamp in UTC:\")\n",
    "print(time_stamp)\n",
    "print(\"\\nConvert the said timestamp in to US/Pacific:\")\n",
    "print(time_stamp.tz_localize('UTC').tz_convert('US/Pacific'))\n",
    "print(\"\\nConvert the said timestamp in to Europe/Berlin:\")\n",
    "print(time_stamp.tz_localize('UTC').tz_convert('Europe/Berlin'))\n"
   ]
  },
  {
   "cell_type": "code",
   "execution_count": 31,
   "id": "74cbe55b-c779-475f-bbe7-10a3c4a54cfd",
   "metadata": {},
   "outputs": [
    {
     "name": "stdout",
     "output_type": "stream",
     "text": [
      "Timezone: Europe/Berlin:\n",
      "Using pytz:\n",
      "Europe/Berlin\n",
      "Using dateutil:\n",
      "tzfile('Atlantic/Jan_Mayen')\n",
      "\n",
      "US/Pacific:\n",
      "Using pytz:\n",
      "US/Pacific\n",
      "Using dateutil:\n",
      "tzfile('America/Los_Angeles')\n"
     ]
    }
   ],
   "source": [
    "import pandas as pd\n",
    "print(\"Timezone: Europe/Berlin:\")\n",
    "print(\"Using pytz:\")\n",
    "date_pytz = pd.Timestamp('2019-01-01', tz = 'Europe/Berlin')\n",
    "print(date_pytz.tz)  \n",
    "print(\"Using dateutil:\")\n",
    "date_util = pd.Timestamp('2019-01-01', tz = 'dateutil/Europe/Berlin')\n",
    "print(date_util.tz)\n",
    "print(\"\\nUS/Pacific:\")\n",
    "print(\"Using pytz:\")\n",
    "date_pytz = pd.Timestamp('2019-01-01', tz = 'US/Pacific')\n",
    "print(date_pytz.tz)  \n",
    "print(\"Using dateutil:\")\n",
    "date_util = pd.Timestamp('2019-01-01', tz = 'dateutil/US/Pacific')\n",
    "print(date_util.tz)\n"
   ]
  },
  {
   "cell_type": "code",
   "execution_count": 32,
   "id": "134afd0b-adfc-43e6-b082-0eb5e61d94f5",
   "metadata": {},
   "outputs": [
    {
     "name": "stdout",
     "output_type": "stream",
     "text": [
      "Time series data with time zone:\n",
      "2019-01-01 00:00:00+01:00\n",
      "2019-01-01 00:00:00-08:00\n",
      "2019-01-01 00:00:00-05:00\n",
      "\n",
      "Time series data without time zone:\n",
      "2019-01-01 00:00:00\n",
      "2019-01-01 00:00:00\n",
      "2019-01-01 00:00:00\n"
     ]
    }
   ],
   "source": [
    "import pandas as pd\n",
    "date1 = pd.Timestamp('2019-01-01', tz='Europe/Berlin')\n",
    "date2 = pd.Timestamp('2019-01-01', tz='US/Pacific')\n",
    "date3 = pd.Timestamp('2019-01-01', tz='US/Eastern')\n",
    "print(\"Time series data with time zone:\")\n",
    "print(date1)\n",
    "print(date2)\n",
    "print(date3)\n",
    "print(\"\\nTime series data without time zone:\")\n",
    "print(date1.tz_localize(None))\n",
    "print(date2.tz_localize(None))\n",
    "print(date3.tz_localize(None))\n"
   ]
  },
  {
   "cell_type": "code",
   "execution_count": 33,
   "id": "f922d7e3-f9dd-4a7d-8105-91529d03a3de",
   "metadata": {},
   "outputs": [
    {
     "name": "stdout",
     "output_type": "stream",
     "text": [
      "Subtract two timestamps of same time zone:\n",
      "Difference:  30 days 18:00:00\n",
      "\n",
      "Subtract two timestamps of different time zone:\n",
      "Difference:  0 days 05:00:00\n"
     ]
    }
   ],
   "source": [
    "import pandas as pd\n",
    "print(\"Subtract two timestamps of same time zone:\")\n",
    "date1 = pd.Timestamp('2019-03-01 12:00', tz='US/Eastern')\n",
    "date2 = pd.Timestamp('2019-04-01 07:00', tz='US/Eastern')\n",
    "print(\"Difference: \", (date2-date1))\n",
    "print(\"\\nSubtract two timestamps of different time zone:\")\n",
    "date1 = pd.Timestamp('2019-03-01 12:00', tz='US/Eastern')\n",
    "date2 = pd.Timestamp('2019-03-01 07:00', tz='US/Pacific')\n",
    "# Remove the time zone and do the subtraction\n",
    "print(\"Difference: \", (date1.tz_localize(None) - date2.tz_localize(None)))\n"
   ]
  },
  {
   "cell_type": "code",
   "execution_count": 40,
   "id": "387b5bf9-e93d-4cc0-8193-50b68db61c03",
   "metadata": {},
   "outputs": [
    {
     "name": "stdout",
     "output_type": "stream",
     "text": [
      "['2024-03-28T00:00:00.000000000' '2024-04-04T00:00:00.000000000'\n",
      " '2024-04-11T00:00:00.000000000' '2024-04-18T00:00:00.000000000'\n",
      " '2024-04-25T00:00:00.000000000' '2024-05-02T00:00:00.000000000'\n",
      " '2024-05-09T00:00:00.000000000' '2024-05-16T00:00:00.000000000'\n",
      " '2024-05-23T00:00:00.000000000' '2024-05-30T00:00:00.000000000'\n",
      " '2024-06-06T00:00:00.000000000' '2024-06-13T00:00:00.000000000'\n",
      " '2024-06-20T00:00:00.000000000' '2024-06-27T00:00:00.000000000'\n",
      " '2024-07-04T00:00:00.000000000' '2024-07-11T00:00:00.000000000'\n",
      " '2024-07-18T00:00:00.000000000' '2024-07-25T00:00:00.000000000'\n",
      " '2024-08-01T00:00:00.000000000' '2024-08-08T00:00:00.000000000'\n",
      " '2024-08-15T00:00:00.000000000' '2024-08-22T00:00:00.000000000']\n"
     ]
    }
   ],
   "source": [
    "import pandas as pd\n",
    "thursday=pd.date_range('2024-03-24','2024-08-22',freq='W-THU')\n",
    "print(thursday.values)"
   ]
  },
  {
   "cell_type": "code",
   "execution_count": 41,
   "id": "69eaf5dc-14df-41ab-a394-cb6d62885757",
   "metadata": {},
   "outputs": [
    {
     "name": "stdout",
     "output_type": "stream",
     "text": [
      "All the business quarterly begin dates of 2020:\n",
      "['2020-03-02T00:00:00.000000000' '2020-06-01T00:00:00.000000000'\n",
      " '2020-09-01T00:00:00.000000000' '2020-12-01T00:00:00.000000000']\n",
      "\n",
      "All the business quarterly end dates of 2020:\n",
      "['2020-03-31T00:00:00.000000000' '2020-06-30T00:00:00.000000000'\n",
      " '2020-09-30T00:00:00.000000000' '2020-12-31T00:00:00.000000000']\n"
     ]
    }
   ],
   "source": [
    "import pandas as pd\n",
    "q_start_dates = pd.date_range('2020-01-01', '2020-12-31', freq='BQS-JUN')\n",
    "q_end_dates = pd.date_range('2020-01-01', '2020-12-31', freq='BQ-JUN')\n",
    "print(\"All the business quarterly begin dates of 2020:\")\n",
    "print(q_start_dates.values)\n",
    "print(\"\\nAll the business quarterly end dates of 2020:\")\n",
    "print(q_end_dates.values)\n"
   ]
  },
  {
   "cell_type": "code",
   "execution_count": 43,
   "id": "bd913fcc-2425-45b8-9e97-930c1b03136d",
   "metadata": {},
   "outputs": [
    {
     "name": "stdout",
     "output_type": "stream",
     "text": [
      "DatetimeIndex(['2030-01-01 00:00:00', '2030-01-01 01:00:00',\n",
      "               '2030-01-01 02:00:00', '2030-01-01 03:00:00',\n",
      "               '2030-01-01 04:00:00', '2030-01-01 05:00:00',\n",
      "               '2030-01-01 06:00:00', '2030-01-01 07:00:00',\n",
      "               '2030-01-01 08:00:00', '2030-01-01 09:00:00'],\n",
      "              dtype='datetime64[ns]', freq='H')\n",
      "DatetimeIndex(['2030-01-01 00:00:00', '2030-01-01 03:00:00',\n",
      "               '2030-01-01 06:00:00', '2030-01-01 09:00:00',\n",
      "               '2030-01-01 12:00:00', '2030-01-01 15:00:00',\n",
      "               '2030-01-01 18:00:00', '2030-01-01 21:00:00',\n",
      "               '2030-01-02 00:00:00', '2030-01-02 03:00:00'],\n",
      "              dtype='datetime64[ns]', freq='3H')\n"
     ]
    }
   ],
   "source": [
    "import pandas as pd\n",
    "r1=pd.date_range('2030-01-01',periods=10,freq='H')\n",
    "print(r1)\n",
    "r1=pd.date_range('2030-01-01',periods=10,freq='3H')\n",
    "print(r1)"
   ]
  },
  {
   "cell_type": "code",
   "execution_count": 44,
   "id": "47b3f739-31ab-464b-97fd-3122fb977cea",
   "metadata": {},
   "outputs": [
    {
     "name": "stdout",
     "output_type": "stream",
     "text": [
      "Time series with frequency 3h10min:\n",
      "DatetimeIndex(['2029-01-01 00:00:00', '2029-01-01 03:10:00',\n",
      "               '2029-01-01 06:20:00', '2029-01-01 09:30:00',\n",
      "               '2029-01-01 12:40:00', '2029-01-01 15:50:00',\n",
      "               '2029-01-01 19:00:00', '2029-01-01 22:10:00',\n",
      "               '2029-01-02 01:20:00', '2029-01-02 04:30:00',\n",
      "               '2029-01-02 07:40:00', '2029-01-02 10:50:00',\n",
      "               '2029-01-02 14:00:00', '2029-01-02 17:10:00',\n",
      "               '2029-01-02 20:20:00', '2029-01-02 23:30:00',\n",
      "               '2029-01-03 02:40:00', '2029-01-03 05:50:00',\n",
      "               '2029-01-03 09:00:00', '2029-01-03 12:10:00'],\n",
      "              dtype='datetime64[ns]', freq='190T')\n",
      "\n",
      "Time series with frequency 1 day 10 minutes and 20 microseconds:\n",
      "DatetimeIndex([       '2029-01-01 00:00:00', '2029-01-02 00:10:00.000020',\n",
      "               '2029-01-03 00:20:00.000040', '2029-01-04 00:30:00.000060',\n",
      "               '2029-01-05 00:40:00.000080', '2029-01-06 00:50:00.000100',\n",
      "               '2029-01-07 01:00:00.000120', '2029-01-08 01:10:00.000140',\n",
      "               '2029-01-09 01:20:00.000160', '2029-01-10 01:30:00.000180',\n",
      "               '2029-01-11 01:40:00.000200', '2029-01-12 01:50:00.000220',\n",
      "               '2029-01-13 02:00:00.000240', '2029-01-14 02:10:00.000260',\n",
      "               '2029-01-15 02:20:00.000280', '2029-01-16 02:30:00.000300',\n",
      "               '2029-01-17 02:40:00.000320', '2029-01-18 02:50:00.000340',\n",
      "               '2029-01-19 03:00:00.000360', '2029-01-20 03:10:00.000380'],\n",
      "              dtype='datetime64[ns]', freq='87000000020U')\n"
     ]
    }
   ],
   "source": [
    "import pandas as pd\n",
    "dateset1 = pd.date_range('2029-01-01 00:00:00', periods=20, freq='3h10min')\n",
    "print(\"Time series with frequency 3h10min:\")\n",
    "print(dateset1)\n",
    "dateset2 = pd.date_range('2029-01-01 00:00:00', periods=20, freq='1D10min20U')\n",
    "print(\"\\nTime series with frequency 1 day 10 minutes and 20 microseconds:\")\n",
    "print(dateset2)\n"
   ]
  },
  {
   "cell_type": "code",
   "execution_count": 45,
   "id": "5573c9dc-2a5f-44ee-8928-bb730199d4a6",
   "metadata": {},
   "outputs": [
    {
     "name": "stdout",
     "output_type": "stream",
     "text": [
      "First date:\n",
      "2020-02-07 00:00:00\n",
      "\n",
      "The day name of the said date:\n",
      "Friday\n",
      "\n",
      "Add 2 days with the said date:\n",
      "Sunday\n",
      "\n",
      "Next business day:\n",
      "Monday\n"
     ]
    }
   ],
   "source": [
    "import pandas as pd\n",
    "newday = pd.Timestamp('2020-02-07')\n",
    "print(\"First date:\")\n",
    "print(newday)\n",
    "print(\"\\nThe day name of the said date:\")\n",
    "print(newday.day_name())\n",
    "print(\"\\nAdd 2 days with the said date:\")\n",
    "newday1 = newday + pd.Timedelta('2 day')\n",
    "print(newday1.day_name())\n",
    "print(\"\\nNext business day:\")\n",
    "nbday = newday + pd.offsets.BDay()\n",
    "print(nbday.day_name())\n"
   ]
  },
  {
   "cell_type": "code",
   "execution_count": 46,
   "id": "c409e39c-b86e-4c8e-8dab-d24fea15f8e6",
   "metadata": {},
   "outputs": [
    {
     "name": "stdout",
     "output_type": "stream",
     "text": [
      "Convert integer or float epoch times to Timestamp and DatetimeIndex upto second:\n",
      "DatetimeIndex(['2012-02-21 06:41:45', '1974-02-11 09:21:45',\n",
      "               '2009-08-10 08:28:25', '2009-08-11 08:28:25',\n",
      "               '2009-08-12 08:28:25'],\n",
      "              dtype='datetime64[ns]', freq=None)\n",
      "\n",
      "Convert integer or float epoch times to Timestamp and DatetimeIndex upto milisecond:\n",
      "DatetimeIndex(['2009-08-08 08:28:25.100000', '2009-08-08 08:28:25.200000',\n",
      "               '2009-08-08 08:28:25.300000', '2009-08-08 08:28:25.400000',\n",
      "               '2009-08-08 08:28:25.500000'],\n",
      "              dtype='datetime64[ns]', freq=None)\n"
     ]
    }
   ],
   "source": [
    "import pandas as pd\n",
    "dates1 = pd.to_datetime([1329806505, 129806505, 1249892905,\n",
    "                1249979305, 1250065705], unit='s')\n",
    "print(\"Convert integer or float epoch times to Timestamp and DatetimeIndex upto second:\")\n",
    "print(dates1)\n",
    "print(\"\\nConvert integer or float epoch times to Timestamp and DatetimeIndex upto milisecond:\")\n",
    "dates2 = pd.to_datetime([1249720105100, 1249720105200, 1249720105300,\n",
    "                1249720105400, 1249720105500], unit='ms')\n",
    "print(dates2)\n"
   ]
  },
  {
   "cell_type": "code",
   "execution_count": 47,
   "id": "89986d71-0983-42b3-98fa-0efd0932dd5a",
   "metadata": {},
   "outputs": [
    {
     "name": "stdout",
     "output_type": "stream",
     "text": [
      "Specified date:\n",
      "2020-01-04 00:00:00\n",
      "\n",
      "One business day from the said date:\n",
      "2020-01-06 00:00:00\n",
      "\n",
      "Two business days from the said date:\n",
      "2020-01-07 00:00:00\n",
      "\n",
      "Three business days from the said date:\n",
      "2020-01-08 00:00:00\n",
      "\n",
      "Next business month end from the said date:\n",
      "2020-01-31 00:00:00\n"
     ]
    }
   ],
   "source": [
    "import pandas as pd\n",
    "from pandas.tseries.offsets import *\n",
    "import datetime\n",
    "from datetime import datetime, date\n",
    "dt = datetime(2020, 1, 4)\n",
    "print(\"Specified date:\")\n",
    "print(dt)\n",
    "print(\"\\nOne business day from the said date:\")\n",
    "obday = dt + BusinessDay()\n",
    "print(obday)\n",
    "print(\"\\nTwo business days from the said date:\")\n",
    "tbday = dt + 2 * BusinessDay()\n",
    "print(tbday)\n",
    "print(\"\\nThree business days from the said date:\")\n",
    "thbday = dt + 3 * BusinessDay()\n",
    "print(thbday)\n",
    "print(\"\\nNext business month end from the said date:\")\n",
    "nbday = dt + BMonthEnd()\n",
    "print(nbday)\n"
   ]
  },
  {
   "cell_type": "code",
   "execution_count": 48,
   "id": "192e53ad-7b4d-4f32-aee8-21210efed335",
   "metadata": {},
   "outputs": [
    {
     "name": "stdout",
     "output_type": "stream",
     "text": [
      "All monthly boundaries of a given year:\n",
      "PeriodIndex(['2020-01', '2020-02', '2020-03', '2020-04', '2020-05', '2020-06',\n",
      "             '2020-07', '2020-08', '2020-09', '2020-10', '2020-11', '2020-12'],\n",
      "            dtype='period[M]')\n",
      "\n",
      "Start and end time for each period object in the said index:\n",
      "2020-01-01 00:00:00 2020-01-31 23:59:59.999999999\n",
      "2020-02-01 00:00:00 2020-02-29 23:59:59.999999999\n",
      "2020-03-01 00:00:00 2020-03-31 23:59:59.999999999\n",
      "2020-04-01 00:00:00 2020-04-30 23:59:59.999999999\n",
      "2020-05-01 00:00:00 2020-05-31 23:59:59.999999999\n",
      "2020-06-01 00:00:00 2020-06-30 23:59:59.999999999\n",
      "2020-07-01 00:00:00 2020-07-31 23:59:59.999999999\n",
      "2020-08-01 00:00:00 2020-08-31 23:59:59.999999999\n",
      "2020-09-01 00:00:00 2020-09-30 23:59:59.999999999\n",
      "2020-10-01 00:00:00 2020-10-31 23:59:59.999999999\n",
      "2020-11-01 00:00:00 2020-11-30 23:59:59.999999999\n",
      "2020-12-01 00:00:00 2020-12-31 23:59:59.999999999\n"
     ]
    }
   ],
   "source": [
    "import pandas as pd\n",
    "import datetime\n",
    "from datetime import datetime, date\n",
    "sdt = datetime(2020, 1, 1)\n",
    "edt = datetime(2020, 12, 31)\n",
    "dateset = pd.period_range(sdt, edt, freq='M')\n",
    "print(\"All monthly boundaries of a given year:\")\n",
    "print(dateset) \n",
    "print(\"\\nStart and end time for each period object in the said index:\")\n",
    "for d in dateset: \n",
    "    print (\"{0} {1}\".format(d.start_time, d.end_time)) \n"
   ]
  },
  {
   "cell_type": "code",
   "execution_count": 49,
   "id": "eae00ad7-c5e8-47e8-a231-83f77cca8785",
   "metadata": {},
   "outputs": [
    {
     "name": "stdout",
     "output_type": "stream",
     "text": [
      "PeriodIndex which represents all the calendar month periods in 2029 and 2030:\n",
      "2029-01    1.648732\n",
      "2029-02   -0.209700\n",
      "2029-03   -1.230993\n",
      "2029-04   -2.506124\n",
      "2029-05   -1.514757\n",
      "2029-06    1.075502\n",
      "2029-07    0.529496\n",
      "2029-08    0.629787\n",
      "2029-09   -0.367771\n",
      "2029-10    1.092706\n",
      "2029-11    1.384742\n",
      "2029-12    0.460994\n",
      "2030-01    0.526314\n",
      "2030-02    0.173837\n",
      "2030-03    0.815547\n",
      "2030-04    0.033361\n",
      "2030-05   -1.767408\n",
      "2030-06    0.371399\n",
      "2030-07   -1.316014\n",
      "2030-08    2.075851\n",
      "2030-09   -0.395137\n",
      "2030-10    0.994966\n",
      "2030-11   -1.304638\n",
      "2030-12   -0.145003\n",
      "2031-01   -0.347890\n",
      "2031-02   -0.235089\n",
      "2031-03   -0.307804\n",
      "2031-04   -1.165040\n",
      "2031-05    0.225104\n",
      "2031-06    0.405489\n",
      "2031-07   -0.593502\n",
      "2031-08    1.475624\n",
      "2031-09    1.156758\n",
      "2031-10    0.449282\n",
      "2031-11    0.275408\n",
      "2031-12   -0.334277\n",
      "Freq: M, dtype: float64\n",
      "\n",
      "Values for all periods in 2030:\n",
      "2030-01    0.526314\n",
      "2030-02    0.173837\n",
      "2030-03    0.815547\n",
      "2030-04    0.033361\n",
      "2030-05   -1.767408\n",
      "2030-06    0.371399\n",
      "2030-07   -1.316014\n",
      "2030-08    2.075851\n",
      "2030-09   -0.395137\n",
      "2030-10    0.994966\n",
      "2030-11   -1.304638\n",
      "2030-12   -0.145003\n",
      "Freq: M, dtype: float64\n"
     ]
    }
   ],
   "source": [
    "import pandas as pd\n",
    "import numpy as np\n",
    "pi = pd.Series(np.random.randn(36), \n",
    "               pd.period_range('1/1/2029', \n",
    "                               '12/31/2031', freq='M'))\n",
    "print(\"PeriodIndex which represents all the calendar month periods in 2029 and 2030:\")\n",
    "print(pi)\n",
    "print(\"\\nValues for all periods in 2030:\")\n",
    "print(pi['2030'])\n"
   ]
  },
  {
   "cell_type": "code",
   "execution_count": 56,
   "id": "493bd98c-4b5a-4ce1-b1be-4135a658d4a3",
   "metadata": {},
   "outputs": [],
   "source": [
    "# import pandas as pd\n",
    "# from pandas.tseries.holiday import *\n",
    "# sdt = datetime(2021, 1, 1)\n",
    "# edt = datetime(2030, 12, 31)\n",
    "# print(\"Holidays between 2021-01-01 and 2030-12-31 using the US federal holiday calendar.\")\n",
    "# cal = USFederalHolidayCalendar()\n",
    "# for dt in cal.holidays(start=sdt, end=edt): \n",
    "#     print (dt)\n"
   ]
  },
  {
   "cell_type": "code",
   "execution_count": 58,
   "id": "0da81c41-6622-43c6-b57e-cc544159be17",
   "metadata": {},
   "outputs": [
    {
     "name": "stdout",
     "output_type": "stream",
     "text": [
      "2000-08\n",
      "['__add__', '__array_priority__', '__class__', '__delattr__', '__dict__', '__dir__', '__doc__', '__eq__', '__format__', '__ge__', '__getattribute__', '__getstate__', '__gt__', '__hash__', '__init__', '__init_subclass__', '__le__', '__lt__', '__module__', '__ne__', '__new__', '__radd__', '__reduce__', '__reduce_ex__', '__repr__', '__rsub__', '__setattr__', '__setstate__', '__sizeof__', '__str__', '__sub__', '__subclasshook__', '__weakref__', '_add_offset', '_add_timedeltalike_scalar', '_dtype', '_from_ordinal', '_maybe_convert_freq', '_require_matching_freq', 'asfreq', 'day', 'day_of_week', 'day_of_year', 'dayofweek', 'dayofyear', 'days_in_month', 'daysinmonth', 'end_time', 'freq', 'freqstr', 'hour', 'is_leap_year', 'minute', 'month', 'now', 'ordinal', 'quarter', 'qyear', 'second', 'start_time', 'strftime', 'to_timestamp', 'week', 'weekday', 'weekofyear', 'year']\n"
     ]
    }
   ],
   "source": [
    "import pandas as pd\n",
    "mtp=pd.Period('2000-08','M')\n",
    "print(mtp)\n",
    "print(dir(mtp))"
   ]
  },
  {
   "cell_type": "code",
   "execution_count": 59,
   "id": "aba2eff9-61bc-4cda-a032-442979f83bee",
   "metadata": {},
   "outputs": [
    {
     "name": "stdout",
     "output_type": "stream",
     "text": [
      "Yearly time perid: 2020\n",
      "\n",
      "All the properties of the said period:\n",
      "['__add__', '__array_priority__', '__class__', '__delattr__', '__dict__', '__dir__', '__doc__', '__eq__', '__format__', '__ge__', '__getattribute__', '__getstate__', '__gt__', '__hash__', '__init__', '__init_subclass__', '__le__', '__lt__', '__module__', '__ne__', '__new__', '__radd__', '__reduce__', '__reduce_ex__', '__repr__', '__rsub__', '__setattr__', '__setstate__', '__sizeof__', '__str__', '__sub__', '__subclasshook__', '__weakref__', '_add_offset', '_add_timedeltalike_scalar', '_dtype', '_from_ordinal', '_maybe_convert_freq', '_require_matching_freq', 'asfreq', 'day', 'day_of_week', 'day_of_year', 'dayofweek', 'dayofyear', 'days_in_month', 'daysinmonth', 'end_time', 'freq', 'freqstr', 'hour', 'is_leap_year', 'minute', 'month', 'now', 'ordinal', 'quarter', 'qyear', 'second', 'start_time', 'strftime', 'to_timestamp', 'week', 'weekday', 'weekofyear', 'year']\n"
     ]
    }
   ],
   "source": [
    "import pandas as pd\n",
    "ytp = pd.Period('2020','A-DEC')\n",
    "print(\"Yearly time perid:\",ytp)\n",
    "print(\"\\nAll the properties of the said period:\")\n",
    "print(dir(ytp))\n"
   ]
  },
  {
   "cell_type": "code",
   "execution_count": null,
   "id": "a9d089cb-db7b-4f8a-a43d-19aa0f455687",
   "metadata": {},
   "outputs": [],
   "source": []
  }
 ],
 "metadata": {
  "kernelspec": {
   "display_name": "Python 3 (ipykernel)",
   "language": "python",
   "name": "python3"
  },
  "language_info": {
   "codemirror_mode": {
    "name": "ipython",
    "version": 3
   },
   "file_extension": ".py",
   "mimetype": "text/x-python",
   "name": "python",
   "nbconvert_exporter": "python",
   "pygments_lexer": "ipython3",
   "version": "3.11.7"
  },
  "widgets": {
   "application/vnd.jupyter.widget-state+json": {
    "state": {},
    "version_major": 2,
    "version_minor": 0
   }
  }
 },
 "nbformat": 4,
 "nbformat_minor": 5
}
