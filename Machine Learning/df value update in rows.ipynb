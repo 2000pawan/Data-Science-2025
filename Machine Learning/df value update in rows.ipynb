{
 "cells": [
  {
   "cell_type": "code",
   "execution_count": 1,
   "id": "7b1febd0-c561-4b78-9bc2-5cea02648fca",
   "metadata": {},
   "outputs": [
    {
     "data": {
      "text/plain": [
       "\"input=['Australia','Potatoes',1480,120,15.2]\\ncategorical_col=input[:2]\\ninput_df=pd.DataFrame({'average_rainfall':input[2],'presticides_tonnes':input[3],'avg_temp':input[4]},index=[0])\\ninput_df1=df_final.head(1)\\ninput_df1=input_df1.iloc[:,3:]\\ndef update_columns(df, true_columns):\\n    df[true_columns] = True\\n    other_columns = df.columns.difference(true_columns)\\n    df[other_columns] = False\\n    return df\\ntrue_columns = [f'Country_{categorical_col[0]}',f'Item_{categorical_col[1]}']\\ninput_df2= update_columns(input_df1, true_columns)\\nfinal_df=pd.concat([input_df,input_df2],axis=1)\\nfinal_df\""
      ]
     },
     "execution_count": 1,
     "metadata": {},
     "output_type": "execute_result"
    }
   ],
   "source": [
    "'''input=['Australia','Potatoes',1480,120,15.2]\n",
    "categorical_col=input[:2]\n",
    "input_df=pd.DataFrame({'average_rainfall':input[2],'presticides_tonnes':input[3],'avg_temp':input[4]},index=[0])\n",
    "input_df1=df_final.head(1)\n",
    "input_df1=input_df1.iloc[:,3:]\n",
    "def update_columns(df, true_columns):\n",
    "    df[true_columns] = True\n",
    "    other_columns = df.columns.difference(true_columns)\n",
    "    df[other_columns] = False\n",
    "    return df\n",
    "true_columns = [f'Country_{categorical_col[0]}',f'Item_{categorical_col[1]}']\n",
    "input_df2= update_columns(input_df1, true_columns)\n",
    "final_df=pd.concat([input_df,input_df2],axis=1)\n",
    "final_df'''"
   ]
  },
  {
   "cell_type": "code",
   "execution_count": null,
   "id": "62062846-6ec3-4869-8689-7b261cc6c704",
   "metadata": {},
   "outputs": [],
   "source": []
  }
 ],
 "metadata": {
  "kernelspec": {
   "display_name": "Python 3 (ipykernel)",
   "language": "python",
   "name": "python3"
  },
  "language_info": {
   "codemirror_mode": {
    "name": "ipython",
    "version": 3
   },
   "file_extension": ".py",
   "mimetype": "text/x-python",
   "name": "python",
   "nbconvert_exporter": "python",
   "pygments_lexer": "ipython3",
   "version": "3.11.7"
  }
 },
 "nbformat": 4,
 "nbformat_minor": 5
}
