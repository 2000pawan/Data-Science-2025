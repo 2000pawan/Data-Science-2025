{
 "cells": [
  {
   "cell_type": "markdown",
   "id": "700a3c57-e4a2-4284-93a3-086eadd58450",
   "metadata": {},
   "source": [
    "## F-1 SCore."
   ]
  },
  {
   "cell_type": "markdown",
   "id": "5199e6c7-cd32-4aed-a111-a6e3c95e8267",
   "metadata": {},
   "source": [
    "## Model Train on Insurance Dataset."
   ]
  },
  {
   "cell_type": "code",
   "execution_count": 33,
   "id": "de8ec6c0-e77a-43ba-904e-b449c218623a",
   "metadata": {},
   "outputs": [],
   "source": [
    "import pandas as pd\n",
    "from sklearn.neighbors import KNeighborsClassifier\n",
    "from sklearn.preprocessing import StandardScaler\n",
    "from sklearn.feature_selection import f_classif,SelectKBest\n",
    "from sklearn.model_selection import train_test_split,cross_val_score\n",
    "from sklearn.metrics import accuracy_score,f1_score"
   ]
  },
  {
   "cell_type": "code",
   "execution_count": 21,
   "id": "1e5a7a9e-eca6-4aeb-9082-d6d451db4782",
   "metadata": {},
   "outputs": [
    {
     "data": {
      "text/plain": [
       "Class\n",
       "0    4586\n",
       "1     492\n",
       "Name: count, dtype: int64"
      ]
     },
     "execution_count": 21,
     "metadata": {},
     "output_type": "execute_result"
    }
   ],
   "source": [
    "df=pd.read_excel(\"G:/dataset/classification/creditcard_copy.xlsx\")\n",
    "df.Class.value_counts()"
   ]
  },
  {
   "cell_type": "code",
   "execution_count": 27,
   "id": "3104a062-679c-436d-87d1-366d8aaa9f77",
   "metadata": {},
   "outputs": [],
   "source": [
    "X=df.iloc[:,1:-2].values\n",
    "y=df.iloc[:,-1].values"
   ]
  },
  {
   "cell_type": "code",
   "execution_count": 29,
   "id": "053634f6-f300-48bb-8fd8-37f266b0d4da",
   "metadata": {},
   "outputs": [
    {
     "name": "stdout",
     "output_type": "stream",
     "text": [
      "Accuracy Score of Training:-  0.9855567226890757\n",
      "Accuracy Score of Testing:-  0.9921259842519685\n"
     ]
    }
   ],
   "source": [
    "X_train,X_test,y_train,y_test=train_test_split(X,y,random_state=1)\n",
    "model=KNeighborsClassifier()\n",
    "model.fit(X_train,y_train)\n",
    "print('Accuracy Score of Training:- ',model.score(X_train,y_train))\n",
    "print('Accuracy Score of Testing:- ',model.score(X_test,y_test))"
   ]
  },
  {
   "cell_type": "code",
   "execution_count": 37,
   "id": "ed0a28e2-606c-4f0f-9880-e99c0754315f",
   "metadata": {},
   "outputs": [
    {
     "data": {
      "text/plain": [
       "0.9836552112020479"
      ]
     },
     "execution_count": 37,
     "metadata": {},
     "output_type": "execute_result"
    }
   ],
   "source": [
    "model=KNeighborsClassifier()\n",
    "cross_val_score(model,X,y,cv=5).mean()"
   ]
  },
  {
   "cell_type": "markdown",
   "id": "d05c621b-9fc3-49b9-94a7-0f008326032c",
   "metadata": {},
   "source": [
    "## F-1 Score for imbalance data. for class 1."
   ]
  },
  {
   "cell_type": "code",
   "execution_count": 44,
   "id": "9c87636b-de6a-4b89-a41b-4fed092a2934",
   "metadata": {},
   "outputs": [
    {
     "name": "stdout",
     "output_type": "stream",
     "text": [
      "F-1 Score on Training Data:-  0.9103641456582633\n",
      "F-1 Score on Testing Data:-  0.9326923076923077\n"
     ]
    }
   ],
   "source": [
    "X_train,X_test,y_train,y_test=train_test_split(X,y,random_state=1)\n",
    "sc=StandardScaler()\n",
    "X_train_new=sc.fit_transform(X_train)\n",
    "X_test_new=sc.transform(X_test)\n",
    "model=KNeighborsClassifier()\n",
    "model.fit(X_train_new,y_train)\n",
    "pred_train=model.predict(X_train_new)\n",
    "pred_test=model.predict(X_test_new)\n",
    "print('F-1 Score on Training Data:- ',f1_score(y_train,pred_train))\n",
    "print('F-1 Score on Testing Data:- ',f1_score(y_test,pred_test))"
   ]
  },
  {
   "cell_type": "code",
   "execution_count": 48,
   "id": "d86ab413-aed3-4d46-9c1f-4aa73f8ae3d7",
   "metadata": {},
   "outputs": [
    {
     "name": "stdout",
     "output_type": "stream",
     "text": [
      "F-1 Score on Training Data:-  0.9237170596393898\n",
      "F-1 Score on Testing Data:-  0.9523809523809523\n"
     ]
    }
   ],
   "source": [
    "model=KNeighborsClassifier()\n",
    "model.fit(X_train,y_train)\n",
    "pred_train=model.predict(X_train)\n",
    "pred_test=model.predict(X_test)\n",
    "print('F-1 Score on Training Data:- ',f1_score(y_train,pred_train))\n",
    "print('F-1 Score on Testing Data:- ',f1_score(y_test,pred_test))"
   ]
  },
  {
   "cell_type": "code",
   "execution_count": 52,
   "id": "1e7bf3a5-228d-45f6-a157-93b263ac433e",
   "metadata": {},
   "outputs": [
    {
     "name": "stdout",
     "output_type": "stream",
     "text": [
      "F-1 Score on Training Data:-  [0.99202321 0.92371706]\n",
      "F-1 Score on Testing Data:-  [0.99570815 0.95238095]\n"
     ]
    }
   ],
   "source": [
    "model=KNeighborsClassifier()\n",
    "model.fit(X_train,y_train)\n",
    "pred_train=model.predict(X_train)\n",
    "pred_test=model.predict(X_test)\n",
    "print('F-1 Score on Training Data:- ',f1_score(y_train,pred_train,average=None))\n",
    "print('F-1 Score on Testing Data:- ',f1_score(y_test,pred_test,average=None))"
   ]
  },
  {
   "cell_type": "markdown",
   "id": "c53ca635-a041-4ff7-b07b-745b8a0b1e17",
   "metadata": {},
   "source": [
    "## SMOTE use for imbalance data to do oversampling or undersampling to create new synthetic data point.\n",
    "pip install imblearn"
   ]
  },
  {
   "cell_type": "code",
   "execution_count": 63,
   "id": "80c3cb59-8b6c-4faf-a786-81e778c5f268",
   "metadata": {},
   "outputs": [],
   "source": [
    "from imblearn.over_sampling import SMOTE"
   ]
  },
  {
   "cell_type": "code",
   "execution_count": 67,
   "id": "b2e8e038-db71-40f1-b18a-f202d14a4ce7",
   "metadata": {},
   "outputs": [],
   "source": [
    "X=df.iloc[:,1:-2].values\n",
    "y=df.iloc[:,-1].values\n",
    "sm=SMOTE()\n",
    "x1,y1=sm.fit_resample(X,y)"
   ]
  },
  {
   "cell_type": "code",
   "execution_count": 75,
   "id": "70559bd7-6b92-45d2-974b-c00accbb8163",
   "metadata": {},
   "outputs": [
    {
     "name": "stdout",
     "output_type": "stream",
     "text": [
      "F-1 Score on Training Data:-  0.9885821650527533\n",
      "F-1 Score on Testing Data:-  0.9849978568366909\n",
      "F-1 Score on Training Data:-  [0.9884486  0.98858217]\n",
      "F-1 Score on Testing Data:-  [0.98446516 0.98499786]\n"
     ]
    }
   ],
   "source": [
    "X_train,X_test,y_train,y_test=train_test_split(x1,y1,random_state=1)\n",
    "sc=StandardScaler()\n",
    "X_train_new=sc.fit_transform(X_train)\n",
    "X_test_new=sc.transform(X_test)\n",
    "model=KNeighborsClassifier()\n",
    "model.fit(X_train_new,y_train)\n",
    "pred_train=model.predict(X_train_new)\n",
    "pred_test=model.predict(X_test_new)\n",
    "print('F-1 Score on Training Data:- ',f1_score(y_train,pred_train))\n",
    "print('F-1 Score on Testing Data:- ',f1_score(y_test,pred_test))\n",
    "print('F-1 Score on Training Data:- ',f1_score(y_train,pred_train,average=None))\n",
    "print('F-1 Score on Testing Data:- ',f1_score(y_test,pred_test,average=None))"
   ]
  },
  {
   "cell_type": "code",
   "execution_count": null,
   "id": "65d7f297-eb1c-4d56-9d28-6323ae771912",
   "metadata": {},
   "outputs": [],
   "source": []
  }
 ],
 "metadata": {
  "kernelspec": {
   "display_name": "Python 3 (ipykernel)",
   "language": "python",
   "name": "python3"
  },
  "language_info": {
   "codemirror_mode": {
    "name": "ipython",
    "version": 3
   },
   "file_extension": ".py",
   "mimetype": "text/x-python",
   "name": "python",
   "nbconvert_exporter": "python",
   "pygments_lexer": "ipython3",
   "version": "3.12.7"
  }
 },
 "nbformat": 4,
 "nbformat_minor": 5
}
