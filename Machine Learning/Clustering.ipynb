{
 "cells": [
  {
   "cell_type": "markdown",
   "id": "ebda75bb-8be7-429b-8fdf-db32bd49586e",
   "metadata": {},
   "source": [
    "### Unsupervised Learning--------> Unsupervised learning is a type of Machine Learning that works on unlabeled data without given target its main work to clusterized similar data .\n",
    "\n",
    "---> There are Two types of Unsupervised Learning.\n",
    "  1. Clustering\n",
    "  2. Association Rule"
   ]
  },
  {
   "cell_type": "markdown",
   "id": "a6e3859a-6a99-4e4b-a25e-bf75f72eda7d",
   "metadata": {},
   "source": [
    "### Clustering ---> Clustering is a technique where we clusetr similar data. There are many algorithm that used in clustering.\n",
    "  1. K-Means\n",
    "  2. Hierarchal Clustering\n",
    "  3. DBSCAN\n",
    "  4. Mean Shift etc...."
   ]
  },
  {
   "cell_type": "markdown",
   "id": "0c7c9ee0-52da-40f5-99b1-0141f31ed7c6",
   "metadata": {},
   "source": [
    "### K-Means Algorithm -------> K-means algorithm is used to do clustering on unlabeled dataset.\n",
    "-> Working of K-Means Algorithm.\n",
    "   \n",
    "-> In k-means k stand for how many cluster you build this is a hyperparameter that pass on creating model bydefault it's value is 8(changed version by version). Means is average that i find in several situation.\n",
    "\n",
    "-> step-1--> select centeroid point randomly from data for each cluster for e.g k=4 so its select 4 centeroid point from data. \n",
    "\n",
    "-> step-2--> calculate distance each datapoint to centeroid and min value from the centeroid data goes to that cluster for e.g out of 4 cluster the min distance from 2 cluster than data point goes to that cluster. \n",
    "do this for each and every data point or samples and assign cluster to each sample.\n",
    "\n",
    "-> step-3--> after complete the assignment of each sample or first iteration is complete than in 2nd iteration centeroid of each cluster is updated using the average of previous cluster. for e.g. in first initializationthere are 4 cluster and each cluster contain 10 samples so we find out the average and this average become centeroid of next iteration cluster. this is for all four cluster.\n",
    "\n",
    "-> step-4--> repeat 2 and 3 step until max-iter is not reached or two centeroid point not same for e.g. max-iter is 50 and iter 30,31 have same centeroid than its stop.\n",
    "\n",
    "-> step-5--> after complete all iter now 2 initialization (there are a hyperparameter no of initialization means algorithm initialize again with different centeroid from the dataset choose randomly) repeat step 1 \n",
    "to 4 and then again initialize until no of initialization is not complete for e.g. there are no of initialization is 10 so do all process 10 times.\n",
    "\n",
    "-> step-6--> after all initialization is complete than our task is to find the best clustering so that task we find the WSSE Score (Within Cluster Sum of Squared Error)  for all initialization last clustering and min wsse of all initialization is our best cluster.\n",
    "\n",
    "-> step-7--> wsse calculate using euclidean formula without sqrt for e.g there are 10 initialization and 4 cluster so we calculate 1 cluster squared error now find distance between sample and centeroid and sum all 10 error than find sum of squared error for 2,3,4 cluster and add all so its become wsse for 1st initialization do same for all initialization. after calculate wsse for all initialization min wsse is best for e.g min wsse is 4 initialization than 4 initialization clusytering is best clustering.\n",
    "\n",
    "-> step-7--> how to find the no of cluster so i use a graphical technique elbow technique where we plot a line chart between no.of cluster and  wsse score. and which point elbow form than that point become no of cluster for e.g in 4 elbow form than we decide k=4.\n",
    "\n",
    "-> step-8--> there are two points in finding k value for e.g. in ine chart where multiple point show elbow form that we consider that point where wsse is slowly less for e.g 1 to 2 wsse is 20000, 2 to 3 5000,3 to 4 wsse is 2000 so we consider 3 because after 3 point wsse slowly less.                                                                                                                                                                                                                                                                     \n",
    "-> step-9--> in k-means we find the silhouettes score for both complete model and individual sample. silhouettescore calculate for model is average of silhouette score of each sample.\n",
    "\n",
    "-> step-10--> formula of silhouette score of each individual sample is:-\n",
    "\n",
    "s(i)=(b(i)-a(i))/max(b(i),a(i))                                                                                                                          "
   ]
  },
  {
   "cell_type": "code",
   "execution_count": 17,
   "id": "ff609aa9-ccba-4350-9b2c-6d2c478c327c",
   "metadata": {},
   "outputs": [],
   "source": [
    "import warnings\n",
    "warnings.filterwarnings('ignore')\n",
    "import pandas as pd\n",
    "import matplotlib.pyplot as plt\n",
    "from sklearn.cluster import KMeans\n",
    "from sklearn.metrics import silhouette_samples,silhouette_score\n",
    "from sklearn.preprocessing import StandardScaler"
   ]
  },
  {
   "cell_type": "code",
   "execution_count": 51,
   "id": "30585efe-ef1d-45e3-99ef-7ac12040976f",
   "metadata": {},
   "outputs": [
    {
     "data": {
      "text/plain": [
       "array([2, 1, 0, 0, 1, 2, 0, 3, 1, 1, 2, 3, 2, 2, 0, 0, 2, 2, 0, 0, 1, 1])"
      ]
     },
     "execution_count": 51,
     "metadata": {},
     "output_type": "execute_result"
    }
   ],
   "source": [
    "df=pd.read_csv(\"G:/dataset/fruits_cluster.csv\")\n",
    "X=df.iloc[:,:].values\n",
    "sc=StandardScaler()\n",
    "X_new=sc.fit_transform(X)\n",
    "model=KMeans(n_clusters=4,n_init=10,max_iter=50)\n",
    "model.fit(X_new)\n",
    "model.labels_ # gives samples goes which cluster"
   ]
  },
  {
   "cell_type": "code",
   "execution_count": 53,
   "id": "62db4309-fedd-4c8d-8a9b-b41a6c98e077",
   "metadata": {},
   "outputs": [
    {
     "data": {
      "text/plain": [
       "4.504043755408113"
      ]
     },
     "execution_count": 53,
     "metadata": {},
     "output_type": "execute_result"
    }
   ],
   "source": [
    "model.inertia_ # gives WSSE score"
   ]
  },
  {
   "cell_type": "markdown",
   "id": "9ac5ed62-e4cc-45cf-a720-51f7fe0cd2e3",
   "metadata": {},
   "source": [
    "### how to select number of clusters in KMeans\n",
    ">elbow technique can be used in select num of clusters\n",
    ">\n",
    ">it is a graphical technique where we plot line chart b/w num_of_clustrs & wsse scores"
   ]
  },
  {
   "cell_type": "code",
   "execution_count": 56,
   "id": "460d5971-e0bc-4e28-9c4a-9cc47a209d5a",
   "metadata": {},
   "outputs": [
    {
     "name": "stdout",
     "output_type": "stream",
     "text": [
      "[44.00000000000001, 13.889701882404779, 8.92181776283817, 4.504043755408113, 3.078406505620107, 2.1858150667260734, 1.7038595516586263, 1.2728148453532764, 0.9725570692865944]\n"
     ]
    }
   ],
   "source": [
    "wsse=[]\n",
    "for i in range(1,10):\n",
    "    model=KMeans(n_clusters=i,n_init=10,max_iter=50)\n",
    "    model.fit(X_new)\n",
    "    wsse.append(model.inertia_)\n",
    "print(wsse)"
   ]
  },
  {
   "cell_type": "code",
   "execution_count": 58,
   "id": "46ee19f0-671c-4764-9bf5-5ced58904336",
   "metadata": {},
   "outputs": [
    {
     "data": {
      "image/png": "[encoded data removed]",
      "text/plain": [
       "<Figure size 640x480 with 1 Axes>"
      ]
     },
     "metadata": {},
     "output_type": "display_data"
    }
   ],
   "source": [
    "plt.plot(range(1,10),wsse,color='red')\n",
    "plt.show()"
   ]
  },
  {
   "cell_type": "code",
   "execution_count": 60,
   "id": "e768a3b1-8f35-4ec4-ba53-eb6eb330b64c",
   "metadata": {},
   "outputs": [
    {
     "name": "stdout",
     "output_type": "stream",
     "text": [
      "Silhouette Score:-  0.5825451849684672\n"
     ]
    }
   ],
   "source": [
    "model=KMeans(n_clusters=2,n_init=10,max_iter=50)\n",
    "model.fit(X_new)\n",
    "print(\"Silhouette Score:- \",silhouette_score(X_new,model.labels_))"
   ]
  },
  {
   "cell_type": "code",
   "execution_count": 62,
   "id": "b5e0a3c4-6a45-4078-bd9a-388c06870ead",
   "metadata": {},
   "outputs": [
    {
     "name": "stdout",
     "output_type": "stream",
     "text": [
      "Silhouette Score:-  0.4589342063353845\n"
     ]
    }
   ],
   "source": [
    "model=KMeans(n_clusters=3,n_init=10,max_iter=50)\n",
    "model.fit(X_new)\n",
    "print(\"Silhouette Score:- \",silhouette_score(X_new,model.labels_))"
   ]
  },
  {
   "cell_type": "code",
   "execution_count": 64,
   "id": "5b3e4044-2a24-47cb-bc22-ede9a6a4f509",
   "metadata": {},
   "outputs": [
    {
     "name": "stdout",
     "output_type": "stream",
     "text": [
      "Silhouette Score:-  0.5089561431478511\n"
     ]
    }
   ],
   "source": [
    "model=KMeans(n_clusters=4,n_init=10,max_iter=50)\n",
    "model.fit(X_new)\n",
    "print(\"Silhouette Score:- \",silhouette_score(X_new,model.labels_))"
   ]
  },
  {
   "cell_type": "code",
   "execution_count": 68,
   "id": "8f1cdb29-2b4a-4cca-a269-d5e2d59d13c3",
   "metadata": {},
   "outputs": [
    {
     "name": "stdout",
     "output_type": "stream",
     "text": [
      "Silhouette Score:-  [0.57211511 0.19107365 0.75108913 0.75503664 0.08299885 0.55038756\n",
      " 0.38874284 0.31515919 0.22519916 0.21212533 0.47462448 0.23329439\n",
      " 0.56749295 0.5703523  0.76246804 0.65883526 0.40786239 0.52437491\n",
      " 0.63020314 0.75721628 0.03980724 0.42609371]\n"
     ]
    }
   ],
   "source": [
    "model=KMeans(n_clusters=3,n_init=10,max_iter=50)\n",
    "model.fit(X_new)\n",
    "print(\"Silhouette Score:- \",silhouette_samples(X_new,model.labels_))"
   ]
  },
  {
   "cell_type": "code",
   "execution_count": 76,
   "id": "980c6851-958f-4686-bece-440bb6e29cfb",
   "metadata": {},
   "outputs": [
    {
     "name": "stdout",
     "output_type": "stream",
     "text": [
      "Silhouette Score:- \n",
      " [0.72320101 0.50314304 0.67672313 0.67972618 0.58256766 0.63777434\n",
      " 0.62299356 0.17525986 0.23503518 0.39962963 0.6417682  0.32641782\n",
      " 0.70108631 0.71025771 0.70420062 0.59269507 0.68736866 0.611794\n",
      " 0.6885327  0.71364441 0.51087889 0.69129608]\n",
      "--------->>>>>>>>>>>>>>>>>>>>>>>>>>>>>>>>>>>>>>>>>>>>>>>>>>>>>>>>>>>>>>>>>>>>>>>>>>>>>>>>>>>>>>>>>>>>>>>>>>>>>>>>>>\n",
      "Model Labels:- \n",
      " [0 0 1 1 0 0 1 1 0 0 0 1 0 0 1 1 0 0 1 1 0 0]\n"
     ]
    }
   ],
   "source": [
    "model=KMeans(n_clusters=2,n_init=10,max_iter=50)\n",
    "model.fit(X_new)\n",
    "print(\"Silhouette Score:- \\n\",silhouette_samples(X_new,model.labels_)) \n",
    "print(\"--------->>>>>>>>>>>>>>>>>>>>>>>>>>>>>>>>>>>>>>>>>>>>>>>>>>>>>>>>>>>>>>>>>>>>>>>>>>>>>>>>>>>>>>>>>>>>>>>>>>>>>>>>>>\")\n",
    "print(\"Model Labels:- \\n\",model.labels_)"
   ]
  },
  {
   "cell_type": "code",
   "execution_count": null,
   "id": "18579532-d5a1-4302-924d-e1ca21e3426f",
   "metadata": {},
   "outputs": [],
   "source": []
  }
 ],
 "metadata": {
  "kernelspec": {
   "display_name": "Python 3 (ipykernel)",
   "language": "python",
   "name": "python3"
  },
  "language_info": {
   "codemirror_mode": {
    "name": "ipython",
    "version": 3
   },
   "file_extension": ".py",
   "mimetype": "text/x-python",
   "name": "python",
   "nbconvert_exporter": "python",
   "pygments_lexer": "ipython3",
   "version": "3.12.7"
  }
 },
 "nbformat": 4,
 "nbformat_minor": 5
}
