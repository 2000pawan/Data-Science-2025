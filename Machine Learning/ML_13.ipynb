{
 "cells": [
  {
   "cell_type": "markdown",
   "id": "7b65be50-166c-49bb-9114-c3eb0fd5de9b",
   "metadata": {},
   "source": [
    "## Picling & Unpickling\n",
    "\n",
    "## Pickling------->prcocess to converting python object to binary stream and then saving it to a file.\n",
    "## Unpickling----->reverse process of pickling\n",
    "\n",
    "## Joblib , Json , Pickle  Module."
   ]
  },
  {
   "cell_type": "code",
   "execution_count": 3,
   "id": "7190747d-164a-492a-9287-ee119cf60306",
   "metadata": {},
   "outputs": [],
   "source": [
    "import joblib as jb"
   ]
  },
  {
   "cell_type": "code",
   "execution_count": 10,
   "id": "fcb12bf4-e736-460f-9042-2b108bcb5cde",
   "metadata": {},
   "outputs": [],
   "source": [
    "model=jb.load('model.pkl')\n",
    "sc=jb.load('standard_scale.pkl')"
   ]
  },
  {
   "cell_type": "code",
   "execution_count": 18,
   "id": "31c14e54-45a0-4184-93f6-a870c106f7d0",
   "metadata": {},
   "outputs": [
    {
     "data": {
      "text/plain": [
       "array([1], dtype=int64)"
      ]
     },
     "execution_count": 18,
     "metadata": {},
     "output_type": "execute_result"
    }
   ],
   "source": [
    "input=sc.transform([[168,82,35,0,28,0.67,49]])\n",
    "model.predict(input)"
   ]
  },
  {
   "cell_type": "code",
   "execution_count": 21,
   "id": "d1ed5d13-92b7-47d0-acd5-6455c7bf0773",
   "metadata": {},
   "outputs": [
    {
     "data": {
      "text/plain": [
       "array([0], dtype=int64)"
      ]
     },
     "execution_count": 21,
     "metadata": {},
     "output_type": "execute_result"
    }
   ],
   "source": [
    "inp=sc.transform([[111.   ,  72.   ,  28.   ,   0.   ,  23.9  ,   0.407,  27.   ]])\n",
    "model.predict(inp)"
   ]
  },
  {
   "cell_type": "code",
   "execution_count": null,
   "id": "5f88b16a-1982-46dd-bbbf-ad186b50f9cd",
   "metadata": {},
   "outputs": [],
   "source": []
  }
 ],
 "metadata": {
  "kernelspec": {
   "display_name": "Python 3 (ipykernel)",
   "language": "python",
   "name": "python3"
  },
  "language_info": {
   "codemirror_mode": {
    "name": "ipython",
    "version": 3
   },
   "file_extension": ".py",
   "mimetype": "text/x-python",
   "name": "python",
   "nbconvert_exporter": "python",
   "pygments_lexer": "ipython3",
   "version": "3.12.7"
  }
 },
 "nbformat": 4,
 "nbformat_minor": 5
}
