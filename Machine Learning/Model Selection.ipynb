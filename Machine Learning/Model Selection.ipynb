{
 "cells": [
  {
   "cell_type": "markdown",
   "id": "678d3055-5bf7-4808-ad31-778733f5b27b",
   "metadata": {},
   "source": [
    "# Model Selection"
   ]
  },
  {
   "cell_type": "markdown",
   "id": "f35c81b8-1cfd-4c80-a4f5-0720be3db361",
   "metadata": {},
   "source": [
    "# Heart Disease Data"
   ]
  },
  {
   "cell_type": "code",
   "execution_count": 1,
   "id": "04861b81-e21c-4dcb-a767-f883575cf9c1",
   "metadata": {
    "tags": []
   },
   "outputs": [],
   "source": [
    "import pandas as pd\n",
    "from sklearn.model_selection import train_test_split\n",
    "from sklearn.preprocessing import StandardScaler\n",
    "from sklearn.svm import SVC\n",
    "from sklearn.neighbors import KNeighborsClassifier\n",
    "from sklearn.ensemble import RandomForestClassifier\n",
    "from sklearn.naive_bayes import GaussianNB\n",
    "from sklearn.linear_model import LogisticRegression\n",
    "from sklearn.tree import DecisionTreeClassifier"
   ]
  },
  {
   "cell_type": "code",
   "execution_count": 2,
   "id": "f65760ff-a717-402f-8893-0e4848bd3b0b",
   "metadata": {
    "tags": []
   },
   "outputs": [
    {
     "name": "stdout",
     "output_type": "stream",
     "text": [
      "Accuracy Score of SVM model on Training Data is:-  0.9130434782608695\n",
      "Accuracy Score of SVM model on Testing Data is:-  0.8333333333333334\n",
      "-----------------------------------------------------------------------------------------------------------------------------------------------\n",
      "-----------------------------------------------------------------------------------------------------------------------------------------------\n",
      "Accuracy Score of Naive Bayes model on Training Data is:-  0.855072463768116\n",
      "Accuracy Score of Naive Bayes model on Testing Data is:-  0.8444444444444444\n",
      "-----------------------------------------------------------------------------------------------------------------------------------------------\n",
      "-----------------------------------------------------------------------------------------------------------------------------------------------\n",
      "Accuracy Score of Logistic Regression model on Training Data is:-  0.8695652173913043\n",
      "Accuracy Score of Logistic Regression model on Testing Data is:-  0.8444444444444444\n",
      "-----------------------------------------------------------------------------------------------------------------------------------------------\n",
      "-----------------------------------------------------------------------------------------------------------------------------------------------\n",
      "Accuracy Score of Decision Tree model on Training Data is:-  1.0\n",
      "Accuracy Score of Decision Tree model on Testing Data is:-  0.7222222222222222\n",
      "-----------------------------------------------------------------------------------------------------------------------------------------------\n",
      "-----------------------------------------------------------------------------------------------------------------------------------------------\n",
      "Accuracy Score of Random Forest model on Training Data is:-  1.0\n",
      "Accuracy Score of Random Forest model on Testing Data is:-  0.7666666666666667\n",
      "-----------------------------------------------------------------------------------------------------------------------------------------------\n",
      "-----------------------------------------------------------------------------------------------------------------------------------------------\n",
      "Accuracy Score of K-Neighbors model on Training Data is:-  0.7632850241545893\n",
      "Accuracy Score of K-Neighbors model on Testing Data is:-  0.6777777777777778\n",
      "-----------------------------------------------------------------------------------------------------------------------------------------------\n",
      "-----------------------------------------------------------------------------------------------------------------------------------------------\n"
     ]
    }
   ],
   "source": [
    "columns=['age','sex','cp','trestbps','chol','fbs','restecg','thalach','exang','oldpeak','slope','ca','thal','num']\n",
    "df=pd.read_csv('G:/dataset/MLbookdataset/ML/Ml/36. Model selection/cleveland.data',sep=',',names=columns)\n",
    "df['num']=df['num'].map({0:0,1:1,2:1,3:1,4:1})\n",
    "x=df.iloc[:,:-1].values\n",
    "y=df.iloc[:,-1].values\n",
    "x_train,x_test,y_train,y_test=train_test_split(x,y,test_size=0.3,random_state=0)\n",
    "sc=StandardScaler()\n",
    "x_train1=sc.fit_transform(x_train)\n",
    "x_test1=sc.fit_transform(x_test)\n",
    "model=SVC(kernel='rbf',random_state=1)\n",
    "model.fit(x_train1,y_train)\n",
    "print('Accuracy Score of SVM model on Training Data is:- ',model.score(x_train1,y_train))\n",
    "print('Accuracy Score of SVM model on Testing Data is:- ',model.score(x_test1,y_test))\n",
    "print('-----------------------------------------------------------------------------------------------------------------------------------------------')\n",
    "print('-----------------------------------------------------------------------------------------------------------------------------------------------')\n",
    "model=GaussianNB()\n",
    "model.fit(x_train,y_train)\n",
    "print('Accuracy Score of Naive Bayes model on Training Data is:- ',model.score(x_train,y_train))\n",
    "print('Accuracy Score of Naive Bayes model on Testing Data is:- ',model.score(x_test,y_test))\n",
    "print('-----------------------------------------------------------------------------------------------------------------------------------------------')\n",
    "print('-----------------------------------------------------------------------------------------------------------------------------------------------')\n",
    "model=LogisticRegression(solver='liblinear',random_state=1)\n",
    "model.fit(x_train,y_train)\n",
    "print('Accuracy Score of Logistic Regression model on Training Data is:- ',model.score(x_train,y_train))\n",
    "print('Accuracy Score of Logistic Regression model on Testing Data is:- ',model.score(x_test,y_test))\n",
    "print('-----------------------------------------------------------------------------------------------------------------------------------------------')\n",
    "print('-----------------------------------------------------------------------------------------------------------------------------------------------')\n",
    "model=DecisionTreeClassifier(random_state=1)\n",
    "model.fit(x_train,y_train)\n",
    "print('Accuracy Score of Decision Tree model on Training Data is:- ',model.score(x_train,y_train))\n",
    "print('Accuracy Score of Decision Tree model on Testing Data is:- ',model.score(x_test,y_test))\n",
    "print('-----------------------------------------------------------------------------------------------------------------------------------------------')\n",
    "print('-----------------------------------------------------------------------------------------------------------------------------------------------')\n",
    "model=RandomForestClassifier(random_state=1)\n",
    "model.fit(x_train,y_train)\n",
    "print('Accuracy Score of Random Forest model on Training Data is:- ',model.score(x_train,y_train))\n",
    "print('Accuracy Score of Random Forest model on Testing Data is:- ',model.score(x_test,y_test))\n",
    "print('-----------------------------------------------------------------------------------------------------------------------------------------------')\n",
    "print('-----------------------------------------------------------------------------------------------------------------------------------------------')\n",
    "model=KNeighborsClassifier(n_neighbors=5)\n",
    "model.fit(x_train,y_train)\n",
    "print('Accuracy Score of K-Neighbors model on Training Data is:- ',model.score(x_train,y_train))\n",
    "print('Accuracy Score of K-Neighbors model on Testing Data is:- ',model.score(x_test,y_test))\n",
    "print('-----------------------------------------------------------------------------------------------------------------------------------------------')\n",
    "print('-----------------------------------------------------------------------------------------------------------------------------------------------')"
   ]
  },
  {
   "cell_type": "code",
   "execution_count": 3,
   "id": "4f838564-af42-4306-a356-ae1895c6fb93",
   "metadata": {
    "tags": []
   },
   "outputs": [
    {
     "data": {
      "text/html": [
       "<div>\n",
       "<style scoped>\n",
       "    .dataframe tbody tr th:only-of-type {\n",
       "        vertical-align: middle;\n",
       "    }\n",
       "\n",
       "    .dataframe tbody tr th {\n",
       "        vertical-align: top;\n",
       "    }\n",
       "\n",
       "    .dataframe thead th {\n",
       "        text-align: right;\n",
       "    }\n",
       "</style>\n",
       "<table border=\"1\" class=\"dataframe\">\n",
       "  <thead>\n",
       "    <tr style=\"text-align: right;\">\n",
       "      <th></th>\n",
       "      <th>Model</th>\n",
       "      <th>Train_Score</th>\n",
       "      <th>Test_Score</th>\n",
       "      <th>Deviation</th>\n",
       "    </tr>\n",
       "  </thead>\n",
       "  <tbody>\n",
       "    <tr>\n",
       "      <th>0</th>\n",
       "      <td>SVC</td>\n",
       "      <td>91</td>\n",
       "      <td>83</td>\n",
       "      <td>8</td>\n",
       "    </tr>\n",
       "    <tr>\n",
       "      <th>1</th>\n",
       "      <td>GaussianNB</td>\n",
       "      <td>85</td>\n",
       "      <td>84</td>\n",
       "      <td>1</td>\n",
       "    </tr>\n",
       "    <tr>\n",
       "      <th>2</th>\n",
       "      <td>LogisticRegression</td>\n",
       "      <td>86</td>\n",
       "      <td>84</td>\n",
       "      <td>2</td>\n",
       "    </tr>\n",
       "    <tr>\n",
       "      <th>3</th>\n",
       "      <td>DecisionTree</td>\n",
       "      <td>100</td>\n",
       "      <td>72</td>\n",
       "      <td>28</td>\n",
       "    </tr>\n",
       "    <tr>\n",
       "      <th>4</th>\n",
       "      <td>RandomForest</td>\n",
       "      <td>100</td>\n",
       "      <td>76</td>\n",
       "      <td>24</td>\n",
       "    </tr>\n",
       "    <tr>\n",
       "      <th>5</th>\n",
       "      <td>KNeighbors</td>\n",
       "      <td>76</td>\n",
       "      <td>67</td>\n",
       "      <td>9</td>\n",
       "    </tr>\n",
       "  </tbody>\n",
       "</table>\n",
       "</div>"
      ],
      "text/plain": [
       "                Model  Train_Score  Test_Score  Deviation\n",
       "0                 SVC           91          83          8\n",
       "1          GaussianNB           85          84          1\n",
       "2  LogisticRegression           86          84          2\n",
       "3        DecisionTree          100          72         28\n",
       "4        RandomForest          100          76         24\n",
       "5          KNeighbors           76          67          9"
      ]
     },
     "execution_count": 3,
     "metadata": {},
     "output_type": "execute_result"
    }
   ],
   "source": [
    "Model=['SVC','GaussianNB','LogisticRegression','DecisionTree','RandomForest','KNeighbors']\n",
    "Train_Score=[91,85,86,100,100,76]\n",
    "Test_Score=[83,84,84,72,76,67]\n",
    "Deviation=[8,1,2,28,24,9]\n",
    "data={'Model':Model,'Train_Score':Train_Score,'Test_Score':Test_Score,'Deviation':Deviation}\n",
    "df2=pd.DataFrame(data=data)\n",
    "df2"
   ]
  },
  {
   "cell_type": "code",
   "execution_count": null,
   "id": "f62b17ac-0a7b-4f89-a71a-aa1da4b52198",
   "metadata": {},
   "outputs": [],
   "source": []
  }
 ],
 "metadata": {
  "kernelspec": {
   "display_name": "Python 3 (ipykernel)",
   "language": "python",
   "name": "python3"
  },
  "language_info": {
   "codemirror_mode": {
    "name": "ipython",
    "version": 3
   },
   "file_extension": ".py",
   "mimetype": "text/x-python",
   "name": "python",
   "nbconvert_exporter": "python",
   "pygments_lexer": "ipython3",
   "version": "3.11.7"
  },
  "widgets": {
   "application/vnd.jupyter.widget-state+json": {
    "state": {},
    "version_major": 2,
    "version_minor": 0
   }
  }
 },
 "nbformat": 4,
 "nbformat_minor": 5
}
