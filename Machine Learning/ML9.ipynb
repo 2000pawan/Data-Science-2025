{
 "cells": [
  {
   "cell_type": "markdown",
   "id": "6f6eedc9-9d5f-4a62-836e-7f7c1f63f848",
   "metadata": {},
   "source": [
    "## Cross Validation & Select K-Best."
   ]
  },
  {
   "cell_type": "markdown",
   "id": "24add33d-7a39-4ef2-b58f-75c9f0d22bfb",
   "metadata": {},
   "source": [
    "## Model Train on Breast Cancer Data."
   ]
  },
  {
   "cell_type": "code",
   "execution_count": 48,
   "id": "09d72fd6-5805-4c94-9e29-152cf3bbeb34",
   "metadata": {},
   "outputs": [],
   "source": [
    "from sklearn.neighbors import KNeighborsClassifier\n",
    "from sklearn.datasets import load_breast_cancer\n",
    "from sklearn.metrics import accuracy_score\n",
    "from sklearn.preprocessing import StandardScaler\n",
    "from sklearn.model_selection import train_test_split,cross_val_score\n",
    "from sklearn.feature_selection import SelectKBest,f_classif"
   ]
  },
  {
   "cell_type": "code",
   "execution_count": 78,
   "id": "7a7077e7-92bc-4f54-85a0-114d3cc177f9",
   "metadata": {},
   "outputs": [],
   "source": [
    "df=load_breast_cancer()\n",
    "# print(df.DESCR)"
   ]
  },
  {
   "cell_type": "code",
   "execution_count": 44,
   "id": "96be0432-a1d4-4aed-ae93-db0901c17a40",
   "metadata": {},
   "outputs": [
    {
     "name": "stdout",
     "output_type": "stream",
     "text": [
      "Accuracy Score of Training:-  0.9812206572769953\n",
      "Accuracy Score of Testing:-  0.951048951048951\n"
     ]
    }
   ],
   "source": [
    "X=df.data\n",
    "y=df.target\n",
    "X_train,X_test,y_train,y_test=train_test_split(X,y,random_state=1)\n",
    "sc=StandardScaler()\n",
    "X_train_new=sc.fit_transform(X_train)\n",
    "X_test_new=sc.transform(X_test)\n",
    "model=KNeighborsClassifier()\n",
    "model.fit(X_train_new,y_train)\n",
    "pred_train=model.predict(X_train_new)\n",
    "pred_test=model.predict(X_test_new)\n",
    "print(\"Accuracy Score of Training:- \",accuracy_score(y_train,pred_train))\n",
    "print(\"Accuracy Score of Testing:- \",accuracy_score(y_test,pred_test))"
   ]
  },
  {
   "cell_type": "markdown",
   "id": "bc85dea3-5f2c-42df-a412-73d069a82071",
   "metadata": {},
   "source": [
    "# Select K-Best Features."
   ]
  },
  {
   "cell_type": "code",
   "execution_count": 54,
   "id": "ac611502-1d67-4a13-aace-5745cbfd2df5",
   "metadata": {},
   "outputs": [
    {
     "name": "stdout",
     "output_type": "stream",
     "text": [
      "Accuracy Score of Training:-  0.9812206572769953\n",
      "Accuracy Score of Testing:-  0.958041958041958\n"
     ]
    }
   ],
   "source": [
    "X=df.data\n",
    "y=df.target\n",
    "k_best=SelectKBest(f_classif,k=29)\n",
    "X_new=k_best.fit_transform(X,y)\n",
    "X_train,X_test,y_train,y_test=train_test_split(X_new,y,random_state=1)\n",
    "sc=StandardScaler()\n",
    "X_train_new=sc.fit_transform(X_train)\n",
    "X_test_new=sc.transform(X_test)\n",
    "model=KNeighborsClassifier()\n",
    "model.fit(X_train_new,y_train)\n",
    "pred_train=model.predict(X_train_new)\n",
    "pred_test=model.predict(X_test_new)\n",
    "print(\"Accuracy Score of Training:- \",accuracy_score(y_train,pred_train))\n",
    "print(\"Accuracy Score of Testing:- \",accuracy_score(y_test,pred_test))"
   ]
  },
  {
   "cell_type": "code",
   "execution_count": 84,
   "id": "16128eb5-2193-4125-9068-cc22a885bcc7",
   "metadata": {},
   "outputs": [
    {
     "name": "stdout",
     "output_type": "stream",
     "text": [
      "30\n",
      "Accuracy Score of Training:-  0.971830985915493\n",
      "Accuracy Score of Testing:-  0.951048951048951\n",
      "------------------------- 20 5\n",
      "Accuracy Score of Training:-  0.9788732394366197\n",
      "Accuracy Score of Testing:-  0.9370629370629371\n",
      "------------------------- 20 6\n",
      "Accuracy Score of Training:-  0.9741784037558685\n",
      "Accuracy Score of Testing:-  0.951048951048951\n",
      "------------------------- 20 7\n",
      "Accuracy Score of Training:-  0.9741784037558685\n",
      "Accuracy Score of Testing:-  0.9440559440559441\n",
      "------------------------- 20 8\n",
      "---------------------------------------------------------------------------\n",
      "Accuracy Score of Training:-  0.9741784037558685\n",
      "Accuracy Score of Testing:-  0.958041958041958\n",
      "------------------------- 21 5\n",
      "Accuracy Score of Training:-  0.9788732394366197\n",
      "Accuracy Score of Testing:-  0.9440559440559441\n",
      "------------------------- 21 6\n",
      "Accuracy Score of Training:-  0.9765258215962441\n",
      "Accuracy Score of Testing:-  0.951048951048951\n",
      "------------------------- 21 7\n",
      "Accuracy Score of Training:-  0.9788732394366197\n",
      "Accuracy Score of Testing:-  0.9370629370629371\n",
      "------------------------- 21 8\n",
      "---------------------------------------------------------------------------\n",
      "Accuracy Score of Training:-  0.971830985915493\n",
      "Accuracy Score of Testing:-  0.958041958041958\n",
      "------------------------- 22 5\n",
      "Accuracy Score of Training:-  0.9765258215962441\n",
      "Accuracy Score of Testing:-  0.951048951048951\n",
      "------------------------- 22 6\n",
      "Accuracy Score of Training:-  0.9741784037558685\n",
      "Accuracy Score of Testing:-  0.958041958041958\n",
      "------------------------- 22 7\n",
      "Accuracy Score of Training:-  0.9741784037558685\n",
      "Accuracy Score of Testing:-  0.9370629370629371\n",
      "------------------------- 22 8\n",
      "---------------------------------------------------------------------------\n",
      "Accuracy Score of Training:-  0.971830985915493\n",
      "Accuracy Score of Testing:-  0.951048951048951\n",
      "------------------------- 23 5\n",
      "Accuracy Score of Training:-  0.9741784037558685\n",
      "Accuracy Score of Testing:-  0.9440559440559441\n",
      "------------------------- 23 6\n",
      "Accuracy Score of Training:-  0.9741784037558685\n",
      "Accuracy Score of Testing:-  0.9440559440559441\n",
      "------------------------- 23 7\n",
      "Accuracy Score of Training:-  0.971830985915493\n",
      "Accuracy Score of Testing:-  0.9370629370629371\n",
      "------------------------- 23 8\n",
      "---------------------------------------------------------------------------\n",
      "Accuracy Score of Training:-  0.9788732394366197\n",
      "Accuracy Score of Testing:-  0.951048951048951\n",
      "------------------------- 24 5\n",
      "Accuracy Score of Training:-  0.9788732394366197\n",
      "Accuracy Score of Testing:-  0.951048951048951\n",
      "------------------------- 24 6\n",
      "Accuracy Score of Training:-  0.9765258215962441\n",
      "Accuracy Score of Testing:-  0.9440559440559441\n",
      "------------------------- 24 7\n",
      "Accuracy Score of Training:-  0.9741784037558685\n",
      "Accuracy Score of Testing:-  0.9440559440559441\n",
      "------------------------- 24 8\n",
      "---------------------------------------------------------------------------\n",
      "Accuracy Score of Training:-  0.9812206572769953\n",
      "Accuracy Score of Testing:-  0.951048951048951\n",
      "------------------------- 25 5\n",
      "Accuracy Score of Training:-  0.9859154929577465\n",
      "Accuracy Score of Testing:-  0.9440559440559441\n",
      "------------------------- 25 6\n",
      "Accuracy Score of Training:-  0.9788732394366197\n",
      "Accuracy Score of Testing:-  0.9440559440559441\n",
      "------------------------- 25 7\n",
      "Accuracy Score of Training:-  0.9765258215962441\n",
      "Accuracy Score of Testing:-  0.9440559440559441\n",
      "------------------------- 25 8\n",
      "---------------------------------------------------------------------------\n",
      "Accuracy Score of Training:-  0.9788732394366197\n",
      "Accuracy Score of Testing:-  0.951048951048951\n",
      "------------------------- 26 5\n",
      "Accuracy Score of Training:-  0.9812206572769953\n",
      "Accuracy Score of Testing:-  0.9440559440559441\n",
      "------------------------- 26 6\n",
      "Accuracy Score of Training:-  0.9765258215962441\n",
      "Accuracy Score of Testing:-  0.9440559440559441\n",
      "------------------------- 26 7\n",
      "Accuracy Score of Training:-  0.9788732394366197\n",
      "Accuracy Score of Testing:-  0.951048951048951\n",
      "------------------------- 26 8\n",
      "---------------------------------------------------------------------------\n",
      "Accuracy Score of Training:-  0.9788732394366197\n",
      "Accuracy Score of Testing:-  0.951048951048951\n",
      "------------------------- 27 5\n",
      "Accuracy Score of Training:-  0.9788732394366197\n",
      "Accuracy Score of Testing:-  0.965034965034965\n",
      "------------------------- 27 6\n",
      "Accuracy Score of Training:-  0.9788732394366197\n",
      "Accuracy Score of Testing:-  0.951048951048951\n",
      "------------------------- 27 7\n",
      "Accuracy Score of Training:-  0.9788732394366197\n",
      "Accuracy Score of Testing:-  0.9440559440559441\n",
      "------------------------- 27 8\n",
      "---------------------------------------------------------------------------\n",
      "Accuracy Score of Training:-  0.9788732394366197\n",
      "Accuracy Score of Testing:-  0.951048951048951\n",
      "------------------------- 28 5\n",
      "Accuracy Score of Training:-  0.9812206572769953\n",
      "Accuracy Score of Testing:-  0.965034965034965\n",
      "------------------------- 28 6\n",
      "Accuracy Score of Training:-  0.9788732394366197\n",
      "Accuracy Score of Testing:-  0.958041958041958\n",
      "------------------------- 28 7\n",
      "Accuracy Score of Training:-  0.9788732394366197\n",
      "Accuracy Score of Testing:-  0.951048951048951\n",
      "------------------------- 28 8\n",
      "---------------------------------------------------------------------------\n",
      "Accuracy Score of Training:-  0.9812206572769953\n",
      "Accuracy Score of Testing:-  0.958041958041958\n",
      "------------------------- 29 5\n",
      "Accuracy Score of Training:-  0.9812206572769953\n",
      "Accuracy Score of Testing:-  0.958041958041958\n",
      "------------------------- 29 6\n",
      "Accuracy Score of Training:-  0.9741784037558685\n",
      "Accuracy Score of Testing:-  0.951048951048951\n",
      "------------------------- 29 7\n",
      "Accuracy Score of Training:-  0.9765258215962441\n",
      "Accuracy Score of Testing:-  0.951048951048951\n",
      "------------------------- 29 8\n",
      "---------------------------------------------------------------------------\n",
      "Accuracy Score of Training:-  0.9812206572769953\n",
      "Accuracy Score of Testing:-  0.951048951048951\n",
      "------------------------- 30 5\n",
      "Accuracy Score of Training:-  0.9788732394366197\n",
      "Accuracy Score of Testing:-  0.951048951048951\n",
      "------------------------- 30 6\n",
      "Accuracy Score of Training:-  0.9741784037558685\n",
      "Accuracy Score of Testing:-  0.951048951048951\n",
      "------------------------- 30 7\n",
      "Accuracy Score of Training:-  0.9812206572769953\n",
      "Accuracy Score of Testing:-  0.951048951048951\n",
      "------------------------- 30 8\n",
      "---------------------------------------------------------------------------\n"
     ]
    }
   ],
   "source": [
    "X=df.data\n",
    "y=df.target\n",
    "l=df.data.shape[1]\n",
    "print(l)\n",
    "for i in range(20,l+1):\n",
    "    k_best=SelectKBest(f_classif,k=i)\n",
    "    X_new=k_best.fit_transform(X,y)\n",
    "    X_train,X_test,y_train,y_test=train_test_split(X_new,y,random_state=1)\n",
    "    sc=StandardScaler()\n",
    "    X_train_new=sc.fit_transform(X_train)\n",
    "    X_test_new=sc.transform(X_test)\n",
    "    for n in range(5,9):\n",
    "        model=KNeighborsClassifier(n_neighbors=n)\n",
    "        model.fit(X_train_new,y_train)\n",
    "        pred_train=model.predict(X_train_new)\n",
    "        pred_test=model.predict(X_test_new)\n",
    "        print(\"Accuracy Score of Training:- \",accuracy_score(y_train,pred_train))\n",
    "        print(\"Accuracy Score of Testing:- \",accuracy_score(y_test,pred_test))\n",
    "        print(\"-------------------------\",i,n)\n",
    "    print(\"---------------------------------------------------------------------------\")"
   ]
  },
  {
   "cell_type": "code",
   "execution_count": 86,
   "id": "66a4c4e8-e046-4885-a565-41dc22f155ff",
   "metadata": {},
   "outputs": [
    {
     "name": "stdout",
     "output_type": "stream",
     "text": [
      "Accuracy Score of Training:-  0.9788732394366197\n",
      "Accuracy Score of Testing:-  0.965034965034965\n"
     ]
    }
   ],
   "source": [
    "X=df.data\n",
    "y=df.target\n",
    "k_best=SelectKBest(f_classif,k=27)\n",
    "X_new=k_best.fit_transform(X,y)\n",
    "X_train,X_test,y_train,y_test=train_test_split(X_new,y,random_state=1)\n",
    "sc=StandardScaler()\n",
    "X_train_new=sc.fit_transform(X_train)\n",
    "X_test_new=sc.transform(X_test)\n",
    "model=KNeighborsClassifier(n_neighbors=6)\n",
    "model.fit(X_train_new,y_train)\n",
    "pred_train=model.predict(X_train_new)\n",
    "pred_test=model.predict(X_test_new)\n",
    "print(\"Accuracy Score of Training:- \",accuracy_score(y_train,pred_train))\n",
    "print(\"Accuracy Score of Testing:- \",accuracy_score(y_test,pred_test))"
   ]
  },
  {
   "cell_type": "markdown",
   "id": "a0f5ac27-d9f9-4008-9b41-b6bcb3c7704e",
   "metadata": {},
   "source": [
    "# Cross Validation."
   ]
  },
  {
   "cell_type": "code",
   "execution_count": 100,
   "id": "beb0a2e4-17aa-4e1e-a025-dece1f9ca101",
   "metadata": {},
   "outputs": [
    {
     "data": {
      "text/plain": [
       "0.9648501785437045"
      ]
     },
     "execution_count": 100,
     "metadata": {},
     "output_type": "execute_result"
    }
   ],
   "source": [
    "df=load_breast_cancer()\n",
    "X=df.data\n",
    "y=df.target\n",
    "sc=StandardScaler()\n",
    "X_new=sc.fit_transform(X)\n",
    "model=KNeighborsClassifier()\n",
    "pred=cross_val_score(model,X_new,y,cv=5)\n",
    "pred.mean()"
   ]
  },
  {
   "cell_type": "code",
   "execution_count": 114,
   "id": "9ec22e65-99f4-4415-bed0-a901fbfa7cf8",
   "metadata": {},
   "outputs": [
    {
     "data": {
      "text/plain": [
       "0.9718832479428661"
      ]
     },
     "execution_count": 114,
     "metadata": {},
     "output_type": "execute_result"
    }
   ],
   "source": [
    "df=load_breast_cancer()\n",
    "X=df.data\n",
    "y=df.target\n",
    "k=SelectKBest(f_classif,k=24)\n",
    "X_new=k.fit_transform(X,y)\n",
    "sc=StandardScaler()\n",
    "X_train=sc.fit_transform(X_new)\n",
    "model=KNeighborsClassifier()\n",
    "pred=cross_val_score(model,X_train,y,cv=5)\n",
    "pred.mean()"
   ]
  },
  {
   "cell_type": "code",
   "execution_count": 118,
   "id": "45dbb71e-65ab-4e55-8ab8-5f8f7891e859",
   "metadata": {},
   "outputs": [
    {
     "name": "stdout",
     "output_type": "stream",
     "text": [
      "0.9385188635305077\n",
      "---------------------------------------------- 10\n",
      "__________________________________________________________________\n",
      "0.9402732494954199\n",
      "---------------------------------------------- 11\n",
      "__________________________________________________________________\n",
      "0.9402732494954199\n",
      "---------------------------------------------- 12\n",
      "__________________________________________________________________\n",
      "0.9367644775655954\n",
      "---------------------------------------------- 13\n",
      "__________________________________________________________________\n",
      "0.9367489520260829\n",
      "---------------------------------------------- 14\n",
      "__________________________________________________________________\n",
      "0.935010091600683\n",
      "---------------------------------------------- 15\n",
      "__________________________________________________________________\n",
      "0.9578326346840551\n",
      "---------------------------------------------- 16\n",
      "__________________________________________________________________\n",
      "0.9701133364384411\n",
      "---------------------------------------------- 17\n",
      "__________________________________________________________________\n",
      "0.9701599130569786\n",
      "---------------------------------------------- 18\n",
      "__________________________________________________________________\n",
      "0.9683900015525537\n",
      "---------------------------------------------- 19\n",
      "__________________________________________________________________\n",
      "0.9666200900481291\n",
      "---------------------------------------------- 20\n",
      "__________________________________________________________________\n",
      "0.9648346530041918\n",
      "---------------------------------------------- 21\n",
      "__________________________________________________________________\n",
      "0.9683744760130415\n",
      "---------------------------------------------- 22\n",
      "__________________________________________________________________\n",
      "0.9701133364384413\n",
      "---------------------------------------------- 23\n",
      "__________________________________________________________________\n",
      "0.9718832479428661\n",
      "---------------------------------------------- 24\n",
      "__________________________________________________________________\n",
      "0.9754075454122031\n",
      "---------------------------------------------- 25\n",
      "__________________________________________________________________\n",
      "0.9736531594472908\n",
      "---------------------------------------------- 26\n",
      "__________________________________________________________________\n",
      "0.9718832479428661\n",
      "---------------------------------------------- 27\n",
      "__________________________________________________________________\n",
      "0.9701288619779538\n",
      "---------------------------------------------- 28\n",
      "__________________________________________________________________\n",
      "0.9683744760130415\n",
      "---------------------------------------------- 29\n",
      "__________________________________________________________________\n",
      "0.9648501785437045\n",
      "---------------------------------------------- 30\n",
      "__________________________________________________________________\n"
     ]
    }
   ],
   "source": [
    "df=load_breast_cancer()\n",
    "X=df.data\n",
    "y=df.target\n",
    "for i in range(10,df.data.shape[1]+1):\n",
    "    k=SelectKBest(f_classif,k=i)\n",
    "    X_new=k.fit_transform(X,y)\n",
    "    sc=StandardScaler()\n",
    "    X_train=sc.fit_transform(X_new)\n",
    "    model=KNeighborsClassifier()\n",
    "    pred=cross_val_score(model,X_train,y,cv=5)\n",
    "    print(pred.mean())\n",
    "    print(\"----------------------------------------------\",i)\n",
    "    print(\"__________________________________________________________________\")"
   ]
  },
  {
   "cell_type": "code",
   "execution_count": 120,
   "id": "ea3ebb76-27f9-4f68-8957-56fcd08f1713",
   "metadata": {},
   "outputs": [
    {
     "data": {
      "text/plain": [
       "0.9754075454122031"
      ]
     },
     "execution_count": 120,
     "metadata": {},
     "output_type": "execute_result"
    }
   ],
   "source": [
    "df=load_breast_cancer()\n",
    "X=df.data\n",
    "y=df.target\n",
    "k=SelectKBest(f_classif,k=25)\n",
    "X_new=k.fit_transform(X,y)\n",
    "sc=StandardScaler()\n",
    "X_train=sc.fit_transform(X_new)\n",
    "model=KNeighborsClassifier()\n",
    "pred=cross_val_score(model,X_train,y,cv=5)\n",
    "pred.mean()"
   ]
  },
  {
   "cell_type": "code",
   "execution_count": null,
   "id": "daa06af9-7601-4ead-b1b3-2ad69ef0ef84",
   "metadata": {},
   "outputs": [],
   "source": []
  }
 ],
 "metadata": {
  "kernelspec": {
   "display_name": "Python 3 (ipykernel)",
   "language": "python",
   "name": "python3"
  },
  "language_info": {
   "codemirror_mode": {
    "name": "ipython",
    "version": 3
   },
   "file_extension": ".py",
   "mimetype": "text/x-python",
   "name": "python",
   "nbconvert_exporter": "python",
   "pygments_lexer": "ipython3",
   "version": "3.12.7"
  }
 },
 "nbformat": 4,
 "nbformat_minor": 5
}
