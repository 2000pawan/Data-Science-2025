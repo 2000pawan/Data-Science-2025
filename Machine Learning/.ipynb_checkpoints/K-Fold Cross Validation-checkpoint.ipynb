{
 "cells": [
  {
   "cell_type": "markdown",
   "id": "63dc5ffc-b16e-41c7-b3ba-aaf2ff1f349a",
   "metadata": {},
   "source": [
    "# K-Fold Cross Validation"
   ]
  },
  {
   "cell_type": "markdown",
   "id": "ab98d957-1ddd-490c-9ece-5071fdfae153",
   "metadata": {},
   "source": [
    "# Breast Cancer Data Logistic Regression Model"
   ]
  },
  {
   "cell_type": "code",
   "execution_count": 1,
   "id": "3f7b4c62-9f14-48be-9ee8-147f0597400b",
   "metadata": {
    "tags": []
   },
   "outputs": [],
   "source": [
    "from sklearn.datasets import load_breast_cancer\n",
    "from sklearn.linear_model import LogisticRegression\n",
    "from sklearn.model_selection import train_test_split,KFold,cross_val_score"
   ]
  },
  {
   "cell_type": "code",
   "execution_count": 2,
   "id": "9ac7b10c-fa04-47e5-a62e-ae348157517d",
   "metadata": {
    "tags": []
   },
   "outputs": [
    {
     "name": "stdout",
     "output_type": "stream",
     "text": [
      "Accuracy Score= 0.95\n"
     ]
    }
   ],
   "source": [
    "df=load_breast_cancer()\n",
    "x=df.data\n",
    "y=df.target\n",
    "k=5\n",
    "kf=KFold(n_splits=k)\n",
    "model=LogisticRegression(solver='liblinear')\n",
    "score=cross_val_score(model,x,y,cv=kf)\n",
    "print('Accuracy Score= %.2f'%score.mean())"
   ]
  },
  {
   "cell_type": "code",
   "execution_count": null,
   "id": "1bafb81c-ce30-43ae-aafb-c7539c08dc40",
   "metadata": {},
   "outputs": [],
   "source": []
  },
  {
   "cell_type": "markdown",
   "id": "d65fa69e-90e0-4363-b58e-37e905e07ba8",
   "metadata": {},
   "source": [
    "# Breast Cancer Data Decision Tree Classifier Model"
   ]
  },
  {
   "cell_type": "code",
   "execution_count": 3,
   "id": "2bdd91e2-1bab-4849-8d71-c3c4455a36f0",
   "metadata": {
    "tags": []
   },
   "outputs": [],
   "source": [
    "from sklearn.datasets import load_breast_cancer\n",
    "from sklearn.tree import DecisionTreeClassifier\n",
    "from sklearn.model_selection import train_test_split,KFold,cross_val_score"
   ]
  },
  {
   "cell_type": "code",
   "execution_count": 4,
   "id": "a6e2d1a7-8dfc-4b4f-8693-863472abddca",
   "metadata": {
    "tags": []
   },
   "outputs": [
    {
     "name": "stdout",
     "output_type": "stream",
     "text": [
      "Accuracy Score= 0.91\n"
     ]
    }
   ],
   "source": [
    "df=load_breast_cancer()\n",
    "x=df.data\n",
    "y=df.target\n",
    "k=5\n",
    "kf=KFold(n_splits=k)\n",
    "model=DecisionTreeClassifier()\n",
    "score=cross_val_score(model,x,y,cv=kf)\n",
    "print('Accuracy Score= %.2f'%score.mean())"
   ]
  },
  {
   "cell_type": "code",
   "execution_count": null,
   "id": "a675b77e-d044-4502-9fbf-929fd1866cbd",
   "metadata": {},
   "outputs": [],
   "source": []
  },
  {
   "cell_type": "markdown",
   "id": "d90dac47-da14-4ba6-9dbf-830489827510",
   "metadata": {},
   "source": [
    "# Breast Cancer Data SVM Model"
   ]
  },
  {
   "cell_type": "code",
   "execution_count": 5,
   "id": "7ab9c1a5-f81b-4083-8d3a-e5dab30b0190",
   "metadata": {
    "tags": []
   },
   "outputs": [],
   "source": [
    "from sklearn.datasets import load_breast_cancer\n",
    "from sklearn.svm import SVC\n",
    "from sklearn.model_selection import train_test_split,KFold,cross_val_score"
   ]
  },
  {
   "cell_type": "code",
   "execution_count": 6,
   "id": "b3bec3ec-f2fd-4eab-ad55-2173ef33f1c4",
   "metadata": {
    "tags": []
   },
   "outputs": [
    {
     "name": "stdout",
     "output_type": "stream",
     "text": [
      "Accuracy Score= 0.91\n"
     ]
    }
   ],
   "source": [
    "df=load_breast_cancer()\n",
    "x=df.data\n",
    "y=df.target\n",
    "k=5\n",
    "kf=KFold(n_splits=k)\n",
    "model=SVC()\n",
    "score=cross_val_score(model,x,y,cv=kf)\n",
    "print('Accuracy Score= %.2f'%score.mean())"
   ]
  },
  {
   "cell_type": "code",
   "execution_count": null,
   "id": "895b1fed-60c2-4c79-9416-5618a7f4a81f",
   "metadata": {},
   "outputs": [],
   "source": []
  }
 ],
 "metadata": {
  "kernelspec": {
   "display_name": "Python 3 (ipykernel)",
   "language": "python",
   "name": "python3"
  },
  "language_info": {
   "codemirror_mode": {
    "name": "ipython",
    "version": 3
   },
   "file_extension": ".py",
   "mimetype": "text/x-python",
   "name": "python",
   "nbconvert_exporter": "python",
   "pygments_lexer": "ipython3",
   "version": "3.11.7"
  },
  "widgets": {
   "application/vnd.jupyter.widget-state+json": {
    "state": {},
    "version_major": 2,
    "version_minor": 0
   }
  }
 },
 "nbformat": 4,
 "nbformat_minor": 5
}
