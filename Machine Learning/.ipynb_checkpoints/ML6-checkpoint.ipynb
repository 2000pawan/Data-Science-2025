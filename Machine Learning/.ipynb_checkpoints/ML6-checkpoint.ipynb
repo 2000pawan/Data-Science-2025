{
 "cells": [
  {
   "cell_type": "markdown",
   "id": "f4ed74ca-0e4b-466d-af36-cfd471587e22",
   "metadata": {},
   "source": [
    "## Feature Encoding.\n",
    ". Label Encoder.\n",
    "\n",
    ". One Hot Encoder"
   ]
  },
  {
   "cell_type": "code",
   "execution_count": 60,
   "id": "d5e6a0b1-eb16-4316-80c6-4fa3fefe86ba",
   "metadata": {},
   "outputs": [],
   "source": [
    "import pandas as pd\n",
    "from sklearn.neighbors import KNeighborsClassifier\n",
    "from sklearn.metrics import accuracy_score,confusion_matrix,f1_score,classification_report,recall_score,precision_score\n",
    "from sklearn.preprocessing import StandardScaler,LabelEncoder,OneHotEncoder\n",
    "from sklearn.model_selection import train_test_split"
   ]
  },
  {
   "cell_type": "markdown",
   "id": "17ef6824-88a8-4323-a602-4509bddf02aa",
   "metadata": {},
   "source": [
    "## Feature Encoding Label Encoder."
   ]
  },
  {
   "cell_type": "code",
   "execution_count": 63,
   "id": "d99b9631-575c-47c8-b8d6-9949c7410317",
   "metadata": {},
   "outputs": [
    {
     "data": {
      "text/html": [
       "<div>\n",
       "<style scoped>\n",
       "    .dataframe tbody tr th:only-of-type {\n",
       "        vertical-align: middle;\n",
       "    }\n",
       "\n",
       "    .dataframe tbody tr th {\n",
       "        vertical-align: top;\n",
       "    }\n",
       "\n",
       "    .dataframe thead th {\n",
       "        text-align: right;\n",
       "    }\n",
       "</style>\n",
       "<table border=\"1\" class=\"dataframe\">\n",
       "  <thead>\n",
       "    <tr style=\"text-align: right;\">\n",
       "      <th></th>\n",
       "      <th>Gender</th>\n",
       "      <th>Age</th>\n",
       "      <th>EstimatedSalary</th>\n",
       "      <th>Purchased</th>\n",
       "    </tr>\n",
       "  </thead>\n",
       "  <tbody>\n",
       "    <tr>\n",
       "      <th>0</th>\n",
       "      <td>Male</td>\n",
       "      <td>19</td>\n",
       "      <td>19000</td>\n",
       "      <td>0</td>\n",
       "    </tr>\n",
       "    <tr>\n",
       "      <th>1</th>\n",
       "      <td>Male</td>\n",
       "      <td>35</td>\n",
       "      <td>20000</td>\n",
       "      <td>0</td>\n",
       "    </tr>\n",
       "    <tr>\n",
       "      <th>2</th>\n",
       "      <td>Female</td>\n",
       "      <td>26</td>\n",
       "      <td>43000</td>\n",
       "      <td>0</td>\n",
       "    </tr>\n",
       "    <tr>\n",
       "      <th>3</th>\n",
       "      <td>Female</td>\n",
       "      <td>27</td>\n",
       "      <td>57000</td>\n",
       "      <td>0</td>\n",
       "    </tr>\n",
       "    <tr>\n",
       "      <th>4</th>\n",
       "      <td>Male</td>\n",
       "      <td>19</td>\n",
       "      <td>76000</td>\n",
       "      <td>0</td>\n",
       "    </tr>\n",
       "  </tbody>\n",
       "</table>\n",
       "</div>"
      ],
      "text/plain": [
       "   Gender  Age  EstimatedSalary  Purchased\n",
       "0    Male   19            19000          0\n",
       "1    Male   35            20000          0\n",
       "2  Female   26            43000          0\n",
       "3  Female   27            57000          0\n",
       "4    Male   19            76000          0"
      ]
     },
     "execution_count": 63,
     "metadata": {},
     "output_type": "execute_result"
    }
   ],
   "source": [
    "df=pd.read_csv(\"G:/dataset/classification/online_shop.csv\")\n",
    "df.head(5)"
   ]
  },
  {
   "cell_type": "code",
   "execution_count": 65,
   "id": "9ef3853c-a426-4db5-8723-a2c9cccac874",
   "metadata": {},
   "outputs": [
    {
     "data": {
      "text/html": [
       "<div>\n",
       "<style scoped>\n",
       "    .dataframe tbody tr th:only-of-type {\n",
       "        vertical-align: middle;\n",
       "    }\n",
       "\n",
       "    .dataframe tbody tr th {\n",
       "        vertical-align: top;\n",
       "    }\n",
       "\n",
       "    .dataframe thead th {\n",
       "        text-align: right;\n",
       "    }\n",
       "</style>\n",
       "<table border=\"1\" class=\"dataframe\">\n",
       "  <thead>\n",
       "    <tr style=\"text-align: right;\">\n",
       "      <th></th>\n",
       "      <th>Gender</th>\n",
       "      <th>Age</th>\n",
       "      <th>EstimatedSalary</th>\n",
       "      <th>Purchased</th>\n",
       "    </tr>\n",
       "  </thead>\n",
       "  <tbody>\n",
       "    <tr>\n",
       "      <th>0</th>\n",
       "      <td>1</td>\n",
       "      <td>19</td>\n",
       "      <td>19000</td>\n",
       "      <td>0</td>\n",
       "    </tr>\n",
       "    <tr>\n",
       "      <th>1</th>\n",
       "      <td>1</td>\n",
       "      <td>35</td>\n",
       "      <td>20000</td>\n",
       "      <td>0</td>\n",
       "    </tr>\n",
       "    <tr>\n",
       "      <th>2</th>\n",
       "      <td>0</td>\n",
       "      <td>26</td>\n",
       "      <td>43000</td>\n",
       "      <td>0</td>\n",
       "    </tr>\n",
       "    <tr>\n",
       "      <th>3</th>\n",
       "      <td>0</td>\n",
       "      <td>27</td>\n",
       "      <td>57000</td>\n",
       "      <td>0</td>\n",
       "    </tr>\n",
       "    <tr>\n",
       "      <th>4</th>\n",
       "      <td>1</td>\n",
       "      <td>19</td>\n",
       "      <td>76000</td>\n",
       "      <td>0</td>\n",
       "    </tr>\n",
       "  </tbody>\n",
       "</table>\n",
       "</div>"
      ],
      "text/plain": [
       "   Gender  Age  EstimatedSalary  Purchased\n",
       "0       1   19            19000          0\n",
       "1       1   35            20000          0\n",
       "2       0   26            43000          0\n",
       "3       0   27            57000          0\n",
       "4       1   19            76000          0"
      ]
     },
     "execution_count": 65,
     "metadata": {},
     "output_type": "execute_result"
    }
   ],
   "source": [
    "# Using Pandas\n",
    "df=pd.read_csv(\"G:/dataset/classification/online_shop.csv\")\n",
    "df.head(5)\n",
    "df.Gender=df.Gender.map({'Male':1,'Female':0})\n",
    "df.head(5)"
   ]
  },
  {
   "cell_type": "code",
   "execution_count": 67,
   "id": "935673d7-9043-468b-9818-45d727719320",
   "metadata": {},
   "outputs": [
    {
     "data": {
      "text/html": [
       "<div>\n",
       "<style scoped>\n",
       "    .dataframe tbody tr th:only-of-type {\n",
       "        vertical-align: middle;\n",
       "    }\n",
       "\n",
       "    .dataframe tbody tr th {\n",
       "        vertical-align: top;\n",
       "    }\n",
       "\n",
       "    .dataframe thead th {\n",
       "        text-align: right;\n",
       "    }\n",
       "</style>\n",
       "<table border=\"1\" class=\"dataframe\">\n",
       "  <thead>\n",
       "    <tr style=\"text-align: right;\">\n",
       "      <th></th>\n",
       "      <th>Gender</th>\n",
       "      <th>Age</th>\n",
       "      <th>EstimatedSalary</th>\n",
       "      <th>Purchased</th>\n",
       "    </tr>\n",
       "  </thead>\n",
       "  <tbody>\n",
       "    <tr>\n",
       "      <th>0</th>\n",
       "      <td>1</td>\n",
       "      <td>19</td>\n",
       "      <td>19000</td>\n",
       "      <td>0</td>\n",
       "    </tr>\n",
       "    <tr>\n",
       "      <th>1</th>\n",
       "      <td>1</td>\n",
       "      <td>35</td>\n",
       "      <td>20000</td>\n",
       "      <td>0</td>\n",
       "    </tr>\n",
       "    <tr>\n",
       "      <th>2</th>\n",
       "      <td>0</td>\n",
       "      <td>26</td>\n",
       "      <td>43000</td>\n",
       "      <td>0</td>\n",
       "    </tr>\n",
       "    <tr>\n",
       "      <th>3</th>\n",
       "      <td>0</td>\n",
       "      <td>27</td>\n",
       "      <td>57000</td>\n",
       "      <td>0</td>\n",
       "    </tr>\n",
       "    <tr>\n",
       "      <th>4</th>\n",
       "      <td>1</td>\n",
       "      <td>19</td>\n",
       "      <td>76000</td>\n",
       "      <td>0</td>\n",
       "    </tr>\n",
       "  </tbody>\n",
       "</table>\n",
       "</div>"
      ],
      "text/plain": [
       "   Gender  Age  EstimatedSalary  Purchased\n",
       "0       1   19            19000          0\n",
       "1       1   35            20000          0\n",
       "2       0   26            43000          0\n",
       "3       0   27            57000          0\n",
       "4       1   19            76000          0"
      ]
     },
     "execution_count": 67,
     "metadata": {},
     "output_type": "execute_result"
    }
   ],
   "source": [
    "# Using Sklearn Label encoder.\n",
    "df=pd.read_csv(\"G:/dataset/classification/online_shop.csv\")\n",
    "en=LabelEncoder()\n",
    "df.Gender=en.fit_transform(df.Gender)\n",
    "df.head(5)"
   ]
  },
  {
   "cell_type": "markdown",
   "id": "95099daa-64d1-4054-b543-8f826f564189",
   "metadata": {},
   "source": [
    "## Feature Encoding One Hot Encoding."
   ]
  },
  {
   "cell_type": "code",
   "execution_count": 70,
   "id": "4e3ebea4-73f5-42ab-b35b-501c35553f82",
   "metadata": {},
   "outputs": [
    {
     "data": {
      "text/html": [
       "<div>\n",
       "<style scoped>\n",
       "    .dataframe tbody tr th:only-of-type {\n",
       "        vertical-align: middle;\n",
       "    }\n",
       "\n",
       "    .dataframe tbody tr th {\n",
       "        vertical-align: top;\n",
       "    }\n",
       "\n",
       "    .dataframe thead th {\n",
       "        text-align: right;\n",
       "    }\n",
       "</style>\n",
       "<table border=\"1\" class=\"dataframe\">\n",
       "  <thead>\n",
       "    <tr style=\"text-align: right;\">\n",
       "      <th></th>\n",
       "      <th>Age</th>\n",
       "      <th>EstimatedSalary</th>\n",
       "      <th>Purchased</th>\n",
       "      <th>Female</th>\n",
       "      <th>Male</th>\n",
       "    </tr>\n",
       "  </thead>\n",
       "  <tbody>\n",
       "    <tr>\n",
       "      <th>0</th>\n",
       "      <td>19</td>\n",
       "      <td>19000</td>\n",
       "      <td>0</td>\n",
       "      <td>False</td>\n",
       "      <td>True</td>\n",
       "    </tr>\n",
       "    <tr>\n",
       "      <th>1</th>\n",
       "      <td>35</td>\n",
       "      <td>20000</td>\n",
       "      <td>0</td>\n",
       "      <td>False</td>\n",
       "      <td>True</td>\n",
       "    </tr>\n",
       "    <tr>\n",
       "      <th>2</th>\n",
       "      <td>26</td>\n",
       "      <td>43000</td>\n",
       "      <td>0</td>\n",
       "      <td>True</td>\n",
       "      <td>False</td>\n",
       "    </tr>\n",
       "    <tr>\n",
       "      <th>3</th>\n",
       "      <td>27</td>\n",
       "      <td>57000</td>\n",
       "      <td>0</td>\n",
       "      <td>True</td>\n",
       "      <td>False</td>\n",
       "    </tr>\n",
       "    <tr>\n",
       "      <th>4</th>\n",
       "      <td>19</td>\n",
       "      <td>76000</td>\n",
       "      <td>0</td>\n",
       "      <td>False</td>\n",
       "      <td>True</td>\n",
       "    </tr>\n",
       "    <tr>\n",
       "      <th>...</th>\n",
       "      <td>...</td>\n",
       "      <td>...</td>\n",
       "      <td>...</td>\n",
       "      <td>...</td>\n",
       "      <td>...</td>\n",
       "    </tr>\n",
       "    <tr>\n",
       "      <th>395</th>\n",
       "      <td>46</td>\n",
       "      <td>41000</td>\n",
       "      <td>1</td>\n",
       "      <td>True</td>\n",
       "      <td>False</td>\n",
       "    </tr>\n",
       "    <tr>\n",
       "      <th>396</th>\n",
       "      <td>51</td>\n",
       "      <td>23000</td>\n",
       "      <td>1</td>\n",
       "      <td>False</td>\n",
       "      <td>True</td>\n",
       "    </tr>\n",
       "    <tr>\n",
       "      <th>397</th>\n",
       "      <td>50</td>\n",
       "      <td>20000</td>\n",
       "      <td>1</td>\n",
       "      <td>True</td>\n",
       "      <td>False</td>\n",
       "    </tr>\n",
       "    <tr>\n",
       "      <th>398</th>\n",
       "      <td>36</td>\n",
       "      <td>33000</td>\n",
       "      <td>0</td>\n",
       "      <td>False</td>\n",
       "      <td>True</td>\n",
       "    </tr>\n",
       "    <tr>\n",
       "      <th>399</th>\n",
       "      <td>49</td>\n",
       "      <td>36000</td>\n",
       "      <td>1</td>\n",
       "      <td>True</td>\n",
       "      <td>False</td>\n",
       "    </tr>\n",
       "  </tbody>\n",
       "</table>\n",
       "<p>400 rows × 5 columns</p>\n",
       "</div>"
      ],
      "text/plain": [
       "     Age  EstimatedSalary  Purchased  Female   Male\n",
       "0     19            19000          0   False   True\n",
       "1     35            20000          0   False   True\n",
       "2     26            43000          0    True  False\n",
       "3     27            57000          0    True  False\n",
       "4     19            76000          0   False   True\n",
       "..   ...              ...        ...     ...    ...\n",
       "395   46            41000          1    True  False\n",
       "396   51            23000          1   False   True\n",
       "397   50            20000          1    True  False\n",
       "398   36            33000          0   False   True\n",
       "399   49            36000          1    True  False\n",
       "\n",
       "[400 rows x 5 columns]"
      ]
     },
     "execution_count": 70,
     "metadata": {},
     "output_type": "execute_result"
    }
   ],
   "source": [
    "# Using Pandas.\n",
    "df=pd.read_csv(\"G:/dataset/classification/online_shop.csv\")\n",
    "df1=(pd.get_dummies(df.Gender))\n",
    "X=pd.concat([df,df1],axis=1)\n",
    "X.drop(columns=[\"Gender\"],inplace=True)\n",
    "X"
   ]
  },
  {
   "cell_type": "code",
   "execution_count": 72,
   "id": "5a2f80a3-f9cd-4070-984d-4e0cedb8911a",
   "metadata": {},
   "outputs": [],
   "source": [
    "# Using Sklearn.\n",
    "df=pd.read_csv(\"G:/dataset/classification/online_shop.csv\")\n",
    "y=list(df.Purchased)\n",
    "df.drop(columns=['Purchased'],inplace=True)\n",
    "en=OneHotEncoder(sparse_output=False)\n",
    "x=en.fit_transform(df[['Gender']])\n",
    "df1=pd.DataFrame(x,columns=['Female','Male'])\n",
    "df2=pd.concat([df,df1],axis=1)\n",
    "df2.drop(columns='Gender',inplace=True)"
   ]
  },
  {
   "cell_type": "code",
   "execution_count": 74,
   "id": "11c853a9-096b-48a4-87f2-8d645c03694e",
   "metadata": {},
   "outputs": [
    {
     "data": {
      "text/plain": [
       "0.8725"
      ]
     },
     "execution_count": 74,
     "metadata": {},
     "output_type": "execute_result"
    }
   ],
   "source": [
    "X=df2.iloc[:,:].values\n",
    "model=KNeighborsClassifier()\n",
    "model.fit(X,y)\n",
    "accuracy_score(y,model.predict(X))"
   ]
  },
  {
   "cell_type": "code",
   "execution_count": 76,
   "id": "946961c8-7817-42b5-aa0e-8f068d70c41c",
   "metadata": {},
   "outputs": [
    {
     "data": {
      "text/plain": [
       "array([[242,  15],\n",
       "       [ 36, 107]], dtype=int64)"
      ]
     },
     "execution_count": 76,
     "metadata": {},
     "output_type": "execute_result"
    }
   ],
   "source": [
    "pred_train=model.predict(X)\n",
    "confusion_matrix(y,pred_train)"
   ]
  },
  {
   "cell_type": "code",
   "execution_count": 90,
   "id": "f2c2f69d-c635-4b0f-bedd-4987d1b7a30f",
   "metadata": {},
   "outputs": [
    {
     "name": "stdout",
     "output_type": "stream",
     "text": [
      "0.8705035971223022\n",
      "0.8770491803278688\n",
      "[0.8705036  0.87704918]\n"
     ]
    }
   ],
   "source": [
    "precision_score_0=242/(242+36)\n",
    "print(precision_score_0)\n",
    "precision_score_1=107/(107+15)\n",
    "print(precision_score_1)\n",
    "print(precision_score(y,pred_train,average=None))"
   ]
  },
  {
   "cell_type": "code",
   "execution_count": 80,
   "id": "fa4fc0a9-44e1-4ea8-ae33-ac103d3bfe4a",
   "metadata": {},
   "outputs": [
    {
     "name": "stdout",
     "output_type": "stream",
     "text": [
      "0.9416342412451362\n",
      "0.7482517482517482\n",
      "[0.94163424 0.74825175]\n"
     ]
    }
   ],
   "source": [
    "recall_score_0=242/(242+15)\n",
    "print(recall_score_0)\n",
    "recall_score_1=107/(107+36)\n",
    "print(recall_score_1)\n",
    "print(recall_score(y,pred_train,average=None))"
   ]
  },
  {
   "cell_type": "code",
   "execution_count": 82,
   "id": "1af6ce83-44d0-4a2e-8682-5851ac7b6088",
   "metadata": {},
   "outputs": [
    {
     "name": "stdout",
     "output_type": "stream",
     "text": [
      "0.9046728971962615\n",
      "0.8075471698113208\n",
      "[0.9046729  0.80754717]\n"
     ]
    }
   ],
   "source": [
    "f1_score_0=(2*recall_score_0*precision_score_0)/(recall_score_0+precision_score_0)\n",
    "f1_score_1=(2*recall_score_1*precision_score_1)/(recall_score_1+precision_score_1)\n",
    "print(f1_score_0)\n",
    "print(f1_score_1)\n",
    "print(f1_score(y,pred_train,average=None))"
   ]
  },
  {
   "cell_type": "code",
   "execution_count": 84,
   "id": "8b870b79-965d-4c29-abce-79faec5ae8d6",
   "metadata": {},
   "outputs": [
    {
     "name": "stdout",
     "output_type": "stream",
     "text": [
      "0.8725\n",
      "0.8725\n"
     ]
    }
   ],
   "source": [
    "acc_score=(242+107)/(242+107+36+15)\n",
    "print(acc_score)\n",
    "print(accuracy_score(y,pred_train))"
   ]
  },
  {
   "cell_type": "code",
   "execution_count": 88,
   "id": "098b62c6-8484-43b5-bad7-7ae749e93ab4",
   "metadata": {},
   "outputs": [
    {
     "name": "stdout",
     "output_type": "stream",
     "text": [
      "              precision    recall  f1-score   support\n",
      "\n",
      "           0       0.87      0.94      0.90       257\n",
      "           1       0.88      0.75      0.81       143\n",
      "\n",
      "    accuracy                           0.87       400\n",
      "   macro avg       0.87      0.84      0.86       400\n",
      "weighted avg       0.87      0.87      0.87       400\n",
      "\n"
     ]
    }
   ],
   "source": [
    "print(classification_report(y,pred_train))"
   ]
  },
  {
   "cell_type": "code",
   "execution_count": null,
   "id": "c479fb9b-6577-444a-86e5-35ea4bf6d19a",
   "metadata": {},
   "outputs": [],
   "source": []
  }
 ],
 "metadata": {
  "kernelspec": {
   "display_name": "Python 3 (ipykernel)",
   "language": "python",
   "name": "python3"
  },
  "language_info": {
   "codemirror_mode": {
    "name": "ipython",
    "version": 3
   },
   "file_extension": ".py",
   "mimetype": "text/x-python",
   "name": "python",
   "nbconvert_exporter": "python",
   "pygments_lexer": "ipython3",
   "version": "3.12.7"
  }
 },
 "nbformat": 4,
 "nbformat_minor": 5
}
