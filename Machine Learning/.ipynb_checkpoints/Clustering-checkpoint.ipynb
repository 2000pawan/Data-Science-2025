{
 "cells": [
  {
   "cell_type": "markdown",
   "id": "ebda75bb-8be7-429b-8fdf-db32bd49586e",
   "metadata": {},
   "source": [
    "### Unsupervised Learning--------> Unsupervised learning is a type of Machine Learning that works on unlabeled data without given target its main work to clusterized similar data .\n",
    "\n",
    "---> There are Two types of Unsupervised Learning.\n",
    "  1. Clustering\n",
    "  2. Association Rule"
   ]
  },
  {
   "cell_type": "markdown",
   "id": "a6e3859a-6a99-4e4b-a25e-bf75f72eda7d",
   "metadata": {},
   "source": [
    "### Clustering ---> Clustering is a technique where we clusetr similar data. There are many algorithm that used in clustering.\n",
    "  1. K-Means\n",
    "  2. Hierarchal Clustering\n",
    "  3. DBSCAN\n",
    "  4. Mean Shift etc...."
   ]
  },
  {
   "cell_type": "code",
   "execution_count": null,
   "id": "76563099-d1b4-42c5-a576-ac1b9840856e",
   "metadata": {},
   "outputs": [],
   "source": [
    "### K-Means Algorithm -------> K-means algorithm is used to do clustering on unlabeled dataset.\n",
    " . "
   ]
  },
  {
   "cell_type": "code",
   "execution_count": null,
   "id": "ff609aa9-ccba-4350-9b2c-6d2c478c327c",
   "metadata": {},
   "outputs": [],
   "source": []
  }
 ],
 "metadata": {
  "kernelspec": {
   "display_name": "Python 3 (ipykernel)",
   "language": "python",
   "name": "python3"
  },
  "language_info": {
   "codemirror_mode": {
    "name": "ipython",
    "version": 3
   },
   "file_extension": ".py",
   "mimetype": "text/x-python",
   "name": "python",
   "nbconvert_exporter": "python",
   "pygments_lexer": "ipython3",
   "version": "3.12.7"
  }
 },
 "nbformat": 4,
 "nbformat_minor": 5
}
