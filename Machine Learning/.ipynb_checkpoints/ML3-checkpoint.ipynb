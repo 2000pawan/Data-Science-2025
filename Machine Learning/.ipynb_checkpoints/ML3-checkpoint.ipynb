{
 "cells": [
  {
   "cell_type": "code",
   "execution_count": 26,
   "id": "314d4a09-3d68-4a27-bd2b-6f7385513b0e",
   "metadata": {},
   "outputs": [],
   "source": [
    "import pandas as pd\n",
    "from sklearn.neighbors import KNeighborsClassifier\n",
    "from sklearn.metrics import accuracy_score\n",
    "from sklearn.model_selection import train_test_split"
   ]
  },
  {
   "cell_type": "markdown",
   "id": "b2056e2e-4290-4ca6-a3fd-0bf786094cf2",
   "metadata": {},
   "source": [
    "### Model evaluation."
   ]
  },
  {
   "cell_type": "markdown",
   "id": "4bcfb37c-74ae-4e16-85b8-7d79f8e17a23",
   "metadata": {},
   "source": [
    "# Without model evaluation."
   ]
  },
  {
   "cell_type": "code",
   "execution_count": 30,
   "id": "0120827e-1663-4782-b0e1-90180ddd6934",
   "metadata": {},
   "outputs": [
    {
     "name": "stdout",
     "output_type": "stream",
     "text": [
      "Accuracy Score of Model:-  0.8636363636363636\n"
     ]
    }
   ],
   "source": [
    "df=pd.read_csv(\"G:/dataset/classification/fruits.csv\")\n",
    "X=df.iloc[:,:-1].values\n",
    "y=df.iloc[:,-1].values\n",
    "model=KNeighborsClassifier()\n",
    "model.fit(X,y)\n",
    "y_pred=model.predict(X)\n",
    "print(\"Accuracy Score of Model:- \",accuracy_score(y,y_pred))"
   ]
  },
  {
   "cell_type": "markdown",
   "id": "49145058-4692-4f51-8535-a66e0c4a78fe",
   "metadata": {},
   "source": [
    "# Model Evaluation. "
   ]
  },
  {
   "cell_type": "code",
   "execution_count": 41,
   "id": "5e0907d2-d32f-4f63-860c-89f3c5fce614",
   "metadata": {},
   "outputs": [
    {
     "name": "stdout",
     "output_type": "stream",
     "text": [
      "Accuracy Score of Training Data:-  0.7857142857142857\n",
      "Accuracy Score of Testing Data:-  1.0\n"
     ]
    }
   ],
   "source": [
    "df=pd.read_csv(\"G:/dataset/classification/fruits.csv\")\n",
    "X=df.iloc[:,:-1].values\n",
    "y=df.iloc[:,-1].values\n",
    "X_train,X_test,y_train,y_test=train_test_split(X,y,test_size=.33,random_state=1)\n",
    "model=KNeighborsClassifier()\n",
    "model.fit(X_train,y_train)\n",
    "train_pred=model.predict(X_train)\n",
    "test_pred=model.predict(X_test)\n",
    "print(\"Accuracy Score of Training Data:- \",accuracy_score(y_train,train_pred))\n",
    "print(\"Accuracy Score of Testing Data:- \",accuracy_score(y_test,test_pred))"
   ]
  },
  {
   "cell_type": "code",
   "execution_count": null,
   "id": "c559e657-7a54-48b6-81ec-256bb660c08a",
   "metadata": {},
   "outputs": [],
   "source": []
  }
 ],
 "metadata": {
  "kernelspec": {
   "display_name": "Python 3 (ipykernel)",
   "language": "python",
   "name": "python3"
  },
  "language_info": {
   "codemirror_mode": {
    "name": "ipython",
    "version": 3
   },
   "file_extension": ".py",
   "mimetype": "text/x-python",
   "name": "python",
   "nbconvert_exporter": "python",
   "pygments_lexer": "ipython3",
   "version": "3.12.7"
  }
 },
 "nbformat": 4,
 "nbformat_minor": 5
}
