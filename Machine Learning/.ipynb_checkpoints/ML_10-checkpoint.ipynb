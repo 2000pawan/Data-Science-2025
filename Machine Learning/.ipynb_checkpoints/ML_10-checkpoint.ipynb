{
 "cells": [
  {
   "cell_type": "markdown",
   "id": "efcb47cb-139f-4b13-b4c4-3d5aacb6bf72",
   "metadata": {},
   "source": [
    "##  F-1 Score"
   ]
  },
  {
   "cell_type": "markdown",
   "id": "0aa57c5b-1281-47fa-a268-a294c71f899e",
   "metadata": {},
   "source": [
    "## Model Train on Iris Dataset."
   ]
  },
  {
   "cell_type": "code",
   "execution_count": 30,
   "id": "b52e8b8d-5f54-466d-81c0-bb2f4ddbdb57",
   "metadata": {},
   "outputs": [],
   "source": [
    "from sklearn.neighbors import KNeighborsClassifier\n",
    "from sklearn.metrics import f1_score,accuracy_score,precision_score,recall_score,classification_report,confusion_matrix\n",
    "from sklearn.preprocessing import StandardScaler\n",
    "from sklearn.model_selection import train_test_split\n",
    "from sklearn.datasets import load_iris\n",
    "from sklearn.feature_selection import SelectKBest,f_classif"
   ]
  },
  {
   "cell_type": "code",
   "execution_count": 12,
   "id": "e04ce5cb-8299-4b4f-b7f2-7ed5529fde0e",
   "metadata": {},
   "outputs": [
    {
     "name": "stdout",
     "output_type": "stream",
     "text": [
      "Accuracy Score of Training:-  0.9553571428571429\n",
      "Accuracy Score of Testing:-  1.0\n"
     ]
    }
   ],
   "source": [
    "df=load_iris()\n",
    "X=df.data\n",
    "y=df.target\n",
    "X_train,X_test,y_train,y_test=train_test_split(X,y,random_state=1)\n",
    "model=KNeighborsClassifier()\n",
    "model.fit(X_train,y_train)\n",
    "print('Accuracy Score of Training:- ',model.score(X_train,y_train))\n",
    "print('Accuracy Score of Testing:- ',model.score(X_test,y_test))"
   ]
  },
  {
   "cell_type": "code",
   "execution_count": 14,
   "id": "ea1682f7-a993-4357-88e6-b13cd9f3b847",
   "metadata": {},
   "outputs": [
    {
     "data": {
      "text/plain": [
       "array([1])"
      ]
     },
     "execution_count": 14,
     "metadata": {},
     "output_type": "execute_result"
    }
   ],
   "source": [
    "model.predict([[4.6,1.3,3.9,.5]])"
   ]
  },
  {
   "cell_type": "code",
   "execution_count": 32,
   "id": "8216935b-1504-4bad-b422-bcfa54f2f126",
   "metadata": {},
   "outputs": [
    {
     "name": "stdout",
     "output_type": "stream",
     "text": [
      "Accuracy Score of Training:-  0.9553571428571429\n",
      "Accuracy Score of Testing:-  0.9736842105263158\n"
     ]
    }
   ],
   "source": [
    "df=load_iris()\n",
    "X=df.data\n",
    "y=df.target\n",
    "X_train,X_test,y_train,y_test=train_test_split(X,y,random_state=1)\n",
    "sc=StandardScaler()\n",
    "X_train_new=sc.fit_transform(X_train)\n",
    "X_test_new=sc.transform(X_test)\n",
    "model=KNeighborsClassifier()\n",
    "model.fit(X_train_new,y_train)\n",
    "pred_train=model.predict(X_train)\n",
    "print('Accuracy Score of Training:- ',model.score(X_train_new,y_train))\n",
    "print('Accuracy Score of Testing:- ',model.score(X_test_new,y_test))"
   ]
  },
  {
   "cell_type": "code",
   "execution_count": 17,
   "id": "53cbb5ed-24c2-4fbc-a3f0-805da8b95b94",
   "metadata": {},
   "outputs": [
    {
     "data": {
      "text/plain": [
       "array([[0. , 0.8, 0.2]])"
      ]
     },
     "execution_count": 17,
     "metadata": {},
     "output_type": "execute_result"
    }
   ],
   "source": [
    "model.predict_proba(sc.transform([[6.5,2.8,4.6,1.5]]))"
   ]
  },
  {
   "cell_type": "code",
   "execution_count": 19,
   "id": "a3317ea3-aa54-433e-bbff-61467cc6ff28",
   "metadata": {},
   "outputs": [
    {
     "data": {
      "text/plain": [
       "array([6.5, 2.8, 4.6, 1.5])"
      ]
     },
     "execution_count": 19,
     "metadata": {},
     "output_type": "execute_result"
    }
   ],
   "source": [
    "x=X_train[0]\n",
    "Y=y_train[0]\n",
    "x"
   ]
  },
  {
   "cell_type": "code",
   "execution_count": 22,
   "id": "67510c3c-babd-48a9-a8d0-6fe51573a43d",
   "metadata": {},
   "outputs": [
    {
     "data": {
      "text/plain": [
       "1"
      ]
     },
     "execution_count": 22,
     "metadata": {},
     "output_type": "execute_result"
    }
   ],
   "source": [
    "Y"
   ]
  },
  {
   "cell_type": "code",
   "execution_count": 23,
   "id": "e4f27042-ebbc-405f-b363-6dfa7a292365",
   "metadata": {},
   "outputs": [
    {
     "data": {
      "text/plain": [
       "array([1])"
      ]
     },
     "execution_count": 23,
     "metadata": {},
     "output_type": "execute_result"
    }
   ],
   "source": [
    "model.predict(sc.transform([[6.5,2.8,4.6,1.5]]))"
   ]
  },
  {
   "cell_type": "code",
   "execution_count": 25,
   "id": "56c82f13-8df3-480a-815a-c2150450f57e",
   "metadata": {},
   "outputs": [
    {
     "data": {
      "text/plain": [
       "array([1])"
      ]
     },
     "execution_count": 25,
     "metadata": {},
     "output_type": "execute_result"
    }
   ],
   "source": [
    "model.predict(sc.transform([[4.6,1.3,3.9,.5]]))"
   ]
  },
  {
   "cell_type": "code",
   "execution_count": 51,
   "id": "7208f774-ff25-42ad-ae59-9c7dac441844",
   "metadata": {},
   "outputs": [],
   "source": [
    "df=load_iris()\n",
    "X=df.data\n",
    "y=df.target\n",
    "X_train,X_test,y_train,y_test=train_test_split(X,y,random_state=1)\n",
    "model=KNeighborsClassifier()\n",
    "model.fit(X_train,y_train)\n",
    "pred_train=model.predict(X_train)\n",
    "pred_test=model.predict(X_test)"
   ]
  },
  {
   "cell_type": "code",
   "execution_count": 53,
   "id": "264eb0da-9eca-467f-b28f-9a1d44af5de0",
   "metadata": {},
   "outputs": [
    {
     "data": {
      "text/plain": [
       "array([[37,  0,  0],\n",
       "       [ 0, 31,  3],\n",
       "       [ 0,  2, 39]], dtype=int64)"
      ]
     },
     "execution_count": 53,
     "metadata": {},
     "output_type": "execute_result"
    }
   ],
   "source": [
    "confusion_matrix(y_train,pred_train)"
   ]
  },
  {
   "cell_type": "code",
   "execution_count": 55,
   "id": "64832017-b330-4191-9241-35e479573bf2",
   "metadata": {},
   "outputs": [
    {
     "name": "stdout",
     "output_type": "stream",
     "text": [
      "1.0 \n",
      " 0.9393939393939394 \n",
      " 0.9285714285714286\n",
      "[1.         0.93939394 0.92857143]\n",
      "1.0 \n",
      " 0.9117647058823529 \n",
      " 0.9512195121951219\n",
      "[1.         0.91176471 0.95121951]\n",
      "1.0 \n",
      " 0.9253731343283583 \n",
      " 0.9397590361445782\n",
      "[1.         0.92537313 0.93975904]\n",
      "0.9553571428571429\n"
     ]
    }
   ],
   "source": [
    "p1=37/37\n",
    "p2=31/33\n",
    "p3=39/42\n",
    "print(p1,'\\n',p2,'\\n',p3)\n",
    "print(precision_score(y_train,pred_train,average=None))\n",
    "r1=37/37\n",
    "r2=31/34\n",
    "r3=39/41\n",
    "print(r1,'\\n',r2,'\\n',r3)\n",
    "print(recall_score(y_train,pred_train,average=None))\n",
    "f1_1=(2*p1*r1)/(p1+r1)\n",
    "f1_2=(2*p2*r2)/(p2+r2)\n",
    "f1_3=(2*p3*r3)/(p3+r3)\n",
    "print(f1_1,'\\n',f1_2,'\\n',f1_3)\n",
    "print(f1_score(y_train,pred_train,average=None))\n",
    "acc_score=(37+31+39)/(37+34+41)\n",
    "print(accuracy_score(y_train,pred_train))"
   ]
  },
  {
   "cell_type": "code",
   "execution_count": 57,
   "id": "7ac76d93-14d8-4c1b-bf16-2ce5a550ff7c",
   "metadata": {},
   "outputs": [
    {
     "name": "stdout",
     "output_type": "stream",
     "text": [
      "              precision    recall  f1-score   support\n",
      "\n",
      "           0       1.00      1.00      1.00        37\n",
      "           1       0.94      0.91      0.93        34\n",
      "           2       0.93      0.95      0.94        41\n",
      "\n",
      "    accuracy                           0.96       112\n",
      "   macro avg       0.96      0.95      0.96       112\n",
      "weighted avg       0.96      0.96      0.96       112\n",
      "\n"
     ]
    }
   ],
   "source": [
    "print(classification_report(y_train,pred_train))"
   ]
  },
  {
   "cell_type": "code",
   "execution_count": 59,
   "id": "00ad0315-4d9a-49c9-b258-095988e68bed",
   "metadata": {},
   "outputs": [
    {
     "data": {
      "text/plain": [
       "array([[13,  0,  0],\n",
       "       [ 0, 16,  0],\n",
       "       [ 0,  0,  9]], dtype=int64)"
      ]
     },
     "execution_count": 59,
     "metadata": {},
     "output_type": "execute_result"
    }
   ],
   "source": [
    "confusion_matrix(y_test,pred_test)"
   ]
  },
  {
   "cell_type": "code",
   "execution_count": 65,
   "id": "c1b1ec54-9194-4622-8c5e-defaa751226e",
   "metadata": {},
   "outputs": [
    {
     "name": "stdout",
     "output_type": "stream",
     "text": [
      "1.0 \n",
      " 1.0 \n",
      " 1.0\n",
      "[1. 1. 1.]\n",
      "1.0 \n",
      " 1.0 \n",
      " 1.0\n",
      "[1. 1. 1.]\n",
      "1.0 \n",
      " 1.0 \n",
      " 1.0\n",
      "[1. 1. 1.]\n",
      "1.0\n"
     ]
    }
   ],
   "source": [
    "p1=13/13\n",
    "p2=16/16\n",
    "p3=9/9\n",
    "print(p1,'\\n',p2,'\\n',p3)\n",
    "print(precision_score(y_test,pred_test,average=None))\n",
    "r1=13/13\n",
    "r2=16/16\n",
    "r3=9/9\n",
    "print(r1,'\\n',r2,'\\n',r3)\n",
    "print(recall_score(y_test,pred_test,average=None))\n",
    "f1_1=(2*p1*r1)/(p1+r1)\n",
    "f1_2=(2*p2*r2)/(p2+r2)\n",
    "f1_3=(2*p3*r3)/(p3+r3)\n",
    "print(f1_1,'\\n',f1_2,'\\n',f1_3)\n",
    "print(f1_score(y_test,pred_test,average=None))\n",
    "acc_score=(13+16+9)/(13+16+9)\n",
    "print(accuracy_score(y_test,pred_test))"
   ]
  },
  {
   "cell_type": "code",
   "execution_count": 63,
   "id": "61e5ddca-5b2f-499f-850e-1d3bd3400578",
   "metadata": {},
   "outputs": [
    {
     "name": "stdout",
     "output_type": "stream",
     "text": [
      "              precision    recall  f1-score   support\n",
      "\n",
      "           0       1.00      1.00      1.00        13\n",
      "           1       1.00      1.00      1.00        16\n",
      "           2       1.00      1.00      1.00         9\n",
      "\n",
      "    accuracy                           1.00        38\n",
      "   macro avg       1.00      1.00      1.00        38\n",
      "weighted avg       1.00      1.00      1.00        38\n",
      "\n"
     ]
    }
   ],
   "source": [
    "print(classification_report(y_test,pred_test))"
   ]
  },
  {
   "cell_type": "code",
   "execution_count": null,
   "id": "d75538dd-f77d-4c81-a6d3-b9141cbc6a0e",
   "metadata": {},
   "outputs": [],
   "source": []
  }
 ],
 "metadata": {
  "kernelspec": {
   "display_name": "Python 3 (ipykernel)",
   "language": "python",
   "name": "python3"
  },
  "language_info": {
   "codemirror_mode": {
    "name": "ipython",
    "version": 3
   },
   "file_extension": ".py",
   "mimetype": "text/x-python",
   "name": "python",
   "nbconvert_exporter": "python",
   "pygments_lexer": "ipython3",
   "version": "3.12.7"
  }
 },
 "nbformat": 4,
 "nbformat_minor": 5
}
