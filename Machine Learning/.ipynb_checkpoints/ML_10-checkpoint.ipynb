{
 "cells": [
  {
   "cell_type": "markdown",
   "id": "efcb47cb-139f-4b13-b4c4-3d5aacb6bf72",
   "metadata": {},
   "source": [
    "##  F-1 Score"
   ]
  },
  {
   "cell_type": "markdown",
   "id": "0aa57c5b-1281-47fa-a268-a294c71f899e",
   "metadata": {},
   "source": [
    "## Model Train on Iris Dataset."
   ]
  },
  {
   "cell_type": "code",
   "execution_count": 9,
   "id": "b52e8b8d-5f54-466d-81c0-bb2f4ddbdb57",
   "metadata": {},
   "outputs": [],
   "source": [
    "from sklearn.neighbors import KNeighborsClassifier\n",
    "from sklearn.metrics import f1_score,accuracy_score\n",
    "from sklearn.preprocessing import StandardScaler\n",
    "from sklearn.model_selection import train_test_split\n",
    "from sklearn.datasets import load_iris\n",
    "from sklearn.feature_selection import SelectKBest,f_classif"
   ]
  },
  {
   "cell_type": "code",
   "execution_count": 21,
   "id": "e04ce5cb-8299-4b4f-b7f2-7ed5529fde0e",
   "metadata": {},
   "outputs": [
    {
     "name": "stdout",
     "output_type": "stream",
     "text": [
      "Accuracy Score of Training:-  0.9553571428571429\n",
      "Accuracy Score of Testing:-  1.0\n"
     ]
    }
   ],
   "source": [
    "df=load_iris()\n",
    "X=df.data\n",
    "y=df.target\n",
    "X_train,X_test,y_train,y_test=train_test_split(X,y,random_state=1)\n",
    "model=KNeighborsClassifier()\n",
    "model.fit(X_train,y_train)\n",
    "print('Accuracy Score of Training:- ',model.score(X_train,y_train))\n",
    "print('Accuracy Score of Testing:- ',model.score(X_test,y_test))"
   ]
  },
  {
   "cell_type": "code",
   "execution_count": 48,
   "id": "ea1682f7-a993-4357-88e6-b13cd9f3b847",
   "metadata": {},
   "outputs": [
    {
     "data": {
      "text/plain": [
       "array([2])"
      ]
     },
     "execution_count": 48,
     "metadata": {},
     "output_type": "execute_result"
    }
   ],
   "source": [
    "model.predict([[4.6,1.3,3.9,.5]])"
   ]
  },
  {
   "cell_type": "code",
   "execution_count": 23,
   "id": "8216935b-1504-4bad-b422-bcfa54f2f126",
   "metadata": {},
   "outputs": [
    {
     "name": "stdout",
     "output_type": "stream",
     "text": [
      "Accuracy Score of Training:-  0.9553571428571429\n",
      "Accuracy Score of Testing:-  0.9736842105263158\n"
     ]
    }
   ],
   "source": [
    "df=load_iris()\n",
    "X=df.data\n",
    "y=df.target\n",
    "X_train,X_test,y_train,y_test=train_test_split(X,y,random_state=1)\n",
    "sc=StandardScaler()\n",
    "X_train_new=sc.fit_transform(X_train)\n",
    "X_test_new=sc.transform(X_test)\n",
    "model=KNeighborsClassifier()\n",
    "model.fit(X_train_new,y_train)\n",
    "print('Accuracy Score of Training:- ',model.score(X_train_new,y_train))\n",
    "print('Accuracy Score of Testing:- ',model.score(X_test_new,y_test))"
   ]
  },
  {
   "cell_type": "code",
   "execution_count": 39,
   "id": "53cbb5ed-24c2-4fbc-a3f0-805da8b95b94",
   "metadata": {},
   "outputs": [
    {
     "data": {
      "text/plain": [
       "array([[0. , 0.8, 0.2]])"
      ]
     },
     "execution_count": 39,
     "metadata": {},
     "output_type": "execute_result"
    }
   ],
   "source": [
    "model.predict_proba(sc.transform([[6.5,2.8,4.6,1.5]]))"
   ]
  },
  {
   "cell_type": "code",
   "execution_count": 33,
   "id": "a3317ea3-aa54-433e-bbff-61467cc6ff28",
   "metadata": {},
   "outputs": [
    {
     "data": {
      "text/plain": [
       "array([6.5, 2.8, 4.6, 1.5])"
      ]
     },
     "execution_count": 33,
     "metadata": {},
     "output_type": "execute_result"
    }
   ],
   "source": [
    "x=X_train[0]\n",
    "Y=y_train[0]\n",
    "x"
   ]
  },
  {
   "cell_type": "code",
   "execution_count": 37,
   "id": "67510c3c-babd-48a9-a8d0-6fe51573a43d",
   "metadata": {},
   "outputs": [
    {
     "data": {
      "text/plain": [
       "1"
      ]
     },
     "execution_count": 37,
     "metadata": {},
     "output_type": "execute_result"
    }
   ],
   "source": [
    "Y"
   ]
  },
  {
   "cell_type": "code",
   "execution_count": 41,
   "id": "e4f27042-ebbc-405f-b363-6dfa7a292365",
   "metadata": {},
   "outputs": [
    {
     "data": {
      "text/plain": [
       "array([1])"
      ]
     },
     "execution_count": 41,
     "metadata": {},
     "output_type": "execute_result"
    }
   ],
   "source": [
    "model.predict(sc.transform([[6.5,2.8,4.6,1.5]]))"
   ]
  },
  {
   "cell_type": "code",
   "execution_count": 46,
   "id": "56c82f13-8df3-480a-815a-c2150450f57e",
   "metadata": {},
   "outputs": [
    {
     "data": {
      "text/plain": [
       "array([1])"
      ]
     },
     "execution_count": 46,
     "metadata": {},
     "output_type": "execute_result"
    }
   ],
   "source": [
    "model.predict(sc.transform([[4.6,1.3,3.9,.5]]))"
   ]
  },
  {
   "cell_type": "code",
   "execution_count": null,
   "id": "264eb0da-9eca-467f-b28f-9a1d44af5de0",
   "metadata": {},
   "outputs": [],
   "source": []
  },
  {
   "cell_type": "code",
   "execution_count": null,
   "id": "2ce49c40-371a-4440-a9c3-e024f3cbf2aa",
   "metadata": {},
   "outputs": [],
   "source": []
  }
 ],
 "metadata": {
  "kernelspec": {
   "display_name": "Python 3 (ipykernel)",
   "language": "python",
   "name": "python3"
  },
  "language_info": {
   "codemirror_mode": {
    "name": "ipython",
    "version": 3
   },
   "file_extension": ".py",
   "mimetype": "text/x-python",
   "name": "python",
   "nbconvert_exporter": "python",
   "pygments_lexer": "ipython3",
   "version": "3.12.7"
  }
 },
 "nbformat": 4,
 "nbformat_minor": 5
}
