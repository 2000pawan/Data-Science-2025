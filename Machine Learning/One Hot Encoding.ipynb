{
 "cells": [
  {
   "cell_type": "markdown",
   "id": "43d28bd0-4469-4355-abba-724c8b988270",
   "metadata": {},
   "source": [
    "# One Hot Encoding"
   ]
  },
  {
   "cell_type": "markdown",
   "id": "2618b77c-41b3-47a3-bb17-92f17f5430fc",
   "metadata": {},
   "source": [
    "# Dummy Variables Method"
   ]
  },
  {
   "cell_type": "markdown",
   "id": "c5c1527a-8020-43ec-899d-185a64713fef",
   "metadata": {},
   "source": [
    "# Home Prices Data"
   ]
  },
  {
   "cell_type": "code",
   "execution_count": null,
   "id": "78a65b66-c07d-4413-8443-8f909118c732",
   "metadata": {
    "tags": []
   },
   "outputs": [],
   "source": [
    "import pandas as pd\n",
    "df=pd.read_csv('G:/dataset/MLbookdataset/ML/Ml/21. One hot encoding/homeprices.csv')\n",
    "df"
   ]
  },
  {
   "cell_type": "code",
   "execution_count": null,
   "id": "4413f645-3fc4-452a-8427-539886ed0891",
   "metadata": {
    "tags": []
   },
   "outputs": [],
   "source": [
    "dummies=pd.get_dummies(df.town)\n",
    "dummies"
   ]
  },
  {
   "cell_type": "code",
   "execution_count": null,
   "id": "460de886-b2d1-4d17-a755-552e9badfaf3",
   "metadata": {
    "tags": []
   },
   "outputs": [],
   "source": [
    "dummies=dummies.drop(['west windsor'],axis='columns')\n",
    "dummies"
   ]
  },
  {
   "cell_type": "code",
   "execution_count": null,
   "id": "512bc2dc-2e58-4251-92ff-64cf7931b2c7",
   "metadata": {
    "tags": []
   },
   "outputs": [],
   "source": [
    "merged=pd.concat([df,dummies],axis='columns')\n",
    "merged"
   ]
  },
  {
   "cell_type": "code",
   "execution_count": null,
   "id": "ac3c6410-958f-4539-b42c-50b3905d1a83",
   "metadata": {
    "tags": []
   },
   "outputs": [],
   "source": [
    "final=merged.drop(['town'],axis='columns')\n",
    "final"
   ]
  },
  {
   "cell_type": "markdown",
   "id": "f3939748-1cb1-4803-a72a-e9d5323ba1bd",
   "metadata": {},
   "source": [
    "# Sklearn Method 1. Label Encoder, 2. One Hot Encoder"
   ]
  },
  {
   "cell_type": "code",
   "execution_count": null,
   "id": "536e7cdc-618c-4d8c-b969-f85034f22668",
   "metadata": {
    "tags": []
   },
   "outputs": [],
   "source": [
    "from sklearn.preprocessing import LabelEncoder,OneHotEncoder\n",
    "import pandas as pd\n",
    "df=pd.read_csv('G:/dataset/MLbookdataset/ML/Ml/21. One hot encoding/homeprices.csv')\n",
    "df"
   ]
  },
  {
   "cell_type": "code",
   "execution_count": null,
   "id": "12470a91-943c-4330-859c-79155e4ba3d6",
   "metadata": {
    "tags": []
   },
   "outputs": [],
   "source": [
    "lc=LabelEncoder()\n",
    "df.town=lc.fit_transform(df.town)\n",
    "df"
   ]
  },
  {
   "cell_type": "code",
   "execution_count": null,
   "id": "88f6498a-fa2a-4895-a3a6-ed107fb49b0d",
   "metadata": {
    "tags": []
   },
   "outputs": [],
   "source": [
    "x=df[['town','area']]\n",
    "x"
   ]
  },
  {
   "cell_type": "code",
   "execution_count": null,
   "id": "96910bdd-a5f5-4f0a-8f18-4066244a6238",
   "metadata": {
    "tags": []
   },
   "outputs": [],
   "source": [
    "df=pd.read_csv('G:/dataset/MLbookdataset/ML/Ml/21. One hot encoding/homeprices.csv')\n",
    "df"
   ]
  },
  {
   "cell_type": "code",
   "execution_count": null,
   "id": "f60d1610-a680-4323-b81d-88d03bacbb34",
   "metadata": {
    "tags": []
   },
   "outputs": [],
   "source": [
    "oc=OneHotEncoder(handle_unknown='ignore')\n",
    "x1=oc.fit_transform(df[['town']])\n",
    "x1=pd.DataFrame(x1.toarray())\n",
    "x1"
   ]
  },
  {
   "cell_type": "code",
   "execution_count": null,
   "id": "50d3d256-005d-4cb7-b8ff-230814a230e4",
   "metadata": {
    "tags": []
   },
   "outputs": [],
   "source": [
    "x1=x1.iloc[:,1:]\n",
    "x1"
   ]
  },
  {
   "cell_type": "code",
   "execution_count": null,
   "id": "73823111-3770-4236-a19e-811e5bd09a46",
   "metadata": {
    "tags": []
   },
   "outputs": [],
   "source": [
    "x=pd.concat([x,x1],axis='columns')\n",
    "x"
   ]
  },
  {
   "cell_type": "code",
   "execution_count": null,
   "id": "981eceee-85a1-46f8-9203-01a9d0b2556e",
   "metadata": {
    "tags": []
   },
   "outputs": [],
   "source": [
    "x.drop('town',axis=1,inplace=True)\n",
    "x"
   ]
  },
  {
   "cell_type": "markdown",
   "id": "4a6e63de-8685-4002-8ccc-75df3451a9d1",
   "metadata": {},
   "source": [
    "# Cars Data"
   ]
  },
  {
   "cell_type": "code",
   "execution_count": null,
   "id": "43a6dc73-3465-460a-bee8-b24e49edbeba",
   "metadata": {
    "tags": []
   },
   "outputs": [],
   "source": [
    "from sklearn.preprocessing import LabelEncoder,OneHotEncoder\n",
    "import pandas as pd\n",
    "import matplotlib.pyplot as plt\n",
    "import seaborn as sns\n",
    "df=pd.read_csv('G:/dataset/MLbookdataset/ML/Ml/21. One hot encoding/carprices.csv')\n",
    "df"
   ]
  },
  {
   "cell_type": "code",
   "execution_count": null,
   "id": "e50c2ad9-8ae8-419b-86bb-2a6d8fabb458",
   "metadata": {
    "tags": []
   },
   "outputs": [],
   "source": [
    "sns.regplot(data=df,x='Mileage',y='Sell Price($)')\n",
    "plt.show()"
   ]
  },
  {
   "cell_type": "code",
   "execution_count": null,
   "id": "7c9dc6dd-70a7-43e7-b9b8-c5773f2dd876",
   "metadata": {
    "tags": []
   },
   "outputs": [],
   "source": [
    "sns.regplot(data=df,x='Age(yrs)',y='Sell Price($)')\n",
    "plt.show()"
   ]
  },
  {
   "cell_type": "code",
   "execution_count": null,
   "id": "277bda51-07d3-470d-9d0f-b8102bb55e66",
   "metadata": {
    "tags": []
   },
   "outputs": [],
   "source": [
    "lc=LabelEncoder()\n",
    "df['Car Model']=lc.fit_transform(df['Car Model'])\n",
    "df"
   ]
  },
  {
   "cell_type": "code",
   "execution_count": null,
   "id": "0fba1e80-2195-4e57-802c-02372a65fd77",
   "metadata": {
    "tags": []
   },
   "outputs": [],
   "source": [
    "x=df[['Car Model','Mileage','Age(yrs)']]\n",
    "x"
   ]
  },
  {
   "cell_type": "code",
   "execution_count": null,
   "id": "0228bc89-23ec-4333-8231-16cc39bd0d43",
   "metadata": {
    "tags": []
   },
   "outputs": [],
   "source": [
    "oc=OneHotEncoder(handle_unknown='ignore')\n",
    "x1=oc.fit_transform(df[['Car Model']])\n",
    "x1=pd.DataFrame(x1.toarray())\n",
    "x1"
   ]
  },
  {
   "cell_type": "code",
   "execution_count": null,
   "id": "177ae5a9-8e57-4098-9a12-a46f523f38e7",
   "metadata": {
    "tags": []
   },
   "outputs": [],
   "source": [
    "x1=x1.iloc[:,1:]\n",
    "x1"
   ]
  },
  {
   "cell_type": "code",
   "execution_count": null,
   "id": "6886cc69-95c9-44a3-a822-28fac2718453",
   "metadata": {
    "tags": []
   },
   "outputs": [],
   "source": [
    "x=pd.concat([x,x1],axis='columns')\n",
    "x"
   ]
  },
  {
   "cell_type": "code",
   "execution_count": null,
   "id": "3632e97c-cfcd-45b3-aa86-98100f6bf690",
   "metadata": {
    "tags": []
   },
   "outputs": [],
   "source": [
    "x.drop('Car Model',axis=1,inplace=True)\n",
    "x"
   ]
  },
  {
   "cell_type": "code",
   "execution_count": null,
   "id": "56e5d8d0-f587-4e7b-a7b1-dd4c3076d635",
   "metadata": {},
   "outputs": [],
   "source": []
  }
 ],
 "metadata": {
  "kernelspec": {
   "display_name": "Python 3 (ipykernel)",
   "language": "python",
   "name": "python3"
  },
  "language_info": {
   "codemirror_mode": {
    "name": "ipython",
    "version": 3
   },
   "file_extension": ".py",
   "mimetype": "text/x-python",
   "name": "python",
   "nbconvert_exporter": "python",
   "pygments_lexer": "ipython3",
   "version": "3.11.7"
  },
  "widgets": {
   "application/vnd.jupyter.widget-state+json": {
    "state": {},
    "version_major": 2,
    "version_minor": 0
   }
  }
 },
 "nbformat": 4,
 "nbformat_minor": 5
}
