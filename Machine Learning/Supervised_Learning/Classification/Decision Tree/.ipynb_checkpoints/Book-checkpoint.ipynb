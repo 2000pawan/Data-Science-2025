{
 "cells": [
  {
   "cell_type": "markdown",
   "id": "dc9ae01f-949d-4e23-a003-94d35f8b87bd",
   "metadata": {},
   "source": [
    "# Decision Tree"
   ]
  },
  {
   "cell_type": "markdown",
   "id": "b62ba4ad-8e39-42c9-b533-1d476a890f30",
   "metadata": {},
   "source": [
    "# Cricket data"
   ]
  },
  {
   "cell_type": "code",
   "execution_count": null,
   "id": "99bdffe3-6a38-4dea-b9f7-df28f3640f3c",
   "metadata": {
    "tags": []
   },
   "outputs": [],
   "source": [
    "import pandas as pd\n",
    "from sklearn.tree import DecisionTreeClassifier,plot_tree\n",
    "from sklearn.model_selection import train_test_split\n",
    "import matplotlib.pyplot as plt\n",
    "from sklearn.preprocessing import LabelEncoder"
   ]
  },
  {
   "cell_type": "code",
   "execution_count": null,
   "id": "651969ea-312a-4521-9a3e-64e3db9c805e",
   "metadata": {
    "tags": []
   },
   "outputs": [],
   "source": [
    "df=pd.read_csv('G:/dataset/MLbookdataset/ML/Ml/30. Decision tree/cricket1.csv')\n",
    "lc=LabelEncoder()\n",
    "df['Outlook']=lc.fit_transform(df['Outlook'])\n",
    "df['Temperature']=lc.fit_transform(df['Temperature'])\n",
    "df['Humidity']=lc.fit_transform(df['Humidity'])\n",
    "df['Windy']=lc.fit_transform(df['Windy'])\n",
    "df['Play Cricket']=lc.fit_transform(df['Play Cricket'])\n",
    "X=df.iloc[:,:-1].values\n",
    "y=df.iloc[:,-1].values\n",
    "model=DecisionTreeClassifier(max_depth=3,random_state=10)\n",
    "model.fit(X,y)\n",
    "print('Accuracy SCore of Model is:- ',model.score(X,y))\n",
    "plt.figure(figsize=(8,6))\n",
    "plot_tree(model,fontsize=10,feature_names=['OL','TP','HY','WN'],rounded=True,filled=True)\n",
    "plt.show()"
   ]
  },
  {
   "cell_type": "code",
   "execution_count": null,
   "id": "69a51f5a-fff4-49e6-88c0-c9a5bc043a7f",
   "metadata": {
    "tags": []
   },
   "outputs": [],
   "source": [
    "# Outlook:- Sunny:2, Overcast:0, Rainy:1, Temperature:- Hot:1, Mild:2, Cool:0, Humidity:- Normal:1, High:0, Windy:- False:0, True:1, Play Cricket:- Yes:1, No:0\n",
    "today=[[1,1,1,1],[0,0,0,0]]\n",
    "pred=model.predict(today)\n",
    "for i in pred:\n",
    "    if i==0:\n",
    "        print('Weather Condition is not for Playing Cricket.Sorry 😔😔😔😔😔')\n",
    "    else:\n",
    "        print('Weather Condition is Good for Playing Cricket.Enjoy 😅😅😅😅😅')"
   ]
  },
  {
   "cell_type": "code",
   "execution_count": null,
   "id": "d929ff8a-bc44-4f80-8e7c-7d66ba293698",
   "metadata": {},
   "outputs": [],
   "source": []
  },
  {
   "cell_type": "markdown",
   "id": "0d51d0ef-1a82-43c1-bd43-9ff41797b46e",
   "metadata": {},
   "source": [
    "# Salaries data"
   ]
  },
  {
   "cell_type": "code",
   "execution_count": null,
   "id": "e35125db-d460-43a7-9534-989364f83d85",
   "metadata": {
    "tags": []
   },
   "outputs": [],
   "source": [
    "import pandas as pd\n",
    "from sklearn.tree import DecisionTreeClassifier,plot_tree\n",
    "from sklearn.model_selection import train_test_split\n",
    "import matplotlib.pyplot as plt\n",
    "from sklearn.preprocessing import LabelEncoder"
   ]
  },
  {
   "cell_type": "code",
   "execution_count": null,
   "id": "813f8271-fbd7-4c92-811d-816f217c2f91",
   "metadata": {
    "tags": []
   },
   "outputs": [],
   "source": [
    "df=pd.read_csv('G:/dataset/MLbookdataset/ML/Ml/30. Decision tree/salaries.csv')\n",
    "lc=LabelEncoder()\n",
    "df['company']=lc.fit_transform(df['company'])\n",
    "df['job']=lc.fit_transform(df['job'])\n",
    "df['degree']=lc.fit_transform(df['degree'])\n",
    "X=df.iloc[:,:-1].values\n",
    "y=df.iloc[:,-1].values\n",
    "model=DecisionTreeClassifier(max_depth=4,random_state=10)\n",
    "model.fit(X,y)\n",
    "print('Accuracy Score of Model is:- ',model.score(X,y))\n",
    "plt.figure(figsize=(8,6))\n",
    "plot_tree(model,fontsize=10,feature_names=['OL','TP','HY','WN'],rounded=True,filled=True)\n",
    "plt.show()"
   ]
  },
  {
   "cell_type": "code",
   "execution_count": null,
   "id": "57ac7ee2-5866-4d70-b570-26e02d6c7f76",
   "metadata": {
    "tags": []
   },
   "outputs": [],
   "source": [
    "# company:- jpmorgan:1, aamazon:0, microsoft:2, job:- pm:1, programmer:0, sales:2, degree:- bacheloors:0, master:1, 100k more salary:- yes:1, no:0\n",
    "emp=[[1,1,0],[2,0,0],[2,2,0]]\n",
    "pred=model.predict(emp)\n",
    "for i in pred:\n",
    "    if i==0:\n",
    "        print('Salary is less than 100k dollars.Sorry 😔😔😔😔😔')\n",
    "    else:\n",
    "        print('Salary is more than 100k dollars.Enjoy 😅😅😅😅😅')"
   ]
  },
  {
   "cell_type": "code",
   "execution_count": null,
   "id": "5837e30c-7d62-47eb-8a83-dfb04c64ca1c",
   "metadata": {},
   "outputs": [],
   "source": []
  }
 ],
 "metadata": {
  "kernelspec": {
   "display_name": "Python 3 (ipykernel)",
   "language": "python",
   "name": "python3"
  },
  "language_info": {
   "codemirror_mode": {
    "name": "ipython",
    "version": 3
   },
   "file_extension": ".py",
   "mimetype": "text/x-python",
   "name": "python",
   "nbconvert_exporter": "python",
   "pygments_lexer": "ipython3",
   "version": "3.11.7"
  },
  "widgets": {
   "application/vnd.jupyter.widget-state+json": {
    "state": {},
    "version_major": 2,
    "version_minor": 0
   }
  }
 },
 "nbformat": 4,
 "nbformat_minor": 5
}
