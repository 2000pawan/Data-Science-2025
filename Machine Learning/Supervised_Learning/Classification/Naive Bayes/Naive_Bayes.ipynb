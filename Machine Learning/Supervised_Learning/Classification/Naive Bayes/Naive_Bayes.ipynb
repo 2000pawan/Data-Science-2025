{
 "cells": [
  {
   "cell_type": "code",
   "execution_count": 1,
   "id": "952c7f57-9682-4032-9907-16f41b5735f6",
   "metadata": {
    "tags": []
   },
   "outputs": [],
   "source": [
    "from sklearn.naive_bayes import GaussianNB, MultinomialNB, BernoulliNB"
   ]
  },
  {
   "cell_type": "code",
   "execution_count": 2,
   "id": "706ffe69-c111-47f6-8ae7-f4beed287977",
   "metadata": {
    "tags": []
   },
   "outputs": [],
   "source": [
    "model=GaussianNB()\n",
    "model=MultinomialNB()\n",
    "model=BernoulliNB()"
   ]
  },
  {
   "cell_type": "code",
   "execution_count": 3,
   "id": "2a2fe585-768d-4927-a5b1-4b1333519538",
   "metadata": {
    "tags": []
   },
   "outputs": [],
   "source": [
    "from sklearn.feature_extraction.text import TfidfVectorizer,CountVectorizer,ENGLISH_STOP_WORDS"
   ]
  },
  {
   "cell_type": "code",
   "execution_count": null,
   "id": "9956a843-44de-4774-85cd-6f7f82050c26",
   "metadata": {},
   "outputs": [],
   "source": [
    "tf=TfidfVectorizer()\n",
    "cv=CountVectorizer()"
   ]
  }
 ],
 "metadata": {
  "kernelspec": {
   "display_name": "Python 3 (ipykernel)",
   "language": "python",
   "name": "python3"
  },
  "language_info": {
   "codemirror_mode": {
    "name": "ipython",
    "version": 3
   },
   "file_extension": ".py",
   "mimetype": "text/x-python",
   "name": "python",
   "nbconvert_exporter": "python",
   "pygments_lexer": "ipython3",
   "version": "3.11.3"
  }
 },
 "nbformat": 4,
 "nbformat_minor": 5
}
