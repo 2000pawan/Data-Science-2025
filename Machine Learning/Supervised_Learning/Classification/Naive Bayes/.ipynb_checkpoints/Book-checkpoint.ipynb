{
 "cells": [
  {
   "cell_type": "markdown",
   "id": "7c54c3f8-e83b-4d77-8f63-0538fabd32b9",
   "metadata": {
    "tags": []
   },
   "source": [
    "# Naive Bayes"
   ]
  },
  {
   "cell_type": "markdown",
   "id": "682b9003-8efb-49d7-945f-e05fad5848e3",
   "metadata": {},
   "source": [
    "# Cricket Data"
   ]
  },
  {
   "cell_type": "code",
   "execution_count": 1,
   "id": "4509c29d-7d33-4fcd-be4f-056838f93bac",
   "metadata": {
    "tags": []
   },
   "outputs": [],
   "source": [
    "import pandas as pd\n",
    "from sklearn.naive_bayes import GaussianNB\n",
    "from sklearn.model_selection import train_test_split\n",
    "from sklearn.metrics import accuracy_score"
   ]
  },
  {
   "cell_type": "code",
   "execution_count": 2,
   "id": "114e1fcf-4d3b-4dbe-9a8b-c5570b180a43",
   "metadata": {
    "tags": []
   },
   "outputs": [
    {
     "name": "stdout",
     "output_type": "stream",
     "text": [
      "Accuracy Score of Train Model is:-  0.7777777777777778\n",
      "Accuracy Score of Test Model is:-  0.8\n"
     ]
    }
   ],
   "source": [
    "df=pd.read_csv('G:/dataset/MLbookdataset/ML/Ml/28. Naive Bayes/cricket.csv')\n",
    "#Convert data into numeric.\n",
    "def outlook_to_numeric(x):\n",
    "    if x=='Rainy':\n",
    "        return 0\n",
    "    elif x=='Overcast':\n",
    "        return 1\n",
    "    elif x=='Sunny':\n",
    "        return 2\n",
    "def temp_to_numeric(x):\n",
    "    if x=='Hot':\n",
    "        return 0\n",
    "    elif x=='Mild':\n",
    "        return 1\n",
    "    elif x=='Cool':\n",
    "        return 2\n",
    "def humidity_to_numeric(x):\n",
    "    if x=='High':\n",
    "        return 0\n",
    "    elif x=='Normal':\n",
    "        return 1\n",
    "def windy_to_numeric(x):\n",
    "    if x==False:\n",
    "        return 0\n",
    "    elif x==True:\n",
    "        return 1\n",
    "def target_to_numeric(x):\n",
    "    if x=='No':\n",
    "        return 0\n",
    "    elif x=='Yes':\n",
    "        return 1\n",
    "df['OUTLOOK']=df['OUTLOOK'].apply(outlook_to_numeric)\n",
    "df['TEMPERATURE']=df['TEMPERATURE'].apply(temp_to_numeric)\n",
    "df['HUMIDITY']=df['HUMIDITY'].apply(humidity_to_numeric)\n",
    "df['WINDY']=df['WINDY'].apply(windy_to_numeric)\n",
    "df['PLAY CRICKET']=df['PLAY CRICKET'].apply(target_to_numeric)\n",
    "X=df.iloc[:,:-1].values\n",
    "y=df.iloc[:,-1].values\n",
    "X_train,X_test,y_train,y_test=train_test_split(X,y,random_state=10,test_size=0.3)\n",
    "model=GaussianNB()\n",
    "model.fit(X_train,y_train)\n",
    "pred=model.predict(X_train)\n",
    "pred1=model.predict(X_test)\n",
    "print('Accuracy Score of Train Model is:- ',accuracy_score(y_train,pred))\n",
    "print('Accuracy Score of Test Model is:- ',accuracy_score(y_test,pred1))"
   ]
  },
  {
   "cell_type": "code",
   "execution_count": 3,
   "id": "6d9ab430-b0dc-4582-8213-5c9268e56fb8",
   "metadata": {
    "tags": []
   },
   "outputs": [
    {
     "name": "stdout",
     "output_type": "stream",
     "text": [
      "Weather Condition is Good for Playing Cricket.Enjoy 😅😅😅😅😅\n",
      "Weather Condition is not for Playing Cricket.Sorry 😔😔😔😔😔\n"
     ]
    }
   ],
   "source": [
    "# Outlook:- Sunny:2, Overcast:0, Rainy:1, Temperature:- Hot:1, Mild:2, Cool:0, Humidity:- Normal:1, High:0, Windy:- False:0, True:1, Play Cricket:- Yes:1, No:0\n",
    "today=[[2,2,1,0],[2,1,0,1]]\n",
    "pred=model.predict(today)\n",
    "for i in pred:\n",
    "    if i==0:\n",
    "        print('Weather Condition is not for Playing Cricket.Sorry 😔😔😔😔😔')\n",
    "    else:\n",
    "        print('Weather Condition is Good for Playing Cricket.Enjoy 😅😅😅😅😅')"
   ]
  },
  {
   "cell_type": "code",
   "execution_count": null,
   "id": "f047cfaa-1060-4678-95f4-fee3f0d7bd2d",
   "metadata": {},
   "outputs": [],
   "source": []
  },
  {
   "cell_type": "markdown",
   "id": "91bb5040-c673-4698-b269-ed568b14f03e",
   "metadata": {},
   "source": [
    "# Spam SMS data"
   ]
  },
  {
   "cell_type": "code",
   "execution_count": 4,
   "id": "dedfd0e4-8761-4fb9-a578-84069f368dd6",
   "metadata": {
    "tags": []
   },
   "outputs": [],
   "source": [
    "import pandas as pd\n",
    "from sklearn.feature_extraction.text import CountVectorizer\n",
    "from sklearn.model_selection import train_test_split\n",
    "from sklearn.naive_bayes import MultinomialNB"
   ]
  },
  {
   "cell_type": "code",
   "execution_count": 5,
   "id": "deeae910-d76a-41a4-80c7-01f7c1808e8d",
   "metadata": {
    "tags": []
   },
   "outputs": [
    {
     "name": "stdout",
     "output_type": "stream",
     "text": [
      "747\n",
      "4825\n",
      "Accuracy Score of Train Model is:-  0.9923715503702042\n",
      "Accuracy Score of Test Model is:-  0.9901345291479821\n"
     ]
    }
   ],
   "source": [
    "df=pd.read_csv('G:/dataset/MLbookdataset/ML/Ml/28. Naive Bayes/smsspamcollection/SMSSpamCollection',sep='\\t',names=['Status','Message'])\n",
    "print(len(df[df.Status=='spam']))\n",
    "print(len(df[df.Status=='ham']))\n",
    "df['Status']=df['Status'].map({'ham':1,'spam':0})\n",
    "X=df['Message']\n",
    "y=df['Status']\n",
    "y=y.astype('int')\n",
    "X_train,X_test,y_train,y_test=train_test_split(X,y,random_state=1,test_size=0.2)\n",
    "cv=CountVectorizer()\n",
    "X_train_cv=cv.fit_transform(X_train)\n",
    "X_test_cv=cv.transform(X_test)\n",
    "model=MultinomialNB()\n",
    "model.fit(X_train_cv,y_train)\n",
    "print('Accuracy Score of Train Model is:- ',model.score(X_train_cv,y_train))\n",
    "print('Accuracy Score of Test Model is:- ',model.score(X_test_cv,y_test))"
   ]
  },
  {
   "cell_type": "code",
   "execution_count": 6,
   "id": "485f40b0-6d79-493f-8f0c-031aa3c4a2f3",
   "metadata": {
    "tags": []
   },
   "outputs": [
    {
     "name": "stdout",
     "output_type": "stream",
     "text": [
      "[array([0]), array([1]), array([0]), array([1])]\n",
      "It's a Spam SMS don't replay or open link.Sorry 😔😔😔😔😔\n",
      "it's not a Spam SMS.Enjoy 😅😅😅😅😅\n",
      "It's a Spam SMS don't replay or open link.Sorry 😔😔😔😔😔\n",
      "it's not a Spam SMS.Enjoy 😅😅😅😅😅\n"
     ]
    }
   ],
   "source": [
    "eg=['Free viagra now']\n",
    "eg1=['Hi, can we play golf tomorrow']\n",
    "# message=[(X_test_cv[0]),(X_test_cv[11]),(cv.transform(eg))]\n",
    "pred=[model.predict(X_test_cv[16]),model.predict(X_test_cv[11]),model.predict(cv.transform(eg)),model.predict(cv.transform(eg1))]\n",
    "print(pred)\n",
    "for i in pred:\n",
    "    if i==0:\n",
    "        print(\"It's a Spam SMS don't replay or open link.Sorry 😔😔😔😔😔\")\n",
    "    else:\n",
    "        print(\"it's not a Spam SMS.Enjoy 😅😅😅😅😅\")"
   ]
  },
  {
   "cell_type": "code",
   "execution_count": 7,
   "id": "d3ac6fe1-9482-4cc4-9652-f12967242ef0",
   "metadata": {
    "tags": []
   },
   "outputs": [
    {
     "data": {
      "text/plain": [
       "1078                         Yep, by the pretty sculpture\n",
       "4028        Yes, princess. Are you going to make me moan?\n",
       "958                            Welp apparently he retired\n",
       "4642                                              Havent.\n",
       "4674    I forgot 2 ask ü all smth.. There's a card on ...\n",
       "                              ...                        \n",
       "324     That would be great. We'll be at the Guild. Co...\n",
       "1163    Free entry in 2 a wkly comp to win FA Cup fina...\n",
       "86      For real when u getting on yo? I only need 2 m...\n",
       "4214                     I attended but nothing is there.\n",
       "90      Yeah do! Don‘t stand to close tho- you‘ll catc...\n",
       "Name: Message, Length: 1115, dtype: object"
      ]
     },
     "execution_count": 7,
     "metadata": {},
     "output_type": "execute_result"
    }
   ],
   "source": [
    "X_test"
   ]
  },
  {
   "cell_type": "code",
   "execution_count": null,
   "id": "85893459-2d58-4254-a23a-b6b26b134500",
   "metadata": {},
   "outputs": [],
   "source": []
  },
  {
   "cell_type": "markdown",
   "id": "abb3534a-ce87-46d4-84f8-56162c58f4aa",
   "metadata": {},
   "source": [
    "# News Group Data"
   ]
  },
  {
   "cell_type": "code",
   "execution_count": 68,
   "id": "bbb960ec-b238-485c-ba68-7c3b89209dea",
   "metadata": {
    "tags": []
   },
   "outputs": [],
   "source": [
    "from sklearn.datasets import fetch_20newsgroups\n",
    "from sklearn.naive_bayes import MultinomialNB\n",
    "from sklearn.feature_extraction.text import CountVectorizer\n",
    "from sklearn.model_selection import train_test_split\n",
    "import pandas as pd"
   ]
  },
  {
   "cell_type": "code",
   "execution_count": 96,
   "id": "78d24c07-943f-4e9c-968b-64176fb8f28c",
   "metadata": {
    "tags": []
   },
   "outputs": [
    {
     "name": "stdout",
     "output_type": "stream",
     "text": [
      "['alt.atheism', 'comp.graphics', 'comp.os.ms-windows.misc', 'comp.sys.ibm.pc.hardware', 'comp.sys.mac.hardware', 'comp.windows.x', 'misc.forsale', 'rec.autos', 'rec.motorcycles', 'rec.sport.baseball', 'rec.sport.hockey', 'sci.crypt', 'sci.electronics', 'sci.med', 'sci.space', 'soc.religion.christian', 'talk.politics.guns', 'talk.politics.mideast', 'talk.politics.misc', 'talk.religion.misc']\n",
      "<class 'sklearn.utils._bunch.Bunch'>\n",
      "<class 'sklearn.utils._bunch.Bunch'>\n",
      "From: dfo@vttoulu.tko.vtt.fi (Foxvog Douglas)\n",
      "Subject: Re: Rewording the Second Amendment (ideas)\n",
      "Organization: VTT\n",
      "Lines: 58\n",
      "\n",
      "In article <1r1eu1$4t@transfer.stratus.com> cdt@sw.stratus.com (C. D. Tavares) writes:\n",
      ">In article <1993Apr20.083057.16899@ousrvr.oulu.fi>, dfo@vttoulu.tko.vtt.fi (Foxvog Douglas) writes:\n",
      ">> In article <1qv87v$4j3@transfer.stratus.com> cdt@sw.stratus.com (C. D. Tavares) writes:\n",
      ">> >In article <C5n3GI.F8F@ulowell.ulowell.edu>, jrutledg@cs.ulowell.edu (John Lawrence Rutledge) writes:\n",
      ">\n",
      ">> >> The massive destructive power of many modern weapons, makes the\n",
      ">> >> cost of an accidental or crimial usage of these weapons to great.\n",
      ">> >> The weapons of mass destruction need to be in the control of\n",
      ">> >> the government only.  Individual access would result in the\n",
      ">> >> needless deaths of millions.  This makes the right of the people\n",
      ">> >> to keep and bear many modern weapons non-existant.\n",
      "\n",
      ">> >Thanks for stating where you're coming from.  Needless to say, I\n",
      ">> >disagree on every count.\n",
      "\n",
      ">> You believe that individuals should have the right to own weapons of\n",
      ">> mass destruction?  I find it hard to believe that you would support a \n",
      ">> neighbor's right to keep nuclear weapons, biological weapons, and nerve\n",
      ">> gas on his/her property.  \n",
      "\n",
      ">> If we cannot even agree on keeping weapons of mass destruction out of\n",
      ">> the hands of individuals, can there be any hope for us?\n",
      "\n",
      ">I don't sign any blank checks.\n",
      "\n",
      "Of course.  The term must be rigidly defined in any bill.\n",
      "\n",
      ">When Doug Foxvog says \"weapons of mass destruction,\" he means CBW and\n",
      ">nukes.  When Sarah Brady says \"weapons of mass destruction\" she means\n",
      ">Street Sweeper shotguns and semi-automatic SKS rifles.  \n",
      "\n",
      "I doubt she uses this term for that.  You are using a quote allegedly\n",
      "from her, can you back it up?\n",
      "\n",
      ">When John\n",
      ">Lawrence Rutledge says \"weapons of mass destruction,\" and then immediately\n",
      ">follows it with:\n",
      "\n",
      ">>> The US has thousands of people killed each year by handguns,\n",
      ">>> this number can easily be reduced by putting reasonable restrictions\n",
      ">>> on them.\n",
      "\n",
      ">...what does Rutledge mean by the term?\n",
      "\n",
      "I read the article as presenting first an argument about weapons of mass\n",
      "destruction (as commonly understood) and then switching to other topics.\n",
      "The first point evidently was to show that not all weapons should be\n",
      "allowed, and then the later analysis was, given this understanding, to\n",
      "consider another class.\n",
      "\n",
      ">cdt@rocket.sw.stratus.com   --If you believe that I speak for my company,\n",
      ">OR cdt@vos.stratus.com        write today for my special Investors' Packet...\n",
      "\n",
      "\n",
      "\n",
      "-- \n",
      "doug foxvog\n",
      "douglas.foxvog@vtt.fi\n",
      "\n",
      "16\n",
      "Accuracy Score of Train Model is:-  0.9245182959165635\n",
      "Accuracy Score of Test Model is:-  0.7728359001593202\n"
     ]
    }
   ],
   "source": [
    "df=fetch_20newsgroups()\n",
    "print(df.target_names)\n",
    "X_train=fetch_20newsgroups(subset='train')\n",
    "X_test=fetch_20newsgroups(subset='test')\n",
    "print(type(X_train))\n",
    "print(type(X_test))\n",
    "print(X_train.data[5])\n",
    "print(X_train.target[5])\n",
    "cv=CountVectorizer()\n",
    "X_train_cv=cv.fit_transform(X_train.data)\n",
    "X_test_cv=cv.transform(X_test.data)\n",
    "model=MultinomialNB()\n",
    "model.fit(X_train_cv,X_train.target)\n",
    "print('Accuracy Score of Train Model is:- ',model.score(X_train_cv,X_train.target))\n",
    "print('Accuracy Score of Test Model is:- ',model.score(X_test_cv,X_test.target))"
   ]
  },
  {
   "cell_type": "code",
   "execution_count": 92,
   "id": "7cd1ecab-8930-4b49-bdd2-97e938352db2",
   "metadata": {
    "tags": []
   },
   "outputs": [
    {
     "name": "stdout",
     "output_type": "stream",
     "text": [
      "[15  8 14  5 10 13  4 16]\n",
      "News related to this :-  soc.religion.christian\n",
      "News related to this :-  rec.motorcycles\n",
      "News related to this :-  sci.space\n",
      "News related to this :-  comp.windows.x\n",
      "News related to this :-  rec.sport.hockey\n",
      "News related to this :-  sci.med\n",
      "News related to this :-  comp.sys.mac.hardware\n",
      "News related to this :-  talk.politics.guns\n"
     ]
    }
   ],
   "source": [
    "message=['jesus christ','apply brake at the right of your bike','how to send a satellite into the space','I am using window 11 right now','Dhoni playing good','Artificial iintelligence  is future','monitor','weapon']\n",
    "mess=cv.transform(message)\n",
    "pred=model.predict(mess)\n",
    "print(pred)\n",
    "target=df.target_names\n",
    "for i in pred:\n",
    "    print('News related to this :- ',target[i])"
   ]
  },
  {
   "cell_type": "code",
   "execution_count": 102,
   "id": "7ea51411-a342-4d98-bb44-e18eac2cd1a6",
   "metadata": {
    "tags": []
   },
   "outputs": [
    {
     "name": "stdout",
     "output_type": "stream",
     "text": [
      "Accuracy Score of Train Model is:-  0.9245182959165635\n",
      "News related to this :-  soc.religion.christian\n",
      "News related to this :-  rec.motorcycles\n",
      "News related to this :-  sci.space\n",
      "News related to this :-  comp.windows.x\n",
      "News related to this :-  rec.sport.hockey\n",
      "News related to this :-  sci.med\n",
      "News related to this :-  comp.sys.mac.hardware\n",
      "News related to this :-  talk.politics.guns\n"
     ]
    }
   ],
   "source": [
    "import pandas as pd\n",
    "from sklearn.feature_extraction.text import CountVectorizer\n",
    "from sklearn.naive_bayes import MultinomialNB\n",
    "df5=pd.read_csv('G:/dataset/news.csv')\n",
    "X=df5['data']\n",
    "y=df5.iloc[:,-1]\n",
    "cv=CountVectorizer()\n",
    "X_train_cv=cv.fit_transform(X)\n",
    "model=MultinomialNB()\n",
    "model.fit(X_train_cv,y)\n",
    "print('Accuracy Score of Train Model is:- ',model.score(X_train_cv,y))\n",
    "message=['jesus christ','apply brake at the right of your bike','how to send a satellite into the space','I am using window 11 right now','Dhoni playing good','Artificial iintelligence  is future','monitor','weapon']\n",
    "mess=cv.transform(message)\n",
    "pred=model.predict(mess)\n",
    "for i in pred:\n",
    "    print('News related to this :- ',i)"
   ]
  },
  {
   "cell_type": "code",
   "execution_count": null,
   "id": "24ace9c6-65ae-4a1c-a42a-560a1c746922",
   "metadata": {},
   "outputs": [],
   "source": []
  }
 ],
 "metadata": {
  "kernelspec": {
   "display_name": "Python 3 (ipykernel)",
   "language": "python",
   "name": "python3"
  },
  "language_info": {
   "codemirror_mode": {
    "name": "ipython",
    "version": 3
   },
   "file_extension": ".py",
   "mimetype": "text/x-python",
   "name": "python",
   "nbconvert_exporter": "python",
   "pygments_lexer": "ipython3",
   "version": "3.11.3"
  }
 },
 "nbformat": 4,
 "nbformat_minor": 5
}
