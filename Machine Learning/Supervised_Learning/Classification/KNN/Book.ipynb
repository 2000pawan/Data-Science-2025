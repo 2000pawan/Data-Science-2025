{
 "cells": [
  {
   "cell_type": "markdown",
   "id": "217e1966-0a40-41f1-b458-5baa3420a5ca",
   "metadata": {},
   "source": [
    "# K-Nearest Neighbors "
   ]
  },
  {
   "cell_type": "markdown",
   "id": "06460633-785c-42ca-865d-dd96057efc64",
   "metadata": {},
   "source": [
    "# Breast Cancer"
   ]
  },
  {
   "cell_type": "code",
   "execution_count": null,
   "id": "ca988bba-c4f1-46e9-ba85-9b0417b19c4b",
   "metadata": {
    "tags": []
   },
   "outputs": [],
   "source": [
    "import pandas as pd\n",
    "import matplotlib.pyplot as plt\n",
    "from sklearn.neighbors import KNeighborsClassifier\n",
    "from sklearn.model_selection import train_test_split\n",
    "import math\n",
    "from sklearn.metrics import accuracy_score"
   ]
  },
  {
   "cell_type": "code",
   "execution_count": null,
   "id": "add78aa4-c9f4-4fce-8a6b-30fa7bb26bf9",
   "metadata": {
    "tags": []
   },
   "outputs": [],
   "source": [
    "df=pd.read_csv('G:/dataset/MLbookdataset/ML/Ml/29. KNN/breast-cancer-wisconsin.csv')\n",
    "df.drop(columns=['id'],axis=1,inplace=True)\n",
    "df.columns=df.columns.str.replace(' ','')\n",
    "df=df[df['bare_nulei'] != '?']\n",
    "X=df.iloc[:,:-1].values\n",
    "y=df.iloc[:,-1].values\n",
    "X_train,X_test,y_train,y_test=train_test_split(X,y,test_size=0.2,random_state=0)\n",
    "k=int(math.sqrt(len(y_test)))\n",
    "if k%2==0:\n",
    "    k=(k+1)\n",
    "model=KNeighborsClassifier(n_neighbors=k)\n",
    "model.fit(X_train,y_train)\n",
    "print('Accuracy Score on Train data:- ',model.score(X_train,y_train))\n",
    "print('Accuracy Score on Test data:-  ',model.score(X_test,y_test))\n",
    "score=[]\n",
    "for i in range(1,16):\n",
    "    model=KNeighborsClassifier(n_neighbors=i)\n",
    "    model.fit(X_train,y_train)\n",
    "    accuracy=model.score(X_test,y_test)\n",
    "    score.append(accuracy)\n",
    "    print('K:- %d,  Accuracy:- %.2f%%'%(i,accuracy*100))\n",
    "plt.plot(range(1,16),score)\n",
    "plt.xlabel('Value of K',color='blue')\n",
    "plt.ylabel('Accuracy Score',color='red')\n",
    "plt.show()"
   ]
  },
  {
   "cell_type": "code",
   "execution_count": null,
   "id": "98571c2b-8610-4bb0-bb93-0ad040d1bf86",
   "metadata": {
    "tags": []
   },
   "outputs": [],
   "source": [
    "model=KNeighborsClassifier(n_neighbors=3)\n",
    "model.fit(X_train,y_train)\n",
    "print('Accuracy Score on Train data:- ',model.score(X_train,y_train))\n",
    "print('Accuracy Score on Test data:-  ',model.score(X_test,y_test))"
   ]
  },
  {
   "cell_type": "code",
   "execution_count": null,
   "id": "127d12dd-ea19-4077-b93f-6515ef80b185",
   "metadata": {
    "tags": []
   },
   "outputs": [],
   "source": [
    "newdata=[[4,2,1,1,1,2,3,2,1],[8,10,10,8,7,10,9,7,1]]"
   ]
  },
  {
   "cell_type": "code",
   "execution_count": null,
   "id": "5fc18be5-fc52-47b6-a37b-8255cfc40d67",
   "metadata": {
    "tags": []
   },
   "outputs": [],
   "source": [
    "prediction=model.predict(newdata)\n",
    "for i in prediction:\n",
    "    if i==2:\n",
    "        print('It is starting stage of Cancer. Cure it🙌🏼')\n",
    "    else:\n",
    "        print('It is dangerous.Go to Hospital for Checkup.🥺🥺')"
   ]
  },
  {
   "cell_type": "code",
   "execution_count": null,
   "id": "48938532-df27-4204-80bc-9e9912d30170",
   "metadata": {},
   "outputs": [],
   "source": []
  },
  {
   "cell_type": "markdown",
   "id": "d434f730-575f-4c2f-8962-c8fb7f502fcc",
   "metadata": {},
   "source": [
    "# Diabetes "
   ]
  },
  {
   "cell_type": "code",
   "execution_count": null,
   "id": "ea8189f2-e14f-45c8-ae34-dd99553d569f",
   "metadata": {
    "tags": []
   },
   "outputs": [],
   "source": [
    "import pandas as pd\n",
    "import matplotlib.pyplot as plt\n",
    "from sklearn.neighbors import KNeighborsClassifier\n",
    "from sklearn.model_selection import train_test_split\n",
    "import math\n",
    "from sklearn.metrics import accuracy_score\n",
    "import numpy as np"
   ]
  },
  {
   "cell_type": "code",
   "execution_count": null,
   "id": "5ffacbda-33d4-4bc5-adf5-8856c8cc973d",
   "metadata": {
    "tags": []
   },
   "outputs": [],
   "source": [
    "df=pd.read_csv('G:/dataset/MLbookdataset/ML/Ml/29. KNN/diabetes.csv')\n",
    "zero_values = (df == 0).any()\n",
    "print(\"Zero values in each column:\")\n",
    "print(zero_values)\n",
    "col_list=['Glucose','BloodPressure','SkinThickness','BMI','Insulin']\n",
    "for i in col_list:\n",
    "    df[i]=df[i].replace(0,np.NaN)\n",
    "    mean=int(df[i].mean(skipna=True))\n",
    "    df[i]=df[i].replace(np.NaN,mean)\n",
    "X=df.iloc[:,:-1].values\n",
    "y=df.iloc[:,-1].values\n",
    "X_train,X_test,y_train,y_test=train_test_split(X,y,test_size=0.2,random_state=0)\n",
    "k=int(math.sqrt(len(y_test)))\n",
    "if k%2==0:\n",
    "    k=(k+1)\n",
    "model=KNeighborsClassifier(n_neighbors=k)\n",
    "model.fit(X_train,y_train)\n",
    "print('Accuracy Score on Train data:- ',model.score(X_train,y_train))\n",
    "print('Accuracy Score on Test data:-  ',model.score(X_test,y_test))\n",
    "score=[]\n",
    "for i in range(1,20):\n",
    "    model=KNeighborsClassifier(n_neighbors=i)\n",
    "    model.fit(X_train,y_train)\n",
    "    accuracy=model.score(X_test,y_test)\n",
    "    score.append(accuracy)\n",
    "    print('K:- %d,  Accuracy:- %.2f%%'%(i,accuracy*100))\n",
    "plt.plot(range(1,20),score)\n",
    "plt.xlabel('Value of K',color='blue')\n",
    "plt.ylabel('Accuracy Score',color='red')\n",
    "plt.show()"
   ]
  },
  {
   "cell_type": "code",
   "execution_count": null,
   "id": "7c9c7292-0d11-4009-ac83-03801e03a204",
   "metadata": {
    "tags": []
   },
   "outputs": [],
   "source": [
    "model=KNeighborsClassifier(n_neighbors=14)\n",
    "model.fit(X_train,y_train)\n",
    "print('Accuracy Score on Train data:- ',model.score(X_train,y_train))\n",
    "print('Accuracy Score on Test data:-  ',model.score(X_test,y_test))"
   ]
  },
  {
   "cell_type": "code",
   "execution_count": null,
   "id": "50bd2783-0993-4569-9e76-54d60f7d0761",
   "metadata": {
    "tags": []
   },
   "outputs": [],
   "source": [
    "newdata=[[1,189,60,23,846,30.1,0.398,59],[3,126,88,41,235,39.3,0.704,27]]"
   ]
  },
  {
   "cell_type": "code",
   "execution_count": null,
   "id": "7629e65e-1215-4f53-ba42-62b069c0c8ba",
   "metadata": {
    "tags": []
   },
   "outputs": [],
   "source": [
    "prediction=model.predict(newdata)\n",
    "for i in prediction:\n",
    "    if i==0:\n",
    "        print('You do not suffering from Diabetic.Keep Healthy.🙌🙌🙌🙌')\n",
    "    else:\n",
    "        print('You suffering from Diabetic Consult With Doctor.Well Wishes 🥺🥺🥺🥺')"
   ]
  },
  {
   "cell_type": "code",
   "execution_count": null,
   "id": "9078e239-62e2-45df-998a-ac8a672647a3",
   "metadata": {},
   "outputs": [],
   "source": []
  }
 ],
 "metadata": {
  "kernelspec": {
   "display_name": "Python 3 (ipykernel)",
   "language": "python",
   "name": "python3"
  },
  "language_info": {
   "codemirror_mode": {
    "name": "ipython",
    "version": 3
   },
   "file_extension": ".py",
   "mimetype": "text/x-python",
   "name": "python",
   "nbconvert_exporter": "python",
   "pygments_lexer": "ipython3",
   "version": "3.11.7"
  },
  "widgets": {
   "application/vnd.jupyter.widget-state+json": {
    "state": {},
    "version_major": 2,
    "version_minor": 0
   }
  }
 },
 "nbformat": 4,
 "nbformat_minor": 5
}
