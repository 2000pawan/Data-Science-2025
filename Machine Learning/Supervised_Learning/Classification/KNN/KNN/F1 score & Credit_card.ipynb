{
 "cells": [
  {
   "cell_type": "markdown",
   "id": "afda772d-7d34-4607-ae3e-c5771c0f8655",
   "metadata": {},
   "source": [
    "### Credit Card Fraud Detection"
   ]
  },
  {
   "cell_type": "code",
   "execution_count": null,
   "id": "02235ac1-7e01-4abe-8fb9-5bd4b2a3d35e",
   "metadata": {
    "tags": []
   },
   "outputs": [],
   "source": [
    "import pandas as pd"
   ]
  },
  {
   "cell_type": "code",
   "execution_count": null,
   "id": "6bc103dd-7e4d-48b9-90a4-4c4f36566f00",
   "metadata": {
    "tags": []
   },
   "outputs": [],
   "source": [
    "df=pd.read_excel('G:/dataset/classification/creditcard_copy.xlsx')\n",
    "df.describe()"
   ]
  },
  {
   "cell_type": "code",
   "execution_count": null,
   "id": "6a4688a9-1fd5-49dc-ac21-91f57bce22a2",
   "metadata": {
    "tags": []
   },
   "outputs": [],
   "source": [
    "df.Class.value_counts()"
   ]
  },
  {
   "cell_type": "code",
   "execution_count": null,
   "id": "3de82b50-1d15-4a2d-b1b2-1da25d6f7092",
   "metadata": {
    "tags": []
   },
   "outputs": [],
   "source": [
    "X=df.iloc[:,1:-2].values\n",
    "y=df.iloc[:,-1].values"
   ]
  },
  {
   "cell_type": "code",
   "execution_count": null,
   "id": "c4e83b2c-e83a-4d5e-83ba-7e7e0380f26d",
   "metadata": {
    "tags": []
   },
   "outputs": [],
   "source": [
    "from sklearn.neighbors import KNeighborsClassifier\n",
    "from sklearn.preprocessing import MinMaxScaler,StandardScaler\n",
    "from sklearn.model_selection import train_test_split\n",
    "from sklearn.metrics import accuracy_score\n",
    "from sklearn.model_selection import cross_val_score"
   ]
  },
  {
   "cell_type": "code",
   "execution_count": null,
   "id": "dab78590-36dd-4a71-b746-afeaec413dbc",
   "metadata": {
    "tags": []
   },
   "outputs": [],
   "source": [
    "#Without feature_scaling\n",
    "X_train,X_test,y_train,y_test=train_test_split(X,y,random_state=1)\n",
    "model=KNeighborsClassifier()\n",
    "model.fit(X_train,y_train)\n",
    "pred=model.predict(X_train)\n",
    "pred1=model.predict(X_test)\n",
    "print(accuracy_score(y_train,pred))\n",
    "print(accuracy_score(y_test,pred1))"
   ]
  },
  {
   "cell_type": "code",
   "execution_count": null,
   "id": "3c435948-a393-4472-b08e-b46f811e5b14",
   "metadata": {
    "tags": []
   },
   "outputs": [],
   "source": [
    "model=KNeighborsClassifier()\n",
    "cross_val_score(model,X,y,cv=5).mean()"
   ]
  },
  {
   "cell_type": "markdown",
   "id": "4c5d0381-103d-48d3-bd22-fb63557e9bce",
   "metadata": {},
   "source": [
    "### F1 Score\n",
    "- accuracy score----> overall performance of model by considering all classes. and it is use to balnce data like target value is equally distributed.\n",
    "- f1 score-------> performance of model with imbalance data like target value not give equally distributed in data for eg. target have 2 option to predict and that is class 0 and class 1 and model to predict one of them.and its contribute like class 0 have 4500 sample out of 5000 and class 1 have only 500 then we use F1 Score."
   ]
  },
  {
   "cell_type": "code",
   "execution_count": null,
   "id": "2b6e0081-9b5e-44d6-a223-5bdaab15316a",
   "metadata": {
    "tags": []
   },
   "outputs": [],
   "source": [
    "from sklearn.metrics import f1_score"
   ]
  },
  {
   "cell_type": "code",
   "execution_count": null,
   "id": "6b5a2575-f96a-469c-b3c1-c4f01bd6a448",
   "metadata": {
    "tags": []
   },
   "outputs": [],
   "source": [
    "X=df.iloc[:,1:-2].values\n",
    "y=df.iloc[:,-1].values\n",
    "X_train,X_test,y_train,y_test=train_test_split(X,y,random_state=1)\n",
    "model=KNeighborsClassifier()\n",
    "model.fit(X_train,y_train)\n",
    "pred_train=model.predict(X_train)\n",
    "pred_test=model.predict(X_test)\n",
    "print('Train F1 Score:-',f1_score(y_train,pred_train))\n",
    "print('Test F1 Score:-',f1_score(y_test,pred_test))"
   ]
  },
  {
   "cell_type": "code",
   "execution_count": null,
   "id": "f2a5858a-1bd2-4cf8-8a08-1ded36012af2",
   "metadata": {
    "tags": []
   },
   "outputs": [],
   "source": [
    "X=df.iloc[:,1:-2].values\n",
    "y=df.iloc[:,-1].values\n",
    "X_train,X_test,y_train,y_test=train_test_split(X,y,random_state=1)\n",
    "sc=StandardScaler()\n",
    "X_train_new=sc.fit_transform(X_train)\n",
    "X_test_new=sc.transform(X_test)\n",
    "model=KNeighborsClassifier()\n",
    "model.fit(X_train_new,y_train)\n",
    "pred_train=model.predict(X_train_new)\n",
    "pred_test=model.predict(X_test_new)\n",
    "print('Train F1 Score:-',f1_score(y_train,pred_train))\n",
    "print('Test F1 Score:-',f1_score(y_test,pred_test))"
   ]
  },
  {
   "cell_type": "code",
   "execution_count": null,
   "id": "94eb6802-cf19-479b-ae9a-166c5a94cbed",
   "metadata": {
    "tags": []
   },
   "outputs": [],
   "source": [
    "print('Train F1 Score:-',f1_score(y_train,pred_train,average=None))\n",
    "print('Test F1 Score:-',f1_score(y_test,pred_test,average=None))"
   ]
  },
  {
   "cell_type": "markdown",
   "id": "4e84d356-f938-4281-98b5-e65091c61cc8",
   "metadata": {},
   "source": [
    "### Using SMOTE used for creating oversampling or dummy data for less sample \n",
    "- Import pip install imblearn"
   ]
  },
  {
   "cell_type": "code",
   "execution_count": null,
   "id": "25fcb76d-656d-49ff-8103-825c3d5d3a27",
   "metadata": {
    "tags": []
   },
   "outputs": [],
   "source": [
    "#pip install imblearn"
   ]
  },
  {
   "cell_type": "code",
   "execution_count": null,
   "id": "6a4edb4c-096a-4f85-b7b1-8d325bd27895",
   "metadata": {
    "tags": []
   },
   "outputs": [],
   "source": [
    "from imblearn.over_sampling import SMOTE"
   ]
  },
  {
   "cell_type": "code",
   "execution_count": null,
   "id": "d558dac1-1e17-4a02-9249-0803abccc7d3",
   "metadata": {
    "tags": []
   },
   "outputs": [],
   "source": [
    "X=df.iloc[:,1:-2].values\n",
    "y=df.iloc[:,-1].values\n",
    "sm=SMOTE()\n",
    "X1,y1=sm.fit_resample(X,y)"
   ]
  },
  {
   "cell_type": "code",
   "execution_count": null,
   "id": "12f58918-8715-466e-94f4-d0f8be234374",
   "metadata": {
    "tags": []
   },
   "outputs": [],
   "source": [
    "X_train,X_test,y_train,y_test=train_test_split(X1,y1,random_state=1)\n",
    "sc=StandardScaler()\n",
    "X_train_new=sc.fit_transform(X_train)\n",
    "X_test_new=sc.transform(X_test)\n",
    "model=KNeighborsClassifier()\n",
    "model.fit(X_train_new,y_train)\n",
    "pred_train=model.predict(X_train_new)\n",
    "pred_test=model.predict(X_test_new)\n",
    "print('Train F1 Score:-',f1_score(y_train,pred_train))\n",
    "print('Test F1 Score:-',f1_score(y_test,pred_test))\n",
    "print('Train F1 Score:-',f1_score(y_train,pred_train,average=None))\n",
    "print('Test F1 Score:-',f1_score(y_test,pred_test,average=None))"
   ]
  },
  {
   "cell_type": "code",
   "execution_count": null,
   "id": "c56699bd-0063-4a02-a9b0-f6e4b91cae18",
   "metadata": {},
   "outputs": [],
   "source": []
  },
  {
   "cell_type": "code",
   "execution_count": null,
   "id": "11e24687-0828-4fdd-a2d9-24a66a11c628",
   "metadata": {},
   "outputs": [],
   "source": []
  }
 ],
 "metadata": {
  "kernelspec": {
   "display_name": "Python 3 (ipykernel)",
   "language": "python",
   "name": "python3"
  },
  "language_info": {
   "codemirror_mode": {
    "name": "ipython",
    "version": 3
   },
   "file_extension": ".py",
   "mimetype": "text/x-python",
   "name": "python",
   "nbconvert_exporter": "python",
   "pygments_lexer": "ipython3",
   "version": "3.11.7"
  },
  "widgets": {
   "application/vnd.jupyter.widget-state+json": {
    "state": {},
    "version_major": 2,
    "version_minor": 0
   }
  }
 },
 "nbformat": 4,
 "nbformat_minor": 5
}
