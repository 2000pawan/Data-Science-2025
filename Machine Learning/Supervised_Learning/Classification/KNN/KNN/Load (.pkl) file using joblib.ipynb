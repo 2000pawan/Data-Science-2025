{
 "cells": [
  {
   "cell_type": "code",
   "execution_count": null,
   "id": "0e3a0e53-6e36-4bac-9934-7ccb9f624a84",
   "metadata": {
    "tags": []
   },
   "outputs": [],
   "source": [
    "import joblib"
   ]
  },
  {
   "cell_type": "code",
   "execution_count": null,
   "id": "f8a0fab5-36f3-4ef6-b3f7-3c5d590e4691",
   "metadata": {
    "tags": []
   },
   "outputs": [],
   "source": [
    "model=joblib.load(\"G:/Coding/online_shop.pkl\")"
   ]
  },
  {
   "cell_type": "code",
   "execution_count": null,
   "id": "6203bd08-0ca6-4927-9cad-0916ab44e970",
   "metadata": {
    "tags": []
   },
   "outputs": [],
   "source": [
    "age=int(input('Enter your age:-'))\n",
    "salary=int(input('Enter your salary:-'))\n",
    "gender=int(input('Enter your gender(if you are male enter 1 and female enter 0):-'))\n",
    "prdiction=model.predict([[gender,age,salary]])\n",
    "if prdiction==1:\n",
    "    print('Person Preferred Online Shopping!')\n",
    "else:\n",
    "    print('Person Preferred Offline Shopping!')"
   ]
  },
  {
   "cell_type": "code",
   "execution_count": null,
   "id": "7484b087-e54e-4233-9a8b-19c1d2a0ca3c",
   "metadata": {
    "tags": []
   },
   "outputs": [],
   "source": [
    "import pickle"
   ]
  },
  {
   "cell_type": "code",
   "execution_count": null,
   "id": "72495958-3841-4dca-ba90-a6de32175d5b",
   "metadata": {
    "tags": []
   },
   "outputs": [],
   "source": [
    "mode=pickle.load(open(\"G:/Coding/online.pkl\",\"rb\"))"
   ]
  },
  {
   "cell_type": "code",
   "execution_count": null,
   "id": "d95ca914-b83f-4c08-b6a6-4f420f2b481b",
   "metadata": {
    "tags": []
   },
   "outputs": [],
   "source": [
    "mode.predict([[1,47,25000]])"
   ]
  },
  {
   "cell_type": "code",
   "execution_count": null,
   "id": "84668e60-3612-45bb-a60b-46be778e25ef",
   "metadata": {},
   "outputs": [],
   "source": [
    "import joblib"
   ]
  },
  {
   "cell_type": "code",
   "execution_count": null,
   "id": "9680b07c-2f04-4dae-97f7-7525bebb83a1",
   "metadata": {
    "tags": []
   },
   "outputs": [],
   "source": [
    "lab_enc=joblib.load(\"G:/Coding/online.pkl\")\n",
    "pip_obj=joblib.load(\"G:/Coding/lab_enc\")\n",
    "g=input('Enter your Gender:-').capitalize()\n",
    "sample=list(pip_obj.transform([g]))\n",
    "a=int(input('Enter your age:'))\n",
    "s=float(input('Enter your Salary:'))\n",
    "sample.append(a)\n",
    "sample.append(s)"
   ]
  },
  {
   "cell_type": "code",
   "execution_count": null,
   "id": "3a16c34b-52fd-42d5-9e88-dfeffde7ea69",
   "metadata": {
    "tags": []
   },
   "outputs": [],
   "source": [
    "lab_enc.predict([sample])"
   ]
  },
  {
   "cell_type": "code",
   "execution_count": null,
   "id": "9ba7ce1e-c1a3-4878-ab82-4b021d40c327",
   "metadata": {
    "tags": []
   },
   "outputs": [],
   "source": [
    "import joblib"
   ]
  },
  {
   "cell_type": "code",
   "execution_count": null,
   "id": "83e52b8e-e2b8-4eb5-8d53-9c10b54cf965",
   "metadata": {
    "tags": []
   },
   "outputs": [],
   "source": [
    "en=joblib.load(\"G:/Coding/en.pkl\")\n",
    "sc=joblib.load(\"G:/Coding/sc.pkl\")\n",
    "model=joblib.load(\"G:/Coding/model.pkl\")"
   ]
  },
  {
   "cell_type": "code",
   "execution_count": null,
   "id": "23d9575f-8991-4fae-b82b-bbc1e74787c1",
   "metadata": {
    "tags": []
   },
   "outputs": [],
   "source": [
    "g=input('Enter your Gender:-').capitalize()\n",
    "sample=list(en.transform([g]))\n",
    "a=int(input('Enter your age:'))\n",
    "sample.append(a)\n",
    "s=float(input('Enter your Salary:'))\n",
    "sample.append(s)\n",
    "sample_new=sc.transform([sample])\n",
    "prediction=model.predict(sample_new)\n",
    "if prediction==1:\n",
    "    print('Online Shopping')\n",
    "else:\n",
    "    print('Offline Shopping')"
   ]
  },
  {
   "cell_type": "code",
   "execution_count": null,
   "id": "6e6e4873-5c94-4d7a-aa09-9bae372c0cb0",
   "metadata": {},
   "outputs": [],
   "source": []
  }
 ],
 "metadata": {
  "kernelspec": {
   "display_name": "Python 3 (ipykernel)",
   "language": "python",
   "name": "python3"
  },
  "language_info": {
   "codemirror_mode": {
    "name": "ipython",
    "version": 3
   },
   "file_extension": ".py",
   "mimetype": "text/x-python",
   "name": "python",
   "nbconvert_exporter": "python",
   "pygments_lexer": "ipython3",
   "version": "3.11.7"
  },
  "widgets": {
   "application/vnd.jupyter.widget-state+json": {
    "state": {},
    "version_major": 2,
    "version_minor": 0
   }
  }
 },
 "nbformat": 4,
 "nbformat_minor": 5
}
