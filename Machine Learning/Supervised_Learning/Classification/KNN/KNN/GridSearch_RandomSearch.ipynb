{
 "cells": [
  {
   "cell_type": "markdown",
   "id": "466b9933-ad0a-432e-97f4-fc994d99f72e",
   "metadata": {
    "tags": []
   },
   "source": [
    "#how to find best values for hyper-parameters\n",
    ">GridSearch\n",
    "\n",
    ">RandomizedSearch\n",
    "\n",
    "Note:both techniques are based on cross validation"
   ]
  },
  {
   "cell_type": "code",
   "execution_count": null,
   "id": "1956a317-df27-41ba-881b-84a84dc9a736",
   "metadata": {
    "tags": []
   },
   "outputs": [],
   "source": [
    "import pandas as pd\n",
    "from sklearn.neighbors import KNeighborsClassifier\n",
    "from sklearn.model_selection import GridSearchCV,KFold,RandomizedSearchCV"
   ]
  },
  {
   "cell_type": "code",
   "execution_count": null,
   "id": "bf331eae-76e6-4b5d-af67-ca33902afea6",
   "metadata": {
    "tags": []
   },
   "outputs": [],
   "source": [
    "df=pd.read_csv('G:/dataset/classification/fruits.csv')\n",
    "X=df.iloc[:,:-1].values\n",
    "y=df.iloc[:,-1].values\n",
    "model=KNeighborsClassifier()\n",
    "gs=GridSearchCV(model,param_grid={'n_neighbors':[3,4,5,6,7,8,9]},cv=5)\n",
    "gs.fit(X,y)"
   ]
  },
  {
   "cell_type": "code",
   "execution_count": null,
   "id": "488aa4aa-0975-423e-a9a2-c5a21630dee0",
   "metadata": {
    "tags": []
   },
   "outputs": [],
   "source": [
    "gs.best_score_"
   ]
  },
  {
   "cell_type": "code",
   "execution_count": null,
   "id": "c51162c1-a660-425b-a2c9-c8b56d9cadfa",
   "metadata": {
    "tags": []
   },
   "outputs": [],
   "source": [
    "gs.best_params_"
   ]
  },
  {
   "cell_type": "code",
   "execution_count": null,
   "id": "3e53a97e-f4c8-4dcb-9575-c55c820a8f31",
   "metadata": {
    "tags": []
   },
   "outputs": [],
   "source": [
    "model=KNeighborsClassifier()\n",
    "gs=GridSearchCV(model,param_grid={'n_neighbors':[3,4,5,6,7,8,9],'metric':['euclidean','manhattan']},cv=5)\n",
    "gs.fit(X,y)"
   ]
  },
  {
   "cell_type": "code",
   "execution_count": null,
   "id": "263b90b5-b647-4894-94b5-c877ae78aabd",
   "metadata": {
    "tags": []
   },
   "outputs": [],
   "source": [
    "df.FruitName=df.FruitName.map({'Apple':0,'Banana':1})"
   ]
  },
  {
   "cell_type": "code",
   "execution_count": null,
   "id": "03ae0e95-385d-4124-96a9-ad24cd0fb3ab",
   "metadata": {
    "tags": []
   },
   "outputs": [],
   "source": [
    "df=pd.read_csv('G:/dataset/classification/fruits.csv')\n",
    "X=df.iloc[:,:-1].values\n",
    "y=df.iloc[:,-1].values\n",
    "model=KNeighborsClassifier()\n",
    "gs=GridSearchCV(model,param_grid={'n_neighbors':[2,3,4,5,6,7,8],'metric':['euclidean','manhattan']},cv=5)\n",
    "gs.fit(X,y)"
   ]
  },
  {
   "cell_type": "code",
   "execution_count": null,
   "id": "6d13eb03-d141-4a77-a9e6-f1eae6575d56",
   "metadata": {
    "tags": []
   },
   "outputs": [],
   "source": [
    "gs.best_params_"
   ]
  },
  {
   "cell_type": "code",
   "execution_count": null,
   "id": "ff690928-3469-4266-8f8e-663b048c0712",
   "metadata": {
    "tags": []
   },
   "outputs": [],
   "source": [
    "gs.best_score_"
   ]
  },
  {
   "cell_type": "code",
   "execution_count": null,
   "id": "e372fe41-3307-4655-aafa-6e50167616b6",
   "metadata": {
    "tags": []
   },
   "outputs": [],
   "source": [
    "df=pd.read_csv('G:/dataset/classification/fruits.csv')\n",
    "X=df.iloc[:,:-1].values\n",
    "y=df.iloc[:,-1].values\n",
    "model=KNeighborsClassifier()\n",
    "rs=RandomizedSearchCV(model,param_distributions={'n_neighbors':[2,3,4,5,6,7,8],'metric':['euclidean','manhattan']},random_state=10,cv=5,n_iter=10)\n",
    "rs.fit(X,y)"
   ]
  },
  {
   "cell_type": "code",
   "execution_count": null,
   "id": "2c72e1ed-7503-44b3-bd63-7bf268dc93d5",
   "metadata": {
    "tags": []
   },
   "outputs": [],
   "source": [
    "rs.best_params_"
   ]
  },
  {
   "cell_type": "code",
   "execution_count": null,
   "id": "4f96e778-c11c-4e81-8694-d95133f54575",
   "metadata": {
    "tags": []
   },
   "outputs": [],
   "source": [
    "rs.best_score_"
   ]
  },
  {
   "cell_type": "code",
   "execution_count": null,
   "id": "651e37bb-b337-4ae8-9716-becb82279e5d",
   "metadata": {},
   "outputs": [],
   "source": []
  }
 ],
 "metadata": {
  "kernelspec": {
   "display_name": "Python 3 (ipykernel)",
   "language": "python",
   "name": "python3"
  },
  "language_info": {
   "codemirror_mode": {
    "name": "ipython",
    "version": 3
   },
   "file_extension": ".py",
   "mimetype": "text/x-python",
   "name": "python",
   "nbconvert_exporter": "python",
   "pygments_lexer": "ipython3",
   "version": "3.11.7"
  },
  "widgets": {
   "application/vnd.jupyter.widget-state+json": {
    "state": {},
    "version_major": 2,
    "version_minor": 0
   }
  }
 },
 "nbformat": 4,
 "nbformat_minor": 5
}
