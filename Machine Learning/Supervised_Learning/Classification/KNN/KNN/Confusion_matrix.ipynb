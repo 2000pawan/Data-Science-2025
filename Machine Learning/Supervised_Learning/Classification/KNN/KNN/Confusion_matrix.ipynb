{
 "cells": [
  {
   "cell_type": "code",
   "execution_count": null,
   "id": "467095d5-e032-43e5-b20b-c997fbd390a3",
   "metadata": {
    "tags": []
   },
   "outputs": [],
   "source": [
    "import pandas as pd\n",
    "from sklearn.neighbors import KNeighborsClassifier\n",
    "from sklearn.preprocessing import MinMaxScaler,StandardScaler\n",
    "from sklearn.model_selection import train_test_split\n",
    "from sklearn.metrics import accuracy_score,confusion_matrix,classification_report"
   ]
  },
  {
   "cell_type": "code",
   "execution_count": null,
   "id": "bf09bb56-7876-497f-b2db-45facaf8d5b8",
   "metadata": {
    "tags": []
   },
   "outputs": [],
   "source": [
    "df=pd.read_excel('G:/dataset/classification/creditcard_copy.xlsx')\n",
    "X=df.iloc[:,1:-2].values\n",
    "y=df.iloc[:,-1].values\n",
    "X_train,X_test,y_train,y_test=train_test_split(X,y,random_state=1)\n",
    "model=KNeighborsClassifier()\n",
    "model.fit(X_train,y_train)\n",
    "pred=model.predict(X_train)\n",
    "pred1=model.predict(X_test)\n",
    "print(accuracy_score(y_train,pred))\n",
    "print(accuracy_score(y_test,pred1))"
   ]
  },
  {
   "cell_type": "code",
   "execution_count": null,
   "id": "ceec33e9-da2c-4c65-89a8-4c7aac04dea6",
   "metadata": {
    "tags": []
   },
   "outputs": [],
   "source": [
    "#Confusion Matrix\n",
    "pred_train=model.predict(X_train)\n",
    "confusion_matrix(y_train,pred_train)"
   ]
  },
  {
   "cell_type": "code",
   "execution_count": null,
   "id": "5677046f-b63c-4ded-a3c7-27c793cd08ee",
   "metadata": {
    "tags": []
   },
   "outputs": [],
   "source": [
    "pred_test=model.predict(X_test)\n",
    "confusion_matrix(y_test,pred_test)"
   ]
  },
  {
   "cell_type": "code",
   "execution_count": null,
   "id": "e9ff8127-271f-416a-ab8c-f50a3895b4d7",
   "metadata": {
    "tags": []
   },
   "outputs": [],
   "source": [
    "Precision_score_0=3420/3471\n",
    "print(Precision_score_0)\n",
    "\n",
    "Precision_score_1=333/337\n",
    "print(Precision_score_1)\n",
    "\n",
    "Recall_score_0=3420/3424\n",
    "print(Recall_score_0)\n",
    "\n",
    "Recall_score_1=333/384\n",
    "print(Recall_score_1)\n",
    "\n",
    "## f1-score is harmonic mean of precision and recall score\n",
    "\n",
    "f1_0=2*Precision_score_0*Recall_score_0/(Precision_score_0+Recall_score_0)\n",
    "print(f1_0)\n",
    "\n",
    "f1_1=2*Precision_score_1*Recall_score_1/(Precision_score_1+Recall_score_1)\n",
    "print(f1_1)"
   ]
  },
  {
   "cell_type": "code",
   "execution_count": null,
   "id": "9c010cbd-f9e4-4ce5-9017-7ad276c0a2f0",
   "metadata": {},
   "outputs": [],
   "source": [
    "print(classification_report(y_train,pred_train))"
   ]
  },
  {
   "cell_type": "code",
   "execution_count": null,
   "id": "0c6ea00a-eeab-4685-a9fd-71c41ea37197",
   "metadata": {},
   "outputs": [],
   "source": []
  }
 ],
 "metadata": {
  "kernelspec": {
   "display_name": "Python 3 (ipykernel)",
   "language": "python",
   "name": "python3"
  },
  "language_info": {
   "codemirror_mode": {
    "name": "ipython",
    "version": 3
   },
   "file_extension": ".py",
   "mimetype": "text/x-python",
   "name": "python",
   "nbconvert_exporter": "python",
   "pygments_lexer": "ipython3",
   "version": "3.11.7"
  },
  "widgets": {
   "application/vnd.jupyter.widget-state+json": {
    "state": {},
    "version_major": 2,
    "version_minor": 0
   }
  }
 },
 "nbformat": 4,
 "nbformat_minor": 5
}
