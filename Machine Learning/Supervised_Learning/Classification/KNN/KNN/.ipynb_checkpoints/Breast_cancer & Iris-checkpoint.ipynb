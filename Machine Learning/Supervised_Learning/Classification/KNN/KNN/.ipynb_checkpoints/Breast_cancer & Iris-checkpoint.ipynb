{
 "cells": [
  {
   "cell_type": "code",
   "execution_count": null,
   "id": "008d5629-6836-4343-9f6b-9e1c221e84ac",
   "metadata": {
    "tags": []
   },
   "outputs": [],
   "source": [
    "from sklearn.datasets import load_breast_cancer\n",
    "from sklearn.neighbors import KNeighborsClassifier\n",
    "from sklearn.metrics import accuracy_score,f1_score\n",
    "from sklearn.preprocessing import MinMaxScaler,StandardScaler,MaxAbsScaler\n",
    "from sklearn.model_selection import train_test_split\n",
    "from sklearn.feature_selection import SelectKBest,f_classif"
   ]
  },
  {
   "cell_type": "code",
   "execution_count": null,
   "id": "2a57ecd4-3eac-4150-89a7-223a2480e470",
   "metadata": {
    "tags": []
   },
   "outputs": [],
   "source": [
    "cancer=load_breast_cancer()\n",
    "X=cancer.data\n",
    "y=cancer.target"
   ]
  },
  {
   "cell_type": "code",
   "execution_count": null,
   "id": "560f1d48-b7e2-4361-9273-113c5a863e34",
   "metadata": {
    "tags": []
   },
   "outputs": [],
   "source": [
    "cancer.keys()"
   ]
  },
  {
   "cell_type": "markdown",
   "id": "a9875c41-5b24-44eb-83a3-b9b26b2e43aa",
   "metadata": {},
   "source": [
    "### without using feature_selection"
   ]
  },
  {
   "cell_type": "code",
   "execution_count": null,
   "id": "4133ea86-e94a-47a9-a564-f7280427b4f9",
   "metadata": {
    "tags": []
   },
   "outputs": [],
   "source": [
    "## Using MinMaxScaler\n",
    "X_train,X_test,y_train,y_test=train_test_split(X,y,random_state=1)\n",
    "sc=MinMaxScaler(feature_range=(0,1))\n",
    "X_train_new=sc.fit_transform(X_train)\n",
    "X_test_new=sc.transform(X_test)\n",
    "model=KNeighborsClassifier()\n",
    "model.fit(X_train_new,y_train)\n",
    "pred=model.predict(X_train_new)\n",
    "pred1=model.predict(X_test_new)\n",
    "print(accuracy_score(pred,y_train))\n",
    "print(accuracy_score(pred1,y_test))"
   ]
  },
  {
   "cell_type": "code",
   "execution_count": null,
   "id": "b5464801-c0b4-4801-b239-51f4d86276f2",
   "metadata": {
    "tags": []
   },
   "outputs": [],
   "source": [
    "## Using StandardScaler\n",
    "X_train,X_test,y_train,y_test=train_test_split(X,y,random_state=1)\n",
    "sc=StandardScaler()\n",
    "X_train_new=sc.fit_transform(X_train)\n",
    "X_test_new=sc.transform(X_test)\n",
    "model=KNeighborsClassifier()\n",
    "model.fit(X_train_new,y_train)\n",
    "pred=model.predict(X_train_new)\n",
    "pred1=model.predict(X_test_new)\n",
    "print(accuracy_score(pred,y_train))\n",
    "print(accuracy_score(pred1,y_test))\n",
    "print('Train F1 Score:-',f1_score(y_train,pred))\n",
    "print('Test F1 Score:-',f1_score(y_test,pred1))\n",
    "print('Train F1 Score:-',f1_score(y_train,pred,average=None))\n",
    "print('Test F1 Score:-',f1_score(y_test,pred1,average=None))"
   ]
  },
  {
   "cell_type": "code",
   "execution_count": null,
   "id": "4d4fcc48-9219-4181-b9e9-5b01744a6d14",
   "metadata": {
    "tags": []
   },
   "outputs": [],
   "source": [
    "f_classif(X,y)"
   ]
  },
  {
   "cell_type": "markdown",
   "id": "ee56e327-130e-4445-b957-20fe319ca719",
   "metadata": {},
   "source": [
    "### With using feature_scaling"
   ]
  },
  {
   "cell_type": "code",
   "execution_count": null,
   "id": "2c39783f-9bb4-49cb-a1d2-a2311a4ca2eb",
   "metadata": {
    "tags": []
   },
   "outputs": [],
   "source": [
    "cancer=load_breast_cancer()\n",
    "X=cancer.data\n",
    "y=cancer.target\n",
    "skb=SelectKBest(score_func=f_classif,k=10)\n",
    "X1=skb.fit_transform(X,y)\n",
    "X_train,X_test,y_train,y_test=train_test_split(X1,y,random_state=1)\n",
    "sc=MinMaxScaler(feature_range=(0,1))\n",
    "X_train_new=sc.fit_transform(X_train)\n",
    "X_test_new=sc.transform(X_test)\n",
    "model=KNeighborsClassifier()\n",
    "model.fit(X_train_new,y_train)\n",
    "pred=model.predict(X_train_new)\n",
    "pred1=model.predict(X_test_new)\n",
    "print(accuracy_score(pred,y_train))\n",
    "print(accuracy_score(pred1,y_test))\n",
    "print(X_train_new)"
   ]
  },
  {
   "cell_type": "code",
   "execution_count": null,
   "id": "f9a8dee7-a437-43e3-ba44-2ac6d335e695",
   "metadata": {
    "tags": []
   },
   "outputs": [],
   "source": [
    "cancer=load_breast_cancer()\n",
    "X=cancer.data\n",
    "y=cancer.target\n",
    "skb=SelectKBest(score_func=f_classif,k=27)\n",
    "X1=skb.fit_transform(X,y)\n",
    "X_train,X_test,y_train,y_test=train_test_split(X1,y,random_state=1)\n",
    "sc=StandardScaler()\n",
    "X_train_new=sc.fit_transform(X_train)\n",
    "X_test_new=sc.transform(X_test)\n",
    "model=KNeighborsClassifier(n_neighbors=6)\n",
    "model.fit(X_train_new,y_train)\n",
    "pred=model.predict(X_train_new)\n",
    "pred1=model.predict(X_test_new)\n",
    "print(accuracy_score(pred,y_train))\n",
    "print(accuracy_score(pred1,y_test))"
   ]
  },
  {
   "cell_type": "markdown",
   "id": "10a09452-4f9c-465e-ba7c-2f97ee779dc1",
   "metadata": {},
   "source": [
    "### Cross Validation"
   ]
  },
  {
   "cell_type": "code",
   "execution_count": null,
   "id": "ea687f43-7901-4f14-a0a7-9386f4462f23",
   "metadata": {
    "tags": []
   },
   "outputs": [],
   "source": [
    "from sklearn.model_selection import cross_val_score"
   ]
  },
  {
   "cell_type": "code",
   "execution_count": null,
   "id": "29d84217-d8fb-4ed6-ad69-6320d98257ba",
   "metadata": {
    "tags": []
   },
   "outputs": [],
   "source": [
    "cancer=load_breast_cancer()\n",
    "X=cancer.data\n",
    "y=cancer.target\n",
    "sc=StandardScaler()\n",
    "X_new=sc.fit_transform(X)\n",
    "model=KNeighborsClassifier()\n",
    "test_scores=cross_val_score(model,X_new,y,cv=5)\n",
    "test_scores.mean()"
   ]
  },
  {
   "cell_type": "code",
   "execution_count": null,
   "id": "9e854d68-a327-4bd1-b84a-8cda8d06fd2d",
   "metadata": {
    "tags": []
   },
   "outputs": [],
   "source": [
    "cancer=load_breast_cancer()\n",
    "X=cancer.data\n",
    "y=cancer.target\n",
    "skb=SelectKBest(score_func=f_classif,k=25)\n",
    "X1=skb.fit_transform(X,y)\n",
    "sc=StandardScaler()\n",
    "X_new=sc.fit_transform(X1)\n",
    "model=KNeighborsClassifier()\n",
    "test_scores=cross_val_score(model,X_new,y,cv=5)\n",
    "test_scores.mean()"
   ]
  },
  {
   "cell_type": "code",
   "execution_count": null,
   "id": "ec3ac94c-4cc4-45d0-b354-a6a5201114d7",
   "metadata": {},
   "outputs": [],
   "source": []
  },
  {
   "cell_type": "markdown",
   "id": "ffd11b9c-7d0e-4821-881b-3f3f84d94cfd",
   "metadata": {},
   "source": [
    "### Iris datasets"
   ]
  },
  {
   "cell_type": "code",
   "execution_count": null,
   "id": "e0c74b12-7a44-4d9c-9e42-45f2285763ba",
   "metadata": {
    "tags": []
   },
   "outputs": [],
   "source": [
    "from sklearn.datasets import load_iris\n",
    "from sklearn.neighbors import KNeighborsClassifier\n",
    "from sklearn.metrics import accuracy_score\n",
    "from sklearn.preprocessing import MinMaxScaler,StandardScaler,MaxAbsScaler\n",
    "from sklearn.model_selection import train_test_split\n",
    "from sklearn.model_selection import cross_val_score"
   ]
  },
  {
   "cell_type": "code",
   "execution_count": null,
   "id": "ab14695a-42ae-40b7-9a3e-eaed6a538c0c",
   "metadata": {
    "tags": []
   },
   "outputs": [],
   "source": [
    "iris=load_iris()\n",
    "X=iris.data\n",
    "y=iris.target\n",
    "print(iris.DESCR)"
   ]
  },
  {
   "cell_type": "code",
   "execution_count": null,
   "id": "8f6ea89b-db77-4b0d-bcc5-6279f77481e9",
   "metadata": {
    "tags": []
   },
   "outputs": [],
   "source": [
    "## Using StandardScaler\n",
    "X_train,X_test,y_train,y_test=train_test_split(X,y,random_state=1)\n",
    "sc=StandardScaler()\n",
    "X_train_new=sc.fit_transform(X_train)\n",
    "X_test_new=sc.transform(X_test)\n",
    "model=KNeighborsClassifier()\n",
    "model.fit(X_train_new,y_train)\n",
    "pred=model.predict(X_train_new)\n",
    "pred1=model.predict(X_test_new)\n",
    "print(accuracy_score(y_train,pred))\n",
    "print(accuracy_score(y_test,pred1))\n",
    "print(model.predict([[4.6,1.3,3.9,.5]]))"
   ]
  },
  {
   "cell_type": "code",
   "execution_count": null,
   "id": "de6efec9-6b10-46e4-8ad0-e4d8a1421320",
   "metadata": {
    "tags": []
   },
   "outputs": [],
   "source": [
    "## Using MinMaxScaler\n",
    "X_train,X_test,y_train,y_test=train_test_split(X,y,random_state=1)\n",
    "sc=MinMaxScaler(feature_range=(0,1))\n",
    "X_train_new=sc.fit_transform(X_train)\n",
    "X_test_new=sc.transform(X_test)\n",
    "model=KNeighborsClassifier()\n",
    "model.fit(X_train_new,y_train)\n",
    "pred=model.predict(X_train_new)\n",
    "pred1=model.predict(X_test_new)\n",
    "print(accuracy_score(y_train,pred))\n",
    "print(accuracy_score(y_test,pred1))\n",
    "print(model.predict([[4.6,1.3,3.9,.5]]))"
   ]
  },
  {
   "cell_type": "markdown",
   "id": "6ac56c95-7b79-4165-9e6a-c7ad75e2b93b",
   "metadata": {
    "tags": []
   },
   "source": [
    "### Using Cross Validation"
   ]
  },
  {
   "cell_type": "code",
   "execution_count": null,
   "id": "7ac1e325-b0f4-415f-b65a-06ce9dcb885f",
   "metadata": {
    "tags": []
   },
   "outputs": [],
   "source": [
    "iris=load_iris()\n",
    "X=iris.data\n",
    "y=iris.target\n",
    "sc=StandardScaler()\n",
    "X1=sc.fit_transform(X)\n",
    "model=KNeighborsClassifier()\n",
    "model.fit(X1,y)\n",
    "test_score=cross_val_score(model,X1,y,cv=5)\n",
    "print(test_score.mean())\n",
    "print(model.predict([[4.6,1.3,3.9,.5]]))"
   ]
  },
  {
   "cell_type": "code",
   "execution_count": null,
   "id": "99b1d576-79d4-4769-8939-54cfcb63db81",
   "metadata": {
    "tags": []
   },
   "outputs": [],
   "source": [
    "iris=load_iris()\n",
    "X=iris.data\n",
    "y=iris.target\n",
    "X_train,X_test,y_train,y_test=train_test_split(X,y,random_state=1)\n",
    "sc=StandardScaler()\n",
    "X_train_new=sc.fit_transform(X_train)\n",
    "X_test_new=sc.transform(X_test)\n",
    "model=KNeighborsClassifier()\n",
    "model.fit(X_train_new,y_train)\n",
    "pred=model.predict(X_train_new)\n",
    "pred1=model.predict(X_test_new)\n",
    "print(accuracy_score(y_train,pred))\n",
    "print(accuracy_score(y_test,pred1))\n",
    "print(model.predict([[4.6,1.3,3.9,.5]]))\n",
    "sepal_l=float(input('Enter Sepal Length in cm:-'))\n",
    "sepal_w=float(input('Enter Sepal Width in cm:-'))\n",
    "petal_l=float(input('Enter Petal Length in cm:-'))\n",
    "petal_w=float(input('Enter Petal Width in cm:-'))\n",
    "print(model.predict([[sepal_l,sepal_w,petal_l,petal_w]]))\n",
    "print(model.predict([[0.64705882, 0.33333333, 0.61016949, 0.58333333]]))"
   ]
  },
  {
   "cell_type": "code",
   "execution_count": null,
   "id": "b4e5b09b-c310-44e9-a652-154adfd5afda",
   "metadata": {},
   "outputs": [],
   "source": [
    "iris=load_iris()\n",
    "X=iris.data\n",
    "y=iris.target\n",
    "X_train,X_test,y_train,y_test=train_test_split(X,y,random_state=1)\n",
    "model=KNeighborsClassifier(n_neighbors=9)\n",
    "model.fit(X_train,y_train)\n",
    "pred=model.predict(X_train)\n",
    "pred1=model.predict(X_test)\n",
    "print(model.score(X_train,y_train)) ## accuracy_score without calling accuracy_score function\n",
    "print(model.score(X_test,y_test))\n",
    "print(accuracy_score(y_train,pred))\n",
    "print(accuracy_score(y_test,pred1))\n",
    "print(model.predict([[4.3,2.9,5.6,1.5]]))\n",
    "print(model.predict([[4.6,1.3,3.9,.5]]))"
   ]
  },
  {
   "cell_type": "code",
   "execution_count": null,
   "id": "8fb44f78-a710-4d39-9d17-b1921127923c",
   "metadata": {},
   "outputs": [],
   "source": []
  }
 ],
 "metadata": {
  "kernelspec": {
   "display_name": "Python 3 (ipykernel)",
   "language": "python",
   "name": "python3"
  },
  "language_info": {
   "codemirror_mode": {
    "name": "ipython",
    "version": 3
   },
   "file_extension": ".py",
   "mimetype": "text/x-python",
   "name": "python",
   "nbconvert_exporter": "python",
   "pygments_lexer": "ipython3",
   "version": "3.11.7"
  },
  "widgets": {
   "application/vnd.jupyter.widget-state+json": {
    "state": {},
    "version_major": 2,
    "version_minor": 0
   }
  }
 },
 "nbformat": 4,
 "nbformat_minor": 5
}
