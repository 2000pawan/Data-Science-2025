{
 "cells": [
  {
   "cell_type": "markdown",
   "id": "48251542-150d-4704-adac-8932605a612a",
   "metadata": {},
   "source": [
    "### Online shop data model prediction\n"
   ]
  },
  {
   "cell_type": "code",
   "execution_count": null,
   "id": "4412c0d8-78dc-4bd3-bb1b-862b1ae2ab6c",
   "metadata": {
    "tags": []
   },
   "outputs": [],
   "source": [
    "import pandas as pd\n",
    "import matplotlib.pyplot as plt\n",
    "import seaborn as sb\n",
    "from sklearn.neighbors import KNeighborsClassifier\n",
    "from sklearn.metrics import accuracy_score\n",
    "from sklearn.preprocessing import MinMaxScaler\n",
    "from sklearn.model_selection import train_test_split\n",
    "from sklearn.preprocessing import LabelEncoder\n",
    "from sklearn.preprocessing import MaxAbsScaler,StandardScaler"
   ]
  },
  {
   "cell_type": "code",
   "execution_count": null,
   "id": "5ead1b12-1c0e-495f-97d2-4ff1eddfc3b6",
   "metadata": {
    "tags": []
   },
   "outputs": [],
   "source": [
    "### Using MinMaxScaler\n",
    "df=pd.read_csv('G:/dataset/classification/online_shop.csv')\n",
    "en=LabelEncoder()\n",
    "df.Gender=en.fit_transform(df.Gender)\n",
    "X=df.iloc[:,:-1].values\n",
    "y=df.iloc[:,-1].values\n",
    "model=KNeighborsClassifier()\n",
    "X_train,X_test,y_train,y_test=train_test_split(X,y,random_state=1)\n",
    "sc=MinMaxScaler(feature_range=(0,1))\n",
    "X_train_new=sc.fit_transform(X_train)\n",
    "X_test_new=sc.transform(X_test)\n",
    "model.fit(X_train_new,y_train)\n",
    "pred=model.predict(X_train_new)\n",
    "pred1=model.predict(X_test_new)\n",
    "print(accuracy_score(pred,y_train))\n",
    "print(accuracy_score(pred1,y_test))"
   ]
  },
  {
   "cell_type": "code",
   "execution_count": null,
   "id": "e68680b1-1ab4-4d5f-8db8-349801aeea96",
   "metadata": {
    "tags": []
   },
   "outputs": [],
   "source": [
    "age=int(input('Enter your age:-'))\n",
    "salary=int(input('Enter your salary:-'))\n",
    "gender=int(input('Enter your gender(if you are male enter 1 and female enter 0):-'))\n",
    "sample=sc.transform([[gender,age,salary]])\n",
    "prdiction=model.predict(sample)\n",
    "if prdiction==1:\n",
    "    print('Person Preferred Online Shopping!')\n",
    "else:\n",
    "    print('Person Preferred Offline Shopping!')"
   ]
  },
  {
   "cell_type": "code",
   "execution_count": null,
   "id": "d40fa0f4-f2d5-4610-b3ac-da28413b0080",
   "metadata": {
    "tags": []
   },
   "outputs": [],
   "source": [
    "df=pd.read_csv('G:/dataset/classification/online_shop.csv')\n",
    "en=LabelEncoder()\n",
    "df.Gender=en.fit_transform(df.Gender)\n",
    "X=df.iloc[:,:-1].values\n",
    "y=df.iloc[:,-1].values\n",
    "model=KNeighborsClassifier(n_neighbors=3)\n",
    "X_train,X_test,y_train,y_test=train_test_split(X,y,random_state=1)\n",
    "sc=MinMaxScaler(feature_range=(0,1))\n",
    "X_train_new=sc.fit_transform(X_train)\n",
    "X_test_new=sc.transform(X_test)\n",
    "model.fit(X_train_new,y_train)\n",
    "pred=model.predict(X_train_new)\n",
    "pred1=model.predict(X_test_new)\n",
    "print(accuracy_score(pred,y_train))\n",
    "print(accuracy_score(pred1,y_test))"
   ]
  },
  {
   "cell_type": "code",
   "execution_count": null,
   "id": "6c6c44db-8d18-4de1-92dd-3c9ed9a61508",
   "metadata": {
    "tags": []
   },
   "outputs": [],
   "source": [
    "sb.scatterplot(x=df.Age,y=df.EstimatedSalary,hue=df.Purchased)\n",
    "plt.show()"
   ]
  },
  {
   "cell_type": "code",
   "execution_count": null,
   "id": "27d57d85-8954-44f2-b9a0-37656469c152",
   "metadata": {
    "tags": []
   },
   "outputs": [],
   "source": [
    "import sklearn\n",
    "print(sklearn.__version__)\n",
    "import pandas\n",
    "print(pandas.__version__)"
   ]
  },
  {
   "cell_type": "code",
   "execution_count": null,
   "id": "081e906a-3160-4f07-8aa3-8875a397c96a",
   "metadata": {
    "tags": []
   },
   "outputs": [],
   "source": [
    "## Using MaxAbsScaler\n",
    "df=pd.read_csv('G:/dataset/classification/online_shop.csv')\n",
    "en=LabelEncoder()\n",
    "df.Gender=en.fit_transform(df.Gender)\n",
    "X=df.iloc[:,:-1].values\n",
    "y=df.iloc[:,-1].values\n",
    "model=KNeighborsClassifier()\n",
    "X_train,X_test,y_train,y_test=train_test_split(X,y,random_state=1)\n",
    "sc=MaxAbsScaler()\n",
    "X_train_new=sc.fit_transform(X_train)\n",
    "X_test_new=sc.transform(X_test)\n",
    "model.fit(X_train_new,y_train)\n",
    "pred=model.predict(X_train_new)\n",
    "pred1=model.predict(X_test_new)\n",
    "print(accuracy_score(pred,y_train))\n",
    "print(accuracy_score(pred1,y_test))"
   ]
  },
  {
   "cell_type": "code",
   "execution_count": null,
   "id": "f9c3e2b4-f297-43bb-8a63-6f4f50132805",
   "metadata": {
    "tags": []
   },
   "outputs": [],
   "source": [
    "## Using Standard Scaler\n",
    "df=pd.read_csv('G:/dataset/classification/online_shop.csv')\n",
    "en=LabelEncoder()\n",
    "df.Gender=en.fit_transform(df.Gender)\n",
    "X=df.iloc[:,:-1].values\n",
    "y=df.iloc[:,-1].values\n",
    "model=KNeighborsClassifier()\n",
    "X_train,X_test,y_train,y_test=train_test_split(X,y,random_state=1)\n",
    "sc=StandardScaler()\n",
    "X_train_new=sc.fit_transform(X_train)\n",
    "X_test_new=sc.transform(X_test)\n",
    "model.fit(X_train_new,y_train)\n",
    "pred=model.predict(X_train_new)\n",
    "pred1=model.predict(X_test_new)\n",
    "print(accuracy_score(pred,y_train))\n",
    "print(accuracy_score(pred1,y_test))"
   ]
  },
  {
   "cell_type": "code",
   "execution_count": null,
   "id": "77c8190c-9721-4182-9921-97dd2eabf4cb",
   "metadata": {},
   "outputs": [],
   "source": [
    "df"
   ]
  },
  {
   "cell_type": "code",
   "execution_count": null,
   "id": "498dbdcf-a4c3-42b8-b34d-951d750f44e4",
   "metadata": {},
   "outputs": [],
   "source": [
    "from sklearn.pipeline import Pipeline\n",
    "import pandas as pd\n",
    "from sklearn.neighbors import KNeighborsClassifier\n",
    "from sklearn.preprocessing import LabelEncoder\n",
    "from sklearn.preprocessing import StandardScaler"
   ]
  },
  {
   "cell_type": "code",
   "execution_count": null,
   "id": "eda0d40c-af98-49fd-9416-86a75c641de7",
   "metadata": {
    "tags": []
   },
   "outputs": [],
   "source": [
    "df=pd.read_csv(\"G:/dataset/classification/online_shop.csv\")\n",
    "lab_enc=LabelEncoder()\n",
    "df.Gender=lab_enc.fit_transform(df.Gender)\n",
    "pip_obj=Pipeline([('sc',sc),(\"model\",model)])\n",
    "X=df.iloc[:,:-1].values\n",
    "y=df.iloc[:,-1].values\n",
    "pip_obj.fit(X,y)"
   ]
  },
  {
   "cell_type": "code",
   "execution_count": null,
   "id": "328b3cf3-6929-444d-a515-020c11a66c51",
   "metadata": {
    "tags": []
   },
   "outputs": [],
   "source": [
    "import joblib"
   ]
  },
  {
   "cell_type": "code",
   "execution_count": null,
   "id": "f8a40d5a-3fc2-40af-b067-92b03965577f",
   "metadata": {
    "tags": []
   },
   "outputs": [],
   "source": [
    "joblib.dump(pip_obj,\"G:/Coding/online.pkl\")"
   ]
  },
  {
   "cell_type": "code",
   "execution_count": null,
   "id": "29299c99-0a3b-4c0f-adef-36f111583f84",
   "metadata": {
    "tags": []
   },
   "outputs": [],
   "source": [
    "joblib.dump(lab_enc,'G:/Coding/lab_enc')"
   ]
  },
  {
   "cell_type": "code",
   "execution_count": null,
   "id": "ac42366c-c212-4df6-8e78-2af6246cf0ec",
   "metadata": {},
   "outputs": [],
   "source": []
  }
 ],
 "metadata": {
  "kernelspec": {
   "display_name": "Python 3 (ipykernel)",
   "language": "python",
   "name": "python3"
  },
  "language_info": {
   "codemirror_mode": {
    "name": "ipython",
    "version": 3
   },
   "file_extension": ".py",
   "mimetype": "text/x-python",
   "name": "python",
   "nbconvert_exporter": "python",
   "pygments_lexer": "ipython3",
   "version": "3.11.7"
  },
  "widgets": {
   "application/vnd.jupyter.widget-state+json": {
    "state": {},
    "version_major": 2,
    "version_minor": 0
   }
  }
 },
 "nbformat": 4,
 "nbformat_minor": 5
}
