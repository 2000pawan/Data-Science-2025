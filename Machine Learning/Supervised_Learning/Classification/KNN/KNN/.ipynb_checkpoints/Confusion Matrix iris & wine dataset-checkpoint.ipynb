{
 "cells": [
  {
   "cell_type": "code",
   "execution_count": 6,
   "id": "30400219-0619-426e-aba6-b7f51855cc03",
   "metadata": {},
   "outputs": [],
   "source": [
    "from sklearn.datasets import load_iris\n",
    "from sklearn.neighbors import KNeighborsClassifier\n",
    "from sklearn.metrics import accuracy_score,confusion_matrix,classification_report,precision_score,recall_score,f1_score\n",
    "from sklearn.model_selection import train_test_split"
   ]
  },
  {
   "cell_type": "code",
   "execution_count": 7,
   "id": "3c430b94-9248-4935-858a-f418af2e9264",
   "metadata": {
    "tags": []
   },
   "outputs": [
    {
     "name": "stdout",
     "output_type": "stream",
     "text": [
      "0.9732142857142857\n",
      "0.9736842105263158\n"
     ]
    }
   ],
   "source": [
    "iris=load_iris()\n",
    "X=iris.data\n",
    "y=iris.target\n",
    "X_train,X_test,y_train,y_test=train_test_split(X,y,random_state=1)\n",
    "model=KNeighborsClassifier(n_neighbors=9)\n",
    "model.fit(X_train,y_train)\n",
    "pred=model.predict(X_train)\n",
    "pred1=model.predict(X_test)\n",
    "print(accuracy_score(y_train,pred))\n",
    "print(accuracy_score(y_test,pred1))"
   ]
  },
  {
   "cell_type": "code",
   "execution_count": 8,
   "id": "06a88a5a-67db-4cba-abce-da9b9427d376",
   "metadata": {
    "tags": []
   },
   "outputs": [
    {
     "data": {
      "text/plain": [
       "array([[37,  0,  0],\n",
       "       [ 0, 32,  2],\n",
       "       [ 0,  1, 40]], dtype=int64)"
      ]
     },
     "execution_count": 8,
     "metadata": {},
     "output_type": "execute_result"
    }
   ],
   "source": [
    "confusion_matrix(y_train,pred)"
   ]
  },
  {
   "cell_type": "code",
   "execution_count": 22,
   "id": "029799a2-3fdb-4868-a07c-7f26d45ecd15",
   "metadata": {
    "tags": []
   },
   "outputs": [
    {
     "name": "stdout",
     "output_type": "stream",
     "text": [
      "Precision_score for class 0(Negative):-  1.0\n",
      "Recall_score for class 0(Negative):-  1.0\n",
      "F1_score for class 0(Negative):-  1.0\n"
     ]
    }
   ],
   "source": [
    "# for class 0\n",
    "TP=37\n",
    "TN=72\n",
    "FN=0\n",
    "FP=0\n",
    "prec_0=TP/(TP+FP)\n",
    "print('Precision_score for class 0(Negative):- ',prec_0)\n",
    "rec_0=TP/(TP+FN)\n",
    "print('Recall_score for class 0(Negative):- ',rec_0)\n",
    "f1_0=2*prec_0*rec_0/(prec_0+rec_0)\n",
    "print('F1_score for class 0(Negative):- ',f1_0)"
   ]
  },
  {
   "cell_type": "code",
   "execution_count": 20,
   "id": "8ed24986-de93-4765-8a5c-96202dfebbb7",
   "metadata": {
    "tags": []
   },
   "outputs": [
    {
     "name": "stdout",
     "output_type": "stream",
     "text": [
      "Precision_score for class 0(Negative):-  0.9696969696969697\n",
      "Recall_score for class 0(Negative):-  0.9411764705882353\n",
      "F1_score for class 0(Negative):-  0.955223880597015\n"
     ]
    }
   ],
   "source": [
    "# for class 1\n",
    "TP=32\n",
    "TN=77\n",
    "FN=2\n",
    "FP=1\n",
    "prec_0=TP/(TP+FP)\n",
    "print('Precision_score for class 0(Negative):- ',prec_0)\n",
    "rec_0=TP/(TP+FN)\n",
    "print('Recall_score for class 0(Negative):- ',rec_0)\n",
    "f1_0=2*prec_0*rec_0/(prec_0+rec_0)\n",
    "print('F1_score for class 0(Negative):- ',f1_0)"
   ]
  },
  {
   "cell_type": "code",
   "execution_count": 21,
   "id": "87d6c634-4854-45e2-8489-d256cd147bf0",
   "metadata": {
    "tags": []
   },
   "outputs": [
    {
     "name": "stdout",
     "output_type": "stream",
     "text": [
      "Precision_score for class 0(Negative):-  0.9523809523809523\n",
      "Recall_score for class 0(Negative):-  0.975609756097561\n",
      "F1_score for class 0(Negative):-  0.963855421686747\n"
     ]
    }
   ],
   "source": [
    "# for class 0\n",
    "TP=40\n",
    "TN=69\n",
    "FN=1\n",
    "FP=2\n",
    "prec_0=TP/(TP+FP)\n",
    "print('Precision_score for class 0(Negative):- ',prec_0)\n",
    "rec_0=TP/(TP+FN)\n",
    "print('Recall_score for class 0(Negative):- ',rec_0)\n",
    "f1_0=2*prec_0*rec_0/(prec_0+rec_0)\n",
    "print('F1_score for class 0(Negative):- ',f1_0)"
   ]
  },
  {
   "cell_type": "code",
   "execution_count": 19,
   "id": "68ea0ad7-4355-4bb1-b7ff-ca1b9f002103",
   "metadata": {
    "tags": []
   },
   "outputs": [
    {
     "name": "stdout",
     "output_type": "stream",
     "text": [
      "              precision    recall  f1-score   support\n",
      "\n",
      "           0       1.00      1.00      1.00        37\n",
      "           1       0.97      0.94      0.96        34\n",
      "           2       0.95      0.98      0.96        41\n",
      "\n",
      "    accuracy                           0.97       112\n",
      "   macro avg       0.97      0.97      0.97       112\n",
      "weighted avg       0.97      0.97      0.97       112\n",
      "\n"
     ]
    }
   ],
   "source": [
    "print(classification_report(y_train,pred))"
   ]
  },
  {
   "cell_type": "code",
   "execution_count": null,
   "id": "9a373d86-293b-4d6b-b757-360985e31bd7",
   "metadata": {},
   "outputs": [],
   "source": []
  }
 ],
 "metadata": {
  "kernelspec": {
   "display_name": "Python 3 (ipykernel)",
   "language": "python",
   "name": "python3"
  },
  "language_info": {
   "codemirror_mode": {
    "name": "ipython",
    "version": 3
   },
   "file_extension": ".py",
   "mimetype": "text/x-python",
   "name": "python",
   "nbconvert_exporter": "python",
   "pygments_lexer": "ipython3",
   "version": "3.11.3"
  }
 },
 "nbformat": 4,
 "nbformat_minor": 5
}
