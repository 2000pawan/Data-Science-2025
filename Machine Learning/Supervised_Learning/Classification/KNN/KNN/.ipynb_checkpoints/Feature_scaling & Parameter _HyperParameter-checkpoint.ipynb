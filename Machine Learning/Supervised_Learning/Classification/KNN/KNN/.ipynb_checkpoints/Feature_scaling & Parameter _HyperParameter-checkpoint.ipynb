{
 "cells": [
  {
   "cell_type": "code",
   "execution_count": null,
   "id": "73eb7a84-3019-4c2e-bd82-3e908f86992f",
   "metadata": {},
   "outputs": [],
   "source": [
    "import pandas as pd\n",
    "import matplotlib.pyplot as plt\n",
    "import seaborn as sb\n",
    "from sklearn.neighbors import KNeighborsClassifier\n",
    "from sklearn.metrics import accuracy_score\n",
    "from sklearn.preprocessing import MinMaxScaler\n",
    "from sklearn.model_selection import train_test_split"
   ]
  },
  {
   "cell_type": "markdown",
   "id": "2164a923-c4d5-4051-badd-8e6a51337ed3",
   "metadata": {
    "tags": []
   },
   "source": [
    "### Without Feature scaling"
   ]
  },
  {
   "cell_type": "code",
   "execution_count": null,
   "id": "f49ff085-837a-4163-befa-47855e738237",
   "metadata": {
    "tags": []
   },
   "outputs": [],
   "source": [
    "df=pd.read_csv('G:/dataset/classification/fruits.csv')\n",
    "X=df.iloc[:,:-1].values\n",
    "y=df.iloc[:,-1].values\n",
    "X_train,X_test,y_train,y_test=train_test_split(X,y,random_state=1)\n",
    "model=KNeighborsClassifier()\n",
    "model.fit(X_train,y_train)\n",
    "pred=model.predict(X_test)\n",
    "pred1=model.predict(X_train)\n",
    "print('Training_score:-',accuracy_score(y_train,pred1))\n",
    "print('Testing_score:-',accuracy_score(y_test,pred))"
   ]
  },
  {
   "cell_type": "markdown",
   "id": "4a2bae31-0b8e-462d-8240-a9a190a6b219",
   "metadata": {
    "tags": []
   },
   "source": [
    "### With Feature Scaling"
   ]
  },
  {
   "cell_type": "code",
   "execution_count": null,
   "id": "49e9dd28-c8cb-49d8-b8a4-16cd8693e73e",
   "metadata": {
    "tags": []
   },
   "outputs": [],
   "source": [
    "df=pd.read_csv('G:/dataset/classification/fruits.csv')\n",
    "X=df.iloc[:,:-1].values\n",
    "y=df.iloc[:,-1].values\n",
    "X_train,X_test,y_train,y_test=train_test_split(X,y,random_state=1)\n",
    "model=KNeighborsClassifier()\n",
    "sc=MinMaxScaler(feature_range=(0,1))  ## Using MinMaxScaler feature scaling\n",
    "X_train_new=sc.fit_transform(X_train)\n",
    "X_test_new=sc.transform(X_test)\n",
    "model.fit(X_train_new,y_train)\n",
    "pred=model.predict(X_test_new)\n",
    "pred1=model.predict(X_train_new)\n",
    "print('Training_score:-',accuracy_score(y_train,pred1))\n",
    "print('Testing_score:-',accuracy_score(y_test,pred))"
   ]
  },
  {
   "cell_type": "code",
   "execution_count": null,
   "id": "f0a6d798-c141-49cf-b931-51b0f6ebd722",
   "metadata": {
    "tags": []
   },
   "outputs": [],
   "source": [
    "d=eval(input('enter a dim:-'))\n",
    "w=eval(input('enter a weight:-'))\n",
    "pred2=sc.transform([[d,w]])\n",
    "model.predict(pred2)"
   ]
  },
  {
   "cell_type": "code",
   "execution_count": null,
   "id": "1c814137-0a09-4cf2-a8db-be4efe3048bc",
   "metadata": {
    "tags": []
   },
   "outputs": [],
   "source": [
    "df.describe()"
   ]
  },
  {
   "cell_type": "code",
   "execution_count": null,
   "id": "e5681a66-e0e9-4532-b80b-4cc7f7a48f9e",
   "metadata": {
    "tags": []
   },
   "outputs": [],
   "source": [
    "sb.scatterplot(x=df.diameter,y=df.weight,hue=df.FruitName)\n",
    "plt.show()"
   ]
  },
  {
   "cell_type": "markdown",
   "id": "c5242138-cdc2-4063-b5b5-b5f5f38d5637",
   "metadata": {
    "tags": []
   },
   "source": [
    "### Parameter v/s Hyper_Parameter\n",
    "     . parameters are values that an object learn from data\n",
    "     . hyper_parameter are values that we pass explicitly to object.\n",
    "     . exp:-\n",
    "          . in Scaler object,\n",
    "              . minrange,maxrange are hyper_parameters\n",
    "            . xmax,xmin are Parameters."
   ]
  },
  {
   "cell_type": "markdown",
   "id": "257a8364-a2a1-4c0a-aa96-0af7e55db048",
   "metadata": {
    "tags": []
   },
   "source": [
    "### Feature Scaling with model hyper_parameter tuning."
   ]
  },
  {
   "cell_type": "code",
   "execution_count": null,
   "id": "fae2f78e-05b5-4036-b3fb-c7a074ba844e",
   "metadata": {
    "tags": []
   },
   "outputs": [],
   "source": [
    "df=pd.read_csv('G:/dataset/classification/fruits.csv')\n",
    "X=df.iloc[:,:-1].values\n",
    "y=df.iloc[:,-1].values\n",
    "X_train,X_test,y_train,y_test=train_test_split(X,y,random_state=1)\n",
    "for i in range(1,11):\n",
    "    model=KNeighborsClassifier(n_neighbors=i) ###hypermeter tuning\n",
    "    sc=MinMaxScaler(feature_range=(0,1))\n",
    "    X_train_new=sc.fit_transform(X_train)\n",
    "    X_test_new=sc.transform(X_test)\n",
    "    model.fit(X_train_new,y_train)\n",
    "    pred=model.predict(X_test_new)\n",
    "    pred1=model.predict(X_train_new)\n",
    "    print('-----Neighbors:-----',i)\n",
    "    print('Training_score:-',accuracy_score(y_train,pred1))\n",
    "    print('Testing_score:-',accuracy_score(y_test,pred))\n",
    "    print('..................................')"
   ]
  },
  {
   "cell_type": "code",
   "execution_count": null,
   "id": "786d732f-6fde-4858-93b9-2e978d19f0ce",
   "metadata": {
    "tags": []
   },
   "outputs": [],
   "source": [
    "model=KNeighborsClassifier(n_neighbors=5,metric='euclidean')\n",
    "sc=MinMaxScaler(feature_range=(0,1))\n",
    "X_train_new=sc.fit_transform(X_train)\n",
    "X_test_new=sc.transform(X_test)\n",
    "model.fit(X_train_new,y_train)\n",
    "pred=model.predict(X_test_new)\n",
    "pred1=model.predict(X_train_new)\n",
    "print('-----Euclidean:-----')\n",
    "print('Training_score:-',accuracy_score(y_train,pred1))\n",
    "print('Testing_score:-',accuracy_score(y_test,pred))\n",
    "print('..................................')"
   ]
  },
  {
   "cell_type": "code",
   "execution_count": null,
   "id": "b559a124-79e5-4d77-8759-0aa3b9dfc89e",
   "metadata": {
    "tags": []
   },
   "outputs": [],
   "source": [
    "model=KNeighborsClassifier(n_neighbors=5,metric='manhattan',p=1)\n",
    "sc=MinMaxScaler(feature_range=(0,1))\n",
    "X_train_new=sc.fit_transform(X_train)\n",
    "X_test_new=sc.transform(X_test)\n",
    "model.fit(X_train_new,y_train)\n",
    "pred=model.predict(X_test_new)\n",
    "pred1=model.predict(X_train_new)\n",
    "print('-----manhattan:-----')\n",
    "print('Training_score:-',accuracy_score(y_train,pred1))\n",
    "print('Testing_score:-',accuracy_score(y_test,pred))\n",
    "print('..................................')"
   ]
  },
  {
   "cell_type": "code",
   "execution_count": null,
   "id": "b92c2cf3-dc1f-4214-b990-585bdcec742c",
   "metadata": {
    "tags": []
   },
   "outputs": [],
   "source": [
    "model=KNeighborsClassifier(n_neighbors=5,metric='minkowski',p=3)\n",
    "sc=MinMaxScaler(feature_range=(0,1))\n",
    "X_train_new=sc.fit_transform(X_train)\n",
    "X_test_new=sc.transform(X_test)\n",
    "model.fit(X_train_new,y_train)\n",
    "pred=model.predict(X_test_new)\n",
    "pred1=model.predict(X_train_new)\n",
    "print('-----minkowski:-----')\n",
    "print('Training_score:-',accuracy_score(y_train,pred1))\n",
    "print('Testing_score:-',accuracy_score(y_test,pred))\n",
    "print('..................................')"
   ]
  },
  {
   "cell_type": "code",
   "execution_count": null,
   "id": "8d879636-5231-4276-979a-58d09c37f5c6",
   "metadata": {
    "tags": []
   },
   "outputs": [],
   "source": [
    "from sklearn.preprocessing import MaxAbsScaler\n",
    "sc=MaxAbsScaler()\n",
    "X_train_new=sc.fit_transform(X_train)\n",
    "X_test_new=sc.transform(X_test)\n",
    "model.fit(X_train_new,y_train)\n",
    "pred=model.predict(X_test_new)\n",
    "pred1=model.predict(X_train_new)\n",
    "print('Training_score:-',accuracy_score(y_train,pred1))\n",
    "print('Testing_score:-',accuracy_score(y_test,pred))"
   ]
  },
  {
   "cell_type": "code",
   "execution_count": null,
   "id": "38bbc005-81e9-462f-96c2-793ca2c3d0e8",
   "metadata": {
    "tags": []
   },
   "outputs": [],
   "source": [
    "from sklearn.preprocessing import StandardScaler\n",
    "sc=StandardScaler()\n",
    "X_train_new=sc.fit_transform(X_train)\n",
    "X_test_new=sc.transform(X_test)\n",
    "model.fit(X_train_new,y_train)\n",
    "pred=model.predict(X_test_new)\n",
    "pred1=model.predict(X_train_new)\n",
    "print('Training_score:-',accuracy_score(y_train,pred1))\n",
    "print('Testing_score:-',accuracy_score(y_test,pred))"
   ]
  },
  {
   "cell_type": "code",
   "execution_count": null,
   "id": "51c9ad5b-349a-4cc9-a970-4b7d1efe637d",
   "metadata": {
    "tags": []
   },
   "outputs": [],
   "source": [
    "from sklearn.preprocessing import RobustScaler\n",
    "sc=RobustScaler()\n",
    "X_train_new=sc.fit_transform(X_train)\n",
    "X_test_new=sc.transform(X_test)\n",
    "model.fit(X_train_new,y_train)\n",
    "pred=model.predict(X_test_new)\n",
    "pred1=model.predict(X_train_new)\n",
    "print('Training_score:-',accuracy_score(y_train,pred1))\n",
    "print('Testing_score:-',accuracy_score(y_test,pred))"
   ]
  },
  {
   "cell_type": "code",
   "execution_count": null,
   "id": "c8048f02-e65f-4e19-a039-08d3e433f585",
   "metadata": {
    "tags": []
   },
   "outputs": [],
   "source": [
    "from sklearn.preprocessing import Binarizer\n",
    "sc=Binarizer()\n",
    "X_train_new=sc.fit_transform(X_train)\n",
    "X_test_new=sc.transform(X_test)\n",
    "model.fit(X_train_new,y_train)\n",
    "pred=model.predict(X_test_new)\n",
    "pred1=model.predict(X_train_new)\n",
    "print('Training_score:-',accuracy_score(y_train,pred1))\n",
    "print('Testing_score:-',accuracy_score(y_test,pred))"
   ]
  },
  {
   "cell_type": "code",
   "execution_count": null,
   "id": "f012bc7d-4838-42a7-a739-823a18395319",
   "metadata": {
    "tags": []
   },
   "outputs": [],
   "source": [
    "df=pd.read_csv('G:/dataset/classification/fruits.csv')\n",
    "X=df.iloc[:,:-1].values\n",
    "y=df.iloc[:,-1].values\n",
    "X_train,X_test,y_train,y_test=train_test_split(X,y,random_state=1)\n",
    "metric=('euclidean','minkowski','manhattan')\n",
    "for i in range(1,8):\n",
    "    for j in (metric):\n",
    "        model=KNeighborsClassifier(n_neighbors=i,metric=j)\n",
    "        sc=MinMaxScaler(feature_range=(0,1))\n",
    "        X_train_new=sc.fit_transform(X_train)\n",
    "        X_test_new=sc.transform(X_test)\n",
    "        model.fit(X_train_new,y_train)\n",
    "        pred=model.predict(X_test_new)\n",
    "        pred1=model.predict(X_train_new)\n",
    "        print('Neighbors:--',i,'metric:-',j)\n",
    "        print('Training_score:-',accuracy_score(y_train,pred1))\n",
    "        print('Testing_score:-',accuracy_score(y_test,pred))\n",
    "        print('..................................')\n",
    "    print('\\n')"
   ]
  },
  {
   "cell_type": "code",
   "execution_count": null,
   "id": "7426b821-8284-464a-8faf-f8f214218ec6",
   "metadata": {},
   "outputs": [],
   "source": []
  }
 ],
 "metadata": {
  "kernelspec": {
   "display_name": "Python 3 (ipykernel)",
   "language": "python",
   "name": "python3"
  },
  "language_info": {
   "codemirror_mode": {
    "name": "ipython",
    "version": 3
   },
   "file_extension": ".py",
   "mimetype": "text/x-python",
   "name": "python",
   "nbconvert_exporter": "python",
   "pygments_lexer": "ipython3",
   "version": "3.11.7"
  },
  "widgets": {
   "application/vnd.jupyter.widget-state+json": {
    "state": {},
    "version_major": 2,
    "version_minor": 0
   }
  }
 },
 "nbformat": 4,
 "nbformat_minor": 5
}
