{
 "cells": [
  {
   "cell_type": "code",
   "execution_count": null,
   "id": "30815f55-732d-44e8-9992-845d0d56871f",
   "metadata": {
    "tags": []
   },
   "outputs": [],
   "source": [
    "from sklearn.neighbors import KNeighborsClassifier\n",
    "import pandas as pd\n",
    "from sklearn.metrics import accuracy_score\n",
    "df=pd.read_csv('G:/dataset/classification/fruits.csv')\n",
    "X=df.iloc[:,:-1].values\n",
    "y=df.iloc[:,-1].values\n",
    "model=KNeighborsClassifier()\n",
    "model.fit(X,y)\n",
    "pre=model.predict(X)\n",
    "from sklearn.metrics import accuracy_score\n",
    "accuracy_score(y,pre)"
   ]
  },
  {
   "cell_type": "code",
   "execution_count": null,
   "id": "ed977ebe-536f-4618-a867-cd251a878f87",
   "metadata": {
    "tags": []
   },
   "outputs": [],
   "source": [
    "#Train and test dataset spliting\n",
    "from sklearn.neighbors import KNeighborsClassifier\n",
    "import pandas as pd\n",
    "from sklearn.metrics import accuracy_score\n",
    "from sklearn.model_selection import train_test_split\n",
    "df=pd.read_csv('G:/dataset/classification/fruits.csv')\n",
    "X=df.iloc[:,:-1].values\n",
    "y=df.iloc[:,-1].values\n",
    "model=KNeighborsClassifier()"
   ]
  },
  {
   "cell_type": "code",
   "execution_count": null,
   "id": "b884c458-7518-41e0-ae60-3cec94cdc8ba",
   "metadata": {
    "tags": []
   },
   "outputs": [],
   "source": [
    "#default split in 75% or 25% without given how much % you want to split \n",
    "X_train,X_test,y_train,y_test=train_test_split(X,y,test_size=.25,train_size=.75,random_state=1)"
   ]
  },
  {
   "cell_type": "code",
   "execution_count": null,
   "id": "0e1bc3fc-af02-40fe-9624-3b23c06dc992",
   "metadata": {
    "tags": []
   },
   "outputs": [],
   "source": [
    "model.fit(X_train,y_train)"
   ]
  },
  {
   "cell_type": "code",
   "execution_count": null,
   "id": "289fda0b-eb17-43f6-9bbc-b994a048ff5d",
   "metadata": {
    "tags": []
   },
   "outputs": [],
   "source": [
    "a=model.predict(X_train)\n",
    "b=model.predict(X_test)\n",
    "accuracy_score(y_train,a)"
   ]
  },
  {
   "cell_type": "code",
   "execution_count": null,
   "id": "47a7d5ce-c969-4189-81b9-81b9b7b283e4",
   "metadata": {
    "tags": []
   },
   "outputs": [],
   "source": [
    "accuracy_score(y_test,b)"
   ]
  },
  {
   "cell_type": "code",
   "execution_count": null,
   "id": "af6e26ff-861f-440d-b2ff-aebc12bf644a",
   "metadata": {},
   "outputs": [],
   "source": []
  }
 ],
 "metadata": {
  "kernelspec": {
   "display_name": "Python 3 (ipykernel)",
   "language": "python",
   "name": "python3"
  },
  "language_info": {
   "codemirror_mode": {
    "name": "ipython",
    "version": 3
   },
   "file_extension": ".py",
   "mimetype": "text/x-python",
   "name": "python",
   "nbconvert_exporter": "python",
   "pygments_lexer": "ipython3",
   "version": "3.11.7"
  },
  "widgets": {
   "application/vnd.jupyter.widget-state+json": {
    "state": {},
    "version_major": 2,
    "version_minor": 0
   }
  }
 },
 "nbformat": 4,
 "nbformat_minor": 5
}
