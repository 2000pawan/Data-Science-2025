{
 "cells": [
  {
   "cell_type": "markdown",
   "id": "46f75277-9297-4df4-ba93-90a6c6af70a6",
   "metadata": {},
   "source": [
    "### Iris Dataset Confusion Matrix"
   ]
  },
  {
   "cell_type": "code",
   "execution_count": null,
   "id": "30400219-0619-426e-aba6-b7f51855cc03",
   "metadata": {},
   "outputs": [],
   "source": [
    "from sklearn.datasets import load_iris\n",
    "from sklearn.neighbors import KNeighborsClassifier\n",
    "from sklearn.metrics import accuracy_score,confusion_matrix,classification_report,precision_score,recall_score,f1_score\n",
    "from sklearn.model_selection import train_test_split"
   ]
  },
  {
   "cell_type": "code",
   "execution_count": null,
   "id": "3c430b94-9248-4935-858a-f418af2e9264",
   "metadata": {
    "tags": []
   },
   "outputs": [],
   "source": [
    "iris=load_iris()\n",
    "X=iris.data\n",
    "y=iris.target\n",
    "X_train,X_test,y_train,y_test=train_test_split(X,y,random_state=1)\n",
    "model=KNeighborsClassifier(n_neighbors=9)\n",
    "model.fit(X_train,y_train)\n",
    "pred=model.predict(X_train)\n",
    "pred1=model.predict(X_test)\n",
    "print(accuracy_score(y_train,pred))\n",
    "print(accuracy_score(y_test,pred1))\n",
    "confusion_matrix(y_train,pred)"
   ]
  },
  {
   "cell_type": "code",
   "execution_count": null,
   "id": "029799a2-3fdb-4868-a07c-7f26d45ecd15",
   "metadata": {
    "tags": []
   },
   "outputs": [],
   "source": [
    "# for class 0\n",
    "TP=37\n",
    "TN=72\n",
    "FN=0\n",
    "FP=0\n",
    "prec_0=TP/(TP+FP)\n",
    "print('Precision_score for class 0:- ',prec_0)\n",
    "rec_0=TP/(TP+FN)\n",
    "print('Recall_score for class 0:- ',rec_0)\n",
    "f1_0=2*prec_0*rec_0/(prec_0+rec_0)\n",
    "print('F1_score for class 0:- ',f1_0)\n",
    "print('..............................................................................................................................')\n",
    "# for class 1\n",
    "TP=32\n",
    "TN=77\n",
    "FN=2\n",
    "FP=1\n",
    "prec_0=TP/(TP+FP)\n",
    "print('Precision_score for class 1:- ',prec_0)\n",
    "rec_0=TP/(TP+FN)\n",
    "print('Recall_score for class 1:- ',rec_0)\n",
    "f1_0=2*prec_0*rec_0/(prec_0+rec_0)\n",
    "print('F1_score for class 1:- ',f1_0)\n",
    "print('..............................................................................................................................')\n",
    "# for class 2\n",
    "TP=40\n",
    "TN=69\n",
    "FN=1\n",
    "FP=2\n",
    "prec_0=TP/(TP+FP)\n",
    "print('Precision_score for class 2:- ',prec_0)\n",
    "rec_0=TP/(TP+FN)\n",
    "print('Recall_score for class 2:- ',rec_0)\n",
    "f1_0=2*prec_0*rec_0/(prec_0+rec_0)\n",
    "print('F1_score for class 2:- ',f1_0)\n",
    "print('..............................................................................................................................')\n",
    "print(classification_report(y_train,pred))"
   ]
  },
  {
   "cell_type": "code",
   "execution_count": null,
   "id": "68ea0ad7-4355-4bb1-b7ff-ca1b9f002103",
   "metadata": {
    "tags": []
   },
   "outputs": [],
   "source": [
    "confusion_matrix(y_test,pred1)"
   ]
  },
  {
   "cell_type": "code",
   "execution_count": null,
   "id": "5585712c-a7eb-44e4-9aac-698136a6c9da",
   "metadata": {
    "tags": []
   },
   "outputs": [],
   "source": [
    "# for class 0\n",
    "TP=18\n",
    "TN=26\n",
    "FN=0\n",
    "FP=1\n",
    "prec_0=TP/(TP+FP)\n",
    "print('Precision_score for class 0:- ',prec_0)\n",
    "rec_0=TP/(TP+FN)\n",
    "print('Recall_score for class 0:- ',rec_0)\n",
    "f1_0=2*prec_0*rec_0/(prec_0+rec_0)\n",
    "print('F1_score for class 0:- ',f1_0)\n",
    "print('..............................................................................................................................')\n",
    "# for class 1\n",
    "TP=16\n",
    "TN=28\n",
    "FN=1\n",
    "FP=0\n",
    "prec_0=TP/(TP+FP)\n",
    "print('Precision_score for class 1:- ',prec_0)\n",
    "rec_0=TP/(TP+FN)\n",
    "print('Recall_score for class 1:- ',rec_0)\n",
    "f1_0=2*prec_0*rec_0/(prec_0+rec_0)\n",
    "print('F1_score for class 1:- ',f1_0)\n",
    "print('..............................................................................................................................')\n",
    "# for class 2\n",
    "TP=10\n",
    "TN=34\n",
    "FN=0\n",
    "FP=0\n",
    "prec_0=TP/(TP+FP)\n",
    "print('Precision_score for class 2:- ',prec_0)\n",
    "rec_0=TP/(TP+FN)\n",
    "print('Recall_score for class 2:- ',rec_0)\n",
    "f1_0=2*prec_0*rec_0/(prec_0+rec_0)\n",
    "print('F1_score for class 2:- ',f1_0)\n",
    "print('..............................................................................................................................')\n",
    "print(classification_report(y_test,pred1))"
   ]
  },
  {
   "cell_type": "markdown",
   "id": "912d0bd6-9917-43ea-8959-5967a6b1147b",
   "metadata": {
    "tags": []
   },
   "source": [
    "### Wine Dataset confusion metrics...."
   ]
  },
  {
   "cell_type": "code",
   "execution_count": null,
   "id": "a6469dd9-ed7e-4a4c-bae3-3fcae63d8b79",
   "metadata": {
    "tags": []
   },
   "outputs": [],
   "source": [
    "from sklearn.datasets import load_wine\n",
    "from sklearn.preprocessing import MinMaxScaler\n",
    "wine=load_wine()\n",
    "X=wine.data\n",
    "y=wine.target\n",
    "X_train,X_test,y_train,y_test=train_test_split(X,y,random_state=1)\n",
    "sc=MinMaxScaler(feature_range=(0,1))\n",
    "X_train_new=sc.fit_transform(X_train)\n",
    "X_test_new=sc.transform(X_test)\n",
    "model=KNeighborsClassifier(n_neighbors=5)\n",
    "model.fit(X_train_new,y_train)\n",
    "pred=model.predict(X_train_new)\n",
    "pred1=model.predict(X_test_new)\n",
    "print(accuracy_score(y_train,pred))\n",
    "print(accuracy_score(y_test,pred1))\n",
    "confusion_matrix(y_train,pred)"
   ]
  },
  {
   "cell_type": "code",
   "execution_count": null,
   "id": "a61ddb49-fb51-4e6f-be64-23cf849b3662",
   "metadata": {
    "tags": []
   },
   "outputs": [],
   "source": [
    "# for class 0\n",
    "TP=41\n",
    "TN=89\n",
    "FN=0\n",
    "FP=1\n",
    "prec_0=TP/(TP+FP)\n",
    "print('Precision_score for class 0:- ',prec_0)\n",
    "rec_0=TP/(TP+FN)\n",
    "print('Recall_score for class 0:- ',rec_0)\n",
    "f1_0=2*prec_0*rec_0/(prec_0+rec_0)\n",
    "print('F1_score for class 0:- ',f1_0)\n",
    "print('..............................................................................................................................')\n",
    "# for class 1\n",
    "TP=51\n",
    "TN=79\n",
    "FN=3\n",
    "FP=0\n",
    "prec_0=TP/(TP+FP)\n",
    "print('Precision_score for class 1:- ',prec_0)\n",
    "rec_0=TP/(TP+FN)\n",
    "print('Recall_score for class 1:- ',rec_0)\n",
    "f1_0=2*prec_0*rec_0/(prec_0+rec_0)\n",
    "print('F1_score for class 1:- ',f1_0)\n",
    "print('..............................................................................................................................')\n",
    "# for class 2\n",
    "TP=38\n",
    "TN=92\n",
    "FN=0\n",
    "FP=2\n",
    "prec_0=TP/(TP+FP)\n",
    "print('Precision_score for class 2:- ',prec_0)\n",
    "rec_0=TP/(TP+FN)\n",
    "print('Recall_score for class 2:- ',rec_0)\n",
    "f1_0=2*prec_0*rec_0/(prec_0+rec_0)\n",
    "print('F1_score for class 2:- ',f1_0)\n",
    "print('..............................................................................................................................')\n",
    "print(classification_report(y_train,pred))"
   ]
  },
  {
   "cell_type": "code",
   "execution_count": null,
   "id": "d33e42a9-b570-4f3c-a1c5-b1ecee9c20a8",
   "metadata": {},
   "outputs": [],
   "source": []
  },
  {
   "cell_type": "code",
   "execution_count": null,
   "id": "17bbcb23-f864-465e-8220-e01d74fdc6b2",
   "metadata": {},
   "outputs": [],
   "source": []
  }
 ],
 "metadata": {
  "kernelspec": {
   "display_name": "Python 3 (ipykernel)",
   "language": "python",
   "name": "python3"
  },
  "language_info": {
   "codemirror_mode": {
    "name": "ipython",
    "version": 3
   },
   "file_extension": ".py",
   "mimetype": "text/x-python",
   "name": "python",
   "nbconvert_exporter": "python",
   "pygments_lexer": "ipython3",
   "version": "3.11.7"
  },
  "widgets": {
   "application/vnd.jupyter.widget-state+json": {
    "state": {},
    "version_major": 2,
    "version_minor": 0
   }
  }
 },
 "nbformat": 4,
 "nbformat_minor": 5
}
