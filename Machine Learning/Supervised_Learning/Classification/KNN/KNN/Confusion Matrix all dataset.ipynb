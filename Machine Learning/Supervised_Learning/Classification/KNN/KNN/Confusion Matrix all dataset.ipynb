{
 "cells": [
  {
   "cell_type": "markdown",
   "id": "2dd74e53-5b3f-470d-84e6-f8a2466ee5cf",
   "metadata": {},
   "source": [
    "### Fruits DataSet"
   ]
  },
  {
   "cell_type": "code",
   "execution_count": null,
   "id": "9691afef-cd3b-4a35-8d3c-64b12f13d744",
   "metadata": {
    "tags": []
   },
   "outputs": [],
   "source": [
    "import pandas as pd\n",
    "from sklearn.neighbors import KNeighborsClassifier\n",
    "from sklearn.metrics import accuracy_score,precision_score,recall_score,f1_score,confusion_matrix,classification_report\n",
    "from sklearn.preprocessing import StandardScaler,MinMaxScaler\n",
    "from sklearn.model_selection import train_test_split\n",
    "from sklearn.preprocessing import LabelEncoder\n",
    "df=pd.read_csv('G:/dataset/classification/fruits.csv')\n",
    "en=LabelEncoder()\n",
    "df.FruitName=en.fit_transform(df.FruitName)\n",
    "X=df.iloc[:,:-1].values\n",
    "y=df.iloc[:,-1].values\n",
    "X_train,X_test,y_train,y_test=train_test_split(X,y,random_state=1)\n",
    "sc=MinMaxScaler(feature_range=(0,1))\n",
    "X_train_new=sc.fit_transform(X_train)\n",
    "X_test_new=sc.transform(X_test)\n",
    "model=KNeighborsClassifier()\n",
    "model.fit(X_train_new,y_train)\n",
    "pred=model.predict(X_train_new)\n",
    "pred1=model.predict(X_test_new)\n",
    "print(accuracy_score(y_train,pred))\n",
    "print(accuracy_score(y_test,pred1))"
   ]
  },
  {
   "cell_type": "code",
   "execution_count": null,
   "id": "f17bacbb-697c-4eb8-a4b6-0c31df9392a8",
   "metadata": {
    "tags": []
   },
   "outputs": [],
   "source": [
    "confusion_matrix(y_train,pred)"
   ]
  },
  {
   "cell_type": "code",
   "execution_count": null,
   "id": "58a3c067-9331-44c1-ad26-4218edc60b10",
   "metadata": {
    "tags": []
   },
   "outputs": [],
   "source": [
    "TN=10   # True Negative for class 0\n",
    "TP=5   # True Positive for class 1\n",
    "FN=0   # False Negative for class 0\n",
    "FP=1   # False Positive for class 1\n",
    "prec_0=TN/(TN+FP)\n",
    "print('Precision_score for class 0(Negative):- ',prec_0)\n",
    "prec_1=TP/(TP+FN)\n",
    "print('Precision_score for class 1(Positive):- ',prec_1)\n",
    "print('........................................................')\n",
    "rec_0=TN/(TN+FN)\n",
    "print('Recall_score for class 0(Negative):- ',rec_0)\n",
    "rec_1=TP/(TP+FP)\n",
    "print('Recall_score for class 1(Positive):- ',rec_1)\n",
    "print('........................................................')\n",
    "f1_0=2*prec_0*rec_0/(prec_0+rec_0)\n",
    "print('F1_score for class 0(Negative):- ',f1_0)\n",
    "f1_1=2*prec_1*rec_1/(prec_1+rec_1)\n",
    "print('F1_score for class 1(Positive):- ',f1_1)\n",
    "print('........................................................')\n",
    "print('Precision_score by inbuilt Function:- ',precision_score(y_train,pred,average=None))\n",
    "print('........................................................')\n",
    "print('Recall_score by inbuilt Function:- ',recall_score(y_train,pred,average=None))\n",
    "print('........................................................')\n",
    "print('F1_score by inbuilt Function:- ',f1_score(y_train,pred,average=None))\n",
    "print('........................................................')\n",
    "print('Classification Report:-\\n',classification_report(y_train,pred),sep='')"
   ]
  },
  {
   "cell_type": "code",
   "execution_count": null,
   "id": "51a1c58b-39d2-45e4-91a9-479494966729",
   "metadata": {
    "tags": []
   },
   "outputs": [],
   "source": [
    "confusion_matrix(y_test,pred1)"
   ]
  },
  {
   "cell_type": "code",
   "execution_count": null,
   "id": "ad9a3087-f64e-46ef-a3a6-fd7e80de008b",
   "metadata": {
    "tags": []
   },
   "outputs": [],
   "source": [
    "TN=2   # True Negative for class 0\n",
    "TP=4   # True Positive for class 1\n",
    "FN=0   # False Negative for class 0\n",
    "FP=0   # False Positive for class 1\n",
    "prec_0=TN/(TN+FP)\n",
    "print('Precision_score for class 0(Negative):- ',prec_0)\n",
    "prec_1=TP/(TP+FN)\n",
    "print('Precision_score for class 1(Positive):- ',prec_1)\n",
    "print('........................................................')\n",
    "rec_0=TN/(TN+FN)\n",
    "print('Recall_score for class 0(Negative):- ',rec_0)\n",
    "rec_1=TP/(TP+FP)\n",
    "print('Recall_score for class 1(Positive):- ',rec_1)\n",
    "print('........................................................')\n",
    "f1_0=2*prec_0*rec_0/(prec_0+rec_0)\n",
    "print('F1_score for class 0(Negative):- ',f1_0)\n",
    "f1_1=2*prec_1*rec_1/(prec_1+rec_1)\n",
    "print('F1_score for class 1(Positive):- ',f1_1)\n",
    "print('........................................................')\n",
    "print('Precision_score by inbuilt Function:- ',precision_score(y_test,pred1,average=None))\n",
    "print('........................................................')\n",
    "print('Recall_score by inbuilt Function:- ',recall_score(y_test,pred1,average=None))\n",
    "print('........................................................')\n",
    "print('F1_score by inbuilt Function:- ',f1_score(y_test,pred1,average=None))\n",
    "print('........................................................')\n",
    "print('Classification Report:-\\n',classification_report(y_test,pred1),sep='')"
   ]
  },
  {
   "cell_type": "markdown",
   "id": "73dfeb3c-a1e3-4b95-979b-41a820f0b474",
   "metadata": {},
   "source": [
    "### Online Shop DataSet"
   ]
  },
  {
   "cell_type": "code",
   "execution_count": null,
   "id": "a3494061-906c-45b9-aec4-8389ebe8948f",
   "metadata": {
    "tags": []
   },
   "outputs": [],
   "source": [
    "import pandas as pd\n",
    "from sklearn.neighbors import KNeighborsClassifier\n",
    "from sklearn.metrics import accuracy_score,precision_score,recall_score,f1_score,confusion_matrix,classification_report\n",
    "from sklearn.preprocessing import StandardScaler,MinMaxScaler\n",
    "from sklearn.model_selection import train_test_split\n",
    "from sklearn.preprocessing import LabelEncoder\n",
    "df=pd.read_csv('G:/dataset/classification/online_shop.csv')\n",
    "en=LabelEncoder()\n",
    "df.Gender=en.fit_transform(df.Gender)\n",
    "X=df.iloc[:,:-1].values\n",
    "y=df.iloc[:,-1].values\n",
    "X_train,X_test,y_train,y_test=train_test_split(X,y,random_state=1)\n",
    "sc=MinMaxScaler(feature_range=(0,1))\n",
    "X_train_new=sc.fit_transform(X_train)\n",
    "X_test_new=sc.transform(X_test)\n",
    "model=KNeighborsClassifier()\n",
    "model.fit(X_train_new,y_train)\n",
    "pred=model.predict(X_train_new)\n",
    "pred1=model.predict(X_test_new)\n",
    "print(accuracy_score(y_train,pred))\n",
    "print(accuracy_score(y_test,pred1))"
   ]
  },
  {
   "cell_type": "code",
   "execution_count": null,
   "id": "a03f6d14-4229-416b-8de9-e2705082b6a8",
   "metadata": {
    "tags": []
   },
   "outputs": [],
   "source": [
    "confusion_matrix(y_train,pred)"
   ]
  },
  {
   "cell_type": "code",
   "execution_count": null,
   "id": "7d7b30c3-e7ed-4ddf-9f5f-ffcfe9c4d5ff",
   "metadata": {
    "tags": []
   },
   "outputs": [],
   "source": [
    "TN=189   # True Negative for class 0\n",
    "TP=91   # True Positive for class 1\n",
    "FN=10   # False Negative for class 0\n",
    "FP=10   # False Positive for class 1\n",
    "prec_0=TN/(TN+FP)\n",
    "print('Precision_score for class 0(Negative):- ',prec_0)\n",
    "prec_1=TP/(TP+FN)\n",
    "print('Precision_score for class 1(Positive):- ',prec_1)\n",
    "print('........................................................')\n",
    "rec_0=TN/(TN+FN)\n",
    "print('Recall_score for class 0(Negative):- ',rec_0)\n",
    "rec_1=TP/(TP+FP)\n",
    "print('Recall_score for class 1(Positive):- ',rec_1)\n",
    "print('........................................................')\n",
    "f1_0=2*prec_0*rec_0/(prec_0+rec_0)\n",
    "print('F1_score for class 0(Negative):- ',f1_0)\n",
    "f1_1=2*prec_1*rec_1/(prec_1+rec_1)\n",
    "print('F1_score for class 1(Positive):- ',f1_1)\n",
    "print('........................................................')\n",
    "print('Precision_score by inbuilt Function:- ',precision_score(y_train,pred,average=None))\n",
    "print('........................................................')\n",
    "print('Recall_score by inbuilt Function:- ',recall_score(y_train,pred,average=None))\n",
    "print('........................................................')\n",
    "print('F1_score by inbuilt Function:- ',f1_score(y_train,pred,average=None))\n",
    "print('........................................................')\n",
    "print('Classification Report:-\\n',classification_report(y_train,pred),sep='')"
   ]
  },
  {
   "cell_type": "code",
   "execution_count": null,
   "id": "ac03dd7d-dc84-4b6b-8041-7ad9e9b6f2eb",
   "metadata": {
    "tags": []
   },
   "outputs": [],
   "source": [
    "confusion_matrix(y_test,pred1)"
   ]
  },
  {
   "cell_type": "code",
   "execution_count": null,
   "id": "d88f3b1d-8a60-4c82-a100-dc083e888aaa",
   "metadata": {
    "tags": []
   },
   "outputs": [],
   "source": [
    "TN=49   # True Negative for class 0\n",
    "TP=38   # True Positive for class 1\n",
    "FN=9   # False Negative for class 0\n",
    "FP=4  # False Positive for class 1\n",
    "prec_0=TN/(TN+FP)\n",
    "print('Precision_score for class 0(Negative):- ',prec_0)\n",
    "prec_1=TP/(TP+FN)\n",
    "print('Precision_score for class 1(Positive):- ',prec_1)\n",
    "print('........................................................')\n",
    "rec_0=TN/(TN+FN)\n",
    "print('Recall_score for class 0(Negative):- ',rec_0)\n",
    "rec_1=TP/(TP+FP)\n",
    "print('Recall_score for class 1(Positive):- ',rec_1)\n",
    "print('........................................................')\n",
    "f1_0=2*prec_0*rec_0/(prec_0+rec_0)\n",
    "print('F1_score for class 0(Negative):- ',f1_0)\n",
    "f1_1=2*prec_1*rec_1/(prec_1+rec_1)\n",
    "print('F1_score for class 1(Positive):- ',f1_1)\n",
    "print('........................................................')\n",
    "print('Precision_score by inbuilt Function:- ',precision_score(y_test,pred1,average=None))\n",
    "print('........................................................')\n",
    "print('Recall_score by inbuilt Function:- ',recall_score(y_test,pred1,average=None))\n",
    "print('........................................................')\n",
    "print('F1_score by inbuilt Function:- ',f1_score(y_test,pred1,average=None))\n",
    "print('........................................................')\n",
    "print('Classification Report:-\\n',classification_report(y_test,pred1),sep='')"
   ]
  },
  {
   "cell_type": "markdown",
   "id": "797dc9b1-eca0-468c-80a3-560f6d938fca",
   "metadata": {},
   "source": [
    "### Breast Cancer DataSet"
   ]
  },
  {
   "cell_type": "code",
   "execution_count": null,
   "id": "90d31eb0-425a-4268-8aca-6f8d1fd26a18",
   "metadata": {
    "tags": []
   },
   "outputs": [],
   "source": [
    "from sklearn.neighbors import KNeighborsClassifier\n",
    "from sklearn.metrics import accuracy_score,precision_score,recall_score,f1_score,confusion_matrix,classification_report\n",
    "from sklearn.preprocessing import StandardScaler,MinMaxScaler\n",
    "from sklearn.model_selection import train_test_split\n",
    "from sklearn.preprocessing import LabelEncoder\n",
    "from sklearn.datasets import load_breast_cancer\n",
    "from sklearn.feature_selection import SelectKBest,f_classif"
   ]
  },
  {
   "cell_type": "code",
   "execution_count": null,
   "id": "abedc382-c405-4fd3-95ae-39daa471b3a7",
   "metadata": {
    "tags": []
   },
   "outputs": [],
   "source": [
    "cancer=load_breast_cancer()\n",
    "X=cancer.data\n",
    "y=cancer.target\n",
    "skb=SelectKBest(score_func=f_classif,k=27)\n",
    "X1=skb.fit_transform(X,y)\n",
    "X_train,X_test,y_train,y_test=train_test_split(X1,y,random_state=1)\n",
    "sc=StandardScaler()\n",
    "X_train_new=sc.fit_transform(X_train)\n",
    "X_test_new=sc.transform(X_test)\n",
    "model=KNeighborsClassifier(n_neighbors=6)\n",
    "model.fit(X_train_new,y_train)\n",
    "pred=model.predict(X_train_new)\n",
    "pred1=model.predict(X_test_new)\n",
    "print(accuracy_score(pred,y_train))\n",
    "print(accuracy_score(pred1,y_test))"
   ]
  },
  {
   "cell_type": "code",
   "execution_count": null,
   "id": "2a131fd8-b6b0-451c-8879-4d518bc50e00",
   "metadata": {
    "tags": []
   },
   "outputs": [],
   "source": [
    "confusion_matrix(y_train,pred)"
   ]
  },
  {
   "cell_type": "code",
   "execution_count": null,
   "id": "653ac1ea-ef12-449a-ab57-5872124ba2ce",
   "metadata": {
    "tags": []
   },
   "outputs": [],
   "source": [
    "TN=151   # True Negative for class 0\n",
    "TP=266   # True Positive for class 1\n",
    "FN=6   # False Negative for class 0\n",
    "FP=3   # False Positive for class 1\n",
    "prec_0=TN/(TN+FP)\n",
    "print('Precision_score for class 0(Negative):- ',prec_0)\n",
    "prec_1=TP/(TP+FN)\n",
    "print('Precision_score for class 1(Positive):- ',prec_1)\n",
    "print('........................................................')\n",
    "rec_0=TN/(TN+FN)\n",
    "print('Recall_score for class 0(Negative):- ',rec_0)\n",
    "rec_1=TP/(TP+FP)\n",
    "print('Recall_score for class 1(Positive):- ',rec_1)\n",
    "print('........................................................')\n",
    "f1_0=2*prec_0*rec_0/(prec_0+rec_0)\n",
    "print('F1_score for class 0(Negative):- ',f1_0)\n",
    "f1_1=2*prec_1*rec_1/(prec_1+rec_1)\n",
    "print('F1_score for class 1(Positive):- ',f1_1)\n",
    "print('........................................................')\n",
    "print('Precision_score by inbuilt Function:- ',precision_score(y_train,pred,average=None))\n",
    "print('........................................................')\n",
    "print('Recall_score by inbuilt Function:- ',recall_score(y_train,pred,average=None))\n",
    "print('........................................................')\n",
    "print('F1_score by inbuilt Function:- ',f1_score(y_train,pred,average=None))\n",
    "print('........................................................')\n",
    "print('Classification Report:-\\n',classification_report(y_train,pred),sep='')"
   ]
  },
  {
   "cell_type": "code",
   "execution_count": null,
   "id": "c63f6101-cf35-45df-8297-0b6e1fb71931",
   "metadata": {
    "tags": []
   },
   "outputs": [],
   "source": [
    "confusion_matrix(y_test,pred1)"
   ]
  },
  {
   "cell_type": "code",
   "execution_count": null,
   "id": "567031d0-d135-4f5a-acbb-ff8d418adb96",
   "metadata": {
    "tags": []
   },
   "outputs": [],
   "source": [
    "TN=50   # True Negative for class 0\n",
    "TP=88   # True Positive for class 1\n",
    "FN=5   # False Negative for class 0\n",
    "FP=0  # False Positive for class 1\n",
    "prec_0=TN/(TN+FP)\n",
    "print('Precision_score for class 0(Negative):- ',prec_0)\n",
    "prec_1=TP/(TP+FN)\n",
    "print('Precision_score for class 1(Positive):- ',prec_1)\n",
    "print('........................................................')\n",
    "rec_0=TN/(TN+FN)\n",
    "print('Recall_score for class 0(Negative):- ',rec_0)\n",
    "rec_1=TP/(TP+FP)\n",
    "print('Recall_score for class 1(Positive):- ',rec_1)\n",
    "print('........................................................')\n",
    "f1_0=2*prec_0*rec_0/(prec_0+rec_0)\n",
    "print('F1_score for class 0(Negative):- ',f1_0)\n",
    "f1_1=2*prec_1*rec_1/(prec_1+rec_1)\n",
    "print('F1_score for class 1(Positive):- ',f1_1)\n",
    "print('........................................................')\n",
    "print('Precision_score by inbuilt Function:- ',precision_score(y_test,pred1,average=None))\n",
    "print('........................................................')\n",
    "print('Recall_score by inbuilt Function:- ',recall_score(y_test,pred1,average=None))\n",
    "print('........................................................')\n",
    "print('F1_score by inbuilt Function:- ',f1_score(y_test,pred1,average=None))\n",
    "print('........................................................')\n",
    "print('Classification Report:-\\n',classification_report(y_test,pred1),sep='')"
   ]
  },
  {
   "cell_type": "markdown",
   "id": "07ebe1b6-1f47-41de-8855-cfe84c810ad5",
   "metadata": {},
   "source": [
    "### Credit Card DataSet"
   ]
  },
  {
   "cell_type": "code",
   "execution_count": null,
   "id": "02a89a4f-e4be-46a2-b13e-44c9585a58cf",
   "metadata": {
    "tags": []
   },
   "outputs": [],
   "source": [
    "import pandas as pd\n",
    "from sklearn.neighbors import KNeighborsClassifier\n",
    "from sklearn.preprocessing import MinMaxScaler,StandardScaler\n",
    "from sklearn.model_selection import train_test_split\n",
    "from sklearn.metrics import accuracy_score,confusion_matrix,precision_score,recall_score,f1_score,classification_report\n",
    "from sklearn.model_selection import cross_val_score\n",
    "from imblearn.over_sampling import SMOTE"
   ]
  },
  {
   "cell_type": "code",
   "execution_count": null,
   "id": "e60029c5-8e3c-4630-be69-49fb40940b28",
   "metadata": {
    "tags": []
   },
   "outputs": [],
   "source": [
    "df=pd.read_excel('G:/dataset/classification/creditcard_copy.xlsx')"
   ]
  },
  {
   "cell_type": "code",
   "execution_count": null,
   "id": "79588ebd-8569-41e7-b40f-c55eb0f5108f",
   "metadata": {
    "tags": []
   },
   "outputs": [],
   "source": [
    "X=df.iloc[:,1:-2].values\n",
    "y=df.iloc[:,-1].values\n",
    "sm=SMOTE()\n",
    "X1,y1=sm.fit_resample(X,y)\n",
    "X_train,X_test,y_train,y_test=train_test_split(X1,y1,random_state=1)\n",
    "sc=StandardScaler()\n",
    "X_train_new=sc.fit_transform(X_train)\n",
    "X_test_new=sc.transform(X_test)\n",
    "model=KNeighborsClassifier()\n",
    "model.fit(X_train_new,y_train)\n",
    "pred=model.predict(X_train_new)\n",
    "pred1=model.predict(X_test_new)\n",
    "print(accuracy_score(y_train,pred))\n",
    "print(accuracy_score(y_test,pred1))"
   ]
  },
  {
   "cell_type": "code",
   "execution_count": null,
   "id": "a4ed79b5-c645-476d-807d-6bc8d68897b4",
   "metadata": {
    "tags": []
   },
   "outputs": [],
   "source": [
    "confusion_matrix(y_train,pred)"
   ]
  },
  {
   "cell_type": "code",
   "execution_count": null,
   "id": "7e178a6f-0230-46b8-bc6e-9a884420e37a",
   "metadata": {
    "tags": []
   },
   "outputs": [],
   "source": [
    "TN=3379   # True Negative for class 0\n",
    "TP=3419   # True Positive for class 1\n",
    "FN=70   # False Negative for class 0\n",
    "FP=11   # False Positive for class 1\n",
    "prec_0=TN/(TN+FP)\n",
    "print('Precision_score for class 0(Negative):- ',prec_0)\n",
    "prec_1=TP/(TP+FN)\n",
    "print('Precision_score for class 1(Positive):- ',prec_1)\n",
    "print('........................................................')\n",
    "rec_0=TN/(TN+FN)\n",
    "print('Recall_score for class 0(Negative):- ',rec_0)\n",
    "rec_1=TP/(TP+FP)\n",
    "print('Recall_score for class 1(Positive):- ',rec_1)\n",
    "print('........................................................')\n",
    "f1_0=2*prec_0*rec_0/(prec_0+rec_0)\n",
    "print('F1_score for class 0(Negative):- ',f1_0)\n",
    "f1_1=2*prec_1*rec_1/(prec_1+rec_1)\n",
    "print('F1_score for class 1(Positive):- ',f1_1)\n",
    "print('........................................................')\n",
    "print('Precision_score by inbuilt Function:- ',precision_score(y_train,pred,average=None))\n",
    "print('........................................................')\n",
    "print('Recall_score by inbuilt Function:- ',recall_score(y_train,pred,average=None))\n",
    "print('........................................................')\n",
    "print('F1_score by inbuilt Function:- ',f1_score(y_train,pred,average=None))\n",
    "print('........................................................')\n",
    "print('Classification Report:-\\n',classification_report(y_train,pred),sep='')"
   ]
  },
  {
   "cell_type": "code",
   "execution_count": null,
   "id": "593fc3d6-fe7c-4e0f-9261-673b30db62da",
   "metadata": {
    "tags": []
   },
   "outputs": [],
   "source": [
    "confusion_matrix(y_test,pred1)"
   ]
  },
  {
   "cell_type": "code",
   "execution_count": null,
   "id": "223ee99b-d0f0-484a-b1ce-117b75a1f8cf",
   "metadata": {
    "tags": []
   },
   "outputs": [],
   "source": [
    "TN=1116   # True Negative for class 0\n",
    "TP=1153   # True Positive for class 1\n",
    "FN=21   # False Negative for class 0\n",
    "FP=3  # False Positive for class 1\n",
    "prec_0=TN/(TN+FP)\n",
    "print('Precision_score for class 0(Negative):- ',prec_0)\n",
    "prec_1=TP/(TP+FN)\n",
    "print('Precision_score for class 1(Positive):- ',prec_1)\n",
    "print('........................................................')\n",
    "rec_0=TN/(TN+FN)\n",
    "print('Recall_score for class 0(Negative):- ',rec_0)\n",
    "rec_1=TP/(TP+FP)\n",
    "print('Recall_score for class 1(Positive):- ',rec_1)\n",
    "print('........................................................')\n",
    "f1_0=2*prec_0*rec_0/(prec_0+rec_0)\n",
    "print('F1_score for class 0(Negative):- ',f1_0)\n",
    "f1_1=2*prec_1*rec_1/(prec_1+rec_1)\n",
    "print('F1_score for class 1(Positive):- ',f1_1)\n",
    "print('........................................................')\n",
    "print('Precision_score by inbuilt Function:- ',precision_score(y_test,pred1,average=None))\n",
    "print('........................................................')\n",
    "print('Recall_score by inbuilt Function:- ',recall_score(y_test,pred1,average=None))\n",
    "print('........................................................')\n",
    "print('F1_score by inbuilt Function:- ',f1_score(y_test,pred1,average=None))\n",
    "print('........................................................')\n",
    "print('Classification Report:-\\n',classification_report(y_test,pred1),sep='')"
   ]
  },
  {
   "cell_type": "code",
   "execution_count": null,
   "id": "6bd81b4b-d8ea-45ff-8cba-640ddc0338b2",
   "metadata": {
    "tags": []
   },
   "outputs": [],
   "source": [
    "### without using SMOTE"
   ]
  },
  {
   "cell_type": "code",
   "execution_count": null,
   "id": "3da81b13-1d23-40aa-9bd2-514df63a22d9",
   "metadata": {
    "tags": []
   },
   "outputs": [],
   "source": [
    "import pandas as pd\n",
    "from sklearn.neighbors import KNeighborsClassifier\n",
    "from sklearn.preprocessing import MinMaxScaler,StandardScaler\n",
    "from sklearn.model_selection import train_test_split\n",
    "from sklearn.metrics import accuracy_score,confusion_matrix,precision_score,recall_score,f1_score,classification_report\n",
    "from sklearn.model_selection import cross_val_score"
   ]
  },
  {
   "cell_type": "code",
   "execution_count": null,
   "id": "8317d2ff-0cef-41bd-8b3a-419d38539e25",
   "metadata": {
    "tags": []
   },
   "outputs": [],
   "source": [
    "df=pd.read_excel('G:/dataset/classification/creditcard_copy.xlsx')\n",
    "X=df.iloc[:,1:-2].values\n",
    "y=df.iloc[:,-1].values"
   ]
  },
  {
   "cell_type": "code",
   "execution_count": null,
   "id": "780fe6e8-0723-4353-9a08-ef7f6998ccdf",
   "metadata": {
    "tags": []
   },
   "outputs": [],
   "source": [
    "X_train,X_test,y_train,y_test=train_test_split(X,y,random_state=1)\n",
    "sc=StandardScaler()\n",
    "X_train_new=sc.fit_transform(X_train)\n",
    "X_test_new=sc.transform(X_test)\n",
    "model=KNeighborsClassifier()\n",
    "model.fit(X_train_new,y_train)\n",
    "pred=model.predict(X_train_new)\n",
    "pred1=model.predict(X_test_new)\n",
    "print(accuracy_score(y_train,pred))\n",
    "print(accuracy_score(y_test,pred1))"
   ]
  },
  {
   "cell_type": "code",
   "execution_count": null,
   "id": "bcd3139b-6819-4c47-85fa-27ab65de25d8",
   "metadata": {
    "tags": []
   },
   "outputs": [],
   "source": [
    "confusion_matrix(y_train,pred)"
   ]
  },
  {
   "cell_type": "code",
   "execution_count": null,
   "id": "21f621db-ac5f-406f-849e-a5c6066c8713",
   "metadata": {
    "tags": []
   },
   "outputs": [],
   "source": [
    "TN=3419   # True Negative for class 0\n",
    "TP=325   # True Positive for class 1\n",
    "FN=5   # False Negative for class 0\n",
    "FP=59   # False Positive for class 1\n",
    "prec_0=TN/(TN+FP)\n",
    "print('Precision_score for class 0(Negative):- ',prec_0)\n",
    "prec_1=TP/(TP+FN)\n",
    "print('Precision_score for class 1(Positive):- ',prec_1)\n",
    "print('........................................................')\n",
    "rec_0=TN/(TN+FN)\n",
    "print('Recall_score for class 0(Negative):- ',rec_0)\n",
    "rec_1=TP/(TP+FP)\n",
    "print('Recall_score for class 1(Positive):- ',rec_1)\n",
    "print('........................................................')\n",
    "f1_0=2*prec_0*rec_0/(prec_0+rec_0)\n",
    "print('F1_score for class 0(Negative):- ',f1_0)\n",
    "f1_1=2*prec_1*rec_1/(prec_1+rec_1)\n",
    "print('F1_score for class 1(Positive):- ',f1_1)\n",
    "print('........................................................')\n",
    "print('Precision_score by inbuilt Function:- ',precision_score(y_train,pred,average=None))\n",
    "print('........................................................')\n",
    "print('Recall_score by inbuilt Function:- ',recall_score(y_train,pred,average=None))\n",
    "print('........................................................')\n",
    "print('F1_score by inbuilt Function:- ',f1_score(y_train,pred,average=None))\n",
    "print('........................................................')\n",
    "print('Classification Report:-\\n',classification_report(y_train,pred),sep='')"
   ]
  },
  {
   "cell_type": "code",
   "execution_count": null,
   "id": "56430f6a-eb48-4d5f-bb15-1ddb8f11e1f1",
   "metadata": {
    "tags": []
   },
   "outputs": [],
   "source": [
    "confusion_matrix(y_test,pred1)"
   ]
  },
  {
   "cell_type": "code",
   "execution_count": null,
   "id": "9dc1fd01-11d2-4e8b-9c8c-67598940cbce",
   "metadata": {
    "tags": []
   },
   "outputs": [],
   "source": [
    "TN=1159   # True Negative for class 0\n",
    "TP=97   # True Positive for class 1\n",
    "FN=3   # False Negative for class 0\n",
    "FP=11  # False Positive for class 1\n",
    "prec_0=TN/(TN+FP)\n",
    "print('Precision_score for class 0(Negative):- ',prec_0)\n",
    "prec_1=TP/(TP+FN)\n",
    "print('Precision_score for class 1(Positive):- ',prec_1)\n",
    "print('........................................................')\n",
    "rec_0=TN/(TN+FN)\n",
    "print('Recall_score for class 0(Negative):- ',rec_0)\n",
    "rec_1=TP/(TP+FP)\n",
    "print('Recall_score for class 1(Positive):- ',rec_1)\n",
    "print('........................................................')\n",
    "f1_0=2*prec_0*rec_0/(prec_0+rec_0)\n",
    "print('F1_score for class 0(Negative):- ',f1_0)\n",
    "f1_1=2*prec_1*rec_1/(prec_1+rec_1)\n",
    "print('F1_score for class 1(Positive):- ',f1_1)\n",
    "print('........................................................')\n",
    "print('Precision_score by inbuilt Function:- ',precision_score(y_test,pred1,average=None))\n",
    "print('........................................................')\n",
    "print('Recall_score by inbuilt Function:- ',recall_score(y_test,pred1,average=None))\n",
    "print('........................................................')\n",
    "print('F1_score by inbuilt Function:- ',f1_score(y_test,pred1,average=None))\n",
    "print('........................................................')\n",
    "print('Classification Report:-\\n',classification_report(y_test,pred1),sep='')"
   ]
  },
  {
   "cell_type": "code",
   "execution_count": null,
   "id": "5dcef5c6-ab5f-4381-bee3-ffab5e8b12bd",
   "metadata": {},
   "outputs": [],
   "source": []
  }
 ],
 "metadata": {
  "kernelspec": {
   "display_name": "Python 3 (ipykernel)",
   "language": "python",
   "name": "python3"
  },
  "language_info": {
   "codemirror_mode": {
    "name": "ipython",
    "version": 3
   },
   "file_extension": ".py",
   "mimetype": "text/x-python",
   "name": "python",
   "nbconvert_exporter": "python",
   "pygments_lexer": "ipython3",
   "version": "3.11.7"
  },
  "widgets": {
   "application/vnd.jupyter.widget-state+json": {
    "state": {},
    "version_major": 2,
    "version_minor": 0
   }
  }
 },
 "nbformat": 4,
 "nbformat_minor": 5
}
