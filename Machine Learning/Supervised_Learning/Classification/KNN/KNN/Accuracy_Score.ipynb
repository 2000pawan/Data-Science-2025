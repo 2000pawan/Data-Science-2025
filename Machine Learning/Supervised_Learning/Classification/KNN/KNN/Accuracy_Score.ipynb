{
 "cells": [
  {
   "cell_type": "code",
   "execution_count": null,
   "id": "a3d676eb-d7da-4509-8664-1210c6cbb041",
   "metadata": {
    "tags": []
   },
   "outputs": [],
   "source": [
    "from sklearn.neighbors import KNeighborsClassifier\n",
    "import pandas as pd\n",
    "df=pd.read_csv('G:/dataset/classification/fruits.csv')\n",
    "X=df.iloc[:,:-1].values  #feature matrix\n",
    "y=df.iloc[:,-1].values   #target matrix or series\n",
    "model=KNeighborsClassifier()\n",
    "model.fit(X,y)  #Training data\n",
    "#Model predict own feature\n",
    "pred=model.predict(X)\n",
    "# before removing outlier the accuracy_score\n",
    "#accuracy_score(true_output,pred_output)\n",
    "from sklearn.metrics import accuracy_score\n",
    "accuracy_score(y,pred)"
   ]
  },
  {
   "cell_type": "code",
   "execution_count": null,
   "id": "ced54769-870c-4f67-8aae-0e1b5c719aa2",
   "metadata": {
    "tags": []
   },
   "outputs": [],
   "source": [
    "#check outliers \n",
    "import matplotlib.pyplot as plt\n",
    "import seaborn as sb\n",
    "sb.scatterplot(x=df.diameter,y=df.weight,hue=df.FruitName)\n",
    "plt.show()"
   ]
  },
  {
   "cell_type": "code",
   "execution_count": null,
   "id": "1969e6ea-fb52-4c49-a993-4631284b64c6",
   "metadata": {
    "tags": []
   },
   "outputs": [],
   "source": [
    "#After removing outliers\n",
    "df=pd.read_csv('G:/dataset/classification/fruits.csv')\n",
    "df.drop(5,inplace=True)\n",
    "X=df.iloc[:,:-1].values  #feature matrix\n",
    "y=df.iloc[:,-1].values   #target matrix or series\n",
    "model=KNeighborsClassifier()\n",
    "model.fit(X,y)  #Training data\n",
    "print(model.predict([[7.5,120]]))\n",
    "pred=model.predict(X)\n",
    "accuracy_score(y,pred)"
   ]
  },
  {
   "cell_type": "code",
   "execution_count": null,
   "id": "7638e2c1-6121-4054-b2a5-6c0ddf8036ce",
   "metadata": {
    "tags": []
   },
   "outputs": [],
   "source": [
    "sb.scatterplot(x=df.diameter,y=df.weight,hue=df.FruitName)\n",
    "plt.show()"
   ]
  },
  {
   "cell_type": "code",
   "execution_count": null,
   "id": "7cabb389-93e1-4754-9b63-486758508a7c",
   "metadata": {},
   "outputs": [],
   "source": []
  }
 ],
 "metadata": {
  "kernelspec": {
   "display_name": "Python 3 (ipykernel)",
   "language": "python",
   "name": "python3"
  },
  "language_info": {
   "codemirror_mode": {
    "name": "ipython",
    "version": 3
   },
   "file_extension": ".py",
   "mimetype": "text/x-python",
   "name": "python",
   "nbconvert_exporter": "python",
   "pygments_lexer": "ipython3",
   "version": "3.11.7"
  },
  "widgets": {
   "application/vnd.jupyter.widget-state+json": {
    "state": {},
    "version_major": 2,
    "version_minor": 0
   }
  }
 },
 "nbformat": 4,
 "nbformat_minor": 5
}
