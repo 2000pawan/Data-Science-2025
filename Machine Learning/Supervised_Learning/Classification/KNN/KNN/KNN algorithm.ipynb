{
 "cells": [
  {
   "cell_type": "code",
   "execution_count": null,
   "id": "4b4c67f2-7afe-4019-bf1b-f9277d380476",
   "metadata": {
    "tags": []
   },
   "outputs": [],
   "source": [
    "import pandas as pd\n",
    "df=pd.read_csv(\"G:/dataset/classification/fruits.csv\")\n",
    "print(df.head(6))\n",
    "print('..................................')\n",
    "print(df.tail())"
   ]
  },
  {
   "cell_type": "code",
   "execution_count": null,
   "id": "2a1c1331-c890-4847-a88f-3f594b866202",
   "metadata": {
    "tags": []
   },
   "outputs": [],
   "source": [
    "df_feature=df.iloc[:,:-1]\n",
    "series_target=df.iloc[:,-1]"
   ]
  },
  {
   "cell_type": "code",
   "execution_count": null,
   "id": "e0dfcd0d-7e3e-4a0c-ad72-0b564c6bbc55",
   "metadata": {
    "tags": []
   },
   "outputs": [],
   "source": [
    "X=df_feature.values\n",
    "y=series_target.values"
   ]
  },
  {
   "cell_type": "code",
   "execution_count": null,
   "id": "621fe0de-b068-47e5-bcac-b58a52459f78",
   "metadata": {
    "tags": []
   },
   "outputs": [],
   "source": [
    "from sklearn.neighbors import KNeighborsClassifier\n",
    "model=KNeighborsClassifier()"
   ]
  },
  {
   "cell_type": "code",
   "execution_count": null,
   "id": "e26e9473-e069-4dd9-aa6e-dd17b07f7e1a",
   "metadata": {
    "tags": []
   },
   "outputs": [],
   "source": [
    "model.fit(X,y)"
   ]
  },
  {
   "cell_type": "code",
   "execution_count": null,
   "id": "51971a1a-0f96-4f08-925f-c9e2a5477100",
   "metadata": {
    "tags": []
   },
   "outputs": [],
   "source": [
    "a=[3,25]\n",
    "b=[6,80]"
   ]
  },
  {
   "cell_type": "code",
   "execution_count": null,
   "id": "1be8466e-9f1a-4964-9814-e8ddf942f6fa",
   "metadata": {
    "tags": []
   },
   "outputs": [],
   "source": [
    "model.predict([a,b])"
   ]
  },
  {
   "cell_type": "code",
   "execution_count": null,
   "id": "3b2ecfa1-5b34-4ade-8175-fd11ae777040",
   "metadata": {
    "tags": []
   },
   "outputs": [],
   "source": [
    "from sklearn.neighbors import KNeighborsClassifier\n",
    "import pandas as pd\n",
    "df=pd.read_csv('G:/dataset/classification/fruits.csv')\n",
    "X=df.iloc[:,:-1].values  #feature matrix\n",
    "y=df.iloc[:,-1].values   #target matrix or series\n",
    "model=KNeighborsClassifier()\n",
    "model.fit(X,y)  #Training data\n",
    "for i in range(1,4):\n",
    "    #model predicts\n",
    "    print(model.predict([[eval(input('Enter diameter of fruits:-')),int(input('Enter weights of fruits:-'))]]))"
   ]
  },
  {
   "cell_type": "code",
   "execution_count": null,
   "id": "a431446f-f8c0-4d0f-bfbf-f15b6db5c592",
   "metadata": {
    "tags": []
   },
   "outputs": [],
   "source": [
    "#Model predict own feature\n",
    "pred=model.predict(X)"
   ]
  },
  {
   "cell_type": "code",
   "execution_count": null,
   "id": "921f0802-82bc-437d-aca9-5880635bc4b5",
   "metadata": {
    "tags": []
   },
   "outputs": [],
   "source": [
    "# before removing outlier the accuracy_score\n",
    "#accuracy_score(true_output,pred_output)\n",
    "from sklearn.metrics import accuracy_score\n",
    "accuracy_score(y,pred)"
   ]
  },
  {
   "cell_type": "code",
   "execution_count": null,
   "id": "7048a991-e1e8-4491-a6af-3de9819ec140",
   "metadata": {
    "tags": []
   },
   "outputs": [],
   "source": [
    "#check outliers \n",
    "import matplotlib.pyplot as plt\n",
    "import seaborn as sb\n",
    "sb.scatterplot(x=df.diameter,y=df.weight,hue=df.FruitName)\n",
    "plt.show()"
   ]
  },
  {
   "cell_type": "code",
   "execution_count": null,
   "id": "3ab3f6ac-161c-47d4-8d6a-06366be683c2",
   "metadata": {
    "tags": []
   },
   "outputs": [],
   "source": [
    "#After removing outliers\n",
    "df=pd.read_csv('G:/dataset/classification/fruits.csv')\n",
    "df.drop(5,inplace=True)\n",
    "X=df.iloc[:,:-1].values  #feature matrix\n",
    "y=df.iloc[:,-1].values   #target matrix or series\n",
    "model=KNeighborsClassifier()\n",
    "model.fit(X,y)  #Training data\n",
    "print(model.predict([[7.5,120]]))\n",
    "pred=model.predict(X)\n",
    "accuracy_score(y,pred)"
   ]
  },
  {
   "cell_type": "code",
   "execution_count": null,
   "id": "6f5cbc09-7ed4-472f-800b-b42bffecd424",
   "metadata": {
    "tags": []
   },
   "outputs": [],
   "source": [
    "sb.scatterplot(x=df.diameter,y=df.weight,hue=df.FruitName)\n",
    "plt.show()"
   ]
  },
  {
   "cell_type": "code",
   "execution_count": null,
   "id": "15e17957-e67d-4bbc-bcff-2acbe63a72fd",
   "metadata": {},
   "outputs": [],
   "source": []
  }
 ],
 "metadata": {
  "kernelspec": {
   "display_name": "Python 3 (ipykernel)",
   "language": "python",
   "name": "python3"
  },
  "language_info": {
   "codemirror_mode": {
    "name": "ipython",
    "version": 3
   },
   "file_extension": ".py",
   "mimetype": "text/x-python",
   "name": "python",
   "nbconvert_exporter": "python",
   "pygments_lexer": "ipython3",
   "version": "3.11.7"
  },
  "widgets": {
   "application/vnd.jupyter.widget-state+json": {
    "state": {},
    "version_major": 2,
    "version_minor": 0
   }
  }
 },
 "nbformat": 4,
 "nbformat_minor": 5
}
