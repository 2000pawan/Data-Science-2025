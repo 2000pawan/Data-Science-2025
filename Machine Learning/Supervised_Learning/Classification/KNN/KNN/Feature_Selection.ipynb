{
 "cells": [
  {
   "cell_type": "markdown",
   "id": "4c5e6580-4f39-4b2e-b516-5cddab08d53f",
   "metadata": {},
   "source": [
    "### using in_built dataset"
   ]
  },
  {
   "cell_type": "code",
   "execution_count": null,
   "id": "2e29f06e-db7d-48d3-8913-71a79929b4f9",
   "metadata": {
    "tags": []
   },
   "outputs": [],
   "source": [
    "from sklearn.datasets import load_wine\n",
    "from sklearn.neighbors import KNeighborsClassifier\n",
    "from sklearn.preprocessing import MinMaxScaler,MaxAbsScaler,StandardScaler\n",
    "from sklearn.metrics import accuracy_score\n",
    "from sklearn.preprocessing import LabelEncoder\n",
    "from sklearn.model_selection import train_test_split"
   ]
  },
  {
   "cell_type": "code",
   "execution_count": null,
   "id": "53b2b969-a484-4681-a088-e56a32219a9c",
   "metadata": {
    "tags": []
   },
   "outputs": [],
   "source": [
    "wine=load_wine()\n",
    "print(type(wine)) ##bunch object(dict like)"
   ]
  },
  {
   "cell_type": "code",
   "execution_count": null,
   "id": "7c6cdece-da9a-46d8-887c-aa5ad09f0057",
   "metadata": {
    "tags": []
   },
   "outputs": [],
   "source": [
    "wine.keys()"
   ]
  },
  {
   "cell_type": "code",
   "execution_count": null,
   "id": "891e78da-be7c-4426-a6ec-9acd5b4026ef",
   "metadata": {
    "tags": []
   },
   "outputs": [],
   "source": [
    "print(wine.feature_names)\n",
    "print(wine.target_names)"
   ]
  },
  {
   "cell_type": "code",
   "execution_count": null,
   "id": "73024ee6-f9bc-4c7d-8412-bbd80938f5e7",
   "metadata": {
    "tags": []
   },
   "outputs": [],
   "source": [
    "X=wine.data\n",
    "y=wine.target"
   ]
  },
  {
   "cell_type": "code",
   "execution_count": null,
   "id": "bc11bc20-ddb3-4e72-b3dd-929bc46b9a43",
   "metadata": {
    "tags": []
   },
   "outputs": [],
   "source": [
    "print(wine.DESCR)"
   ]
  },
  {
   "cell_type": "code",
   "execution_count": null,
   "id": "211fe42b-d0e8-49b2-811d-2055a31cc4e7",
   "metadata": {
    "tags": []
   },
   "outputs": [],
   "source": [
    "X.shape"
   ]
  },
  {
   "cell_type": "code",
   "execution_count": null,
   "id": "06fe3800-4e62-4c6d-95f9-439939020cae",
   "metadata": {
    "tags": []
   },
   "outputs": [],
   "source": [
    "X_train,X_test,y_train,y_test=train_test_split(X,y,random_state=1)\n",
    "sc=MinMaxScaler(feature_range=(0,1))\n",
    "X_train_new=sc.fit_transform(X_train)\n",
    "X_test_new=sc.transform(X_test)\n",
    "model=KNeighborsClassifier(n_neighbors=5)\n",
    "model.fit(X_train_new,y_train)\n",
    "pred=model.predict(X_train_new)\n",
    "pred1=model.predict(X_test_new)\n",
    "print(accuracy_score(y_train,pred))\n",
    "print(accuracy_score(y_test,pred1))"
   ]
  },
  {
   "cell_type": "code",
   "execution_count": null,
   "id": "adceec58-8d1d-4996-a5a5-5af829db0156",
   "metadata": {
    "tags": []
   },
   "outputs": [],
   "source": [
    "X_train,X_test,y_train,y_test=train_test_split(X,y,random_state=1)\n",
    "sc=StandardScaler()\n",
    "X_train_new=sc.fit_transform(X_train)\n",
    "X_test_new=sc.transform(X_test)\n",
    "model=KNeighborsClassifier()\n",
    "model.fit(X_train_new,y_train)\n",
    "pred=model.predict(X_train_new)\n",
    "pred1=model.predict(X_test_new)\n",
    "print(accuracy_score(y_train,pred))\n",
    "print(accuracy_score(y_test,pred1))"
   ]
  },
  {
   "cell_type": "code",
   "execution_count": null,
   "id": "78818704-39ed-435b-a143-a9481a9ebec0",
   "metadata": {
    "tags": []
   },
   "outputs": [],
   "source": [
    "X_train,X_test,y_train,y_test=train_test_split(X,y,random_state=1)\n",
    "sc=MaxAbsScaler()\n",
    "X_train_new=sc.fit_transform(X_train)\n",
    "X_test_new=sc.transform(X_test)\n",
    "model=KNeighborsClassifier()\n",
    "model.fit(X_train_new,y_train)\n",
    "pred=model.predict(X_train_new)\n",
    "pred1=model.predict(X_test_new)\n",
    "print(accuracy_score(y_train,pred))\n",
    "print(accuracy_score(y_test,pred1))"
   ]
  },
  {
   "cell_type": "markdown",
   "id": "a53f80b0-8b08-45f3-8f14-a821f03de416",
   "metadata": {},
   "source": [
    "### ANOVA(Analysis of varriance test) \n",
    " - For Checking Correlation between each feature with target columns importance"
   ]
  },
  {
   "cell_type": "code",
   "execution_count": null,
   "id": "5b5ed9a0-b5b9-46ff-b24a-2909e759068e",
   "metadata": {
    "tags": []
   },
   "outputs": [],
   "source": [
    "from sklearn.feature_selection import f_classif\n",
    "import pandas as pd"
   ]
  },
  {
   "cell_type": "code",
   "execution_count": null,
   "id": "ec981666-a048-4fb9-af8a-4fb31f7225b3",
   "metadata": {
    "tags": []
   },
   "outputs": [],
   "source": [
    "f_value,p_value=f_classif(X,y)\n",
    "f_value"
   ]
  },
  {
   "cell_type": "code",
   "execution_count": null,
   "id": "098a6095-15dd-4350-957b-3e899d45f61b",
   "metadata": {
    "tags": []
   },
   "outputs": [],
   "source": [
    "print(wine.feature_names)"
   ]
  },
  {
   "cell_type": "code",
   "execution_count": null,
   "id": "302793ce-c6ad-4552-88c2-52fc1c91acef",
   "metadata": {
    "tags": []
   },
   "outputs": [],
   "source": [
    "X1=X[:,[0,5,6,9,10,11,12]]\n",
    "X1.shape"
   ]
  },
  {
   "cell_type": "code",
   "execution_count": null,
   "id": "4398c716-4cff-407c-986e-d6a180eb1928",
   "metadata": {
    "tags": []
   },
   "outputs": [],
   "source": [
    "X_train,X_test,y_train,y_test=train_test_split(X1,y,random_state=1)\n",
    "sc=MinMaxScaler(feature_range=(0,1))\n",
    "X_train_new=sc.fit_transform(X_train)\n",
    "X_test_new=sc.transform(X_test)\n",
    "model=KNeighborsClassifier(n_neighbors=5)\n",
    "model.fit(X_train_new,y_train)\n",
    "pred=model.predict(X_train_new)\n",
    "pred1=model.predict(X_test_new)\n",
    "print(accuracy_score(y_train,pred))\n",
    "print(accuracy_score(y_test,pred1))"
   ]
  },
  {
   "cell_type": "code",
   "execution_count": null,
   "id": "3064a699-2268-41f6-a9da-ab4959fcd58d",
   "metadata": {
    "tags": []
   },
   "outputs": [],
   "source": [
    "model.predict([[ 9.39, 1.18,  1.02,  1.57,\n",
    "  -3.32,  1.08,  4.71,]])"
   ]
  },
  {
   "cell_type": "code",
   "execution_count": null,
   "id": "cbc24bb0-8c34-4e21-9896-f7abbe20da14",
   "metadata": {
    "tags": []
   },
   "outputs": [],
   "source": [
    "X_train,X_test,y_train,y_test=train_test_split(X1,y,random_state=1)\n",
    "sc=StandardScaler()\n",
    "X_train_new=sc.fit_transform(X_train)\n",
    "X_test_new=sc.transform(X_test)\n",
    "model=KNeighborsClassifier()\n",
    "model.fit(X_train_new,y_train)\n",
    "pred=model.predict(X_train_new)\n",
    "pred1=model.predict(X_test_new)\n",
    "print(accuracy_score(y_train,pred))\n",
    "print(accuracy_score(y_test,pred1))"
   ]
  },
  {
   "cell_type": "code",
   "execution_count": null,
   "id": "df3db0fc-2274-4284-9ba9-1a1652412277",
   "metadata": {
    "tags": []
   },
   "outputs": [],
   "source": [
    "print(model.predict([[ 9.39, 1.18,  1.02,  1.57,\n",
    "  -3.32,  1.08,  4.71,]]))"
   ]
  },
  {
   "cell_type": "code",
   "execution_count": null,
   "id": "53648379-9267-4137-bcbd-3f86065e03af",
   "metadata": {
    "tags": []
   },
   "outputs": [],
   "source": [
    "from sklearn.feature_selection import SelectKBest\n",
    "skb=SelectKBest(score_func=f_classif,k=10)\n",
    "X1=skb.fit_transform(X,y)\n",
    "X_train,X_test,y_train,y_test=train_test_split(X1,y,random_state=1)\n",
    "sc=MinMaxScaler(feature_range=(0,1))\n",
    "X_train_new=sc.fit_transform(X_train)\n",
    "X_test_new=sc.transform(X_test)\n",
    "model=KNeighborsClassifier(n_neighbors=5)\n",
    "model.fit(X_train_new,y_train)\n",
    "pred=model.predict(X_train_new)\n",
    "pred1=model.predict(X_test_new)\n",
    "print(accuracy_score(y_train,pred))\n",
    "print(accuracy_score(y_test,pred1))"
   ]
  },
  {
   "cell_type": "code",
   "execution_count": null,
   "id": "4b67e040-38a4-420b-80a5-ccdcff4fd3f8",
   "metadata": {
    "tags": []
   },
   "outputs": [],
   "source": [
    "skb.scores_"
   ]
  },
  {
   "cell_type": "code",
   "execution_count": null,
   "id": "a51b0909-bcf5-442f-b725-2a6c3a5be259",
   "metadata": {
    "tags": []
   },
   "outputs": [],
   "source": [
    "## Feature Selection without manual slicing\n",
    "from sklearn.feature_selection import SelectKBest"
   ]
  },
  {
   "cell_type": "code",
   "execution_count": null,
   "id": "77367a04-637c-4c24-9a97-a3275b832736",
   "metadata": {
    "tags": []
   },
   "outputs": [],
   "source": [
    "skb=SelectKBest(score_func=f_classif,k=7)\n",
    "X1=skb.fit_transform(X,y)\n",
    "X_train,X_test,y_train,y_test=train_test_split(X1,y,random_state=1)\n",
    "sc=StandardScaler()\n",
    "X_train_new=sc.fit_transform(X_train)\n",
    "X_test_new=sc.transform(X_test)\n",
    "model=KNeighborsClassifier(n_neighbors=5)\n",
    "model.fit(X_train_new,y_train)\n",
    "pred=model.predict(X_train_new)\n",
    "pred1=model.predict(X_test_new)\n",
    "print(accuracy_score(y_train,pred))\n",
    "print(accuracy_score(y_test,pred1))"
   ]
  },
  {
   "cell_type": "code",
   "execution_count": null,
   "id": "ec4e714e-cc71-4c69-a9e1-5c7ccdcec766",
   "metadata": {},
   "outputs": [],
   "source": []
  }
 ],
 "metadata": {
  "kernelspec": {
   "display_name": "Python 3 (ipykernel)",
   "language": "python",
   "name": "python3"
  },
  "language_info": {
   "codemirror_mode": {
    "name": "ipython",
    "version": 3
   },
   "file_extension": ".py",
   "mimetype": "text/x-python",
   "name": "python",
   "nbconvert_exporter": "python",
   "pygments_lexer": "ipython3",
   "version": "3.11.7"
  },
  "widgets": {
   "application/vnd.jupyter.widget-state+json": {
    "state": {},
    "version_major": 2,
    "version_minor": 0
   }
  }
 },
 "nbformat": 4,
 "nbformat_minor": 5
}
