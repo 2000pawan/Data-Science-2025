{
 "cells": [
  {
   "cell_type": "markdown",
   "id": "9aaa3a6e-f57d-4192-bd18-cb2b18cf7aab",
   "metadata": {},
   "source": [
    "## Feature Selection for sklearn in-built dataset."
   ]
  },
  {
   "cell_type": "code",
   "execution_count": 11,
   "id": "d24870a4-512d-4603-bc6c-1ca0e5e54330",
   "metadata": {},
   "outputs": [],
   "source": [
    "from sklearn.datasets import load_wine\n",
    "from sklearn.preprocessing import StandardScaler\n",
    "from sklearn.model_selection import train_test_split\n",
    "from sklearn.metrics import accuracy_score,precision_score,recall_score,confusion_matrix,f1_score,classification_report\n",
    "from sklearn.neighbors import KNeighborsClassifier"
   ]
  },
  {
   "cell_type": "code",
   "execution_count": 13,
   "id": "14e9bc38-3ca7-4dfe-a44e-6366a07d05ea",
   "metadata": {},
   "outputs": [],
   "source": [
    "df=load_wine()\n",
    "X=df.data\n",
    "y=df.target\n",
    "feature_names=df.feature_names\n",
    "target=df.target"
   ]
  },
  {
   "cell_type": "code",
   "execution_count": 15,
   "id": "a4ba631a-0469-47a4-a3f0-03d79062d49e",
   "metadata": {},
   "outputs": [
    {
     "name": "stdout",
     "output_type": "stream",
     "text": [
      ".. _wine_dataset:\n",
      "\n",
      "Wine recognition dataset\n",
      "------------------------\n",
      "\n",
      "**Data Set Characteristics:**\n",
      "\n",
      ":Number of Instances: 178\n",
      ":Number of Attributes: 13 numeric, predictive attributes and the class\n",
      ":Attribute Information:\n",
      "    - Alcohol\n",
      "    - Malic acid\n",
      "    - Ash\n",
      "    - Alcalinity of ash\n",
      "    - Magnesium\n",
      "    - Total phenols\n",
      "    - Flavanoids\n",
      "    - Nonflavanoid phenols\n",
      "    - Proanthocyanins\n",
      "    - Color intensity\n",
      "    - Hue\n",
      "    - OD280/OD315 of diluted wines\n",
      "    - Proline\n",
      "    - class:\n",
      "        - class_0\n",
      "        - class_1\n",
      "        - class_2\n",
      "\n",
      ":Summary Statistics:\n",
      "\n",
      "============================= ==== ===== ======= =====\n",
      "                                Min   Max   Mean     SD\n",
      "============================= ==== ===== ======= =====\n",
      "Alcohol:                      11.0  14.8    13.0   0.8\n",
      "Malic Acid:                   0.74  5.80    2.34  1.12\n",
      "Ash:                          1.36  3.23    2.36  0.27\n",
      "Alcalinity of Ash:            10.6  30.0    19.5   3.3\n",
      "Magnesium:                    70.0 162.0    99.7  14.3\n",
      "Total Phenols:                0.98  3.88    2.29  0.63\n",
      "Flavanoids:                   0.34  5.08    2.03  1.00\n",
      "Nonflavanoid Phenols:         0.13  0.66    0.36  0.12\n",
      "Proanthocyanins:              0.41  3.58    1.59  0.57\n",
      "Colour Intensity:              1.3  13.0     5.1   2.3\n",
      "Hue:                          0.48  1.71    0.96  0.23\n",
      "OD280/OD315 of diluted wines: 1.27  4.00    2.61  0.71\n",
      "Proline:                       278  1680     746   315\n",
      "============================= ==== ===== ======= =====\n",
      "\n",
      ":Missing Attribute Values: None\n",
      ":Class Distribution: class_0 (59), class_1 (71), class_2 (48)\n",
      ":Creator: R.A. Fisher\n",
      ":Donor: Michael Marshall (MARSHALL%PLU@io.arc.nasa.gov)\n",
      ":Date: July, 1988\n",
      "\n",
      "This is a copy of UCI ML Wine recognition datasets.\n",
      "https://archive.ics.uci.edu/ml/machine-learning-databases/wine/wine.data\n",
      "\n",
      "The data is the results of a chemical analysis of wines grown in the same\n",
      "region in Italy by three different cultivators. There are thirteen different\n",
      "measurements taken for different constituents found in the three types of\n",
      "wine.\n",
      "\n",
      "Original Owners:\n",
      "\n",
      "Forina, M. et al, PARVUS -\n",
      "An Extendible Package for Data Exploration, Classification and Correlation.\n",
      "Institute of Pharmaceutical and Food Analysis and Technologies,\n",
      "Via Brigata Salerno, 16147 Genoa, Italy.\n",
      "\n",
      "Citation:\n",
      "\n",
      "Lichman, M. (2013). UCI Machine Learning Repository\n",
      "[https://archive.ics.uci.edu/ml]. Irvine, CA: University of California,\n",
      "School of Information and Computer Science.\n",
      "\n",
      ".. dropdown:: References\n",
      "\n",
      "    (1) S. Aeberhard, D. Coomans and O. de Vel,\n",
      "    Comparison of Classifiers in High Dimensional Settings,\n",
      "    Tech. Rep. no. 92-02, (1992), Dept. of Computer Science and Dept. of\n",
      "    Mathematics and Statistics, James Cook University of North Queensland.\n",
      "    (Also submitted to Technometrics).\n",
      "\n",
      "    The data was used with many others for comparing various\n",
      "    classifiers. The classes are separable, though only RDA\n",
      "    has achieved 100% correct classification.\n",
      "    (RDA : 100%, QDA 99.4%, LDA 98.9%, 1NN 96.1% (z-transformed data))\n",
      "    (All results using the leave-one-out technique)\n",
      "\n",
      "    (2) S. Aeberhard, D. Coomans and O. de Vel,\n",
      "    \"THE CLASSIFICATION PERFORMANCE OF RDA\"\n",
      "    Tech. Rep. no. 92-01, (1992), Dept. of Computer Science and Dept. of\n",
      "    Mathematics and Statistics, James Cook University of North Queensland.\n",
      "    (Also submitted to Journal of Chemometrics).\n",
      "\n"
     ]
    }
   ],
   "source": [
    "print(df.DESCR)\n",
    "# print(df.feature_names)\n",
    "# print(df.target_names)"
   ]
  },
  {
   "cell_type": "code",
   "execution_count": 17,
   "id": "2e66e5e6-9034-4ad5-b854-5c5f33683cc8",
   "metadata": {},
   "outputs": [
    {
     "name": "stdout",
     "output_type": "stream",
     "text": [
      "Accuracy Score of Training:-  0.9915966386554622\n",
      "Accuracy Score of Testing:-  0.9491525423728814\n"
     ]
    }
   ],
   "source": [
    "X_train,X_test,y_train,y_test=train_test_split(X,y,test_size=.33,random_state=1)\n",
    "st=StandardScaler()\n",
    "X_train_new=st.fit_transform(X_train)\n",
    "X_test_new=st.transform(X_test)\n",
    "model=KNeighborsClassifier()\n",
    "model.fit(X_train_new,y_train)\n",
    "pred_train=model.predict(X_train_new)\n",
    "pred_test=model.predict(X_test_new)\n",
    "print('Accuracy Score of Training:- ',accuracy_score(y_train,pred_train))\n",
    "print('Accuracy Score of Testing:- ',accuracy_score(y_test,pred_test))"
   ]
  },
  {
   "cell_type": "markdown",
   "id": "cbbfc426-3848-4b45-950b-f7b81c7ed4f9",
   "metadata": {},
   "source": [
    "## Feature Selection."
   ]
  },
  {
   "cell_type": "code",
   "execution_count": 20,
   "id": "c3dd0a02-f3d0-465e-a8be-edfbc9d71187",
   "metadata": {},
   "outputs": [],
   "source": [
    "from sklearn.feature_selection import f_classif"
   ]
  },
  {
   "cell_type": "code",
   "execution_count": 38,
   "id": "ef428b37-9db2-450c-bdb8-aa9ffc8611c9",
   "metadata": {},
   "outputs": [
    {
     "name": "stdout",
     "output_type": "stream",
     "text": [
      "Accuracy Score of Training:-  0.9915966386554622\n",
      "Accuracy Score of Testing:-  0.9661016949152542\n"
     ]
    }
   ],
   "source": [
    "df=load_wine()\n",
    "X=df.data\n",
    "y=df.target\n",
    "feature_names=df.feature_names\n",
    "target=df.target\n",
    "f_value,p_value=f_classif(X,y)\n",
    "z=[i for i,j in enumerate(f_value) if j>90]\n",
    "X_new=X[:,z]\n",
    "X_train,X_test,y_train,y_test=train_test_split(X_new,y,test_size=.33,random_state=1)\n",
    "st=StandardScaler()\n",
    "X_train_new=st.fit_transform(X_train)\n",
    "X_test_new=st.transform(X_test)\n",
    "model=KNeighborsClassifier()\n",
    "model.fit(X_train_new,y_train)\n",
    "pred_train=model.predict(X_train_new)\n",
    "pred_test=model.predict(X_test_new)\n",
    "print('Accuracy Score of Training:- ',accuracy_score(y_train,pred_train))\n",
    "print('Accuracy Score of Testing:- ',accuracy_score(y_test,pred_test))"
   ]
  },
  {
   "cell_type": "code",
   "execution_count": 40,
   "id": "56365f51-3760-462b-b823-8cc69416dc6e",
   "metadata": {},
   "outputs": [
    {
     "data": {
      "text/plain": [
       "array([[35,  0,  0],\n",
       "       [ 0, 48,  1],\n",
       "       [ 0,  0, 35]], dtype=int64)"
      ]
     },
     "execution_count": 40,
     "metadata": {},
     "output_type": "execute_result"
    }
   ],
   "source": [
    "confusion_matrix(y_train,pred_train)"
   ]
  },
  {
   "cell_type": "code",
   "execution_count": 42,
   "id": "68f53498-af36-4204-a21a-f5e2659b60a6",
   "metadata": {},
   "outputs": [
    {
     "name": "stdout",
     "output_type": "stream",
     "text": [
      "1.0 \n",
      " 1.0 \n",
      " 0.9722222222222222\n",
      "[1.         1.         0.97222222]\n",
      "1.0 \n",
      " 0.9795918367346939 \n",
      " 1.0\n",
      "[1.         0.97959184 1.        ]\n",
      "1.0 \n",
      " 0.9896907216494846 \n",
      " 0.9859154929577464\n",
      "[1.         0.98969072 0.98591549]\n",
      "0.9915966386554622\n"
     ]
    }
   ],
   "source": [
    "p1=35/35\n",
    "p2=48/48\n",
    "p3=35/36\n",
    "print(p1,'\\n',p2,'\\n',p3)\n",
    "print(precision_score(y_train,pred_train,average=None))\n",
    "r1=35/35\n",
    "r2=48/49\n",
    "r3=35/35\n",
    "print(r1,'\\n',r2,'\\n',r3)\n",
    "print(recall_score(y_train,pred_train,average=None))\n",
    "f1_1=(2*p1*r1)/(p1+r1)\n",
    "f1_2=(2*p2*r2)/(p2+r2)\n",
    "f1_3=(2*p3*r3)/(p3+r3)\n",
    "print(f1_1,'\\n',f1_2,'\\n',f1_3)\n",
    "print(f1_score(y_train,pred_train,average=None))\n",
    "acc_score=(35+48+35)/(35+49+35)\n",
    "print(accuracy_score(y_train,pred_train))"
   ]
  },
  {
   "cell_type": "code",
   "execution_count": 44,
   "id": "7abfe814-422e-42f2-b8b8-5652f519325e",
   "metadata": {},
   "outputs": [
    {
     "name": "stdout",
     "output_type": "stream",
     "text": [
      "              precision    recall  f1-score   support\n",
      "\n",
      "           0       1.00      1.00      1.00        35\n",
      "           1       1.00      0.98      0.99        49\n",
      "           2       0.97      1.00      0.99        35\n",
      "\n",
      "    accuracy                           0.99       119\n",
      "   macro avg       0.99      0.99      0.99       119\n",
      "weighted avg       0.99      0.99      0.99       119\n",
      "\n"
     ]
    }
   ],
   "source": [
    "print(classification_report(y_train,pred_train))"
   ]
  },
  {
   "cell_type": "code",
   "execution_count": 46,
   "id": "95b5f5cb-bded-4e9e-9714-9dbf62f152db",
   "metadata": {},
   "outputs": [
    {
     "data": {
      "text/plain": [
       "array([[24,  0,  0],\n",
       "       [ 2, 20,  0],\n",
       "       [ 0,  0, 13]], dtype=int64)"
      ]
     },
     "execution_count": 46,
     "metadata": {},
     "output_type": "execute_result"
    }
   ],
   "source": [
    "confusion_matrix(y_test,pred_test)"
   ]
  },
  {
   "cell_type": "code",
   "execution_count": 53,
   "id": "05ef9d4b-e03c-4e72-bd2b-c3fc275c0629",
   "metadata": {},
   "outputs": [
    {
     "name": "stdout",
     "output_type": "stream",
     "text": [
      "0.9230769230769231 \n",
      " 1.0 \n",
      " 1.0\n",
      "[0.92307692 1.         1.        ]\n",
      "1.0 \n",
      " 0.9090909090909091 \n",
      " 1.0\n",
      "[1.         0.90909091 1.        ]\n",
      "0.9600000000000001 \n",
      " 0.9523809523809523 \n",
      " 1.0\n",
      "[0.96       0.95238095 1.        ]\n",
      "0.9661016949152542\n"
     ]
    }
   ],
   "source": [
    "p1=24/26\n",
    "p2=20/20\n",
    "p3=13/13\n",
    "print(p1,'\\n',p2,'\\n',p3)\n",
    "print(precision_score(y_test,pred_test,average=None))\n",
    "r1=24/24\n",
    "r2=20/22\n",
    "r3=13/13\n",
    "print(r1,'\\n',r2,'\\n',r3)\n",
    "print(recall_score(y_test,pred_test,average=None))\n",
    "f1_1=(2*p1*r1)/(p1+r1)\n",
    "f1_2=(2*p2*r2)/(p2+r2)\n",
    "f1_3=(2*p3*r3)/(p3+r3)\n",
    "print(f1_1,'\\n',f1_2,'\\n',f1_3)\n",
    "print(f1_score(y_test,pred_test,average=None))\n",
    "acc_score=(24+20+13)/(24+2+20+13)\n",
    "print(accuracy_score(y_test,pred_test))"
   ]
  },
  {
   "cell_type": "code",
   "execution_count": 55,
   "id": "506520d7-5966-4dd5-9d96-1cdb907dc44a",
   "metadata": {},
   "outputs": [
    {
     "name": "stdout",
     "output_type": "stream",
     "text": [
      "              precision    recall  f1-score   support\n",
      "\n",
      "           0       0.92      1.00      0.96        24\n",
      "           1       1.00      0.91      0.95        22\n",
      "           2       1.00      1.00      1.00        13\n",
      "\n",
      "    accuracy                           0.97        59\n",
      "   macro avg       0.97      0.97      0.97        59\n",
      "weighted avg       0.97      0.97      0.97        59\n",
      "\n"
     ]
    }
   ],
   "source": [
    "print(classification_report(y_test,pred_test))"
   ]
  },
  {
   "cell_type": "code",
   "execution_count": null,
   "id": "8df8db7e-9ef3-4020-b054-853ca9b392ea",
   "metadata": {},
   "outputs": [],
   "source": []
  }
 ],
 "metadata": {
  "kernelspec": {
   "display_name": "Python 3 (ipykernel)",
   "language": "python",
   "name": "python3"
  },
  "language_info": {
   "codemirror_mode": {
    "name": "ipython",
    "version": 3
   },
   "file_extension": ".py",
   "mimetype": "text/x-python",
   "name": "python",
   "nbconvert_exporter": "python",
   "pygments_lexer": "ipython3",
   "version": "3.12.7"
  }
 },
 "nbformat": 4,
 "nbformat_minor": 5
}
