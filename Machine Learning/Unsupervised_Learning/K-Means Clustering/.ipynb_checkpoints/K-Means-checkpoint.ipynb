{
 "cells": [
  {
   "cell_type": "markdown",
   "id": "ff708b62-73e7-4629-aaa9-4d818ff2866a",
   "metadata": {},
   "source": [
    "# Unsupervised Learning\n",
    "- Dataset contains only Feature.\n",
    "- i.e. Target is not given.\n",
    "# Types of Unsupervised Learning\n",
    "- Clustering\n",
    "- Association"
   ]
  },
  {
   "cell_type": "code",
   "execution_count": 13,
   "id": "81b7edb9-fef7-4fd9-8aa8-f66dd3363ac5",
   "metadata": {
    "tags": []
   },
   "outputs": [],
   "source": [
    "import pandas as pd\n",
    "from sklearn.cluster import KMeans"
   ]
  },
  {
   "cell_type": "code",
   "execution_count": 14,
   "id": "9717668d-0342-46d1-948c-442d0c81b22b",
   "metadata": {
    "tags": []
   },
   "outputs": [
    {
     "data": {
      "text/html": [
       "<div>\n",
       "<style scoped>\n",
       "    .dataframe tbody tr th:only-of-type {\n",
       "        vertical-align: middle;\n",
       "    }\n",
       "\n",
       "    .dataframe tbody tr th {\n",
       "        vertical-align: top;\n",
       "    }\n",
       "\n",
       "    .dataframe thead th {\n",
       "        text-align: right;\n",
       "    }\n",
       "</style>\n",
       "<table border=\"1\" class=\"dataframe\">\n",
       "  <thead>\n",
       "    <tr style=\"text-align: right;\">\n",
       "      <th></th>\n",
       "      <th>diameter</th>\n",
       "      <th>weight</th>\n",
       "    </tr>\n",
       "  </thead>\n",
       "  <tbody>\n",
       "    <tr>\n",
       "      <th>0</th>\n",
       "      <td>6.0</td>\n",
       "      <td>100</td>\n",
       "    </tr>\n",
       "    <tr>\n",
       "      <th>1</th>\n",
       "      <td>6.1</td>\n",
       "      <td>70</td>\n",
       "    </tr>\n",
       "    <tr>\n",
       "      <th>2</th>\n",
       "      <td>3.0</td>\n",
       "      <td>30</td>\n",
       "    </tr>\n",
       "    <tr>\n",
       "      <th>3</th>\n",
       "      <td>3.2</td>\n",
       "      <td>35</td>\n",
       "    </tr>\n",
       "    <tr>\n",
       "      <th>4</th>\n",
       "      <td>5.5</td>\n",
       "      <td>80</td>\n",
       "    </tr>\n",
       "    <tr>\n",
       "      <th>5</th>\n",
       "      <td>7.1</td>\n",
       "      <td>120</td>\n",
       "    </tr>\n",
       "    <tr>\n",
       "      <th>6</th>\n",
       "      <td>2.5</td>\n",
       "      <td>60</td>\n",
       "    </tr>\n",
       "    <tr>\n",
       "      <th>7</th>\n",
       "      <td>2.3</td>\n",
       "      <td>100</td>\n",
       "    </tr>\n",
       "    <tr>\n",
       "      <th>8</th>\n",
       "      <td>4.8</td>\n",
       "      <td>70</td>\n",
       "    </tr>\n",
       "    <tr>\n",
       "      <th>9</th>\n",
       "      <td>4.8</td>\n",
       "      <td>79</td>\n",
       "    </tr>\n",
       "    <tr>\n",
       "      <th>10</th>\n",
       "      <td>5.8</td>\n",
       "      <td>120</td>\n",
       "    </tr>\n",
       "    <tr>\n",
       "      <th>11</th>\n",
       "      <td>2.6</td>\n",
       "      <td>85</td>\n",
       "    </tr>\n",
       "    <tr>\n",
       "      <th>12</th>\n",
       "      <td>6.0</td>\n",
       "      <td>110</td>\n",
       "    </tr>\n",
       "    <tr>\n",
       "      <th>13</th>\n",
       "      <td>6.3</td>\n",
       "      <td>95</td>\n",
       "    </tr>\n",
       "    <tr>\n",
       "      <th>14</th>\n",
       "      <td>3.0</td>\n",
       "      <td>40</td>\n",
       "    </tr>\n",
       "    <tr>\n",
       "      <th>15</th>\n",
       "      <td>3.5</td>\n",
       "      <td>25</td>\n",
       "    </tr>\n",
       "    <tr>\n",
       "      <th>16</th>\n",
       "      <td>5.5</td>\n",
       "      <td>100</td>\n",
       "    </tr>\n",
       "    <tr>\n",
       "      <th>17</th>\n",
       "      <td>7.5</td>\n",
       "      <td>120</td>\n",
       "    </tr>\n",
       "    <tr>\n",
       "      <th>18</th>\n",
       "      <td>2.5</td>\n",
       "      <td>50</td>\n",
       "    </tr>\n",
       "    <tr>\n",
       "      <th>19</th>\n",
       "      <td>2.7</td>\n",
       "      <td>40</td>\n",
       "    </tr>\n",
       "    <tr>\n",
       "      <th>20</th>\n",
       "      <td>4.8</td>\n",
       "      <td>90</td>\n",
       "    </tr>\n",
       "    <tr>\n",
       "      <th>21</th>\n",
       "      <td>5.8</td>\n",
       "      <td>90</td>\n",
       "    </tr>\n",
       "  </tbody>\n",
       "</table>\n",
       "</div>"
      ],
      "text/plain": [
       "    diameter  weight\n",
       "0        6.0     100\n",
       "1        6.1      70\n",
       "2        3.0      30\n",
       "3        3.2      35\n",
       "4        5.5      80\n",
       "5        7.1     120\n",
       "6        2.5      60\n",
       "7        2.3     100\n",
       "8        4.8      70\n",
       "9        4.8      79\n",
       "10       5.8     120\n",
       "11       2.6      85\n",
       "12       6.0     110\n",
       "13       6.3      95\n",
       "14       3.0      40\n",
       "15       3.5      25\n",
       "16       5.5     100\n",
       "17       7.5     120\n",
       "18       2.5      50\n",
       "19       2.7      40\n",
       "20       4.8      90\n",
       "21       5.8      90"
      ]
     },
     "execution_count": 14,
     "metadata": {},
     "output_type": "execute_result"
    }
   ],
   "source": [
    "df=pd.read_csv(\"G:/dataset/fruits_cluster.csv\")\n",
    "df"
   ]
  },
  {
   "cell_type": "code",
   "execution_count": 29,
   "id": "a3cc1915-3e0a-4ce6-b1ab-93bcf91f8db6",
   "metadata": {
    "tags": []
   },
   "outputs": [],
   "source": [
    "X=df.iloc[:,:].values"
   ]
  },
  {
   "cell_type": "code",
   "execution_count": 30,
   "id": "041ca52b-815d-4da6-8152-0bd313a7cc2d",
   "metadata": {
    "tags": []
   },
   "outputs": [
    {
     "name": "stderr",
     "output_type": "stream",
     "text": [
      "C:\\Users\\panka\\anaconda3\\Lib\\site-packages\\sklearn\\cluster\\_kmeans.py:1382: UserWarning: KMeans is known to have a memory leak on Windows with MKL, when there are less chunks than available threads. You can avoid it by setting the environment variable OMP_NUM_THREADS=1.\n",
      "  warnings.warn(\n"
     ]
    },
    {
     "data": {
      "text/html": [
       "<style>#sk-container-id-4 {color: black;background-color: white;}#sk-container-id-4 pre{padding: 0;}#sk-container-id-4 div.sk-toggleable {background-color: white;}#sk-container-id-4 label.sk-toggleable__label {cursor: pointer;display: block;width: 100%;margin-bottom: 0;padding: 0.3em;box-sizing: border-box;text-align: center;}#sk-container-id-4 label.sk-toggleable__label-arrow:before {content: \"▸\";float: left;margin-right: 0.25em;color: #696969;}#sk-container-id-4 label.sk-toggleable__label-arrow:hover:before {color: black;}#sk-container-id-4 div.sk-estimator:hover label.sk-toggleable__label-arrow:before {color: black;}#sk-container-id-4 div.sk-toggleable__content {max-height: 0;max-width: 0;overflow: hidden;text-align: left;background-color: #f0f8ff;}#sk-container-id-4 div.sk-toggleable__content pre {margin: 0.2em;color: black;border-radius: 0.25em;background-color: #f0f8ff;}#sk-container-id-4 input.sk-toggleable__control:checked~div.sk-toggleable__content {max-height: 200px;max-width: 100%;overflow: auto;}#sk-container-id-4 input.sk-toggleable__control:checked~label.sk-toggleable__label-arrow:before {content: \"▾\";}#sk-container-id-4 div.sk-estimator input.sk-toggleable__control:checked~label.sk-toggleable__label {background-color: #d4ebff;}#sk-container-id-4 div.sk-label input.sk-toggleable__control:checked~label.sk-toggleable__label {background-color: #d4ebff;}#sk-container-id-4 input.sk-hidden--visually {border: 0;clip: rect(1px 1px 1px 1px);clip: rect(1px, 1px, 1px, 1px);height: 1px;margin: -1px;overflow: hidden;padding: 0;position: absolute;width: 1px;}#sk-container-id-4 div.sk-estimator {font-family: monospace;background-color: #f0f8ff;border: 1px dotted black;border-radius: 0.25em;box-sizing: border-box;margin-bottom: 0.5em;}#sk-container-id-4 div.sk-estimator:hover {background-color: #d4ebff;}#sk-container-id-4 div.sk-parallel-item::after {content: \"\";width: 100%;border-bottom: 1px solid gray;flex-grow: 1;}#sk-container-id-4 div.sk-label:hover label.sk-toggleable__label {background-color: #d4ebff;}#sk-container-id-4 div.sk-serial::before {content: \"\";position: absolute;border-left: 1px solid gray;box-sizing: border-box;top: 0;bottom: 0;left: 50%;z-index: 0;}#sk-container-id-4 div.sk-serial {display: flex;flex-direction: column;align-items: center;background-color: white;padding-right: 0.2em;padding-left: 0.2em;position: relative;}#sk-container-id-4 div.sk-item {position: relative;z-index: 1;}#sk-container-id-4 div.sk-parallel {display: flex;align-items: stretch;justify-content: center;background-color: white;position: relative;}#sk-container-id-4 div.sk-item::before, #sk-container-id-4 div.sk-parallel-item::before {content: \"\";position: absolute;border-left: 1px solid gray;box-sizing: border-box;top: 0;bottom: 0;left: 50%;z-index: -1;}#sk-container-id-4 div.sk-parallel-item {display: flex;flex-direction: column;z-index: 1;position: relative;background-color: white;}#sk-container-id-4 div.sk-parallel-item:first-child::after {align-self: flex-end;width: 50%;}#sk-container-id-4 div.sk-parallel-item:last-child::after {align-self: flex-start;width: 50%;}#sk-container-id-4 div.sk-parallel-item:only-child::after {width: 0;}#sk-container-id-4 div.sk-dashed-wrapped {border: 1px dashed gray;margin: 0 0.4em 0.5em 0.4em;box-sizing: border-box;padding-bottom: 0.4em;background-color: white;}#sk-container-id-4 div.sk-label label {font-family: monospace;font-weight: bold;display: inline-block;line-height: 1.2em;}#sk-container-id-4 div.sk-label-container {text-align: center;}#sk-container-id-4 div.sk-container {/* jupyter's `normalize.less` sets `[hidden] { display: none; }` but bootstrap.min.css set `[hidden] { display: none !important; }` so we also need the `!important` here to be able to override the default hidden behavior on the sphinx rendered scikit-learn.org. See: https://github.com/scikit-learn/scikit-learn/issues/21755 */display: inline-block !important;position: relative;}#sk-container-id-4 div.sk-text-repr-fallback {display: none;}</style><div id=\"sk-container-id-4\" class=\"sk-top-container\"><div class=\"sk-text-repr-fallback\"><pre>KMeans(max_iter=50, n_clusters=3, n_init=5)</pre><b>In a Jupyter environment, please rerun this cell to show the HTML representation or trust the notebook. <br />On GitHub, the HTML representation is unable to render, please try loading this page with nbviewer.org.</b></div><div class=\"sk-container\" hidden><div class=\"sk-item\"><div class=\"sk-estimator sk-toggleable\"><input class=\"sk-toggleable__control sk-hidden--visually\" id=\"sk-estimator-id-4\" type=\"checkbox\" checked><label for=\"sk-estimator-id-4\" class=\"sk-toggleable__label sk-toggleable__label-arrow\">KMeans</label><div class=\"sk-toggleable__content\"><pre>KMeans(max_iter=50, n_clusters=3, n_init=5)</pre></div></div></div></div></div>"
      ],
      "text/plain": [
       "KMeans(max_iter=50, n_clusters=3, n_init=5)"
      ]
     },
     "execution_count": 30,
     "metadata": {},
     "output_type": "execute_result"
    }
   ],
   "source": [
    "model=KMeans(n_clusters=3,max_iter=50,n_init=5)\n",
    "model.fit(X)"
   ]
  },
  {
   "cell_type": "code",
   "execution_count": 27,
   "id": "18dc294d-c83a-4d92-ba88-12722df193cf",
   "metadata": {
    "tags": []
   },
   "outputs": [
    {
     "data": {
      "text/plain": [
       "array([1, 2, 0, 0, 2, 1, 2, 1, 2, 2, 1, 2, 1, 1, 0, 0, 1, 1, 0, 0, 2, 2])"
      ]
     },
     "execution_count": 27,
     "metadata": {},
     "output_type": "execute_result"
    }
   ],
   "source": [
    "model.labels_"
   ]
  },
  {
   "cell_type": "code",
   "execution_count": 26,
   "id": "d3dc12ca-a927-4687-a574-2677e538dccf",
   "metadata": {
    "tags": []
   },
   "outputs": [
    {
     "data": {
      "text/plain": [
       "2005.1141666666667"
      ]
     },
     "execution_count": 26,
     "metadata": {},
     "output_type": "execute_result"
    }
   ],
   "source": [
    "model.inertia_ #WSSE"
   ]
  },
  {
   "cell_type": "code",
   "execution_count": 25,
   "id": "dc6f3044-1c1c-4d87-8cba-938e9294add9",
   "metadata": {
    "tags": []
   },
   "outputs": [
    {
     "data": {
      "text/plain": [
       "array([2])"
      ]
     },
     "execution_count": 25,
     "metadata": {},
     "output_type": "execute_result"
    }
   ],
   "source": [
    "sample=[4.2,89]\n",
    "model.predict([sample])"
   ]
  },
  {
   "cell_type": "code",
   "execution_count": 31,
   "id": "0f6a73a7-1826-4e25-942b-d28389c90f34",
   "metadata": {
    "tags": []
   },
   "outputs": [
    {
     "name": "stdout",
     "output_type": "stream",
     "text": [
      "Requirement already satisfied: nbconvert[webpdf] in c:\\users\\panka\\anaconda3\\lib\\site-packages (6.5.4)Note: you may need to restart the kernel to use updated packages.\n",
      "\n",
      "Requirement already satisfied: lxml in c:\\users\\panka\\anaconda3\\lib\\site-packages (from nbconvert[webpdf]) (4.9.2)\n",
      "Requirement already satisfied: beautifulsoup4 in c:\\users\\panka\\anaconda3\\lib\\site-packages (from nbconvert[webpdf]) (4.12.2)\n",
      "Requirement already satisfied: bleach in c:\\users\\panka\\anaconda3\\lib\\site-packages (from nbconvert[webpdf]) (4.1.0)\n",
      "Requirement already satisfied: defusedxml in c:\\users\\panka\\anaconda3\\lib\\site-packages (from nbconvert[webpdf]) (0.7.1)\n",
      "Requirement already satisfied: entrypoints>=0.2.2 in c:\\users\\panka\\anaconda3\\lib\\site-packages (from nbconvert[webpdf]) (0.4)\n",
      "Requirement already satisfied: jinja2>=3.0 in c:\\users\\panka\\anaconda3\\lib\\site-packages (from nbconvert[webpdf]) (3.1.3)\n",
      "Requirement already satisfied: jupyter-core>=4.7 in c:\\users\\panka\\appdata\\roaming\\python\\python311\\site-packages (from nbconvert[webpdf]) (5.7.1)\n",
      "Requirement already satisfied: jupyterlab-pygments in c:\\users\\panka\\anaconda3\\lib\\site-packages (from nbconvert[webpdf]) (0.1.2)\n",
      "Requirement already satisfied: MarkupSafe>=2.0 in c:\\users\\panka\\anaconda3\\lib\\site-packages (from nbconvert[webpdf]) (2.1.5)\n",
      "Requirement already satisfied: mistune<2,>=0.8.1 in c:\\users\\panka\\anaconda3\\lib\\site-packages (from nbconvert[webpdf]) (0.8.4)\n",
      "Requirement already satisfied: nbclient>=0.5.0 in c:\\users\\panka\\anaconda3\\lib\\site-packages (from nbconvert[webpdf]) (0.5.13)\n",
      "Requirement already satisfied: nbformat>=5.1 in c:\\users\\panka\\anaconda3\\lib\\site-packages (from nbconvert[webpdf]) (5.7.0)\n",
      "Requirement already satisfied: packaging in c:\\users\\panka\\appdata\\roaming\\python\\python311\\site-packages (from nbconvert[webpdf]) (23.2)\n",
      "Requirement already satisfied: pandocfilters>=1.4.1 in c:\\users\\panka\\anaconda3\\lib\\site-packages (from nbconvert[webpdf]) (1.5.0)\n",
      "Requirement already satisfied: pygments>=2.4.1 in c:\\users\\panka\\appdata\\roaming\\python\\python311\\site-packages (from nbconvert[webpdf]) (2.17.2)\n",
      "Requirement already satisfied: tinycss2 in c:\\users\\panka\\anaconda3\\lib\\site-packages (from nbconvert[webpdf]) (1.2.1)\n",
      "Requirement already satisfied: traitlets>=5.0 in c:\\users\\panka\\appdata\\roaming\\python\\python311\\site-packages (from nbconvert[webpdf]) (5.14.1)\n",
      "Collecting pyppeteer<1.1,>=1 (from nbconvert[webpdf])\n",
      "  Downloading pyppeteer-1.0.2-py3-none-any.whl (83 kB)\n",
      "                                              0.0/83.4 kB ? eta -:--:--\n",
      "     ---------------------------------------  81.9/83.4 kB 4.5 MB/s eta 0:00:01\n",
      "     ---------------------------------------  81.9/83.4 kB 4.5 MB/s eta 0:00:01\n",
      "     ---------------------------------------  81.9/83.4 kB 4.5 MB/s eta 0:00:01\n",
      "     -------------------------------------- 83.4/83.4 kB 518.7 kB/s eta 0:00:00\n",
      "Requirement already satisfied: platformdirs>=2.5 in c:\\users\\panka\\appdata\\roaming\\python\\python311\\site-packages (from jupyter-core>=4.7->nbconvert[webpdf]) (4.2.0)\n",
      "Requirement already satisfied: pywin32>=300 in c:\\users\\panka\\appdata\\roaming\\python\\python311\\site-packages (from jupyter-core>=4.7->nbconvert[webpdf]) (306)\n",
      "Requirement already satisfied: jupyter-client>=6.1.5 in c:\\users\\panka\\appdata\\roaming\\python\\python311\\site-packages (from nbclient>=0.5.0->nbconvert[webpdf]) (8.6.0)\n",
      "Requirement already satisfied: nest-asyncio in c:\\users\\panka\\appdata\\roaming\\python\\python311\\site-packages (from nbclient>=0.5.0->nbconvert[webpdf]) (1.6.0)\n",
      "Requirement already satisfied: fastjsonschema in c:\\users\\panka\\anaconda3\\lib\\site-packages (from nbformat>=5.1->nbconvert[webpdf]) (2.16.2)\n",
      "Requirement already satisfied: jsonschema>=2.6 in c:\\users\\panka\\anaconda3\\lib\\site-packages (from nbformat>=5.1->nbconvert[webpdf]) (4.17.3)\n",
      "Requirement already satisfied: appdirs<2.0.0,>=1.4.3 in c:\\users\\panka\\anaconda3\\lib\\site-packages (from pyppeteer<1.1,>=1->nbconvert[webpdf]) (1.4.4)\n",
      "Requirement already satisfied: certifi>=2021 in c:\\users\\panka\\anaconda3\\lib\\site-packages (from pyppeteer<1.1,>=1->nbconvert[webpdf]) (2023.5.7)\n",
      "Requirement already satisfied: importlib-metadata>=1.4 in c:\\users\\panka\\anaconda3\\lib\\site-packages (from pyppeteer<1.1,>=1->nbconvert[webpdf]) (6.0.0)\n",
      "Collecting pyee<9.0.0,>=8.1.0 (from pyppeteer<1.1,>=1->nbconvert[webpdf])\n",
      "  Downloading pyee-8.2.2-py2.py3-none-any.whl (12 kB)\n",
      "Requirement already satisfied: tqdm<5.0.0,>=4.42.1 in c:\\users\\panka\\anaconda3\\lib\\site-packages (from pyppeteer<1.1,>=1->nbconvert[webpdf]) (4.65.0)\n",
      "Requirement already satisfied: urllib3<2.0.0,>=1.25.8 in c:\\users\\panka\\anaconda3\\lib\\site-packages (from pyppeteer<1.1,>=1->nbconvert[webpdf]) (1.26.16)\n",
      "Collecting websockets<11.0,>=10.0 (from pyppeteer<1.1,>=1->nbconvert[webpdf])\n",
      "  Downloading websockets-10.4-cp311-cp311-win_amd64.whl (101 kB)\n",
      "                                              0.0/101.4 kB ? eta -:--:--\n",
      "     ------------------------------------     92.2/101.4 kB ? eta -:--:--\n",
      "     ------------------------------------     92.2/101.4 kB ? eta -:--:--\n",
      "     ------------------------------------     92.2/101.4 kB ? eta -:--:--\n",
      "     ------------------------------------     92.2/101.4 kB ? eta -:--:--\n",
      "     ------------------------------------     92.2/101.4 kB ? eta -:--:--\n",
      "     ------------------------------------     92.2/101.4 kB ? eta -:--:--\n",
      "     ------------------------------------ 101.4/101.4 kB 291.4 kB/s eta 0:00:00\n",
      "Requirement already satisfied: soupsieve>1.2 in c:\\users\\panka\\anaconda3\\lib\\site-packages (from beautifulsoup4->nbconvert[webpdf]) (2.4)\n",
      "Requirement already satisfied: six>=1.9.0 in c:\\users\\panka\\appdata\\roaming\\python\\python311\\site-packages (from bleach->nbconvert[webpdf]) (1.16.0)\n",
      "Requirement already satisfied: webencodings in c:\\users\\panka\\anaconda3\\lib\\site-packages (from bleach->nbconvert[webpdf]) (0.5.1)\n",
      "Requirement already satisfied: zipp>=0.5 in c:\\users\\panka\\anaconda3\\lib\\site-packages (from importlib-metadata>=1.4->pyppeteer<1.1,>=1->nbconvert[webpdf]) (3.11.0)\n",
      "Requirement already satisfied: attrs>=17.4.0 in c:\\users\\panka\\anaconda3\\lib\\site-packages (from jsonschema>=2.6->nbformat>=5.1->nbconvert[webpdf]) (22.1.0)\n",
      "Requirement already satisfied: pyrsistent!=0.17.0,!=0.17.1,!=0.17.2,>=0.14.0 in c:\\users\\panka\\anaconda3\\lib\\site-packages (from jsonschema>=2.6->nbformat>=5.1->nbconvert[webpdf]) (0.18.0)\n",
      "Requirement already satisfied: python-dateutil>=2.8.2 in c:\\users\\panka\\appdata\\roaming\\python\\python311\\site-packages (from jupyter-client>=6.1.5->nbclient>=0.5.0->nbconvert[webpdf]) (2.8.2)\n",
      "Requirement already satisfied: pyzmq>=23.0 in c:\\users\\panka\\appdata\\roaming\\python\\python311\\site-packages (from jupyter-client>=6.1.5->nbclient>=0.5.0->nbconvert[webpdf]) (25.1.2)\n",
      "Requirement already satisfied: tornado>=6.2 in c:\\users\\panka\\appdata\\roaming\\python\\python311\\site-packages (from jupyter-client>=6.1.5->nbclient>=0.5.0->nbconvert[webpdf]) (6.4)\n",
      "Requirement already satisfied: colorama in c:\\users\\panka\\appdata\\roaming\\python\\python311\\site-packages (from tqdm<5.0.0,>=4.42.1->pyppeteer<1.1,>=1->nbconvert[webpdf]) (0.4.6)\n",
      "Installing collected packages: pyee, websockets, pyppeteer\n",
      "  Attempting uninstall: websockets\n",
      "    Found existing installation: websockets 8.1\n",
      "    Uninstalling websockets-8.1:\n",
      "      Successfully uninstalled websockets-8.1\n",
      "Successfully installed pyee-8.2.2 pyppeteer-1.0.2 websockets-10.4\n"
     ]
    }
   ],
   "source": [
    "pip install nbconvert[webpdf]"
   ]
  },
  {
   "cell_type": "code",
   "execution_count": null,
   "id": "5785ed03-739f-4b4f-83f2-33b9b439f7f8",
   "metadata": {},
   "outputs": [],
   "source": []
  },
  {
   "cell_type": "code",
   "execution_count": 43,
   "id": "cc90beaf-a9e9-445a-bbec-c17c5d56801f",
   "metadata": {
    "tags": []
   },
   "outputs": [],
   "source": [
    "from sklearn.cluster import KMeans, AgglomerativeClustering\n",
    "import pandas as pd\n",
    "from sklearn.metrics import silhouette_samples,silhouette_score"
   ]
  },
  {
   "cell_type": "code",
   "execution_count": 44,
   "id": "81c50e07-1c79-4516-ac4a-c41bc981bcef",
   "metadata": {
    "tags": []
   },
   "outputs": [],
   "source": [
    "model=KMeans(n_clusters=2,max_iter=500,n_init=20)"
   ]
  },
  {
   "cell_type": "code",
   "execution_count": 59,
   "id": "bde1a94c-66b2-46f9-8d4b-d415f9019521",
   "metadata": {
    "tags": []
   },
   "outputs": [],
   "source": [
    "df=pd.read_csv('G:/dataset/fruits_cluster.csv')"
   ]
  },
  {
   "cell_type": "code",
   "execution_count": 60,
   "id": "c4bf7821-4527-4dd0-9a44-29ba3178b45d",
   "metadata": {
    "tags": []
   },
   "outputs": [],
   "source": [
    "X=df.iloc[:,:]"
   ]
  },
  {
   "cell_type": "code",
   "execution_count": 61,
   "id": "83d62bd1-122b-44c4-b920-f32543ef6051",
   "metadata": {
    "tags": []
   },
   "outputs": [
    {
     "data": {
      "text/html": [
       "<style>#sk-container-id-7 {color: black;background-color: white;}#sk-container-id-7 pre{padding: 0;}#sk-container-id-7 div.sk-toggleable {background-color: white;}#sk-container-id-7 label.sk-toggleable__label {cursor: pointer;display: block;width: 100%;margin-bottom: 0;padding: 0.3em;box-sizing: border-box;text-align: center;}#sk-container-id-7 label.sk-toggleable__label-arrow:before {content: \"▸\";float: left;margin-right: 0.25em;color: #696969;}#sk-container-id-7 label.sk-toggleable__label-arrow:hover:before {color: black;}#sk-container-id-7 div.sk-estimator:hover label.sk-toggleable__label-arrow:before {color: black;}#sk-container-id-7 div.sk-toggleable__content {max-height: 0;max-width: 0;overflow: hidden;text-align: left;background-color: #f0f8ff;}#sk-container-id-7 div.sk-toggleable__content pre {margin: 0.2em;color: black;border-radius: 0.25em;background-color: #f0f8ff;}#sk-container-id-7 input.sk-toggleable__control:checked~div.sk-toggleable__content {max-height: 200px;max-width: 100%;overflow: auto;}#sk-container-id-7 input.sk-toggleable__control:checked~label.sk-toggleable__label-arrow:before {content: \"▾\";}#sk-container-id-7 div.sk-estimator input.sk-toggleable__control:checked~label.sk-toggleable__label {background-color: #d4ebff;}#sk-container-id-7 div.sk-label input.sk-toggleable__control:checked~label.sk-toggleable__label {background-color: #d4ebff;}#sk-container-id-7 input.sk-hidden--visually {border: 0;clip: rect(1px 1px 1px 1px);clip: rect(1px, 1px, 1px, 1px);height: 1px;margin: -1px;overflow: hidden;padding: 0;position: absolute;width: 1px;}#sk-container-id-7 div.sk-estimator {font-family: monospace;background-color: #f0f8ff;border: 1px dotted black;border-radius: 0.25em;box-sizing: border-box;margin-bottom: 0.5em;}#sk-container-id-7 div.sk-estimator:hover {background-color: #d4ebff;}#sk-container-id-7 div.sk-parallel-item::after {content: \"\";width: 100%;border-bottom: 1px solid gray;flex-grow: 1;}#sk-container-id-7 div.sk-label:hover label.sk-toggleable__label {background-color: #d4ebff;}#sk-container-id-7 div.sk-serial::before {content: \"\";position: absolute;border-left: 1px solid gray;box-sizing: border-box;top: 0;bottom: 0;left: 50%;z-index: 0;}#sk-container-id-7 div.sk-serial {display: flex;flex-direction: column;align-items: center;background-color: white;padding-right: 0.2em;padding-left: 0.2em;position: relative;}#sk-container-id-7 div.sk-item {position: relative;z-index: 1;}#sk-container-id-7 div.sk-parallel {display: flex;align-items: stretch;justify-content: center;background-color: white;position: relative;}#sk-container-id-7 div.sk-item::before, #sk-container-id-7 div.sk-parallel-item::before {content: \"\";position: absolute;border-left: 1px solid gray;box-sizing: border-box;top: 0;bottom: 0;left: 50%;z-index: -1;}#sk-container-id-7 div.sk-parallel-item {display: flex;flex-direction: column;z-index: 1;position: relative;background-color: white;}#sk-container-id-7 div.sk-parallel-item:first-child::after {align-self: flex-end;width: 50%;}#sk-container-id-7 div.sk-parallel-item:last-child::after {align-self: flex-start;width: 50%;}#sk-container-id-7 div.sk-parallel-item:only-child::after {width: 0;}#sk-container-id-7 div.sk-dashed-wrapped {border: 1px dashed gray;margin: 0 0.4em 0.5em 0.4em;box-sizing: border-box;padding-bottom: 0.4em;background-color: white;}#sk-container-id-7 div.sk-label label {font-family: monospace;font-weight: bold;display: inline-block;line-height: 1.2em;}#sk-container-id-7 div.sk-label-container {text-align: center;}#sk-container-id-7 div.sk-container {/* jupyter's `normalize.less` sets `[hidden] { display: none; }` but bootstrap.min.css set `[hidden] { display: none !important; }` so we also need the `!important` here to be able to override the default hidden behavior on the sphinx rendered scikit-learn.org. See: https://github.com/scikit-learn/scikit-learn/issues/21755 */display: inline-block !important;position: relative;}#sk-container-id-7 div.sk-text-repr-fallback {display: none;}</style><div id=\"sk-container-id-7\" class=\"sk-top-container\"><div class=\"sk-text-repr-fallback\"><pre>KMeans(max_iter=50, n_clusters=2, n_init=5)</pre><b>In a Jupyter environment, please rerun this cell to show the HTML representation or trust the notebook. <br />On GitHub, the HTML representation is unable to render, please try loading this page with nbviewer.org.</b></div><div class=\"sk-container\" hidden><div class=\"sk-item\"><div class=\"sk-estimator sk-toggleable\"><input class=\"sk-toggleable__control sk-hidden--visually\" id=\"sk-estimator-id-7\" type=\"checkbox\" checked><label for=\"sk-estimator-id-7\" class=\"sk-toggleable__label sk-toggleable__label-arrow\">KMeans</label><div class=\"sk-toggleable__content\"><pre>KMeans(max_iter=50, n_clusters=2, n_init=5)</pre></div></div></div></div></div>"
      ],
      "text/plain": [
       "KMeans(max_iter=50, n_clusters=2, n_init=5)"
      ]
     },
     "execution_count": 61,
     "metadata": {},
     "output_type": "execute_result"
    }
   ],
   "source": [
    "model.fit(X)"
   ]
  },
  {
   "cell_type": "code",
   "execution_count": 62,
   "id": "50068b31-cde0-489d-b78b-4e199b5eb2f0",
   "metadata": {
    "tags": []
   },
   "outputs": [
    {
     "data": {
      "text/plain": [
       "array(['kmeans0', 'kmeans1'], dtype=object)"
      ]
     },
     "execution_count": 62,
     "metadata": {},
     "output_type": "execute_result"
    }
   ],
   "source": [
    "model.get_feature_names_out()"
   ]
  },
  {
   "cell_type": "code",
   "execution_count": 63,
   "id": "28e6cbbe-0663-43c0-8be7-67849b36993d",
   "metadata": {
    "tags": []
   },
   "outputs": [
    {
     "data": {
      "text/plain": [
       "array([0, 1, 1, 1, 0, 0, 1, 0, 1, 0, 0, 0, 0, 0, 1, 1, 0, 0, 1, 1, 0, 0])"
      ]
     },
     "execution_count": 63,
     "metadata": {},
     "output_type": "execute_result"
    }
   ],
   "source": [
    "y=model.labels_\n",
    "y"
   ]
  },
  {
   "cell_type": "code",
   "execution_count": 64,
   "id": "989fb857-7564-462f-ba9b-c60254307244",
   "metadata": {},
   "outputs": [
    {
     "data": {
      "text/plain": [
       "array([0.756896  , 0.08910924, 0.7106429 , 0.73673795, 0.37057472,\n",
       "       0.68911747, 0.48795214, 0.74580381, 0.09269296, 0.32304302,\n",
       "       0.68826806, 0.54228985, 0.73426441, 0.72721378, 0.74553973,\n",
       "       0.67113401, 0.75763073, 0.6883263 , 0.66879425, 0.74543725,\n",
       "       0.66687718, 0.66656766])"
      ]
     },
     "execution_count": 64,
     "metadata": {},
     "output_type": "execute_result"
    }
   ],
   "source": [
    "score=silhouette_samples(X,y)\n",
    "score"
   ]
  },
  {
   "cell_type": "code",
   "execution_count": 65,
   "id": "ba9d713c-e2b1-4f7a-a975-2515d9a2b7ad",
   "metadata": {
    "tags": []
   },
   "outputs": [
    {
     "name": "stdout",
     "output_type": "stream",
     "text": [
      "0.6047687920287002\n"
     ]
    }
   ],
   "source": [
    "print(silhouette_score(X,y))"
   ]
  },
  {
   "cell_type": "code",
   "execution_count": 66,
   "id": "752a0565-2a2b-4796-a5d4-be59825adaa2",
   "metadata": {
    "tags": []
   },
   "outputs": [],
   "source": [
    "import warnings\n",
    "warnings.filterwarnings('ignore')"
   ]
  },
  {
   "cell_type": "code",
   "execution_count": 67,
   "id": "bb371400-649a-4ab9-b1ec-d9bf3e3bf606",
   "metadata": {
    "tags": []
   },
   "outputs": [
    {
     "name": "stdout",
     "output_type": "stream",
     "text": [
      "[0.6047687920287002, 0.5562767664418119, 0.5952186571525124, 0.5560766850954381, 0.5301035298958772, 0.5366347343504834]\n"
     ]
    }
   ],
   "source": [
    "z=[]\n",
    "X=df.iloc[:,:]\n",
    "for i in range(2,8):\n",
    "    model=KMeans(n_clusters=i,max_iter=50,n_init=10)\n",
    "    model.fit(X)\n",
    "    y=model.labels_\n",
    "    c=silhouette_score(X,y)\n",
    "    z.append(c)\n",
    "print(z)"
   ]
  },
  {
   "cell_type": "code",
   "execution_count": 68,
   "id": "fad53c9f-075f-4a4b-aa18-a6ebb35f57b6",
   "metadata": {
    "tags": []
   },
   "outputs": [
    {
     "name": "stdout",
     "output_type": "stream",
     "text": [
      "PAWAN YADAV\n",
      "AI & ML ENGINEER\n"
     ]
    }
   ],
   "source": [
    "class Pawan():\n",
    "    def __init__(self, name,desig):\n",
    "        self.name=name\n",
    "        self.desig=desig\n",
    "    def about(self):\n",
    "        print(name,'\\n',desig,sep='')\n",
    "name='PAWAN YADAV'\n",
    "desig='AI & ML ENGINEER'\n",
    "intro=Pawan(name,desig)\n",
    "intro.about()"
   ]
  },
  {
   "cell_type": "code",
   "execution_count": 69,
   "id": "6692a6e0-e8c0-48d0-85ee-026db16df569",
   "metadata": {
    "tags": []
   },
   "outputs": [
    {
     "data": {
      "text/html": [
       "<style>#sk-container-id-8 {color: black;background-color: white;}#sk-container-id-8 pre{padding: 0;}#sk-container-id-8 div.sk-toggleable {background-color: white;}#sk-container-id-8 label.sk-toggleable__label {cursor: pointer;display: block;width: 100%;margin-bottom: 0;padding: 0.3em;box-sizing: border-box;text-align: center;}#sk-container-id-8 label.sk-toggleable__label-arrow:before {content: \"▸\";float: left;margin-right: 0.25em;color: #696969;}#sk-container-id-8 label.sk-toggleable__label-arrow:hover:before {color: black;}#sk-container-id-8 div.sk-estimator:hover label.sk-toggleable__label-arrow:before {color: black;}#sk-container-id-8 div.sk-toggleable__content {max-height: 0;max-width: 0;overflow: hidden;text-align: left;background-color: #f0f8ff;}#sk-container-id-8 div.sk-toggleable__content pre {margin: 0.2em;color: black;border-radius: 0.25em;background-color: #f0f8ff;}#sk-container-id-8 input.sk-toggleable__control:checked~div.sk-toggleable__content {max-height: 200px;max-width: 100%;overflow: auto;}#sk-container-id-8 input.sk-toggleable__control:checked~label.sk-toggleable__label-arrow:before {content: \"▾\";}#sk-container-id-8 div.sk-estimator input.sk-toggleable__control:checked~label.sk-toggleable__label {background-color: #d4ebff;}#sk-container-id-8 div.sk-label input.sk-toggleable__control:checked~label.sk-toggleable__label {background-color: #d4ebff;}#sk-container-id-8 input.sk-hidden--visually {border: 0;clip: rect(1px 1px 1px 1px);clip: rect(1px, 1px, 1px, 1px);height: 1px;margin: -1px;overflow: hidden;padding: 0;position: absolute;width: 1px;}#sk-container-id-8 div.sk-estimator {font-family: monospace;background-color: #f0f8ff;border: 1px dotted black;border-radius: 0.25em;box-sizing: border-box;margin-bottom: 0.5em;}#sk-container-id-8 div.sk-estimator:hover {background-color: #d4ebff;}#sk-container-id-8 div.sk-parallel-item::after {content: \"\";width: 100%;border-bottom: 1px solid gray;flex-grow: 1;}#sk-container-id-8 div.sk-label:hover label.sk-toggleable__label {background-color: #d4ebff;}#sk-container-id-8 div.sk-serial::before {content: \"\";position: absolute;border-left: 1px solid gray;box-sizing: border-box;top: 0;bottom: 0;left: 50%;z-index: 0;}#sk-container-id-8 div.sk-serial {display: flex;flex-direction: column;align-items: center;background-color: white;padding-right: 0.2em;padding-left: 0.2em;position: relative;}#sk-container-id-8 div.sk-item {position: relative;z-index: 1;}#sk-container-id-8 div.sk-parallel {display: flex;align-items: stretch;justify-content: center;background-color: white;position: relative;}#sk-container-id-8 div.sk-item::before, #sk-container-id-8 div.sk-parallel-item::before {content: \"\";position: absolute;border-left: 1px solid gray;box-sizing: border-box;top: 0;bottom: 0;left: 50%;z-index: -1;}#sk-container-id-8 div.sk-parallel-item {display: flex;flex-direction: column;z-index: 1;position: relative;background-color: white;}#sk-container-id-8 div.sk-parallel-item:first-child::after {align-self: flex-end;width: 50%;}#sk-container-id-8 div.sk-parallel-item:last-child::after {align-self: flex-start;width: 50%;}#sk-container-id-8 div.sk-parallel-item:only-child::after {width: 0;}#sk-container-id-8 div.sk-dashed-wrapped {border: 1px dashed gray;margin: 0 0.4em 0.5em 0.4em;box-sizing: border-box;padding-bottom: 0.4em;background-color: white;}#sk-container-id-8 div.sk-label label {font-family: monospace;font-weight: bold;display: inline-block;line-height: 1.2em;}#sk-container-id-8 div.sk-label-container {text-align: center;}#sk-container-id-8 div.sk-container {/* jupyter's `normalize.less` sets `[hidden] { display: none; }` but bootstrap.min.css set `[hidden] { display: none !important; }` so we also need the `!important` here to be able to override the default hidden behavior on the sphinx rendered scikit-learn.org. See: https://github.com/scikit-learn/scikit-learn/issues/21755 */display: inline-block !important;position: relative;}#sk-container-id-8 div.sk-text-repr-fallback {display: none;}</style><div id=\"sk-container-id-8\" class=\"sk-top-container\"><div class=\"sk-text-repr-fallback\"><pre>AgglomerativeClustering(n_clusters=5)</pre><b>In a Jupyter environment, please rerun this cell to show the HTML representation or trust the notebook. <br />On GitHub, the HTML representation is unable to render, please try loading this page with nbviewer.org.</b></div><div class=\"sk-container\" hidden><div class=\"sk-item\"><div class=\"sk-estimator sk-toggleable\"><input class=\"sk-toggleable__control sk-hidden--visually\" id=\"sk-estimator-id-8\" type=\"checkbox\" checked><label for=\"sk-estimator-id-8\" class=\"sk-toggleable__label sk-toggleable__label-arrow\">AgglomerativeClustering</label><div class=\"sk-toggleable__content\"><pre>AgglomerativeClustering(n_clusters=5)</pre></div></div></div></div></div>"
      ],
      "text/plain": [
       "AgglomerativeClustering(n_clusters=5)"
      ]
     },
     "execution_count": 69,
     "metadata": {},
     "output_type": "execute_result"
    }
   ],
   "source": [
    "model=AgglomerativeClustering(n_clusters=5)\n",
    "model.fit(X)"
   ]
  },
  {
   "cell_type": "code",
   "execution_count": 70,
   "id": "92196ace-e358-4bc2-b16d-510194e4a4d6",
   "metadata": {},
   "outputs": [],
   "source": [
    "y=model.labels_"
   ]
  },
  {
   "cell_type": "code",
   "execution_count": 71,
   "id": "6259dcd7-5515-4007-b648-31c51b77f1ba",
   "metadata": {
    "tags": []
   },
   "outputs": [
    {
     "data": {
      "text/plain": [
       "0.5560766850954381"
      ]
     },
     "execution_count": 71,
     "metadata": {},
     "output_type": "execute_result"
    }
   ],
   "source": [
    "silhouette_score(X,y)"
   ]
  },
  {
   "cell_type": "code",
   "execution_count": 72,
   "id": "57fa17f5-335a-4c1a-983a-ca0d01f80e16",
   "metadata": {
    "tags": []
   },
   "outputs": [
    {
     "data": {
      "text/plain": [
       "array([0.6657575 , 0.42141069, 0.6997282 , 0.68723633, 0.57439428,\n",
       "       0.83866886, 0.41350355, 0.62098621, 0.41622983, 0.61941446,\n",
       "       0.82106788, 0.05347566, 0.29594147, 0.70892304, 0.49510992,\n",
       "       0.62472199, 0.67177857, 0.83273586, 0.37544544, 0.49420466,\n",
       "       0.44950355, 0.4534491 ])"
      ]
     },
     "execution_count": 72,
     "metadata": {},
     "output_type": "execute_result"
    }
   ],
   "source": [
    "silhouette_samples(X,y)"
   ]
  },
  {
   "cell_type": "code",
   "execution_count": 73,
   "id": "2825e749-5707-47ff-821a-037ee305395d",
   "metadata": {},
   "outputs": [],
   "source": [
    "import pandas as pd\n",
    "from sklearn.cluster import KMeans\n",
    "from sklearn.metrics import silhouette_samples,silhouette_score"
   ]
  },
  {
   "cell_type": "code",
   "execution_count": 74,
   "id": "6a5c2e24-a86b-4c49-aaf5-257ba86cdf43",
   "metadata": {
    "tags": []
   },
   "outputs": [
    {
     "data": {
      "text/plain": [
       "array([0, 1, 2, 2, 1, 0, 1, 0, 1, 1, 0, 1, 0, 0, 2, 2, 0, 0, 2, 2, 1, 1])"
      ]
     },
     "execution_count": 74,
     "metadata": {},
     "output_type": "execute_result"
    }
   ],
   "source": [
    "df=pd.read_csv('G:/dataset/fruits_cluster.csv')\n",
    "X=df.iloc[:,:].values\n",
    "model=KMeans(max_iter=50,n_clusters=3,n_init=5)\n",
    "model.fit(X)\n",
    "model.labels_"
   ]
  },
  {
   "cell_type": "code",
   "execution_count": 75,
   "id": "d5ec939c-a878-4a2e-af6d-8c197a551adf",
   "metadata": {
    "tags": []
   },
   "outputs": [
    {
     "data": {
      "text/plain": [
       "array([0, 1, 1, 1, 0, 0, 1, 0, 1, 0, 0, 0, 0, 0, 1, 1, 0, 0, 1, 1, 0, 0])"
      ]
     },
     "execution_count": 75,
     "metadata": {},
     "output_type": "execute_result"
    }
   ],
   "source": [
    "model=KMeans(max_iter=50,n_clusters=2,n_init=5)\n",
    "model.fit(X)\n",
    "model.labels_"
   ]
  },
  {
   "cell_type": "markdown",
   "id": "d744ad38-4185-456a-be96-a4161959370f",
   "metadata": {
    "tags": []
   },
   "source": [
    "# how to select number of clusters in KMeans\n",
    "- elbow technique can be used in select num of clusters\n",
    "\n",
    "- it is a graphical technique where we plot line chart b/w num_of_clustrs & wsse scores"
   ]
  },
  {
   "cell_type": "code",
   "execution_count": 76,
   "id": "a699a356-901d-4d15-9613-dafe55ebd9cd",
   "metadata": {
    "tags": []
   },
   "outputs": [],
   "source": [
    "wsse=[]\n",
    "for i in range(1,10):\n",
    "    model=KMeans(n_clusters=i,max_iter=50,n_init=5)\n",
    "    model.fit(X)\n",
    "    wsse.append(model.inertia_)"
   ]
  },
  {
   "cell_type": "code",
   "execution_count": 77,
   "id": "a981ed51-4b70-4da9-9477-2fbbf47a273f",
   "metadata": {
    "tags": []
   },
   "outputs": [
    {
     "data": {
      "image/png": "[encoded data removed]",
      "text/plain": [
       "<Figure size 640x480 with 1 Axes>"
      ]
     },
     "metadata": {},
     "output_type": "display_data"
    }
   ],
   "source": [
    "import matplotlib.pyplot as plt\n",
    "plt.plot(range(1,10),wsse)\n",
    "plt.show()"
   ]
  },
  {
   "cell_type": "code",
   "execution_count": 78,
   "id": "d42998fe-817e-4d93-bc42-ba5136fe37f3",
   "metadata": {
    "tags": []
   },
   "outputs": [
    {
     "name": "stdout",
     "output_type": "stream",
     "text": [
      "0.6047687920287002\n"
     ]
    }
   ],
   "source": [
    "model=KMeans(n_clusters=2,max_iter=50,n_init=5)\n",
    "model.fit(X)\n",
    "print(silhouette_score(X,model.labels_))"
   ]
  },
  {
   "cell_type": "code",
   "execution_count": 82,
   "id": "2c04bf4d-db8b-4f40-aea6-5ac580cdbce6",
   "metadata": {
    "tags": []
   },
   "outputs": [
    {
     "name": "stdout",
     "output_type": "stream",
     "text": [
      "0.5461132534376998\n"
     ]
    }
   ],
   "source": [
    "model=KMeans(n_clusters=3,max_iter=50,n_init=5)\n",
    "model.fit(X)\n",
    "print(silhouette_score(X,model.labels_))"
   ]
  },
  {
   "cell_type": "code",
   "execution_count": 83,
   "id": "39cbe1e7-892d-49ae-87ac-36aab022face",
   "metadata": {
    "tags": []
   },
   "outputs": [
    {
     "name": "stdout",
     "output_type": "stream",
     "text": [
      "0.5952186571525124\n"
     ]
    }
   ],
   "source": [
    "model=KMeans(n_clusters=4,max_iter=50,n_init=5)\n",
    "model.fit(X)\n",
    "print(silhouette_score(X,model.labels_))"
   ]
  },
  {
   "cell_type": "code",
   "execution_count": 84,
   "id": "f7d512db-1fa2-4caa-a248-f7d454eba258",
   "metadata": {
    "tags": []
   },
   "outputs": [
    {
     "name": "stdout",
     "output_type": "stream",
     "text": [
      "[0.756896   0.08910924 0.7106429  0.73673795 0.37057472 0.68911747\n",
      " 0.48795214 0.74580381 0.09269296 0.32304302 0.68826806 0.54228985\n",
      " 0.73426441 0.72721378 0.74553973 0.67113401 0.75763073 0.6883263\n",
      " 0.66879425 0.74543725 0.66687718 0.66656766]\n"
     ]
    }
   ],
   "source": [
    "model=KMeans(n_clusters=2,max_iter=50,n_init=5)\n",
    "model.fit(X)\n",
    "print(silhouette_samples(X,model.labels_))"
   ]
  },
  {
   "cell_type": "code",
   "execution_count": 85,
   "id": "2f9ab1d6-df46-4321-9cff-205fc0b79a00",
   "metadata": {
    "tags": []
   },
   "outputs": [
    {
     "data": {
      "text/plain": [
       "array([0, 1, 1, 1, 0, 0, 1, 0, 1, 0, 0, 0, 0, 0, 1, 1, 0, 0, 1, 1, 0, 0])"
      ]
     },
     "execution_count": 85,
     "metadata": {},
     "output_type": "execute_result"
    }
   ],
   "source": [
    "model.labels_"
   ]
  },
  {
   "cell_type": "code",
   "execution_count": null,
   "id": "ff216f9d-6b7f-48f8-ac7d-2f552f82cfad",
   "metadata": {},
   "outputs": [],
   "source": []
  }
 ],
 "metadata": {
  "kernelspec": {
   "display_name": "Python 3 (ipykernel)",
   "language": "python",
   "name": "python3"
  },
  "language_info": {
   "codemirror_mode": {
    "name": "ipython",
    "version": 3
   },
   "file_extension": ".py",
   "mimetype": "text/x-python",
   "name": "python",
   "nbconvert_exporter": "python",
   "pygments_lexer": "ipython3",
   "version": "3.11.3"
  }
 },
 "nbformat": 4,
 "nbformat_minor": 5
}
