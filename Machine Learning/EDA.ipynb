{
 "cells": [
  {
   "cell_type": "markdown",
   "id": "e08e0577-4d93-476a-afb4-f9a81427df36",
   "metadata": {},
   "source": [
    "# EDA(Exploratory Data Analysis)"
   ]
  },
  {
   "cell_type": "markdown",
   "id": "d9058eeb-832a-4277-8712-16fc6b27037e",
   "metadata": {},
   "source": [
    "# Cars Data"
   ]
  },
  {
   "cell_type": "code",
   "execution_count": null,
   "id": "a3fd8d9e-0517-4fc0-8213-29660843365f",
   "metadata": {
    "tags": []
   },
   "outputs": [],
   "source": [
    "import pandas as pd\n",
    "import numpy as np\n",
    "import matplotlib.pyplot as plt\n",
    "import seaborn as sns\n",
    "import warnings\n",
    "warnings.filterwarnings(\"ignore\")"
   ]
  },
  {
   "cell_type": "markdown",
   "id": "ebc76b9a-e882-4f4d-9f7f-fb06153fdc7b",
   "metadata": {},
   "source": [
    "# Knowing Initial Details about Data"
   ]
  },
  {
   "cell_type": "code",
   "execution_count": null,
   "id": "6378c8c9-c536-4d39-855f-52eb14fdafa0",
   "metadata": {
    "tags": []
   },
   "outputs": [],
   "source": [
    "df=pd.read_csv('G:/dataset/MLbookdataset/ML/Ml/17. EDA/cars.csv')\n",
    "df.shape"
   ]
  },
  {
   "cell_type": "code",
   "execution_count": null,
   "id": "cad5f444-252a-46d4-b575-f16e050128be",
   "metadata": {
    "tags": []
   },
   "outputs": [],
   "source": [
    "df.info()"
   ]
  },
  {
   "cell_type": "code",
   "execution_count": null,
   "id": "2665f0b4-e0a5-4b14-ace1-6f017f473092",
   "metadata": {
    "tags": []
   },
   "outputs": [],
   "source": [
    "df.columns"
   ]
  },
  {
   "cell_type": "code",
   "execution_count": null,
   "id": "566910ea-46d3-4d1c-a473-13a43ba935ec",
   "metadata": {
    "tags": []
   },
   "outputs": [],
   "source": [
    "df.columns.values"
   ]
  },
  {
   "cell_type": "code",
   "execution_count": null,
   "id": "a74e316a-e148-4d8d-9bfe-8681be22b4fd",
   "metadata": {
    "tags": []
   },
   "outputs": [],
   "source": [
    "print(list(df.columns))"
   ]
  },
  {
   "cell_type": "code",
   "execution_count": null,
   "id": "4bb88295-71e6-4f29-a1ec-7e5a7d56af31",
   "metadata": {
    "tags": []
   },
   "outputs": [],
   "source": [
    "df.head(2)"
   ]
  },
  {
   "cell_type": "code",
   "execution_count": null,
   "id": "5326c627-e607-446d-bf36-da252561d6d7",
   "metadata": {
    "tags": []
   },
   "outputs": [],
   "source": [
    "df.tail(2)"
   ]
  },
  {
   "cell_type": "code",
   "execution_count": null,
   "id": "f91ed0c9-9d48-4efa-ba0d-1f9e6b0e9fac",
   "metadata": {
    "tags": []
   },
   "outputs": [],
   "source": [
    "df.head(4)"
   ]
  },
  {
   "cell_type": "code",
   "execution_count": null,
   "id": "294f259f-f68d-4b3c-a9e9-223a2107ea17",
   "metadata": {
    "tags": []
   },
   "outputs": [],
   "source": [
    "df.tail(4)"
   ]
  },
  {
   "cell_type": "markdown",
   "id": "ef339c1d-ed4d-4f0d-be57-1c8b7953be78",
   "metadata": {},
   "source": [
    "# Modifying or Removing Unwanted Data"
   ]
  },
  {
   "cell_type": "code",
   "execution_count": null,
   "id": "2f372298-733a-41d4-bf17-a03c1d0a83be",
   "metadata": {
    "tags": []
   },
   "outputs": [],
   "source": [
    "df=pd.read_csv('G:/dataset/MLbookdataset/ML/Ml/17. EDA/cars.csv')\n",
    "df.drop(['MSRP','Invoice'],axis=1)"
   ]
  },
  {
   "cell_type": "code",
   "execution_count": null,
   "id": "9a469f96-7b4a-4c3f-8366-00bc4fc9e82e",
   "metadata": {
    "tags": []
   },
   "outputs": [],
   "source": [
    "df.drop_duplicates(keep='first')"
   ]
  },
  {
   "cell_type": "code",
   "execution_count": null,
   "id": "d04dac1d-a686-443b-bf15-3b770e54e4bd",
   "metadata": {
    "tags": []
   },
   "outputs": [],
   "source": [
    "df.isnull().sum()"
   ]
  },
  {
   "cell_type": "code",
   "execution_count": null,
   "id": "f5aad91f-11cc-4b8a-9e72-188d5642e66f",
   "metadata": {
    "tags": []
   },
   "outputs": [],
   "source": [
    "df.dropna(inplace=True)"
   ]
  },
  {
   "cell_type": "code",
   "execution_count": null,
   "id": "28ff79a8-fa4b-4796-ad44-272c6944a190",
   "metadata": {
    "tags": []
   },
   "outputs": [],
   "source": [
    "df1=df.sort_values(by='MPG_City',ascending=False)\n",
    "df1"
   ]
  },
  {
   "cell_type": "code",
   "execution_count": null,
   "id": "59a8708b-91d9-481c-8f24-60051b7137c6",
   "metadata": {
    "tags": []
   },
   "outputs": [],
   "source": [
    "df['Origin'].unique()"
   ]
  },
  {
   "cell_type": "code",
   "execution_count": null,
   "id": "7b125bbd-3ee7-48b2-b9a3-f1c2c8e8a4c0",
   "metadata": {
    "tags": []
   },
   "outputs": [],
   "source": [
    "def origin_to_num(x):\n",
    "    if x=='Asia': return 1\n",
    "    if x=='Europe': return 2\n",
    "    if x=='USA': return 3\n",
    "df['Origin']=df['Origin'].apply(origin_to_num)\n",
    "df"
   ]
  },
  {
   "cell_type": "markdown",
   "id": "6e84109c-ac75-4c10-97b1-3c9d9009b907",
   "metadata": {},
   "source": [
    "# Retrieving Data"
   ]
  },
  {
   "cell_type": "code",
   "execution_count": null,
   "id": "1ea7615f-bdf1-4979-bd03-d18d5c14ecf5",
   "metadata": {
    "tags": []
   },
   "outputs": [],
   "source": [
    "df=pd.read_csv('G:/dataset/MLbookdataset/ML/Ml/17. EDA/cars.csv')\n",
    "df.iloc[0]"
   ]
  },
  {
   "cell_type": "code",
   "execution_count": null,
   "id": "9821b9b6-bc87-4bbb-8ef8-a9d97e7a87c4",
   "metadata": {
    "tags": []
   },
   "outputs": [],
   "source": [
    "df.iloc[-1]"
   ]
  },
  {
   "cell_type": "code",
   "execution_count": null,
   "id": "9f7cdf84-3aff-4196-83af-31dd1a5defd6",
   "metadata": {
    "tags": []
   },
   "outputs": [],
   "source": [
    "df.iloc[0:5]"
   ]
  },
  {
   "cell_type": "code",
   "execution_count": null,
   "id": "e892c649-8649-49ff-95cc-9070a5524dd3",
   "metadata": {
    "tags": []
   },
   "outputs": [],
   "source": [
    "df.iloc[:,0]"
   ]
  },
  {
   "cell_type": "code",
   "execution_count": null,
   "id": "1edc05b0-3654-4ec4-b1d7-aecf2028bcb4",
   "metadata": {
    "tags": []
   },
   "outputs": [],
   "source": [
    "df.iloc[:,0:5]"
   ]
  },
  {
   "cell_type": "code",
   "execution_count": null,
   "id": "d430d837-f34f-4d32-8462-4ea0dd86d542",
   "metadata": {
    "tags": []
   },
   "outputs": [],
   "source": [
    "df.iloc[[0,2,4],[1,3,5]]"
   ]
  },
  {
   "cell_type": "code",
   "execution_count": null,
   "id": "26d7be1f-baf4-4aa4-8283-2f59d636da74",
   "metadata": {
    "tags": []
   },
   "outputs": [],
   "source": [
    "df.iloc[0:5,8]"
   ]
  },
  {
   "cell_type": "code",
   "execution_count": null,
   "id": "91bd61b4-1eb3-42ec-9655-9b178710adb6",
   "metadata": {
    "tags": []
   },
   "outputs": [],
   "source": [
    "df.loc[0:5,'MPG_City']"
   ]
  },
  {
   "cell_type": "code",
   "execution_count": null,
   "id": "23a71fde-de08-4cb9-9806-482ed6cbf451",
   "metadata": {
    "tags": []
   },
   "outputs": [],
   "source": [
    "df1=df[['EngineSize','Cylinders','Horsepower','MPG_City','MPG_Highway','Weight','Wheelbase','Length']]\n",
    "df1=df.select_dtypes(include=['float64','int64'])\n",
    "df1"
   ]
  },
  {
   "cell_type": "code",
   "execution_count": null,
   "id": "996060c3-4380-4063-8406-ec64f1e44ea9",
   "metadata": {
    "tags": []
   },
   "outputs": [],
   "source": [
    "df1.info()"
   ]
  },
  {
   "cell_type": "markdown",
   "id": "cc39112b-c83f-4698-af63-9463a8704c58",
   "metadata": {
    "tags": []
   },
   "source": [
    "# Getting Statistical Information"
   ]
  },
  {
   "cell_type": "code",
   "execution_count": null,
   "id": "0b1fe960-79e9-4c4b-9d2d-cabc4471b357",
   "metadata": {
    "tags": []
   },
   "outputs": [],
   "source": [
    "df=pd.read_csv('G:/dataset/MLbookdataset/ML/Ml/17. EDA/cars.csv')\n",
    "df1.describe()"
   ]
  },
  {
   "cell_type": "code",
   "execution_count": null,
   "id": "19c489b5-d933-4710-a919-01c90da9817a",
   "metadata": {
    "tags": []
   },
   "outputs": [],
   "source": [
    "df1.corr(method='pearson')"
   ]
  },
  {
   "cell_type": "code",
   "execution_count": null,
   "id": "ac92ebd9-34ea-4b3c-9645-790856ea1bc3",
   "metadata": {
    "tags": []
   },
   "outputs": [],
   "source": [
    "df1.corr(method='pearson')['MPG_City']"
   ]
  },
  {
   "cell_type": "markdown",
   "id": "8aa4f077-56d6-4bb9-a1b5-75a49049bcda",
   "metadata": {},
   "source": [
    "# Drawing Graphs/Plots"
   ]
  },
  {
   "cell_type": "code",
   "execution_count": null,
   "id": "e0378caa-7e74-492a-9a5d-07ab425440ed",
   "metadata": {
    "tags": []
   },
   "outputs": [],
   "source": [
    "df=pd.read_csv('G:/dataset/MLbookdataset/ML/Ml/17. EDA/cars.csv')\n",
    "sns.displot(data=df,x='MPG_City',bins=10,kde=True,color='red')\n",
    "plt.show()"
   ]
  },
  {
   "cell_type": "code",
   "execution_count": null,
   "id": "d325443b-d36b-4da7-b3f5-06489c47b983",
   "metadata": {
    "tags": []
   },
   "outputs": [],
   "source": [
    "sns.regplot(x='Length',y='MPG_City',data=df,color='green')\n",
    "plt.show()"
   ]
  },
  {
   "cell_type": "code",
   "execution_count": null,
   "id": "f37bc559-7828-458f-b359-235d44cf8f28",
   "metadata": {
    "tags": []
   },
   "outputs": [],
   "source": [
    "df['Type'].unique()"
   ]
  },
  {
   "cell_type": "code",
   "execution_count": null,
   "id": "9579e91e-1779-4ca2-80c3-c0cdc727c5d8",
   "metadata": {
    "tags": []
   },
   "outputs": [],
   "source": [
    "len(df['Type'].unique())"
   ]
  },
  {
   "cell_type": "code",
   "execution_count": null,
   "id": "1b629984-2d55-4714-8ede-44b7f9775bf6",
   "metadata": {
    "tags": []
   },
   "outputs": [],
   "source": [
    "box1=sns.boxplot(x='Type',y='MPG_City',data=df)\n",
    "plt.show()"
   ]
  },
  {
   "cell_type": "code",
   "execution_count": null,
   "id": "bb303fcc-06d7-48b6-b4b7-1400ba6b8465",
   "metadata": {
    "tags": []
   },
   "outputs": [],
   "source": [
    "box2=sns.boxplot(x='Origin',y='MPG_City',data=df)\n",
    "plt.show()"
   ]
  },
  {
   "cell_type": "code",
   "execution_count": null,
   "id": "d4988717-6faa-413a-8d2d-d3b6388db3ff",
   "metadata": {
    "tags": []
   },
   "outputs": [],
   "source": [
    "sns.pairplot(df,hue='Origin')\n",
    "plt.show()"
   ]
  },
  {
   "cell_type": "code",
   "execution_count": null,
   "id": "be62d61a-a58c-43b7-8688-066701220e44",
   "metadata": {},
   "outputs": [],
   "source": []
  },
  {
   "cell_type": "markdown",
   "id": "1c70ca6e-2bff-4274-bdb4-09081ba3e6cf",
   "metadata": {
    "tags": []
   },
   "source": [
    "# Titanic Data"
   ]
  },
  {
   "cell_type": "markdown",
   "id": "0ea2dc43-296b-4056-8876-522b8365e5bd",
   "metadata": {},
   "source": [
    "# Knowing Initial Details about Data"
   ]
  },
  {
   "cell_type": "code",
   "execution_count": null,
   "id": "80c49153-b1ba-42c6-a3b3-37f127fc1bb1",
   "metadata": {},
   "outputs": [],
   "source": [
    "df=pd.read_csv('G:/dataset/MLbookdataset/ML/Ml/17. EDA/titanic.csv')\n",
    "df"
   ]
  },
  {
   "cell_type": "code",
   "execution_count": null,
   "id": "970cdbff-163b-4e3d-8629-2be2d938ed8d",
   "metadata": {
    "tags": []
   },
   "outputs": [],
   "source": [
    "df.shape"
   ]
  },
  {
   "cell_type": "code",
   "execution_count": null,
   "id": "dc8b17ee-b8be-4e93-9365-f2f41b93b7f2",
   "metadata": {
    "tags": []
   },
   "outputs": [],
   "source": [
    "df.info()"
   ]
  },
  {
   "cell_type": "code",
   "execution_count": null,
   "id": "307aabf5-b9b6-4f1a-8a15-32b31dd12f1c",
   "metadata": {
    "tags": []
   },
   "outputs": [],
   "source": [
    "df.columns"
   ]
  },
  {
   "cell_type": "code",
   "execution_count": null,
   "id": "a8c4f2c6-73b4-4dfa-a820-bfe0f1a50a9b",
   "metadata": {
    "tags": []
   },
   "outputs": [],
   "source": [
    "df.columns.values"
   ]
  },
  {
   "cell_type": "code",
   "execution_count": null,
   "id": "53839833-4b83-474b-841d-5edab2be306f",
   "metadata": {
    "tags": []
   },
   "outputs": [],
   "source": [
    "df.head()"
   ]
  },
  {
   "cell_type": "code",
   "execution_count": null,
   "id": "e5131146-c259-4c0e-85bd-a77a56626706",
   "metadata": {
    "tags": []
   },
   "outputs": [],
   "source": [
    "df.tail()"
   ]
  },
  {
   "cell_type": "code",
   "execution_count": null,
   "id": "06a07e79-8597-4749-9b7c-1df87b64f541",
   "metadata": {
    "tags": []
   },
   "outputs": [],
   "source": [
    "df.head(10)"
   ]
  },
  {
   "cell_type": "code",
   "execution_count": null,
   "id": "c8613288-6b9b-4451-b477-0f5b0c5cc781",
   "metadata": {
    "tags": []
   },
   "outputs": [],
   "source": [
    "df.tail(10)"
   ]
  },
  {
   "cell_type": "markdown",
   "id": "d6811085-c0d6-41ee-b038-3170772ce319",
   "metadata": {
    "tags": []
   },
   "source": [
    "# Modifying or Removing Unwanted Data"
   ]
  },
  {
   "cell_type": "code",
   "execution_count": null,
   "id": "40875df3-2875-4884-a008-2bbdd26afcf4",
   "metadata": {
    "tags": []
   },
   "outputs": [],
   "source": [
    "df=pd.read_csv('G:/dataset/MLbookdataset/ML/Ml/17. EDA/titanic.csv')\n",
    "df"
   ]
  },
  {
   "cell_type": "code",
   "execution_count": null,
   "id": "c29b99ad-8397-4c99-a57e-c872581c5e32",
   "metadata": {
    "tags": []
   },
   "outputs": [],
   "source": [
    "df.isnull().sum()"
   ]
  },
  {
   "cell_type": "code",
   "execution_count": null,
   "id": "2a9ce8bb-c1d8-4a2a-9b06-acd1261441c6",
   "metadata": {
    "tags": []
   },
   "outputs": [],
   "source": [
    "df['Age'].isnull().sum()"
   ]
  },
  {
   "cell_type": "code",
   "execution_count": null,
   "id": "7bfaf865-53ac-44e4-be75-f7e864e8b1bd",
   "metadata": {
    "tags": []
   },
   "outputs": [],
   "source": [
    "df[df['Survived']==1]"
   ]
  },
  {
   "cell_type": "code",
   "execution_count": null,
   "id": "1a867af8-daea-4240-b1b6-283a55de84ef",
   "metadata": {
    "tags": []
   },
   "outputs": [],
   "source": [
    "len(df[df['Survived']==1])"
   ]
  },
  {
   "cell_type": "code",
   "execution_count": null,
   "id": "b24a18cd-bde5-4e27-accd-a0bd522029cf",
   "metadata": {
    "tags": []
   },
   "outputs": [],
   "source": [
    "len(df[df['Survived']==0])"
   ]
  },
  {
   "cell_type": "code",
   "execution_count": null,
   "id": "8054c44c-3f43-4720-9ed4-948c126d8e36",
   "metadata": {
    "tags": []
   },
   "outputs": [],
   "source": [
    "df1=df[df['Survived']==1]\n",
    "df2=df[df['Survived']==0]"
   ]
  },
  {
   "cell_type": "code",
   "execution_count": null,
   "id": "9612ec5f-95c1-4fa2-9151-8d73002e5fbe",
   "metadata": {
    "tags": []
   },
   "outputs": [],
   "source": [
    "df3=df['Age'].dropna()\n",
    "df3"
   ]
  },
  {
   "cell_type": "code",
   "execution_count": null,
   "id": "93d19e50-71f0-416c-9a9c-5726c0a10253",
   "metadata": {
    "tags": []
   },
   "outputs": [],
   "source": [
    "df[['Name','Age']][df['Survived']==1]"
   ]
  },
  {
   "cell_type": "code",
   "execution_count": null,
   "id": "6c3d2509-e233-4f94-aec6-5e6ecdce8963",
   "metadata": {
    "tags": []
   },
   "outputs": [],
   "source": [
    "df3=df.select_dtypes(include=['float64','int64'])\n",
    "df3"
   ]
  },
  {
   "cell_type": "code",
   "execution_count": null,
   "id": "9da28dbc-aab2-44a9-b2b4-d6fffc620907",
   "metadata": {
    "tags": []
   },
   "outputs": [],
   "source": [
    "sns.displot(data=df,x='Age',bins=10,kde=True,color='red')\n",
    "plt.show()"
   ]
  },
  {
   "cell_type": "code",
   "execution_count": null,
   "id": "6a70628f-23c4-4a98-9c11-495956438ce5",
   "metadata": {
    "tags": []
   },
   "outputs": [],
   "source": [
    "sns.countplot(data=df1,x=df1['Sex'])\n",
    "plt.show()"
   ]
  },
  {
   "cell_type": "code",
   "execution_count": null,
   "id": "47efc9ad-7daf-4540-a464-976c025f729a",
   "metadata": {
    "tags": []
   },
   "outputs": [],
   "source": [
    "sns.countplot(data=df1,x=df1['Pclass'])\n",
    "plt.show()"
   ]
  },
  {
   "cell_type": "code",
   "execution_count": null,
   "id": "d72e4cad-b7ee-4f8e-9b2c-baa99451d410",
   "metadata": {},
   "outputs": [],
   "source": []
  }
 ],
 "metadata": {
  "kernelspec": {
   "display_name": "Python 3 (ipykernel)",
   "language": "python",
   "name": "python3"
  },
  "language_info": {
   "codemirror_mode": {
    "name": "ipython",
    "version": 3
   },
   "file_extension": ".py",
   "mimetype": "text/x-python",
   "name": "python",
   "nbconvert_exporter": "python",
   "pygments_lexer": "ipython3",
   "version": "3.11.7"
  },
  "widgets": {
   "application/vnd.jupyter.widget-state+json": {
    "state": {},
    "version_major": 2,
    "version_minor": 0
   }
  }
 },
 "nbformat": 4,
 "nbformat_minor": 5
}
