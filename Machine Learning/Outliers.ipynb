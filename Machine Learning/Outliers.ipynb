{
 "cells": [
  {
   "cell_type": "markdown",
   "id": "24fa71b7-f97d-4198-8140-01f0c0eec7f4",
   "metadata": {},
   "source": [
    "# Outliers"
   ]
  },
  {
   "cell_type": "markdown",
   "id": "ec644824-b741-4845-ac19-e82d5d382d8c",
   "metadata": {
    "tags": []
   },
   "source": [
    "# Solid_Waste_Generation_Recycling"
   ]
  },
  {
   "cell_type": "code",
   "execution_count": null,
   "id": "7f9e40f8-877c-4069-9325-6393f5792f0b",
   "metadata": {
    "tags": []
   },
   "outputs": [],
   "source": [
    "import pandas as pd\n",
    "import numpy as np\n",
    "import matplotlib.pyplot as plt\n",
    "import seaborn as sns"
   ]
  },
  {
   "cell_type": "markdown",
   "id": "ed6b23b3-1851-4482-b48b-6f6ae58b69af",
   "metadata": {},
   "source": [
    "# Using Sorting Method to find Outliers"
   ]
  },
  {
   "cell_type": "code",
   "execution_count": null,
   "id": "99e455f1-76cd-447f-b843-60c3b6bd5666",
   "metadata": {
    "tags": []
   },
   "outputs": [],
   "source": [
    "df=pd.read_csv('G:/dataset/MLbookdataset/ML/Ml/18. Outliers/Solid_Waste_Generation___Recycling.csv')\n",
    "df"
   ]
  },
  {
   "cell_type": "code",
   "execution_count": null,
   "id": "eb49be0a-5d0c-49af-bc95-a554b357ef42",
   "metadata": {
    "tags": []
   },
   "outputs": [],
   "source": [
    "df.shape"
   ]
  },
  {
   "cell_type": "code",
   "execution_count": null,
   "id": "3dfbfb1e-0bda-4807-bae3-96705ff68098",
   "metadata": {
    "tags": []
   },
   "outputs": [],
   "source": [
    "df2=df.sort_values('Aluminum Cans')\n",
    "df2.head()"
   ]
  },
  {
   "cell_type": "code",
   "execution_count": null,
   "id": "fe980e25-7a7f-4a09-a0ed-41b978565438",
   "metadata": {
    "tags": []
   },
   "outputs": [],
   "source": [
    "df2.tail()"
   ]
  },
  {
   "cell_type": "markdown",
   "id": "b1cdd6f1-d97e-4f06-85f9-9be057274992",
   "metadata": {},
   "source": [
    "# Using Visual representation to find Outliers"
   ]
  },
  {
   "cell_type": "code",
   "execution_count": null,
   "id": "eb91343c-67a0-42de-a866-2003bcc94d63",
   "metadata": {
    "tags": []
   },
   "outputs": [],
   "source": [
    "sns.boxplot(data=df,x='Aluminum Cans')\n",
    "plt.show()"
   ]
  },
  {
   "cell_type": "code",
   "execution_count": null,
   "id": "dc3cfaca-9c12-415d-b9dc-4437739c18f6",
   "metadata": {
    "tags": []
   },
   "outputs": [],
   "source": [
    "sns.displot(data=df,x='Aluminum Cans',bins=10)\n",
    "plt.show()"
   ]
  },
  {
   "cell_type": "markdown",
   "id": "23f4fcfc-42b0-49d0-9380-118ac0a3a60e",
   "metadata": {},
   "source": [
    "# IQR(Inter Quartile Range) to find Outliers"
   ]
  },
  {
   "cell_type": "code",
   "execution_count": null,
   "id": "b9154b84-1d7c-4d37-9356-17fe32af625b",
   "metadata": {
    "tags": []
   },
   "outputs": [],
   "source": [
    "q3=df['Aluminum Cans'].quantile(0.75)\n",
    "q3"
   ]
  },
  {
   "cell_type": "code",
   "execution_count": null,
   "id": "0d672114-0917-4cbd-90a6-98f8d0e1c3b5",
   "metadata": {
    "tags": []
   },
   "outputs": [],
   "source": [
    "q1=df['Aluminum Cans'].quantile(0.25)\n",
    "q1"
   ]
  },
  {
   "cell_type": "code",
   "execution_count": null,
   "id": "be59abad-0dec-4640-9b6e-ca67c251cd0b",
   "metadata": {
    "tags": []
   },
   "outputs": [],
   "source": [
    "iqr=q3-q1\n",
    "iqr"
   ]
  },
  {
   "cell_type": "code",
   "execution_count": null,
   "id": "696224d0-07da-46cc-aeb0-679680328481",
   "metadata": {
    "tags": []
   },
   "outputs": [],
   "source": [
    "ul=q3+(1.5*iqr)\n",
    "ul"
   ]
  },
  {
   "cell_type": "code",
   "execution_count": null,
   "id": "59ce1a7d-134c-420a-9b80-a45573bd6c77",
   "metadata": {
    "tags": []
   },
   "outputs": [],
   "source": [
    "ll=q1-(1.5*iqr)\n",
    "ll"
   ]
  },
  {
   "cell_type": "code",
   "execution_count": null,
   "id": "a8ecdad8-f9c8-4201-82c1-21140b0e3dd5",
   "metadata": {
    "tags": []
   },
   "outputs": [],
   "source": [
    "upper=np.where(df['Aluminum Cans']>=ul)\n",
    "upper"
   ]
  },
  {
   "cell_type": "code",
   "execution_count": null,
   "id": "2135ce55-b0dc-4873-8cb3-dbf3438bbbba",
   "metadata": {
    "tags": []
   },
   "outputs": [],
   "source": [
    "lower=np.where(df['Aluminum Cans']<=ll)\n",
    "lower"
   ]
  },
  {
   "cell_type": "code",
   "execution_count": null,
   "id": "aa542617-5742-442c-8fbb-bfb881f9f8ea",
   "metadata": {
    "tags": []
   },
   "outputs": [],
   "source": [
    "df.drop(upper[0],inplace=True)\n",
    "df"
   ]
  },
  {
   "cell_type": "code",
   "execution_count": null,
   "id": "27321591-12c2-4e6b-990c-e9ae2e753f69",
   "metadata": {
    "tags": []
   },
   "outputs": [],
   "source": [
    "df.drop(lower[0],inplace=True)\n",
    "df"
   ]
  },
  {
   "cell_type": "code",
   "execution_count": null,
   "id": "9ea4a22c-269d-4989-8faf-562f099619de",
   "metadata": {
    "tags": []
   },
   "outputs": [],
   "source": [
    "df.shape"
   ]
  },
  {
   "cell_type": "code",
   "execution_count": null,
   "id": "e6b34b38-6467-430b-bbd5-4aa1cfc0c983",
   "metadata": {
    "tags": []
   },
   "outputs": [],
   "source": [
    "df1=pd.read_csv('G:/dataset/MLbookdataset/ML/Ml/18. Outliers/Solid_Waste_Generation___Recycling.csv')\n",
    "arr=df1['Aluminum Cans'].values\n",
    "df1"
   ]
  },
  {
   "cell_type": "code",
   "execution_count": null,
   "id": "420c1dd2-1165-4dcc-9850-5e528f8dcebc",
   "metadata": {
    "tags": []
   },
   "outputs": [],
   "source": [
    "arr"
   ]
  },
  {
   "cell_type": "code",
   "execution_count": null,
   "id": "05697c87-b5c7-44ab-9a7b-4c2a8ba42224",
   "metadata": {
    "tags": []
   },
   "outputs": [],
   "source": [
    "true_index=(ll<arr) & (arr < ul)\n",
    "true_index"
   ]
  },
  {
   "cell_type": "code",
   "execution_count": null,
   "id": "06153b9c-ba9f-4da9-8869-536b036b169c",
   "metadata": {
    "tags": []
   },
   "outputs": [],
   "source": [
    "mid=np.median(df1['Aluminum Cans'][true_index])\n",
    "mid"
   ]
  },
  {
   "cell_type": "code",
   "execution_count": null,
   "id": "096f6668-8a50-45ff-aa02-57e357887b58",
   "metadata": {
    "tags": []
   },
   "outputs": [],
   "source": [
    "false_index=~ true_index\n",
    "false_index"
   ]
  },
  {
   "cell_type": "code",
   "execution_count": null,
   "id": "2038fd0f-5410-4cc5-8b66-70024ea653e9",
   "metadata": {
    "tags": []
   },
   "outputs": [],
   "source": [
    "df1['Aluminum Cans'].values[false_index]=mid"
   ]
  },
  {
   "cell_type": "code",
   "execution_count": null,
   "id": "88d3552b-0126-41c4-a58b-f58e0e4c9ce6",
   "metadata": {
    "tags": []
   },
   "outputs": [],
   "source": [
    "df1"
   ]
  },
  {
   "cell_type": "code",
   "execution_count": null,
   "id": "419ad4b2-493a-4c7e-8ee5-f21d772eaf7e",
   "metadata": {},
   "outputs": [],
   "source": []
  },
  {
   "cell_type": "markdown",
   "id": "d2d9e72d-d841-4c79-9514-8aff858ad024",
   "metadata": {
    "tags": []
   },
   "source": [
    "# Outliers replace with mean value"
   ]
  },
  {
   "cell_type": "code",
   "execution_count": null,
   "id": "9ea16826-ae3c-4e30-80b5-161b89ab18e5",
   "metadata": {
    "tags": []
   },
   "outputs": [],
   "source": [
    "df=pd.read_csv('G:/dataset/MLbookdataset/ML/Ml/18. Outliers/Solid_Waste_Generation___Recycling.csv')\n",
    "df"
   ]
  },
  {
   "cell_type": "code",
   "execution_count": null,
   "id": "a66c97e3-47cf-47a1-a7da-cb02f51a0644",
   "metadata": {
    "tags": []
   },
   "outputs": [],
   "source": [
    "df.rename(columns={'Ash, Sand & Dust used in Asphalt Production':'target'},inplace=True)\n",
    "df5=df.sort_values('target')\n",
    "df5.head(15)"
   ]
  },
  {
   "cell_type": "code",
   "execution_count": null,
   "id": "8a622f02-5583-4657-ab4c-d27c8910e325",
   "metadata": {
    "tags": []
   },
   "outputs": [],
   "source": [
    "df['target']"
   ]
  },
  {
   "cell_type": "code",
   "execution_count": null,
   "id": "4a728144-8570-4dc8-8525-54c0e09d7983",
   "metadata": {
    "tags": []
   },
   "outputs": [],
   "source": [
    "sns.boxplot(data=df,x='target')\n",
    "plt.show()"
   ]
  },
  {
   "cell_type": "code",
   "execution_count": null,
   "id": "8bd6c5fc-f54a-422b-8e7d-b57145bec7d1",
   "metadata": {
    "tags": []
   },
   "outputs": [],
   "source": [
    "sns.displot(data=df,x='target',bins=20)\n",
    "plt.show()"
   ]
  },
  {
   "cell_type": "code",
   "execution_count": null,
   "id": "38341eb1-c7a5-4bb1-bac7-d00ab98b492d",
   "metadata": {
    "tags": []
   },
   "outputs": [],
   "source": [
    "q3=df['target'].quantile(0.75)\n",
    "q3"
   ]
  },
  {
   "cell_type": "code",
   "execution_count": null,
   "id": "fa4cd14f-e8fa-4127-bc8b-c9bd22f7ef23",
   "metadata": {
    "tags": []
   },
   "outputs": [],
   "source": [
    "q1=df['target'].quantile(0.25)\n",
    "q1"
   ]
  },
  {
   "cell_type": "code",
   "execution_count": null,
   "id": "4cf025af-cfb7-45de-99c0-1863f9ae4d96",
   "metadata": {
    "tags": []
   },
   "outputs": [],
   "source": [
    "iqr=q3-q1\n",
    "iqr"
   ]
  },
  {
   "cell_type": "code",
   "execution_count": null,
   "id": "a1580076-7eb7-4971-8a90-424958c0f0e5",
   "metadata": {
    "tags": []
   },
   "outputs": [],
   "source": [
    "ul=q3+(1.5*iqr)\n",
    "ul"
   ]
  },
  {
   "cell_type": "code",
   "execution_count": null,
   "id": "b5b0c8a0-a9c3-45d7-ac5d-f435770c868d",
   "metadata": {
    "tags": []
   },
   "outputs": [],
   "source": [
    "ll=q1-(1.5*iqr)\n",
    "ll"
   ]
  },
  {
   "cell_type": "code",
   "execution_count": null,
   "id": "d642e0eb-3582-4e1e-8e8b-6dd94054c80e",
   "metadata": {
    "tags": []
   },
   "outputs": [],
   "source": [
    "upper=np.where(df['target']>=ul)\n",
    "lower=np.where(df['target']<=ll)\n",
    "df.drop(upper[0],inplace=True)\n",
    "df.drop(lower[0],inplace=True)"
   ]
  },
  {
   "cell_type": "code",
   "execution_count": null,
   "id": "ec3d9c3f-3736-491b-b446-aa6208bb6782",
   "metadata": {
    "tags": []
   },
   "outputs": [],
   "source": [
    "df=pd.read_csv('G:/dataset/MLbookdataset/ML/Ml/18. Outliers/Solid_Waste_Generation___Recycling.csv')\n",
    "df.rename(columns={'Ash, Sand & Dust used in Asphalt Production':'target'},inplace=True)\n",
    "arr=df['target'].values"
   ]
  },
  {
   "cell_type": "code",
   "execution_count": null,
   "id": "2b1b5bbb-23be-422d-a79e-93fb4136a1e9",
   "metadata": {
    "tags": []
   },
   "outputs": [],
   "source": [
    "true_index=(ll<arr) & (arr<ul)\n",
    "true_index"
   ]
  },
  {
   "cell_type": "code",
   "execution_count": null,
   "id": "e9784843-7502-4d32-b5b1-da4808fe65a7",
   "metadata": {
    "tags": []
   },
   "outputs": [],
   "source": [
    "mid=np.mean(df['target'][true_index])\n",
    "mid"
   ]
  },
  {
   "cell_type": "code",
   "execution_count": null,
   "id": "77b1e408-0911-410b-9fcd-32cdffa42226",
   "metadata": {
    "tags": []
   },
   "outputs": [],
   "source": [
    "false_index=~true_index\n",
    "false_index"
   ]
  },
  {
   "cell_type": "code",
   "execution_count": null,
   "id": "42b6cc6a-b92a-4787-b5ae-dc6232b22f4a",
   "metadata": {
    "tags": []
   },
   "outputs": [],
   "source": [
    "df['target'].values[false_index]=mid\n",
    "df"
   ]
  },
  {
   "cell_type": "code",
   "execution_count": null,
   "id": "42950a27-8997-47ec-a7bb-204d2c1b8a56",
   "metadata": {},
   "outputs": [],
   "source": []
  },
  {
   "cell_type": "code",
   "execution_count": null,
   "id": "fa475f97-7803-4495-9b10-d472837a185b",
   "metadata": {},
   "outputs": [],
   "source": []
  }
 ],
 "metadata": {
  "kernelspec": {
   "display_name": "Python 3 (ipykernel)",
   "language": "python",
   "name": "python3"
  },
  "language_info": {
   "codemirror_mode": {
    "name": "ipython",
    "version": 3
   },
   "file_extension": ".py",
   "mimetype": "text/x-python",
   "name": "python",
   "nbconvert_exporter": "python",
   "pygments_lexer": "ipython3",
   "version": "3.11.7"
  },
  "widgets": {
   "application/vnd.jupyter.widget-state+json": {
    "state": {},
    "version_major": 2,
    "version_minor": 0
   }
  }
 },
 "nbformat": 4,
 "nbformat_minor": 5
}
