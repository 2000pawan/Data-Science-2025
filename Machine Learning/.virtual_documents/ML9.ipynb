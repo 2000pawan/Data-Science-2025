





from sklearn.neighbors import KNeighborsClassifier
from sklearn.datasets import load_breast_cancer
from sklearn.metrics import accuracy_score,confusion_matrix,f1_score,recall_score,precision_score,classification_report
from sklearn.preprocessing import StandardScaler
from sklearn.model_selection import train_test_split,cross_val_score
from sklearn.feature_selection import SelectKBest,f_classif


df=load_breast_cancer()
# print(df.DESCR)


X=df.data
y=df.target
X_train,X_test,y_train,y_test=train_test_split(X,y,random_state=1)
sc=StandardScaler()
X_train_new=sc.fit_transform(X_train)
X_test_new=sc.transform(X_test)
model=KNeighborsClassifier()
model.fit(X_train_new,y_train)
pred_train=model.predict(X_train_new)
pred_test=model.predict(X_test_new)
print("Accuracy Score of Training:- ",accuracy_score(y_train,pred_train))
print("Accuracy Score of Testing:- ",accuracy_score(y_test,pred_test))





X=df.data
y=df.target
k_best=SelectKBest(f_classif,k=29)
X_new=k_best.fit_transform(X,y)
X_train,X_test,y_train,y_test=train_test_split(X_new,y,random_state=1)
sc=StandardScaler()
X_train_new=sc.fit_transform(X_train)
X_test_new=sc.transform(X_test)
model=KNeighborsClassifier()
model.fit(X_train_new,y_train)
pred_train=model.predict(X_train_new)
pred_test=model.predict(X_test_new)
print("Accuracy Score of Training:- ",accuracy_score(y_train,pred_train))
print("Accuracy Score of Testing:- ",accuracy_score(y_test,pred_test))


X=df.data
y=df.target
l=df.data.shape[1]
print(l)
for i in range(20,l+1):
    k_best=SelectKBest(f_classif,k=i)
    X_new=k_best.fit_transform(X,y)
    X_train,X_test,y_train,y_test=train_test_split(X_new,y,random_state=1)
    sc=StandardScaler()
    X_train_new=sc.fit_transform(X_train)
    X_test_new=sc.transform(X_test)
    for n in range(5,9):
        model=KNeighborsClassifier(n_neighbors=n)
        model.fit(X_train_new,y_train)
        pred_train=model.predict(X_train_new)
        pred_test=model.predict(X_test_new)
        print("Accuracy Score of Training:- ",accuracy_score(y_train,pred_train))
        print("Accuracy Score of Testing:- ",accuracy_score(y_test,pred_test))
        print("-------------------------",i,n)
    print("---------------------------------------------------------------------------")


X=df.data
y=df.target
k_best=SelectKBest(f_classif,k=27)
X_new=k_best.fit_transform(X,y)
X_train,X_test,y_train,y_test=train_test_split(X_new,y,random_state=1)
sc=StandardScaler()
X_train_new=sc.fit_transform(X_train)
X_test_new=sc.transform(X_test)
model=KNeighborsClassifier(n_neighbors=6)
model.fit(X_train_new,y_train)
pred_train=model.predict(X_train_new)
pred_test=model.predict(X_test_new)
print("Accuracy Score of Training:- ",accuracy_score(y_train,pred_train))
print("Accuracy Score of Testing:- ",accuracy_score(y_test,pred_test))





df=load_breast_cancer()
X=df.data
y=df.target
sc=StandardScaler()
X_new=sc.fit_transform(X)
model=KNeighborsClassifier()
pred=cross_val_score(model,X_new,y,cv=5)
pred.mean()


df=load_breast_cancer()
X=df.data
y=df.target
k=SelectKBest(f_classif,k=24)
X_new=k.fit_transform(X,y)
sc=StandardScaler()
X_train=sc.fit_transform(X_new)
model=KNeighborsClassifier()
pred=cross_val_score(model,X_train,y,cv=5)
pred.mean()


df=load_breast_cancer()
X=df.data
y=df.target
for i in range(10,df.data.shape[1]+1):
    k=SelectKBest(f_classif,k=i)
    X_new=k.fit_transform(X,y)
    sc=StandardScaler()
    X_train=sc.fit_transform(X_new)
    model=KNeighborsClassifier()
    pred=cross_val_score(model,X_train,y,cv=5)
    print(pred.mean())
    print("----------------------------------------------",i)
    print("__________________________________________________________________")


df=load_breast_cancer()
X=df.data
y=df.target
k=SelectKBest(f_classif,k=25)
X_new=k.fit_transform(X,y)
sc=StandardScaler()
X_train=sc.fit_transform(X_new)
model=KNeighborsClassifier()
pred=cross_val_score(model,X_train,y,cv=5)
pred.mean()


X=df.data
y=df.target
k_best=SelectKBest(f_classif,k=27)
X_new=k_best.fit_transform(X,y)
X_train,X_test,y_train,y_test=train_test_split(X_new,y,random_state=1)
sc=StandardScaler()
X_train_new=sc.fit_transform(X_train)
X_test_new=sc.transform(X_test)
model=KNeighborsClassifier(n_neighbors=6)
model.fit(X_train_new,y_train)
pred_train=model.predict(X_train_new)
pred_test=model.predict(X_test_new)
print("Accuracy Score of Training:- ",accuracy_score(y_train,pred_train))
print("Accuracy Score of Testing:- ",accuracy_score(y_test,pred_test))


confusion_matrix(y_train,pred_train)


print(confusion_matrix(y_test,pred_test))



