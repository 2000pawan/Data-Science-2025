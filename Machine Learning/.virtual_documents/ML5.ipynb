import pandas as pd
from sklearn.preprocessing import MinMaxScaler,MaxAbsScaler,StandardScaler
from sklearn.model_selection import train_test_split
from sklearn.metrics import accuracy_score
from sklearn.neighbors import KNeighborsClassifier





df=pd.read_csv("G:/dataset/classification/fruits.csv")
X=df.iloc[:,:-1].values
y=df.iloc[:,-1].values
X_train,X_test,y_train,y_test=train_test_split(X,y,test_size=.33,random_state=22)
sc=MinMaxScaler()
X_train_new=sc.fit_transform(X_train)
X_test_new=sc.transform(X_test)
model=KNeighborsClassifier()
model.fit(X_train_new,y_train)
pred_train=model.predict(X_train_new)
pred_test=model.predict(X_test_new)
print("Accuracy Score of Training:- ",accuracy_score(y_train,pred_train))
print("Accuracy Score of Testing:- ",accuracy_score(y_test,pred_test))





df=pd.read_csv("G:/dataset/classification/fruits.csv")
X=df.iloc[:,:-1].values
y=df.iloc[:,-1].values
X_train,X_test,y_train,y_test=train_test_split(X,y,test_size=.33,random_state=22)
sc=MaxAbsScaler()
X_train_new=sc.fit_transform(X_train)
X_test_new=sc.transform(X_test)
model=KNeighborsClassifier()
model.fit(X_train_new,y_train)
pred_train=model.predict(X_train_new)
pred_test=model.predict(X_test_new)
print("Accuracy Score of Training:- ",accuracy_score(y_train,pred_train))
print("Accuracy Score of Testing:- ",accuracy_score(y_test,pred_test))





df=pd.read_csv("G:/dataset/classification/fruits.csv")
X=df.iloc[:,:-1].values
y=df.iloc[:,-1].values
X_train,X_test,y_train,y_test=train_test_split(X,y,test_size=.33,random_state=22)
sc=StandardScaler()
X_train_new=sc.fit_transform(X_train)
X_test_new=sc.transform(X_test)
model=KNeighborsClassifier()
model.fit(X_train_new,y_train)
pred_train=model.predict(X_train_new)
pred_test=model.predict(X_test_new)
print("Accuracy Score of Training:- ",accuracy_score(y_train,pred_train))
print("Accuracy Score of Testing:- ",accuracy_score(y_test,pred_test))








df=pd.read_csv("G:/dataset/classification/fruits.csv")
X=df.iloc[:,:-1].values
y=df.iloc[:,-1].values
X_train,X_test,y_train,y_test=train_test_split(X,y,random_state=22)
sc=StandardScaler()
X_train_new=sc.fit_transform(X_train)
X_test_new=sc.transform(X_test)
dist=['minkowski','euclidean','manhattan']
for i in range(1,8):
    print(f"---Neighbors:- {i} -------")
    for j in dist:
        print(f"------Metrics:- {j}----------")
        model=KNeighborsClassifier(n_neighbors=i,metric=j)
        model.fit(X_train_new,y_train)
        pred_train=model.predict(X_train_new)
        pred_test=model.predict(X_test_new)
        print("Accuracy Score of Training:- ",accuracy_score(y_train,pred_train))
        print("Accuracy Score of Testing:- ",accuracy_score(y_test,pred_test))
        print("----------------------------------------------")
    print("\n\n----------------------------------------------")





df=pd.read_csv("G:/dataset/classification/fruits.csv")
X=df.iloc[:,:-1].values
y=df.iloc[:,-1].values
X_train,X_test,y_train,y_test=train_test_split(X,y,test_size=.25,random_state=22)
sc=MinMaxScaler()
X_train_new=sc.fit_transform(X_train)
X_test_new=sc.transform(X_test)
dist=['minkowski','euclidean','manhattan']
for i in range(1,8):
    print(f"---Neighbors:- {i} -------")
    for j in dist:
        print(f"------Metrics:- {j}----------")
        model=KNeighborsClassifier(n_neighbors=i,metric=j)
        model.fit(X_train_new,y_train)
        pred_train=model.predict(X_train_new)
        pred_test=model.predict(X_test_new)
        print("Accuracy Score of Training:- ",accuracy_score(y_train,pred_train))
        print("Accuracy Score of Testing:- ",accuracy_score(y_test,pred_test))
        print("----------------------------------------------")
    print("\n\n----------------------------------------------")





df=pd.read_csv("G:/dataset/classification/fruits.csv")
X=df.iloc[:,:-1].values
y=df.iloc[:,-1].values
X_train,X_test,y_train,y_test=train_test_split(X,y,test_size=.25,random_state=22)
sc=MaxAbsScaler()
X_train_new=sc.fit_transform(X_train)
X_test_new=sc.transform(X_test)
dist=['minkowski','euclidean','manhattan']
for i in range(1,8):
    print(f"---Neighbors:- {i} -------")
    for j in dist:
        print(f"------Metrics:- {j}----------")
        model=KNeighborsClassifier(n_neighbors=i,metric=j)
        model.fit(X_train_new,y_train)
        pred_train=model.predict(X_train_new)
        pred_test=model.predict(X_test_new)
        print("Accuracy Score of Training:- ",accuracy_score(y_train,pred_train))
        print("Accuracy Score of Testing:- ",accuracy_score(y_test,pred_test))
        print("----------------------------------------------")
    print("\n\n----------------------------------------------")



