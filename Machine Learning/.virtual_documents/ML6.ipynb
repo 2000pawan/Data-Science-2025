


import pandas as pd
from sklearn.neighbors import KNeighborsClassifier
from sklearn.metrics import accuracy_score,confusion_matrix,f1_score,classification_report,recall_score,precision_score
from sklearn.preprocessing import StandardScaler,LabelEncoder,OneHotEncoder
from sklearn.model_selection import train_test_split





df=pd.read_csv("G:/dataset/classification/online_shop.csv")
df.head(5)


# Using Pandas
df=pd.read_csv("G:/dataset/classification/online_shop.csv")
df.head(5)
df.Gender=df.Gender.map({'Male':1,'Female':0})
df.head(5)


# Using Sklearn Label encoder.
df=pd.read_csv("G:/dataset/classification/online_shop.csv")
en=LabelEncoder()
df.Gender=en.fit_transform(df.Gender)
df.head(5)





# Using Pandas.
df=pd.read_csv("G:/dataset/classification/online_shop.csv")
df1=(pd.get_dummies(df.Gender))
X=pd.concat([df,df1],axis=1)
X.drop(columns=["Gender"],inplace=True)
X


# Using Sklearn.
df=pd.read_csv("G:/dataset/classification/online_shop.csv")
y=list(df.Purchased)
df.drop(columns=['Purchased'],inplace=True)
en=OneHotEncoder(sparse_output=False)
x=en.fit_transform(df[['Gender']])
df1=pd.DataFrame(x,columns=['Female','Male'])
df2=pd.concat([df,df1],axis=1)
df2.drop(columns='Gender',inplace=True)


X=df2.iloc[:,:].values
model=KNeighborsClassifier()
model.fit(X,y)
accuracy_score(y,model.predict(X))


pred_train=model.predict(X)
confusion_matrix(y,pred_train)


precision_score_0=242/(242+36)
print(precision_score_0)
precision_score_1=107/(107+15)
print(precision_score_1)
print(precision_score(y,pred_train,average=None))


recall_score_0=242/(242+15)
print(recall_score_0)
recall_score_1=107/(107+36)
print(recall_score_1)
print(recall_score(y,pred_train,average=None))


f1_score_0=(2*recall_score_0*precision_score_0)/(recall_score_0+precision_score_0)
f1_score_1=(2*recall_score_1*precision_score_1)/(recall_score_1+precision_score_1)
print(f1_score_0)
print(f1_score_1)
print(f1_score(y,pred_train,average=None))


acc_score=(242+107)/(242+107+36+15)
print(acc_score)
print(accuracy_score(y,pred_train))


classification_report(y,pred_train)



