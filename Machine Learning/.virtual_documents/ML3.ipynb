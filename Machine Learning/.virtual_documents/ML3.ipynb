import pandas as pd
from sklearn.neighbors import KNeighborsClassifier
from sklearn.metrics import accuracy_score
from sklearn.model_selection import train_test_split








df=pd.read_csv("G:/dataset/classification/fruits.csv")
X=df.iloc[:,:-1].values
y=df.iloc[:,-1].values
model=KNeighborsClassifier()
model.fit(X,y)
y_pred=model.predict(X)
print("Accuracy Score of Model:- ",accuracy_score(y,y_pred))





df=pd.read_csv("G:/dataset/classification/fruits.csv")
X=df.iloc[:,:-1].values
y=df.iloc[:,-1].values
X_train,X_test,y_train,y_test=train_test_split(X,y,test_size=.33,random_state=1)
model=KNeighborsClassifier()
model.fit(X_train,y_train)
train_pred=model.predict(X_train)
test_pred=model.predict(X_test)
print("Accuracy Score of Training Data:- ",accuracy_score(y_train,train_pred))
print("Accuracy Score of Testing Data:- ",accuracy_score(y_test,test_pred))



