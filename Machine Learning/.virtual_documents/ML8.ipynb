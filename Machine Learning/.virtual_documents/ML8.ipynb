


from sklearn.datasets import load_wine
from sklearn.preprocessing import StandardScaler
from sklearn.model_selection import train_test_split
from sklearn.metrics import accuracy_score,precision_score,recall_score,confusion_matrix,f1_score,classification_report
from sklearn.neighbors import KNeighborsClassifier


df=load_wine()
X=df.data
y=df.target
feature_names=df.feature_names
target=df.target


print(df.DESCR)
# print(df.feature_names)
# print(df.target_names)


X_train,X_test,y_train,y_test=train_test_split(X,y,test_size=.33,random_state=1)
st=StandardScaler()
X_train_new=st.fit_transform(X_train)
X_test_new=st.transform(X_test)
model=KNeighborsClassifier()
model.fit(X_train_new,y_train)
pred_train=model.predict(X_train_new)
pred_test=model.predict(X_test_new)
print('Accuracy Score of Training:- ',accuracy_score(y_train,pred_train))
print('Accuracy Score of Testing:- ',accuracy_score(y_test,pred_test))





from sklearn.feature_selection import f_classif


df=load_wine()
X=df.data
y=df.target
feature_names=df.feature_names
target=df.target
f_value,p_value=f_classif(X,y)
z=[i for i,j in enumerate(f_value) if j>90]
X_new=X[:,z]
X_train,X_test,y_train,y_test=train_test_split(X_new,y,test_size=.33,random_state=1)
st=StandardScaler()
X_train_new=st.fit_transform(X_train)
X_test_new=st.transform(X_test)
model=KNeighborsClassifier()
model.fit(X_train_new,y_train)
pred_train=model.predict(X_train_new)
pred_test=model.predict(X_test_new)
print('Accuracy Score of Training:- ',accuracy_score(y_train,pred_train))
print('Accuracy Score of Testing:- ',accuracy_score(y_test,pred_test))


confusion_matrix(y_train,pred_train)


p1=35/35
p2=48/48
p3=35/36
print(p1,'\n',p2,'\n',p3)
print(precision_score(y_train,pred_train,average=None))
r1=35/35
r2=48/49
r3=35/35
print(r1,'\n',r2,'\n',r3)
print(recall_score(y_train,pred_train,average=None))
f1_1=(2*p1*r1)/(p1+r1)
f1_2=(2*p2*r2)/(p2+r2)
f1_3=(2*p3*r3)/(p3+r3)
print(f1_1,'\n',f1_2,'\n',f1_3)
print(f1_score(y_train,pred_train,average=None))
acc_score=(35+48+35)/(35+49+35)
print(accuracy_score(y_train,pred_train))


print(classification_report(y_train,pred_train))


confusion_matrix(y_test,pred_test)


p1=13/13
p2=16/16
p3=9/9
print(p1,'\n',p2,'\n',p3)
print(precision_score(y_test,pred_test,average=None))
r1=13/13
r2=16/16
r3=9/9
print(r1,'\n',r2,'\n',r3)
print(recall_score(y_test,pred_test,average=None))
f1_1=(2*p1*r1)/(p1+r1)
f1_2=(2*p2*r2)/(p2+r2)
f1_3=(2*p3*r3)/(p3+r3)
print(f1_1,'\n',f1_2,'\n',f1_3)
print(f1_score(y_test,pred_test,average=None))
acc_score=(13+16+9)/(13+16+9)
print(accuracy_score(y_test,pred_test))


print(classification_report(y_test,pred_test))



