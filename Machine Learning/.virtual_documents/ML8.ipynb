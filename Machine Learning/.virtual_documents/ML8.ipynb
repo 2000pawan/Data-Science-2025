


from sklearn.datasets import load_wine
from sklearn.preprocessing import StandardScaler
from sklearn.model_selection import train_test_split
from sklearn.metrics import accuracy_score,precision_score,recall_score,confusion_matrix,f1_score,classification_report
from sklearn.neighbors import KNeighborsClassifier


df=load_wine()
X=df.data
y=df.target
feature_names=df.feature_names
target=df.target


print(df.DESCR)
# print(df.feature_names)
# print(df.target_names)


X_train,X_test,y_train,y_test=train_test_split(X,y,test_size=.33,random_state=1)
st=StandardScaler()
X_train_new=st.fit_transform(X_train)
X_test_new=st.transform(X_test)
model=KNeighborsClassifier()
model.fit(X_train_new,y_train)
pred_train=model.predict(X_train_new)
pred_test=model.predict(X_test_new)
print('Accuracy Score of Training:- ',accuracy_score(y_train,pred_train))
print('Accuracy Score of Testing:- ',accuracy_score(y_test,pred_test))





from sklearn.feature_selection import f_classif


df=load_wine()
X=df.data
y=df.target
feature_names=df.feature_names
target=df.target
f_value,p_value=f_classif(X,y)
z=[i for i,j in enumerate(f_value) if j>90]
X_new=X[:,z]
X_train,X_test,y_train,y_test=train_test_split(X_new,y,test_size=.33,random_state=1)
st=StandardScaler()
X_train_new=st.fit_transform(X_train)
X_test_new=st.transform(X_test)
model=KNeighborsClassifier()
model.fit(X_train_new,y_train)
pred_train=model.predict(X_train_new)
pred_test=model.predict(X_test_new)
print('Accuracy Score of Training:- ',accuracy_score(y_train,pred_train))
print('Accuracy Score of Testing:- ',accuracy_score(y_test,pred_test))


confusion_matrix(y,pred_train)



