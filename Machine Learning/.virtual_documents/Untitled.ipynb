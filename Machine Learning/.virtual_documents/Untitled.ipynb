


import joblib as jb


model=jb.load('model.pkl')
sc=jb.load('standard_scale.pkl')


input=sc.transform([[168,82,35,0,28,0.67,49]])
model.predict(input)


inp=sc.transform([[111.   ,  72.   ,  28.   ,   0.   ,  23.9  ,   0.407,  27.   ]])
model.predict(inp)



