





import pandas as pd
import numpy as np
import matplotlib.pyplot as plt
import joblib as jb
from sklearn.neighbors import KNeighborsClassifier
from sklearn.metrics import accuracy_score,confusion_matrix,classification_report
from sklearn.model_selection import train_test_split
from sklearn.preprocessing import StandardScaler
import seaborn as sb


df=pd.read_csv('diabetes.csv')
df.shape
df.info
df.Outcome.value_counts()
print(df.describe())
print(df.isnull().sum())
df.columns


df.drop(columns=['Pregnancies'],inplace=True)
df.corr()
df.head(5)


# Plot heatmap
plt.figure(figsize=(10, 8))
sb.heatmap(df.corr(), annot=True, cmap="coolwarm", fmt=".2f")
plt.title("Feature Correlation Heatmap")
plt.show()



sb.pairplot(df, hue="Outcome", diag_kind="kde")
plt.show()



plt.figure(figsize=(15, 10))
for i, column in enumerate(df.columns[:-1]):  # Exclude the Outcome column
    plt.subplot(3, 3, i+1)  # Adjust rows/columns based on number of features
    sb.boxplot(x=df["Outcome"], y=df[column])
    plt.title(f"Distribution of {column} by Outcome")
plt.tight_layout()
plt.show()



plt.figure(figsize=(15, 10))
for i, column in enumerate(df.columns[:-1]):
    plt.subplot(3, 3, i+1)
    sb.violinplot(x=df["Outcome"], y=df[column])
    plt.title(f"{column} vs Outcome")
plt.tight_layout()
plt.show()



X=df.iloc[:,:-1].values
y=df.iloc[:,-1].values
X_train,X_test,y_train,y_test=train_test_split(X,y,random_state=1)
sc=StandardScaler()
X_train_new=sc.fit_transform(X_train)
X_test_new=sc.transform(X_test)
model=KNeighborsClassifier()
model.fit(X_train_new,y_train)
pred_train=model.predict(X_train_new)
pred_test=model.predict(X_test_new)
print('Accuracy Score of training:- ',accuracy_score(y_train,pred_train))
print('Accuracy Score of testing:- ',accuracy_score(y_test,pred_test))


confusion_matrix(y_train,pred_train)


print(classification_report(y_train,pred_train))


jb.dump(model,'model.pkl')


jb.dump(sc,'standard_scale.pkl')


X_train[1]


y_train[1]



