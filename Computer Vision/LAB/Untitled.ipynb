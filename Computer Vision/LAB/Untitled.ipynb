{
 "cells": [
  {
   "cell_type": "code",
   "execution_count": 3,
   "id": "d6164c3d-d95e-4ade-8cc8-24b337705d17",
   "metadata": {},
   "outputs": [],
   "source": [
    "import numpy as np\n",
    "import cv2 as cv\n",
    "\n",
    "img=cv.imread(\"che.png\")\n",
    "gray=cv.cvtColor(img,cv.COLOR_BGR2GRAY)\n",
    "\n",
    "gray=np.float32(gray)\n",
    "dst=cv.cornerHarris(gray,2,3,0.04)\n",
    "\n",
    "dst=cv.dilate(dst,None)\n",
    "\n",
    "img[dst>0.01*dst.max()]=[0,0,255]\n",
    "\n",
    "cv.imshow('dst',img)\n",
    "cv.waitKey(0)\n",
    "cv.destroyAllWindows()"
   ]
  },
  {
   "cell_type": "code",
   "execution_count": null,
   "id": "a8a31497-e371-4527-86fa-d7c28c5b31e7",
   "metadata": {},
   "outputs": [],
   "source": []
  }
 ],
 "metadata": {
  "kernelspec": {
   "display_name": "Python 3 (ipykernel)",
   "language": "python",
   "name": "python3"
  },
  "language_info": {
   "codemirror_mode": {
    "name": "ipython",
    "version": 3
   },
   "file_extension": ".py",
   "mimetype": "text/x-python",
   "name": "python",
   "nbconvert_exporter": "python",
   "pygments_lexer": "ipython3",
   "version": "3.12.7"
  }
 },
 "nbformat": 4,
 "nbformat_minor": 5
}
