{
 "cells": [
  {
   "cell_type": "markdown",
   "id": "20fc3c8f-74b9-4f25-bfb7-223961eff181",
   "metadata": {},
   "source": [
    "## Pre-trained models in opencv\n",
    ">also known as haar(rectangle) cascade classifier.\n",
    "\n",
    ">all models are trained using AdaBoost algorithm.\n",
    "\n",
    ">all models are saved into xml format."
   ]
  },
  {
   "cell_type": "code",
   "execution_count": null,
   "id": "5d8a9a80-b760-4b47-825b-cfeb51271a04",
   "metadata": {},
   "outputs": [],
   "source": []
  }
 ],
 "metadata": {
  "kernelspec": {
   "display_name": "Python 3 (ipykernel)",
   "language": "python",
   "name": "python3"
  },
  "language_info": {
   "codemirror_mode": {
    "name": "ipython",
    "version": 3
   },
   "file_extension": ".py",
   "mimetype": "text/x-python",
   "name": "python",
   "nbconvert_exporter": "python",
   "pygments_lexer": "ipython3",
   "version": "3.12.7"
  }
 },
 "nbformat": 4,
 "nbformat_minor": 5
}
