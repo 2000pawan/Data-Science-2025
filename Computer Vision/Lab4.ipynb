{
 "cells": [
  {
   "cell_type": "code",
   "execution_count": 3,
   "id": "3941291d-9b18-463e-89f6-6f2738ccbf5f",
   "metadata": {},
   "outputs": [],
   "source": [
    "import cv2 as cv\n",
    "vid=cv.VideoCapture(0)\n",
    "while (True):\n",
    "    ret,frame=vid.read()\n",
    "    cv.imshow('frame',frame)\n",
    "    if cv.waitKey(1) & 0xFF ==ord('q'):\n",
    "        break\n",
    "vid.release()\n",
    "cv.destroyAllWindows()"
   ]
  },
  {
   "cell_type": "code",
   "execution_count": null,
   "id": "bd703194-5675-4203-8132-728d8da42341",
   "metadata": {},
   "outputs": [],
   "source": [
    "import numpy as np\n",
    "import cv2 as cv\n",
    "import glob\n",
    "criteria=(cv.TermCriteria_EPS+cv.TermCriteria_MAX_ITER,30,0.001)\n",
    "objp=np.zeros((6*7,3),np.float32)\n",
    "objp[:,:2]=np.mgrid[0:7,0:6].T.reshape(-1,2)\n",
    "objpoints=[]\n",
    "imgpoints=[]\n",
    "images=glob.glob('chess.jpg')\n",
    "for fname in images:\n",
    "    img=cv.imread(fname)\n",
    "    gray=cv.cvtColor(img,cv.COLOR_BGR2GRAY)\n",
    "    ret,corners=cv.findChessboardCorners(gray,(7,6),None)\n",
    "    if ret == True:\n",
    "        objpoints.append(objp)\n",
    "        corners2=cv.cornerSubPix(gray,corners,(11,11),(-1,-1),criteria)\n",
    "        imgpoints.append(corners2)\n",
    "        cv.drawChessboardCorners(img,(7,6),corners2,ret)\n",
    "        cv.imshow('img',img)\n",
    "        cv.waitKey(0)\n",
    "        cv.destroyAllWindows()"
   ]
  },
  {
   "cell_type": "code",
   "execution_count": 1,
   "id": "4fe0671b-a441-4444-9e55-73a8b6c4e918",
   "metadata": {},
   "outputs": [
    {
     "name": "stdout",
     "output_type": "stream",
     "text": [
      "Found 1 Faces!\n",
      "Found 1 Faces!\n",
      "Found 1 Faces!\n"
     ]
    }
   ],
   "source": [
    "import cv2\n",
    "cap=cv2.VideoCapture(0)\n",
    "face=cv2.CascadeClassifier(\"haarcascade_frontalface_default.xml\")\n",
    "while (True):\n",
    "    ret,frame=cap.read()\n",
    "    gray=cv2.cvtColor(frame,cv2.COLOR_BGR2GRAY)\n",
    "    faces=face.detectMultiScale(\n",
    "        gray,\n",
    "        scaleFactor=1.1,\n",
    "        minNeighbors=5,\n",
    "        minSize=(30,30)\n",
    "    )\n",
    "    print(\"Found {0} Faces!\".format(len(faces)))\n",
    "    for (x,y,w,h) in faces:\n",
    "        cv2.rectangle(frame,(x,y),(x+w,y+h),(0,255,0),2)\n",
    "    cv2.imshow('Frame',frame)\n",
    "    if cv2.waitKey(10000) & 0xFF==ord('q'):\n",
    "        break\n",
    "cap.release()\n",
    "cv2.destroyAllWindows()"
   ]
  },
  {
   "cell_type": "code",
   "execution_count": null,
   "id": "0686d36e-a11e-430d-b019-7cfe02f57dd8",
   "metadata": {},
   "outputs": [],
   "source": []
  }
 ],
 "metadata": {
  "kernelspec": {
   "display_name": "Python 3 (ipykernel)",
   "language": "python",
   "name": "python3"
  },
  "language_info": {
   "codemirror_mode": {
    "name": "ipython",
    "version": 3
   },
   "file_extension": ".py",
   "mimetype": "text/x-python",
   "name": "python",
   "nbconvert_exporter": "python",
   "pygments_lexer": "ipython3",
   "version": "3.12.7"
  }
 },
 "nbformat": 4,
 "nbformat_minor": 5
}
