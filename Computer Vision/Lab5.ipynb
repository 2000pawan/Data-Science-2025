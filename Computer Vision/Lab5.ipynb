{
 "cells": [
  {
   "cell_type": "code",
   "execution_count": 10,
   "id": "2d9c0137-a504-4506-af60-daec154c4200",
   "metadata": {},
   "outputs": [],
   "source": [
    "import cv2 as cv\n",
    "import numpy as np\n",
    "img=cv.imread('00019.jpg')\n",
    "rows,cols=img.shape[:2]\n",
    "M=cv.getRotationMatrix2D((cols/2,rows/2),270,1)\n",
    "dst=cv.warpAffine(img,M,(cols,rows))\n",
    "cv.imshow('Rotated_img',dst)\n",
    "cv.waitKey(0)\n",
    "cv.destroyAllWindows()"
   ]
  },
  {
   "cell_type": "code",
   "execution_count": null,
   "id": "dd4e50ad-236d-407b-add7-7262578bcefc",
   "metadata": {},
   "outputs": [],
   "source": [
    "import cv2 as cv\n",
    "import numpy as np\n",
    "img=cv.imread('00019.jpg')\n",
    "rows,cols=img.shape[:3]\n",
    "M=cv.getRotationMatrix3D((cols/3,rows/32j),90,1)\n",
    "dst=cv.warpAffine(img,M,(cols,rows))\n",
    "cv.imshow('Rotated_img',dst)\n",
    "cv.waitKey(0)\n",
    "cv.destroyAllWindows()"
   ]
  }
 ],
 "metadata": {
  "kernelspec": {
   "display_name": "Python 3 (ipykernel)",
   "language": "python",
   "name": "python3"
  },
  "language_info": {
   "codemirror_mode": {
    "name": "ipython",
    "version": 3
   },
   "file_extension": ".py",
   "mimetype": "text/x-python",
   "name": "python",
   "nbconvert_exporter": "python",
   "pygments_lexer": "ipython3",
   "version": "3.12.7"
  }
 },
 "nbformat": 4,
 "nbformat_minor": 5
}
