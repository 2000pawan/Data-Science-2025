import cv2
import numpy as np


img=cv2.imread("E:/Facebook/12141.jpg",0)
cv2.imshow('Win',img)
cv2.waitKey()
cv2.destroyAllWindows()


img=cv2.imread("E:/Facebook/12141.jpg")
img1 = cv2.cvtColor(img, cv2.COLOR_BGR2GRAY)
cv2.imwrite('12141.jpg',img1)
cv2.imshow('Win',img1)
cv2.waitKey()
cv2.destroyAllWindows()


img_gray = cv2.imread("12141.jpg", cv2.IMREAD_GRAYSCALE)
img2 = cv2.cvtColor(img_gray, cv2.COLOR_BGR2RGB)
cv2.imshow('Win', img2)
cv2.waitKey(0)
cv2.destroyAllWindows()



