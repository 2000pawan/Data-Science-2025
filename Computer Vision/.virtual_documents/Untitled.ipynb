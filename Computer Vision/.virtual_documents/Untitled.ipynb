import cv2 as cv
import numpy as np
import matplotlib.pyplot as plt


img=cv.imread('00019.jpg',0)
rows,cols=img.shape
m=np.float32([[1,0,100],[0,1,50]])
dst=cv.warpAffine(img,m,(cols,rows))
cv.imshow('img',dst)
cv.waitKey(0)
cv.destroyAllWindows()


im=cv.imread("00019.jpg")
rows,cols,ch=im.shape
pts1=np.float32([[50,50],[200,50],[50,200]])
pts2=np.float32([[10,100],[200,50],[100,250]])
m=cv.getAffineTransform(pts1,pts2)
dst=cv.warpAffine(im,m,(cols,rows))
plt.subplot(121),plt.imshow(im),plt.title('Input Image')
plt.subplot(122),plt.imshow(dst),plt.title('Output Image')
plt.show()





why cv is so difficult provide 6 real world eg of cv and explain it 
explain epipoler geometry in detail 
explain in short fourier transformation and justify its properties
define binocular streopsis with the help of neat diagram also explain its characteristics 
how homography helpfull in computer graphics and animation processes 



