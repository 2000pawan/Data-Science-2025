import cv2 as cv
import numpy as np
import matplotlib.pyplot as plt


img=cv.imread('00019.jpg',0)
rows,cols=img.shape
m=np.float32([[1,0,100],[0,1,50]])
dst=cv.warpAffine(img,m,(cols,rows))
cv.imshow('img',dst)
cv.waitKey(0)
cv.destroyAllWindows()


im=cv.imread("00019.jpg")
rows,cols,ch=im.shape
pts1=np.float32([[50,50],[200,50],[50,200]])
pts2=np.float32([[10,100],[200,50],[100,250]])
m=cv.getAffineTransform(pts1,pts2)
dst=cv.warpAffine(im,m,(cols,rows))
plt.subplot(121),plt.imshow(im),plt.title('Input Image')
plt.subplot(122),plt.imshow(dst),plt.title('Output Image')
plt.show()


im=cv.imread("00019.jpg")
rows,cols,ch=im.shape
pts1=np.float32([[56,65],[368,52],[28,387],[389,390]])
pts2=np.float32([[0,0],[300,0],[0,300],[300,300]])
m=cv.getPerspectiveTransform(pts1,pts2)
dst=cv.warpPerspective(im,m,(cols,rows))
plt.subplot(121),plt.imshow(im),plt.title('Input Image')
plt.subplot(122),plt.imshow(dst),plt.title('Output Image')
plt.show()



