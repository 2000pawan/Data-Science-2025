import cv2


img=cv2.imread('00019.jpg')
cv2.namedWindow('clr',cv2.WINDOW_NORMAL)
cv2.imshow('clr',img1)
cv2.waitkey()
cv2.destroyAllWindows()



