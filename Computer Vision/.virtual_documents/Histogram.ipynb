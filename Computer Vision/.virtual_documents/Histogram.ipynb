grey_level=[0,1,2,3,4,5,6,7]
pixel_value=[8,9,6,4,11,10,15,3]
n=sum(pixel_value)
pdf=[i/n for i in pixel_value]
sk=pdf[0]
cdf=[]
for i in pdf[1:]:
    sk+=i
    cdf.append(sk)
cdf.insert(0,pdf[0])
sk_7=[round(i*7) for i in cdf]
he={}
for i,j in zip(sk_7,pixel_value):
    if i in he.keys():
        he[i]+=j
    else:
        he[i]=j


import matplotlib.pyplot as plt
import seaborn as sn
plt.hist(x=grey_level,y=pixel_value,color='red')
plt.show()


he



