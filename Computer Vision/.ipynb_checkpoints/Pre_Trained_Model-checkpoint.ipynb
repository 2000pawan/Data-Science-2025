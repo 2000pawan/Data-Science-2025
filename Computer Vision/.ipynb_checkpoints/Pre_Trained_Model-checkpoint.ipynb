{
 "cells": [
  {
   "cell_type": "markdown",
   "id": "20fc3c8f-74b9-4f25-bfb7-223961eff181",
   "metadata": {},
   "source": [
    "## Pre-trained models in opencv\n",
    ">also known as haar(rectangle) cascade classifier.\n",
    "\n",
    ">all models are trained using AdaBoost algorithm.\n",
    "\n",
    ">all models are saved into xml format."
   ]
  },
  {
   "cell_type": "code",
   "execution_count": 16,
   "id": "5d8a9a80-b760-4b47-825b-cfeb51271a04",
   "metadata": {},
   "outputs": [],
   "source": [
    "import cv2\n",
    "model=cv2.CascadeClassifier('haarcascade_frontalface_default.xml')\n",
    "img=cv2.imread('img.jpg')\n",
    "img=cv2.resize(img,(600,600))\n",
    "gray=cv2.cvtColor(img,cv2.COLOR_BGR2GRAY)\n",
    "faces=model.detectMultiScale(gray)\n",
    "for x,y,w,h in faces:\n",
    "    cv2.rectangle(img,(x,y),(x+w,y+h),(0,0,255),2)\n",
    "cv2.imshow('img',img)\n",
    "cv2.waitKey(5000)\n",
    "cv2.destroyAllWindows()"
   ]
  },
  {
   "cell_type": "code",
   "execution_count": 18,
   "id": "e09d6aea-5531-4aaa-8014-e6bdf2891d42",
   "metadata": {},
   "outputs": [],
   "source": [
    "import cv2\n",
    "model=cv2.CascadeClassifier('haarcascade_frontalface_default.xml')\n",
    "img=cv2.imread('img.jpg')\n",
    "img=cv2.resize(img,(600,600))\n",
    "gray=cv2.cvtColor(img,cv2.COLOR_BGR2GRAY)\n",
    "faces=model.detectMultiScale(gray,minSize=(80,80),maxSize=(150,150),minNeighbors=5,scaleFactor=1.05)\n",
    "for x,y,w,h in faces:\n",
    "    cv2.rectangle(img,(x,y),(x+w,y+h),(0,0,255),2)\n",
    "cv2.imshow('img',img)\n",
    "cv2.waitKey(5000)\n",
    "cv2.destroyAllWindows()"
   ]
  },
  {
   "cell_type": "code",
   "execution_count": 20,
   "id": "21f23591-e916-4c3b-a3d9-755b9fb11189",
   "metadata": {},
   "outputs": [],
   "source": [
    "import cv2\n",
    "vdo=cv2.VideoCapture(0)\n",
    "model=cv2.CascadeClassifier('haarcascade_frontalface_default.xml')\n",
    "while True:\n",
    "    isimg,img=vdo.read()\n",
    "    if isimg==False:\n",
    "        break\n",
    "    img=cv2.resize(img,(600,600))\n",
    "    gray=cv2.cvtColor(img,cv2.COLOR_BGR2GRAY)\n",
    "    faces=model.detectMultiScale(gray)\n",
    "    for x,y,w,h in faces:\n",
    "        cv2.rectangle(img,(x,y),(x+w,y+h),(0,0,255),2)\n",
    "    cv2.imshow('img',img)\n",
    "    key=cv2.waitKey(50)\n",
    "    if key==ord('c'):\n",
    "        break\n",
    "cv2.destroyAllWindows()\n",
    "vdo.release()"
   ]
  },
  {
   "cell_type": "code",
   "execution_count": 32,
   "id": "8dfa641b-6651-466b-bfbd-ab0562e44d89",
   "metadata": {},
   "outputs": [],
   "source": [
    "import cv2\n",
    "model_eye=cv2.CascadeClassifier('haarcascade_eye.xml')\n",
    "model_faces=cv2.CascadeClassifier('haarcascade_frontalface_default.xml')\n",
    "img=cv2.imread('img.jpg')\n",
    "img=cv2.resize(img,(800,800))\n",
    "gray=cv2.cvtColor(img,cv2.COLOR_BGR2GRAY)\n",
    "eye=model_eye.detectMultiScale(gray)\n",
    "faces=model_faces.detectMultiScale(gray)\n",
    "for x,y,w,h in eye:\n",
    "    cv2.rectangle(img,(x,y),(x+w,y+h),(0,0,255),2)\n",
    "for x,y,w,h in faces:\n",
    "    cv2.rectangle(img,(x,y),(x+w,y+h),(255,0,255),2)\n",
    "cv2.imshow('img',img)\n",
    "cv2.waitKey(5000)\n",
    "cv2.destroyAllWindows()"
   ]
  },
  {
   "cell_type": "code",
   "execution_count": 54,
   "id": "db5fa92e-bb91-4559-8d5e-477ba364d80c",
   "metadata": {},
   "outputs": [],
   "source": [
    "import cv2\n",
    "vdo=cv2.VideoCapture(0)\n",
    "model_eye=cv2.CascadeClassifier('haarcascade_eye.xml')\n",
    "model_faces=cv2.CascadeClassifier('haarcascade_frontalface_default.xml')\n",
    "while True:\n",
    "    isimg,img=vdo.read()\n",
    "    if isimg==False:\n",
    "        break\n",
    "    img=cv2.resize(img,(800,800))\n",
    "    img=cv2.convertScaleAbs(img,beta=-15)\n",
    "    gray=cv2.cvtColor(img,cv2.COLOR_BGR2GRAY)\n",
    "    eye=model_eye.detectMultiScale(gray,minSize=(40,40),maxSize=(50,50),minNeighbors=5)\n",
    "    faces=model_faces.detectMultiScale(gray)\n",
    "    for x,y,w,h in eye:\n",
    "        cv2.rectangle(img,(x,y),(x+w,y+h),(0,0,255),2)\n",
    "    for x,y,w,h in faces:\n",
    "        cv2.rectangle(img,(x,y),(x+w,y+h),(0,0,255),2)\n",
    "    img1=cv2.putText(img,'Pawan Yadav',(350,45),cv2.FONT_HERSHEY_PLAIN,2,(0,0,255),2)\n",
    "    cv2.imshow('img',img1)\n",
    "    key=cv2.waitKey(50)\n",
    "    if key==ord('c'):\n",
    "        break\n",
    "cv2.destroyAllWindows()\n",
    "vdo.release()"
   ]
  },
  {
   "cell_type": "code",
   "execution_count": null,
   "id": "e7d86174-fe55-4132-98c8-c1cc607e7e32",
   "metadata": {},
   "outputs": [],
   "source": []
  }
 ],
 "metadata": {
  "kernelspec": {
   "display_name": "Python 3 (ipykernel)",
   "language": "python",
   "name": "python3"
  },
  "language_info": {
   "codemirror_mode": {
    "name": "ipython",
    "version": 3
   },
   "file_extension": ".py",
   "mimetype": "text/x-python",
   "name": "python",
   "nbconvert_exporter": "python",
   "pygments_lexer": "ipython3",
   "version": "3.12.7"
  }
 },
 "nbformat": 4,
 "nbformat_minor": 5
}
