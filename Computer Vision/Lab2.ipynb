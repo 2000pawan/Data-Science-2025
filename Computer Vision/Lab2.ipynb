{
 "cells": [
  {
   "cell_type": "code",
   "execution_count": 2,
   "id": "5a1a2edb-6f93-4f68-ab8a-28a1f4525572",
   "metadata": {},
   "outputs": [],
   "source": [
    "import cv2\n",
    "import numpy as np"
   ]
  },
  {
   "cell_type": "code",
   "execution_count": 3,
   "id": "780f7b10-0e7a-4f16-b478-dee63c7e1cf2",
   "metadata": {},
   "outputs": [
    {
     "name": "stdout",
     "output_type": "stream",
     "text": [
      "(890, 712, 3)\n"
     ]
    }
   ],
   "source": [
    "img=cv2.imread(\"E:/Facebook/12141.jpg\")\n",
    "print(img.shape)\n",
    "cv2.imshow('Win',img)\n",
    "cv2.waitKey()\n",
    "cv2.destroyAllWindows()"
   ]
  },
  {
   "cell_type": "code",
   "execution_count": 4,
   "id": "13d841be-9a00-4276-b154-764f99515a95",
   "metadata": {},
   "outputs": [],
   "source": [
    "img=cv2.imread(\"E:/Facebook/12141.jpg\")\n",
    "img1 = cv2.cvtColor(img, cv2.COLOR_BGR2GRAY)\n",
    "cv2.imwrite('12141.jpg',img1)\n",
    "cv2.imshow('Win',img1)\n",
    "cv2.waitKey()\n",
    "cv2.destroyAllWindows()"
   ]
  },
  {
   "cell_type": "code",
   "execution_count": 5,
   "id": "2387e984-481e-468d-bd72-d75818e428b1",
   "metadata": {},
   "outputs": [],
   "source": [
    "img=cv2.imread(\"12141.jpg\",1)\n",
    "# img1 = cv2.cvtColor(img, cv2.COLOR_GRAY2RGB)\n",
    "# cv2.imwrite('12141.jpg',img1)\n",
    "cv2.imshow('Win',img)\n",
    "cv2.waitKey()\n",
    "cv2.destroyAllWindows()"
   ]
  },
  {
   "cell_type": "code",
   "execution_count": 10,
   "id": "819be82d-aad3-403b-b8cb-1b501d00731d",
   "metadata": {},
   "outputs": [
    {
     "name": "stdout",
     "output_type": "stream",
     "text": [
      "Original shape: (938, 1500, 3)\n",
      "Grayscale shape: (938, 1500)\n",
      "Gray-to-color shape: (938, 1500, 3)\n"
     ]
    }
   ],
   "source": [
    "\n",
    "# Read a color image (3 channels)\n",
    "img = cv2.imread(\"00019.jpg\")\n",
    "\n",
    "# Convert to grayscale (1 channel)\n",
    "gray = cv2.cvtColor(img, cv2.COLOR_BGR2GRAY)\n",
    "\n",
    "# Convert grayscale back to \"color\" (3 channels, but still grayscale)\n",
    "gray_to_color = cv2.cvtColor(gray, cv2.COLOR_GRAY2BGR)\n",
    "\n",
    "# Check shapes\n",
    "print(\"Original shape:\", img.shape)          # (H, W, 3)\n",
    "print(\"Grayscale shape:\", gray.shape)        # (H, W)\n",
    "print(\"Gray-to-color shape:\", gray_to_color.shape)  # (H, W, 3)\n",
    "\n",
    "# All channels in `gray_to_color` are the same (no color)\n",
    "cv2.imshow(\"Gray-to-Color (Looks Grayscale)\", gray_to_color)\n",
    "cv2.waitKey(0)\n",
    "cv2.destroyAllWindows()"
   ]
  },
  {
   "cell_type": "code",
   "execution_count": 17,
   "id": "90d644d2-1a5d-4193-bc0c-75482c2b8820",
   "metadata": {},
   "outputs": [
    {
     "ename": "error",
     "evalue": "OpenCV(4.11.0) d:\\a\\opencv-python\\opencv-python\\opencv\\modules\\imgproc\\src\\color.simd_helpers.hpp:92: error: (-15:Bad number of channels) in function '__cdecl cv::impl::`anonymous-namespace'::CvtHelper<struct cv::impl::`anonymous namespace'::Set<1,-1,-1>,struct cv::impl::A0x6a3ea619::Set<3,4,-1>,struct cv::impl::A0x6a3ea619::Set<0,2,5>,4>::CvtHelper(const class cv::_InputArray &,const class cv::_OutputArray &,int)'\n> Invalid number of channels in input image:\n>     'VScn::contains(scn)'\n> where\n>     'scn' is 3\n",
     "output_type": "error",
     "traceback": [
      "\u001b[1;31m---------------------------------------------------------------------------\u001b[0m",
      "\u001b[1;31merror\u001b[0m                                     Traceback (most recent call last)",
      "Cell \u001b[1;32mIn[17], line 2\u001b[0m\n\u001b[0;32m      1\u001b[0m img\u001b[38;5;241m=\u001b[39mcv2\u001b[38;5;241m.\u001b[39mimread(\u001b[38;5;124m\"\u001b[39m\u001b[38;5;124mmale_5.jpg\u001b[39m\u001b[38;5;124m\"\u001b[39m)\n\u001b[1;32m----> 2\u001b[0m img1 \u001b[38;5;241m=\u001b[39m cv2\u001b[38;5;241m.\u001b[39mcvtColor(img, cv2\u001b[38;5;241m.\u001b[39mCOLOR_GRAY2RGB)\n\u001b[0;32m      3\u001b[0m cv2\u001b[38;5;241m.\u001b[39mimshow(\u001b[38;5;124m'\u001b[39m\u001b[38;5;124mWin\u001b[39m\u001b[38;5;124m'\u001b[39m,img1)\n\u001b[0;32m      4\u001b[0m cv2\u001b[38;5;241m.\u001b[39mwaitKey()\n",
      "\u001b[1;31merror\u001b[0m: OpenCV(4.11.0) d:\\a\\opencv-python\\opencv-python\\opencv\\modules\\imgproc\\src\\color.simd_helpers.hpp:92: error: (-15:Bad number of channels) in function '__cdecl cv::impl::`anonymous-namespace'::CvtHelper<struct cv::impl::`anonymous namespace'::Set<1,-1,-1>,struct cv::impl::A0x6a3ea619::Set<3,4,-1>,struct cv::impl::A0x6a3ea619::Set<0,2,5>,4>::CvtHelper(const class cv::_InputArray &,const class cv::_OutputArray &,int)'\n> Invalid number of channels in input image:\n>     'VScn::contains(scn)'\n> where\n>     'scn' is 3\n"
     ]
    }
   ],
   "source": [
    "img=cv2.imread(\"male_5.jpg\")\n",
    "img1 = cv2.cvtColor(img, cv2.COLOR_GRAY2RGB)\n",
    "cv2.imshow('Win',img1)\n",
    "cv2.waitKey()\n",
    "cv2.destroyAllWindows()"
   ]
  },
  {
   "cell_type": "code",
   "execution_count": null,
   "id": "f7c5d48b-37ba-4374-80d0-21e40af2db40",
   "metadata": {},
   "outputs": [],
   "source": []
  }
 ],
 "metadata": {
  "kernelspec": {
   "display_name": "Python 3 (ipykernel)",
   "language": "python",
   "name": "python3"
  },
  "language_info": {
   "codemirror_mode": {
    "name": "ipython",
    "version": 3
   },
   "file_extension": ".py",
   "mimetype": "text/x-python",
   "name": "python",
   "nbconvert_exporter": "python",
   "pygments_lexer": "ipython3",
   "version": "3.12.7"
  }
 },
 "nbformat": 4,
 "nbformat_minor": 5
}
