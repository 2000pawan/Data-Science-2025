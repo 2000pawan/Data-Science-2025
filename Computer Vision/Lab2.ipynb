{
 "cells": [
  {
   "cell_type": "code",
   "execution_count": 2,
   "id": "5a1a2edb-6f93-4f68-ab8a-28a1f4525572",
   "metadata": {},
   "outputs": [],
   "source": [
    "import cv2\n",
    "import numpy as np"
   ]
  },
  {
   "cell_type": "code",
   "execution_count": 4,
   "id": "780f7b10-0e7a-4f16-b478-dee63c7e1cf2",
   "metadata": {},
   "outputs": [],
   "source": [
    "img=cv2.imread(\"E:/Facebook/12141.jpg\",0)\n",
    "cv2.imshow('Win',img)\n",
    "cv2.waitKey()\n",
    "cv2.destroyAllWindows()"
   ]
  },
  {
   "cell_type": "code",
   "execution_count": 6,
   "id": "13d841be-9a00-4276-b154-764f99515a95",
   "metadata": {},
   "outputs": [],
   "source": [
    "img=cv2.imread(\"E:/Facebook/12141.jpg\")\n",
    "img1 = cv2.cvtColor(img, cv2.COLOR_BGR2GRAY)\n",
    "cv2.imwrite('12141.jpg',img1)\n",
    "cv2.imshow('Win',img1)\n",
    "cv2.waitKey()\n",
    "cv2.destroyAllWindows()"
   ]
  },
  {
   "cell_type": "code",
   "execution_count": 16,
   "id": "aed49a06-8aab-43c6-b017-0c429f96798f",
   "metadata": {},
   "outputs": [],
   "source": [
    "img=cv2.imread(\"12141.jpg\",1)\n",
    "# cv2.imwrite('12141.jpg',img2)\n",
    "cv2.imshow('Win',img)\n",
    "cv2.waitKey()\n",
    "cv2.destroyAllWindows()"
   ]
  },
  {
   "cell_type": "code",
   "execution_count": null,
   "id": "2dd15425-cc49-4f6c-a79a-31cf5ce1633f",
   "metadata": {},
   "outputs": [],
   "source": []
  }
 ],
 "metadata": {
  "kernelspec": {
   "display_name": "Python 3 (ipykernel)",
   "language": "python",
   "name": "python3"
  },
  "language_info": {
   "codemirror_mode": {
    "name": "ipython",
    "version": 3
   },
   "file_extension": ".py",
   "mimetype": "text/x-python",
   "name": "python",
   "nbconvert_exporter": "python",
   "pygments_lexer": "ipython3",
   "version": "3.12.7"
  }
 },
 "nbformat": 4,
 "nbformat_minor": 5
}
