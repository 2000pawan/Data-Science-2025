{
 "cells": [
  {
   "cell_type": "markdown",
   "id": "ba11514b-cc88-46d9-9c39-a3a1da412261",
   "metadata": {},
   "source": [
    "## Computer Vision "
   ]
  },
  {
   "cell_type": "markdown",
   "id": "46eb9b5b-f167-4bd4-8b56-40397f17b9d1",
   "metadata": {},
   "source": [
    "## Computer Vision is used to preprocess image and video for model Training."
   ]
  },
  {
   "cell_type": "code",
   "execution_count": 1,
   "id": "fd26fdba-c948-46b7-b017-b969de149e29",
   "metadata": {},
   "outputs": [],
   "source": [
    "import cv2 as cv\n",
    "import numpy as np\n",
    "import matplotlib.pyplot as plt"
   ]
  },
  {
   "cell_type": "markdown",
   "id": "9e2bc589-58a9-4fa6-b9db-144a067d1d57",
   "metadata": {},
   "source": [
    "## cv.resize is used to resize an image that take two argument (img,(width,height))"
   ]
  },
  {
   "cell_type": "code",
   "execution_count": 3,
   "id": "0c596ccc-4c1e-485c-b77a-c7a3c6422310",
   "metadata": {},
   "outputs": [],
   "source": [
    "img=cv.imread('img.jpg')\n",
    "img=cv.resize(img,(600,600))\n",
    "cv.imshow('clr',img)\n",
    "cv.waitKey(10000)\n",
    "cv.destroyAllWindows()"
   ]
  },
  {
   "cell_type": "code",
   "execution_count": 4,
   "id": "107fd07d-e15f-493b-8d1d-69a9fd2db610",
   "metadata": {},
   "outputs": [],
   "source": [
    "img1=cv.imread('img.jpg')\n",
    "img1=cv.resize(img1,(400,400))"
   ]
  },
  {
   "cell_type": "markdown",
   "id": "81ab0c8f-a82a-45a3-8663-b559cbc1aa55",
   "metadata": {},
   "source": [
    "## cv.flip is used to flip the image into three\n",
    "- 1. Horizontal flip(mirror)\n",
    "- 2. verticle flip (mirror)\n",
    "- 3. both horizontal & vertical used \n",
    "(0,-1,1)"
   ]
  },
  {
   "cell_type": "code",
   "execution_count": 7,
   "id": "e696e326-6eba-44f9-aeee-99abb5ed9651",
   "metadata": {},
   "outputs": [],
   "source": [
    "cv.imshow('img1',img1)\n",
    "img2=cv.flip(img1,-1)\n",
    "cv.imshow('img2',img2)\n",
    "img3=cv.flip(img1,0)\n",
    "cv.imshow('img3',img3)\n",
    "img4=cv.flip(img1,1)\n",
    "cv.imshow('img4',img4)\n",
    "cv.waitKey(5000)\n",
    "cv.destroyAllWindows()"
   ]
  },
  {
   "cell_type": "markdown",
   "id": "533153ef-d973-401c-ad4a-5daf6a8a0e41",
   "metadata": {},
   "source": [
    "## cv.split() is used to split channels "
   ]
  },
  {
   "cell_type": "code",
   "execution_count": 9,
   "id": "ae112444-098a-40e4-b26f-3adc17c1ebf8",
   "metadata": {},
   "outputs": [
    {
     "name": "stdout",
     "output_type": "stream",
     "text": [
      "Blue channel array\n",
      " [[205 206 206 ... 208 208 208]\n",
      " [205 206 206 ... 208 208 208]\n",
      " [205 206 206 ... 208 208 208]\n",
      " ...\n",
      " [111 116 125 ...  37  37  37]\n",
      " [116 120 128 ...  38  39  39]\n",
      " [119 123 130 ...  39  39  39]]\n",
      "=========================================================\n",
      "Green channel array\n",
      " [[183 184 184 ... 187 187 187]\n",
      " [183 184 184 ... 187 187 187]\n",
      " [183 184 184 ... 187 187 187]\n",
      " ...\n",
      " [133 138 147 ...  45  45  45]\n",
      " [138 142 150 ...  46  47  47]\n",
      " [141 145 152 ...  47  47  47]]\n",
      "=========================================================\n",
      "Red channel array\n",
      " [[165 166 166 ... 156 156 156]\n",
      " [165 166 166 ... 156 156 156]\n",
      " [165 166 166 ... 156 156 156]\n",
      " ...\n",
      " [138 143 152 ...  52  52  52]\n",
      " [143 147 155 ...  53  54  54]\n",
      " [146 150 157 ...  54  54  54]]\n"
     ]
    }
   ],
   "source": [
    "img1=cv.imread('img.jpg')\n",
    "b,g,r=cv.split(img1)\n",
    "print('Blue channel array\\n',b)\n",
    "print('=========================================================')\n",
    "print('Green channel array\\n',g)\n",
    "print('=========================================================')\n",
    "print('Red channel array\\n',r)"
   ]
  },
  {
   "cell_type": "code",
   "execution_count": 22,
   "id": "b7c84b94-52e6-4f3e-8bcd-fd779fe22f0c",
   "metadata": {},
   "outputs": [],
   "source": [
    "img=cv.imread('img.jpg')\n",
    "img=cv.resize(img,(400,400))"
   ]
  },
  {
   "cell_type": "markdown",
   "id": "520496f4-d4a8-4ebc-9626-1599c422bcc6",
   "metadata": {},
   "source": [
    "## cv.convertScaleAbs is used to increase contrast and brightness of an image where alpha is used to increase contrast and beta is used to increase brightness."
   ]
  },
  {
   "cell_type": "code",
   "execution_count": 43,
   "id": "e39c1c72-638f-4af0-bd1c-f083c9cb94a8",
   "metadata": {},
   "outputs": [],
   "source": [
    "cv.imshow('img',img)\n",
    "img1=cv.convertScaleAbs(img,alpha=2) #contrast\n",
    "cv.imshow('img1',img1)\n",
    "cv.waitKey(5000)\n",
    "cv.destroyAllWindows()"
   ]
  },
  {
   "cell_type": "code",
   "execution_count": 67,
   "id": "af9afc88-0c65-4b3b-add8-a685e5d1e823",
   "metadata": {},
   "outputs": [],
   "source": [
    "img=cv.imread('img.jpg')\n",
    "img=cv.resize(img,(400,400))"
   ]
  },
  {
   "cell_type": "code",
   "execution_count": 86,
   "id": "85d57870-5f22-4f01-a334-94eae8654e6c",
   "metadata": {},
   "outputs": [],
   "source": [
    "cv.imshow('img',img)\n",
    "img1=cv.convertScaleAbs(img,beta=-15) #Brightness\n",
    "cv.imwrite('pawanimg.jpg',img1)\n",
    "cv.imshow('img1',img1)\n",
    "cv.waitKey(5000)\n",
    "cv.destroyAllWindows()"
   ]
  },
  {
   "cell_type": "code",
   "execution_count": 125,
   "id": "11dce984-4412-4fcf-bd71-cf7fe58f1224",
   "metadata": {},
   "outputs": [],
   "source": [
    "img=cv.imread('img.jpg')\n",
    "img=cv.resize(img,(600,600))"
   ]
  },
  {
   "cell_type": "markdown",
   "id": "9f337446-7ace-4012-9cd6-b9658a2711b2",
   "metadata": {},
   "source": [
    "## cv.line is used to draw liine into image\n",
    "## cv.rectangle is used to draw rectangle into image\n",
    "## cv.putText is used to write anything on the image"
   ]
  },
  {
   "cell_type": "code",
   "execution_count": 128,
   "id": "638ab669-dfb5-4ea2-b433-6587b4361730",
   "metadata": {},
   "outputs": [],
   "source": [
    "line=cv.line(img,(150,30),(350,30),(0,0,255),2)\n",
    "cv.imshow('line',line)\n",
    "cv.waitKey(5000)\n",
    "cv.destroyAllWindows()"
   ]
  },
  {
   "cell_type": "code",
   "execution_count": 339,
   "id": "772c4527-1dbb-4baa-8a75-f32d320874bd",
   "metadata": {},
   "outputs": [],
   "source": [
    "img=cv.imread('img.jpg')\n",
    "img=cv.resize(img,(600,600))"
   ]
  },
  {
   "cell_type": "code",
   "execution_count": 342,
   "id": "2c50eb70-33ea-4714-bf03-6a5133da3a5c",
   "metadata": {},
   "outputs": [],
   "source": [
    "rectangle=cv.rectangle(img,(170,35),(330,200),(0,0,255),2)\n",
    "cv.circle(rectangle,(330,450),(95),(0,0,255),2)\n",
    "cv.putText(rectangle,'Pawan Yadav',(350,45),cv.FONT_HERSHEY_PLAIN,2,(0,0,255),2)\n",
    "cv.imshow('rectangle',rectangle)\n",
    "cv.waitKey(5000)\n",
    "cv.destroyAllWindows()"
   ]
  },
  {
   "cell_type": "code",
   "execution_count": null,
   "id": "bde763dd-6867-48be-8dd6-d0d719ef54a6",
   "metadata": {},
   "outputs": [],
   "source": []
  }
 ],
 "metadata": {
  "kernelspec": {
   "display_name": "Python 3 (ipykernel)",
   "language": "python",
   "name": "python3"
  },
  "language_info": {
   "codemirror_mode": {
    "name": "ipython",
    "version": 3
   },
   "file_extension": ".py",
   "mimetype": "text/x-python",
   "name": "python",
   "nbconvert_exporter": "python",
   "pygments_lexer": "ipython3",
   "version": "3.12.7"
  }
 },
 "nbformat": 4,
 "nbformat_minor": 5
}
