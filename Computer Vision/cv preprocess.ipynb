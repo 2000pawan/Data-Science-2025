{
 "cells": [
  {
   "cell_type": "markdown",
   "id": "ba11514b-cc88-46d9-9c39-a3a1da412261",
   "metadata": {},
   "source": [
    "## Computer Vision "
   ]
  },
  {
   "cell_type": "markdown",
   "id": "46eb9b5b-f167-4bd4-8b56-40397f17b9d1",
   "metadata": {},
   "source": [
    "## Computer Vision is used to preprocess image and video for model Training."
   ]
  },
  {
   "cell_type": "code",
   "execution_count": 4,
   "id": "fd26fdba-c948-46b7-b017-b969de149e29",
   "metadata": {},
   "outputs": [],
   "source": [
    "import cv2 as cv\n",
    "import numpy as np\n",
    "import matplotlib.pyplot as plt"
   ]
  },
  {
   "cell_type": "code",
   "execution_count": 14,
   "id": "0c596ccc-4c1e-485c-b77a-c7a3c6422310",
   "metadata": {},
   "outputs": [],
   "source": [
    "img=cv.imread('img.jpg')\n",
    "img=cv.resize(img,(600,600))\n",
    "cv.imshow('clr',img)\n",
    "cv.waitKey(10000)\n",
    "cv.destroyAllWindows()"
   ]
  },
  {
   "cell_type": "code",
   "execution_count": null,
   "id": "107fd07d-e15f-493b-8d1d-69a9fd2db610",
   "metadata": {},
   "outputs": [],
   "source": []
  }
 ],
 "metadata": {
  "kernelspec": {
   "display_name": "Python 3 (ipykernel)",
   "language": "python",
   "name": "python3"
  },
  "language_info": {
   "codemirror_mode": {
    "name": "ipython",
    "version": 3
   },
   "file_extension": ".py",
   "mimetype": "text/x-python",
   "name": "python",
   "nbconvert_exporter": "python",
   "pygments_lexer": "ipython3",
   "version": "3.12.7"
  }
 },
 "nbformat": 4,
 "nbformat_minor": 5
}
